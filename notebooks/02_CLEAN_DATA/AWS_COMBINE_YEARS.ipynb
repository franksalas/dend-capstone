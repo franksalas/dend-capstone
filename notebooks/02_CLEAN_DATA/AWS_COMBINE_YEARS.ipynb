{
 "cells": [
  {
   "cell_type": "code",
   "execution_count": 1,
   "metadata": {},
   "outputs": [
    {
     "data": {
      "text/html": [
       "        <script type=\"text/javascript\">\n",
       "        window.PlotlyConfig = {MathJaxConfig: 'local'};\n",
       "        if (window.MathJax) {MathJax.Hub.Config({SVG: {font: \"STIX-Web\"}});}\n",
       "        if (typeof require !== 'undefined') {\n",
       "        require.undef(\"plotly\");\n",
       "        requirejs.config({\n",
       "            paths: {\n",
       "                'plotly': ['https://cdn.plot.ly/plotly-2.2.0.min']\n",
       "            }\n",
       "        });\n",
       "        require(['plotly'], function(Plotly) {\n",
       "            window._Plotly = Plotly;\n",
       "        });\n",
       "        }\n",
       "        </script>\n",
       "        "
      ]
     },
     "metadata": {},
     "output_type": "display_data"
    },
    {
     "name": "stdout",
     "output_type": "stream",
     "text": [
      "\n",
      "python\t3.9.6 (default, Jul 30 2021, 16:35:19) \n",
      "[GCC 7.5.0]\n",
      "---------------------\n",
      "Versions:\n",
      "----------------------\n",
      "pandas      1.3.1\n",
      "numpy       1.20.3\n",
      "matplotlib  3.4.2\n",
      "seaborn     0.11.1\n",
      "plotly      5.1.0\n",
      "boto3       1.18.16\n",
      "awswrangler 2.10.0\n",
      "----------------------\n",
      "\n",
      "\n",
      "Loaded Libraries\n",
      "-------------------\n",
      "import pandas as pd\n",
      "import numpy as np\n",
      "import sys,os\n",
      "import re\n",
      "import glob\n",
      "import pickle\n",
      "import seaborn as sns\n",
      "import matplotlib.pyplot as plt\n",
      "import plotly\n",
      "import plotly.graph_objs as go\n",
      "from plotly.offline import download_plotlyjs, init_notebook_mode, plot, iplot\n",
      "init_notebook_mode(connected=True)\n",
      "\n",
      "\n",
      "## AWS\n",
      "import boto3\n",
      "import awswrangler as wr\n",
      "----------------\n",
      "\n",
      "\n",
      "GLOBAL VARIABLES\n",
      "--------------------------\n",
      "# Creating the low level functional client\n",
      "client = boto3.client(\n",
      "    's3',\n",
      "    aws_access_key_id = AWS_KEY_ID,\n",
      "    aws_secret_access_key = AWS_SECRET,\n",
      ")\n",
      "    \n",
      "# Creating the high level object oriented interface\n",
      "resource = boto3.resource(\n",
      "    's3',\n",
      "    aws_access_key_id = AWS_KEY_ID,\n",
      "    aws_secret_access_key = AWS_SECRET,\n",
      ")\n",
      "\n",
      "HERE_DIR: list current directory path\n",
      "------------------------------\n",
      "\n",
      "# SAVE PLOTS\n",
      "To save a plot call\n",
      "`save_plots(fig_variable,'name_of_plot')`\n",
      "\n",
      "source file: src/start.py\n",
      "\n",
      "\n"
     ]
    }
   ],
   "source": [
    "%run ../../src/start.py"
   ]
  },
  {
   "cell_type": "markdown",
   "metadata": {},
   "source": [
    "## Load Data"
   ]
  },
  {
   "cell_type": "code",
   "execution_count": 2,
   "metadata": {},
   "outputs": [],
   "source": [
    "# helper function\n",
    "def bucket_raw_path(bucket_name,path_dir):\n",
    "    ''''''\n",
    "    raw_path = f's3://{bucket_name}/{path_dir}'\n",
    "    return raw_path"
   ]
  },
  {
   "cell_type": "code",
   "execution_count": 3,
   "metadata": {},
   "outputs": [
    {
     "data": {
      "text/plain": [
       "'s3://dend-data/capstone/inter-data/crime-data/'"
      ]
     },
     "execution_count": 3,
     "metadata": {},
     "output_type": "execute_result"
    }
   ],
   "source": [
    "raw = bucket_raw_path('dend-data',f'capstone/inter-data/crime-data/')\n",
    "raw"
   ]
  },
  {
   "cell_type": "markdown",
   "metadata": {},
   "source": [
    "## List objects in bucket"
   ]
  },
  {
   "cell_type": "code",
   "execution_count": 4,
   "metadata": {},
   "outputs": [
    {
     "data": {
      "text/plain": [
       "['s3://dend-data/capstone/inter-data/crime-data/crime_2009.csv',\n",
       " 's3://dend-data/capstone/inter-data/crime-data/crime_2010.csv',\n",
       " 's3://dend-data/capstone/inter-data/crime-data/crime_2011.csv',\n",
       " 's3://dend-data/capstone/inter-data/crime-data/crime_2012.csv',\n",
       " 's3://dend-data/capstone/inter-data/crime-data/crime_2013.csv',\n",
       " 's3://dend-data/capstone/inter-data/crime-data/crime_2014.csv',\n",
       " 's3://dend-data/capstone/inter-data/crime-data/crime_2015.csv',\n",
       " 's3://dend-data/capstone/inter-data/crime-data/crime_2016.csv',\n",
       " 's3://dend-data/capstone/inter-data/crime-data/crime_2017.csv',\n",
       " 's3://dend-data/capstone/inter-data/crime-data/crime_2018.csv']"
      ]
     },
     "execution_count": 4,
     "metadata": {},
     "output_type": "execute_result"
    }
   ],
   "source": [
    "wr.s3.list_objects(raw)"
   ]
  },
  {
   "cell_type": "markdown",
   "metadata": {},
   "source": [
    "## Create dataframe from s3 files"
   ]
  },
  {
   "cell_type": "code",
   "execution_count": 5,
   "metadata": {},
   "outputs": [],
   "source": [
    "def s3_files_to_df(s3_files_path):\n",
    "    ''' load s3 file path from wr result\n",
    "    returns a dataframe of concat files '''\n",
    "    df_list = []\n",
    "    for i in wr.s3.list_objects(s3_files_path):\n",
    "        temp = wr.s3.read_csv(i,)\n",
    "        df_list.append(temp)\n",
    "    # create df from list files\n",
    "    df = pd.concat(df_list, ignore_index=True)\n",
    "    return df"
   ]
  },
  {
   "cell_type": "code",
   "execution_count": 6,
   "metadata": {},
   "outputs": [
    {
     "name": "stdout",
     "output_type": "stream",
     "text": [
      "CPU times: user 2.64 s, sys: 622 ms, total: 3.26 s\n",
      "Wall time: 1min 6s\n"
     ]
    }
   ],
   "source": [
    "%%time\n",
    "df = s3_files_to_df(raw)"
   ]
  },
  {
   "cell_type": "code",
   "execution_count": null,
   "metadata": {},
   "outputs": [],
   "source": []
  },
  {
   "cell_type": "code",
   "execution_count": 7,
   "metadata": {},
   "outputs": [
    {
     "name": "stdout",
     "output_type": "stream",
     "text": [
      "<class 'pandas.core.frame.DataFrame'>\n",
      "RangeIndex: 1126360 entries, 0 to 1126359\n",
      "Data columns (total 10 columns):\n",
      " #   Column        Non-Null Count    Dtype \n",
      "---  ------        --------------    ----- \n",
      " 0   date_time     1126360 non-null  object\n",
      " 1   offenses      1126360 non-null  int64 \n",
      " 2   offense_type  1126360 non-null  object\n",
      " 3   block_range   1126360 non-null  object\n",
      " 4   street_name   1126360 non-null  object\n",
      " 5   type          1126360 non-null  object\n",
      " 6   suffix        1126360 non-null  object\n",
      " 7   beat          1126360 non-null  object\n",
      " 8   premise       1126360 non-null  object\n",
      " 9   year          1126360 non-null  int64 \n",
      "dtypes: int64(2), object(8)\n",
      "memory usage: 85.9+ MB\n"
     ]
    }
   ],
   "source": [
    "df.info()\n",
    "#1,126,359"
   ]
  },
  {
   "cell_type": "code",
   "execution_count": 8,
   "metadata": {},
   "outputs": [
    {
     "data": {
      "text/html": [
       "<div>\n",
       "<style scoped>\n",
       "    .dataframe tbody tr th:only-of-type {\n",
       "        vertical-align: middle;\n",
       "    }\n",
       "\n",
       "    .dataframe tbody tr th {\n",
       "        vertical-align: top;\n",
       "    }\n",
       "\n",
       "    .dataframe thead th {\n",
       "        text-align: right;\n",
       "    }\n",
       "</style>\n",
       "<table border=\"1\" class=\"dataframe\">\n",
       "  <thead>\n",
       "    <tr style=\"text-align: right;\">\n",
       "      <th></th>\n",
       "      <th>date_time</th>\n",
       "      <th>offenses</th>\n",
       "      <th>offense_type</th>\n",
       "      <th>block_range</th>\n",
       "      <th>street_name</th>\n",
       "      <th>type</th>\n",
       "      <th>suffix</th>\n",
       "      <th>beat</th>\n",
       "      <th>premise</th>\n",
       "      <th>year</th>\n",
       "    </tr>\n",
       "  </thead>\n",
       "  <tbody>\n",
       "    <tr>\n",
       "      <th>0</th>\n",
       "      <td>2009-08-01 00:00:00</td>\n",
       "      <td>1</td>\n",
       "      <td>Robbery</td>\n",
       "      <td>3000-3099</td>\n",
       "      <td>DURHAM</td>\n",
       "      <td>DR</td>\n",
       "      <td>N</td>\n",
       "      <td>3B30</td>\n",
       "      <td>210</td>\n",
       "      <td>2009</td>\n",
       "    </tr>\n",
       "    <tr>\n",
       "      <th>1</th>\n",
       "      <td>2009-08-01 00:00:00</td>\n",
       "      <td>1</td>\n",
       "      <td>Robbery</td>\n",
       "      <td>500-599</td>\n",
       "      <td>SEMINAR</td>\n",
       "      <td>DR</td>\n",
       "      <td>-</td>\n",
       "      <td>6B60</td>\n",
       "      <td>20A</td>\n",
       "      <td>2009</td>\n",
       "    </tr>\n",
       "    <tr>\n",
       "      <th>2</th>\n",
       "      <td>2009-08-01 00:00:00</td>\n",
       "      <td>1</td>\n",
       "      <td>Robbery</td>\n",
       "      <td>8300-8399</td>\n",
       "      <td>NORTH HOUSTON ROSSLYN</td>\n",
       "      <td>RD</td>\n",
       "      <td>-</td>\n",
       "      <td>6B30</td>\n",
       "      <td>18N</td>\n",
       "      <td>2009</td>\n",
       "    </tr>\n",
       "    <tr>\n",
       "      <th>3</th>\n",
       "      <td>2009-08-01 00:00:00</td>\n",
       "      <td>1</td>\n",
       "      <td>Robbery</td>\n",
       "      <td>6300-6399</td>\n",
       "      <td>SKYLINE</td>\n",
       "      <td>DR</td>\n",
       "      <td>-</td>\n",
       "      <td>18F30</td>\n",
       "      <td>18A</td>\n",
       "      <td>2009</td>\n",
       "    </tr>\n",
       "    <tr>\n",
       "      <th>4</th>\n",
       "      <td>2009-08-01 00:00:00</td>\n",
       "      <td>1</td>\n",
       "      <td>Robbery</td>\n",
       "      <td>5900-5999</td>\n",
       "      <td>FULTON</td>\n",
       "      <td>ST</td>\n",
       "      <td>-</td>\n",
       "      <td>2A20</td>\n",
       "      <td>18N</td>\n",
       "      <td>2009</td>\n",
       "    </tr>\n",
       "  </tbody>\n",
       "</table>\n",
       "</div>"
      ],
      "text/plain": [
       "             date_time  offenses offense_type block_range  \\\n",
       "0  2009-08-01 00:00:00         1      Robbery   3000-3099   \n",
       "1  2009-08-01 00:00:00         1      Robbery     500-599   \n",
       "2  2009-08-01 00:00:00         1      Robbery   8300-8399   \n",
       "3  2009-08-01 00:00:00         1      Robbery   6300-6399   \n",
       "4  2009-08-01 00:00:00         1      Robbery   5900-5999   \n",
       "\n",
       "             street_name type suffix   beat premise  year  \n",
       "0                 DURHAM   DR      N   3B30     210  2009  \n",
       "1                SEMINAR   DR      -   6B60     20A  2009  \n",
       "2  NORTH HOUSTON ROSSLYN   RD      -   6B30     18N  2009  \n",
       "3                SKYLINE   DR      -  18F30     18A  2009  \n",
       "4                 FULTON   ST      -   2A20     18N  2009  "
      ]
     },
     "execution_count": 8,
     "metadata": {},
     "output_type": "execute_result"
    }
   ],
   "source": [
    "df.head()"
   ]
  },
  {
   "cell_type": "markdown",
   "metadata": {},
   "source": [
    "## Show null data"
   ]
  },
  {
   "cell_type": "code",
   "execution_count": 9,
   "metadata": {},
   "outputs": [
    {
     "data": {
      "text/plain": [
       "date_time       0\n",
       "offenses        0\n",
       "offense_type    0\n",
       "block_range     0\n",
       "street_name     0\n",
       "type            0\n",
       "suffix          0\n",
       "beat            0\n",
       "premise         0\n",
       "year            0\n",
       "dtype: int64"
      ]
     },
     "execution_count": 9,
     "metadata": {},
     "output_type": "execute_result"
    }
   ],
   "source": [
    "df.apply(lambda x: sum(x.isnull()))"
   ]
  },
  {
   "cell_type": "code",
   "execution_count": 10,
   "metadata": {},
   "outputs": [
    {
     "data": {
      "text/html": [
       "<div>\n",
       "<style scoped>\n",
       "    .dataframe tbody tr th:only-of-type {\n",
       "        vertical-align: middle;\n",
       "    }\n",
       "\n",
       "    .dataframe tbody tr th {\n",
       "        vertical-align: top;\n",
       "    }\n",
       "\n",
       "    .dataframe thead th {\n",
       "        text-align: right;\n",
       "    }\n",
       "</style>\n",
       "<table border=\"1\" class=\"dataframe\">\n",
       "  <thead>\n",
       "    <tr style=\"text-align: right;\">\n",
       "      <th></th>\n",
       "      <th>null_percent</th>\n",
       "    </tr>\n",
       "  </thead>\n",
       "  <tbody>\n",
       "    <tr>\n",
       "      <th>date_time</th>\n",
       "      <td>0.0</td>\n",
       "    </tr>\n",
       "    <tr>\n",
       "      <th>offenses</th>\n",
       "      <td>0.0</td>\n",
       "    </tr>\n",
       "    <tr>\n",
       "      <th>offense_type</th>\n",
       "      <td>0.0</td>\n",
       "    </tr>\n",
       "    <tr>\n",
       "      <th>block_range</th>\n",
       "      <td>0.0</td>\n",
       "    </tr>\n",
       "    <tr>\n",
       "      <th>street_name</th>\n",
       "      <td>0.0</td>\n",
       "    </tr>\n",
       "    <tr>\n",
       "      <th>type</th>\n",
       "      <td>0.0</td>\n",
       "    </tr>\n",
       "    <tr>\n",
       "      <th>suffix</th>\n",
       "      <td>0.0</td>\n",
       "    </tr>\n",
       "    <tr>\n",
       "      <th>beat</th>\n",
       "      <td>0.0</td>\n",
       "    </tr>\n",
       "    <tr>\n",
       "      <th>premise</th>\n",
       "      <td>0.0</td>\n",
       "    </tr>\n",
       "    <tr>\n",
       "      <th>year</th>\n",
       "      <td>0.0</td>\n",
       "    </tr>\n",
       "  </tbody>\n",
       "</table>\n",
       "</div>"
      ],
      "text/plain": [
       "              null_percent\n",
       "date_time              0.0\n",
       "offenses               0.0\n",
       "offense_type           0.0\n",
       "block_range            0.0\n",
       "street_name            0.0\n",
       "type                   0.0\n",
       "suffix                 0.0\n",
       "beat                   0.0\n",
       "premise                0.0\n",
       "year                   0.0"
      ]
     },
     "execution_count": 10,
     "metadata": {},
     "output_type": "execute_result"
    }
   ],
   "source": [
    "# create null percentage of column as dataframe\n",
    "null_per_df = pd.DataFrame(df.isna().mean().round(4) * 100)\n",
    "# rename columns\n",
    "null_per_df.rename(columns={'index': 'col_name', 0: 'null_percent'}, inplace=True)\n",
    "\n",
    "# filter data <20% null values\n",
    "per_filter = null_per_df.null_percent<=90\n",
    "null_per_df[per_filter].sort_values(by='null_percent',ascending=False)"
   ]
  },
  {
   "cell_type": "code",
   "execution_count": 11,
   "metadata": {},
   "outputs": [
    {
     "data": {
      "image/png": "[encoded data removed]",
      "text/plain": [
       "<Figure size 1500x400 with 1 Axes>"
      ]
     },
     "metadata": {},
     "output_type": "display_data"
    }
   ],
   "source": [
    "plt.figure(figsize=(15,4))\n",
    "sns.heatmap(df.isnull(),yticklabels=False,cbar=False,cmap='viridis')\n",
    "plt.title('Missing data')\n",
    "plt.show()"
   ]
  },
  {
   "cell_type": "code",
   "execution_count": 12,
   "metadata": {},
   "outputs": [
    {
     "name": "stdout",
     "output_type": "stream",
     "text": [
      "<class 'pandas.core.frame.DataFrame'>\n",
      "RangeIndex: 1126360 entries, 0 to 1126359\n",
      "Data columns (total 10 columns):\n",
      " #   Column        Non-Null Count    Dtype \n",
      "---  ------        --------------    ----- \n",
      " 0   date_time     1126360 non-null  object\n",
      " 1   offenses      1126360 non-null  int64 \n",
      " 2   offense_type  1126360 non-null  object\n",
      " 3   block_range   1126360 non-null  object\n",
      " 4   street_name   1126360 non-null  object\n",
      " 5   type          1126360 non-null  object\n",
      " 6   suffix        1126360 non-null  object\n",
      " 7   beat          1126360 non-null  object\n",
      " 8   premise       1126360 non-null  object\n",
      " 9   year          1126360 non-null  int64 \n",
      "dtypes: int64(2), object(8)\n",
      "memory usage: 85.9+ MB\n"
     ]
    }
   ],
   "source": [
    "df.info()"
   ]
  },
  {
   "cell_type": "code",
   "execution_count": 13,
   "metadata": {},
   "outputs": [
    {
     "data": {
      "text/html": [
       "<div>\n",
       "<style scoped>\n",
       "    .dataframe tbody tr th:only-of-type {\n",
       "        vertical-align: middle;\n",
       "    }\n",
       "\n",
       "    .dataframe tbody tr th {\n",
       "        vertical-align: top;\n",
       "    }\n",
       "\n",
       "    .dataframe thead th {\n",
       "        text-align: right;\n",
       "    }\n",
       "</style>\n",
       "<table border=\"1\" class=\"dataframe\">\n",
       "  <thead>\n",
       "    <tr style=\"text-align: right;\">\n",
       "      <th></th>\n",
       "      <th>date_time</th>\n",
       "      <th>offenses</th>\n",
       "      <th>offense_type</th>\n",
       "      <th>block_range</th>\n",
       "      <th>street_name</th>\n",
       "      <th>type</th>\n",
       "      <th>suffix</th>\n",
       "      <th>beat</th>\n",
       "      <th>premise</th>\n",
       "      <th>year</th>\n",
       "    </tr>\n",
       "  </thead>\n",
       "  <tbody>\n",
       "    <tr>\n",
       "      <th>0</th>\n",
       "      <td>2009-08-01 00:00:00</td>\n",
       "      <td>1</td>\n",
       "      <td>Robbery</td>\n",
       "      <td>3000-3099</td>\n",
       "      <td>DURHAM</td>\n",
       "      <td>DR</td>\n",
       "      <td>N</td>\n",
       "      <td>3B30</td>\n",
       "      <td>210</td>\n",
       "      <td>2009</td>\n",
       "    </tr>\n",
       "    <tr>\n",
       "      <th>1</th>\n",
       "      <td>2009-08-01 00:00:00</td>\n",
       "      <td>1</td>\n",
       "      <td>Robbery</td>\n",
       "      <td>500-599</td>\n",
       "      <td>SEMINAR</td>\n",
       "      <td>DR</td>\n",
       "      <td>-</td>\n",
       "      <td>6B60</td>\n",
       "      <td>20A</td>\n",
       "      <td>2009</td>\n",
       "    </tr>\n",
       "    <tr>\n",
       "      <th>2</th>\n",
       "      <td>2009-08-01 00:00:00</td>\n",
       "      <td>1</td>\n",
       "      <td>Robbery</td>\n",
       "      <td>8300-8399</td>\n",
       "      <td>NORTH HOUSTON ROSSLYN</td>\n",
       "      <td>RD</td>\n",
       "      <td>-</td>\n",
       "      <td>6B30</td>\n",
       "      <td>18N</td>\n",
       "      <td>2009</td>\n",
       "    </tr>\n",
       "    <tr>\n",
       "      <th>3</th>\n",
       "      <td>2009-08-01 00:00:00</td>\n",
       "      <td>1</td>\n",
       "      <td>Robbery</td>\n",
       "      <td>6300-6399</td>\n",
       "      <td>SKYLINE</td>\n",
       "      <td>DR</td>\n",
       "      <td>-</td>\n",
       "      <td>18F30</td>\n",
       "      <td>18A</td>\n",
       "      <td>2009</td>\n",
       "    </tr>\n",
       "    <tr>\n",
       "      <th>4</th>\n",
       "      <td>2009-08-01 00:00:00</td>\n",
       "      <td>1</td>\n",
       "      <td>Robbery</td>\n",
       "      <td>5900-5999</td>\n",
       "      <td>FULTON</td>\n",
       "      <td>ST</td>\n",
       "      <td>-</td>\n",
       "      <td>2A20</td>\n",
       "      <td>18N</td>\n",
       "      <td>2009</td>\n",
       "    </tr>\n",
       "  </tbody>\n",
       "</table>\n",
       "</div>"
      ],
      "text/plain": [
       "             date_time  offenses offense_type block_range  \\\n",
       "0  2009-08-01 00:00:00         1      Robbery   3000-3099   \n",
       "1  2009-08-01 00:00:00         1      Robbery     500-599   \n",
       "2  2009-08-01 00:00:00         1      Robbery   8300-8399   \n",
       "3  2009-08-01 00:00:00         1      Robbery   6300-6399   \n",
       "4  2009-08-01 00:00:00         1      Robbery   5900-5999   \n",
       "\n",
       "             street_name type suffix   beat premise  year  \n",
       "0                 DURHAM   DR      N   3B30     210  2009  \n",
       "1                SEMINAR   DR      -   6B60     20A  2009  \n",
       "2  NORTH HOUSTON ROSSLYN   RD      -   6B30     18N  2009  \n",
       "3                SKYLINE   DR      -  18F30     18A  2009  \n",
       "4                 FULTON   ST      -   2A20     18N  2009  "
      ]
     },
     "execution_count": 13,
     "metadata": {},
     "output_type": "execute_result"
    }
   ],
   "source": [
    "df.head()"
   ]
  },
  {
   "cell_type": "markdown",
   "metadata": {},
   "source": [
    "## Explore Each Column"
   ]
  },
  {
   "cell_type": "code",
   "execution_count": 14,
   "metadata": {},
   "outputs": [],
   "source": [
    "def create_new_cell(contents):\n",
    "    '''created new jupyter cells by inputing a list of columns\n",
    "    outputs'''\n",
    "    from IPython.core.getipython import get_ipython\n",
    "    shell = get_ipython()\n",
    "    payload = dict(\n",
    "        source='set_next_input',\n",
    "        #text=f'#column:{contents}\\ndf.{contents}.value_counts(dropna=False)[:10]'.format(contents),\n",
    "        text=f'# column:{contents}\\ndf.{contents}.value_counts(dropna=False)[:10]',\n",
    "        replace=False,)\n",
    "    shell.payload_manager.write_payload(payload, single=False)\n",
    "\n",
    "    \n",
    "def strip_col(col):\n",
    "    print(f'column:{col}')\n",
    "    print('before:{}'.format(len(df[col].value_counts(dropna=False))))\n",
    "    df[col] = df[col].str.strip()\n",
    "    print('after:{}'.format(len(df[col].value_counts(dropna=False))))    \n",
    "    \n",
    "def lower_col(col):\n",
    "    print(f'column:{col}')\n",
    "    print('before:{}'.format(len(df[col].value_counts(dropna=False))))\n",
    "    df[col] = df[col].str.lower()\n",
    "    print('after:{}'.format(len(df[col].value_counts(dropna=False))))       \n",
    "    \n",
    "    \n",
    "    \n",
    "def capital_col(col):\n",
    "    print(f'column:{col}')\n",
    "    print('before:{}'.format(len(df[col].value_counts(dropna=False))))\n",
    "    df[col] = df[col].str.capitalize()\n",
    "    print('after:{}'.format(len(df[col].value_counts(dropna=False))))      "
   ]
  },
  {
   "cell_type": "code",
   "execution_count": 15,
   "metadata": {},
   "outputs": [
    {
     "data": {
      "text/plain": [
       "['date_time',\n",
       " 'offenses',\n",
       " 'offense_type',\n",
       " 'block_range',\n",
       " 'street_name',\n",
       " 'type',\n",
       " 'suffix',\n",
       " 'beat',\n",
       " 'premise',\n",
       " 'year']"
      ]
     },
     "execution_count": 15,
     "metadata": {},
     "output_type": "execute_result"
    }
   ],
   "source": [
    "col_list = df.columns.tolist()\n",
    "col_list"
   ]
  },
  {
   "cell_type": "code",
   "execution_count": null,
   "metadata": {},
   "outputs": [],
   "source": []
  },
  {
   "cell_type": "code",
   "execution_count": null,
   "metadata": {},
   "outputs": [],
   "source": [
    "# # only run once\n",
    "# for col in col_list:\n",
    "#     create_new_cell(col)"
   ]
  },
  {
   "cell_type": "code",
   "execution_count": 16,
   "metadata": {},
   "outputs": [
    {
     "data": {
      "text/plain": [
       "2010    136262\n",
       "2013    130459\n",
       "2012    127771\n",
       "2011    127659\n",
       "2016    122693\n",
       "2014    121746\n",
       "2015    120009\n",
       "2017    119727\n",
       "2009     73019\n",
       "2018     47015\n",
       "Name: year, dtype: int64"
      ]
     },
     "execution_count": 16,
     "metadata": {},
     "output_type": "execute_result"
    }
   ],
   "source": [
    "# column:year\n",
    "df.year.value_counts(dropna=False)"
   ]
  },
  {
   "cell_type": "code",
   "execution_count": 17,
   "metadata": {},
   "outputs": [
    {
     "data": {
      "text/plain": [
       "20A                          83938\n",
       "20R                          83671\n",
       "18A                          74712\n",
       "Residence or House           61238\n",
       "Apartment Parking Lot        51280\n",
       "13R                          47282\n",
       "Road, Street, or Sidewalk    44945\n",
       "Apartment                    44529\n",
       "20D                          42393\n",
       "UNK                          33592\n",
       "Name: premise, dtype: int64"
      ]
     },
     "execution_count": 17,
     "metadata": {},
     "output_type": "execute_result"
    }
   ],
   "source": [
    "# column:premise\n",
    "df.premise.value_counts(dropna=False)[:10]"
   ]
  },
  {
   "cell_type": "code",
   "execution_count": 18,
   "metadata": {},
   "outputs": [
    {
     "name": "stdout",
     "output_type": "stream",
     "text": [
      "column:premise\n",
      "before:271\n",
      "after:270\n"
     ]
    }
   ],
   "source": [
    "strip_col('premise')"
   ]
  },
  {
   "cell_type": "code",
   "execution_count": 19,
   "metadata": {},
   "outputs": [
    {
     "name": "stdout",
     "output_type": "stream",
     "text": [
      "column:premise\n",
      "before:270\n",
      "after:270\n"
     ]
    }
   ],
   "source": [
    "lower_col('premise')"
   ]
  },
  {
   "cell_type": "code",
   "execution_count": 20,
   "metadata": {},
   "outputs": [
    {
     "data": {
      "text/plain": [
       "19G10    23944\n",
       "12D10    23799\n",
       "1A20     23521\n",
       "6B60     21736\n",
       "13D20    21343\n",
       "3B10     20458\n",
       "18F20    19765\n",
       "17E10    19263\n",
       "18F40    18550\n",
       "5F30     18549\n",
       "Name: beat, dtype: int64"
      ]
     },
     "execution_count": 20,
     "metadata": {},
     "output_type": "execute_result"
    }
   ],
   "source": [
    "# column:beat\n",
    "df.beat.value_counts(dropna=False)[:10]"
   ]
  },
  {
   "cell_type": "code",
   "execution_count": 21,
   "metadata": {},
   "outputs": [
    {
     "data": {
      "text/plain": [
       "array(['3B30', '6B60', '6B30', '18F30', '2A20', '6B10', '3B50', '19G40',\n",
       "       '14D40', '14D20', '14D30', '1A50', '18F50', '18F20', '9C10',\n",
       "       '1.6e+31', '1A20', '5F20', '5F30', '170000000000', '1.7e+41',\n",
       "       '2A60', '12D70', '20G50', '12D20', '8C50', '20G10', '10H60',\n",
       "       '18F60', '18F40', '5F10', '7C50', '20G30', '1.6e+21', '11H10',\n",
       "       '1.7e+21', '9C40', '20G60', '8C40', '11H30', '20G80', '6B50',\n",
       "       '1.5e+31', '1A30', '10H30', '13D20', '1A10', '19G20', '10H70',\n",
       "       '12D10', '19G10', '3B10', '13D10', '7C30', '19G50', '5F40', 'UNK',\n",
       "       '150000000000', '1.6e+41', '7C20', '14D10', '19G30', '3B40',\n",
       "       '7C40', '21I50', '20G20', '8C10', '11H20', '20G40', '7C10',\n",
       "       '12D50', '6B20', '9C20', '2A50', '2A10', '2A30', '12D30',\n",
       "       '1.5e+41', '12D40', '4F20', '12D60', '14D50', '6B40', '9C30',\n",
       "       '10H20', '10H80', '1.7e+31', '8C30', '13D40', '10H40', '1.5e+21',\n",
       "       '21I30', '24C10', '160000000000', '4F10', '24C40', '2A40', '10H50',\n",
       "       '8C60', '8C20', '11H50', '24C30', '10H10', '11H40', '24C50',\n",
       "       '23J50', '1A40', '20G70', '21I10', '21I20', '4F30', '21I60',\n",
       "       '24C20', '18F10', '21I70', '13D30', '23J40', '15E20', '16E20',\n",
       "       '16E40', '15E30', '17E10', '15E40', '17E40', '16E30', '16E10',\n",
       "       '17E30', '17E20', '15E10', '21I40', '23J30', '7C60', '23J10',\n",
       "       '23J20', '24C60', 'x', 'UH-3P', 'HCSO', 'OOJ', \"'18F20\", \"'1A30\",\n",
       "       \"'14D10\", \"'6B20\", \"'3B40\", \"'2A50\", \"'2A30\", \"'18F30\", \"'13D10\",\n",
       "       \"'8C30\", \"'24C10\", \"'20G10\", \"'19G30\", \"'18F40\", \"'11H30\",\n",
       "       \"'12D10\", \"'10H10\", \"'5F40\", \"'7C50\", \"'21I50\", \"'8C20\", \"'8C60\",\n",
       "       \"'1A50\", \"'20G20\", \"'17E30\", \"'16E20\", \"'20G70\", \"'24C40\",\n",
       "       \"'15E40\", \"'20G30\", \"'1A40\", \"'19G10\", \"'19G50\", \"'4F10\", \"'4F20\",\n",
       "       \"'15E30\", \"'1A20\", \"'8C10\", \"'11H10\", \"'9C20\", \"'6B60\", \"'3B10\",\n",
       "       \"'20G40\", \"'2A20\", \"'10H20\", \"'12D60\", \"'9C40\", \"'UNK\", \"'8C40\",\n",
       "       \"'2A40\", \"'19G20\", \"'6B10\", \"'10H50\", \"'18F60\", \"'16E40\", \"'10H40\",\n",
       "       \"'6B40\", \"'7C30\", \"'6B30\", \"'5F30\", \"'8C50\", \"'1A10\", \"'10H30\",\n",
       "       \"'21I10\", \"'13D40\", \"'19G40\", \"'2A60\", \"'5F20\", \"'17E20\", \"'17E10\",\n",
       "       \"'10H60\", \"'24C30\", \"'11H50\", \"'7C40\", \"'14D20\", \"'12D50\",\n",
       "       \"'12D20\", \"'3B50\", \"'18F50\", \"'13D20\", \"'7C20\", \"'7C10\", \"'24C50\",\n",
       "       \"'15E10\", \"'15E20\", \"'9C10\", \"'12D30\", \"'10H70\", \"'3B30\", \"'16E10\",\n",
       "       \"'17E40\", \"'6B50\", \"'9C30\", \"'10H80\", \"'20G50\", \"'18F10\", \"'14D40\",\n",
       "       \"'11H20\", \"'14D30\", \"'16E30\", \"'2A10\", \"'20G60\", \"'5F10\", \"'20G80\",\n",
       "       \"'12D40\", \"'12D70\", \"'11H40\", \"'24C20\", \"'14D50\", \"'4F30\",\n",
       "       \"'23J50\", '3B20', '22B10', '22B20', '22B30', '22B40'], dtype=object)"
      ]
     },
     "execution_count": 21,
     "metadata": {},
     "output_type": "execute_result"
    }
   ],
   "source": [
    "df.beat.unique()"
   ]
  },
  {
   "cell_type": "code",
   "execution_count": 22,
   "metadata": {},
   "outputs": [],
   "source": [
    "# replace extra ' with empty space\n",
    "df['beat'] = df.beat.str.replace(\"'\", \" \")"
   ]
  },
  {
   "cell_type": "code",
   "execution_count": 23,
   "metadata": {},
   "outputs": [
    {
     "name": "stdout",
     "output_type": "stream",
     "text": [
      "column:beat\n",
      "before:255\n",
      "after:144\n"
     ]
    }
   ],
   "source": [
    "strip_col('beat')"
   ]
  },
  {
   "cell_type": "code",
   "execution_count": 24,
   "metadata": {},
   "outputs": [
    {
     "data": {
      "text/plain": [
       "array(['3B30', '6B60', '6B30', '18F30', '2A20', '6B10', '3B50', '19G40',\n",
       "       '14D40', '14D20', '14D30', '1A50', '18F50', '18F20', '9C10',\n",
       "       '1.6e+31', '1A20', '5F20', '5F30', '170000000000', '1.7e+41',\n",
       "       '2A60', '12D70', '20G50', '12D20', '8C50', '20G10', '10H60',\n",
       "       '18F60', '18F40', '5F10', '7C50', '20G30', '1.6e+21', '11H10',\n",
       "       '1.7e+21', '9C40', '20G60', '8C40', '11H30', '20G80', '6B50',\n",
       "       '1.5e+31', '1A30', '10H30', '13D20', '1A10', '19G20', '10H70',\n",
       "       '12D10', '19G10', '3B10', '13D10', '7C30', '19G50', '5F40', 'UNK',\n",
       "       '150000000000', '1.6e+41', '7C20', '14D10', '19G30', '3B40',\n",
       "       '7C40', '21I50', '20G20', '8C10', '11H20', '20G40', '7C10',\n",
       "       '12D50', '6B20', '9C20', '2A50', '2A10', '2A30', '12D30',\n",
       "       '1.5e+41', '12D40', '4F20', '12D60', '14D50', '6B40', '9C30',\n",
       "       '10H20', '10H80', '1.7e+31', '8C30', '13D40', '10H40', '1.5e+21',\n",
       "       '21I30', '24C10', '160000000000', '4F10', '24C40', '2A40', '10H50',\n",
       "       '8C60', '8C20', '11H50', '24C30', '10H10', '11H40', '24C50',\n",
       "       '23J50', '1A40', '20G70', '21I10', '21I20', '4F30', '21I60',\n",
       "       '24C20', '18F10', '21I70', '13D30', '23J40', '15E20', '16E20',\n",
       "       '16E40', '15E30', '17E10', '15E40', '17E40', '16E30', '16E10',\n",
       "       '17E30', '17E20', '15E10', '21I40', '23J30', '7C60', '23J10',\n",
       "       '23J20', '24C60', 'x', 'UH-3P', 'HCSO', 'OOJ', '3B20', '22B10',\n",
       "       '22B20', '22B30', '22B40'], dtype=object)"
      ]
     },
     "execution_count": 24,
     "metadata": {},
     "output_type": "execute_result"
    }
   ],
   "source": [
    "df.beat.unique()"
   ]
  },
  {
   "cell_type": "code",
   "execution_count": null,
   "metadata": {},
   "outputs": [],
   "source": []
  },
  {
   "cell_type": "code",
   "execution_count": 25,
   "metadata": {},
   "outputs": [
    {
     "data": {
      "text/plain": [
       "-    973810\n",
       "W     63894\n",
       "S     48040\n",
       "N     24473\n",
       "E     16143\n",
       "Name: suffix, dtype: int64"
      ]
     },
     "execution_count": 25,
     "metadata": {},
     "output_type": "execute_result"
    }
   ],
   "source": [
    "# column:suffix\n",
    "df.suffix.value_counts(dropna=False)"
   ]
  },
  {
   "cell_type": "code",
   "execution_count": 26,
   "metadata": {},
   "outputs": [
    {
     "data": {
      "text/plain": [
       "-          272143\n",
       "DR         232326\n",
       "ST         197069\n",
       "RD         172866\n",
       "BLVD        64153\n",
       "FWY         61222\n",
       "LN          43788\n",
       "PKWY        26836\n",
       "AVE         21227\n",
       "FWY SER      8662\n",
       "CT           6917\n",
       "WAY          6885\n",
       "TRL          3988\n",
       "CIR          3052\n",
       "SER          1830\n",
       "HWY          1727\n",
       "PL           1197\n",
       "LP            140\n",
       "BYP            93\n",
       "RAMP           63\n",
       "PASS           47\n",
       "COVE           29\n",
       "VIEW           28\n",
       "PRK            26\n",
       "WALK           11\n",
       "BND             7\n",
       "SQ              6\n",
       "MNR             4\n",
       "PT              4\n",
       "PATH            3\n",
       "UTRN            3\n",
       "TER             3\n",
       "RDG             2\n",
       "GRN             1\n",
       "SPUR            1\n",
       "XING            1\n",
       "Name: type, dtype: int64"
      ]
     },
     "execution_count": 26,
     "metadata": {},
     "output_type": "execute_result"
    }
   ],
   "source": [
    "# column:type\n",
    "df.type.value_counts(dropna=False)"
   ]
  },
  {
   "cell_type": "code",
   "execution_count": null,
   "metadata": {},
   "outputs": [],
   "source": []
  },
  {
   "cell_type": "code",
   "execution_count": 27,
   "metadata": {},
   "outputs": [
    {
     "name": "stdout",
     "output_type": "stream",
     "text": [
      "column:type\n",
      "before:36\n",
      "after:36\n"
     ]
    }
   ],
   "source": [
    "strip_col('type')"
   ]
  },
  {
   "cell_type": "code",
   "execution_count": 28,
   "metadata": {},
   "outputs": [
    {
     "name": "stdout",
     "output_type": "stream",
     "text": [
      "column:type\n",
      "before:36\n",
      "after:36\n"
     ]
    }
   ],
   "source": [
    "lower_col('type')"
   ]
  },
  {
   "cell_type": "markdown",
   "metadata": {},
   "source": [
    "# Street Name\n",
    "- lowercase all to merge"
   ]
  },
  {
   "cell_type": "code",
   "execution_count": 29,
   "metadata": {},
   "outputs": [
    {
     "data": {
      "text/plain": [
       "WESTHEIMER    30169\n",
       "GESSNER       15567\n",
       "GULF          15563\n",
       "NORTH         13966\n",
       "RICHMOND      13682\n",
       "KATY          11114\n",
       "SOUTHWEST     10920\n",
       "MAIN          10212\n",
       "BISSONNET     10160\n",
       "NORTHWEST      9805\n",
       "Name: street_name, dtype: int64"
      ]
     },
     "execution_count": 29,
     "metadata": {},
     "output_type": "execute_result"
    }
   ],
   "source": [
    "# column:street_name\n",
    "df.street_name.value_counts(dropna=False)[:10]"
   ]
  },
  {
   "cell_type": "code",
   "execution_count": 30,
   "metadata": {},
   "outputs": [
    {
     "name": "stdout",
     "output_type": "stream",
     "text": [
      "column:street_name\n",
      "before:28310\n",
      "after:28307\n"
     ]
    }
   ],
   "source": [
    "strip_col('street_name')"
   ]
  },
  {
   "cell_type": "code",
   "execution_count": 31,
   "metadata": {},
   "outputs": [
    {
     "name": "stdout",
     "output_type": "stream",
     "text": [
      "column:street_name\n",
      "before:28307\n",
      "after:28307\n"
     ]
    }
   ],
   "source": [
    "lower_col('street_name')"
   ]
  },
  {
   "cell_type": "code",
   "execution_count": 32,
   "metadata": {},
   "outputs": [
    {
     "data": {
      "text/plain": [
       "900-999      15707\n",
       "100-199      15514\n",
       "800-899      13323\n",
       "700-799      12997\n",
       "2400-2499    12809\n",
       "1000-1099    12652\n",
       "2300-2399    12634\n",
       "7900-7999    12536\n",
       "9400-9499    12465\n",
       "300-399      12284\n",
       "200-299      12249\n",
       "4400-4499    12247\n",
       "500-599      11910\n",
       "9500-9599    11682\n",
       "1500-1599    11676\n",
       "1300-1399    11409\n",
       "2500-2599    11357\n",
       "7500-7599    11244\n",
       "2700-2799    11213\n",
       "1100-1199    11122\n",
       "1200-1299    10914\n",
       "1400-1499    10833\n",
       "600-699      10781\n",
       "5000-5099    10561\n",
       "5800-5899    10382\n",
       "2100-2199    10155\n",
       "5900-5999    10109\n",
       "2000-2099    10099\n",
       "400-499      10058\n",
       "6000-6099     9987\n",
       "Name: block_range, dtype: int64"
      ]
     },
     "execution_count": 32,
     "metadata": {},
     "output_type": "execute_result"
    }
   ],
   "source": [
    "# column:block_range\n",
    "df.block_range.value_counts(dropna=False)[:30]"
   ]
  },
  {
   "cell_type": "code",
   "execution_count": 33,
   "metadata": {},
   "outputs": [
    {
     "name": "stdout",
     "output_type": "stream",
     "text": [
      "column:block_range\n",
      "before:362\n",
      "after:362\n"
     ]
    }
   ],
   "source": [
    "strip_col('block_range')"
   ]
  },
  {
   "cell_type": "code",
   "execution_count": 34,
   "metadata": {},
   "outputs": [
    {
     "data": {
      "text/plain": [
       "Theft                 619262\n",
       "Burglary              204227\n",
       "Auto Theft            100082\n",
       "Aggravated Assault     93928\n",
       "Robbery                86426\n",
       "AutoTheft              12193\n",
       "Rape                    8062\n",
       "Murder                  2166\n",
       "1                         14\n",
       "Name: offense_type, dtype: int64"
      ]
     },
     "execution_count": 34,
     "metadata": {},
     "output_type": "execute_result"
    }
   ],
   "source": [
    "# column:offense_type\n",
    "df.offense_type.value_counts(dropna=False)[:10]"
   ]
  },
  {
   "cell_type": "code",
   "execution_count": 35,
   "metadata": {},
   "outputs": [],
   "source": [
    "# combine Auto Theft & AutoTheft\n",
    "# join Auto Theft & AutoTheft\n",
    "df.offense_type = df.offense_type.replace('AutoTheft','Auto Theft')"
   ]
  },
  {
   "cell_type": "code",
   "execution_count": 36,
   "metadata": {},
   "outputs": [
    {
     "data": {
      "text/plain": [
       "Theft                 619262\n",
       "Burglary              204227\n",
       "Auto Theft            112275\n",
       "Aggravated Assault     93928\n",
       "Robbery                86426\n",
       "Rape                    8062\n",
       "Murder                  2166\n",
       "1                         14\n",
       "Name: offense_type, dtype: int64"
      ]
     },
     "execution_count": 36,
     "metadata": {},
     "output_type": "execute_result"
    }
   ],
   "source": [
    "# column:offense_type\n",
    "df.offense_type.value_counts(dropna=False)[:10]"
   ]
  },
  {
   "cell_type": "code",
   "execution_count": null,
   "metadata": {},
   "outputs": [],
   "source": []
  },
  {
   "cell_type": "markdown",
   "metadata": {},
   "source": [
    "## Find out where the '1' comes from"
   ]
  },
  {
   "cell_type": "code",
   "execution_count": 37,
   "metadata": {},
   "outputs": [
    {
     "data": {
      "text/html": [
       "<div>\n",
       "<style scoped>\n",
       "    .dataframe tbody tr th:only-of-type {\n",
       "        vertical-align: middle;\n",
       "    }\n",
       "\n",
       "    .dataframe tbody tr th {\n",
       "        vertical-align: top;\n",
       "    }\n",
       "\n",
       "    .dataframe thead th {\n",
       "        text-align: right;\n",
       "    }\n",
       "</style>\n",
       "<table border=\"1\" class=\"dataframe\">\n",
       "  <thead>\n",
       "    <tr style=\"text-align: right;\">\n",
       "      <th></th>\n",
       "      <th>date_time</th>\n",
       "      <th>offenses</th>\n",
       "      <th>offense_type</th>\n",
       "      <th>block_range</th>\n",
       "      <th>street_name</th>\n",
       "      <th>type</th>\n",
       "      <th>suffix</th>\n",
       "      <th>beat</th>\n",
       "      <th>premise</th>\n",
       "      <th>year</th>\n",
       "    </tr>\n",
       "  </thead>\n",
       "  <tbody>\n",
       "    <tr>\n",
       "      <th>720454</th>\n",
       "      <td>2015-04-10 18:00:00</td>\n",
       "      <td>1</td>\n",
       "      <td>1</td>\n",
       "      <td>11200-11299</td>\n",
       "      <td>fondren</td>\n",
       "      <td>rd</td>\n",
       "      <td>-</td>\n",
       "      <td>17E40</td>\n",
       "      <td>service or gas station</td>\n",
       "      <td>2015</td>\n",
       "    </tr>\n",
       "    <tr>\n",
       "      <th>741481</th>\n",
       "      <td>2015-12-04 13:00:00</td>\n",
       "      <td>1</td>\n",
       "      <td>1</td>\n",
       "      <td>7800-7899</td>\n",
       "      <td>airport</td>\n",
       "      <td>blvd</td>\n",
       "      <td>W</td>\n",
       "      <td>17E40</td>\n",
       "      <td>apartment</td>\n",
       "      <td>2015</td>\n",
       "    </tr>\n",
       "    <tr>\n",
       "      <th>757411</th>\n",
       "      <td>2015-01-01 00:00:00</td>\n",
       "      <td>1</td>\n",
       "      <td>1</td>\n",
       "      <td>800-899</td>\n",
       "      <td>eastlake</td>\n",
       "      <td>st</td>\n",
       "      <td>-</td>\n",
       "      <td>12D10</td>\n",
       "      <td>unk</td>\n",
       "      <td>2015</td>\n",
       "    </tr>\n",
       "    <tr>\n",
       "      <th>768522</th>\n",
       "      <td>2015-07-30 16:00:00</td>\n",
       "      <td>1</td>\n",
       "      <td>1</td>\n",
       "      <td>8400-8499</td>\n",
       "      <td>tavenor</td>\n",
       "      <td>ln</td>\n",
       "      <td>-</td>\n",
       "      <td>13D40</td>\n",
       "      <td>residence or house</td>\n",
       "      <td>2015</td>\n",
       "    </tr>\n",
       "    <tr>\n",
       "      <th>794512</th>\n",
       "      <td>2015-03-19 21:00:00</td>\n",
       "      <td>1</td>\n",
       "      <td>1</td>\n",
       "      <td>9300-9399</td>\n",
       "      <td>long point</td>\n",
       "      <td>rd</td>\n",
       "      <td>-</td>\n",
       "      <td>4F10</td>\n",
       "      <td>apartment</td>\n",
       "      <td>2015</td>\n",
       "    </tr>\n",
       "    <tr>\n",
       "      <th>796885</th>\n",
       "      <td>2015-04-05 20:00:00</td>\n",
       "      <td>1</td>\n",
       "      <td>1</td>\n",
       "      <td>4900-4999</td>\n",
       "      <td>mckinney</td>\n",
       "      <td>st</td>\n",
       "      <td>-</td>\n",
       "      <td>10H20</td>\n",
       "      <td>road, street, or sidewalk</td>\n",
       "      <td>2015</td>\n",
       "    </tr>\n",
       "    <tr>\n",
       "      <th>816738</th>\n",
       "      <td>2013-08-31 00:00:00</td>\n",
       "      <td>1</td>\n",
       "      <td>1</td>\n",
       "      <td>9200-9299</td>\n",
       "      <td>nyssa</td>\n",
       "      <td>-</td>\n",
       "      <td>-</td>\n",
       "      <td>8C50</td>\n",
       "      <td>unk</td>\n",
       "      <td>2015</td>\n",
       "    </tr>\n",
       "    <tr>\n",
       "      <th>827142</th>\n",
       "      <td>2013-09-27 06:00:00</td>\n",
       "      <td>1</td>\n",
       "      <td>1</td>\n",
       "      <td>1500-1599</td>\n",
       "      <td>bailey st 424</td>\n",
       "      <td>-</td>\n",
       "      <td>-</td>\n",
       "      <td>UNK</td>\n",
       "      <td>apartment</td>\n",
       "      <td>2015</td>\n",
       "    </tr>\n",
       "    <tr>\n",
       "      <th>876904</th>\n",
       "      <td>2015-11-17 00:00:00</td>\n",
       "      <td>1</td>\n",
       "      <td>1</td>\n",
       "      <td>8600-8699</td>\n",
       "      <td>sterlingshire</td>\n",
       "      <td>-</td>\n",
       "      <td>-</td>\n",
       "      <td>8C50</td>\n",
       "      <td>apartment</td>\n",
       "      <td>2016</td>\n",
       "    </tr>\n",
       "    <tr>\n",
       "      <th>888835</th>\n",
       "      <td>2016-07-15 00:00:00</td>\n",
       "      <td>1</td>\n",
       "      <td>1</td>\n",
       "      <td>11200-11299</td>\n",
       "      <td>sageland</td>\n",
       "      <td>dr</td>\n",
       "      <td>-</td>\n",
       "      <td>12D20</td>\n",
       "      <td>residence or house</td>\n",
       "      <td>2016</td>\n",
       "    </tr>\n",
       "    <tr>\n",
       "      <th>896090</th>\n",
       "      <td>2016-07-02 14:00:00</td>\n",
       "      <td>1</td>\n",
       "      <td>1</td>\n",
       "      <td>11600-11699</td>\n",
       "      <td>gessner</td>\n",
       "      <td>rd</td>\n",
       "      <td>N</td>\n",
       "      <td>5F40</td>\n",
       "      <td>residence or house</td>\n",
       "      <td>2016</td>\n",
       "    </tr>\n",
       "    <tr>\n",
       "      <th>929363</th>\n",
       "      <td>2015-06-04 20:00:00</td>\n",
       "      <td>1</td>\n",
       "      <td>1</td>\n",
       "      <td>5600-5699</td>\n",
       "      <td>leeland</td>\n",
       "      <td>-</td>\n",
       "      <td>-</td>\n",
       "      <td>11H10</td>\n",
       "      <td>apartment</td>\n",
       "      <td>2016</td>\n",
       "    </tr>\n",
       "    <tr>\n",
       "      <th>995393</th>\n",
       "      <td>2017-02-15 23:00:00</td>\n",
       "      <td>1</td>\n",
       "      <td>1</td>\n",
       "      <td>1400-1499</td>\n",
       "      <td>dairy ashford</td>\n",
       "      <td>rd</td>\n",
       "      <td>S</td>\n",
       "      <td>20G40</td>\n",
       "      <td>apartment</td>\n",
       "      <td>2017</td>\n",
       "    </tr>\n",
       "    <tr>\n",
       "      <th>997975</th>\n",
       "      <td>2016-12-31 01:00:00</td>\n",
       "      <td>1</td>\n",
       "      <td>1</td>\n",
       "      <td>4200-4299</td>\n",
       "      <td>oak shadows</td>\n",
       "      <td>dr</td>\n",
       "      <td>-</td>\n",
       "      <td>6B20</td>\n",
       "      <td>residence or house</td>\n",
       "      <td>2017</td>\n",
       "    </tr>\n",
       "  </tbody>\n",
       "</table>\n",
       "</div>"
      ],
      "text/plain": [
       "                  date_time  offenses offense_type  block_range  \\\n",
       "720454  2015-04-10 18:00:00         1            1  11200-11299   \n",
       "741481  2015-12-04 13:00:00         1            1    7800-7899   \n",
       "757411  2015-01-01 00:00:00         1            1      800-899   \n",
       "768522  2015-07-30 16:00:00         1            1    8400-8499   \n",
       "794512  2015-03-19 21:00:00         1            1    9300-9399   \n",
       "796885  2015-04-05 20:00:00         1            1    4900-4999   \n",
       "816738  2013-08-31 00:00:00         1            1    9200-9299   \n",
       "827142  2013-09-27 06:00:00         1            1    1500-1599   \n",
       "876904  2015-11-17 00:00:00         1            1    8600-8699   \n",
       "888835  2016-07-15 00:00:00         1            1  11200-11299   \n",
       "896090  2016-07-02 14:00:00         1            1  11600-11699   \n",
       "929363  2015-06-04 20:00:00         1            1    5600-5699   \n",
       "995393  2017-02-15 23:00:00         1            1    1400-1499   \n",
       "997975  2016-12-31 01:00:00         1            1    4200-4299   \n",
       "\n",
       "          street_name  type suffix   beat                    premise  year  \n",
       "720454        fondren    rd      -  17E40     service or gas station  2015  \n",
       "741481        airport  blvd      W  17E40                  apartment  2015  \n",
       "757411       eastlake    st      -  12D10                        unk  2015  \n",
       "768522        tavenor    ln      -  13D40         residence or house  2015  \n",
       "794512     long point    rd      -   4F10                  apartment  2015  \n",
       "796885       mckinney    st      -  10H20  road, street, or sidewalk  2015  \n",
       "816738          nyssa     -      -   8C50                        unk  2015  \n",
       "827142  bailey st 424     -      -    UNK                  apartment  2015  \n",
       "876904  sterlingshire     -      -   8C50                  apartment  2016  \n",
       "888835       sageland    dr      -  12D20         residence or house  2016  \n",
       "896090        gessner    rd      N   5F40         residence or house  2016  \n",
       "929363        leeland     -      -  11H10                  apartment  2016  \n",
       "995393  dairy ashford    rd      S  20G40                  apartment  2017  \n",
       "997975    oak shadows    dr      -   6B20         residence or house  2017  "
      ]
     },
     "execution_count": 37,
     "metadata": {},
     "output_type": "execute_result"
    }
   ],
   "source": [
    "df[df.offense_type.str.contains('1')]"
   ]
  },
  {
   "cell_type": "markdown",
   "metadata": {},
   "source": [
    "# remove it"
   ]
  },
  {
   "cell_type": "code",
   "execution_count": 38,
   "metadata": {},
   "outputs": [],
   "source": [
    "# show the oposite of result of '1'. ie only show values that are NOT '1'\n",
    "# 1,126,346\n",
    "df = df[~df.offense_type.str.contains('1')]"
   ]
  },
  {
   "cell_type": "code",
   "execution_count": 39,
   "metadata": {},
   "outputs": [
    {
     "data": {
      "text/html": [
       "<div>\n",
       "<style scoped>\n",
       "    .dataframe tbody tr th:only-of-type {\n",
       "        vertical-align: middle;\n",
       "    }\n",
       "\n",
       "    .dataframe tbody tr th {\n",
       "        vertical-align: top;\n",
       "    }\n",
       "\n",
       "    .dataframe thead th {\n",
       "        text-align: right;\n",
       "    }\n",
       "</style>\n",
       "<table border=\"1\" class=\"dataframe\">\n",
       "  <thead>\n",
       "    <tr style=\"text-align: right;\">\n",
       "      <th></th>\n",
       "      <th>date_time</th>\n",
       "      <th>offenses</th>\n",
       "      <th>offense_type</th>\n",
       "      <th>block_range</th>\n",
       "      <th>street_name</th>\n",
       "      <th>type</th>\n",
       "      <th>suffix</th>\n",
       "      <th>beat</th>\n",
       "      <th>premise</th>\n",
       "      <th>year</th>\n",
       "    </tr>\n",
       "  </thead>\n",
       "  <tbody>\n",
       "  </tbody>\n",
       "</table>\n",
       "</div>"
      ],
      "text/plain": [
       "Empty DataFrame\n",
       "Columns: [date_time, offenses, offense_type, block_range, street_name, type, suffix, beat, premise, year]\n",
       "Index: []"
      ]
     },
     "execution_count": 39,
     "metadata": {},
     "output_type": "execute_result"
    }
   ],
   "source": [
    "df[df.offense_type.str.contains('1')]"
   ]
  },
  {
   "cell_type": "code",
   "execution_count": 40,
   "metadata": {},
   "outputs": [
    {
     "data": {
      "text/plain": [
       "Theft                 619262\n",
       "Burglary              204227\n",
       "Auto Theft            112275\n",
       "Aggravated Assault     93928\n",
       "Robbery                86426\n",
       "Rape                    8062\n",
       "Murder                  2166\n",
       "Name: offense_type, dtype: int64"
      ]
     },
     "execution_count": 40,
     "metadata": {},
     "output_type": "execute_result"
    }
   ],
   "source": [
    "# column:offense_type\n",
    "df.offense_type.value_counts(dropna=False)[:10]"
   ]
  },
  {
   "cell_type": "code",
   "execution_count": null,
   "metadata": {},
   "outputs": [],
   "source": []
  },
  {
   "cell_type": "code",
   "execution_count": 41,
   "metadata": {},
   "outputs": [
    {
     "data": {
      "text/plain": [
       "1     1112059\n",
       "2       11969\n",
       "3        1837\n",
       "4         287\n",
       "5          91\n",
       "6          52\n",
       "7          16\n",
       "8          11\n",
       "9           6\n",
       "13          4\n",
       "16          3\n",
       "10          3\n",
       "11          2\n",
       "12          2\n",
       "17          2\n",
       "29          1\n",
       "33          1\n",
       "Name: offenses, dtype: int64"
      ]
     },
     "execution_count": 41,
     "metadata": {},
     "output_type": "execute_result"
    }
   ],
   "source": [
    "# column:offenses\n",
    "df.offenses.value_counts(dropna=False)[:20]"
   ]
  },
  {
   "cell_type": "code",
   "execution_count": null,
   "metadata": {},
   "outputs": [],
   "source": []
  },
  {
   "cell_type": "code",
   "execution_count": 42,
   "metadata": {},
   "outputs": [
    {
     "data": {
      "text/plain": [
       "2009-11-01 00:00:00    85\n",
       "2009-11-13 19:00:00    74\n",
       "2009-11-13 17:00:00    74\n",
       "2011-01-01 00:00:00    72\n",
       "2009-11-14 00:00:00    70\n",
       "2009-11-25 18:00:00    70\n",
       "2010-01-01 00:00:00    68\n",
       "2009-11-20 19:00:00    66\n",
       "2009-11-10 18:00:00    66\n",
       "2009-11-09 12:00:00    66\n",
       "Name: date_time, dtype: int64"
      ]
     },
     "execution_count": 42,
     "metadata": {},
     "output_type": "execute_result"
    }
   ],
   "source": [
    "# column:date_time\n",
    "df.date_time.value_counts(dropna=False)[:10]"
   ]
  },
  {
   "cell_type": "code",
   "execution_count": 43,
   "metadata": {},
   "outputs": [],
   "source": [
    "df = df.reset_index(drop=True)"
   ]
  },
  {
   "cell_type": "code",
   "execution_count": 44,
   "metadata": {},
   "outputs": [
    {
     "data": {
      "text/html": [
       "<div>\n",
       "<style scoped>\n",
       "    .dataframe tbody tr th:only-of-type {\n",
       "        vertical-align: middle;\n",
       "    }\n",
       "\n",
       "    .dataframe tbody tr th {\n",
       "        vertical-align: top;\n",
       "    }\n",
       "\n",
       "    .dataframe thead th {\n",
       "        text-align: right;\n",
       "    }\n",
       "</style>\n",
       "<table border=\"1\" class=\"dataframe\">\n",
       "  <thead>\n",
       "    <tr style=\"text-align: right;\">\n",
       "      <th></th>\n",
       "      <th>date_time</th>\n",
       "      <th>offenses</th>\n",
       "      <th>offense_type</th>\n",
       "      <th>block_range</th>\n",
       "      <th>street_name</th>\n",
       "      <th>type</th>\n",
       "      <th>suffix</th>\n",
       "      <th>beat</th>\n",
       "      <th>premise</th>\n",
       "      <th>year</th>\n",
       "    </tr>\n",
       "  </thead>\n",
       "  <tbody>\n",
       "    <tr>\n",
       "      <th>0</th>\n",
       "      <td>2009-08-01 00:00:00</td>\n",
       "      <td>1</td>\n",
       "      <td>Robbery</td>\n",
       "      <td>3000-3099</td>\n",
       "      <td>durham</td>\n",
       "      <td>dr</td>\n",
       "      <td>N</td>\n",
       "      <td>3B30</td>\n",
       "      <td>210</td>\n",
       "      <td>2009</td>\n",
       "    </tr>\n",
       "    <tr>\n",
       "      <th>1</th>\n",
       "      <td>2009-08-01 00:00:00</td>\n",
       "      <td>1</td>\n",
       "      <td>Robbery</td>\n",
       "      <td>500-599</td>\n",
       "      <td>seminar</td>\n",
       "      <td>dr</td>\n",
       "      <td>-</td>\n",
       "      <td>6B60</td>\n",
       "      <td>20a</td>\n",
       "      <td>2009</td>\n",
       "    </tr>\n",
       "    <tr>\n",
       "      <th>2</th>\n",
       "      <td>2009-08-01 00:00:00</td>\n",
       "      <td>1</td>\n",
       "      <td>Robbery</td>\n",
       "      <td>8300-8399</td>\n",
       "      <td>north houston rosslyn</td>\n",
       "      <td>rd</td>\n",
       "      <td>-</td>\n",
       "      <td>6B30</td>\n",
       "      <td>18n</td>\n",
       "      <td>2009</td>\n",
       "    </tr>\n",
       "    <tr>\n",
       "      <th>3</th>\n",
       "      <td>2009-08-01 00:00:00</td>\n",
       "      <td>1</td>\n",
       "      <td>Robbery</td>\n",
       "      <td>6300-6399</td>\n",
       "      <td>skyline</td>\n",
       "      <td>dr</td>\n",
       "      <td>-</td>\n",
       "      <td>18F30</td>\n",
       "      <td>18a</td>\n",
       "      <td>2009</td>\n",
       "    </tr>\n",
       "    <tr>\n",
       "      <th>4</th>\n",
       "      <td>2009-08-01 00:00:00</td>\n",
       "      <td>1</td>\n",
       "      <td>Robbery</td>\n",
       "      <td>5900-5999</td>\n",
       "      <td>fulton</td>\n",
       "      <td>st</td>\n",
       "      <td>-</td>\n",
       "      <td>2A20</td>\n",
       "      <td>18n</td>\n",
       "      <td>2009</td>\n",
       "    </tr>\n",
       "  </tbody>\n",
       "</table>\n",
       "</div>"
      ],
      "text/plain": [
       "             date_time  offenses offense_type block_range  \\\n",
       "0  2009-08-01 00:00:00         1      Robbery   3000-3099   \n",
       "1  2009-08-01 00:00:00         1      Robbery     500-599   \n",
       "2  2009-08-01 00:00:00         1      Robbery   8300-8399   \n",
       "3  2009-08-01 00:00:00         1      Robbery   6300-6399   \n",
       "4  2009-08-01 00:00:00         1      Robbery   5900-5999   \n",
       "\n",
       "             street_name type suffix   beat premise  year  \n",
       "0                 durham   dr      N   3B30     210  2009  \n",
       "1                seminar   dr      -   6B60     20a  2009  \n",
       "2  north houston rosslyn   rd      -   6B30     18n  2009  \n",
       "3                skyline   dr      -  18F30     18a  2009  \n",
       "4                 fulton   st      -   2A20     18n  2009  "
      ]
     },
     "execution_count": 44,
     "metadata": {},
     "output_type": "execute_result"
    }
   ],
   "source": [
    "df.head()"
   ]
  },
  {
   "cell_type": "code",
   "execution_count": 45,
   "metadata": {},
   "outputs": [
    {
     "name": "stdout",
     "output_type": "stream",
     "text": [
      "<class 'pandas.core.frame.DataFrame'>\n",
      "RangeIndex: 1126346 entries, 0 to 1126345\n",
      "Data columns (total 10 columns):\n",
      " #   Column        Non-Null Count    Dtype \n",
      "---  ------        --------------    ----- \n",
      " 0   date_time     1126346 non-null  object\n",
      " 1   offenses      1126346 non-null  int64 \n",
      " 2   offense_type  1126346 non-null  object\n",
      " 3   block_range   1126346 non-null  object\n",
      " 4   street_name   1126346 non-null  object\n",
      " 5   type          1126346 non-null  object\n",
      " 6   suffix        1126346 non-null  object\n",
      " 7   beat          1126346 non-null  object\n",
      " 8   premise       1126346 non-null  object\n",
      " 9   year          1126346 non-null  int64 \n",
      "dtypes: int64(2), object(8)\n",
      "memory usage: 85.9+ MB\n"
     ]
    }
   ],
   "source": [
    "df.info()\n",
    "# 1126346"
   ]
  },
  {
   "cell_type": "markdown",
   "metadata": {},
   "source": [
    "# Select ony dates from `2009` to `2018`\n"
   ]
  },
  {
   "cell_type": "code",
   "execution_count": 66,
   "metadata": {},
   "outputs": [
    {
     "data": {
      "text/plain": [
       "'1914-09-08 07:00:00'"
      ]
     },
     "execution_count": 66,
     "metadata": {},
     "output_type": "execute_result"
    }
   ],
   "source": [
    "df.date_time.min()"
   ]
  },
  {
   "cell_type": "code",
   "execution_count": 67,
   "metadata": {},
   "outputs": [
    {
     "data": {
      "text/plain": [
       "'2033-04-21 00:00:00'"
      ]
     },
     "execution_count": 67,
     "metadata": {},
     "output_type": "execute_result"
    }
   ],
   "source": [
    "df.date_time.max()"
   ]
  },
  {
   "cell_type": "code",
   "execution_count": null,
   "metadata": {},
   "outputs": [],
   "source": []
  },
  {
   "cell_type": "code",
   "execution_count": 68,
   "metadata": {},
   "outputs": [],
   "source": [
    "#greater than the start date and smaller than the end date\n",
    "start_date = '2009-01-01' #Jan 01 2009\n",
    "end_date = '2018-12-31' # may 31 2018\n",
    "mask = (df['date_time'] > start_date) & (df['date_time'] <= end_date)"
   ]
  },
  {
   "cell_type": "code",
   "execution_count": 69,
   "metadata": {},
   "outputs": [
    {
     "name": "stdout",
     "output_type": "stream",
     "text": [
      "<class 'pandas.core.frame.DataFrame'>\n",
      "RangeIndex: 1125124 entries, 0 to 1125123\n",
      "Data columns (total 10 columns):\n",
      " #   Column        Non-Null Count    Dtype \n",
      "---  ------        --------------    ----- \n",
      " 0   date_time     1125124 non-null  object\n",
      " 1   offenses      1125124 non-null  int64 \n",
      " 2   offense_type  1125124 non-null  object\n",
      " 3   block_range   1125124 non-null  object\n",
      " 4   street_name   1125124 non-null  object\n",
      " 5   type          1125124 non-null  object\n",
      " 6   suffix        1125124 non-null  object\n",
      " 7   beat          1125124 non-null  object\n",
      " 8   premise       1125124 non-null  object\n",
      " 9   year          1125124 non-null  int64 \n",
      "dtypes: int64(2), object(8)\n",
      "memory usage: 85.8+ MB\n"
     ]
    }
   ],
   "source": [
    "df2 = df.loc[mask].reset_index(drop=True)\n",
    "df2.info()"
   ]
  },
  {
   "cell_type": "code",
   "execution_count": 56,
   "metadata": {},
   "outputs": [
    {
     "data": {
      "text/html": [
       "<div>\n",
       "<style scoped>\n",
       "    .dataframe tbody tr th:only-of-type {\n",
       "        vertical-align: middle;\n",
       "    }\n",
       "\n",
       "    .dataframe tbody tr th {\n",
       "        vertical-align: top;\n",
       "    }\n",
       "\n",
       "    .dataframe thead th {\n",
       "        text-align: right;\n",
       "    }\n",
       "</style>\n",
       "<table border=\"1\" class=\"dataframe\">\n",
       "  <thead>\n",
       "    <tr style=\"text-align: right;\">\n",
       "      <th></th>\n",
       "      <th>date_time</th>\n",
       "      <th>offenses</th>\n",
       "      <th>offense_type</th>\n",
       "      <th>block_range</th>\n",
       "      <th>street_name</th>\n",
       "      <th>type</th>\n",
       "      <th>suffix</th>\n",
       "      <th>beat</th>\n",
       "      <th>premise</th>\n",
       "      <th>year</th>\n",
       "    </tr>\n",
       "  </thead>\n",
       "  <tbody>\n",
       "    <tr>\n",
       "      <th>0</th>\n",
       "      <td>2009-08-01 00:00:00</td>\n",
       "      <td>1</td>\n",
       "      <td>Robbery</td>\n",
       "      <td>3000-3099</td>\n",
       "      <td>durham</td>\n",
       "      <td>dr</td>\n",
       "      <td>N</td>\n",
       "      <td>3B30</td>\n",
       "      <td>210</td>\n",
       "      <td>2009</td>\n",
       "    </tr>\n",
       "    <tr>\n",
       "      <th>1</th>\n",
       "      <td>2009-08-01 00:00:00</td>\n",
       "      <td>1</td>\n",
       "      <td>Robbery</td>\n",
       "      <td>500-599</td>\n",
       "      <td>seminar</td>\n",
       "      <td>dr</td>\n",
       "      <td>-</td>\n",
       "      <td>6B60</td>\n",
       "      <td>20a</td>\n",
       "      <td>2009</td>\n",
       "    </tr>\n",
       "    <tr>\n",
       "      <th>2</th>\n",
       "      <td>2009-08-01 00:00:00</td>\n",
       "      <td>1</td>\n",
       "      <td>Robbery</td>\n",
       "      <td>8300-8399</td>\n",
       "      <td>north houston rosslyn</td>\n",
       "      <td>rd</td>\n",
       "      <td>-</td>\n",
       "      <td>6B30</td>\n",
       "      <td>18n</td>\n",
       "      <td>2009</td>\n",
       "    </tr>\n",
       "    <tr>\n",
       "      <th>3</th>\n",
       "      <td>2009-08-01 00:00:00</td>\n",
       "      <td>1</td>\n",
       "      <td>Robbery</td>\n",
       "      <td>6300-6399</td>\n",
       "      <td>skyline</td>\n",
       "      <td>dr</td>\n",
       "      <td>-</td>\n",
       "      <td>18F30</td>\n",
       "      <td>18a</td>\n",
       "      <td>2009</td>\n",
       "    </tr>\n",
       "    <tr>\n",
       "      <th>4</th>\n",
       "      <td>2009-08-01 00:00:00</td>\n",
       "      <td>1</td>\n",
       "      <td>Robbery</td>\n",
       "      <td>5900-5999</td>\n",
       "      <td>fulton</td>\n",
       "      <td>st</td>\n",
       "      <td>-</td>\n",
       "      <td>2A20</td>\n",
       "      <td>18n</td>\n",
       "      <td>2009</td>\n",
       "    </tr>\n",
       "  </tbody>\n",
       "</table>\n",
       "</div>"
      ],
      "text/plain": [
       "             date_time  offenses offense_type block_range  \\\n",
       "0  2009-08-01 00:00:00         1      Robbery   3000-3099   \n",
       "1  2009-08-01 00:00:00         1      Robbery     500-599   \n",
       "2  2009-08-01 00:00:00         1      Robbery   8300-8399   \n",
       "3  2009-08-01 00:00:00         1      Robbery   6300-6399   \n",
       "4  2009-08-01 00:00:00         1      Robbery   5900-5999   \n",
       "\n",
       "             street_name type suffix   beat premise  year  \n",
       "0                 durham   dr      N   3B30     210  2009  \n",
       "1                seminar   dr      -   6B60     20a  2009  \n",
       "2  north houston rosslyn   rd      -   6B30     18n  2009  \n",
       "3                skyline   dr      -  18F30     18a  2009  \n",
       "4                 fulton   st      -   2A20     18n  2009  "
      ]
     },
     "execution_count": 56,
     "metadata": {},
     "output_type": "execute_result"
    }
   ],
   "source": [
    "df2.head()"
   ]
  },
  {
   "cell_type": "code",
   "execution_count": 57,
   "metadata": {},
   "outputs": [
    {
     "data": {
      "text/plain": [
       "1561"
      ]
     },
     "execution_count": 57,
     "metadata": {},
     "output_type": "execute_result"
    }
   ],
   "source": []
  },
  {
   "cell_type": "code",
   "execution_count": null,
   "metadata": {},
   "outputs": [],
   "source": []
  },
  {
   "cell_type": "markdown",
   "metadata": {},
   "source": [
    "# Save dataframe"
   ]
  },
  {
   "cell_type": "code",
   "execution_count": 72,
   "metadata": {},
   "outputs": [],
   "source": [
    "def s3_files_to_df(s3_files_path):\n",
    "    ''' load s3 file path from wr result\n",
    "    returns a dataframe of concat files '''\n",
    "    df_list = []\n",
    "    for i in wr.s3.list_objects(s3_files_path):\n",
    "        temp = wr.s3.read_excel(i, engine='openpyxl')\n",
    "        df_list.append(temp)\n",
    "    # create df from list files\n",
    "    df = pd.concat(df_list, ignore_index=True)\n",
    "    return df"
   ]
  },
  {
   "cell_type": "code",
   "execution_count": 81,
   "metadata": {},
   "outputs": [
    {
     "data": {
      "text/plain": [
       "'s3://dend-data/capstone/final-data/crime-data/crime-09-18.csv'"
      ]
     },
     "execution_count": 81,
     "metadata": {},
     "output_type": "execute_result"
    }
   ],
   "source": [
    "bucket = 'dend-data'\n",
    "file_name = f'crime-09-18.csv'\n",
    "path_to_save = f\"s3://{bucket}/capstone/final-data/crime-data/{file_name}\"\n",
    "path_to_save"
   ]
  },
  {
   "cell_type": "code",
   "execution_count": 82,
   "metadata": {},
   "outputs": [
    {
     "name": "stdout",
     "output_type": "stream",
     "text": [
      "CPU times: user 5.83 s, sys: 1.25 s, total: 7.08 s\n",
      "Wall time: 2min 6s\n"
     ]
    },
    {
     "data": {
      "text/plain": [
       "{'paths': ['s3://dend-data/capstone/final-data/crime-data/crime-09-18.csv'],\n",
       " 'partitions_values': {}}"
      ]
     },
     "execution_count": 82,
     "metadata": {},
     "output_type": "execute_result"
    }
   ],
   "source": [
    "%%time\n",
    "wr.s3.to_csv(df2, path_to_save, index=False)"
   ]
  },
  {
   "cell_type": "markdown",
   "metadata": {},
   "source": [
    "# Save Sample"
   ]
  },
  {
   "cell_type": "code",
   "execution_count": 76,
   "metadata": {},
   "outputs": [
    {
     "name": "stdout",
     "output_type": "stream",
     "text": [
      "<class 'pandas.core.frame.DataFrame'>\n",
      "Int64Index: 1000 entries, 411740 to 562154\n",
      "Data columns (total 10 columns):\n",
      " #   Column        Non-Null Count  Dtype \n",
      "---  ------        --------------  ----- \n",
      " 0   date_time     1000 non-null   object\n",
      " 1   offenses      1000 non-null   int64 \n",
      " 2   offense_type  1000 non-null   object\n",
      " 3   block_range   1000 non-null   object\n",
      " 4   street_name   1000 non-null   object\n",
      " 5   type          1000 non-null   object\n",
      " 6   suffix        1000 non-null   object\n",
      " 7   beat          1000 non-null   object\n",
      " 8   premise       1000 non-null   object\n",
      " 9   year          1000 non-null   int64 \n",
      "dtypes: int64(2), object(8)\n",
      "memory usage: 85.9+ KB\n",
      "CPU times: user 43.6 ms, sys: 0 ns, total: 43.6 ms\n",
      "Wall time: 41.7 ms\n"
     ]
    }
   ],
   "source": [
    "%%time\n",
    "sample_1000 = df2.sample(1000)\n",
    "sample_1000.info()"
   ]
  },
  {
   "cell_type": "code",
   "execution_count": 77,
   "metadata": {},
   "outputs": [
    {
     "data": {
      "text/html": [
       "<div>\n",
       "<style scoped>\n",
       "    .dataframe tbody tr th:only-of-type {\n",
       "        vertical-align: middle;\n",
       "    }\n",
       "\n",
       "    .dataframe tbody tr th {\n",
       "        vertical-align: top;\n",
       "    }\n",
       "\n",
       "    .dataframe thead th {\n",
       "        text-align: right;\n",
       "    }\n",
       "</style>\n",
       "<table border=\"1\" class=\"dataframe\">\n",
       "  <thead>\n",
       "    <tr style=\"text-align: right;\">\n",
       "      <th></th>\n",
       "      <th>date_time</th>\n",
       "      <th>offenses</th>\n",
       "      <th>offense_type</th>\n",
       "      <th>block_range</th>\n",
       "      <th>street_name</th>\n",
       "      <th>type</th>\n",
       "      <th>suffix</th>\n",
       "      <th>beat</th>\n",
       "      <th>premise</th>\n",
       "      <th>year</th>\n",
       "    </tr>\n",
       "  </thead>\n",
       "  <tbody>\n",
       "    <tr>\n",
       "      <th>411740</th>\n",
       "      <td>2012-03-15 16:00:00</td>\n",
       "      <td>1</td>\n",
       "      <td>Aggravated Assault</td>\n",
       "      <td>4000-4099</td>\n",
       "      <td>almeda</td>\n",
       "      <td>rd</td>\n",
       "      <td>-</td>\n",
       "      <td>10H40</td>\n",
       "      <td>13r</td>\n",
       "      <td>2012</td>\n",
       "    </tr>\n",
       "    <tr>\n",
       "      <th>991087</th>\n",
       "      <td>2017-02-17 03:00:00</td>\n",
       "      <td>1</td>\n",
       "      <td>Robbery</td>\n",
       "      <td>12900-12999</td>\n",
       "      <td>pinesage</td>\n",
       "      <td>dr</td>\n",
       "      <td>-</td>\n",
       "      <td>16E20</td>\n",
       "      <td>road, street, or sidewalk</td>\n",
       "      <td>2017</td>\n",
       "    </tr>\n",
       "    <tr>\n",
       "      <th>545834</th>\n",
       "      <td>2013-03-20 06:00:00</td>\n",
       "      <td>1</td>\n",
       "      <td>Theft</td>\n",
       "      <td>3000-3099</td>\n",
       "      <td>briarpark</td>\n",
       "      <td>dr</td>\n",
       "      <td>-</td>\n",
       "      <td>20G10</td>\n",
       "      <td>---</td>\n",
       "      <td>2013</td>\n",
       "    </tr>\n",
       "    <tr>\n",
       "      <th>200023</th>\n",
       "      <td>2010-09-05 19:00:00</td>\n",
       "      <td>1</td>\n",
       "      <td>Burglary</td>\n",
       "      <td>1100-1199</td>\n",
       "      <td>bonner</td>\n",
       "      <td>st</td>\n",
       "      <td>-</td>\n",
       "      <td>2A50</td>\n",
       "      <td>20a</td>\n",
       "      <td>2010</td>\n",
       "    </tr>\n",
       "    <tr>\n",
       "      <th>798545</th>\n",
       "      <td>2015-05-09 12:00:00</td>\n",
       "      <td>1</td>\n",
       "      <td>Theft</td>\n",
       "      <td>9600-9699</td>\n",
       "      <td>main</td>\n",
       "      <td>st</td>\n",
       "      <td>S</td>\n",
       "      <td>15E40</td>\n",
       "      <td>commercial parking lot or garage</td>\n",
       "      <td>2015</td>\n",
       "    </tr>\n",
       "  </tbody>\n",
       "</table>\n",
       "</div>"
      ],
      "text/plain": [
       "                  date_time  offenses        offense_type  block_range  \\\n",
       "411740  2012-03-15 16:00:00         1  Aggravated Assault    4000-4099   \n",
       "991087  2017-02-17 03:00:00         1             Robbery  12900-12999   \n",
       "545834  2013-03-20 06:00:00         1               Theft    3000-3099   \n",
       "200023  2010-09-05 19:00:00         1            Burglary    1100-1199   \n",
       "798545  2015-05-09 12:00:00         1               Theft    9600-9699   \n",
       "\n",
       "       street_name type suffix   beat                           premise  year  \n",
       "411740      almeda   rd      -  10H40                               13r  2012  \n",
       "991087    pinesage   dr      -  16E20         road, street, or sidewalk  2017  \n",
       "545834   briarpark   dr      -  20G10                               ---  2013  \n",
       "200023      bonner   st      -   2A50                               20a  2010  \n",
       "798545        main   st      S  15E40  commercial parking lot or garage  2015  "
      ]
     },
     "execution_count": 77,
     "metadata": {},
     "output_type": "execute_result"
    }
   ],
   "source": [
    "sample_1000.head()"
   ]
  },
  {
   "cell_type": "code",
   "execution_count": 80,
   "metadata": {},
   "outputs": [
    {
     "data": {
      "text/plain": [
       "{'paths': ['s3://dend-data/capstone/sample-data/crime-data/crime-09-18.csv'],\n",
       " 'partitions_values': {}}"
      ]
     },
     "execution_count": 80,
     "metadata": {},
     "output_type": "execute_result"
    }
   ],
   "source": [
    "bucket = 'dend-data'\n",
    "file_name = f'crime-09-18.csv'\n",
    "path_to_save = f\"s3://{bucket}/capstone/sample-data/crime-data/{file_name}\"\n",
    "\n",
    "wr.s3.to_csv(sample_1000, path_to_save, index=False)"
   ]
  },
  {
   "cell_type": "code",
   "execution_count": null,
   "metadata": {},
   "outputs": [],
   "source": []
  }
 ],
 "metadata": {
  "kernelspec": {
   "display_name": "Python 3",
   "language": "python",
   "name": "python3"
  },
  "language_info": {
   "codemirror_mode": {
    "name": "ipython",
    "version": 3
   },
   "file_extension": ".py",
   "mimetype": "text/x-python",
   "name": "python",
   "nbconvert_exporter": "python",
   "pygments_lexer": "ipython3",
   "version": "3.9.6"
  }
 },
 "nbformat": 4,
 "nbformat_minor": 4
}
