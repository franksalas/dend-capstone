{
 "cells": [
  {
   "cell_type": "code",
   "execution_count": 1,
   "metadata": {},
   "outputs": [
    {
     "data": {
      "text/html": [
       "        <script type=\"text/javascript\">\n",
       "        window.PlotlyConfig = {MathJaxConfig: 'local'};\n",
       "        if (window.MathJax) {MathJax.Hub.Config({SVG: {font: \"STIX-Web\"}});}\n",
       "        if (typeof require !== 'undefined') {\n",
       "        require.undef(\"plotly\");\n",
       "        requirejs.config({\n",
       "            paths: {\n",
       "                'plotly': ['https://cdn.plot.ly/plotly-latest.min']\n",
       "            }\n",
       "        });\n",
       "        require(['plotly'], function(Plotly) {\n",
       "            window._Plotly = Plotly;\n",
       "        });\n",
       "        }\n",
       "        </script>\n",
       "        "
      ]
     },
     "metadata": {},
     "output_type": "display_data"
    },
    {
     "name": "stdout",
     "output_type": "stream",
     "text": [
      "\n",
      "python\t3.8.5 (default, Sep  4 2020, 07:30:14) \n",
      "[GCC 7.3.0]\n",
      "---------------------\n",
      "Versions:\n",
      "----------------------\n",
      "pandas      1.1.2\n",
      "numpy       1.19.1\n",
      "matplotlib  3.3.1\n",
      "seaborn     0.11.0\n",
      "plotly      4.11.0\n",
      "boto3       1.17.106\n",
      "awswrangler 2.9.0\n",
      "----------------------\n",
      "\n",
      "\n",
      "Loaded Libraries\n",
      "-------------------\n",
      "import pandas as pd\n",
      "import numpy as np\n",
      "import sys,os\n",
      "import re\n",
      "import glob\n",
      "import pickle\n",
      "import seaborn as sns\n",
      "import matplotlib.pyplot as plt\n",
      "import plotly\n",
      "import plotly.graph_objs as go\n",
      "from plotly.offline import download_plotlyjs, init_notebook_mode, plot, iplot\n",
      "init_notebook_mode(connected=True)\n",
      "\n",
      "\n",
      "## AWS\n",
      "import boto3\n",
      "import awswrangler as wr\n",
      "----------------\n",
      "\n",
      "\n",
      "GLOBAL VARIABLES\n",
      "--------------------------\n",
      "HERE_DIR: list current directory path\n",
      "RAW_DIR: list files in `data\\raw` directory\n",
      "INTER_DIR: list files in `data\\interim` directory\n",
      "FINAL_DIR: list files in `data\\final` directory\n",
      "SRC_DIR: list files in `src\\` directory\n",
      "------------------------------\n",
      "\n",
      "# SAVE PLOTS\n",
      "To save a plot call\n",
      "`save_plots(fig_variable,'name_of_plot')`\n",
      "\n",
      "source file: src/start.py\n",
      "\n",
      "\n"
     ]
    }
   ],
   "source": [
    "%run ../src/start.py"
   ]
  },
  {
   "cell_type": "markdown",
   "metadata": {},
   "source": [
    "## Load Data"
   ]
  },
  {
   "cell_type": "code",
   "execution_count": null,
   "metadata": {},
   "outputs": [],
   "source": [
    "# year file\n",
    "year = ''"
   ]
  },
  {
   "cell_type": "code",
   "execution_count": 4,
   "metadata": {},
   "outputs": [],
   "source": [
    "# helper function\n",
    "def bucket_raw_path(bucket_name,path_dir):\n",
    "    ''''''\n",
    "    raw_path = f's3://{bucket_name}/{path_dir}'\n",
    "    return raw_path"
   ]
  },
  {
   "cell_type": "code",
   "execution_count": 5,
   "metadata": {},
   "outputs": [
    {
     "data": {
      "text/plain": [
       "'s3://salas-data/capstone/inter-data/crime-data/'"
      ]
     },
     "execution_count": 5,
     "metadata": {},
     "output_type": "execute_result"
    }
   ],
   "source": [
    "raw = bucket_raw_path('salas-data',f'capstone/inter-data/crime-data/')\n",
    "raw"
   ]
  },
  {
   "cell_type": "markdown",
   "metadata": {},
   "source": [
    "## List objects in bucket"
   ]
  },
  {
   "cell_type": "code",
   "execution_count": 6,
   "metadata": {},
   "outputs": [
    {
     "data": {
      "text/plain": [
       "['s3://salas-data/capstone/inter-data/crime-data/crime_2009.csv',\n",
       " 's3://salas-data/capstone/inter-data/crime-data/crime_2010.csv',\n",
       " 's3://salas-data/capstone/inter-data/crime-data/crime_2011.csv',\n",
       " 's3://salas-data/capstone/inter-data/crime-data/crime_2012.csv',\n",
       " 's3://salas-data/capstone/inter-data/crime-data/crime_2013.csv',\n",
       " 's3://salas-data/capstone/inter-data/crime-data/crime_2014.csv',\n",
       " 's3://salas-data/capstone/inter-data/crime-data/crime_2015.csv',\n",
       " 's3://salas-data/capstone/inter-data/crime-data/crime_2016.csv',\n",
       " 's3://salas-data/capstone/inter-data/crime-data/crime_2017.csv',\n",
       " 's3://salas-data/capstone/inter-data/crime-data/crime_2018.csv']"
      ]
     },
     "execution_count": 6,
     "metadata": {},
     "output_type": "execute_result"
    }
   ],
   "source": [
    "wr.s3.list_objects(raw)"
   ]
  },
  {
   "cell_type": "markdown",
   "metadata": {},
   "source": [
    "## Create dataframe from s3 files"
   ]
  },
  {
   "cell_type": "code",
   "execution_count": 7,
   "metadata": {},
   "outputs": [],
   "source": [
    "def s3_files_to_df(s3_files_path):\n",
    "    ''' load s3 file path from wr result\n",
    "    returns a dataframe of concat files '''\n",
    "    df_list = []\n",
    "    for i in wr.s3.list_objects(s3_files_path):\n",
    "        temp = wr.s3.read_csv(i,)\n",
    "        df_list.append(temp)\n",
    "    # create df from list files\n",
    "    df = pd.concat(df_list, ignore_index=True)\n",
    "    return df"
   ]
  },
  {
   "cell_type": "code",
   "execution_count": 8,
   "metadata": {},
   "outputs": [
    {
     "name": "stdout",
     "output_type": "stream",
     "text": [
      "CPU times: user 1.19 s, sys: 453 ms, total: 1.64 s\n",
      "Wall time: 15.9 s\n"
     ]
    }
   ],
   "source": [
    "%%time\n",
    "df = s3_files_to_df(raw)"
   ]
  },
  {
   "cell_type": "code",
   "execution_count": null,
   "metadata": {},
   "outputs": [],
   "source": [
    "## cleanup columns\n",
    "#df.columns = df.columns.str.lower().str.replace(' ','_').str.replace('\\n','_').str.strip()"
   ]
  },
  {
   "cell_type": "code",
   "execution_count": 9,
   "metadata": {},
   "outputs": [
    {
     "name": "stdout",
     "output_type": "stream",
     "text": [
      "<class 'pandas.core.frame.DataFrame'>\n",
      "RangeIndex: 1126360 entries, 0 to 1126359\n",
      "Data columns (total 9 columns):\n",
      " #   Column        Non-Null Count    Dtype \n",
      "---  ------        --------------    ----- \n",
      " 0   date_time     1126360 non-null  object\n",
      " 1   offenses      1126360 non-null  int64 \n",
      " 2   offense_type  1126360 non-null  object\n",
      " 3   block_range   1126360 non-null  object\n",
      " 4   street_name   1126360 non-null  object\n",
      " 5   type          1126360 non-null  object\n",
      " 6   suffix        1126360 non-null  object\n",
      " 7   beat          1126360 non-null  object\n",
      " 8   premise       1126360 non-null  object\n",
      "dtypes: int64(1), object(8)\n",
      "memory usage: 77.3+ MB\n"
     ]
    }
   ],
   "source": [
    "df.info()"
   ]
  },
  {
   "cell_type": "code",
   "execution_count": 10,
   "metadata": {},
   "outputs": [
    {
     "data": {
      "text/html": [
       "<div>\n",
       "<style scoped>\n",
       "    .dataframe tbody tr th:only-of-type {\n",
       "        vertical-align: middle;\n",
       "    }\n",
       "\n",
       "    .dataframe tbody tr th {\n",
       "        vertical-align: top;\n",
       "    }\n",
       "\n",
       "    .dataframe thead th {\n",
       "        text-align: right;\n",
       "    }\n",
       "</style>\n",
       "<table border=\"1\" class=\"dataframe\">\n",
       "  <thead>\n",
       "    <tr style=\"text-align: right;\">\n",
       "      <th></th>\n",
       "      <th>date_time</th>\n",
       "      <th>offenses</th>\n",
       "      <th>offense_type</th>\n",
       "      <th>block_range</th>\n",
       "      <th>street_name</th>\n",
       "      <th>type</th>\n",
       "      <th>suffix</th>\n",
       "      <th>beat</th>\n",
       "      <th>premise</th>\n",
       "    </tr>\n",
       "  </thead>\n",
       "  <tbody>\n",
       "    <tr>\n",
       "      <th>0</th>\n",
       "      <td>2009-08-01 00:00:00</td>\n",
       "      <td>1</td>\n",
       "      <td>Robbery</td>\n",
       "      <td>3000-3099</td>\n",
       "      <td>DURHAM</td>\n",
       "      <td>DR</td>\n",
       "      <td>N</td>\n",
       "      <td>3B30</td>\n",
       "      <td>210</td>\n",
       "    </tr>\n",
       "    <tr>\n",
       "      <th>1</th>\n",
       "      <td>2009-08-01 00:00:00</td>\n",
       "      <td>1</td>\n",
       "      <td>Robbery</td>\n",
       "      <td>500-599</td>\n",
       "      <td>SEMINAR</td>\n",
       "      <td>DR</td>\n",
       "      <td>-</td>\n",
       "      <td>6B60</td>\n",
       "      <td>20A</td>\n",
       "    </tr>\n",
       "    <tr>\n",
       "      <th>2</th>\n",
       "      <td>2009-08-01 00:00:00</td>\n",
       "      <td>1</td>\n",
       "      <td>Robbery</td>\n",
       "      <td>8300-8399</td>\n",
       "      <td>NORTH HOUSTON ROSSLYN</td>\n",
       "      <td>RD</td>\n",
       "      <td>-</td>\n",
       "      <td>6B30</td>\n",
       "      <td>18N</td>\n",
       "    </tr>\n",
       "    <tr>\n",
       "      <th>3</th>\n",
       "      <td>2009-08-01 00:00:00</td>\n",
       "      <td>1</td>\n",
       "      <td>Robbery</td>\n",
       "      <td>6300-6399</td>\n",
       "      <td>SKYLINE</td>\n",
       "      <td>DR</td>\n",
       "      <td>-</td>\n",
       "      <td>18F30</td>\n",
       "      <td>18A</td>\n",
       "    </tr>\n",
       "    <tr>\n",
       "      <th>4</th>\n",
       "      <td>2009-08-01 00:00:00</td>\n",
       "      <td>1</td>\n",
       "      <td>Robbery</td>\n",
       "      <td>5900-5999</td>\n",
       "      <td>FULTON</td>\n",
       "      <td>ST</td>\n",
       "      <td>-</td>\n",
       "      <td>2A20</td>\n",
       "      <td>18N</td>\n",
       "    </tr>\n",
       "  </tbody>\n",
       "</table>\n",
       "</div>"
      ],
      "text/plain": [
       "             date_time  offenses offense_type block_range  \\\n",
       "0  2009-08-01 00:00:00         1      Robbery   3000-3099   \n",
       "1  2009-08-01 00:00:00         1      Robbery     500-599   \n",
       "2  2009-08-01 00:00:00         1      Robbery   8300-8399   \n",
       "3  2009-08-01 00:00:00         1      Robbery   6300-6399   \n",
       "4  2009-08-01 00:00:00         1      Robbery   5900-5999   \n",
       "\n",
       "             street_name type suffix   beat premise  \n",
       "0                 DURHAM   DR      N   3B30     210  \n",
       "1                SEMINAR   DR      -   6B60     20A  \n",
       "2  NORTH HOUSTON ROSSLYN   RD      -   6B30     18N  \n",
       "3                SKYLINE   DR      -  18F30     18A  \n",
       "4                 FULTON   ST      -   2A20     18N  "
      ]
     },
     "execution_count": 10,
     "metadata": {},
     "output_type": "execute_result"
    }
   ],
   "source": [
    "df.head()"
   ]
  },
  {
   "cell_type": "markdown",
   "metadata": {},
   "source": [
    "## Show null data"
   ]
  },
  {
   "cell_type": "code",
   "execution_count": 11,
   "metadata": {},
   "outputs": [
    {
     "data": {
      "text/plain": [
       "date_time       0\n",
       "offenses        0\n",
       "offense_type    0\n",
       "block_range     0\n",
       "street_name     0\n",
       "type            0\n",
       "suffix          0\n",
       "beat            0\n",
       "premise         0\n",
       "dtype: int64"
      ]
     },
     "execution_count": 11,
     "metadata": {},
     "output_type": "execute_result"
    }
   ],
   "source": [
    "df.apply(lambda x: sum(x.isnull()))"
   ]
  },
  {
   "cell_type": "code",
   "execution_count": 12,
   "metadata": {},
   "outputs": [
    {
     "data": {
      "text/html": [
       "<div>\n",
       "<style scoped>\n",
       "    .dataframe tbody tr th:only-of-type {\n",
       "        vertical-align: middle;\n",
       "    }\n",
       "\n",
       "    .dataframe tbody tr th {\n",
       "        vertical-align: top;\n",
       "    }\n",
       "\n",
       "    .dataframe thead th {\n",
       "        text-align: right;\n",
       "    }\n",
       "</style>\n",
       "<table border=\"1\" class=\"dataframe\">\n",
       "  <thead>\n",
       "    <tr style=\"text-align: right;\">\n",
       "      <th></th>\n",
       "      <th>null_percent</th>\n",
       "    </tr>\n",
       "  </thead>\n",
       "  <tbody>\n",
       "    <tr>\n",
       "      <th>date_time</th>\n",
       "      <td>0.0</td>\n",
       "    </tr>\n",
       "    <tr>\n",
       "      <th>offenses</th>\n",
       "      <td>0.0</td>\n",
       "    </tr>\n",
       "    <tr>\n",
       "      <th>offense_type</th>\n",
       "      <td>0.0</td>\n",
       "    </tr>\n",
       "    <tr>\n",
       "      <th>block_range</th>\n",
       "      <td>0.0</td>\n",
       "    </tr>\n",
       "    <tr>\n",
       "      <th>street_name</th>\n",
       "      <td>0.0</td>\n",
       "    </tr>\n",
       "    <tr>\n",
       "      <th>type</th>\n",
       "      <td>0.0</td>\n",
       "    </tr>\n",
       "    <tr>\n",
       "      <th>suffix</th>\n",
       "      <td>0.0</td>\n",
       "    </tr>\n",
       "    <tr>\n",
       "      <th>beat</th>\n",
       "      <td>0.0</td>\n",
       "    </tr>\n",
       "    <tr>\n",
       "      <th>premise</th>\n",
       "      <td>0.0</td>\n",
       "    </tr>\n",
       "  </tbody>\n",
       "</table>\n",
       "</div>"
      ],
      "text/plain": [
       "              null_percent\n",
       "date_time              0.0\n",
       "offenses               0.0\n",
       "offense_type           0.0\n",
       "block_range            0.0\n",
       "street_name            0.0\n",
       "type                   0.0\n",
       "suffix                 0.0\n",
       "beat                   0.0\n",
       "premise                0.0"
      ]
     },
     "execution_count": 12,
     "metadata": {},
     "output_type": "execute_result"
    }
   ],
   "source": [
    "# create null percentage of column as dataframe\n",
    "null_per_df = pd.DataFrame(df.isna().mean().round(4) * 100)\n",
    "# rename columns\n",
    "null_per_df.rename(columns={'index': 'col_name', 0: 'null_percent'}, inplace=True)\n",
    "\n",
    "# filter data <20% null values\n",
    "per_filter = null_per_df.null_percent<=90\n",
    "null_per_df[per_filter].sort_values(by='null_percent',ascending=False)"
   ]
  },
  {
   "cell_type": "code",
   "execution_count": 13,
   "metadata": {},
   "outputs": [
    {
     "data": {
      "image/png": "[encoded data removed]",
      "text/plain": [
       "<Figure size 1080x288 with 1 Axes>"
      ]
     },
     "metadata": {},
     "output_type": "display_data"
    }
   ],
   "source": [
    "plt.figure(figsize=(15,4))\n",
    "sns.heatmap(df.isnull(),yticklabels=False,cbar=False,cmap='viridis')\n",
    "plt.title('Missing data')\n",
    "plt.show()"
   ]
  },
  {
   "cell_type": "code",
   "execution_count": 14,
   "metadata": {},
   "outputs": [
    {
     "name": "stdout",
     "output_type": "stream",
     "text": [
      "<class 'pandas.core.frame.DataFrame'>\n",
      "RangeIndex: 1126360 entries, 0 to 1126359\n",
      "Data columns (total 9 columns):\n",
      " #   Column        Non-Null Count    Dtype \n",
      "---  ------        --------------    ----- \n",
      " 0   date_time     1126360 non-null  object\n",
      " 1   offenses      1126360 non-null  int64 \n",
      " 2   offense_type  1126360 non-null  object\n",
      " 3   block_range   1126360 non-null  object\n",
      " 4   street_name   1126360 non-null  object\n",
      " 5   type          1126360 non-null  object\n",
      " 6   suffix        1126360 non-null  object\n",
      " 7   beat          1126360 non-null  object\n",
      " 8   premise       1126360 non-null  object\n",
      "dtypes: int64(1), object(8)\n",
      "memory usage: 77.3+ MB\n"
     ]
    }
   ],
   "source": [
    "df.info()"
   ]
  },
  {
   "cell_type": "code",
   "execution_count": 16,
   "metadata": {},
   "outputs": [
    {
     "data": {
      "text/html": [
       "<div>\n",
       "<style scoped>\n",
       "    .dataframe tbody tr th:only-of-type {\n",
       "        vertical-align: middle;\n",
       "    }\n",
       "\n",
       "    .dataframe tbody tr th {\n",
       "        vertical-align: top;\n",
       "    }\n",
       "\n",
       "    .dataframe thead th {\n",
       "        text-align: right;\n",
       "    }\n",
       "</style>\n",
       "<table border=\"1\" class=\"dataframe\">\n",
       "  <thead>\n",
       "    <tr style=\"text-align: right;\">\n",
       "      <th></th>\n",
       "      <th>date_time</th>\n",
       "      <th>offenses</th>\n",
       "      <th>offense_type</th>\n",
       "      <th>block_range</th>\n",
       "      <th>street_name</th>\n",
       "      <th>type</th>\n",
       "      <th>suffix</th>\n",
       "      <th>beat</th>\n",
       "      <th>premise</th>\n",
       "    </tr>\n",
       "  </thead>\n",
       "  <tbody>\n",
       "    <tr>\n",
       "      <th>0</th>\n",
       "      <td>2009-08-01 00:00:00</td>\n",
       "      <td>1</td>\n",
       "      <td>Robbery</td>\n",
       "      <td>3000-3099</td>\n",
       "      <td>DURHAM</td>\n",
       "      <td>DR</td>\n",
       "      <td>N</td>\n",
       "      <td>3B30</td>\n",
       "      <td>210</td>\n",
       "    </tr>\n",
       "    <tr>\n",
       "      <th>1</th>\n",
       "      <td>2009-08-01 00:00:00</td>\n",
       "      <td>1</td>\n",
       "      <td>Robbery</td>\n",
       "      <td>500-599</td>\n",
       "      <td>SEMINAR</td>\n",
       "      <td>DR</td>\n",
       "      <td>-</td>\n",
       "      <td>6B60</td>\n",
       "      <td>20A</td>\n",
       "    </tr>\n",
       "    <tr>\n",
       "      <th>2</th>\n",
       "      <td>2009-08-01 00:00:00</td>\n",
       "      <td>1</td>\n",
       "      <td>Robbery</td>\n",
       "      <td>8300-8399</td>\n",
       "      <td>NORTH HOUSTON ROSSLYN</td>\n",
       "      <td>RD</td>\n",
       "      <td>-</td>\n",
       "      <td>6B30</td>\n",
       "      <td>18N</td>\n",
       "    </tr>\n",
       "    <tr>\n",
       "      <th>3</th>\n",
       "      <td>2009-08-01 00:00:00</td>\n",
       "      <td>1</td>\n",
       "      <td>Robbery</td>\n",
       "      <td>6300-6399</td>\n",
       "      <td>SKYLINE</td>\n",
       "      <td>DR</td>\n",
       "      <td>-</td>\n",
       "      <td>18F30</td>\n",
       "      <td>18A</td>\n",
       "    </tr>\n",
       "    <tr>\n",
       "      <th>4</th>\n",
       "      <td>2009-08-01 00:00:00</td>\n",
       "      <td>1</td>\n",
       "      <td>Robbery</td>\n",
       "      <td>5900-5999</td>\n",
       "      <td>FULTON</td>\n",
       "      <td>ST</td>\n",
       "      <td>-</td>\n",
       "      <td>2A20</td>\n",
       "      <td>18N</td>\n",
       "    </tr>\n",
       "  </tbody>\n",
       "</table>\n",
       "</div>"
      ],
      "text/plain": [
       "             date_time  offenses offense_type block_range  \\\n",
       "0  2009-08-01 00:00:00         1      Robbery   3000-3099   \n",
       "1  2009-08-01 00:00:00         1      Robbery     500-599   \n",
       "2  2009-08-01 00:00:00         1      Robbery   8300-8399   \n",
       "3  2009-08-01 00:00:00         1      Robbery   6300-6399   \n",
       "4  2009-08-01 00:00:00         1      Robbery   5900-5999   \n",
       "\n",
       "             street_name type suffix   beat premise  \n",
       "0                 DURHAM   DR      N   3B30     210  \n",
       "1                SEMINAR   DR      -   6B60     20A  \n",
       "2  NORTH HOUSTON ROSSLYN   RD      -   6B30     18N  \n",
       "3                SKYLINE   DR      -  18F30     18A  \n",
       "4                 FULTON   ST      -   2A20     18N  "
      ]
     },
     "execution_count": 16,
     "metadata": {},
     "output_type": "execute_result"
    }
   ],
   "source": [
    "df.head()"
   ]
  },
  {
   "cell_type": "code",
   "execution_count": null,
   "metadata": {},
   "outputs": [],
   "source": []
  },
  {
   "cell_type": "code",
   "execution_count": null,
   "metadata": {},
   "outputs": [],
   "source": []
  },
  {
   "cell_type": "code",
   "execution_count": null,
   "metadata": {},
   "outputs": [],
   "source": []
  },
  {
   "cell_type": "code",
   "execution_count": null,
   "metadata": {},
   "outputs": [],
   "source": []
  },
  {
   "cell_type": "code",
   "execution_count": null,
   "metadata": {},
   "outputs": [],
   "source": []
  },
  {
   "cell_type": "code",
   "execution_count": null,
   "metadata": {},
   "outputs": [],
   "source": []
  },
  {
   "cell_type": "code",
   "execution_count": null,
   "metadata": {},
   "outputs": [],
   "source": []
  },
  {
   "cell_type": "code",
   "execution_count": null,
   "metadata": {},
   "outputs": [],
   "source": []
  }
 ],
 "metadata": {
  "kernelspec": {
   "display_name": "Python 3",
   "language": "python",
   "name": "python3"
  },
  "language_info": {
   "codemirror_mode": {
    "name": "ipython",
    "version": 3
   },
   "file_extension": ".py",
   "mimetype": "text/x-python",
   "name": "python",
   "nbconvert_exporter": "python",
   "pygments_lexer": "ipython3",
   "version": "3.8.5"
  }
 },
 "nbformat": 4,
 "nbformat_minor": 4
}
