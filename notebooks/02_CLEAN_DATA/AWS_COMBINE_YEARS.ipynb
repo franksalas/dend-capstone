{
 "cells": [
  {
   "cell_type": "code",
   "execution_count": 1,
   "metadata": {},
   "outputs": [
    {
     "data": {
      "text/html": [
       "        <script type=\"text/javascript\">\n",
       "        window.PlotlyConfig = {MathJaxConfig: 'local'};\n",
       "        if (window.MathJax) {MathJax.Hub.Config({SVG: {font: \"STIX-Web\"}});}\n",
       "        if (typeof require !== 'undefined') {\n",
       "        require.undef(\"plotly\");\n",
       "        requirejs.config({\n",
       "            paths: {\n",
       "                'plotly': ['https://cdn.plot.ly/plotly-2.2.0.min']\n",
       "            }\n",
       "        });\n",
       "        require(['plotly'], function(Plotly) {\n",
       "            window._Plotly = Plotly;\n",
       "        });\n",
       "        }\n",
       "        </script>\n",
       "        "
      ]
     },
     "metadata": {},
     "output_type": "display_data"
    },
    {
     "name": "stdout",
     "output_type": "stream",
     "text": [
      "\n",
      "python\t3.9.6 (default, Jul 30 2021, 16:35:19) \n",
      "[GCC 7.5.0]\n",
      "---------------------\n",
      "Versions:\n",
      "----------------------\n",
      "pandas      1.3.1\n",
      "numpy       1.20.3\n",
      "matplotlib  3.4.2\n",
      "seaborn     0.11.1\n",
      "plotly      5.1.0\n",
      "boto3       1.18.16\n",
      "awswrangler 2.10.0\n",
      "----------------------\n",
      "\n",
      "\n",
      "Loaded Libraries\n",
      "-------------------\n",
      "import pandas as pd\n",
      "import numpy as np\n",
      "import sys,os\n",
      "import re\n",
      "import glob\n",
      "import pickle\n",
      "import seaborn as sns\n",
      "import matplotlib.pyplot as plt\n",
      "import plotly\n",
      "import plotly.graph_objs as go\n",
      "from plotly.offline import download_plotlyjs, init_notebook_mode, plot, iplot\n",
      "init_notebook_mode(connected=True)\n",
      "\n",
      "\n",
      "## AWS\n",
      "import boto3\n",
      "import awswrangler as wr\n",
      "----------------\n",
      "\n",
      "\n",
      "GLOBAL VARIABLES\n",
      "--------------------------\n",
      "# Creating the low level functional client\n",
      "client = boto3.client(\n",
      "    's3',\n",
      "    aws_access_key_id = AWS_KEY_ID,\n",
      "    aws_secret_access_key = AWS_SECRET,\n",
      ")\n",
      "    \n",
      "# Creating the high level object oriented interface\n",
      "resource = boto3.resource(\n",
      "    's3',\n",
      "    aws_access_key_id = AWS_KEY_ID,\n",
      "    aws_secret_access_key = AWS_SECRET,\n",
      ")\n",
      "\n",
      "HERE_DIR: list current directory path\n",
      "------------------------------\n",
      "\n",
      "# SAVE PLOTS\n",
      "To save a plot call\n",
      "`save_plots(fig_variable,'name_of_plot')`\n",
      "\n",
      "source file: src/start.py\n",
      "\n",
      "\n"
     ]
    }
   ],
   "source": [
    "%run ../../src/start.py"
   ]
  },
  {
   "cell_type": "markdown",
   "metadata": {},
   "source": [
    "## Load Data"
   ]
  },
  {
   "cell_type": "code",
   "execution_count": 2,
   "metadata": {},
   "outputs": [],
   "source": [
    "# helper function\n",
    "def bucket_raw_path(bucket_name,path_dir):\n",
    "    ''''''\n",
    "    raw_path = f's3://{bucket_name}/{path_dir}'\n",
    "    return raw_path"
   ]
  },
  {
   "cell_type": "code",
   "execution_count": 3,
   "metadata": {},
   "outputs": [
    {
     "data": {
      "text/plain": [
       "'s3://dend-data/capstone/inter-data/crime-data/'"
      ]
     },
     "execution_count": 3,
     "metadata": {},
     "output_type": "execute_result"
    }
   ],
   "source": [
    "raw = bucket_raw_path('dend-data',f'capstone/inter-data/crime-data/')\n",
    "raw"
   ]
  },
  {
   "cell_type": "markdown",
   "metadata": {},
   "source": [
    "## List objects in bucket"
   ]
  },
  {
   "cell_type": "code",
   "execution_count": 4,
   "metadata": {},
   "outputs": [
    {
     "data": {
      "text/plain": [
       "['s3://dend-data/capstone/inter-data/crime-data/crime_2009.csv',\n",
       " 's3://dend-data/capstone/inter-data/crime-data/crime_2010.csv',\n",
       " 's3://dend-data/capstone/inter-data/crime-data/crime_2011.csv',\n",
       " 's3://dend-data/capstone/inter-data/crime-data/crime_2012.csv',\n",
       " 's3://dend-data/capstone/inter-data/crime-data/crime_2013.csv',\n",
       " 's3://dend-data/capstone/inter-data/crime-data/crime_2014.csv',\n",
       " 's3://dend-data/capstone/inter-data/crime-data/crime_2015.csv',\n",
       " 's3://dend-data/capstone/inter-data/crime-data/crime_2016.csv',\n",
       " 's3://dend-data/capstone/inter-data/crime-data/crime_2017.csv',\n",
       " 's3://dend-data/capstone/inter-data/crime-data/crime_2018.csv']"
      ]
     },
     "execution_count": 4,
     "metadata": {},
     "output_type": "execute_result"
    }
   ],
   "source": [
    "wr.s3.list_objects(raw)"
   ]
  },
  {
   "cell_type": "markdown",
   "metadata": {},
   "source": [
    "## Create dataframe from s3 files"
   ]
  },
  {
   "cell_type": "code",
   "execution_count": 5,
   "metadata": {},
   "outputs": [],
   "source": [
    "def s3_files_to_df(s3_files_path):\n",
    "    ''' load s3 file path from wr result\n",
    "    returns a dataframe of concat files '''\n",
    "    df_list = []\n",
    "    for i in wr.s3.list_objects(s3_files_path):\n",
    "        temp = wr.s3.read_csv(i,)\n",
    "        df_list.append(temp)\n",
    "    # create df from list files\n",
    "    df = pd.concat(df_list, ignore_index=True)\n",
    "    return df"
   ]
  },
  {
   "cell_type": "code",
   "execution_count": 6,
   "metadata": {},
   "outputs": [
    {
     "name": "stdout",
     "output_type": "stream",
     "text": [
      "CPU times: user 3.35 s, sys: 704 ms, total: 4.06 s\n",
      "Wall time: 1min 19s\n"
     ]
    }
   ],
   "source": [
    "%%time\n",
    "df = s3_files_to_df(raw)"
   ]
  },
  {
   "cell_type": "code",
   "execution_count": 7,
   "metadata": {},
   "outputs": [
    {
     "data": {
      "text/html": [
       "<div>\n",
       "<style scoped>\n",
       "    .dataframe tbody tr th:only-of-type {\n",
       "        vertical-align: middle;\n",
       "    }\n",
       "\n",
       "    .dataframe tbody tr th {\n",
       "        vertical-align: top;\n",
       "    }\n",
       "\n",
       "    .dataframe thead th {\n",
       "        text-align: right;\n",
       "    }\n",
       "</style>\n",
       "<table border=\"1\" class=\"dataframe\">\n",
       "  <thead>\n",
       "    <tr style=\"text-align: right;\">\n",
       "      <th></th>\n",
       "      <th>date_time</th>\n",
       "      <th>offenses</th>\n",
       "      <th>offense_type</th>\n",
       "      <th>block_range</th>\n",
       "      <th>street_name</th>\n",
       "      <th>type</th>\n",
       "      <th>suffix</th>\n",
       "      <th>beat</th>\n",
       "      <th>premise</th>\n",
       "      <th>date</th>\n",
       "      <th>hour</th>\n",
       "      <th>year</th>\n",
       "    </tr>\n",
       "  </thead>\n",
       "  <tbody>\n",
       "  </tbody>\n",
       "</table>\n",
       "</div>"
      ],
      "text/plain": [
       "Empty DataFrame\n",
       "Columns: [date_time, offenses, offense_type, block_range, street_name, type, suffix, beat, premise, date, hour, year]\n",
       "Index: []"
      ]
     },
     "execution_count": 7,
     "metadata": {},
     "output_type": "execute_result"
    }
   ],
   "source": [
    "df.loc[df.duplicated(keep='first'),:]"
   ]
  },
  {
   "cell_type": "code",
   "execution_count": 8,
   "metadata": {},
   "outputs": [
    {
     "name": "stdout",
     "output_type": "stream",
     "text": [
      "<class 'pandas.core.frame.DataFrame'>\n",
      "RangeIndex: 1122391 entries, 0 to 1122390\n",
      "Data columns (total 12 columns):\n",
      " #   Column        Non-Null Count    Dtype \n",
      "---  ------        --------------    ----- \n",
      " 0   date_time     1122391 non-null  object\n",
      " 1   offenses      1122391 non-null  int64 \n",
      " 2   offense_type  1122391 non-null  object\n",
      " 3   block_range   1122391 non-null  object\n",
      " 4   street_name   1122391 non-null  object\n",
      " 5   type          1122391 non-null  object\n",
      " 6   suffix        1122391 non-null  object\n",
      " 7   beat          1122391 non-null  object\n",
      " 8   premise       1122391 non-null  object\n",
      " 9   date          1122391 non-null  object\n",
      " 10  hour          1122391 non-null  int64 \n",
      " 11  year          1122391 non-null  int64 \n",
      "dtypes: int64(3), object(9)\n",
      "memory usage: 102.8+ MB\n"
     ]
    }
   ],
   "source": [
    "df.info()\n",
    "#1,126,465"
   ]
  },
  {
   "cell_type": "code",
   "execution_count": 9,
   "metadata": {},
   "outputs": [],
   "source": [
    "# convert date_time col to date_time\n",
    "df.date_time = pd.to_datetime(df.date_time)"
   ]
  },
  {
   "cell_type": "code",
   "execution_count": 10,
   "metadata": {},
   "outputs": [
    {
     "name": "stdout",
     "output_type": "stream",
     "text": [
      "<class 'pandas.core.frame.DataFrame'>\n",
      "RangeIndex: 1122391 entries, 0 to 1122390\n",
      "Data columns (total 12 columns):\n",
      " #   Column        Non-Null Count    Dtype         \n",
      "---  ------        --------------    -----         \n",
      " 0   date_time     1122391 non-null  datetime64[ns]\n",
      " 1   offenses      1122391 non-null  int64         \n",
      " 2   offense_type  1122391 non-null  object        \n",
      " 3   block_range   1122391 non-null  object        \n",
      " 4   street_name   1122391 non-null  object        \n",
      " 5   type          1122391 non-null  object        \n",
      " 6   suffix        1122391 non-null  object        \n",
      " 7   beat          1122391 non-null  object        \n",
      " 8   premise       1122391 non-null  object        \n",
      " 9   date          1122391 non-null  object        \n",
      " 10  hour          1122391 non-null  int64         \n",
      " 11  year          1122391 non-null  int64         \n",
      "dtypes: datetime64[ns](1), int64(3), object(8)\n",
      "memory usage: 102.8+ MB\n"
     ]
    }
   ],
   "source": [
    "df.info()"
   ]
  },
  {
   "cell_type": "code",
   "execution_count": null,
   "metadata": {},
   "outputs": [],
   "source": []
  },
  {
   "cell_type": "code",
   "execution_count": 11,
   "metadata": {},
   "outputs": [
    {
     "data": {
      "text/html": [
       "<div>\n",
       "<style scoped>\n",
       "    .dataframe tbody tr th:only-of-type {\n",
       "        vertical-align: middle;\n",
       "    }\n",
       "\n",
       "    .dataframe tbody tr th {\n",
       "        vertical-align: top;\n",
       "    }\n",
       "\n",
       "    .dataframe thead th {\n",
       "        text-align: right;\n",
       "    }\n",
       "</style>\n",
       "<table border=\"1\" class=\"dataframe\">\n",
       "  <thead>\n",
       "    <tr style=\"text-align: right;\">\n",
       "      <th></th>\n",
       "      <th>date_time</th>\n",
       "      <th>offenses</th>\n",
       "      <th>offense_type</th>\n",
       "      <th>block_range</th>\n",
       "      <th>street_name</th>\n",
       "      <th>type</th>\n",
       "      <th>suffix</th>\n",
       "      <th>beat</th>\n",
       "      <th>premise</th>\n",
       "      <th>date</th>\n",
       "      <th>hour</th>\n",
       "      <th>year</th>\n",
       "    </tr>\n",
       "  </thead>\n",
       "  <tbody>\n",
       "    <tr>\n",
       "      <th>0</th>\n",
       "      <td>2009-08-01 00:00:00</td>\n",
       "      <td>1</td>\n",
       "      <td>Robbery</td>\n",
       "      <td>3000-3099</td>\n",
       "      <td>DURHAM</td>\n",
       "      <td>DR</td>\n",
       "      <td>N</td>\n",
       "      <td>3B30</td>\n",
       "      <td>210</td>\n",
       "      <td>08/01/09 00:00:00</td>\n",
       "      <td>0</td>\n",
       "      <td>2009</td>\n",
       "    </tr>\n",
       "    <tr>\n",
       "      <th>1</th>\n",
       "      <td>2009-08-01 00:00:00</td>\n",
       "      <td>1</td>\n",
       "      <td>Robbery</td>\n",
       "      <td>500-599</td>\n",
       "      <td>SEMINAR</td>\n",
       "      <td>DR</td>\n",
       "      <td>-</td>\n",
       "      <td>6B60</td>\n",
       "      <td>20A</td>\n",
       "      <td>08/01/09 00:00:00</td>\n",
       "      <td>0</td>\n",
       "      <td>2009</td>\n",
       "    </tr>\n",
       "    <tr>\n",
       "      <th>2</th>\n",
       "      <td>2009-08-01 00:00:00</td>\n",
       "      <td>1</td>\n",
       "      <td>Robbery</td>\n",
       "      <td>8300-8399</td>\n",
       "      <td>NORTH HOUSTON ROSSLYN</td>\n",
       "      <td>RD</td>\n",
       "      <td>-</td>\n",
       "      <td>6B30</td>\n",
       "      <td>18N</td>\n",
       "      <td>08/01/09 00:00:00</td>\n",
       "      <td>0</td>\n",
       "      <td>2009</td>\n",
       "    </tr>\n",
       "    <tr>\n",
       "      <th>3</th>\n",
       "      <td>2009-08-01 00:00:00</td>\n",
       "      <td>1</td>\n",
       "      <td>Robbery</td>\n",
       "      <td>6300-6399</td>\n",
       "      <td>SKYLINE</td>\n",
       "      <td>DR</td>\n",
       "      <td>-</td>\n",
       "      <td>18F30</td>\n",
       "      <td>18A</td>\n",
       "      <td>08/01/09 00:00:00</td>\n",
       "      <td>0</td>\n",
       "      <td>2009</td>\n",
       "    </tr>\n",
       "    <tr>\n",
       "      <th>4</th>\n",
       "      <td>2009-08-01 00:00:00</td>\n",
       "      <td>1</td>\n",
       "      <td>Robbery</td>\n",
       "      <td>5900-5999</td>\n",
       "      <td>FULTON</td>\n",
       "      <td>ST</td>\n",
       "      <td>-</td>\n",
       "      <td>2A20</td>\n",
       "      <td>18N</td>\n",
       "      <td>08/01/09 00:00:00</td>\n",
       "      <td>0</td>\n",
       "      <td>2009</td>\n",
       "    </tr>\n",
       "    <tr>\n",
       "      <th>...</th>\n",
       "      <td>...</td>\n",
       "      <td>...</td>\n",
       "      <td>...</td>\n",
       "      <td>...</td>\n",
       "      <td>...</td>\n",
       "      <td>...</td>\n",
       "      <td>...</td>\n",
       "      <td>...</td>\n",
       "      <td>...</td>\n",
       "      <td>...</td>\n",
       "      <td>...</td>\n",
       "      <td>...</td>\n",
       "    </tr>\n",
       "    <tr>\n",
       "      <th>1122386</th>\n",
       "      <td>2018-05-27 03:00:00</td>\n",
       "      <td>1</td>\n",
       "      <td>Robbery</td>\n",
       "      <td>4100-4199</td>\n",
       "      <td>DARWIN</td>\n",
       "      <td>-</td>\n",
       "      <td>-</td>\n",
       "      <td>UNK</td>\n",
       "      <td>Road, Street, or Sidewalk</td>\n",
       "      <td>05/27/2018</td>\n",
       "      <td>3</td>\n",
       "      <td>2018</td>\n",
       "    </tr>\n",
       "    <tr>\n",
       "      <th>1122387</th>\n",
       "      <td>2018-05-28 22:00:00</td>\n",
       "      <td>1</td>\n",
       "      <td>Theft</td>\n",
       "      <td>17700-17799</td>\n",
       "      <td>EASTEX</td>\n",
       "      <td>FWY</td>\n",
       "      <td>-</td>\n",
       "      <td>UNK</td>\n",
       "      <td>Apartment Parking Lot</td>\n",
       "      <td>05/28/2018</td>\n",
       "      <td>22</td>\n",
       "      <td>2018</td>\n",
       "    </tr>\n",
       "    <tr>\n",
       "      <th>1122388</th>\n",
       "      <td>2018-05-28 22:00:00</td>\n",
       "      <td>1</td>\n",
       "      <td>Theft</td>\n",
       "      <td>900-999</td>\n",
       "      <td>ST EMANUEL</td>\n",
       "      <td>-</td>\n",
       "      <td>-</td>\n",
       "      <td>UNK</td>\n",
       "      <td>Other Parking Lot</td>\n",
       "      <td>05/28/2018</td>\n",
       "      <td>22</td>\n",
       "      <td>2018</td>\n",
       "    </tr>\n",
       "    <tr>\n",
       "      <th>1122389</th>\n",
       "      <td>2018-05-30 23:00:00</td>\n",
       "      <td>1</td>\n",
       "      <td>AutoTheft</td>\n",
       "      <td>10800-10899</td>\n",
       "      <td>SHADY</td>\n",
       "      <td>LN</td>\n",
       "      <td>-</td>\n",
       "      <td>UNK</td>\n",
       "      <td>Service or Gas Station</td>\n",
       "      <td>05/30/2018</td>\n",
       "      <td>23</td>\n",
       "      <td>2018</td>\n",
       "    </tr>\n",
       "    <tr>\n",
       "      <th>1122390</th>\n",
       "      <td>2018-05-30 05:00:00</td>\n",
       "      <td>1</td>\n",
       "      <td>Theft</td>\n",
       "      <td>600-699</td>\n",
       "      <td>VICTORY</td>\n",
       "      <td>DR</td>\n",
       "      <td>-</td>\n",
       "      <td>UNK</td>\n",
       "      <td>Grocery Store or Supermarket</td>\n",
       "      <td>05/30/2018</td>\n",
       "      <td>5</td>\n",
       "      <td>2018</td>\n",
       "    </tr>\n",
       "  </tbody>\n",
       "</table>\n",
       "<p>1122391 rows × 12 columns</p>\n",
       "</div>"
      ],
      "text/plain": [
       "                  date_time  offenses offense_type  block_range  \\\n",
       "0       2009-08-01 00:00:00         1      Robbery    3000-3099   \n",
       "1       2009-08-01 00:00:00         1      Robbery      500-599   \n",
       "2       2009-08-01 00:00:00         1      Robbery    8300-8399   \n",
       "3       2009-08-01 00:00:00         1      Robbery    6300-6399   \n",
       "4       2009-08-01 00:00:00         1      Robbery    5900-5999   \n",
       "...                     ...       ...          ...          ...   \n",
       "1122386 2018-05-27 03:00:00         1      Robbery    4100-4199   \n",
       "1122387 2018-05-28 22:00:00         1        Theft  17700-17799   \n",
       "1122388 2018-05-28 22:00:00         1        Theft      900-999   \n",
       "1122389 2018-05-30 23:00:00         1    AutoTheft  10800-10899   \n",
       "1122390 2018-05-30 05:00:00         1        Theft      600-699   \n",
       "\n",
       "                   street_name type suffix   beat  \\\n",
       "0                       DURHAM   DR      N   3B30   \n",
       "1                      SEMINAR   DR      -   6B60   \n",
       "2        NORTH HOUSTON ROSSLYN   RD      -   6B30   \n",
       "3                      SKYLINE   DR      -  18F30   \n",
       "4                       FULTON   ST      -   2A20   \n",
       "...                        ...  ...    ...    ...   \n",
       "1122386                 DARWIN    -      -    UNK   \n",
       "1122387                 EASTEX  FWY      -    UNK   \n",
       "1122388             ST EMANUEL    -      -    UNK   \n",
       "1122389                  SHADY   LN      -    UNK   \n",
       "1122390                VICTORY   DR      -    UNK   \n",
       "\n",
       "                              premise               date  hour  year  \n",
       "0                                 210  08/01/09 00:00:00     0  2009  \n",
       "1                                 20A  08/01/09 00:00:00     0  2009  \n",
       "2                                 18N  08/01/09 00:00:00     0  2009  \n",
       "3                                 18A  08/01/09 00:00:00     0  2009  \n",
       "4                                 18N  08/01/09 00:00:00     0  2009  \n",
       "...                               ...                ...   ...   ...  \n",
       "1122386     Road, Street, or Sidewalk         05/27/2018     3  2018  \n",
       "1122387         Apartment Parking Lot         05/28/2018    22  2018  \n",
       "1122388             Other Parking Lot         05/28/2018    22  2018  \n",
       "1122389        Service or Gas Station         05/30/2018    23  2018  \n",
       "1122390  Grocery Store or Supermarket         05/30/2018     5  2018  \n",
       "\n",
       "[1122391 rows x 12 columns]"
      ]
     },
     "execution_count": 11,
     "metadata": {},
     "output_type": "execute_result"
    }
   ],
   "source": [
    "df"
   ]
  },
  {
   "cell_type": "markdown",
   "metadata": {},
   "source": [
    "## Show null data"
   ]
  },
  {
   "cell_type": "code",
   "execution_count": 12,
   "metadata": {},
   "outputs": [
    {
     "data": {
      "text/plain": [
       "date_time       0\n",
       "offenses        0\n",
       "offense_type    0\n",
       "block_range     0\n",
       "street_name     0\n",
       "type            0\n",
       "suffix          0\n",
       "beat            0\n",
       "premise         0\n",
       "date            0\n",
       "hour            0\n",
       "year            0\n",
       "dtype: int64"
      ]
     },
     "execution_count": 12,
     "metadata": {},
     "output_type": "execute_result"
    }
   ],
   "source": [
    "df.apply(lambda x: sum(x.isnull()))"
   ]
  },
  {
   "cell_type": "code",
   "execution_count": 13,
   "metadata": {},
   "outputs": [
    {
     "data": {
      "text/html": [
       "<div>\n",
       "<style scoped>\n",
       "    .dataframe tbody tr th:only-of-type {\n",
       "        vertical-align: middle;\n",
       "    }\n",
       "\n",
       "    .dataframe tbody tr th {\n",
       "        vertical-align: top;\n",
       "    }\n",
       "\n",
       "    .dataframe thead th {\n",
       "        text-align: right;\n",
       "    }\n",
       "</style>\n",
       "<table border=\"1\" class=\"dataframe\">\n",
       "  <thead>\n",
       "    <tr style=\"text-align: right;\">\n",
       "      <th></th>\n",
       "      <th>null_percent</th>\n",
       "    </tr>\n",
       "  </thead>\n",
       "  <tbody>\n",
       "    <tr>\n",
       "      <th>date_time</th>\n",
       "      <td>0.0</td>\n",
       "    </tr>\n",
       "    <tr>\n",
       "      <th>offenses</th>\n",
       "      <td>0.0</td>\n",
       "    </tr>\n",
       "    <tr>\n",
       "      <th>offense_type</th>\n",
       "      <td>0.0</td>\n",
       "    </tr>\n",
       "    <tr>\n",
       "      <th>block_range</th>\n",
       "      <td>0.0</td>\n",
       "    </tr>\n",
       "    <tr>\n",
       "      <th>street_name</th>\n",
       "      <td>0.0</td>\n",
       "    </tr>\n",
       "    <tr>\n",
       "      <th>type</th>\n",
       "      <td>0.0</td>\n",
       "    </tr>\n",
       "    <tr>\n",
       "      <th>suffix</th>\n",
       "      <td>0.0</td>\n",
       "    </tr>\n",
       "    <tr>\n",
       "      <th>beat</th>\n",
       "      <td>0.0</td>\n",
       "    </tr>\n",
       "    <tr>\n",
       "      <th>premise</th>\n",
       "      <td>0.0</td>\n",
       "    </tr>\n",
       "    <tr>\n",
       "      <th>date</th>\n",
       "      <td>0.0</td>\n",
       "    </tr>\n",
       "    <tr>\n",
       "      <th>hour</th>\n",
       "      <td>0.0</td>\n",
       "    </tr>\n",
       "    <tr>\n",
       "      <th>year</th>\n",
       "      <td>0.0</td>\n",
       "    </tr>\n",
       "  </tbody>\n",
       "</table>\n",
       "</div>"
      ],
      "text/plain": [
       "              null_percent\n",
       "date_time              0.0\n",
       "offenses               0.0\n",
       "offense_type           0.0\n",
       "block_range            0.0\n",
       "street_name            0.0\n",
       "type                   0.0\n",
       "suffix                 0.0\n",
       "beat                   0.0\n",
       "premise                0.0\n",
       "date                   0.0\n",
       "hour                   0.0\n",
       "year                   0.0"
      ]
     },
     "execution_count": 13,
     "metadata": {},
     "output_type": "execute_result"
    }
   ],
   "source": [
    "# create null percentage of column as dataframe\n",
    "null_per_df = pd.DataFrame(df.isna().mean().round(4) * 100)\n",
    "# rename columns\n",
    "null_per_df.rename(columns={'index': 'col_name', 0: 'null_percent'}, inplace=True)\n",
    "\n",
    "# filter data <20% null values\n",
    "per_filter = null_per_df.null_percent<=90\n",
    "null_per_df[per_filter].sort_values(by='null_percent',ascending=False)"
   ]
  },
  {
   "cell_type": "code",
   "execution_count": 14,
   "metadata": {},
   "outputs": [
    {
     "data": {
      "image/png": "[encoded data removed]",
      "text/plain": [
       "<Figure size 1500x400 with 1 Axes>"
      ]
     },
     "metadata": {},
     "output_type": "display_data"
    }
   ],
   "source": [
    "plt.figure(figsize=(15,4))\n",
    "sns.heatmap(df.isnull(),yticklabels=False,cbar=False,cmap='viridis')\n",
    "plt.title('Missing data')\n",
    "plt.show()"
   ]
  },
  {
   "cell_type": "code",
   "execution_count": 15,
   "metadata": {},
   "outputs": [
    {
     "name": "stdout",
     "output_type": "stream",
     "text": [
      "<class 'pandas.core.frame.DataFrame'>\n",
      "RangeIndex: 1122391 entries, 0 to 1122390\n",
      "Data columns (total 12 columns):\n",
      " #   Column        Non-Null Count    Dtype         \n",
      "---  ------        --------------    -----         \n",
      " 0   date_time     1122391 non-null  datetime64[ns]\n",
      " 1   offenses      1122391 non-null  int64         \n",
      " 2   offense_type  1122391 non-null  object        \n",
      " 3   block_range   1122391 non-null  object        \n",
      " 4   street_name   1122391 non-null  object        \n",
      " 5   type          1122391 non-null  object        \n",
      " 6   suffix        1122391 non-null  object        \n",
      " 7   beat          1122391 non-null  object        \n",
      " 8   premise       1122391 non-null  object        \n",
      " 9   date          1122391 non-null  object        \n",
      " 10  hour          1122391 non-null  int64         \n",
      " 11  year          1122391 non-null  int64         \n",
      "dtypes: datetime64[ns](1), int64(3), object(8)\n",
      "memory usage: 102.8+ MB\n"
     ]
    }
   ],
   "source": [
    "df.info()"
   ]
  },
  {
   "cell_type": "code",
   "execution_count": 16,
   "metadata": {},
   "outputs": [
    {
     "data": {
      "text/html": [
       "<div>\n",
       "<style scoped>\n",
       "    .dataframe tbody tr th:only-of-type {\n",
       "        vertical-align: middle;\n",
       "    }\n",
       "\n",
       "    .dataframe tbody tr th {\n",
       "        vertical-align: top;\n",
       "    }\n",
       "\n",
       "    .dataframe thead th {\n",
       "        text-align: right;\n",
       "    }\n",
       "</style>\n",
       "<table border=\"1\" class=\"dataframe\">\n",
       "  <thead>\n",
       "    <tr style=\"text-align: right;\">\n",
       "      <th></th>\n",
       "      <th>date_time</th>\n",
       "      <th>offenses</th>\n",
       "      <th>offense_type</th>\n",
       "      <th>block_range</th>\n",
       "      <th>street_name</th>\n",
       "      <th>type</th>\n",
       "      <th>suffix</th>\n",
       "      <th>beat</th>\n",
       "      <th>premise</th>\n",
       "      <th>date</th>\n",
       "      <th>hour</th>\n",
       "      <th>year</th>\n",
       "    </tr>\n",
       "  </thead>\n",
       "  <tbody>\n",
       "    <tr>\n",
       "      <th>0</th>\n",
       "      <td>2009-08-01</td>\n",
       "      <td>1</td>\n",
       "      <td>Robbery</td>\n",
       "      <td>3000-3099</td>\n",
       "      <td>DURHAM</td>\n",
       "      <td>DR</td>\n",
       "      <td>N</td>\n",
       "      <td>3B30</td>\n",
       "      <td>210</td>\n",
       "      <td>08/01/09 00:00:00</td>\n",
       "      <td>0</td>\n",
       "      <td>2009</td>\n",
       "    </tr>\n",
       "    <tr>\n",
       "      <th>1</th>\n",
       "      <td>2009-08-01</td>\n",
       "      <td>1</td>\n",
       "      <td>Robbery</td>\n",
       "      <td>500-599</td>\n",
       "      <td>SEMINAR</td>\n",
       "      <td>DR</td>\n",
       "      <td>-</td>\n",
       "      <td>6B60</td>\n",
       "      <td>20A</td>\n",
       "      <td>08/01/09 00:00:00</td>\n",
       "      <td>0</td>\n",
       "      <td>2009</td>\n",
       "    </tr>\n",
       "    <tr>\n",
       "      <th>2</th>\n",
       "      <td>2009-08-01</td>\n",
       "      <td>1</td>\n",
       "      <td>Robbery</td>\n",
       "      <td>8300-8399</td>\n",
       "      <td>NORTH HOUSTON ROSSLYN</td>\n",
       "      <td>RD</td>\n",
       "      <td>-</td>\n",
       "      <td>6B30</td>\n",
       "      <td>18N</td>\n",
       "      <td>08/01/09 00:00:00</td>\n",
       "      <td>0</td>\n",
       "      <td>2009</td>\n",
       "    </tr>\n",
       "    <tr>\n",
       "      <th>3</th>\n",
       "      <td>2009-08-01</td>\n",
       "      <td>1</td>\n",
       "      <td>Robbery</td>\n",
       "      <td>6300-6399</td>\n",
       "      <td>SKYLINE</td>\n",
       "      <td>DR</td>\n",
       "      <td>-</td>\n",
       "      <td>18F30</td>\n",
       "      <td>18A</td>\n",
       "      <td>08/01/09 00:00:00</td>\n",
       "      <td>0</td>\n",
       "      <td>2009</td>\n",
       "    </tr>\n",
       "    <tr>\n",
       "      <th>4</th>\n",
       "      <td>2009-08-01</td>\n",
       "      <td>1</td>\n",
       "      <td>Robbery</td>\n",
       "      <td>5900-5999</td>\n",
       "      <td>FULTON</td>\n",
       "      <td>ST</td>\n",
       "      <td>-</td>\n",
       "      <td>2A20</td>\n",
       "      <td>18N</td>\n",
       "      <td>08/01/09 00:00:00</td>\n",
       "      <td>0</td>\n",
       "      <td>2009</td>\n",
       "    </tr>\n",
       "  </tbody>\n",
       "</table>\n",
       "</div>"
      ],
      "text/plain": [
       "   date_time  offenses offense_type block_range            street_name type  \\\n",
       "0 2009-08-01         1      Robbery   3000-3099                 DURHAM   DR   \n",
       "1 2009-08-01         1      Robbery     500-599                SEMINAR   DR   \n",
       "2 2009-08-01         1      Robbery   8300-8399  NORTH HOUSTON ROSSLYN   RD   \n",
       "3 2009-08-01         1      Robbery   6300-6399                SKYLINE   DR   \n",
       "4 2009-08-01         1      Robbery   5900-5999                 FULTON   ST   \n",
       "\n",
       "  suffix   beat premise               date  hour  year  \n",
       "0      N   3B30     210  08/01/09 00:00:00     0  2009  \n",
       "1      -   6B60     20A  08/01/09 00:00:00     0  2009  \n",
       "2      -   6B30     18N  08/01/09 00:00:00     0  2009  \n",
       "3      -  18F30     18A  08/01/09 00:00:00     0  2009  \n",
       "4      -   2A20     18N  08/01/09 00:00:00     0  2009  "
      ]
     },
     "execution_count": 16,
     "metadata": {},
     "output_type": "execute_result"
    }
   ],
   "source": [
    "df.head()"
   ]
  },
  {
   "cell_type": "markdown",
   "metadata": {},
   "source": [
    "## Explore Each Column"
   ]
  },
  {
   "cell_type": "code",
   "execution_count": 17,
   "metadata": {},
   "outputs": [],
   "source": [
    "def create_new_cell(contents):\n",
    "    '''created new jupyter cells by inputing a list of columns\n",
    "    outputs'''\n",
    "    from IPython.core.getipython import get_ipython\n",
    "    shell = get_ipython()\n",
    "    payload = dict(\n",
    "        source='set_next_input',\n",
    "        #text=f'#column:{contents}\\ndf.{contents}.value_counts(dropna=False)[:10]'.format(contents),\n",
    "        text=f'# column:{contents}\\ndf.{contents}.value_counts(dropna=False)[:10]',\n",
    "        replace=False,)\n",
    "    shell.payload_manager.write_payload(payload, single=False)\n",
    "\n",
    "    \n",
    "def strip_col(col):\n",
    "    print(f'column:{col}')\n",
    "    print('before:{}'.format(len(df[col].value_counts(dropna=False))))\n",
    "    df[col] = df[col].str.strip()\n",
    "    print('after:{}'.format(len(df[col].value_counts(dropna=False))))    \n",
    "    \n",
    "def lower_col(col):\n",
    "    print(f'column:{col}')\n",
    "    print('before:{}'.format(len(df[col].value_counts(dropna=False))))\n",
    "    df[col] = df[col].str.lower()\n",
    "    print('after:{}'.format(len(df[col].value_counts(dropna=False))))       \n",
    "    \n",
    "    \n",
    "    \n",
    "def capital_col(col):\n",
    "    print(f'column:{col}')\n",
    "    print('before:{}'.format(len(df[col].value_counts(dropna=False))))\n",
    "    df[col] = df[col].str.capitalize()\n",
    "    print('after:{}'.format(len(df[col].value_counts(dropna=False))))      "
   ]
  },
  {
   "cell_type": "code",
   "execution_count": 18,
   "metadata": {},
   "outputs": [
    {
     "data": {
      "text/plain": [
       "['date_time',\n",
       " 'offenses',\n",
       " 'offense_type',\n",
       " 'block_range',\n",
       " 'street_name',\n",
       " 'type',\n",
       " 'suffix',\n",
       " 'beat',\n",
       " 'premise',\n",
       " 'date',\n",
       " 'hour',\n",
       " 'year']"
      ]
     },
     "execution_count": 18,
     "metadata": {},
     "output_type": "execute_result"
    }
   ],
   "source": [
    "col_list = df.columns.tolist()\n",
    "col_list"
   ]
  },
  {
   "cell_type": "code",
   "execution_count": 19,
   "metadata": {},
   "outputs": [
    {
     "data": {
      "text/plain": [
       "2010-10-01 00:00:00    487\n",
       "07/13/09 00:00:00      484\n",
       "2013-12-20 00:00:00    478\n",
       "08/01/09 00:00:00      474\n",
       "2010-07-01 00:00:00    473\n",
       "                      ... \n",
       "1974-04-27 00:00:00      1\n",
       "2007-02-05 00:00:00      1\n",
       "2009-09-03 00:00:00      1\n",
       "2009-03-20 00:00:00      1\n",
       "02/23/2016               1\n",
       "Name: date, Length: 4649, dtype: int64"
      ]
     },
     "execution_count": 19,
     "metadata": {},
     "output_type": "execute_result"
    }
   ],
   "source": [
    "df.date.value_counts(dropna=False)"
   ]
  },
  {
   "cell_type": "code",
   "execution_count": 20,
   "metadata": {},
   "outputs": [
    {
     "data": {
      "text/plain": [
       "2011-01-01 00:00:00    72\n",
       "2010-01-01 00:00:00    68\n",
       "2009-12-01 00:00:00    60\n",
       "2010-06-01 00:00:00    59\n",
       "2011-09-01 00:00:00    57\n",
       "                       ..\n",
       "2000-12-27 15:00:00     1\n",
       "2006-01-26 00:00:00     1\n",
       "2012-12-21 03:00:00     1\n",
       "2004-12-12 09:00:00     1\n",
       "2009-01-30 17:00:00     1\n",
       "Name: date_time, Length: 79685, dtype: int64"
      ]
     },
     "execution_count": 20,
     "metadata": {},
     "output_type": "execute_result"
    }
   ],
   "source": [
    "df.date_time.value_counts(dropna=False)"
   ]
  },
  {
   "cell_type": "code",
   "execution_count": 21,
   "metadata": {},
   "outputs": [
    {
     "data": {
      "text/plain": [
       "12    63638\n",
       "18    63637\n",
       "17    62322\n",
       "15    61501\n",
       "16    59982\n",
       "19    58776\n",
       "14    58240\n",
       "20    57277\n",
       "13    55306\n",
       "22    54301\n",
       "10    53653\n",
       "11    53092\n",
       "21    52972\n",
       "9     50315\n",
       "8     50119\n",
       "0     48811\n",
       "23    44958\n",
       "7     40825\n",
       "1     27338\n",
       "6     26835\n",
       "2     25457\n",
       "3     19748\n",
       "5     17280\n",
       "4     16004\n",
       "24        4\n",
       "Name: hour, dtype: int64"
      ]
     },
     "execution_count": 21,
     "metadata": {},
     "output_type": "execute_result"
    }
   ],
   "source": [
    "df.hour.value_counts(dropna=False)"
   ]
  },
  {
   "cell_type": "code",
   "execution_count": null,
   "metadata": {},
   "outputs": [],
   "source": []
  },
  {
   "cell_type": "code",
   "execution_count": null,
   "metadata": {},
   "outputs": [],
   "source": [
    "# # only run once\n",
    "# for col in col_list:\n",
    "#     create_new_cell(col)"
   ]
  },
  {
   "cell_type": "code",
   "execution_count": 22,
   "metadata": {},
   "outputs": [
    {
     "data": {
      "text/plain": [
       "2010    135357\n",
       "2013    129699\n",
       "2012    127109\n",
       "2011    126855\n",
       "2016    122682\n",
       "2014    121410\n",
       "2015    119941\n",
       "2017    119724\n",
       "2009     72600\n",
       "2018     47014\n",
       "Name: year, dtype: int64"
      ]
     },
     "execution_count": 22,
     "metadata": {},
     "output_type": "execute_result"
    }
   ],
   "source": [
    "# column:year\n",
    "df.year.value_counts(dropna=False)"
   ]
  },
  {
   "cell_type": "code",
   "execution_count": 23,
   "metadata": {},
   "outputs": [
    {
     "data": {
      "text/plain": [
       "20A                          83563\n",
       "20R                          83454\n",
       "18A                          74091\n",
       "Residence or House           61222\n",
       "Apartment Parking Lot        51271\n",
       "13R                          47017\n",
       "Road, Street, or Sidewalk    44939\n",
       "Apartment                    44523\n",
       "20D                          42251\n",
       "UNK                          33590\n",
       "Name: premise, dtype: int64"
      ]
     },
     "execution_count": 23,
     "metadata": {},
     "output_type": "execute_result"
    }
   ],
   "source": [
    "# column:premise\n",
    "df.premise.value_counts(dropna=False)[:10]"
   ]
  },
  {
   "cell_type": "code",
   "execution_count": 24,
   "metadata": {},
   "outputs": [
    {
     "data": {
      "text/plain": [
       "267"
      ]
     },
     "execution_count": 24,
     "metadata": {},
     "output_type": "execute_result"
    }
   ],
   "source": [
    "# get total unique values\n",
    "len(df.premise.unique())"
   ]
  },
  {
   "cell_type": "code",
   "execution_count": 25,
   "metadata": {},
   "outputs": [
    {
     "data": {
      "text/plain": [
       "array(['210', '20A', '18N', '18A', '20R', '040', '250', '070', '20D',\n",
       "       '13R', '140', '11P', '03B', '09D', '18M', '240', '120', '05O',\n",
       "       '02B', '05Z', '080', '18G', '18H', '01A', '20V', '18O', '18T',\n",
       "       '05G', '18P', '20G', '18R', '060', '23S', '20L', '20P', '18U',\n",
       "       '18C', '05R', '05L', '20C', '05T', '11R', '18L', '05W', '24J',\n",
       "       '18W', '190', '13H', '13B', '14V', '05C', '170', '03S', '05H',\n",
       "       '13S', '20W', '24E', '100', '22E', '20M', '01P', '22P', '24C',\n",
       "       '22U', '24F', '05D', '20N', '18B', '09H', '13A', '22D', '11G',\n",
       "       '05E', '01B', '24T', '05V', '05M', '05X', '05F', '11S', '24P',\n",
       "       '19V', '05P', '11F', '24B', '09P', '24A', '02C', '24S', '05B',\n",
       "       '18S', '05S', '22M', '05Q', '05N', '09R', '22H', '02S', '24V',\n",
       "       '25V', '24G', '150', '160', '13T', '18D', '05A', '11C', '22C',\n",
       "       '20H', '09V', '11L', '04V', '---', '05Y', '21V', '11V', '12V',\n",
       "       '01K', '05U', '23C', 'RES', '22V', '25R', '01R', '01T', '24M',\n",
       "       '13C', '02V', '06', 'N', 'Residence or House', 'Driveway',\n",
       "       'Apartment Parking Lot', 'UNK', 'Bar or Night Club Parking Lot',\n",
       "       'Convenience Store', 'Vacant Storage Fac (Barn,Garage,Warehouse)',\n",
       "       'Department or Discount Store', 'Warehouse',\n",
       "       'Strip Business Center Parking Lot',\n",
       "       'Factory, Manufacturing, or Industrial', 'Other Parking Lot',\n",
       "       'Apartment', 'Vehicle/Auto Sales/Lease/Auto Parts Store',\n",
       "       'Road, Street, or Sidewalk', 'Vacant Building (Commercial)',\n",
       "       'Condominium', 'Miscellaneous Business (Non-Specific)',\n",
       "       'Convenience Store Parking Lot',\n",
       "       'Commercial Parking Lot or Garage', 'Garage or Carport',\n",
       "       'Multi-Plex Home (Duplex,Triplex Etc.)',\n",
       "       'Laundry or Dry Cleaners Parking Lot',\n",
       "       \"Physician, Doctor, Dentist's Office\", 'Commercial Building',\n",
       "       'Service or Gas Station',\n",
       "       'Vacant Single Occ Resd(House,Townhs,Dplex)',\n",
       "       'Grocery Store or Supermarket', 'Auto Repair', 'Bar or Night Club',\n",
       "       'Restaurant or Cafeteria', 'Restaurant or Cafeteria Parking Lot',\n",
       "       'Bus Stop', 'Bus Station',\n",
       "       'Church, Synagogue, or Temple Parking Lot',\n",
       "       'Drug Store or Medical Supply', 'Office Building',\n",
       "       'Grocery Store or Supermarket Parking Lot',\n",
       "       'Hotel, Motel, Inn, Etc.', 'Alley', 'Mall Common Area',\n",
       "       'Church, Synagogue, or Temple', 'Construction Site',\n",
       "       'Vacant Other Out Build/Monument/UnderConst',\n",
       "       'Vacant Grocery Store or Supermarket', 'Elementary School',\n",
       "       'Liquor Store', 'Laundry, Dry Cleaners, Washaterias',\n",
       "       'Vacant Other Residential (Apartment,Dorms)',\n",
       "       'Parks and Recreation, Zoo, Swimming Pool', 'Hospital',\n",
       "       'Specialty Store (Non-Specific)', 'Government or Public Building',\n",
       "       'Amusement Park, Bowling Alley, Skate Rink',\n",
       "       'Hospital Parking Lot', 'Daycare, Child Care, or Kindergarten',\n",
       "       'University or College',\n",
       "       'Toys, Arts Craft,Musical, Bike,Pet Stores',\n",
       "       'Hotel or Motel Parking Lot', 'Mall Parking Lot', 'Body Shop',\n",
       "       'Gym, Recreat, Club House, Indoor Pool, Spa',\n",
       "       'Pawn, Resale Shop, or Flea Market',\n",
       "       'Savings and Loan Institutions', 'Other, Unknown, or Not Listed',\n",
       "       'Barber And Beauty Shops', 'Car Wash',\n",
       "       'Field, Woods, Forest, Park', 'Check Cashing Places',\n",
       "       'Pool Hall or Game Room', 'Adult Book Store or Newsstand',\n",
       "       'Furniture, Appliances, Radios, TV Store',\n",
       "       'Rental Storage Facility',\n",
       "       'Theatres, Dinner Theaters, Auditoriums', 'Park and Ride Terminal',\n",
       "       'Mobile Home', 'Bank', 'Private School', 'Clothing Store',\n",
       "       'Electronics Store, Electrical Supplies', 'Video Rental & Sales',\n",
       "       'Jewelry Stores', 'Sexually Oriented Business Parking Lot',\n",
       "       'Apartment Laundry', 'Rehabilitation Center', 'Police Station',\n",
       "       'Light Rail (Metro Rail) Vehicle', 'Nursing Home',\n",
       "       'Light Rail Platform', 'Book, Record, Stationary, Office Supplies',\n",
       "       'Stadium, Sports Arena, Race Track', 'Sexually Oriented Club',\n",
       "       'Bank or Savings Institution Parking Lot',\n",
       "       'Convention Center or Exhibit Halls', 'Libraries, Museums',\n",
       "       'Railroad Track or Right Of Way', 'Apartment Rental Office',\n",
       "       'Airport Terminal', 'Liquor Store Parking Lot', 'Middle School',\n",
       "       'Commercial Or Training School', 'Tollway', 'High Rise',\n",
       "       'Freeway Service Road', 'Highway or Freeway',\n",
       "       'Vacant School or College/University',\n",
       "       'Maintenance or Building Services',\n",
       "       'Utility Company, Electric, Gas, Water',\n",
       "       'Vacant Government or Public Building',\n",
       "       'Lake, Pond, Waterway, Bayou, River',\n",
       "       'Marine Vehicle Sales, Boats, Sailboats', 'High School',\n",
       "       'Jail or Prison', 'Vacant Restaurant', 'Fire Station',\n",
       "       'Sporting Goods or Gun Shops', 'Credit Union',\n",
       "       'Garden Supply, Nursery, or Florist',\n",
       "       'Social Services or Public Charities', 'Vacant Hotel, Motel, Etc.',\n",
       "       'Train (Not Metro) Terminal', 'Contra-Flow, Managed, or HOV Lanes',\n",
       "       'Vacant Church, Synagogue, or Temple',\n",
       "       'Vacant Industrial or Manufacturing Blding', 'Vacant Bank',\n",
       "       'Vacant Hospital', 'Package Facility (FedEx,UPS,DHL)',\n",
       "       'Vacant Jail or Prison', 'Gym, Recreat, Club House, Indoor Pool',\n",
       "       'Adult Novelty Store', 'Illicit Massage Parlor or Spa',\n",
       "       'Not Listed', 'Adult Theater/Arcade', 'Modeling Studio', 'Cantina',\n",
       "       ' Not Listed', 'Escort Business'], dtype=object)"
      ]
     },
     "execution_count": 25,
     "metadata": {},
     "output_type": "execute_result"
    }
   ],
   "source": [
    "df.premise.unique()"
   ]
  },
  {
   "cell_type": "code",
   "execution_count": 26,
   "metadata": {},
   "outputs": [
    {
     "data": {
      "text/html": [
       "<div>\n",
       "<style scoped>\n",
       "    .dataframe tbody tr th:only-of-type {\n",
       "        vertical-align: middle;\n",
       "    }\n",
       "\n",
       "    .dataframe tbody tr th {\n",
       "        vertical-align: top;\n",
       "    }\n",
       "\n",
       "    .dataframe thead th {\n",
       "        text-align: right;\n",
       "    }\n",
       "</style>\n",
       "<table border=\"1\" class=\"dataframe\">\n",
       "  <thead>\n",
       "    <tr style=\"text-align: right;\">\n",
       "      <th></th>\n",
       "      <th>date_time</th>\n",
       "      <th>offenses</th>\n",
       "      <th>offense_type</th>\n",
       "      <th>block_range</th>\n",
       "      <th>street_name</th>\n",
       "      <th>type</th>\n",
       "      <th>suffix</th>\n",
       "      <th>beat</th>\n",
       "      <th>premise</th>\n",
       "      <th>date</th>\n",
       "      <th>hour</th>\n",
       "      <th>year</th>\n",
       "    </tr>\n",
       "  </thead>\n",
       "  <tbody>\n",
       "    <tr>\n",
       "      <th>0</th>\n",
       "      <td>2009-08-01 00:00:00</td>\n",
       "      <td>1</td>\n",
       "      <td>Robbery</td>\n",
       "      <td>3000-3099</td>\n",
       "      <td>DURHAM</td>\n",
       "      <td>DR</td>\n",
       "      <td>N</td>\n",
       "      <td>3B30</td>\n",
       "      <td>210</td>\n",
       "      <td>08/01/09 00:00:00</td>\n",
       "      <td>0</td>\n",
       "      <td>2009</td>\n",
       "    </tr>\n",
       "    <tr>\n",
       "      <th>1</th>\n",
       "      <td>2009-08-01 00:00:00</td>\n",
       "      <td>1</td>\n",
       "      <td>Robbery</td>\n",
       "      <td>500-599</td>\n",
       "      <td>SEMINAR</td>\n",
       "      <td>DR</td>\n",
       "      <td>-</td>\n",
       "      <td>6B60</td>\n",
       "      <td>20A</td>\n",
       "      <td>08/01/09 00:00:00</td>\n",
       "      <td>0</td>\n",
       "      <td>2009</td>\n",
       "    </tr>\n",
       "    <tr>\n",
       "      <th>2</th>\n",
       "      <td>2009-08-01 00:00:00</td>\n",
       "      <td>1</td>\n",
       "      <td>Robbery</td>\n",
       "      <td>8300-8399</td>\n",
       "      <td>NORTH HOUSTON ROSSLYN</td>\n",
       "      <td>RD</td>\n",
       "      <td>-</td>\n",
       "      <td>6B30</td>\n",
       "      <td>18N</td>\n",
       "      <td>08/01/09 00:00:00</td>\n",
       "      <td>0</td>\n",
       "      <td>2009</td>\n",
       "    </tr>\n",
       "    <tr>\n",
       "      <th>3</th>\n",
       "      <td>2009-08-01 00:00:00</td>\n",
       "      <td>1</td>\n",
       "      <td>Robbery</td>\n",
       "      <td>6300-6399</td>\n",
       "      <td>SKYLINE</td>\n",
       "      <td>DR</td>\n",
       "      <td>-</td>\n",
       "      <td>18F30</td>\n",
       "      <td>18A</td>\n",
       "      <td>08/01/09 00:00:00</td>\n",
       "      <td>0</td>\n",
       "      <td>2009</td>\n",
       "    </tr>\n",
       "    <tr>\n",
       "      <th>4</th>\n",
       "      <td>2009-08-01 00:00:00</td>\n",
       "      <td>1</td>\n",
       "      <td>Robbery</td>\n",
       "      <td>5900-5999</td>\n",
       "      <td>FULTON</td>\n",
       "      <td>ST</td>\n",
       "      <td>-</td>\n",
       "      <td>2A20</td>\n",
       "      <td>18N</td>\n",
       "      <td>08/01/09 00:00:00</td>\n",
       "      <td>0</td>\n",
       "      <td>2009</td>\n",
       "    </tr>\n",
       "    <tr>\n",
       "      <th>...</th>\n",
       "      <td>...</td>\n",
       "      <td>...</td>\n",
       "      <td>...</td>\n",
       "      <td>...</td>\n",
       "      <td>...</td>\n",
       "      <td>...</td>\n",
       "      <td>...</td>\n",
       "      <td>...</td>\n",
       "      <td>...</td>\n",
       "      <td>...</td>\n",
       "      <td>...</td>\n",
       "      <td>...</td>\n",
       "    </tr>\n",
       "    <tr>\n",
       "      <th>1036515</th>\n",
       "      <td>2017-03-07 21:00:00</td>\n",
       "      <td>1</td>\n",
       "      <td>Robbery</td>\n",
       "      <td>6400-6499</td>\n",
       "      <td>MARKET</td>\n",
       "      <td>ST</td>\n",
       "      <td>-</td>\n",
       "      <td>9C20</td>\n",
       "      <td>UNK</td>\n",
       "      <td>2017-03-07 00:00:00</td>\n",
       "      <td>21</td>\n",
       "      <td>2017</td>\n",
       "    </tr>\n",
       "    <tr>\n",
       "      <th>1036544</th>\n",
       "      <td>2017-03-15 00:00:00</td>\n",
       "      <td>1</td>\n",
       "      <td>Theft</td>\n",
       "      <td>10300-10399</td>\n",
       "      <td>EAST</td>\n",
       "      <td>FWY</td>\n",
       "      <td>-</td>\n",
       "      <td>9C30</td>\n",
       "      <td>UNK</td>\n",
       "      <td>2017-03-15 00:00:00</td>\n",
       "      <td>0</td>\n",
       "      <td>2017</td>\n",
       "    </tr>\n",
       "    <tr>\n",
       "      <th>1036583</th>\n",
       "      <td>2017-03-23 10:00:00</td>\n",
       "      <td>1</td>\n",
       "      <td>Burglary</td>\n",
       "      <td>400-499</td>\n",
       "      <td>MERCURY</td>\n",
       "      <td>DR</td>\n",
       "      <td>-</td>\n",
       "      <td>9C30</td>\n",
       "      <td>UNK</td>\n",
       "      <td>2017-03-23 00:00:00</td>\n",
       "      <td>10</td>\n",
       "      <td>2017</td>\n",
       "    </tr>\n",
       "    <tr>\n",
       "      <th>1036648</th>\n",
       "      <td>2017-03-08 20:00:00</td>\n",
       "      <td>1</td>\n",
       "      <td>Theft</td>\n",
       "      <td>12000-12099</td>\n",
       "      <td>EAST</td>\n",
       "      <td>FWY</td>\n",
       "      <td>-</td>\n",
       "      <td>9C40</td>\n",
       "      <td>UNK</td>\n",
       "      <td>2017-03-08 00:00:00</td>\n",
       "      <td>20</td>\n",
       "      <td>2017</td>\n",
       "    </tr>\n",
       "    <tr>\n",
       "      <th>1036782</th>\n",
       "      <td>2017-03-30 22:00:00</td>\n",
       "      <td>1</td>\n",
       "      <td>Theft</td>\n",
       "      <td>10200-10299</td>\n",
       "      <td>EAST</td>\n",
       "      <td>FWY</td>\n",
       "      <td>-</td>\n",
       "      <td>UNK</td>\n",
       "      <td>UNK</td>\n",
       "      <td>2017-03-30 00:00:00</td>\n",
       "      <td>22</td>\n",
       "      <td>2017</td>\n",
       "    </tr>\n",
       "  </tbody>\n",
       "</table>\n",
       "<p>677091 rows × 12 columns</p>\n",
       "</div>"
      ],
      "text/plain": [
       "                  date_time  offenses offense_type  block_range  \\\n",
       "0       2009-08-01 00:00:00         1      Robbery    3000-3099   \n",
       "1       2009-08-01 00:00:00         1      Robbery      500-599   \n",
       "2       2009-08-01 00:00:00         1      Robbery    8300-8399   \n",
       "3       2009-08-01 00:00:00         1      Robbery    6300-6399   \n",
       "4       2009-08-01 00:00:00         1      Robbery    5900-5999   \n",
       "...                     ...       ...          ...          ...   \n",
       "1036515 2017-03-07 21:00:00         1      Robbery    6400-6499   \n",
       "1036544 2017-03-15 00:00:00         1        Theft  10300-10399   \n",
       "1036583 2017-03-23 10:00:00         1     Burglary      400-499   \n",
       "1036648 2017-03-08 20:00:00         1        Theft  12000-12099   \n",
       "1036782 2017-03-30 22:00:00         1        Theft  10200-10299   \n",
       "\n",
       "                   street_name type suffix   beat premise  \\\n",
       "0                       DURHAM   DR      N   3B30     210   \n",
       "1                      SEMINAR   DR      -   6B60     20A   \n",
       "2        NORTH HOUSTON ROSSLYN   RD      -   6B30     18N   \n",
       "3                      SKYLINE   DR      -  18F30     18A   \n",
       "4                       FULTON   ST      -   2A20     18N   \n",
       "...                        ...  ...    ...    ...     ...   \n",
       "1036515                 MARKET   ST      -   9C20     UNK   \n",
       "1036544                   EAST  FWY      -   9C30     UNK   \n",
       "1036583                MERCURY   DR      -   9C30     UNK   \n",
       "1036648                   EAST  FWY      -   9C40     UNK   \n",
       "1036782                   EAST  FWY      -    UNK     UNK   \n",
       "\n",
       "                        date  hour  year  \n",
       "0          08/01/09 00:00:00     0  2009  \n",
       "1          08/01/09 00:00:00     0  2009  \n",
       "2          08/01/09 00:00:00     0  2009  \n",
       "3          08/01/09 00:00:00     0  2009  \n",
       "4          08/01/09 00:00:00     0  2009  \n",
       "...                      ...   ...   ...  \n",
       "1036515  2017-03-07 00:00:00    21  2017  \n",
       "1036544  2017-03-15 00:00:00     0  2017  \n",
       "1036583  2017-03-23 00:00:00    10  2017  \n",
       "1036648  2017-03-08 00:00:00    20  2017  \n",
       "1036782  2017-03-30 00:00:00    22  2017  \n",
       "\n",
       "[677091 rows x 12 columns]"
      ]
     },
     "execution_count": 26,
     "metadata": {},
     "output_type": "execute_result"
    }
   ],
   "source": [
    "# get only values that are less than 4 in length\n",
    "df[df.premise.str.len()<4]"
   ]
  },
  {
   "cell_type": "code",
   "execution_count": 27,
   "metadata": {},
   "outputs": [
    {
     "data": {
      "text/plain": [
       "0          210\n",
       "1          20A\n",
       "2          18N\n",
       "3          18A\n",
       "4          18N\n",
       "          ... \n",
       "1036515    UNK\n",
       "1036544    UNK\n",
       "1036583    UNK\n",
       "1036648    UNK\n",
       "1036782    UNK\n",
       "Name: premise, Length: 677091, dtype: object"
      ]
     },
     "execution_count": 27,
     "metadata": {},
     "output_type": "execute_result"
    }
   ],
   "source": [
    "# only the premise column\n",
    "df[df.premise.str.len()<4].premise"
   ]
  },
  {
   "cell_type": "code",
   "execution_count": 28,
   "metadata": {},
   "outputs": [
    {
     "data": {
      "text/plain": [
       "array(['210', '20A', '18N', '18A', '20R', '040', '250', '070', '20D',\n",
       "       '13R', '140', '11P', '03B', '09D', '18M', '240', '120', '05O',\n",
       "       '02B', '05Z', '080', '18G', '18H', '01A', '20V', '18O', '18T',\n",
       "       '05G', '18P', '20G', '18R', '060', '23S', '20L', '20P', '18U',\n",
       "       '18C', '05R', '05L', '20C', '05T', '11R', '18L', '05W', '24J',\n",
       "       '18W', '190', '13H', '13B', '14V', '05C', '170', '03S', '05H',\n",
       "       '13S', '20W', '24E', '100', '22E', '20M', '01P', '22P', '24C',\n",
       "       '22U', '24F', '05D', '20N', '18B', '09H', '13A', '22D', '11G',\n",
       "       '05E', '01B', '24T', '05V', '05M', '05X', '05F', '11S', '24P',\n",
       "       '19V', '05P', '11F', '24B', '09P', '24A', '02C', '24S', '05B',\n",
       "       '18S', '05S', '22M', '05Q', '05N', '09R', '22H', '02S', '24V',\n",
       "       '25V', '24G', '150', '160', '13T', '18D', '05A', '11C', '22C',\n",
       "       '20H', '09V', '11L', '04V', '---', '05Y', '21V', '11V', '12V',\n",
       "       '01K', '05U', '23C', 'RES', '22V', '25R', '01R', '01T', '24M',\n",
       "       '13C', '02V', '06', 'N', 'UNK'], dtype=object)"
      ]
     },
     "execution_count": 28,
     "metadata": {},
     "output_type": "execute_result"
    }
   ],
   "source": [
    "# unique values\n",
    "df[df.premise.str.len()<4].premise.unique()"
   ]
  },
  {
   "cell_type": "code",
   "execution_count": 29,
   "metadata": {},
   "outputs": [
    {
     "data": {
      "text/html": [
       "<div>\n",
       "<style scoped>\n",
       "    .dataframe tbody tr th:only-of-type {\n",
       "        vertical-align: middle;\n",
       "    }\n",
       "\n",
       "    .dataframe tbody tr th {\n",
       "        vertical-align: top;\n",
       "    }\n",
       "\n",
       "    .dataframe thead th {\n",
       "        text-align: right;\n",
       "    }\n",
       "</style>\n",
       "<table border=\"1\" class=\"dataframe\">\n",
       "  <thead>\n",
       "    <tr style=\"text-align: right;\">\n",
       "      <th></th>\n",
       "      <th>date_time</th>\n",
       "      <th>offenses</th>\n",
       "      <th>offense_type</th>\n",
       "      <th>block_range</th>\n",
       "      <th>street_name</th>\n",
       "      <th>type</th>\n",
       "      <th>suffix</th>\n",
       "      <th>beat</th>\n",
       "      <th>premise</th>\n",
       "      <th>date</th>\n",
       "      <th>hour</th>\n",
       "      <th>year</th>\n",
       "    </tr>\n",
       "  </thead>\n",
       "  <tbody>\n",
       "    <tr>\n",
       "      <th>0</th>\n",
       "      <td>2009-08-01</td>\n",
       "      <td>1</td>\n",
       "      <td>Robbery</td>\n",
       "      <td>3000-3099</td>\n",
       "      <td>DURHAM</td>\n",
       "      <td>DR</td>\n",
       "      <td>N</td>\n",
       "      <td>3B30</td>\n",
       "      <td>210</td>\n",
       "      <td>08/01/09 00:00:00</td>\n",
       "      <td>0</td>\n",
       "      <td>2009</td>\n",
       "    </tr>\n",
       "    <tr>\n",
       "      <th>1</th>\n",
       "      <td>2009-08-01</td>\n",
       "      <td>1</td>\n",
       "      <td>Robbery</td>\n",
       "      <td>500-599</td>\n",
       "      <td>SEMINAR</td>\n",
       "      <td>DR</td>\n",
       "      <td>-</td>\n",
       "      <td>6B60</td>\n",
       "      <td>20A</td>\n",
       "      <td>08/01/09 00:00:00</td>\n",
       "      <td>0</td>\n",
       "      <td>2009</td>\n",
       "    </tr>\n",
       "    <tr>\n",
       "      <th>2</th>\n",
       "      <td>2009-08-01</td>\n",
       "      <td>1</td>\n",
       "      <td>Robbery</td>\n",
       "      <td>8300-8399</td>\n",
       "      <td>NORTH HOUSTON ROSSLYN</td>\n",
       "      <td>RD</td>\n",
       "      <td>-</td>\n",
       "      <td>6B30</td>\n",
       "      <td>18N</td>\n",
       "      <td>08/01/09 00:00:00</td>\n",
       "      <td>0</td>\n",
       "      <td>2009</td>\n",
       "    </tr>\n",
       "    <tr>\n",
       "      <th>3</th>\n",
       "      <td>2009-08-01</td>\n",
       "      <td>1</td>\n",
       "      <td>Robbery</td>\n",
       "      <td>6300-6399</td>\n",
       "      <td>SKYLINE</td>\n",
       "      <td>DR</td>\n",
       "      <td>-</td>\n",
       "      <td>18F30</td>\n",
       "      <td>18A</td>\n",
       "      <td>08/01/09 00:00:00</td>\n",
       "      <td>0</td>\n",
       "      <td>2009</td>\n",
       "    </tr>\n",
       "    <tr>\n",
       "      <th>4</th>\n",
       "      <td>2009-08-01</td>\n",
       "      <td>1</td>\n",
       "      <td>Robbery</td>\n",
       "      <td>5900-5999</td>\n",
       "      <td>FULTON</td>\n",
       "      <td>ST</td>\n",
       "      <td>-</td>\n",
       "      <td>2A20</td>\n",
       "      <td>18N</td>\n",
       "      <td>08/01/09 00:00:00</td>\n",
       "      <td>0</td>\n",
       "      <td>2009</td>\n",
       "    </tr>\n",
       "  </tbody>\n",
       "</table>\n",
       "</div>"
      ],
      "text/plain": [
       "   date_time  offenses offense_type block_range            street_name type  \\\n",
       "0 2009-08-01         1      Robbery   3000-3099                 DURHAM   DR   \n",
       "1 2009-08-01         1      Robbery     500-599                SEMINAR   DR   \n",
       "2 2009-08-01         1      Robbery   8300-8399  NORTH HOUSTON ROSSLYN   RD   \n",
       "3 2009-08-01         1      Robbery   6300-6399                SKYLINE   DR   \n",
       "4 2009-08-01         1      Robbery   5900-5999                 FULTON   ST   \n",
       "\n",
       "  suffix   beat premise               date  hour  year  \n",
       "0      N   3B30     210  08/01/09 00:00:00     0  2009  \n",
       "1      -   6B60     20A  08/01/09 00:00:00     0  2009  \n",
       "2      -   6B30     18N  08/01/09 00:00:00     0  2009  \n",
       "3      -  18F30     18A  08/01/09 00:00:00     0  2009  \n",
       "4      -   2A20     18N  08/01/09 00:00:00     0  2009  "
      ]
     },
     "execution_count": 29,
     "metadata": {},
     "output_type": "execute_result"
    }
   ],
   "source": [
    "limited = df[df.premise.str.len()<4]\n",
    "limited.head()"
   ]
  },
  {
   "cell_type": "code",
   "execution_count": 30,
   "metadata": {},
   "outputs": [
    {
     "name": "stdout",
     "output_type": "stream",
     "text": [
      "<class 'pandas.core.frame.DataFrame'>\n",
      "Int64Index: 677091 entries, 0 to 1036782\n",
      "Data columns (total 12 columns):\n",
      " #   Column        Non-Null Count   Dtype         \n",
      "---  ------        --------------   -----         \n",
      " 0   date_time     677091 non-null  datetime64[ns]\n",
      " 1   offenses      677091 non-null  int64         \n",
      " 2   offense_type  677091 non-null  object        \n",
      " 3   block_range   677091 non-null  object        \n",
      " 4   street_name   677091 non-null  object        \n",
      " 5   type          677091 non-null  object        \n",
      " 6   suffix        677091 non-null  object        \n",
      " 7   beat          677091 non-null  object        \n",
      " 8   premise       677091 non-null  object        \n",
      " 9   date          677091 non-null  object        \n",
      " 10  hour          677091 non-null  int64         \n",
      " 11  year          677091 non-null  int64         \n",
      "dtypes: datetime64[ns](1), int64(3), object(8)\n",
      "memory usage: 67.2+ MB\n"
     ]
    }
   ],
   "source": [
    "limited.info()"
   ]
  },
  {
   "cell_type": "markdown",
   "metadata": {},
   "source": [
    "# load premise dataset"
   ]
  },
  {
   "cell_type": "code",
   "execution_count": 31,
   "metadata": {},
   "outputs": [
    {
     "name": "stdout",
     "output_type": "stream",
     "text": [
      "\u001b[0m\u001b[01;34m1985_2014\u001b[0m/  \u001b[01;34m2010\u001b[0m/  \u001b[01;34m2016\u001b[0m/  \u001b[01;34mclean\u001b[0m/\n",
      "\u001b[01;34m2005\u001b[0m/       \u001b[01;34m2011\u001b[0m/  \u001b[01;34m2017\u001b[0m/  \u001b[01;32mNIBRS_Public_Data_Dictionary_050919.pdf\u001b[0m*\n",
      "\u001b[01;34m2006\u001b[0m/       \u001b[01;34m2012\u001b[0m/  \u001b[01;34m2018\u001b[0m/  \u001b[01;32mpremise_codes.csv\u001b[0m*\n",
      "\u001b[01;34m2007\u001b[0m/       \u001b[01;34m2013\u001b[0m/  \u001b[01;34m2019\u001b[0m/  \u001b[01;32mtxucrofnscodetbl.xlsx\u001b[0m*\n",
      "\u001b[01;34m2008\u001b[0m/       \u001b[01;34m2014\u001b[0m/  \u001b[01;34m2020\u001b[0m/\n",
      "\u001b[01;34m2009\u001b[0m/       \u001b[01;34m2015\u001b[0m/  \u001b[01;34m2021\u001b[0m/\n"
     ]
    }
   ],
   "source": [
    "ls ../../data/raw/crime_data/"
   ]
  },
  {
   "cell_type": "code",
   "execution_count": 32,
   "metadata": {},
   "outputs": [
    {
     "data": {
      "text/plain": [
       "'../../data/raw/crime_data/premise_codes.csv'"
      ]
     },
     "execution_count": 32,
     "metadata": {},
     "output_type": "execute_result"
    }
   ],
   "source": [
    "file = 'premise_codes.csv'\n",
    "raw_directory = os.path.join('..','..','data','raw','crime_data',f'{file}')\n",
    "raw_directory"
   ]
  },
  {
   "cell_type": "code",
   "execution_count": 33,
   "metadata": {},
   "outputs": [
    {
     "name": "stderr",
     "output_type": "stream",
     "text": [
      "<ipython-input-33-063be65e9463>:2: FutureWarning:\n",
      "\n",
      "The default value of regex will change from True to False in a future version. In addition, single character regular expressions will *not* be treated as literal strings when regex=True.\n",
      "\n"
     ]
    },
    {
     "data": {
      "text/html": [
       "<div>\n",
       "<style scoped>\n",
       "    .dataframe tbody tr th:only-of-type {\n",
       "        vertical-align: middle;\n",
       "    }\n",
       "\n",
       "    .dataframe tbody tr th {\n",
       "        vertical-align: top;\n",
       "    }\n",
       "\n",
       "    .dataframe thead th {\n",
       "        text-align: right;\n",
       "    }\n",
       "</style>\n",
       "<table border=\"1\" class=\"dataframe\">\n",
       "  <thead>\n",
       "    <tr style=\"text-align: right;\">\n",
       "      <th></th>\n",
       "      <th>premise</th>\n",
       "      <th>premise_description</th>\n",
       "    </tr>\n",
       "  </thead>\n",
       "  <tbody>\n",
       "    <tr>\n",
       "      <th>0</th>\n",
       "      <td>01A</td>\n",
       "      <td>AIRPORT TERMINAL</td>\n",
       "    </tr>\n",
       "    <tr>\n",
       "      <th>1</th>\n",
       "      <td>01B</td>\n",
       "      <td>BUS STATION</td>\n",
       "    </tr>\n",
       "    <tr>\n",
       "      <th>2</th>\n",
       "      <td>01K</td>\n",
       "      <td>RAILROAD TRACK/RIGHT OF WAY</td>\n",
       "    </tr>\n",
       "    <tr>\n",
       "      <th>3</th>\n",
       "      <td>01P</td>\n",
       "      <td>PARK &amp; RIDE TERMINAL</td>\n",
       "    </tr>\n",
       "    <tr>\n",
       "      <th>4</th>\n",
       "      <td>01R</td>\n",
       "      <td>LIGHT RAIL VEHICLE</td>\n",
       "    </tr>\n",
       "  </tbody>\n",
       "</table>\n",
       "</div>"
      ],
      "text/plain": [
       "  premise          premise_description\n",
       "0     01A             AIRPORT TERMINAL\n",
       "1     01B                  BUS STATION\n",
       "2     01K  RAILROAD TRACK/RIGHT OF WAY\n",
       "3     01P         PARK & RIDE TERMINAL\n",
       "4     01R           LIGHT RAIL VEHICLE"
      ]
     },
     "execution_count": 33,
     "metadata": {},
     "output_type": "execute_result"
    }
   ],
   "source": [
    "premise_df = pd.read_csv(raw_directory)\n",
    "premise_df.columns = premise_df.columns.str.strip().str.lower().str.replace('-', '_').str.replace(' ', '_').str.replace('(', '').str.replace(')', '')\n",
    "# rename premise column for easy merge\n",
    "premise_df.rename(columns={'premise_type': 'premise',}, inplace=True)\n",
    "premise_df.head()"
   ]
  },
  {
   "cell_type": "code",
   "execution_count": 34,
   "metadata": {},
   "outputs": [
    {
     "data": {
      "text/html": [
       "<div>\n",
       "<style scoped>\n",
       "    .dataframe tbody tr th:only-of-type {\n",
       "        vertical-align: middle;\n",
       "    }\n",
       "\n",
       "    .dataframe tbody tr th {\n",
       "        vertical-align: top;\n",
       "    }\n",
       "\n",
       "    .dataframe thead th {\n",
       "        text-align: right;\n",
       "    }\n",
       "</style>\n",
       "<table border=\"1\" class=\"dataframe\">\n",
       "  <thead>\n",
       "    <tr style=\"text-align: right;\">\n",
       "      <th></th>\n",
       "      <th>null_percent</th>\n",
       "    </tr>\n",
       "  </thead>\n",
       "  <tbody>\n",
       "    <tr>\n",
       "      <th>premise</th>\n",
       "      <td>0.0</td>\n",
       "    </tr>\n",
       "    <tr>\n",
       "      <th>premise_description</th>\n",
       "      <td>0.0</td>\n",
       "    </tr>\n",
       "  </tbody>\n",
       "</table>\n",
       "</div>"
      ],
      "text/plain": [
       "                     null_percent\n",
       "premise                       0.0\n",
       "premise_description           0.0"
      ]
     },
     "execution_count": 34,
     "metadata": {},
     "output_type": "execute_result"
    }
   ],
   "source": [
    "# create null percentage of column as dataframe\n",
    "null_per_df = pd.DataFrame(premise_df.isna().mean().round(4) * 100)\n",
    "# rename columns\n",
    "null_per_df.rename(columns={'index': 'col_name', 0: 'null_percent'}, inplace=True)\n",
    "\n",
    "# filter data <20% null values\n",
    "per_filter = null_per_df.null_percent<=90\n",
    "null_per_df[per_filter].sort_values(by='null_percent',ascending=False)"
   ]
  },
  {
   "cell_type": "code",
   "execution_count": 35,
   "metadata": {},
   "outputs": [
    {
     "data": {
      "text/html": [
       "<div>\n",
       "<style scoped>\n",
       "    .dataframe tbody tr th:only-of-type {\n",
       "        vertical-align: middle;\n",
       "    }\n",
       "\n",
       "    .dataframe tbody tr th {\n",
       "        vertical-align: top;\n",
       "    }\n",
       "\n",
       "    .dataframe thead th {\n",
       "        text-align: right;\n",
       "    }\n",
       "</style>\n",
       "<table border=\"1\" class=\"dataframe\">\n",
       "  <thead>\n",
       "    <tr style=\"text-align: right;\">\n",
       "      <th></th>\n",
       "      <th>premise</th>\n",
       "      <th>premise_description</th>\n",
       "    </tr>\n",
       "  </thead>\n",
       "  <tbody>\n",
       "    <tr>\n",
       "      <th>0</th>\n",
       "      <td>01A</td>\n",
       "      <td>AIRPORT TERMINAL</td>\n",
       "    </tr>\n",
       "    <tr>\n",
       "      <th>1</th>\n",
       "      <td>01B</td>\n",
       "      <td>BUS STATION</td>\n",
       "    </tr>\n",
       "    <tr>\n",
       "      <th>2</th>\n",
       "      <td>01K</td>\n",
       "      <td>RAILROAD TRACK/RIGHT OF WAY</td>\n",
       "    </tr>\n",
       "    <tr>\n",
       "      <th>3</th>\n",
       "      <td>01P</td>\n",
       "      <td>PARK &amp; RIDE TERMINAL</td>\n",
       "    </tr>\n",
       "    <tr>\n",
       "      <th>4</th>\n",
       "      <td>01R</td>\n",
       "      <td>LIGHT RAIL VEHICLE</td>\n",
       "    </tr>\n",
       "  </tbody>\n",
       "</table>\n",
       "</div>"
      ],
      "text/plain": [
       "  premise          premise_description\n",
       "0     01A             AIRPORT TERMINAL\n",
       "1     01B                  BUS STATION\n",
       "2     01K  RAILROAD TRACK/RIGHT OF WAY\n",
       "3     01P         PARK & RIDE TERMINAL\n",
       "4     01R           LIGHT RAIL VEHICLE"
      ]
     },
     "execution_count": 35,
     "metadata": {},
     "output_type": "execute_result"
    }
   ],
   "source": [
    "premise_df.head()"
   ]
  },
  {
   "cell_type": "code",
   "execution_count": 36,
   "metadata": {},
   "outputs": [
    {
     "name": "stdout",
     "output_type": "stream",
     "text": [
      "<class 'pandas.core.frame.DataFrame'>\n",
      "Int64Index: 1122392 entries, 0 to 1122391\n",
      "Data columns (total 13 columns):\n",
      " #   Column               Non-Null Count    Dtype         \n",
      "---  ------               --------------    -----         \n",
      " 0   date_time            1122391 non-null  datetime64[ns]\n",
      " 1   offenses             1122391 non-null  float64       \n",
      " 2   offense_type         1122391 non-null  object        \n",
      " 3   block_range          1122391 non-null  object        \n",
      " 4   street_name          1122391 non-null  object        \n",
      " 5   type                 1122391 non-null  object        \n",
      " 6   suffix               1122391 non-null  object        \n",
      " 7   beat                 1122391 non-null  object        \n",
      " 8   premise              1122392 non-null  object        \n",
      " 9   date                 1122391 non-null  object        \n",
      " 10  hour                 1122391 non-null  float64       \n",
      " 11  year                 1122391 non-null  float64       \n",
      " 12  premise_description  641098 non-null   object        \n",
      "dtypes: datetime64[ns](1), float64(3), object(9)\n",
      "memory usage: 119.9+ MB\n"
     ]
    }
   ],
   "source": [
    "# merge with premise df\n",
    "df = pd.merge(df,premise_df, on='premise', how='outer')\n",
    "df.info()"
   ]
  },
  {
   "cell_type": "code",
   "execution_count": 37,
   "metadata": {},
   "outputs": [
    {
     "data": {
      "text/plain": [
       "NaN                                  481294\n",
       "APARTMENT                             83563\n",
       "RESIDENCE/HOUSE                       83454\n",
       "APARTMENT PARKING LOT                 74091\n",
       "ROAD/STREET/SIDEWALK                  47017\n",
       "                                      ...  \n",
       "MARINE VEH. SALES,BOATS,SAILBOATS        11\n",
       "LIGHT RAIL VEHICLE                        7\n",
       "CONTRA-FLOW/HOV                           5\n",
       "VACANT BANK                               1\n",
       "VACANT JAIL/PRISON                        1\n",
       "Name: premise_description, Length: 127, dtype: int64"
      ]
     },
     "execution_count": 37,
     "metadata": {},
     "output_type": "execute_result"
    }
   ],
   "source": [
    "df.premise_description.value_counts(dropna=False)"
   ]
  },
  {
   "cell_type": "code",
   "execution_count": 38,
   "metadata": {},
   "outputs": [
    {
     "data": {
      "text/html": [
       "<div>\n",
       "<style scoped>\n",
       "    .dataframe tbody tr th:only-of-type {\n",
       "        vertical-align: middle;\n",
       "    }\n",
       "\n",
       "    .dataframe tbody tr th {\n",
       "        vertical-align: top;\n",
       "    }\n",
       "\n",
       "    .dataframe thead th {\n",
       "        text-align: right;\n",
       "    }\n",
       "</style>\n",
       "<table border=\"1\" class=\"dataframe\">\n",
       "  <thead>\n",
       "    <tr style=\"text-align: right;\">\n",
       "      <th></th>\n",
       "      <th>premise</th>\n",
       "      <th>premise_description</th>\n",
       "    </tr>\n",
       "  </thead>\n",
       "  <tbody>\n",
       "    <tr>\n",
       "      <th>0</th>\n",
       "      <td>210</td>\n",
       "      <td>RESTAURANT/CAFETERIA</td>\n",
       "    </tr>\n",
       "    <tr>\n",
       "      <th>1</th>\n",
       "      <td>210</td>\n",
       "      <td>RESTAURANT/CAFETERIA</td>\n",
       "    </tr>\n",
       "    <tr>\n",
       "      <th>2</th>\n",
       "      <td>210</td>\n",
       "      <td>RESTAURANT/CAFETERIA</td>\n",
       "    </tr>\n",
       "    <tr>\n",
       "      <th>3</th>\n",
       "      <td>210</td>\n",
       "      <td>RESTAURANT/CAFETERIA</td>\n",
       "    </tr>\n",
       "    <tr>\n",
       "      <th>4</th>\n",
       "      <td>210</td>\n",
       "      <td>RESTAURANT/CAFETERIA</td>\n",
       "    </tr>\n",
       "    <tr>\n",
       "      <th>...</th>\n",
       "      <td>...</td>\n",
       "      <td>...</td>\n",
       "    </tr>\n",
       "    <tr>\n",
       "      <th>1122387</th>\n",
       "      <td>Not Listed</td>\n",
       "      <td>NaN</td>\n",
       "    </tr>\n",
       "    <tr>\n",
       "      <th>1122388</th>\n",
       "      <td>Not Listed</td>\n",
       "      <td>NaN</td>\n",
       "    </tr>\n",
       "    <tr>\n",
       "      <th>1122389</th>\n",
       "      <td>Escort Business</td>\n",
       "      <td>NaN</td>\n",
       "    </tr>\n",
       "    <tr>\n",
       "      <th>1122390</th>\n",
       "      <td>Escort Business</td>\n",
       "      <td>NaN</td>\n",
       "    </tr>\n",
       "    <tr>\n",
       "      <th>1122391</th>\n",
       "      <td>15V</td>\n",
       "      <td>VACANT JAIL/PRISON</td>\n",
       "    </tr>\n",
       "  </tbody>\n",
       "</table>\n",
       "<p>1122392 rows × 2 columns</p>\n",
       "</div>"
      ],
      "text/plain": [
       "                 premise   premise_description\n",
       "0                    210  RESTAURANT/CAFETERIA\n",
       "1                    210  RESTAURANT/CAFETERIA\n",
       "2                    210  RESTAURANT/CAFETERIA\n",
       "3                    210  RESTAURANT/CAFETERIA\n",
       "4                    210  RESTAURANT/CAFETERIA\n",
       "...                  ...                   ...\n",
       "1122387       Not Listed                   NaN\n",
       "1122388       Not Listed                   NaN\n",
       "1122389  Escort Business                   NaN\n",
       "1122390  Escort Business                   NaN\n",
       "1122391              15V    VACANT JAIL/PRISON\n",
       "\n",
       "[1122392 rows x 2 columns]"
      ]
     },
     "execution_count": 38,
     "metadata": {},
     "output_type": "execute_result"
    }
   ],
   "source": [
    "df[['premise','premise_description']]"
   ]
  },
  {
   "cell_type": "code",
   "execution_count": 39,
   "metadata": {},
   "outputs": [],
   "source": [
    "# merge ,\n",
    "# if value is null in premise_descriptiom, copy the matching row of premise to it\n",
    "df.loc[df['premise_description'].isnull(),'premise_description'] = df['premise']"
   ]
  },
  {
   "cell_type": "code",
   "execution_count": 40,
   "metadata": {},
   "outputs": [
    {
     "data": {
      "text/html": [
       "<div>\n",
       "<style scoped>\n",
       "    .dataframe tbody tr th:only-of-type {\n",
       "        vertical-align: middle;\n",
       "    }\n",
       "\n",
       "    .dataframe tbody tr th {\n",
       "        vertical-align: top;\n",
       "    }\n",
       "\n",
       "    .dataframe thead th {\n",
       "        text-align: right;\n",
       "    }\n",
       "</style>\n",
       "<table border=\"1\" class=\"dataframe\">\n",
       "  <thead>\n",
       "    <tr style=\"text-align: right;\">\n",
       "      <th></th>\n",
       "      <th>date_time</th>\n",
       "      <th>offenses</th>\n",
       "      <th>offense_type</th>\n",
       "      <th>block_range</th>\n",
       "      <th>street_name</th>\n",
       "      <th>type</th>\n",
       "      <th>suffix</th>\n",
       "      <th>beat</th>\n",
       "      <th>premise</th>\n",
       "      <th>date</th>\n",
       "      <th>hour</th>\n",
       "      <th>year</th>\n",
       "      <th>premise_description</th>\n",
       "    </tr>\n",
       "  </thead>\n",
       "  <tbody>\n",
       "    <tr>\n",
       "      <th>0</th>\n",
       "      <td>2009-08-01 00:00:00</td>\n",
       "      <td>1.0</td>\n",
       "      <td>Robbery</td>\n",
       "      <td>3000-3099</td>\n",
       "      <td>DURHAM</td>\n",
       "      <td>DR</td>\n",
       "      <td>N</td>\n",
       "      <td>3B30</td>\n",
       "      <td>210</td>\n",
       "      <td>08/01/09 00:00:00</td>\n",
       "      <td>0.0</td>\n",
       "      <td>2009.0</td>\n",
       "      <td>RESTAURANT/CAFETERIA</td>\n",
       "    </tr>\n",
       "    <tr>\n",
       "      <th>1</th>\n",
       "      <td>2009-08-01 01:00:00</td>\n",
       "      <td>1.0</td>\n",
       "      <td>Theft</td>\n",
       "      <td>6000-6099</td>\n",
       "      <td>RICHMOND</td>\n",
       "      <td>AVE</td>\n",
       "      <td>-</td>\n",
       "      <td>18F30</td>\n",
       "      <td>210</td>\n",
       "      <td>08/01/09 00:00:00</td>\n",
       "      <td>1.0</td>\n",
       "      <td>2009.0</td>\n",
       "      <td>RESTAURANT/CAFETERIA</td>\n",
       "    </tr>\n",
       "    <tr>\n",
       "      <th>2</th>\n",
       "      <td>2009-08-01 04:00:00</td>\n",
       "      <td>1.0</td>\n",
       "      <td>Burglary</td>\n",
       "      <td>3900-3999</td>\n",
       "      <td>BROADWAY</td>\n",
       "      <td>ST</td>\n",
       "      <td>-</td>\n",
       "      <td>13D20</td>\n",
       "      <td>210</td>\n",
       "      <td>08/01/09 00:00:00</td>\n",
       "      <td>4.0</td>\n",
       "      <td>2009.0</td>\n",
       "      <td>RESTAURANT/CAFETERIA</td>\n",
       "    </tr>\n",
       "    <tr>\n",
       "      <th>3</th>\n",
       "      <td>2009-08-01 05:00:00</td>\n",
       "      <td>1.0</td>\n",
       "      <td>Burglary</td>\n",
       "      <td>8500-8599</td>\n",
       "      <td>BELLAIRE</td>\n",
       "      <td>BLVD</td>\n",
       "      <td>-</td>\n",
       "      <td>18F60</td>\n",
       "      <td>210</td>\n",
       "      <td>08/01/09 00:00:00</td>\n",
       "      <td>5.0</td>\n",
       "      <td>2009.0</td>\n",
       "      <td>RESTAURANT/CAFETERIA</td>\n",
       "    </tr>\n",
       "    <tr>\n",
       "      <th>4</th>\n",
       "      <td>2009-08-01 19:00:00</td>\n",
       "      <td>1.0</td>\n",
       "      <td>Theft</td>\n",
       "      <td>1100-1199</td>\n",
       "      <td>UPTOWN PARK</td>\n",
       "      <td>BLVD</td>\n",
       "      <td>-</td>\n",
       "      <td>18F20</td>\n",
       "      <td>210</td>\n",
       "      <td>08/01/09 00:00:00</td>\n",
       "      <td>19.0</td>\n",
       "      <td>2009.0</td>\n",
       "      <td>RESTAURANT/CAFETERIA</td>\n",
       "    </tr>\n",
       "  </tbody>\n",
       "</table>\n",
       "</div>"
      ],
      "text/plain": [
       "            date_time  offenses offense_type block_range  street_name  type  \\\n",
       "0 2009-08-01 00:00:00       1.0      Robbery   3000-3099       DURHAM    DR   \n",
       "1 2009-08-01 01:00:00       1.0        Theft   6000-6099     RICHMOND   AVE   \n",
       "2 2009-08-01 04:00:00       1.0     Burglary   3900-3999     BROADWAY    ST   \n",
       "3 2009-08-01 05:00:00       1.0     Burglary   8500-8599     BELLAIRE  BLVD   \n",
       "4 2009-08-01 19:00:00       1.0        Theft   1100-1199  UPTOWN PARK  BLVD   \n",
       "\n",
       "  suffix   beat premise               date  hour    year   premise_description  \n",
       "0      N   3B30     210  08/01/09 00:00:00   0.0  2009.0  RESTAURANT/CAFETERIA  \n",
       "1      -  18F30     210  08/01/09 00:00:00   1.0  2009.0  RESTAURANT/CAFETERIA  \n",
       "2      -  13D20     210  08/01/09 00:00:00   4.0  2009.0  RESTAURANT/CAFETERIA  \n",
       "3      -  18F60     210  08/01/09 00:00:00   5.0  2009.0  RESTAURANT/CAFETERIA  \n",
       "4      -  18F20     210  08/01/09 00:00:00  19.0  2009.0  RESTAURANT/CAFETERIA  "
      ]
     },
     "execution_count": 40,
     "metadata": {},
     "output_type": "execute_result"
    }
   ],
   "source": [
    "df.head()"
   ]
  },
  {
   "cell_type": "code",
   "execution_count": 41,
   "metadata": {},
   "outputs": [
    {
     "data": {
      "text/html": [
       "<div>\n",
       "<style scoped>\n",
       "    .dataframe tbody tr th:only-of-type {\n",
       "        vertical-align: middle;\n",
       "    }\n",
       "\n",
       "    .dataframe tbody tr th {\n",
       "        vertical-align: top;\n",
       "    }\n",
       "\n",
       "    .dataframe thead th {\n",
       "        text-align: right;\n",
       "    }\n",
       "</style>\n",
       "<table border=\"1\" class=\"dataframe\">\n",
       "  <thead>\n",
       "    <tr style=\"text-align: right;\">\n",
       "      <th></th>\n",
       "      <th>premise</th>\n",
       "      <th>premise_description</th>\n",
       "    </tr>\n",
       "  </thead>\n",
       "  <tbody>\n",
       "    <tr>\n",
       "      <th>0</th>\n",
       "      <td>210</td>\n",
       "      <td>RESTAURANT/CAFETERIA</td>\n",
       "    </tr>\n",
       "    <tr>\n",
       "      <th>1</th>\n",
       "      <td>210</td>\n",
       "      <td>RESTAURANT/CAFETERIA</td>\n",
       "    </tr>\n",
       "    <tr>\n",
       "      <th>2</th>\n",
       "      <td>210</td>\n",
       "      <td>RESTAURANT/CAFETERIA</td>\n",
       "    </tr>\n",
       "    <tr>\n",
       "      <th>3</th>\n",
       "      <td>210</td>\n",
       "      <td>RESTAURANT/CAFETERIA</td>\n",
       "    </tr>\n",
       "    <tr>\n",
       "      <th>4</th>\n",
       "      <td>210</td>\n",
       "      <td>RESTAURANT/CAFETERIA</td>\n",
       "    </tr>\n",
       "    <tr>\n",
       "      <th>...</th>\n",
       "      <td>...</td>\n",
       "      <td>...</td>\n",
       "    </tr>\n",
       "    <tr>\n",
       "      <th>1122387</th>\n",
       "      <td>Not Listed</td>\n",
       "      <td>Not Listed</td>\n",
       "    </tr>\n",
       "    <tr>\n",
       "      <th>1122388</th>\n",
       "      <td>Not Listed</td>\n",
       "      <td>Not Listed</td>\n",
       "    </tr>\n",
       "    <tr>\n",
       "      <th>1122389</th>\n",
       "      <td>Escort Business</td>\n",
       "      <td>Escort Business</td>\n",
       "    </tr>\n",
       "    <tr>\n",
       "      <th>1122390</th>\n",
       "      <td>Escort Business</td>\n",
       "      <td>Escort Business</td>\n",
       "    </tr>\n",
       "    <tr>\n",
       "      <th>1122391</th>\n",
       "      <td>15V</td>\n",
       "      <td>VACANT JAIL/PRISON</td>\n",
       "    </tr>\n",
       "  </tbody>\n",
       "</table>\n",
       "<p>1122392 rows × 2 columns</p>\n",
       "</div>"
      ],
      "text/plain": [
       "                 premise   premise_description\n",
       "0                    210  RESTAURANT/CAFETERIA\n",
       "1                    210  RESTAURANT/CAFETERIA\n",
       "2                    210  RESTAURANT/CAFETERIA\n",
       "3                    210  RESTAURANT/CAFETERIA\n",
       "4                    210  RESTAURANT/CAFETERIA\n",
       "...                  ...                   ...\n",
       "1122387       Not Listed            Not Listed\n",
       "1122388       Not Listed            Not Listed\n",
       "1122389  Escort Business       Escort Business\n",
       "1122390  Escort Business       Escort Business\n",
       "1122391              15V    VACANT JAIL/PRISON\n",
       "\n",
       "[1122392 rows x 2 columns]"
      ]
     },
     "execution_count": 41,
     "metadata": {},
     "output_type": "execute_result"
    }
   ],
   "source": [
    "df[['premise','premise_description']]"
   ]
  },
  {
   "cell_type": "code",
   "execution_count": 42,
   "metadata": {},
   "outputs": [
    {
     "data": {
      "text/plain": [
       "268"
      ]
     },
     "execution_count": 42,
     "metadata": {},
     "output_type": "execute_result"
    }
   ],
   "source": [
    "len(df.premise_description.unique())"
   ]
  },
  {
   "cell_type": "code",
   "execution_count": 43,
   "metadata": {},
   "outputs": [
    {
     "data": {
      "text/plain": [
       "APARTMENT                             83563\n",
       "RESIDENCE/HOUSE                       83454\n",
       "APARTMENT PARKING LOT                 74091\n",
       "Residence or House                    61222\n",
       "Apartment Parking Lot                 51271\n",
       "                                      ...  \n",
       "Escort Business                           2\n",
       "Contra-Flow, Managed, or HOV Lanes        1\n",
       "Vacant Jail or Prison                     1\n",
       "VACANT BANK                               1\n",
       "VACANT JAIL/PRISON                        1\n",
       "Name: premise_description, Length: 268, dtype: int64"
      ]
     },
     "execution_count": 43,
     "metadata": {},
     "output_type": "execute_result"
    }
   ],
   "source": [
    "df.premise_description.value_counts()"
   ]
  },
  {
   "cell_type": "code",
   "execution_count": 44,
   "metadata": {},
   "outputs": [
    {
     "name": "stdout",
     "output_type": "stream",
     "text": [
      "column:premise_description\n",
      "before:268\n",
      "after:267\n"
     ]
    }
   ],
   "source": [
    "strip_col('premise_description')"
   ]
  },
  {
   "cell_type": "code",
   "execution_count": 45,
   "metadata": {},
   "outputs": [
    {
     "name": "stdout",
     "output_type": "stream",
     "text": [
      "column:premise_description\n",
      "before:267\n",
      "after:209\n"
     ]
    }
   ],
   "source": [
    "lower_col('premise_description')"
   ]
  },
  {
   "cell_type": "code",
   "execution_count": 46,
   "metadata": {},
   "outputs": [
    {
     "name": "stderr",
     "output_type": "stream",
     "text": [
      "<ipython-input-46-8c6d8ff865eb>:1: FutureWarning:\n",
      "\n",
      "The default value of regex will change from True to False in a future version. In addition, single character regular expressions will *not* be treated as literal strings when regex=True.\n",
      "\n"
     ]
    }
   ],
   "source": [
    "df.premise_description = df.premise_description.str.replace('/', ' ').str.replace(',', ' ').str.replace('(', '').str.replace(')', '').str.strip()"
   ]
  },
  {
   "cell_type": "code",
   "execution_count": 47,
   "metadata": {},
   "outputs": [
    {
     "data": {
      "text/plain": [
       "208"
      ]
     },
     "execution_count": 47,
     "metadata": {},
     "output_type": "execute_result"
    }
   ],
   "source": [
    "len(df.premise_description.value_counts())"
   ]
  },
  {
   "cell_type": "code",
   "execution_count": 48,
   "metadata": {},
   "outputs": [
    {
     "data": {
      "text/html": [
       "<div>\n",
       "<style scoped>\n",
       "    .dataframe tbody tr th:only-of-type {\n",
       "        vertical-align: middle;\n",
       "    }\n",
       "\n",
       "    .dataframe tbody tr th {\n",
       "        vertical-align: top;\n",
       "    }\n",
       "\n",
       "    .dataframe thead th {\n",
       "        text-align: right;\n",
       "    }\n",
       "</style>\n",
       "<table border=\"1\" class=\"dataframe\">\n",
       "  <thead>\n",
       "    <tr style=\"text-align: right;\">\n",
       "      <th></th>\n",
       "      <th>date_time</th>\n",
       "      <th>offenses</th>\n",
       "      <th>offense_type</th>\n",
       "      <th>block_range</th>\n",
       "      <th>street_name</th>\n",
       "      <th>type</th>\n",
       "      <th>suffix</th>\n",
       "      <th>beat</th>\n",
       "      <th>premise</th>\n",
       "      <th>date</th>\n",
       "      <th>hour</th>\n",
       "      <th>year</th>\n",
       "      <th>premise_description</th>\n",
       "    </tr>\n",
       "  </thead>\n",
       "  <tbody>\n",
       "    <tr>\n",
       "      <th>1122391</th>\n",
       "      <td>NaT</td>\n",
       "      <td>NaN</td>\n",
       "      <td>NaN</td>\n",
       "      <td>NaN</td>\n",
       "      <td>NaN</td>\n",
       "      <td>NaN</td>\n",
       "      <td>NaN</td>\n",
       "      <td>NaN</td>\n",
       "      <td>15V</td>\n",
       "      <td>NaN</td>\n",
       "      <td>NaN</td>\n",
       "      <td>NaN</td>\n",
       "      <td>vacant jail prison</td>\n",
       "    </tr>\n",
       "  </tbody>\n",
       "</table>\n",
       "</div>"
      ],
      "text/plain": [
       "        date_time  offenses offense_type block_range street_name type suffix  \\\n",
       "1122391       NaT       NaN          NaN         NaN         NaN  NaN    NaN   \n",
       "\n",
       "        beat premise date  hour  year premise_description  \n",
       "1122391  NaN     15V  NaN   NaN   NaN  vacant jail prison  "
      ]
     },
     "execution_count": 48,
     "metadata": {},
     "output_type": "execute_result"
    }
   ],
   "source": [
    "df[df.year.isna()]"
   ]
  },
  {
   "cell_type": "code",
   "execution_count": 49,
   "metadata": {},
   "outputs": [],
   "source": [
    "df = df[~df.year.isna()]"
   ]
  },
  {
   "cell_type": "code",
   "execution_count": 50,
   "metadata": {},
   "outputs": [
    {
     "name": "stdout",
     "output_type": "stream",
     "text": [
      "<class 'pandas.core.frame.DataFrame'>\n",
      "Int64Index: 1122391 entries, 0 to 1122390\n",
      "Data columns (total 13 columns):\n",
      " #   Column               Non-Null Count    Dtype         \n",
      "---  ------               --------------    -----         \n",
      " 0   date_time            1122391 non-null  datetime64[ns]\n",
      " 1   offenses             1122391 non-null  float64       \n",
      " 2   offense_type         1122391 non-null  object        \n",
      " 3   block_range          1122391 non-null  object        \n",
      " 4   street_name          1122391 non-null  object        \n",
      " 5   type                 1122391 non-null  object        \n",
      " 6   suffix               1122391 non-null  object        \n",
      " 7   beat                 1122391 non-null  object        \n",
      " 8   premise              1122391 non-null  object        \n",
      " 9   date                 1122391 non-null  object        \n",
      " 10  hour                 1122391 non-null  float64       \n",
      " 11  year                 1122391 non-null  float64       \n",
      " 12  premise_description  1122391 non-null  object        \n",
      "dtypes: datetime64[ns](1), float64(3), object(9)\n",
      "memory usage: 119.9+ MB\n"
     ]
    }
   ],
   "source": [
    "df.info()"
   ]
  },
  {
   "cell_type": "code",
   "execution_count": 51,
   "metadata": {},
   "outputs": [
    {
     "data": {
      "text/plain": [
       "apartment                             128086\n",
       "apartment parking lot                 125362\n",
       "residence house                        83454\n",
       "residence or house                     61222\n",
       "driveway                               59753\n",
       "                                       ...  \n",
       "modeling studio                            4\n",
       "res                                        2\n",
       "escort business                            2\n",
       "vacant jail or prison                      1\n",
       "contra-flow  managed  or hov lanes         1\n",
       "Name: premise_description, Length: 207, dtype: int64"
      ]
     },
     "execution_count": 51,
     "metadata": {},
     "output_type": "execute_result"
    }
   ],
   "source": [
    "df.premise_description.value_counts()"
   ]
  },
  {
   "cell_type": "code",
   "execution_count": 52,
   "metadata": {},
   "outputs": [
    {
     "data": {
      "text/plain": [
       "unk     33590\n",
       "---      2239\n",
       "bank     1745\n",
       "n          86\n",
       "06         71\n",
       "23c         6\n",
       "res         2\n",
       "Name: premise_description, dtype: int64"
      ]
     },
     "execution_count": 52,
     "metadata": {},
     "output_type": "execute_result"
    }
   ],
   "source": [
    "df[df.premise_description.str.len()<=4].premise_description.value_counts()"
   ]
  },
  {
   "cell_type": "code",
   "execution_count": null,
   "metadata": {},
   "outputs": [],
   "source": []
  },
  {
   "cell_type": "markdown",
   "metadata": {},
   "source": [
    "# find most common workd"
   ]
  },
  {
   "cell_type": "code",
   "execution_count": 53,
   "metadata": {},
   "outputs": [
    {
     "data": {
      "text/plain": [
       "[('parking', 325730),\n",
       " ('lot', 325730),\n",
       " ('apartment', 257290),\n",
       " ('or', 219549),\n",
       " ('house', 147165),\n",
       " ('residence', 147074),\n",
       " ('store', 112203),\n",
       " ('road', 92958),\n",
       " ('street', 91956),\n",
       " ('sidewalk', 91956),\n",
       " ('other', 77988),\n",
       " ('driveway', 59753),\n",
       " ('restaurant', 53022),\n",
       " ('cafeteria', 52852),\n",
       " ('department', 42895),\n",
       " ('discount', 42895),\n",
       " ('business', 38552),\n",
       " ('commercial', 37186),\n",
       " ('grocery', 37040),\n",
       " ('supermarket', 37040),\n",
       " ('garage', 35238),\n",
       " ('unk', 33590),\n",
       " ('unknown', 26945),\n",
       " ('club', 25873),\n",
       " ('non-specific', 25856),\n",
       " ('hotel', 24913),\n",
       " ('motel', 24913),\n",
       " ('convenience', 24780),\n",
       " ('bar', 21301),\n",
       " ('night', 21301),\n",
       " ('center', 21166),\n",
       " ('station', 20631),\n",
       " ('strip', 20498),\n",
       " ('service', 19950),\n",
       " ('gas', 19266),\n",
       " ('building', 17376),\n",
       " ('etc.', 13523),\n",
       " ('auto', 13083),\n",
       " ('miscellaneous', 11837),\n",
       " ('mall', 11516),\n",
       " ('pool', 11127),\n",
       " ('office', 9959),\n",
       " ('specialty', 8554),\n",
       " ('not', 8268),\n",
       " ('listed', 8226),\n",
       " ('vacant', 7737),\n",
       " ('carport', 7550),\n",
       " ('rental', 7013),\n",
       " ('church', 6932),\n",
       " ('synagogue', 6932)]"
      ]
     },
     "execution_count": 53,
     "metadata": {},
     "output_type": "execute_result"
    }
   ],
   "source": [
    "from collections import Counter\n",
    "Counter(\" \".join(df.premise_description).split()).most_common(50)"
   ]
  },
  {
   "cell_type": "code",
   "execution_count": null,
   "metadata": {},
   "outputs": [],
   "source": []
  },
  {
   "cell_type": "code",
   "execution_count": 54,
   "metadata": {},
   "outputs": [
    {
     "data": {
      "text/plain": [
       "207"
      ]
     },
     "execution_count": 54,
     "metadata": {},
     "output_type": "execute_result"
    }
   ],
   "source": [
    "len(df.premise_description.value_counts(dropna=False))"
   ]
  },
  {
   "cell_type": "code",
   "execution_count": null,
   "metadata": {},
   "outputs": [],
   "source": []
  },
  {
   "cell_type": "code",
   "execution_count": 55,
   "metadata": {},
   "outputs": [
    {
     "data": {
      "text/html": [
       "<div>\n",
       "<style scoped>\n",
       "    .dataframe tbody tr th:only-of-type {\n",
       "        vertical-align: middle;\n",
       "    }\n",
       "\n",
       "    .dataframe tbody tr th {\n",
       "        vertical-align: top;\n",
       "    }\n",
       "\n",
       "    .dataframe thead th {\n",
       "        text-align: right;\n",
       "    }\n",
       "</style>\n",
       "<table border=\"1\" class=\"dataframe\">\n",
       "  <thead>\n",
       "    <tr style=\"text-align: right;\">\n",
       "      <th></th>\n",
       "      <th>date_time</th>\n",
       "      <th>offenses</th>\n",
       "      <th>offense_type</th>\n",
       "      <th>block_range</th>\n",
       "      <th>street_name</th>\n",
       "      <th>type</th>\n",
       "      <th>suffix</th>\n",
       "      <th>beat</th>\n",
       "      <th>premise</th>\n",
       "      <th>date</th>\n",
       "      <th>hour</th>\n",
       "      <th>year</th>\n",
       "      <th>premise_description</th>\n",
       "    </tr>\n",
       "  </thead>\n",
       "  <tbody>\n",
       "  </tbody>\n",
       "</table>\n",
       "</div>"
      ],
      "text/plain": [
       "Empty DataFrame\n",
       "Columns: [date_time, offenses, offense_type, block_range, street_name, type, suffix, beat, premise, date, hour, year, premise_description]\n",
       "Index: []"
      ]
     },
     "execution_count": 55,
     "metadata": {},
     "output_type": "execute_result"
    }
   ],
   "source": [
    "df[df.date_time.isna()]"
   ]
  },
  {
   "cell_type": "code",
   "execution_count": 56,
   "metadata": {},
   "outputs": [],
   "source": [
    "# only non null values\n",
    "df = df[~df.date_time.isna()]"
   ]
  },
  {
   "cell_type": "code",
   "execution_count": 58,
   "metadata": {},
   "outputs": [
    {
     "data": {
      "text/html": [
       "<div>\n",
       "<style scoped>\n",
       "    .dataframe tbody tr th:only-of-type {\n",
       "        vertical-align: middle;\n",
       "    }\n",
       "\n",
       "    .dataframe tbody tr th {\n",
       "        vertical-align: top;\n",
       "    }\n",
       "\n",
       "    .dataframe thead th {\n",
       "        text-align: right;\n",
       "    }\n",
       "</style>\n",
       "<table border=\"1\" class=\"dataframe\">\n",
       "  <thead>\n",
       "    <tr style=\"text-align: right;\">\n",
       "      <th></th>\n",
       "      <th>date_time</th>\n",
       "      <th>offenses</th>\n",
       "      <th>offense_type</th>\n",
       "      <th>block_range</th>\n",
       "      <th>street_name</th>\n",
       "      <th>type</th>\n",
       "      <th>suffix</th>\n",
       "      <th>beat</th>\n",
       "      <th>premise</th>\n",
       "      <th>date</th>\n",
       "      <th>hour</th>\n",
       "      <th>year</th>\n",
       "      <th>premise_description</th>\n",
       "    </tr>\n",
       "  </thead>\n",
       "  <tbody>\n",
       "    <tr>\n",
       "      <th>0</th>\n",
       "      <td>2009-08-01 00:00:00</td>\n",
       "      <td>1.0</td>\n",
       "      <td>Robbery</td>\n",
       "      <td>3000-3099</td>\n",
       "      <td>DURHAM</td>\n",
       "      <td>DR</td>\n",
       "      <td>N</td>\n",
       "      <td>3B30</td>\n",
       "      <td>210</td>\n",
       "      <td>08/01/09 00:00:00</td>\n",
       "      <td>0.0</td>\n",
       "      <td>2009.0</td>\n",
       "      <td>restaurant cafeteria</td>\n",
       "    </tr>\n",
       "    <tr>\n",
       "      <th>1</th>\n",
       "      <td>2009-08-01 01:00:00</td>\n",
       "      <td>1.0</td>\n",
       "      <td>Theft</td>\n",
       "      <td>6000-6099</td>\n",
       "      <td>RICHMOND</td>\n",
       "      <td>AVE</td>\n",
       "      <td>-</td>\n",
       "      <td>18F30</td>\n",
       "      <td>210</td>\n",
       "      <td>08/01/09 00:00:00</td>\n",
       "      <td>1.0</td>\n",
       "      <td>2009.0</td>\n",
       "      <td>restaurant cafeteria</td>\n",
       "    </tr>\n",
       "    <tr>\n",
       "      <th>2</th>\n",
       "      <td>2009-08-01 04:00:00</td>\n",
       "      <td>1.0</td>\n",
       "      <td>Burglary</td>\n",
       "      <td>3900-3999</td>\n",
       "      <td>BROADWAY</td>\n",
       "      <td>ST</td>\n",
       "      <td>-</td>\n",
       "      <td>13D20</td>\n",
       "      <td>210</td>\n",
       "      <td>08/01/09 00:00:00</td>\n",
       "      <td>4.0</td>\n",
       "      <td>2009.0</td>\n",
       "      <td>restaurant cafeteria</td>\n",
       "    </tr>\n",
       "    <tr>\n",
       "      <th>3</th>\n",
       "      <td>2009-08-01 05:00:00</td>\n",
       "      <td>1.0</td>\n",
       "      <td>Burglary</td>\n",
       "      <td>8500-8599</td>\n",
       "      <td>BELLAIRE</td>\n",
       "      <td>BLVD</td>\n",
       "      <td>-</td>\n",
       "      <td>18F60</td>\n",
       "      <td>210</td>\n",
       "      <td>08/01/09 00:00:00</td>\n",
       "      <td>5.0</td>\n",
       "      <td>2009.0</td>\n",
       "      <td>restaurant cafeteria</td>\n",
       "    </tr>\n",
       "    <tr>\n",
       "      <th>4</th>\n",
       "      <td>2009-08-01 19:00:00</td>\n",
       "      <td>1.0</td>\n",
       "      <td>Theft</td>\n",
       "      <td>1100-1199</td>\n",
       "      <td>UPTOWN PARK</td>\n",
       "      <td>BLVD</td>\n",
       "      <td>-</td>\n",
       "      <td>18F20</td>\n",
       "      <td>210</td>\n",
       "      <td>08/01/09 00:00:00</td>\n",
       "      <td>19.0</td>\n",
       "      <td>2009.0</td>\n",
       "      <td>restaurant cafeteria</td>\n",
       "    </tr>\n",
       "  </tbody>\n",
       "</table>\n",
       "</div>"
      ],
      "text/plain": [
       "            date_time  offenses offense_type block_range  street_name  type  \\\n",
       "0 2009-08-01 00:00:00       1.0      Robbery   3000-3099       DURHAM    DR   \n",
       "1 2009-08-01 01:00:00       1.0        Theft   6000-6099     RICHMOND   AVE   \n",
       "2 2009-08-01 04:00:00       1.0     Burglary   3900-3999     BROADWAY    ST   \n",
       "3 2009-08-01 05:00:00       1.0     Burglary   8500-8599     BELLAIRE  BLVD   \n",
       "4 2009-08-01 19:00:00       1.0        Theft   1100-1199  UPTOWN PARK  BLVD   \n",
       "\n",
       "  suffix   beat premise               date  hour    year   premise_description  \n",
       "0      N   3B30     210  08/01/09 00:00:00   0.0  2009.0  restaurant cafeteria  \n",
       "1      -  18F30     210  08/01/09 00:00:00   1.0  2009.0  restaurant cafeteria  \n",
       "2      -  13D20     210  08/01/09 00:00:00   4.0  2009.0  restaurant cafeteria  \n",
       "3      -  18F60     210  08/01/09 00:00:00   5.0  2009.0  restaurant cafeteria  \n",
       "4      -  18F20     210  08/01/09 00:00:00  19.0  2009.0  restaurant cafeteria  "
      ]
     },
     "execution_count": 58,
     "metadata": {},
     "output_type": "execute_result"
    }
   ],
   "source": [
    "df.head()"
   ]
  },
  {
   "cell_type": "code",
   "execution_count": 57,
   "metadata": {},
   "outputs": [
    {
     "name": "stdout",
     "output_type": "stream",
     "text": [
      "<class 'pandas.core.frame.DataFrame'>\n",
      "Int64Index: 1122391 entries, 0 to 1122390\n",
      "Data columns (total 13 columns):\n",
      " #   Column               Non-Null Count    Dtype         \n",
      "---  ------               --------------    -----         \n",
      " 0   date_time            1122391 non-null  datetime64[ns]\n",
      " 1   offenses             1122391 non-null  float64       \n",
      " 2   offense_type         1122391 non-null  object        \n",
      " 3   block_range          1122391 non-null  object        \n",
      " 4   street_name          1122391 non-null  object        \n",
      " 5   type                 1122391 non-null  object        \n",
      " 6   suffix               1122391 non-null  object        \n",
      " 7   beat                 1122391 non-null  object        \n",
      " 8   premise              1122391 non-null  object        \n",
      " 9   date                 1122391 non-null  object        \n",
      " 10  hour                 1122391 non-null  float64       \n",
      " 11  year                 1122391 non-null  float64       \n",
      " 12  premise_description  1122391 non-null  object        \n",
      "dtypes: datetime64[ns](1), float64(3), object(9)\n",
      "memory usage: 119.9+ MB\n"
     ]
    }
   ],
   "source": [
    "df.info()"
   ]
  },
  {
   "cell_type": "code",
   "execution_count": 59,
   "metadata": {},
   "outputs": [],
   "source": [
    "df['offenses'] = df['offenses'].astype('int64')\n",
    "df['year'] = df['year'].astype('int64')\n",
    "df['hour'] = df['hour'].astype('int64')"
   ]
  },
  {
   "cell_type": "code",
   "execution_count": 60,
   "metadata": {},
   "outputs": [
    {
     "data": {
      "text/html": [
       "<div>\n",
       "<style scoped>\n",
       "    .dataframe tbody tr th:only-of-type {\n",
       "        vertical-align: middle;\n",
       "    }\n",
       "\n",
       "    .dataframe tbody tr th {\n",
       "        vertical-align: top;\n",
       "    }\n",
       "\n",
       "    .dataframe thead th {\n",
       "        text-align: right;\n",
       "    }\n",
       "</style>\n",
       "<table border=\"1\" class=\"dataframe\">\n",
       "  <thead>\n",
       "    <tr style=\"text-align: right;\">\n",
       "      <th></th>\n",
       "      <th>date_time</th>\n",
       "      <th>offenses</th>\n",
       "      <th>offense_type</th>\n",
       "      <th>block_range</th>\n",
       "      <th>street_name</th>\n",
       "      <th>type</th>\n",
       "      <th>suffix</th>\n",
       "      <th>beat</th>\n",
       "      <th>premise</th>\n",
       "      <th>date</th>\n",
       "      <th>hour</th>\n",
       "      <th>year</th>\n",
       "      <th>premise_description</th>\n",
       "    </tr>\n",
       "  </thead>\n",
       "  <tbody>\n",
       "    <tr>\n",
       "      <th>0</th>\n",
       "      <td>2009-08-01 00:00:00</td>\n",
       "      <td>1</td>\n",
       "      <td>Robbery</td>\n",
       "      <td>3000-3099</td>\n",
       "      <td>DURHAM</td>\n",
       "      <td>DR</td>\n",
       "      <td>N</td>\n",
       "      <td>3B30</td>\n",
       "      <td>210</td>\n",
       "      <td>08/01/09 00:00:00</td>\n",
       "      <td>0</td>\n",
       "      <td>2009</td>\n",
       "      <td>restaurant cafeteria</td>\n",
       "    </tr>\n",
       "    <tr>\n",
       "      <th>1</th>\n",
       "      <td>2009-08-01 01:00:00</td>\n",
       "      <td>1</td>\n",
       "      <td>Theft</td>\n",
       "      <td>6000-6099</td>\n",
       "      <td>RICHMOND</td>\n",
       "      <td>AVE</td>\n",
       "      <td>-</td>\n",
       "      <td>18F30</td>\n",
       "      <td>210</td>\n",
       "      <td>08/01/09 00:00:00</td>\n",
       "      <td>1</td>\n",
       "      <td>2009</td>\n",
       "      <td>restaurant cafeteria</td>\n",
       "    </tr>\n",
       "    <tr>\n",
       "      <th>2</th>\n",
       "      <td>2009-08-01 04:00:00</td>\n",
       "      <td>1</td>\n",
       "      <td>Burglary</td>\n",
       "      <td>3900-3999</td>\n",
       "      <td>BROADWAY</td>\n",
       "      <td>ST</td>\n",
       "      <td>-</td>\n",
       "      <td>13D20</td>\n",
       "      <td>210</td>\n",
       "      <td>08/01/09 00:00:00</td>\n",
       "      <td>4</td>\n",
       "      <td>2009</td>\n",
       "      <td>restaurant cafeteria</td>\n",
       "    </tr>\n",
       "    <tr>\n",
       "      <th>3</th>\n",
       "      <td>2009-08-01 05:00:00</td>\n",
       "      <td>1</td>\n",
       "      <td>Burglary</td>\n",
       "      <td>8500-8599</td>\n",
       "      <td>BELLAIRE</td>\n",
       "      <td>BLVD</td>\n",
       "      <td>-</td>\n",
       "      <td>18F60</td>\n",
       "      <td>210</td>\n",
       "      <td>08/01/09 00:00:00</td>\n",
       "      <td>5</td>\n",
       "      <td>2009</td>\n",
       "      <td>restaurant cafeteria</td>\n",
       "    </tr>\n",
       "    <tr>\n",
       "      <th>4</th>\n",
       "      <td>2009-08-01 19:00:00</td>\n",
       "      <td>1</td>\n",
       "      <td>Theft</td>\n",
       "      <td>1100-1199</td>\n",
       "      <td>UPTOWN PARK</td>\n",
       "      <td>BLVD</td>\n",
       "      <td>-</td>\n",
       "      <td>18F20</td>\n",
       "      <td>210</td>\n",
       "      <td>08/01/09 00:00:00</td>\n",
       "      <td>19</td>\n",
       "      <td>2009</td>\n",
       "      <td>restaurant cafeteria</td>\n",
       "    </tr>\n",
       "  </tbody>\n",
       "</table>\n",
       "</div>"
      ],
      "text/plain": [
       "            date_time  offenses offense_type block_range  street_name  type  \\\n",
       "0 2009-08-01 00:00:00         1      Robbery   3000-3099       DURHAM    DR   \n",
       "1 2009-08-01 01:00:00         1        Theft   6000-6099     RICHMOND   AVE   \n",
       "2 2009-08-01 04:00:00         1     Burglary   3900-3999     BROADWAY    ST   \n",
       "3 2009-08-01 05:00:00         1     Burglary   8500-8599     BELLAIRE  BLVD   \n",
       "4 2009-08-01 19:00:00         1        Theft   1100-1199  UPTOWN PARK  BLVD   \n",
       "\n",
       "  suffix   beat premise               date  hour  year   premise_description  \n",
       "0      N   3B30     210  08/01/09 00:00:00     0  2009  restaurant cafeteria  \n",
       "1      -  18F30     210  08/01/09 00:00:00     1  2009  restaurant cafeteria  \n",
       "2      -  13D20     210  08/01/09 00:00:00     4  2009  restaurant cafeteria  \n",
       "3      -  18F60     210  08/01/09 00:00:00     5  2009  restaurant cafeteria  \n",
       "4      -  18F20     210  08/01/09 00:00:00    19  2009  restaurant cafeteria  "
      ]
     },
     "execution_count": 60,
     "metadata": {},
     "output_type": "execute_result"
    }
   ],
   "source": [
    "df.head()"
   ]
  },
  {
   "cell_type": "code",
   "execution_count": 61,
   "metadata": {},
   "outputs": [
    {
     "data": {
      "text/plain": [
       "date_time              0\n",
       "offenses               0\n",
       "offense_type           0\n",
       "block_range            0\n",
       "street_name            0\n",
       "type                   0\n",
       "suffix                 0\n",
       "beat                   0\n",
       "premise                0\n",
       "date                   0\n",
       "hour                   0\n",
       "year                   0\n",
       "premise_description    0\n",
       "dtype: int64"
      ]
     },
     "execution_count": 61,
     "metadata": {},
     "output_type": "execute_result"
    }
   ],
   "source": [
    "df.apply(lambda x: sum(x.isnull()))"
   ]
  },
  {
   "cell_type": "code",
   "execution_count": null,
   "metadata": {},
   "outputs": [],
   "source": []
  },
  {
   "cell_type": "code",
   "execution_count": null,
   "metadata": {},
   "outputs": [],
   "source": []
  },
  {
   "cell_type": "code",
   "execution_count": 62,
   "metadata": {},
   "outputs": [
    {
     "data": {
      "text/plain": [
       "19G10     23848\n",
       "12D10     23696\n",
       "1A20      23393\n",
       "6B60      21695\n",
       "13D20     21223\n",
       "          ...  \n",
       "'24C20        1\n",
       "x             1\n",
       "'23J50        1\n",
       "7C60          1\n",
       "3B20          1\n",
       "Name: beat, Length: 243, dtype: int64"
      ]
     },
     "execution_count": 62,
     "metadata": {},
     "output_type": "execute_result"
    }
   ],
   "source": [
    "# column:beat\n",
    "df.beat.value_counts(dropna=False)"
   ]
  },
  {
   "cell_type": "code",
   "execution_count": 63,
   "metadata": {},
   "outputs": [
    {
     "data": {
      "text/plain": [
       "array(['3B30', '18F30', '13D20', '18F60', '18F20', '12D10', '17E10',\n",
       "       '12D30', '20G60', '6B50', '1A40', '3B50', '15E10', '6B40', '1A30',\n",
       "       '7C20', '10H80', '13D10', '19G50', '18F40', '11H10', '6B10',\n",
       "       '3B10', '4F10', '1A20', '20G50', '14D10', '1A50', '2A30', '14D30',\n",
       "       '9C40', '10H70', '1A10', '11H30', '10H50', '12D60', '2A60', '8C60',\n",
       "       '7C30', '17E20', '3B40', '5F40', '20G30', '5F30', '12D50', '5F10',\n",
       "       '17E40', '24C20', '10H30', '10H10', '6B60', '19G20', '8C20',\n",
       "       '19G40', '2A40', '8C10', '10H40', '15E30', '15E40', '19G10',\n",
       "       '4F30', '8C50', '2A10', '14D20', '6B30', '19G30', '2A50', '16E20',\n",
       "       '9C30', '20G40', '20G20', '20G10', '17E30', '12D40', '9C20',\n",
       "       '18F50', '2A20', 'UNK', '20G80', '10H60', '12D20', '24C40', '5F20',\n",
       "       '11H20', '13D40', '16E40', '4F20', '15E20', '24C10', '6B20',\n",
       "       '16E30', '20G70', '13D30', '11H50', '7C50', '9C10', '8C40',\n",
       "       '10H20', '18F10', '14D50', '21I30', '12D70', '16E10', '7C10',\n",
       "       '24C30', '8C30', '24C50', '14D40', '23J50', '7C40', '21I60',\n",
       "       '21I20', '21I50', '21I10', '24C60', '11H40', '23J40', '23J30',\n",
       "       '21I40', '21I70', '23J20', '23J10', '7C60', 'x', '22B10', '22B20',\n",
       "       '22B30', '22B40', 'HCSO', 'OOJ', \"'18F20\", \"'1A30\", \"'14D10\",\n",
       "       \"'6B20\", \"'3B40\", \"'2A50\", \"'2A30\", \"'18F30\", \"'13D10\", \"'8C30\",\n",
       "       \"'24C10\", \"'20G10\", \"'19G30\", \"'18F40\", \"'11H30\", \"'12D10\",\n",
       "       \"'10H10\", \"'5F40\", \"'7C50\", \"'21I50\", \"'8C20\", \"'8C60\", \"'1A50\",\n",
       "       \"'20G20\", \"'17E30\", \"'16E20\", \"'20G70\", \"'24C40\", \"'15E40\",\n",
       "       \"'20G30\", \"'1A40\", \"'19G10\", \"'19G50\", \"'4F10\", \"'4F20\", \"'15E30\",\n",
       "       \"'1A20\", \"'8C10\", \"'11H10\", \"'9C20\", \"'6B60\", \"'3B10\", \"'20G40\",\n",
       "       \"'2A20\", \"'10H20\", \"'12D60\", \"'9C40\", \"'UNK\", \"'8C40\", \"'2A40\",\n",
       "       \"'19G20\", \"'6B10\", \"'10H50\", \"'18F60\", \"'16E40\", \"'10H40\", \"'6B40\",\n",
       "       \"'7C30\", \"'6B30\", \"'5F30\", \"'8C50\", \"'1A10\", \"'10H30\", \"'21I10\",\n",
       "       \"'13D40\", \"'19G40\", \"'2A60\", \"'5F20\", \"'17E20\", \"'17E10\", \"'10H60\",\n",
       "       \"'24C30\", \"'11H50\", \"'7C40\", \"'14D20\", \"'12D50\", \"'12D20\", \"'3B50\",\n",
       "       \"'18F50\", \"'13D20\", \"'7C20\", \"'7C10\", \"'24C50\", \"'15E10\", \"'15E20\",\n",
       "       \"'9C10\", \"'12D30\", \"'10H70\", \"'3B30\", \"'16E10\", \"'17E40\", \"'6B50\",\n",
       "       \"'9C30\", \"'10H80\", \"'20G50\", \"'18F10\", \"'14D40\", \"'11H20\",\n",
       "       \"'14D30\", \"'16E30\", \"'2A10\", \"'20G60\", \"'5F10\", \"'20G80\", \"'12D40\",\n",
       "       \"'12D70\", \"'11H40\", \"'24C20\", \"'14D50\", \"'4F30\", \"'23J50\", 'UH-3P',\n",
       "       '3B20'], dtype=object)"
      ]
     },
     "execution_count": 63,
     "metadata": {},
     "output_type": "execute_result"
    }
   ],
   "source": [
    "df.beat.unique()"
   ]
  },
  {
   "cell_type": "code",
   "execution_count": 64,
   "metadata": {},
   "outputs": [],
   "source": [
    "# replace extra ' with empty space\n",
    "df['beat'] = df.beat.str.replace(\"'\", \" \")"
   ]
  },
  {
   "cell_type": "code",
   "execution_count": 65,
   "metadata": {},
   "outputs": [
    {
     "name": "stdout",
     "output_type": "stream",
     "text": [
      "column:beat\n",
      "before:243\n",
      "after:132\n"
     ]
    }
   ],
   "source": [
    "strip_col('beat')"
   ]
  },
  {
   "cell_type": "code",
   "execution_count": 66,
   "metadata": {},
   "outputs": [
    {
     "data": {
      "text/plain": [
       "array(['3B30', '18F30', '13D20', '18F60', '18F20', '12D10', '17E10',\n",
       "       '12D30', '20G60', '6B50', '1A40', '3B50', '15E10', '6B40', '1A30',\n",
       "       '7C20', '10H80', '13D10', '19G50', '18F40', '11H10', '6B10',\n",
       "       '3B10', '4F10', '1A20', '20G50', '14D10', '1A50', '2A30', '14D30',\n",
       "       '9C40', '10H70', '1A10', '11H30', '10H50', '12D60', '2A60', '8C60',\n",
       "       '7C30', '17E20', '3B40', '5F40', '20G30', '5F30', '12D50', '5F10',\n",
       "       '17E40', '24C20', '10H30', '10H10', '6B60', '19G20', '8C20',\n",
       "       '19G40', '2A40', '8C10', '10H40', '15E30', '15E40', '19G10',\n",
       "       '4F30', '8C50', '2A10', '14D20', '6B30', '19G30', '2A50', '16E20',\n",
       "       '9C30', '20G40', '20G20', '20G10', '17E30', '12D40', '9C20',\n",
       "       '18F50', '2A20', 'UNK', '20G80', '10H60', '12D20', '24C40', '5F20',\n",
       "       '11H20', '13D40', '16E40', '4F20', '15E20', '24C10', '6B20',\n",
       "       '16E30', '20G70', '13D30', '11H50', '7C50', '9C10', '8C40',\n",
       "       '10H20', '18F10', '14D50', '21I30', '12D70', '16E10', '7C10',\n",
       "       '24C30', '8C30', '24C50', '14D40', '23J50', '7C40', '21I60',\n",
       "       '21I20', '21I50', '21I10', '24C60', '11H40', '23J40', '23J30',\n",
       "       '21I40', '21I70', '23J20', '23J10', '7C60', 'x', '22B10', '22B20',\n",
       "       '22B30', '22B40', 'HCSO', 'OOJ', 'UH-3P', '3B20'], dtype=object)"
      ]
     },
     "execution_count": 66,
     "metadata": {},
     "output_type": "execute_result"
    }
   ],
   "source": [
    "df.beat.unique()"
   ]
  },
  {
   "cell_type": "code",
   "execution_count": 67,
   "metadata": {},
   "outputs": [
    {
     "data": {
      "text/html": [
       "<div>\n",
       "<style scoped>\n",
       "    .dataframe tbody tr th:only-of-type {\n",
       "        vertical-align: middle;\n",
       "    }\n",
       "\n",
       "    .dataframe tbody tr th {\n",
       "        vertical-align: top;\n",
       "    }\n",
       "\n",
       "    .dataframe thead th {\n",
       "        text-align: right;\n",
       "    }\n",
       "</style>\n",
       "<table border=\"1\" class=\"dataframe\">\n",
       "  <thead>\n",
       "    <tr style=\"text-align: right;\">\n",
       "      <th></th>\n",
       "      <th>date_time</th>\n",
       "      <th>offenses</th>\n",
       "      <th>offense_type</th>\n",
       "      <th>block_range</th>\n",
       "      <th>street_name</th>\n",
       "      <th>type</th>\n",
       "      <th>suffix</th>\n",
       "      <th>beat</th>\n",
       "      <th>premise</th>\n",
       "      <th>date</th>\n",
       "      <th>hour</th>\n",
       "      <th>year</th>\n",
       "      <th>premise_description</th>\n",
       "    </tr>\n",
       "  </thead>\n",
       "  <tbody>\n",
       "    <tr>\n",
       "      <th>0</th>\n",
       "      <td>2009-08-01 00:00:00</td>\n",
       "      <td>1</td>\n",
       "      <td>Robbery</td>\n",
       "      <td>3000-3099</td>\n",
       "      <td>DURHAM</td>\n",
       "      <td>DR</td>\n",
       "      <td>N</td>\n",
       "      <td>3B30</td>\n",
       "      <td>210</td>\n",
       "      <td>08/01/09 00:00:00</td>\n",
       "      <td>0</td>\n",
       "      <td>2009</td>\n",
       "      <td>restaurant cafeteria</td>\n",
       "    </tr>\n",
       "    <tr>\n",
       "      <th>1</th>\n",
       "      <td>2009-08-01 01:00:00</td>\n",
       "      <td>1</td>\n",
       "      <td>Theft</td>\n",
       "      <td>6000-6099</td>\n",
       "      <td>RICHMOND</td>\n",
       "      <td>AVE</td>\n",
       "      <td>-</td>\n",
       "      <td>18F30</td>\n",
       "      <td>210</td>\n",
       "      <td>08/01/09 00:00:00</td>\n",
       "      <td>1</td>\n",
       "      <td>2009</td>\n",
       "      <td>restaurant cafeteria</td>\n",
       "    </tr>\n",
       "    <tr>\n",
       "      <th>2</th>\n",
       "      <td>2009-08-01 04:00:00</td>\n",
       "      <td>1</td>\n",
       "      <td>Burglary</td>\n",
       "      <td>3900-3999</td>\n",
       "      <td>BROADWAY</td>\n",
       "      <td>ST</td>\n",
       "      <td>-</td>\n",
       "      <td>13D20</td>\n",
       "      <td>210</td>\n",
       "      <td>08/01/09 00:00:00</td>\n",
       "      <td>4</td>\n",
       "      <td>2009</td>\n",
       "      <td>restaurant cafeteria</td>\n",
       "    </tr>\n",
       "    <tr>\n",
       "      <th>3</th>\n",
       "      <td>2009-08-01 05:00:00</td>\n",
       "      <td>1</td>\n",
       "      <td>Burglary</td>\n",
       "      <td>8500-8599</td>\n",
       "      <td>BELLAIRE</td>\n",
       "      <td>BLVD</td>\n",
       "      <td>-</td>\n",
       "      <td>18F60</td>\n",
       "      <td>210</td>\n",
       "      <td>08/01/09 00:00:00</td>\n",
       "      <td>5</td>\n",
       "      <td>2009</td>\n",
       "      <td>restaurant cafeteria</td>\n",
       "    </tr>\n",
       "    <tr>\n",
       "      <th>4</th>\n",
       "      <td>2009-08-01 19:00:00</td>\n",
       "      <td>1</td>\n",
       "      <td>Theft</td>\n",
       "      <td>1100-1199</td>\n",
       "      <td>UPTOWN PARK</td>\n",
       "      <td>BLVD</td>\n",
       "      <td>-</td>\n",
       "      <td>18F20</td>\n",
       "      <td>210</td>\n",
       "      <td>08/01/09 00:00:00</td>\n",
       "      <td>19</td>\n",
       "      <td>2009</td>\n",
       "      <td>restaurant cafeteria</td>\n",
       "    </tr>\n",
       "  </tbody>\n",
       "</table>\n",
       "</div>"
      ],
      "text/plain": [
       "            date_time  offenses offense_type block_range  street_name  type  \\\n",
       "0 2009-08-01 00:00:00         1      Robbery   3000-3099       DURHAM    DR   \n",
       "1 2009-08-01 01:00:00         1        Theft   6000-6099     RICHMOND   AVE   \n",
       "2 2009-08-01 04:00:00         1     Burglary   3900-3999     BROADWAY    ST   \n",
       "3 2009-08-01 05:00:00         1     Burglary   8500-8599     BELLAIRE  BLVD   \n",
       "4 2009-08-01 19:00:00         1        Theft   1100-1199  UPTOWN PARK  BLVD   \n",
       "\n",
       "  suffix   beat premise               date  hour  year   premise_description  \n",
       "0      N   3B30     210  08/01/09 00:00:00     0  2009  restaurant cafeteria  \n",
       "1      -  18F30     210  08/01/09 00:00:00     1  2009  restaurant cafeteria  \n",
       "2      -  13D20     210  08/01/09 00:00:00     4  2009  restaurant cafeteria  \n",
       "3      -  18F60     210  08/01/09 00:00:00     5  2009  restaurant cafeteria  \n",
       "4      -  18F20     210  08/01/09 00:00:00    19  2009  restaurant cafeteria  "
      ]
     },
     "execution_count": 67,
     "metadata": {},
     "output_type": "execute_result"
    }
   ],
   "source": [
    "df.head()"
   ]
  },
  {
   "cell_type": "code",
   "execution_count": null,
   "metadata": {},
   "outputs": [],
   "source": []
  },
  {
   "cell_type": "code",
   "execution_count": null,
   "metadata": {},
   "outputs": [],
   "source": []
  },
  {
   "cell_type": "code",
   "execution_count": null,
   "metadata": {},
   "outputs": [],
   "source": []
  },
  {
   "cell_type": "code",
   "execution_count": 68,
   "metadata": {},
   "outputs": [
    {
     "data": {
      "text/plain": [
       "-    970374\n",
       "W     63674\n",
       "S     47836\n",
       "N     24405\n",
       "E     16102\n",
       "Name: suffix, dtype: int64"
      ]
     },
     "execution_count": 68,
     "metadata": {},
     "output_type": "execute_result"
    }
   ],
   "source": [
    "# column:suffix\n",
    "df.suffix.value_counts(dropna=False)"
   ]
  },
  {
   "cell_type": "code",
   "execution_count": 69,
   "metadata": {},
   "outputs": [
    {
     "data": {
      "text/plain": [
       "-          271240\n",
       "DR         231593\n",
       "ST         196531\n",
       "RD         172221\n",
       "BLVD        63811\n",
       "FWY         61048\n",
       "LN          43646\n",
       "PKWY        26607\n",
       "AVE         21107\n",
       "FWY SER      8642\n",
       "CT           6861\n",
       "WAY          6852\n",
       "TRL          3972\n",
       "CIR          3041\n",
       "SER          1817\n",
       "HWY          1726\n",
       "PL           1205\n",
       "LP            139\n",
       "BYP            93\n",
       "RAMP           63\n",
       "PASS           47\n",
       "COVE           29\n",
       "VIEW           28\n",
       "PRK            26\n",
       "WALK           11\n",
       "BND             7\n",
       "SQ              6\n",
       "MNR             4\n",
       "PT              4\n",
       "PATH            3\n",
       "UTRN            3\n",
       "TER             3\n",
       "RDG             2\n",
       "GRN             1\n",
       "SPUR            1\n",
       "XING            1\n",
       "Name: type, dtype: int64"
      ]
     },
     "execution_count": 69,
     "metadata": {},
     "output_type": "execute_result"
    }
   ],
   "source": [
    "# column:type\n",
    "df.type.value_counts(dropna=False)"
   ]
  },
  {
   "cell_type": "code",
   "execution_count": null,
   "metadata": {},
   "outputs": [],
   "source": []
  },
  {
   "cell_type": "code",
   "execution_count": 70,
   "metadata": {},
   "outputs": [
    {
     "name": "stdout",
     "output_type": "stream",
     "text": [
      "column:type\n",
      "before:36\n",
      "after:36\n"
     ]
    }
   ],
   "source": [
    "strip_col('type')"
   ]
  },
  {
   "cell_type": "code",
   "execution_count": 71,
   "metadata": {},
   "outputs": [
    {
     "name": "stdout",
     "output_type": "stream",
     "text": [
      "column:type\n",
      "before:36\n",
      "after:36\n"
     ]
    }
   ],
   "source": [
    "lower_col('type')"
   ]
  },
  {
   "cell_type": "markdown",
   "metadata": {},
   "source": [
    "# Street Name\n",
    "- lowercase all to merge"
   ]
  },
  {
   "cell_type": "code",
   "execution_count": 72,
   "metadata": {},
   "outputs": [
    {
     "data": {
      "text/plain": [
       "WESTHEIMER    29980\n",
       "GULF          15532\n",
       "GESSNER       15440\n",
       "NORTH         13921\n",
       "RICHMOND      13602\n",
       "KATY          11056\n",
       "SOUTHWEST     10891\n",
       "MAIN          10198\n",
       "BISSONNET     10130\n",
       "NORTHWEST      9811\n",
       "Name: street_name, dtype: int64"
      ]
     },
     "execution_count": 72,
     "metadata": {},
     "output_type": "execute_result"
    }
   ],
   "source": [
    "# column:street_name\n",
    "df.street_name.value_counts(dropna=False)[:10]"
   ]
  },
  {
   "cell_type": "code",
   "execution_count": 73,
   "metadata": {},
   "outputs": [
    {
     "data": {
      "text/plain": [
       "['NANCE',\n",
       " 'NANTUCKET',\n",
       " 'FERDINAND',\n",
       " 'DRENNAN',\n",
       " 'RONAN PARK PLACE',\n",
       " 'SAN FERNANDO',\n",
       " 'BONANZA',\n",
       " 'NENANA',\n",
       " 'SHENANDOAH',\n",
       " 'BUCHANAN',\n",
       " 'NAN',\n",
       " 'HEFFERNAN',\n",
       " 'COVENANT SPRINGS',\n",
       " 'NANTUCKET WOODS',\n",
       " 'RONAN PARK',\n",
       " 'NANCY ANN',\n",
       " 'HEFFERNAN ST',\n",
       " 'NENANA DRIVE',\n",
       " 'NENANA DR',\n",
       " 'DRENNAN ST',\n",
       " 'NANTUCKET DR',\n",
       " 'NAN ST',\n",
       " 'COVENANT CREST',\n",
       " 'RONAN',\n",
       " 'RONAN PARK PL',\n",
       " 'NANCY BELL',\n",
       " 'DRENNAN ST. APT. 1',\n",
       " 'BONANZA RD',\n",
       " 'N DRENNAN ST',\n",
       " 'N. DRENNAN',\n",
       " 'BUCHANAN HILL',\n",
       " 'B NANTUCKET']"
      ]
     },
     "execution_count": 73,
     "metadata": {},
     "output_type": "execute_result"
    }
   ],
   "source": [
    "df[df.street_name.str.contains('NAN')].street_name.unique().tolist()"
   ]
  },
  {
   "cell_type": "code",
   "execution_count": 74,
   "metadata": {},
   "outputs": [],
   "source": [
    "test = df.copy()"
   ]
  },
  {
   "cell_type": "code",
   "execution_count": 75,
   "metadata": {},
   "outputs": [],
   "source": [
    "df.street_name = df.street_name.replace('NAN',np.nan)"
   ]
  },
  {
   "cell_type": "code",
   "execution_count": 76,
   "metadata": {},
   "outputs": [
    {
     "ename": "ValueError",
     "evalue": "Cannot mask with non-boolean array containing NA / NaN values",
     "output_type": "error",
     "traceback": [
      "\u001b[0;31m---------------------------------------------------------------------------\u001b[0m",
      "\u001b[0;31mValueError\u001b[0m                                Traceback (most recent call last)",
      "\u001b[0;32m<ipython-input-76-7fbacb82ace4>\u001b[0m in \u001b[0;36m<module>\u001b[0;34m\u001b[0m\n\u001b[0;32m----> 1\u001b[0;31m \u001b[0mdf\u001b[0m\u001b[0;34m[\u001b[0m\u001b[0mdf\u001b[0m\u001b[0;34m.\u001b[0m\u001b[0mstreet_name\u001b[0m\u001b[0;34m.\u001b[0m\u001b[0mstr\u001b[0m\u001b[0;34m.\u001b[0m\u001b[0mcontains\u001b[0m\u001b[0;34m(\u001b[0m\u001b[0;34m'NAN'\u001b[0m\u001b[0;34m)\u001b[0m\u001b[0;34m]\u001b[0m\u001b[0;34m.\u001b[0m\u001b[0mstreet_name\u001b[0m\u001b[0;34m.\u001b[0m\u001b[0munique\u001b[0m\u001b[0;34m(\u001b[0m\u001b[0;34m)\u001b[0m\u001b[0;34m.\u001b[0m\u001b[0mtolist\u001b[0m\u001b[0;34m(\u001b[0m\u001b[0;34m)\u001b[0m\u001b[0;34m\u001b[0m\u001b[0;34m\u001b[0m\u001b[0m\n\u001b[0m",
      "\u001b[0;32m~/miniconda3/envs/capstone/lib/python3.9/site-packages/pandas/core/frame.py\u001b[0m in \u001b[0;36m__getitem__\u001b[0;34m(self, key)\u001b[0m\n\u001b[1;32m   3443\u001b[0m \u001b[0;34m\u001b[0m\u001b[0m\n\u001b[1;32m   3444\u001b[0m         \u001b[0;31m# Do we have a (boolean) 1d indexer?\u001b[0m\u001b[0;34m\u001b[0m\u001b[0;34m\u001b[0m\u001b[0;34m\u001b[0m\u001b[0m\n\u001b[0;32m-> 3445\u001b[0;31m         \u001b[0;32mif\u001b[0m \u001b[0mcom\u001b[0m\u001b[0;34m.\u001b[0m\u001b[0mis_bool_indexer\u001b[0m\u001b[0;34m(\u001b[0m\u001b[0mkey\u001b[0m\u001b[0;34m)\u001b[0m\u001b[0;34m:\u001b[0m\u001b[0;34m\u001b[0m\u001b[0;34m\u001b[0m\u001b[0m\n\u001b[0m\u001b[1;32m   3446\u001b[0m             \u001b[0;32mreturn\u001b[0m \u001b[0mself\u001b[0m\u001b[0;34m.\u001b[0m\u001b[0m_getitem_bool_array\u001b[0m\u001b[0;34m(\u001b[0m\u001b[0mkey\u001b[0m\u001b[0;34m)\u001b[0m\u001b[0;34m\u001b[0m\u001b[0;34m\u001b[0m\u001b[0m\n\u001b[1;32m   3447\u001b[0m \u001b[0;34m\u001b[0m\u001b[0m\n",
      "\u001b[0;32m~/miniconda3/envs/capstone/lib/python3.9/site-packages/pandas/core/common.py\u001b[0m in \u001b[0;36mis_bool_indexer\u001b[0;34m(key)\u001b[0m\n\u001b[1;32m    137\u001b[0m                     \u001b[0;31m# Don't raise on e.g. [\"A\", \"B\", np.nan], see\u001b[0m\u001b[0;34m\u001b[0m\u001b[0;34m\u001b[0m\u001b[0;34m\u001b[0m\u001b[0m\n\u001b[1;32m    138\u001b[0m                     \u001b[0;31m#  test_loc_getitem_list_of_labels_categoricalindex_with_na\u001b[0m\u001b[0;34m\u001b[0m\u001b[0;34m\u001b[0m\u001b[0;34m\u001b[0m\u001b[0m\n\u001b[0;32m--> 139\u001b[0;31m                     \u001b[0;32mraise\u001b[0m \u001b[0mValueError\u001b[0m\u001b[0;34m(\u001b[0m\u001b[0mna_msg\u001b[0m\u001b[0;34m)\u001b[0m\u001b[0;34m\u001b[0m\u001b[0;34m\u001b[0m\u001b[0m\n\u001b[0m\u001b[1;32m    140\u001b[0m                 \u001b[0;32mreturn\u001b[0m \u001b[0;32mFalse\u001b[0m\u001b[0;34m\u001b[0m\u001b[0;34m\u001b[0m\u001b[0m\n\u001b[1;32m    141\u001b[0m             \u001b[0;32mreturn\u001b[0m \u001b[0;32mTrue\u001b[0m\u001b[0;34m\u001b[0m\u001b[0;34m\u001b[0m\u001b[0m\n",
      "\u001b[0;31mValueError\u001b[0m: Cannot mask with non-boolean array containing NA / NaN values"
     ]
    }
   ],
   "source": [
    "df[df.street_name.str.contains('NAN')].street_name.unique().tolist()"
   ]
  },
  {
   "cell_type": "code",
   "execution_count": 78,
   "metadata": {},
   "outputs": [
    {
     "name": "stdout",
     "output_type": "stream",
     "text": [
      "<class 'pandas.core.frame.DataFrame'>\n",
      "Int64Index: 1122391 entries, 0 to 1122390\n",
      "Data columns (total 13 columns):\n",
      " #   Column               Non-Null Count    Dtype         \n",
      "---  ------               --------------    -----         \n",
      " 0   date_time            1122391 non-null  datetime64[ns]\n",
      " 1   offenses             1122391 non-null  int64         \n",
      " 2   offense_type         1122391 non-null  object        \n",
      " 3   block_range          1122391 non-null  object        \n",
      " 4   street_name          1122384 non-null  object        \n",
      " 5   type                 1122391 non-null  object        \n",
      " 6   suffix               1122391 non-null  object        \n",
      " 7   beat                 1122391 non-null  object        \n",
      " 8   premise              1122391 non-null  object        \n",
      " 9   date                 1122391 non-null  object        \n",
      " 10  hour                 1122391 non-null  int64         \n",
      " 11  year                 1122391 non-null  int64         \n",
      " 12  premise_description  1122391 non-null  object        \n",
      "dtypes: datetime64[ns](1), int64(3), object(9)\n",
      "memory usage: 119.9+ MB\n"
     ]
    }
   ],
   "source": [
    "df.info()"
   ]
  },
  {
   "cell_type": "code",
   "execution_count": 79,
   "metadata": {},
   "outputs": [
    {
     "data": {
      "text/html": [
       "<div>\n",
       "<style scoped>\n",
       "    .dataframe tbody tr th:only-of-type {\n",
       "        vertical-align: middle;\n",
       "    }\n",
       "\n",
       "    .dataframe tbody tr th {\n",
       "        vertical-align: top;\n",
       "    }\n",
       "\n",
       "    .dataframe thead th {\n",
       "        text-align: right;\n",
       "    }\n",
       "</style>\n",
       "<table border=\"1\" class=\"dataframe\">\n",
       "  <thead>\n",
       "    <tr style=\"text-align: right;\">\n",
       "      <th></th>\n",
       "      <th>date_time</th>\n",
       "      <th>offenses</th>\n",
       "      <th>offense_type</th>\n",
       "      <th>block_range</th>\n",
       "      <th>street_name</th>\n",
       "      <th>type</th>\n",
       "      <th>suffix</th>\n",
       "      <th>beat</th>\n",
       "      <th>premise</th>\n",
       "      <th>date</th>\n",
       "      <th>hour</th>\n",
       "      <th>year</th>\n",
       "      <th>premise_description</th>\n",
       "    </tr>\n",
       "  </thead>\n",
       "  <tbody>\n",
       "    <tr>\n",
       "      <th>201649</th>\n",
       "      <td>2011-04-30 06:00:00</td>\n",
       "      <td>1</td>\n",
       "      <td>Aggravated Assault</td>\n",
       "      <td>3900-3999</td>\n",
       "      <td>NaN</td>\n",
       "      <td>-</td>\n",
       "      <td>-</td>\n",
       "      <td>3B10</td>\n",
       "      <td>20R</td>\n",
       "      <td>2011-04-30 00:00:00</td>\n",
       "      <td>6</td>\n",
       "      <td>2011</td>\n",
       "      <td>residence house</td>\n",
       "    </tr>\n",
       "    <tr>\n",
       "      <th>237489</th>\n",
       "      <td>2013-08-04 01:00:00</td>\n",
       "      <td>1</td>\n",
       "      <td>Aggravated Assault</td>\n",
       "      <td>3900-3999</td>\n",
       "      <td>NaN</td>\n",
       "      <td>-</td>\n",
       "      <td>-</td>\n",
       "      <td>3B10</td>\n",
       "      <td>20R</td>\n",
       "      <td>2013-08-04 00:00:00</td>\n",
       "      <td>1</td>\n",
       "      <td>2013</td>\n",
       "      <td>residence house</td>\n",
       "    </tr>\n",
       "    <tr>\n",
       "      <th>322803</th>\n",
       "      <td>2013-03-01 23:00:00</td>\n",
       "      <td>1</td>\n",
       "      <td>Auto Theft</td>\n",
       "      <td>3800-3899</td>\n",
       "      <td>NaN</td>\n",
       "      <td>-</td>\n",
       "      <td>-</td>\n",
       "      <td>3B10</td>\n",
       "      <td>20D</td>\n",
       "      <td>2013-03-01 00:00:00</td>\n",
       "      <td>23</td>\n",
       "      <td>2013</td>\n",
       "      <td>driveway</td>\n",
       "    </tr>\n",
       "    <tr>\n",
       "      <th>889229</th>\n",
       "      <td>2016-09-15 16:00:00</td>\n",
       "      <td>1</td>\n",
       "      <td>Robbery</td>\n",
       "      <td>3900-3999</td>\n",
       "      <td>NaN</td>\n",
       "      <td>-</td>\n",
       "      <td>-</td>\n",
       "      <td>3B10</td>\n",
       "      <td>Apartment</td>\n",
       "      <td>2016-09-15 00:00:00</td>\n",
       "      <td>16</td>\n",
       "      <td>2016</td>\n",
       "      <td>apartment</td>\n",
       "    </tr>\n",
       "    <tr>\n",
       "      <th>900379</th>\n",
       "      <td>2017-09-15 16:00:00</td>\n",
       "      <td>1</td>\n",
       "      <td>Burglary</td>\n",
       "      <td>3900-3999</td>\n",
       "      <td>NaN</td>\n",
       "      <td>st</td>\n",
       "      <td>-</td>\n",
       "      <td>20G40</td>\n",
       "      <td>Apartment</td>\n",
       "      <td>09/15/2017</td>\n",
       "      <td>16</td>\n",
       "      <td>2017</td>\n",
       "      <td>apartment</td>\n",
       "    </tr>\n",
       "    <tr>\n",
       "      <th>905279</th>\n",
       "      <td>2018-05-19 17:00:00</td>\n",
       "      <td>1</td>\n",
       "      <td>Theft</td>\n",
       "      <td>3900-3999</td>\n",
       "      <td>NaN</td>\n",
       "      <td>st</td>\n",
       "      <td>-</td>\n",
       "      <td>3B10</td>\n",
       "      <td>Apartment</td>\n",
       "      <td>05/19/2018</td>\n",
       "      <td>17</td>\n",
       "      <td>2018</td>\n",
       "      <td>apartment</td>\n",
       "    </tr>\n",
       "    <tr>\n",
       "      <th>951578</th>\n",
       "      <td>2018-01-08 09:00:00</td>\n",
       "      <td>1</td>\n",
       "      <td>AutoTheft</td>\n",
       "      <td>3900-3999</td>\n",
       "      <td>NaN</td>\n",
       "      <td>st</td>\n",
       "      <td>-</td>\n",
       "      <td>2A10</td>\n",
       "      <td>Road, Street, or Sidewalk</td>\n",
       "      <td>01/08/2018</td>\n",
       "      <td>9</td>\n",
       "      <td>2018</td>\n",
       "      <td>road  street  or sidewalk</td>\n",
       "    </tr>\n",
       "  </tbody>\n",
       "</table>\n",
       "</div>"
      ],
      "text/plain": [
       "                 date_time  offenses        offense_type block_range  \\\n",
       "201649 2011-04-30 06:00:00         1  Aggravated Assault   3900-3999   \n",
       "237489 2013-08-04 01:00:00         1  Aggravated Assault   3900-3999   \n",
       "322803 2013-03-01 23:00:00         1          Auto Theft   3800-3899   \n",
       "889229 2016-09-15 16:00:00         1             Robbery   3900-3999   \n",
       "900379 2017-09-15 16:00:00         1            Burglary   3900-3999   \n",
       "905279 2018-05-19 17:00:00         1               Theft   3900-3999   \n",
       "951578 2018-01-08 09:00:00         1           AutoTheft   3900-3999   \n",
       "\n",
       "       street_name type suffix   beat                    premise  \\\n",
       "201649         NaN    -      -   3B10                        20R   \n",
       "237489         NaN    -      -   3B10                        20R   \n",
       "322803         NaN    -      -   3B10                        20D   \n",
       "889229         NaN    -      -   3B10                  Apartment   \n",
       "900379         NaN   st      -  20G40                  Apartment   \n",
       "905279         NaN   st      -   3B10                  Apartment   \n",
       "951578         NaN   st      -   2A10  Road, Street, or Sidewalk   \n",
       "\n",
       "                       date  hour  year        premise_description  \n",
       "201649  2011-04-30 00:00:00     6  2011            residence house  \n",
       "237489  2013-08-04 00:00:00     1  2013            residence house  \n",
       "322803  2013-03-01 00:00:00    23  2013                   driveway  \n",
       "889229  2016-09-15 00:00:00    16  2016                  apartment  \n",
       "900379           09/15/2017    16  2017                  apartment  \n",
       "905279           05/19/2018    17  2018                  apartment  \n",
       "951578           01/08/2018     9  2018  road  street  or sidewalk  "
      ]
     },
     "execution_count": 79,
     "metadata": {},
     "output_type": "execute_result"
    }
   ],
   "source": [
    "df[df.street_name.isna()]"
   ]
  },
  {
   "cell_type": "code",
   "execution_count": 80,
   "metadata": {},
   "outputs": [],
   "source": [
    "# CHANGE Nan with unk"
   ]
  },
  {
   "cell_type": "code",
   "execution_count": 81,
   "metadata": {},
   "outputs": [],
   "source": [
    "df.street_name.fillna('UNK',inplace=True)"
   ]
  },
  {
   "cell_type": "code",
   "execution_count": 82,
   "metadata": {},
   "outputs": [
    {
     "data": {
      "text/html": [
       "<div>\n",
       "<style scoped>\n",
       "    .dataframe tbody tr th:only-of-type {\n",
       "        vertical-align: middle;\n",
       "    }\n",
       "\n",
       "    .dataframe tbody tr th {\n",
       "        vertical-align: top;\n",
       "    }\n",
       "\n",
       "    .dataframe thead th {\n",
       "        text-align: right;\n",
       "    }\n",
       "</style>\n",
       "<table border=\"1\" class=\"dataframe\">\n",
       "  <thead>\n",
       "    <tr style=\"text-align: right;\">\n",
       "      <th></th>\n",
       "      <th>date_time</th>\n",
       "      <th>offenses</th>\n",
       "      <th>offense_type</th>\n",
       "      <th>block_range</th>\n",
       "      <th>street_name</th>\n",
       "      <th>type</th>\n",
       "      <th>suffix</th>\n",
       "      <th>beat</th>\n",
       "      <th>premise</th>\n",
       "      <th>date</th>\n",
       "      <th>hour</th>\n",
       "      <th>year</th>\n",
       "      <th>premise_description</th>\n",
       "    </tr>\n",
       "  </thead>\n",
       "  <tbody>\n",
       "  </tbody>\n",
       "</table>\n",
       "</div>"
      ],
      "text/plain": [
       "Empty DataFrame\n",
       "Columns: [date_time, offenses, offense_type, block_range, street_name, type, suffix, beat, premise, date, hour, year, premise_description]\n",
       "Index: []"
      ]
     },
     "execution_count": 82,
     "metadata": {},
     "output_type": "execute_result"
    }
   ],
   "source": [
    "df[df.street_name.isna()]"
   ]
  },
  {
   "cell_type": "code",
   "execution_count": null,
   "metadata": {},
   "outputs": [],
   "source": []
  },
  {
   "cell_type": "code",
   "execution_count": null,
   "metadata": {},
   "outputs": [],
   "source": []
  },
  {
   "cell_type": "code",
   "execution_count": 83,
   "metadata": {},
   "outputs": [
    {
     "name": "stdout",
     "output_type": "stream",
     "text": [
      "column:street_name\n",
      "before:28322\n",
      "after:28319\n"
     ]
    }
   ],
   "source": [
    "strip_col('street_name')"
   ]
  },
  {
   "cell_type": "code",
   "execution_count": 84,
   "metadata": {},
   "outputs": [
    {
     "name": "stdout",
     "output_type": "stream",
     "text": [
      "column:street_name\n",
      "before:28319\n",
      "after:28319\n"
     ]
    }
   ],
   "source": [
    "lower_col('street_name')"
   ]
  },
  {
   "cell_type": "code",
   "execution_count": 85,
   "metadata": {},
   "outputs": [
    {
     "data": {
      "text/plain": [
       "900-999      15552\n",
       "100-199      15436\n",
       "800-899      13306\n",
       "700-799      12933\n",
       "2400-2499    12751\n",
       "2300-2399    12605\n",
       "1000-1099    12591\n",
       "7900-7999    12428\n",
       "9400-9499    12390\n",
       "300-399      12210\n",
       "4400-4499    12195\n",
       "200-299      12178\n",
       "500-599      11861\n",
       "1500-1599    11618\n",
       "9500-9599    11616\n",
       "1300-1399    11364\n",
       "2500-2599    11309\n",
       "7500-7599    11183\n",
       "2700-2799    11141\n",
       "1100-1199    11085\n",
       "1200-1299    10822\n",
       "1400-1499    10783\n",
       "600-699      10738\n",
       "5000-5099    10537\n",
       "5800-5899    10384\n",
       "2100-2199    10121\n",
       "2000-2099    10098\n",
       "5900-5999    10077\n",
       "400-499      10030\n",
       "6000-6099     9949\n",
       "Name: block_range, dtype: int64"
      ]
     },
     "execution_count": 85,
     "metadata": {},
     "output_type": "execute_result"
    }
   ],
   "source": [
    "# column:block_range\n",
    "df.block_range.value_counts(dropna=False)[:30]"
   ]
  },
  {
   "cell_type": "code",
   "execution_count": 86,
   "metadata": {},
   "outputs": [
    {
     "name": "stdout",
     "output_type": "stream",
     "text": [
      "column:block_range\n",
      "before:363\n",
      "after:363\n"
     ]
    }
   ],
   "source": [
    "strip_col('block_range')"
   ]
  },
  {
   "cell_type": "code",
   "execution_count": 87,
   "metadata": {},
   "outputs": [
    {
     "data": {
      "text/plain": [
       "Theft                 616262\n",
       "Burglary              203592\n",
       "Auto Theft             99928\n",
       "Aggravated Assault     93863\n",
       "Robbery                86343\n",
       "AutoTheft              12193\n",
       "Rape                    8035\n",
       "Murder                  2161\n",
       "1                         14\n",
       "Name: offense_type, dtype: int64"
      ]
     },
     "execution_count": 87,
     "metadata": {},
     "output_type": "execute_result"
    }
   ],
   "source": [
    "# column:offense_type\n",
    "df.offense_type.value_counts(dropna=False)[:10]"
   ]
  },
  {
   "cell_type": "code",
   "execution_count": 88,
   "metadata": {},
   "outputs": [],
   "source": [
    "# combine Auto Theft & AutoTheft\n",
    "# join Auto Theft & AutoTheft\n",
    "df.offense_type = df.offense_type.replace('AutoTheft','Auto Theft')"
   ]
  },
  {
   "cell_type": "code",
   "execution_count": 89,
   "metadata": {},
   "outputs": [
    {
     "data": {
      "text/plain": [
       "Theft                 616262\n",
       "Burglary              203592\n",
       "Auto Theft            112121\n",
       "Aggravated Assault     93863\n",
       "Robbery                86343\n",
       "Rape                    8035\n",
       "Murder                  2161\n",
       "1                         14\n",
       "Name: offense_type, dtype: int64"
      ]
     },
     "execution_count": 89,
     "metadata": {},
     "output_type": "execute_result"
    }
   ],
   "source": [
    "# column:offense_type\n",
    "df.offense_type.value_counts(dropna=False)[:10]"
   ]
  },
  {
   "cell_type": "code",
   "execution_count": null,
   "metadata": {},
   "outputs": [],
   "source": []
  },
  {
   "cell_type": "markdown",
   "metadata": {},
   "source": [
    "## Find out where the '1' comes from"
   ]
  },
  {
   "cell_type": "code",
   "execution_count": 90,
   "metadata": {},
   "outputs": [
    {
     "data": {
      "text/html": [
       "<div>\n",
       "<style scoped>\n",
       "    .dataframe tbody tr th:only-of-type {\n",
       "        vertical-align: middle;\n",
       "    }\n",
       "\n",
       "    .dataframe tbody tr th {\n",
       "        vertical-align: top;\n",
       "    }\n",
       "\n",
       "    .dataframe thead th {\n",
       "        text-align: right;\n",
       "    }\n",
       "</style>\n",
       "<table border=\"1\" class=\"dataframe\">\n",
       "  <thead>\n",
       "    <tr style=\"text-align: right;\">\n",
       "      <th></th>\n",
       "      <th>date_time</th>\n",
       "      <th>offenses</th>\n",
       "      <th>offense_type</th>\n",
       "      <th>block_range</th>\n",
       "      <th>street_name</th>\n",
       "      <th>type</th>\n",
       "      <th>suffix</th>\n",
       "      <th>beat</th>\n",
       "      <th>premise</th>\n",
       "      <th>date</th>\n",
       "      <th>hour</th>\n",
       "      <th>year</th>\n",
       "      <th>premise_description</th>\n",
       "    </tr>\n",
       "  </thead>\n",
       "  <tbody>\n",
       "    <tr>\n",
       "      <th>657191</th>\n",
       "      <td>2015-07-30 16:00:00</td>\n",
       "      <td>1</td>\n",
       "      <td>1</td>\n",
       "      <td>8400-8499</td>\n",
       "      <td>tavenor</td>\n",
       "      <td>ln</td>\n",
       "      <td>-</td>\n",
       "      <td>13D40</td>\n",
       "      <td>Residence or House</td>\n",
       "      <td>2015-07-30 00:00:00</td>\n",
       "      <td>16</td>\n",
       "      <td>2015</td>\n",
       "      <td>residence or house</td>\n",
       "    </tr>\n",
       "    <tr>\n",
       "      <th>673803</th>\n",
       "      <td>2016-07-15 00:00:00</td>\n",
       "      <td>1</td>\n",
       "      <td>1</td>\n",
       "      <td>11200-11299</td>\n",
       "      <td>sageland</td>\n",
       "      <td>dr</td>\n",
       "      <td>-</td>\n",
       "      <td>12D20</td>\n",
       "      <td>Residence or House</td>\n",
       "      <td>2016-07-15 00:00:00</td>\n",
       "      <td>0</td>\n",
       "      <td>2016</td>\n",
       "      <td>residence or house</td>\n",
       "    </tr>\n",
       "    <tr>\n",
       "      <th>674680</th>\n",
       "      <td>2016-07-02 14:00:00</td>\n",
       "      <td>1</td>\n",
       "      <td>1</td>\n",
       "      <td>11600-11699</td>\n",
       "      <td>gessner</td>\n",
       "      <td>rd</td>\n",
       "      <td>N</td>\n",
       "      <td>5F40</td>\n",
       "      <td>Residence or House</td>\n",
       "      <td>2016-07-02 00:00:00</td>\n",
       "      <td>14</td>\n",
       "      <td>2016</td>\n",
       "      <td>residence or house</td>\n",
       "    </tr>\n",
       "    <tr>\n",
       "      <th>688414</th>\n",
       "      <td>2016-12-31 01:00:00</td>\n",
       "      <td>1</td>\n",
       "      <td>1</td>\n",
       "      <td>4200-4299</td>\n",
       "      <td>oak shadows</td>\n",
       "      <td>dr</td>\n",
       "      <td>-</td>\n",
       "      <td>6B20</td>\n",
       "      <td>Residence or House</td>\n",
       "      <td>2016-12-31 00:00:00</td>\n",
       "      <td>1</td>\n",
       "      <td>2017</td>\n",
       "      <td>residence or house</td>\n",
       "    </tr>\n",
       "    <tr>\n",
       "      <th>803740</th>\n",
       "      <td>2015-01-01 00:00:00</td>\n",
       "      <td>1</td>\n",
       "      <td>1</td>\n",
       "      <td>800-899</td>\n",
       "      <td>eastlake</td>\n",
       "      <td>st</td>\n",
       "      <td>-</td>\n",
       "      <td>12D10</td>\n",
       "      <td>UNK</td>\n",
       "      <td>2015-01-01 00:00:00</td>\n",
       "      <td>0</td>\n",
       "      <td>2015</td>\n",
       "      <td>unk</td>\n",
       "    </tr>\n",
       "    <tr>\n",
       "      <th>804876</th>\n",
       "      <td>2013-08-31 00:00:00</td>\n",
       "      <td>1</td>\n",
       "      <td>1</td>\n",
       "      <td>9200-9299</td>\n",
       "      <td>nyssa</td>\n",
       "      <td>-</td>\n",
       "      <td>-</td>\n",
       "      <td>8C50</td>\n",
       "      <td>UNK</td>\n",
       "      <td>2013-08-31 00:00:00</td>\n",
       "      <td>0</td>\n",
       "      <td>2015</td>\n",
       "      <td>unk</td>\n",
       "    </tr>\n",
       "    <tr>\n",
       "      <th>868207</th>\n",
       "      <td>2015-12-04 13:00:00</td>\n",
       "      <td>1</td>\n",
       "      <td>1</td>\n",
       "      <td>7800-7899</td>\n",
       "      <td>airport</td>\n",
       "      <td>blvd</td>\n",
       "      <td>W</td>\n",
       "      <td>17E40</td>\n",
       "      <td>Apartment</td>\n",
       "      <td>2015-12-04 00:00:00</td>\n",
       "      <td>13</td>\n",
       "      <td>2015</td>\n",
       "      <td>apartment</td>\n",
       "    </tr>\n",
       "    <tr>\n",
       "      <th>873355</th>\n",
       "      <td>2015-03-19 21:00:00</td>\n",
       "      <td>1</td>\n",
       "      <td>1</td>\n",
       "      <td>9300-9399</td>\n",
       "      <td>long point</td>\n",
       "      <td>rd</td>\n",
       "      <td>-</td>\n",
       "      <td>4F10</td>\n",
       "      <td>Apartment</td>\n",
       "      <td>2015-03-19 00:00:00</td>\n",
       "      <td>21</td>\n",
       "      <td>2015</td>\n",
       "      <td>apartment</td>\n",
       "    </tr>\n",
       "    <tr>\n",
       "      <th>876604</th>\n",
       "      <td>2013-09-27 06:00:00</td>\n",
       "      <td>1</td>\n",
       "      <td>1</td>\n",
       "      <td>1500-1599</td>\n",
       "      <td>bailey st 424</td>\n",
       "      <td>-</td>\n",
       "      <td>-</td>\n",
       "      <td>UNK</td>\n",
       "      <td>Apartment</td>\n",
       "      <td>2013-09-27 00:00:00</td>\n",
       "      <td>6</td>\n",
       "      <td>2015</td>\n",
       "      <td>apartment</td>\n",
       "    </tr>\n",
       "    <tr>\n",
       "      <th>881410</th>\n",
       "      <td>2015-11-17 00:00:00</td>\n",
       "      <td>1</td>\n",
       "      <td>1</td>\n",
       "      <td>8600-8699</td>\n",
       "      <td>sterlingshire</td>\n",
       "      <td>-</td>\n",
       "      <td>-</td>\n",
       "      <td>8C50</td>\n",
       "      <td>Apartment</td>\n",
       "      <td>2015-11-17 00:00:00</td>\n",
       "      <td>0</td>\n",
       "      <td>2016</td>\n",
       "      <td>apartment</td>\n",
       "    </tr>\n",
       "    <tr>\n",
       "      <th>886527</th>\n",
       "      <td>2015-06-04 20:00:00</td>\n",
       "      <td>1</td>\n",
       "      <td>1</td>\n",
       "      <td>5600-5699</td>\n",
       "      <td>leeland</td>\n",
       "      <td>-</td>\n",
       "      <td>-</td>\n",
       "      <td>11H10</td>\n",
       "      <td>Apartment</td>\n",
       "      <td>2015-06-04 00:00:00</td>\n",
       "      <td>20</td>\n",
       "      <td>2016</td>\n",
       "      <td>apartment</td>\n",
       "    </tr>\n",
       "    <tr>\n",
       "      <th>892852</th>\n",
       "      <td>2017-02-15 23:00:00</td>\n",
       "      <td>1</td>\n",
       "      <td>1</td>\n",
       "      <td>1400-1499</td>\n",
       "      <td>dairy ashford</td>\n",
       "      <td>rd</td>\n",
       "      <td>S</td>\n",
       "      <td>20G40</td>\n",
       "      <td>Apartment</td>\n",
       "      <td>2017-02-15 00:00:00</td>\n",
       "      <td>23</td>\n",
       "      <td>2017</td>\n",
       "      <td>apartment</td>\n",
       "    </tr>\n",
       "    <tr>\n",
       "      <th>919738</th>\n",
       "      <td>2015-04-05 20:00:00</td>\n",
       "      <td>1</td>\n",
       "      <td>1</td>\n",
       "      <td>4900-4999</td>\n",
       "      <td>mckinney</td>\n",
       "      <td>st</td>\n",
       "      <td>-</td>\n",
       "      <td>10H20</td>\n",
       "      <td>Road, Street, or Sidewalk</td>\n",
       "      <td>2015-04-05 00:00:00</td>\n",
       "      <td>20</td>\n",
       "      <td>2015</td>\n",
       "      <td>road  street  or sidewalk</td>\n",
       "    </tr>\n",
       "    <tr>\n",
       "      <th>992215</th>\n",
       "      <td>2015-04-10 18:00:00</td>\n",
       "      <td>1</td>\n",
       "      <td>1</td>\n",
       "      <td>11200-11299</td>\n",
       "      <td>fondren</td>\n",
       "      <td>rd</td>\n",
       "      <td>-</td>\n",
       "      <td>17E40</td>\n",
       "      <td>Service or Gas Station</td>\n",
       "      <td>2015-04-10 00:00:00</td>\n",
       "      <td>18</td>\n",
       "      <td>2015</td>\n",
       "      <td>service or gas station</td>\n",
       "    </tr>\n",
       "  </tbody>\n",
       "</table>\n",
       "</div>"
      ],
      "text/plain": [
       "                 date_time  offenses offense_type  block_range    street_name  \\\n",
       "657191 2015-07-30 16:00:00         1            1    8400-8499        tavenor   \n",
       "673803 2016-07-15 00:00:00         1            1  11200-11299       sageland   \n",
       "674680 2016-07-02 14:00:00         1            1  11600-11699        gessner   \n",
       "688414 2016-12-31 01:00:00         1            1    4200-4299    oak shadows   \n",
       "803740 2015-01-01 00:00:00         1            1      800-899       eastlake   \n",
       "804876 2013-08-31 00:00:00         1            1    9200-9299          nyssa   \n",
       "868207 2015-12-04 13:00:00         1            1    7800-7899        airport   \n",
       "873355 2015-03-19 21:00:00         1            1    9300-9399     long point   \n",
       "876604 2013-09-27 06:00:00         1            1    1500-1599  bailey st 424   \n",
       "881410 2015-11-17 00:00:00         1            1    8600-8699  sterlingshire   \n",
       "886527 2015-06-04 20:00:00         1            1    5600-5699        leeland   \n",
       "892852 2017-02-15 23:00:00         1            1    1400-1499  dairy ashford   \n",
       "919738 2015-04-05 20:00:00         1            1    4900-4999       mckinney   \n",
       "992215 2015-04-10 18:00:00         1            1  11200-11299        fondren   \n",
       "\n",
       "        type suffix   beat                    premise                 date  \\\n",
       "657191    ln      -  13D40         Residence or House  2015-07-30 00:00:00   \n",
       "673803    dr      -  12D20         Residence or House  2016-07-15 00:00:00   \n",
       "674680    rd      N   5F40         Residence or House  2016-07-02 00:00:00   \n",
       "688414    dr      -   6B20         Residence or House  2016-12-31 00:00:00   \n",
       "803740    st      -  12D10                        UNK  2015-01-01 00:00:00   \n",
       "804876     -      -   8C50                        UNK  2013-08-31 00:00:00   \n",
       "868207  blvd      W  17E40                  Apartment  2015-12-04 00:00:00   \n",
       "873355    rd      -   4F10                  Apartment  2015-03-19 00:00:00   \n",
       "876604     -      -    UNK                  Apartment  2013-09-27 00:00:00   \n",
       "881410     -      -   8C50                  Apartment  2015-11-17 00:00:00   \n",
       "886527     -      -  11H10                  Apartment  2015-06-04 00:00:00   \n",
       "892852    rd      S  20G40                  Apartment  2017-02-15 00:00:00   \n",
       "919738    st      -  10H20  Road, Street, or Sidewalk  2015-04-05 00:00:00   \n",
       "992215    rd      -  17E40     Service or Gas Station  2015-04-10 00:00:00   \n",
       "\n",
       "        hour  year        premise_description  \n",
       "657191    16  2015         residence or house  \n",
       "673803     0  2016         residence or house  \n",
       "674680    14  2016         residence or house  \n",
       "688414     1  2017         residence or house  \n",
       "803740     0  2015                        unk  \n",
       "804876     0  2015                        unk  \n",
       "868207    13  2015                  apartment  \n",
       "873355    21  2015                  apartment  \n",
       "876604     6  2015                  apartment  \n",
       "881410     0  2016                  apartment  \n",
       "886527    20  2016                  apartment  \n",
       "892852    23  2017                  apartment  \n",
       "919738    20  2015  road  street  or sidewalk  \n",
       "992215    18  2015     service or gas station  "
      ]
     },
     "execution_count": 90,
     "metadata": {},
     "output_type": "execute_result"
    }
   ],
   "source": [
    "df[df.offense_type.str.contains('1')]"
   ]
  },
  {
   "cell_type": "markdown",
   "metadata": {},
   "source": [
    "# remove it"
   ]
  },
  {
   "cell_type": "code",
   "execution_count": 91,
   "metadata": {},
   "outputs": [],
   "source": [
    "# show the oposite of result of '1'. ie only show values that are NOT '1'\n",
    "# 1,126,346\n",
    "df = df[~df.offense_type.str.contains('1')]"
   ]
  },
  {
   "cell_type": "code",
   "execution_count": 92,
   "metadata": {},
   "outputs": [
    {
     "data": {
      "text/html": [
       "<div>\n",
       "<style scoped>\n",
       "    .dataframe tbody tr th:only-of-type {\n",
       "        vertical-align: middle;\n",
       "    }\n",
       "\n",
       "    .dataframe tbody tr th {\n",
       "        vertical-align: top;\n",
       "    }\n",
       "\n",
       "    .dataframe thead th {\n",
       "        text-align: right;\n",
       "    }\n",
       "</style>\n",
       "<table border=\"1\" class=\"dataframe\">\n",
       "  <thead>\n",
       "    <tr style=\"text-align: right;\">\n",
       "      <th></th>\n",
       "      <th>date_time</th>\n",
       "      <th>offenses</th>\n",
       "      <th>offense_type</th>\n",
       "      <th>block_range</th>\n",
       "      <th>street_name</th>\n",
       "      <th>type</th>\n",
       "      <th>suffix</th>\n",
       "      <th>beat</th>\n",
       "      <th>premise</th>\n",
       "      <th>date</th>\n",
       "      <th>hour</th>\n",
       "      <th>year</th>\n",
       "      <th>premise_description</th>\n",
       "    </tr>\n",
       "  </thead>\n",
       "  <tbody>\n",
       "  </tbody>\n",
       "</table>\n",
       "</div>"
      ],
      "text/plain": [
       "Empty DataFrame\n",
       "Columns: [date_time, offenses, offense_type, block_range, street_name, type, suffix, beat, premise, date, hour, year, premise_description]\n",
       "Index: []"
      ]
     },
     "execution_count": 92,
     "metadata": {},
     "output_type": "execute_result"
    }
   ],
   "source": [
    "df[df.offense_type.str.contains('1')]"
   ]
  },
  {
   "cell_type": "code",
   "execution_count": 93,
   "metadata": {},
   "outputs": [
    {
     "data": {
      "text/plain": [
       "Theft                 616262\n",
       "Burglary              203592\n",
       "Auto Theft            112121\n",
       "Aggravated Assault     93863\n",
       "Robbery                86343\n",
       "Rape                    8035\n",
       "Murder                  2161\n",
       "Name: offense_type, dtype: int64"
      ]
     },
     "execution_count": 93,
     "metadata": {},
     "output_type": "execute_result"
    }
   ],
   "source": [
    "# column:offense_type\n",
    "df.offense_type.value_counts(dropna=False)[:10]"
   ]
  },
  {
   "cell_type": "code",
   "execution_count": null,
   "metadata": {},
   "outputs": [],
   "source": []
  },
  {
   "cell_type": "code",
   "execution_count": 94,
   "metadata": {},
   "outputs": [
    {
     "data": {
      "text/plain": [
       "1     1108142\n",
       "2       11932\n",
       "3        1822\n",
       "4         287\n",
       "5          91\n",
       "6          52\n",
       "7          16\n",
       "8          11\n",
       "9           6\n",
       "13          4\n",
       "16          3\n",
       "10          3\n",
       "11          2\n",
       "12          2\n",
       "17          2\n",
       "29          1\n",
       "33          1\n",
       "Name: offenses, dtype: int64"
      ]
     },
     "execution_count": 94,
     "metadata": {},
     "output_type": "execute_result"
    }
   ],
   "source": [
    "# column:offenses\n",
    "df.offenses.value_counts(dropna=False)[:20]"
   ]
  },
  {
   "cell_type": "code",
   "execution_count": null,
   "metadata": {},
   "outputs": [],
   "source": []
  },
  {
   "cell_type": "code",
   "execution_count": 95,
   "metadata": {},
   "outputs": [
    {
     "data": {
      "text/plain": [
       "2011-01-01    72\n",
       "2010-01-01    68\n",
       "2009-12-01    60\n",
       "2010-06-01    59\n",
       "2011-09-01    57\n",
       "2010-04-01    53\n",
       "2011-08-01    53\n",
       "2009-08-01    53\n",
       "2009-11-01    52\n",
       "2011-10-01    49\n",
       "Name: date_time, dtype: int64"
      ]
     },
     "execution_count": 95,
     "metadata": {},
     "output_type": "execute_result"
    }
   ],
   "source": [
    "# column:date_time\n",
    "df.date_time.value_counts(dropna=False)[:10]"
   ]
  },
  {
   "cell_type": "code",
   "execution_count": 96,
   "metadata": {},
   "outputs": [],
   "source": [
    "df = df.reset_index(drop=True)"
   ]
  },
  {
   "cell_type": "code",
   "execution_count": 97,
   "metadata": {},
   "outputs": [
    {
     "data": {
      "text/html": [
       "<div>\n",
       "<style scoped>\n",
       "    .dataframe tbody tr th:only-of-type {\n",
       "        vertical-align: middle;\n",
       "    }\n",
       "\n",
       "    .dataframe tbody tr th {\n",
       "        vertical-align: top;\n",
       "    }\n",
       "\n",
       "    .dataframe thead th {\n",
       "        text-align: right;\n",
       "    }\n",
       "</style>\n",
       "<table border=\"1\" class=\"dataframe\">\n",
       "  <thead>\n",
       "    <tr style=\"text-align: right;\">\n",
       "      <th></th>\n",
       "      <th>date_time</th>\n",
       "      <th>offenses</th>\n",
       "      <th>offense_type</th>\n",
       "      <th>block_range</th>\n",
       "      <th>street_name</th>\n",
       "      <th>type</th>\n",
       "      <th>suffix</th>\n",
       "      <th>beat</th>\n",
       "      <th>premise</th>\n",
       "      <th>date</th>\n",
       "      <th>hour</th>\n",
       "      <th>year</th>\n",
       "      <th>premise_description</th>\n",
       "    </tr>\n",
       "  </thead>\n",
       "  <tbody>\n",
       "    <tr>\n",
       "      <th>0</th>\n",
       "      <td>2009-08-01 00:00:00</td>\n",
       "      <td>1</td>\n",
       "      <td>Robbery</td>\n",
       "      <td>3000-3099</td>\n",
       "      <td>durham</td>\n",
       "      <td>dr</td>\n",
       "      <td>N</td>\n",
       "      <td>3B30</td>\n",
       "      <td>210</td>\n",
       "      <td>08/01/09 00:00:00</td>\n",
       "      <td>0</td>\n",
       "      <td>2009</td>\n",
       "      <td>restaurant cafeteria</td>\n",
       "    </tr>\n",
       "    <tr>\n",
       "      <th>1</th>\n",
       "      <td>2009-08-01 01:00:00</td>\n",
       "      <td>1</td>\n",
       "      <td>Theft</td>\n",
       "      <td>6000-6099</td>\n",
       "      <td>richmond</td>\n",
       "      <td>ave</td>\n",
       "      <td>-</td>\n",
       "      <td>18F30</td>\n",
       "      <td>210</td>\n",
       "      <td>08/01/09 00:00:00</td>\n",
       "      <td>1</td>\n",
       "      <td>2009</td>\n",
       "      <td>restaurant cafeteria</td>\n",
       "    </tr>\n",
       "    <tr>\n",
       "      <th>2</th>\n",
       "      <td>2009-08-01 04:00:00</td>\n",
       "      <td>1</td>\n",
       "      <td>Burglary</td>\n",
       "      <td>3900-3999</td>\n",
       "      <td>broadway</td>\n",
       "      <td>st</td>\n",
       "      <td>-</td>\n",
       "      <td>13D20</td>\n",
       "      <td>210</td>\n",
       "      <td>08/01/09 00:00:00</td>\n",
       "      <td>4</td>\n",
       "      <td>2009</td>\n",
       "      <td>restaurant cafeteria</td>\n",
       "    </tr>\n",
       "    <tr>\n",
       "      <th>3</th>\n",
       "      <td>2009-08-01 05:00:00</td>\n",
       "      <td>1</td>\n",
       "      <td>Burglary</td>\n",
       "      <td>8500-8599</td>\n",
       "      <td>bellaire</td>\n",
       "      <td>blvd</td>\n",
       "      <td>-</td>\n",
       "      <td>18F60</td>\n",
       "      <td>210</td>\n",
       "      <td>08/01/09 00:00:00</td>\n",
       "      <td>5</td>\n",
       "      <td>2009</td>\n",
       "      <td>restaurant cafeteria</td>\n",
       "    </tr>\n",
       "    <tr>\n",
       "      <th>4</th>\n",
       "      <td>2009-08-01 19:00:00</td>\n",
       "      <td>1</td>\n",
       "      <td>Theft</td>\n",
       "      <td>1100-1199</td>\n",
       "      <td>uptown park</td>\n",
       "      <td>blvd</td>\n",
       "      <td>-</td>\n",
       "      <td>18F20</td>\n",
       "      <td>210</td>\n",
       "      <td>08/01/09 00:00:00</td>\n",
       "      <td>19</td>\n",
       "      <td>2009</td>\n",
       "      <td>restaurant cafeteria</td>\n",
       "    </tr>\n",
       "  </tbody>\n",
       "</table>\n",
       "</div>"
      ],
      "text/plain": [
       "            date_time  offenses offense_type block_range  street_name  type  \\\n",
       "0 2009-08-01 00:00:00         1      Robbery   3000-3099       durham    dr   \n",
       "1 2009-08-01 01:00:00         1        Theft   6000-6099     richmond   ave   \n",
       "2 2009-08-01 04:00:00         1     Burglary   3900-3999     broadway    st   \n",
       "3 2009-08-01 05:00:00         1     Burglary   8500-8599     bellaire  blvd   \n",
       "4 2009-08-01 19:00:00         1        Theft   1100-1199  uptown park  blvd   \n",
       "\n",
       "  suffix   beat premise               date  hour  year   premise_description  \n",
       "0      N   3B30     210  08/01/09 00:00:00     0  2009  restaurant cafeteria  \n",
       "1      -  18F30     210  08/01/09 00:00:00     1  2009  restaurant cafeteria  \n",
       "2      -  13D20     210  08/01/09 00:00:00     4  2009  restaurant cafeteria  \n",
       "3      -  18F60     210  08/01/09 00:00:00     5  2009  restaurant cafeteria  \n",
       "4      -  18F20     210  08/01/09 00:00:00    19  2009  restaurant cafeteria  "
      ]
     },
     "execution_count": 97,
     "metadata": {},
     "output_type": "execute_result"
    }
   ],
   "source": [
    "df.head()"
   ]
  },
  {
   "cell_type": "code",
   "execution_count": 99,
   "metadata": {},
   "outputs": [
    {
     "name": "stdout",
     "output_type": "stream",
     "text": [
      "<class 'pandas.core.frame.DataFrame'>\n",
      "RangeIndex: 1122377 entries, 0 to 1122376\n",
      "Data columns (total 13 columns):\n",
      " #   Column               Non-Null Count    Dtype         \n",
      "---  ------               --------------    -----         \n",
      " 0   date_time            1122377 non-null  datetime64[ns]\n",
      " 1   offenses             1122377 non-null  int64         \n",
      " 2   offense_type         1122377 non-null  object        \n",
      " 3   block_range          1122377 non-null  object        \n",
      " 4   street_name          1122377 non-null  object        \n",
      " 5   type                 1122377 non-null  object        \n",
      " 6   suffix               1122377 non-null  object        \n",
      " 7   beat                 1122377 non-null  object        \n",
      " 8   premise              1122377 non-null  object        \n",
      " 9   date                 1122377 non-null  object        \n",
      " 10  hour                 1122377 non-null  int64         \n",
      " 11  year                 1122377 non-null  int64         \n",
      " 12  premise_description  1122377 non-null  object        \n",
      "dtypes: datetime64[ns](1), int64(3), object(9)\n",
      "memory usage: 111.3+ MB\n"
     ]
    }
   ],
   "source": [
    "df.info()\n",
    "# 1,122,377"
   ]
  },
  {
   "cell_type": "code",
   "execution_count": 100,
   "metadata": {},
   "outputs": [
    {
     "data": {
      "text/html": [
       "<div>\n",
       "<style scoped>\n",
       "    .dataframe tbody tr th:only-of-type {\n",
       "        vertical-align: middle;\n",
       "    }\n",
       "\n",
       "    .dataframe tbody tr th {\n",
       "        vertical-align: top;\n",
       "    }\n",
       "\n",
       "    .dataframe thead th {\n",
       "        text-align: right;\n",
       "    }\n",
       "</style>\n",
       "<table border=\"1\" class=\"dataframe\">\n",
       "  <thead>\n",
       "    <tr style=\"text-align: right;\">\n",
       "      <th></th>\n",
       "      <th>date_time</th>\n",
       "      <th>offenses</th>\n",
       "      <th>offense_type</th>\n",
       "      <th>block_range</th>\n",
       "      <th>street_name</th>\n",
       "      <th>type</th>\n",
       "      <th>suffix</th>\n",
       "      <th>beat</th>\n",
       "      <th>premise</th>\n",
       "      <th>date</th>\n",
       "      <th>hour</th>\n",
       "      <th>year</th>\n",
       "      <th>premise_description</th>\n",
       "    </tr>\n",
       "  </thead>\n",
       "  <tbody>\n",
       "    <tr>\n",
       "      <th>0</th>\n",
       "      <td>2009-08-01 00:00:00</td>\n",
       "      <td>1</td>\n",
       "      <td>Robbery</td>\n",
       "      <td>3000-3099</td>\n",
       "      <td>durham</td>\n",
       "      <td>dr</td>\n",
       "      <td>N</td>\n",
       "      <td>3B30</td>\n",
       "      <td>210</td>\n",
       "      <td>08/01/09 00:00:00</td>\n",
       "      <td>0</td>\n",
       "      <td>2009</td>\n",
       "      <td>restaurant cafeteria</td>\n",
       "    </tr>\n",
       "    <tr>\n",
       "      <th>1</th>\n",
       "      <td>2009-08-01 01:00:00</td>\n",
       "      <td>1</td>\n",
       "      <td>Theft</td>\n",
       "      <td>6000-6099</td>\n",
       "      <td>richmond</td>\n",
       "      <td>ave</td>\n",
       "      <td>-</td>\n",
       "      <td>18F30</td>\n",
       "      <td>210</td>\n",
       "      <td>08/01/09 00:00:00</td>\n",
       "      <td>1</td>\n",
       "      <td>2009</td>\n",
       "      <td>restaurant cafeteria</td>\n",
       "    </tr>\n",
       "    <tr>\n",
       "      <th>2</th>\n",
       "      <td>2009-08-01 04:00:00</td>\n",
       "      <td>1</td>\n",
       "      <td>Burglary</td>\n",
       "      <td>3900-3999</td>\n",
       "      <td>broadway</td>\n",
       "      <td>st</td>\n",
       "      <td>-</td>\n",
       "      <td>13D20</td>\n",
       "      <td>210</td>\n",
       "      <td>08/01/09 00:00:00</td>\n",
       "      <td>4</td>\n",
       "      <td>2009</td>\n",
       "      <td>restaurant cafeteria</td>\n",
       "    </tr>\n",
       "    <tr>\n",
       "      <th>3</th>\n",
       "      <td>2009-08-01 05:00:00</td>\n",
       "      <td>1</td>\n",
       "      <td>Burglary</td>\n",
       "      <td>8500-8599</td>\n",
       "      <td>bellaire</td>\n",
       "      <td>blvd</td>\n",
       "      <td>-</td>\n",
       "      <td>18F60</td>\n",
       "      <td>210</td>\n",
       "      <td>08/01/09 00:00:00</td>\n",
       "      <td>5</td>\n",
       "      <td>2009</td>\n",
       "      <td>restaurant cafeteria</td>\n",
       "    </tr>\n",
       "    <tr>\n",
       "      <th>4</th>\n",
       "      <td>2009-08-01 19:00:00</td>\n",
       "      <td>1</td>\n",
       "      <td>Theft</td>\n",
       "      <td>1100-1199</td>\n",
       "      <td>uptown park</td>\n",
       "      <td>blvd</td>\n",
       "      <td>-</td>\n",
       "      <td>18F20</td>\n",
       "      <td>210</td>\n",
       "      <td>08/01/09 00:00:00</td>\n",
       "      <td>19</td>\n",
       "      <td>2009</td>\n",
       "      <td>restaurant cafeteria</td>\n",
       "    </tr>\n",
       "  </tbody>\n",
       "</table>\n",
       "</div>"
      ],
      "text/plain": [
       "            date_time  offenses offense_type block_range  street_name  type  \\\n",
       "0 2009-08-01 00:00:00         1      Robbery   3000-3099       durham    dr   \n",
       "1 2009-08-01 01:00:00         1        Theft   6000-6099     richmond   ave   \n",
       "2 2009-08-01 04:00:00         1     Burglary   3900-3999     broadway    st   \n",
       "3 2009-08-01 05:00:00         1     Burglary   8500-8599     bellaire  blvd   \n",
       "4 2009-08-01 19:00:00         1        Theft   1100-1199  uptown park  blvd   \n",
       "\n",
       "  suffix   beat premise               date  hour  year   premise_description  \n",
       "0      N   3B30     210  08/01/09 00:00:00     0  2009  restaurant cafeteria  \n",
       "1      -  18F30     210  08/01/09 00:00:00     1  2009  restaurant cafeteria  \n",
       "2      -  13D20     210  08/01/09 00:00:00     4  2009  restaurant cafeteria  \n",
       "3      -  18F60     210  08/01/09 00:00:00     5  2009  restaurant cafeteria  \n",
       "4      -  18F20     210  08/01/09 00:00:00    19  2009  restaurant cafeteria  "
      ]
     },
     "execution_count": 100,
     "metadata": {},
     "output_type": "execute_result"
    }
   ],
   "source": [
    "df.head()"
   ]
  },
  {
   "cell_type": "code",
   "execution_count": 101,
   "metadata": {},
   "outputs": [
    {
     "data": {
      "text/plain": [
       "12    63638\n",
       "18    63636\n",
       "17    62322\n",
       "15    61501\n",
       "16    59981\n",
       "19    58776\n",
       "14    58239\n",
       "20    57275\n",
       "13    55305\n",
       "22    54301\n",
       "10    53653\n",
       "11    53092\n",
       "21    52971\n",
       "9     50315\n",
       "8     50119\n",
       "0     48807\n",
       "23    44957\n",
       "7     40825\n",
       "1     27337\n",
       "6     26834\n",
       "2     25457\n",
       "3     19748\n",
       "5     17280\n",
       "4     16004\n",
       "24        4\n",
       "Name: hour, dtype: int64"
      ]
     },
     "execution_count": 101,
     "metadata": {},
     "output_type": "execute_result"
    }
   ],
   "source": [
    "df.hour.value_counts()"
   ]
  },
  {
   "cell_type": "code",
   "execution_count": 102,
   "metadata": {},
   "outputs": [],
   "source": [
    "t = df[df.hour ==24]\n",
    "d = df[df.hour ==0]\n"
   ]
  },
  {
   "cell_type": "code",
   "execution_count": 103,
   "metadata": {},
   "outputs": [
    {
     "data": {
      "text/plain": [
       "Timestamp('1914-09-08 07:00:00')"
      ]
     },
     "execution_count": 103,
     "metadata": {},
     "output_type": "execute_result"
    }
   ],
   "source": [
    "df.date_time.min()"
   ]
  },
  {
   "cell_type": "code",
   "execution_count": null,
   "metadata": {},
   "outputs": [],
   "source": []
  },
  {
   "cell_type": "code",
   "execution_count": 104,
   "metadata": {},
   "outputs": [
    {
     "data": {
      "text/plain": [
       "0          0\n",
       "77         0\n",
       "78         0\n",
       "86         0\n",
       "99         0\n",
       "          ..\n",
       "1122299    0\n",
       "1122305    0\n",
       "1122352    0\n",
       "1122364    0\n",
       "1122376    0\n",
       "Name: date_time, Length: 48807, dtype: int64"
      ]
     },
     "execution_count": 104,
     "metadata": {},
     "output_type": "execute_result"
    }
   ],
   "source": [
    "d.date_time.dt.hour"
   ]
  },
  {
   "cell_type": "code",
   "execution_count": 105,
   "metadata": {},
   "outputs": [
    {
     "data": {
      "text/plain": [
       "781230     0\n",
       "897980     0\n",
       "941535     0\n",
       "1117674    0\n",
       "Name: date_time, dtype: int64"
      ]
     },
     "execution_count": 105,
     "metadata": {},
     "output_type": "execute_result"
    }
   ],
   "source": [
    "t.date_time.dt.hour"
   ]
  },
  {
   "cell_type": "code",
   "execution_count": 106,
   "metadata": {},
   "outputs": [
    {
     "data": {
      "text/plain": [
       "781230      9\n",
       "897980      8\n",
       "941535     30\n",
       "1117674    11\n",
       "Name: date_time, dtype: int64"
      ]
     },
     "execution_count": 106,
     "metadata": {},
     "output_type": "execute_result"
    }
   ],
   "source": [
    "t.date_time.dt.day"
   ]
  },
  {
   "cell_type": "code",
   "execution_count": 107,
   "metadata": {},
   "outputs": [
    {
     "data": {
      "text/html": [
       "<div>\n",
       "<style scoped>\n",
       "    .dataframe tbody tr th:only-of-type {\n",
       "        vertical-align: middle;\n",
       "    }\n",
       "\n",
       "    .dataframe tbody tr th {\n",
       "        vertical-align: top;\n",
       "    }\n",
       "\n",
       "    .dataframe thead th {\n",
       "        text-align: right;\n",
       "    }\n",
       "</style>\n",
       "<table border=\"1\" class=\"dataframe\">\n",
       "  <thead>\n",
       "    <tr style=\"text-align: right;\">\n",
       "      <th></th>\n",
       "      <th>date_time</th>\n",
       "      <th>offenses</th>\n",
       "      <th>offense_type</th>\n",
       "      <th>block_range</th>\n",
       "      <th>street_name</th>\n",
       "      <th>type</th>\n",
       "      <th>suffix</th>\n",
       "      <th>beat</th>\n",
       "      <th>premise</th>\n",
       "      <th>date</th>\n",
       "      <th>hour</th>\n",
       "      <th>year</th>\n",
       "      <th>premise_description</th>\n",
       "    </tr>\n",
       "  </thead>\n",
       "  <tbody>\n",
       "    <tr>\n",
       "      <th>781230</th>\n",
       "      <td>2014-07-09</td>\n",
       "      <td>1</td>\n",
       "      <td>Theft</td>\n",
       "      <td>6200-6299</td>\n",
       "      <td>gulfton</td>\n",
       "      <td>-</td>\n",
       "      <td>-</td>\n",
       "      <td>17E10</td>\n",
       "      <td>UNK</td>\n",
       "      <td>2014-07-08 00:00:00</td>\n",
       "      <td>24</td>\n",
       "      <td>2014</td>\n",
       "      <td>unk</td>\n",
       "    </tr>\n",
       "    <tr>\n",
       "      <th>897980</th>\n",
       "      <td>2017-11-08</td>\n",
       "      <td>1</td>\n",
       "      <td>Theft</td>\n",
       "      <td>2200-2299</td>\n",
       "      <td>maroneal</td>\n",
       "      <td>-</td>\n",
       "      <td>-</td>\n",
       "      <td>10H80</td>\n",
       "      <td>Apartment</td>\n",
       "      <td>11/07/2017</td>\n",
       "      <td>24</td>\n",
       "      <td>2017</td>\n",
       "      <td>apartment</td>\n",
       "    </tr>\n",
       "    <tr>\n",
       "      <th>941535</th>\n",
       "      <td>2017-01-30</td>\n",
       "      <td>1</td>\n",
       "      <td>Theft</td>\n",
       "      <td>1100-1199</td>\n",
       "      <td>oliver</td>\n",
       "      <td>st</td>\n",
       "      <td>-</td>\n",
       "      <td>2A40</td>\n",
       "      <td>Road, Street, or Sidewalk</td>\n",
       "      <td>2017-01-29 00:00:00</td>\n",
       "      <td>24</td>\n",
       "      <td>2017</td>\n",
       "      <td>road  street  or sidewalk</td>\n",
       "    </tr>\n",
       "    <tr>\n",
       "      <th>1117674</th>\n",
       "      <td>2017-01-11</td>\n",
       "      <td>1</td>\n",
       "      <td>Theft</td>\n",
       "      <td>7800-7899</td>\n",
       "      <td>airport</td>\n",
       "      <td>blvd</td>\n",
       "      <td>-</td>\n",
       "      <td>23J50</td>\n",
       "      <td>Airport Terminal</td>\n",
       "      <td>2017-01-10 00:00:00</td>\n",
       "      <td>24</td>\n",
       "      <td>2017</td>\n",
       "      <td>airport terminal</td>\n",
       "    </tr>\n",
       "  </tbody>\n",
       "</table>\n",
       "</div>"
      ],
      "text/plain": [
       "         date_time  offenses offense_type block_range street_name  type  \\\n",
       "781230  2014-07-09         1        Theft   6200-6299     gulfton     -   \n",
       "897980  2017-11-08         1        Theft   2200-2299    maroneal     -   \n",
       "941535  2017-01-30         1        Theft   1100-1199      oliver    st   \n",
       "1117674 2017-01-11         1        Theft   7800-7899     airport  blvd   \n",
       "\n",
       "        suffix   beat                    premise                 date  hour  \\\n",
       "781230       -  17E10                        UNK  2014-07-08 00:00:00    24   \n",
       "897980       -  10H80                  Apartment           11/07/2017    24   \n",
       "941535       -   2A40  Road, Street, or Sidewalk  2017-01-29 00:00:00    24   \n",
       "1117674      -  23J50           Airport Terminal  2017-01-10 00:00:00    24   \n",
       "\n",
       "         year        premise_description  \n",
       "781230   2014                        unk  \n",
       "897980   2017                  apartment  \n",
       "941535   2017  road  street  or sidewalk  \n",
       "1117674  2017           airport terminal  "
      ]
     },
     "execution_count": 107,
     "metadata": {},
     "output_type": "execute_result"
    }
   ],
   "source": [
    "t"
   ]
  },
  {
   "cell_type": "code",
   "execution_count": null,
   "metadata": {},
   "outputs": [],
   "source": []
  },
  {
   "cell_type": "markdown",
   "metadata": {},
   "source": [
    "# Select ony dates from `2009` to `2018`\n"
   ]
  },
  {
   "cell_type": "code",
   "execution_count": null,
   "metadata": {},
   "outputs": [],
   "source": [
    "df.date_time.min()"
   ]
  },
  {
   "cell_type": "code",
   "execution_count": null,
   "metadata": {},
   "outputs": [],
   "source": [
    "df.date_time.max()"
   ]
  },
  {
   "cell_type": "code",
   "execution_count": null,
   "metadata": {},
   "outputs": [],
   "source": []
  },
  {
   "cell_type": "code",
   "execution_count": 108,
   "metadata": {},
   "outputs": [],
   "source": [
    "#greater than the start date and smaller than the end date\n",
    "start_date = '2009-01-01' #Jan 01 2009\n",
    "end_date = '2018-12-31' # may 31 2018\n",
    "mask = (df['date_time'] > start_date) & (df['date_time'] <= end_date)"
   ]
  },
  {
   "cell_type": "code",
   "execution_count": 110,
   "metadata": {},
   "outputs": [
    {
     "name": "stdout",
     "output_type": "stream",
     "text": [
      "<class 'pandas.core.frame.DataFrame'>\n",
      "RangeIndex: 1121231 entries, 0 to 1121230\n",
      "Data columns (total 13 columns):\n",
      " #   Column               Non-Null Count    Dtype         \n",
      "---  ------               --------------    -----         \n",
      " 0   date_time            1121231 non-null  datetime64[ns]\n",
      " 1   offenses             1121231 non-null  int64         \n",
      " 2   offense_type         1121231 non-null  object        \n",
      " 3   block_range          1121231 non-null  object        \n",
      " 4   street_name          1121231 non-null  object        \n",
      " 5   type                 1121231 non-null  object        \n",
      " 6   suffix               1121231 non-null  object        \n",
      " 7   beat                 1121231 non-null  object        \n",
      " 8   premise              1121231 non-null  object        \n",
      " 9   date                 1121231 non-null  object        \n",
      " 10  hour                 1121231 non-null  int64         \n",
      " 11  year                 1121231 non-null  int64         \n",
      " 12  premise_description  1121231 non-null  object        \n",
      "dtypes: datetime64[ns](1), int64(3), object(9)\n",
      "memory usage: 111.2+ MB\n"
     ]
    }
   ],
   "source": [
    "df2 = df.loc[mask].reset_index(drop=True)\n",
    "df2.info()\n",
    "#  1,121,231"
   ]
  },
  {
   "cell_type": "code",
   "execution_count": 111,
   "metadata": {},
   "outputs": [
    {
     "data": {
      "text/html": [
       "<div>\n",
       "<style scoped>\n",
       "    .dataframe tbody tr th:only-of-type {\n",
       "        vertical-align: middle;\n",
       "    }\n",
       "\n",
       "    .dataframe tbody tr th {\n",
       "        vertical-align: top;\n",
       "    }\n",
       "\n",
       "    .dataframe thead th {\n",
       "        text-align: right;\n",
       "    }\n",
       "</style>\n",
       "<table border=\"1\" class=\"dataframe\">\n",
       "  <thead>\n",
       "    <tr style=\"text-align: right;\">\n",
       "      <th></th>\n",
       "      <th>date_time</th>\n",
       "      <th>offenses</th>\n",
       "      <th>offense_type</th>\n",
       "      <th>block_range</th>\n",
       "      <th>street_name</th>\n",
       "      <th>type</th>\n",
       "      <th>suffix</th>\n",
       "      <th>beat</th>\n",
       "      <th>premise</th>\n",
       "      <th>date</th>\n",
       "      <th>hour</th>\n",
       "      <th>year</th>\n",
       "      <th>premise_description</th>\n",
       "    </tr>\n",
       "  </thead>\n",
       "  <tbody>\n",
       "    <tr>\n",
       "      <th>0</th>\n",
       "      <td>2009-08-01 00:00:00</td>\n",
       "      <td>1</td>\n",
       "      <td>Robbery</td>\n",
       "      <td>3000-3099</td>\n",
       "      <td>durham</td>\n",
       "      <td>dr</td>\n",
       "      <td>N</td>\n",
       "      <td>3B30</td>\n",
       "      <td>210</td>\n",
       "      <td>08/01/09 00:00:00</td>\n",
       "      <td>0</td>\n",
       "      <td>2009</td>\n",
       "      <td>restaurant cafeteria</td>\n",
       "    </tr>\n",
       "    <tr>\n",
       "      <th>1</th>\n",
       "      <td>2009-08-01 01:00:00</td>\n",
       "      <td>1</td>\n",
       "      <td>Theft</td>\n",
       "      <td>6000-6099</td>\n",
       "      <td>richmond</td>\n",
       "      <td>ave</td>\n",
       "      <td>-</td>\n",
       "      <td>18F30</td>\n",
       "      <td>210</td>\n",
       "      <td>08/01/09 00:00:00</td>\n",
       "      <td>1</td>\n",
       "      <td>2009</td>\n",
       "      <td>restaurant cafeteria</td>\n",
       "    </tr>\n",
       "    <tr>\n",
       "      <th>2</th>\n",
       "      <td>2009-08-01 04:00:00</td>\n",
       "      <td>1</td>\n",
       "      <td>Burglary</td>\n",
       "      <td>3900-3999</td>\n",
       "      <td>broadway</td>\n",
       "      <td>st</td>\n",
       "      <td>-</td>\n",
       "      <td>13D20</td>\n",
       "      <td>210</td>\n",
       "      <td>08/01/09 00:00:00</td>\n",
       "      <td>4</td>\n",
       "      <td>2009</td>\n",
       "      <td>restaurant cafeteria</td>\n",
       "    </tr>\n",
       "    <tr>\n",
       "      <th>3</th>\n",
       "      <td>2009-08-01 05:00:00</td>\n",
       "      <td>1</td>\n",
       "      <td>Burglary</td>\n",
       "      <td>8500-8599</td>\n",
       "      <td>bellaire</td>\n",
       "      <td>blvd</td>\n",
       "      <td>-</td>\n",
       "      <td>18F60</td>\n",
       "      <td>210</td>\n",
       "      <td>08/01/09 00:00:00</td>\n",
       "      <td>5</td>\n",
       "      <td>2009</td>\n",
       "      <td>restaurant cafeteria</td>\n",
       "    </tr>\n",
       "    <tr>\n",
       "      <th>4</th>\n",
       "      <td>2009-08-01 19:00:00</td>\n",
       "      <td>1</td>\n",
       "      <td>Theft</td>\n",
       "      <td>1100-1199</td>\n",
       "      <td>uptown park</td>\n",
       "      <td>blvd</td>\n",
       "      <td>-</td>\n",
       "      <td>18F20</td>\n",
       "      <td>210</td>\n",
       "      <td>08/01/09 00:00:00</td>\n",
       "      <td>19</td>\n",
       "      <td>2009</td>\n",
       "      <td>restaurant cafeteria</td>\n",
       "    </tr>\n",
       "  </tbody>\n",
       "</table>\n",
       "</div>"
      ],
      "text/plain": [
       "            date_time  offenses offense_type block_range  street_name  type  \\\n",
       "0 2009-08-01 00:00:00         1      Robbery   3000-3099       durham    dr   \n",
       "1 2009-08-01 01:00:00         1        Theft   6000-6099     richmond   ave   \n",
       "2 2009-08-01 04:00:00         1     Burglary   3900-3999     broadway    st   \n",
       "3 2009-08-01 05:00:00         1     Burglary   8500-8599     bellaire  blvd   \n",
       "4 2009-08-01 19:00:00         1        Theft   1100-1199  uptown park  blvd   \n",
       "\n",
       "  suffix   beat premise               date  hour  year   premise_description  \n",
       "0      N   3B30     210  08/01/09 00:00:00     0  2009  restaurant cafeteria  \n",
       "1      -  18F30     210  08/01/09 00:00:00     1  2009  restaurant cafeteria  \n",
       "2      -  13D20     210  08/01/09 00:00:00     4  2009  restaurant cafeteria  \n",
       "3      -  18F60     210  08/01/09 00:00:00     5  2009  restaurant cafeteria  \n",
       "4      -  18F20     210  08/01/09 00:00:00    19  2009  restaurant cafeteria  "
      ]
     },
     "execution_count": 111,
     "metadata": {},
     "output_type": "execute_result"
    }
   ],
   "source": [
    "df2.head()"
   ]
  },
  {
   "cell_type": "code",
   "execution_count": 112,
   "metadata": {},
   "outputs": [
    {
     "data": {
      "text/plain": [
       "Timestamp('2009-01-01 02:00:00')"
      ]
     },
     "execution_count": 112,
     "metadata": {},
     "output_type": "execute_result"
    }
   ],
   "source": [
    "df2.date_time.min()"
   ]
  },
  {
   "cell_type": "code",
   "execution_count": 113,
   "metadata": {},
   "outputs": [
    {
     "data": {
      "text/plain": [
       "Timestamp('2018-05-31 23:00:00')"
      ]
     },
     "execution_count": 113,
     "metadata": {},
     "output_type": "execute_result"
    }
   ],
   "source": [
    "df2.date_time.max()"
   ]
  },
  {
   "cell_type": "markdown",
   "metadata": {},
   "source": [
    "# check for nulls befor saving"
   ]
  },
  {
   "cell_type": "code",
   "execution_count": 114,
   "metadata": {},
   "outputs": [
    {
     "data": {
      "text/plain": [
       "date_time              0\n",
       "offenses               0\n",
       "offense_type           0\n",
       "block_range            0\n",
       "street_name            0\n",
       "type                   0\n",
       "suffix                 0\n",
       "beat                   0\n",
       "premise                0\n",
       "date                   0\n",
       "hour                   0\n",
       "year                   0\n",
       "premise_description    0\n",
       "dtype: int64"
      ]
     },
     "execution_count": 114,
     "metadata": {},
     "output_type": "execute_result"
    }
   ],
   "source": [
    "df2.apply(lambda x: sum(x.isnull()))"
   ]
  },
  {
   "cell_type": "code",
   "execution_count": 115,
   "metadata": {},
   "outputs": [
    {
     "name": "stdout",
     "output_type": "stream",
     "text": [
      "<class 'pandas.core.frame.DataFrame'>\n",
      "RangeIndex: 1121231 entries, 0 to 1121230\n",
      "Data columns (total 13 columns):\n",
      " #   Column               Non-Null Count    Dtype         \n",
      "---  ------               --------------    -----         \n",
      " 0   date_time            1121231 non-null  datetime64[ns]\n",
      " 1   offenses             1121231 non-null  int64         \n",
      " 2   offense_type         1121231 non-null  object        \n",
      " 3   block_range          1121231 non-null  object        \n",
      " 4   street_name          1121231 non-null  object        \n",
      " 5   type                 1121231 non-null  object        \n",
      " 6   suffix               1121231 non-null  object        \n",
      " 7   beat                 1121231 non-null  object        \n",
      " 8   premise              1121231 non-null  object        \n",
      " 9   date                 1121231 non-null  object        \n",
      " 10  hour                 1121231 non-null  int64         \n",
      " 11  year                 1121231 non-null  int64         \n",
      " 12  premise_description  1121231 non-null  object        \n",
      "dtypes: datetime64[ns](1), int64(3), object(9)\n",
      "memory usage: 111.2+ MB\n"
     ]
    }
   ],
   "source": [
    "df2.info()"
   ]
  },
  {
   "cell_type": "code",
   "execution_count": 118,
   "metadata": {},
   "outputs": [
    {
     "data": {
      "text/plain": [
       "date_time              2011-08-05 12:00:00\n",
       "offenses                                 1\n",
       "offense_type            Aggravated Assault\n",
       "block_range                    10700-10799\n",
       "street_name                        donegal\n",
       "type                                   way\n",
       "suffix                                   -\n",
       "beat                                 14D40\n",
       "premise                                20R\n",
       "date                   2011-08-05 00:00:00\n",
       "hour                                    12\n",
       "year                                  2011\n",
       "premise_description        residence house\n",
       "Name: 202620, dtype: object"
      ]
     },
     "execution_count": 118,
     "metadata": {},
     "output_type": "execute_result"
    }
   ],
   "source": [
    "df2.iloc[202620]"
   ]
  },
  {
   "cell_type": "code",
   "execution_count": null,
   "metadata": {},
   "outputs": [],
   "source": []
  },
  {
   "cell_type": "code",
   "execution_count": 120,
   "metadata": {},
   "outputs": [
    {
     "data": {
      "text/html": [
       "<div>\n",
       "<style scoped>\n",
       "    .dataframe tbody tr th:only-of-type {\n",
       "        vertical-align: middle;\n",
       "    }\n",
       "\n",
       "    .dataframe tbody tr th {\n",
       "        vertical-align: top;\n",
       "    }\n",
       "\n",
       "    .dataframe thead th {\n",
       "        text-align: right;\n",
       "    }\n",
       "</style>\n",
       "<table border=\"1\" class=\"dataframe\">\n",
       "  <thead>\n",
       "    <tr style=\"text-align: right;\">\n",
       "      <th></th>\n",
       "      <th>date_time</th>\n",
       "      <th>offenses</th>\n",
       "      <th>offense_type</th>\n",
       "      <th>block_range</th>\n",
       "      <th>street_name</th>\n",
       "      <th>type</th>\n",
       "      <th>suffix</th>\n",
       "      <th>beat</th>\n",
       "      <th>premise</th>\n",
       "      <th>date</th>\n",
       "      <th>hour</th>\n",
       "      <th>year</th>\n",
       "      <th>premise_description</th>\n",
       "    </tr>\n",
       "  </thead>\n",
       "  <tbody>\n",
       "    <tr>\n",
       "      <th>38110</th>\n",
       "      <td>2011-04-30 06:00:00</td>\n",
       "      <td>1</td>\n",
       "      <td>Burglary</td>\n",
       "      <td>3900-3999</td>\n",
       "      <td>mandell</td>\n",
       "      <td>-</td>\n",
       "      <td>-</td>\n",
       "      <td>1A30</td>\n",
       "      <td>20A</td>\n",
       "      <td>2011-04-30 00:00:00</td>\n",
       "      <td>6</td>\n",
       "      <td>2011</td>\n",
       "      <td>apartment</td>\n",
       "    </tr>\n",
       "    <tr>\n",
       "      <th>50147</th>\n",
       "      <td>2011-04-30 06:00:00</td>\n",
       "      <td>1</td>\n",
       "      <td>Theft</td>\n",
       "      <td>7400-7499</td>\n",
       "      <td>calhoun</td>\n",
       "      <td>rd</td>\n",
       "      <td>-</td>\n",
       "      <td>14D20</td>\n",
       "      <td>20A</td>\n",
       "      <td>2011-04-30 00:00:00</td>\n",
       "      <td>6</td>\n",
       "      <td>2011</td>\n",
       "      <td>apartment</td>\n",
       "    </tr>\n",
       "    <tr>\n",
       "      <th>201338</th>\n",
       "      <td>2011-04-30 06:00:00</td>\n",
       "      <td>1</td>\n",
       "      <td>Aggravated Assault</td>\n",
       "      <td>3900-3999</td>\n",
       "      <td>unk</td>\n",
       "      <td>-</td>\n",
       "      <td>-</td>\n",
       "      <td>3B10</td>\n",
       "      <td>20R</td>\n",
       "      <td>2011-04-30 00:00:00</td>\n",
       "      <td>6</td>\n",
       "      <td>2011</td>\n",
       "      <td>residence house</td>\n",
       "    </tr>\n",
       "    <tr>\n",
       "      <th>212431</th>\n",
       "      <td>2011-04-30 06:00:00</td>\n",
       "      <td>1</td>\n",
       "      <td>Burglary</td>\n",
       "      <td>3500-3599</td>\n",
       "      <td>canfield</td>\n",
       "      <td>st</td>\n",
       "      <td>-</td>\n",
       "      <td>10H50</td>\n",
       "      <td>20R</td>\n",
       "      <td>2011-04-30 00:00:00</td>\n",
       "      <td>6</td>\n",
       "      <td>2011</td>\n",
       "      <td>residence house</td>\n",
       "    </tr>\n",
       "    <tr>\n",
       "      <th>283485</th>\n",
       "      <td>2011-04-30 06:00:00</td>\n",
       "      <td>1</td>\n",
       "      <td>Theft</td>\n",
       "      <td>2300-2399</td>\n",
       "      <td>west sam houston</td>\n",
       "      <td>pkwy</td>\n",
       "      <td>N</td>\n",
       "      <td>4F20</td>\n",
       "      <td>070</td>\n",
       "      <td>2011-04-30 00:00:00</td>\n",
       "      <td>6</td>\n",
       "      <td>2011</td>\n",
       "      <td>convenience store</td>\n",
       "    </tr>\n",
       "    <tr>\n",
       "      <th>344359</th>\n",
       "      <td>2011-04-30 06:00:00</td>\n",
       "      <td>1</td>\n",
       "      <td>Robbery</td>\n",
       "      <td>9500-9599</td>\n",
       "      <td>deering</td>\n",
       "      <td>dr</td>\n",
       "      <td>-</td>\n",
       "      <td>19G10</td>\n",
       "      <td>13R</td>\n",
       "      <td>2011-04-30 00:00:00</td>\n",
       "      <td>6</td>\n",
       "      <td>2011</td>\n",
       "      <td>road street sidewalk</td>\n",
       "    </tr>\n",
       "    <tr>\n",
       "      <th>409112</th>\n",
       "      <td>2011-04-30 06:00:00</td>\n",
       "      <td>1</td>\n",
       "      <td>Theft</td>\n",
       "      <td>1500-1599</td>\n",
       "      <td>wirt</td>\n",
       "      <td>rd</td>\n",
       "      <td>-</td>\n",
       "      <td>5F10</td>\n",
       "      <td>120</td>\n",
       "      <td>2011-04-30 00:00:00</td>\n",
       "      <td>6</td>\n",
       "      <td>2011</td>\n",
       "      <td>grocery supermarket</td>\n",
       "    </tr>\n",
       "  </tbody>\n",
       "</table>\n",
       "</div>"
      ],
      "text/plain": [
       "                 date_time  offenses        offense_type block_range  \\\n",
       "38110  2011-04-30 06:00:00         1            Burglary   3900-3999   \n",
       "50147  2011-04-30 06:00:00         1               Theft   7400-7499   \n",
       "201338 2011-04-30 06:00:00         1  Aggravated Assault   3900-3999   \n",
       "212431 2011-04-30 06:00:00         1            Burglary   3500-3599   \n",
       "283485 2011-04-30 06:00:00         1               Theft   2300-2399   \n",
       "344359 2011-04-30 06:00:00         1             Robbery   9500-9599   \n",
       "409112 2011-04-30 06:00:00         1               Theft   1500-1599   \n",
       "\n",
       "             street_name  type suffix   beat premise                 date  \\\n",
       "38110            mandell     -      -   1A30     20A  2011-04-30 00:00:00   \n",
       "50147            calhoun    rd      -  14D20     20A  2011-04-30 00:00:00   \n",
       "201338               unk     -      -   3B10     20R  2011-04-30 00:00:00   \n",
       "212431          canfield    st      -  10H50     20R  2011-04-30 00:00:00   \n",
       "283485  west sam houston  pkwy      N   4F20     070  2011-04-30 00:00:00   \n",
       "344359           deering    dr      -  19G10     13R  2011-04-30 00:00:00   \n",
       "409112              wirt    rd      -   5F10     120  2011-04-30 00:00:00   \n",
       "\n",
       "        hour  year   premise_description  \n",
       "38110      6  2011             apartment  \n",
       "50147      6  2011             apartment  \n",
       "201338     6  2011       residence house  \n",
       "212431     6  2011       residence house  \n",
       "283485     6  2011     convenience store  \n",
       "344359     6  2011  road street sidewalk  \n",
       "409112     6  2011   grocery supermarket  "
      ]
     },
     "execution_count": 120,
     "metadata": {},
     "output_type": "execute_result"
    }
   ],
   "source": [
    "df2.loc[df2['date_time'] == '2011-04-30 06:00:00']\n"
   ]
  },
  {
   "cell_type": "code",
   "execution_count": 121,
   "metadata": {},
   "outputs": [
    {
     "data": {
      "text/html": [
       "<div>\n",
       "<style scoped>\n",
       "    .dataframe tbody tr th:only-of-type {\n",
       "        vertical-align: middle;\n",
       "    }\n",
       "\n",
       "    .dataframe tbody tr th {\n",
       "        vertical-align: top;\n",
       "    }\n",
       "\n",
       "    .dataframe thead th {\n",
       "        text-align: right;\n",
       "    }\n",
       "</style>\n",
       "<table border=\"1\" class=\"dataframe\">\n",
       "  <thead>\n",
       "    <tr style=\"text-align: right;\">\n",
       "      <th></th>\n",
       "      <th>date_time</th>\n",
       "      <th>offenses</th>\n",
       "      <th>offense_type</th>\n",
       "      <th>block_range</th>\n",
       "      <th>street_name</th>\n",
       "      <th>type</th>\n",
       "      <th>suffix</th>\n",
       "      <th>beat</th>\n",
       "      <th>premise</th>\n",
       "      <th>date</th>\n",
       "      <th>hour</th>\n",
       "      <th>year</th>\n",
       "      <th>premise_description</th>\n",
       "    </tr>\n",
       "  </thead>\n",
       "  <tbody>\n",
       "  </tbody>\n",
       "</table>\n",
       "</div>"
      ],
      "text/plain": [
       "Empty DataFrame\n",
       "Columns: [date_time, offenses, offense_type, block_range, street_name, type, suffix, beat, premise, date, hour, year, premise_description]\n",
       "Index: []"
      ]
     },
     "execution_count": 121,
     "metadata": {},
     "output_type": "execute_result"
    }
   ],
   "source": [
    "df2.loc[df2.duplicated(keep='first'),:]"
   ]
  },
  {
   "cell_type": "code",
   "execution_count": null,
   "metadata": {},
   "outputs": [],
   "source": []
  },
  {
   "cell_type": "code",
   "execution_count": null,
   "metadata": {},
   "outputs": [],
   "source": []
  },
  {
   "cell_type": "code",
   "execution_count": null,
   "metadata": {},
   "outputs": [],
   "source": []
  },
  {
   "cell_type": "code",
   "execution_count": null,
   "metadata": {},
   "outputs": [],
   "source": []
  },
  {
   "cell_type": "code",
   "execution_count": null,
   "metadata": {},
   "outputs": [],
   "source": []
  },
  {
   "cell_type": "code",
   "execution_count": null,
   "metadata": {},
   "outputs": [],
   "source": []
  },
  {
   "cell_type": "code",
   "execution_count": null,
   "metadata": {},
   "outputs": [],
   "source": [
    "df[df.street_name.str.contains('nan')].street_name.unique().tolist()"
   ]
  },
  {
   "cell_type": "code",
   "execution_count": null,
   "metadata": {},
   "outputs": [],
   "source": [
    "df[df.street_name.str.contains('nan st')]"
   ]
  },
  {
   "cell_type": "markdown",
   "metadata": {},
   "source": [
    "# Save dataframe"
   ]
  },
  {
   "cell_type": "code",
   "execution_count": 117,
   "metadata": {},
   "outputs": [],
   "source": [
    "def s3_files_to_df(s3_files_path):\n",
    "    ''' load s3 file path from wr result\n",
    "    returns a dataframe of concat files '''\n",
    "    df_list = []\n",
    "    for i in wr.s3.list_objects(s3_files_path):\n",
    "        temp = wr.s3.read_excel(i, engine='openpyxl')\n",
    "        df_list.append(temp)\n",
    "    # create df from list files\n",
    "    df = pd.concat(df_list, ignore_index=True)\n",
    "    return df"
   ]
  },
  {
   "cell_type": "code",
   "execution_count": 122,
   "metadata": {},
   "outputs": [
    {
     "data": {
      "text/plain": [
       "'s3://dend-data/capstone/final-data/crime-data/crime-09-18.csv'"
      ]
     },
     "execution_count": 122,
     "metadata": {},
     "output_type": "execute_result"
    }
   ],
   "source": [
    "bucket = 'dend-data'\n",
    "file_name = f'crime-09-18.csv'\n",
    "path_to_save = f\"s3://{bucket}/capstone/final-data/crime-data/{file_name}\"\n",
    "path_to_save"
   ]
  },
  {
   "cell_type": "code",
   "execution_count": 123,
   "metadata": {},
   "outputs": [
    {
     "name": "stdout",
     "output_type": "stream",
     "text": [
      "CPU times: user 9.73 s, sys: 1.52 s, total: 11.3 s\n",
      "Wall time: 3min 8s\n"
     ]
    },
    {
     "data": {
      "text/plain": [
       "{'paths': ['s3://dend-data/capstone/final-data/crime-data/crime-09-18.csv'],\n",
       " 'partitions_values': {}}"
      ]
     },
     "execution_count": 123,
     "metadata": {},
     "output_type": "execute_result"
    }
   ],
   "source": [
    "%%time\n",
    "wr.s3.to_csv(df2, path_to_save, index=False)"
   ]
  },
  {
   "cell_type": "markdown",
   "metadata": {},
   "source": [
    "# Save Sample"
   ]
  },
  {
   "cell_type": "code",
   "execution_count": 124,
   "metadata": {},
   "outputs": [
    {
     "name": "stdout",
     "output_type": "stream",
     "text": [
      "<class 'pandas.core.frame.DataFrame'>\n",
      "Int64Index: 1000 entries, 585564 to 391346\n",
      "Data columns (total 13 columns):\n",
      " #   Column               Non-Null Count  Dtype         \n",
      "---  ------               --------------  -----         \n",
      " 0   date_time            1000 non-null   datetime64[ns]\n",
      " 1   offenses             1000 non-null   int64         \n",
      " 2   offense_type         1000 non-null   object        \n",
      " 3   block_range          1000 non-null   object        \n",
      " 4   street_name          1000 non-null   object        \n",
      " 5   type                 1000 non-null   object        \n",
      " 6   suffix               1000 non-null   object        \n",
      " 7   beat                 1000 non-null   object        \n",
      " 8   premise              1000 non-null   object        \n",
      " 9   date                 1000 non-null   object        \n",
      " 10  hour                 1000 non-null   int64         \n",
      " 11  year                 1000 non-null   int64         \n",
      " 12  premise_description  1000 non-null   object        \n",
      "dtypes: datetime64[ns](1), int64(3), object(9)\n",
      "memory usage: 109.4+ KB\n",
      "CPU times: user 57.9 ms, sys: 572 µs, total: 58.5 ms\n",
      "Wall time: 56.3 ms\n"
     ]
    }
   ],
   "source": [
    "%%time\n",
    "sample_1000 = df2.sample(1000)\n",
    "sample_1000.info()"
   ]
  },
  {
   "cell_type": "code",
   "execution_count": 125,
   "metadata": {},
   "outputs": [
    {
     "data": {
      "text/html": [
       "<div>\n",
       "<style scoped>\n",
       "    .dataframe tbody tr th:only-of-type {\n",
       "        vertical-align: middle;\n",
       "    }\n",
       "\n",
       "    .dataframe tbody tr th {\n",
       "        vertical-align: top;\n",
       "    }\n",
       "\n",
       "    .dataframe thead th {\n",
       "        text-align: right;\n",
       "    }\n",
       "</style>\n",
       "<table border=\"1\" class=\"dataframe\">\n",
       "  <thead>\n",
       "    <tr style=\"text-align: right;\">\n",
       "      <th></th>\n",
       "      <th>date_time</th>\n",
       "      <th>offenses</th>\n",
       "      <th>offense_type</th>\n",
       "      <th>block_range</th>\n",
       "      <th>street_name</th>\n",
       "      <th>type</th>\n",
       "      <th>suffix</th>\n",
       "      <th>beat</th>\n",
       "      <th>premise</th>\n",
       "      <th>date</th>\n",
       "      <th>hour</th>\n",
       "      <th>year</th>\n",
       "      <th>premise_description</th>\n",
       "    </tr>\n",
       "  </thead>\n",
       "  <tbody>\n",
       "    <tr>\n",
       "      <th>585564</th>\n",
       "      <td>2012-03-08 03:00:00</td>\n",
       "      <td>1</td>\n",
       "      <td>Burglary</td>\n",
       "      <td>800-899</td>\n",
       "      <td>tully</td>\n",
       "      <td>rd</td>\n",
       "      <td>-</td>\n",
       "      <td>20G60</td>\n",
       "      <td>20C</td>\n",
       "      <td>2012-03-08 00:00:00</td>\n",
       "      <td>3</td>\n",
       "      <td>2012</td>\n",
       "      <td>condominium</td>\n",
       "    </tr>\n",
       "    <tr>\n",
       "      <th>369937</th>\n",
       "      <td>2013-11-02 13:00:00</td>\n",
       "      <td>1</td>\n",
       "      <td>Aggravated Assault</td>\n",
       "      <td>9100-9199</td>\n",
       "      <td>fannin</td>\n",
       "      <td>-</td>\n",
       "      <td>-</td>\n",
       "      <td>15E40</td>\n",
       "      <td>13R</td>\n",
       "      <td>2013-11-02 00:00:00</td>\n",
       "      <td>13</td>\n",
       "      <td>2013</td>\n",
       "      <td>road street sidewalk</td>\n",
       "    </tr>\n",
       "    <tr>\n",
       "      <th>330695</th>\n",
       "      <td>2009-07-27 02:00:00</td>\n",
       "      <td>1</td>\n",
       "      <td>Robbery</td>\n",
       "      <td>5500-5599</td>\n",
       "      <td>orem</td>\n",
       "      <td>dr</td>\n",
       "      <td>W</td>\n",
       "      <td>16E30</td>\n",
       "      <td>13R</td>\n",
       "      <td>07/27/09 00:00:00</td>\n",
       "      <td>2</td>\n",
       "      <td>2009</td>\n",
       "      <td>road street sidewalk</td>\n",
       "    </tr>\n",
       "    <tr>\n",
       "      <th>398174</th>\n",
       "      <td>2013-10-20 07:00:00</td>\n",
       "      <td>1</td>\n",
       "      <td>Theft</td>\n",
       "      <td>6200-6299</td>\n",
       "      <td>richmond</td>\n",
       "      <td>ave</td>\n",
       "      <td>-</td>\n",
       "      <td>18F30</td>\n",
       "      <td>18M</td>\n",
       "      <td>2013-10-20 00:00:00</td>\n",
       "      <td>7</td>\n",
       "      <td>2013</td>\n",
       "      <td>hotel motel parking lot</td>\n",
       "    </tr>\n",
       "    <tr>\n",
       "      <th>575794</th>\n",
       "      <td>2009-09-18 21:00:00</td>\n",
       "      <td>1</td>\n",
       "      <td>Aggravated Assault</td>\n",
       "      <td>4800-4899</td>\n",
       "      <td>polk</td>\n",
       "      <td>-</td>\n",
       "      <td>-</td>\n",
       "      <td>10H20</td>\n",
       "      <td>18C</td>\n",
       "      <td>09/18/09 00:00:00</td>\n",
       "      <td>21</td>\n",
       "      <td>2009</td>\n",
       "      <td>convenience store parking lot</td>\n",
       "    </tr>\n",
       "  </tbody>\n",
       "</table>\n",
       "</div>"
      ],
      "text/plain": [
       "                 date_time  offenses        offense_type block_range  \\\n",
       "585564 2012-03-08 03:00:00         1            Burglary     800-899   \n",
       "369937 2013-11-02 13:00:00         1  Aggravated Assault   9100-9199   \n",
       "330695 2009-07-27 02:00:00         1             Robbery   5500-5599   \n",
       "398174 2013-10-20 07:00:00         1               Theft   6200-6299   \n",
       "575794 2009-09-18 21:00:00         1  Aggravated Assault   4800-4899   \n",
       "\n",
       "       street_name type suffix   beat premise                 date  hour  \\\n",
       "585564       tully   rd      -  20G60     20C  2012-03-08 00:00:00     3   \n",
       "369937      fannin    -      -  15E40     13R  2013-11-02 00:00:00    13   \n",
       "330695        orem   dr      W  16E30     13R    07/27/09 00:00:00     2   \n",
       "398174    richmond  ave      -  18F30     18M  2013-10-20 00:00:00     7   \n",
       "575794        polk    -      -  10H20     18C    09/18/09 00:00:00    21   \n",
       "\n",
       "        year            premise_description  \n",
       "585564  2012                    condominium  \n",
       "369937  2013           road street sidewalk  \n",
       "330695  2009           road street sidewalk  \n",
       "398174  2013        hotel motel parking lot  \n",
       "575794  2009  convenience store parking lot  "
      ]
     },
     "execution_count": 125,
     "metadata": {},
     "output_type": "execute_result"
    }
   ],
   "source": [
    "sample_1000.head()"
   ]
  },
  {
   "cell_type": "code",
   "execution_count": 126,
   "metadata": {},
   "outputs": [
    {
     "data": {
      "text/plain": [
       "{'paths': ['s3://dend-data/capstone/sample-data/crime-data/crime-09-18.csv'],\n",
       " 'partitions_values': {}}"
      ]
     },
     "execution_count": 126,
     "metadata": {},
     "output_type": "execute_result"
    }
   ],
   "source": [
    "bucket = 'dend-data'\n",
    "file_name = f'crime-09-18.csv'\n",
    "path_to_save = f\"s3://{bucket}/capstone/sample-data/crime-data/{file_name}\"\n",
    "\n",
    "wr.s3.to_csv(sample_1000, path_to_save, index=False)"
   ]
  },
  {
   "cell_type": "code",
   "execution_count": null,
   "metadata": {},
   "outputs": [],
   "source": []
  },
  {
   "cell_type": "code",
   "execution_count": null,
   "metadata": {},
   "outputs": [],
   "source": []
  }
 ],
 "metadata": {
  "kernelspec": {
   "display_name": "Python 3",
   "language": "python",
   "name": "python3"
  },
  "language_info": {
   "codemirror_mode": {
    "name": "ipython",
    "version": 3
   },
   "file_extension": ".py",
   "mimetype": "text/x-python",
   "name": "python",
   "nbconvert_exporter": "python",
   "pygments_lexer": "ipython3",
   "version": "3.9.6"
  }
 },
 "nbformat": 4,
 "nbformat_minor": 4
}
