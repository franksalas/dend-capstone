{
 "cells": [
  {
   "cell_type": "code",
   "execution_count": 1,
   "metadata": {},
   "outputs": [
    {
     "data": {
      "text/html": [
       "        <script type=\"text/javascript\">\n",
       "        window.PlotlyConfig = {MathJaxConfig: 'local'};\n",
       "        if (window.MathJax) {MathJax.Hub.Config({SVG: {font: \"STIX-Web\"}});}\n",
       "        if (typeof require !== 'undefined') {\n",
       "        require.undef(\"plotly\");\n",
       "        requirejs.config({\n",
       "            paths: {\n",
       "                'plotly': ['https://cdn.plot.ly/plotly-2.2.0.min']\n",
       "            }\n",
       "        });\n",
       "        require(['plotly'], function(Plotly) {\n",
       "            window._Plotly = Plotly;\n",
       "        });\n",
       "        }\n",
       "        </script>\n",
       "        "
      ]
     },
     "metadata": {},
     "output_type": "display_data"
    },
    {
     "name": "stdout",
     "output_type": "stream",
     "text": [
      "\n",
      "python\t3.9.5 (default, Jun  4 2021, 12:28:51) \n",
      "[GCC 7.5.0]\n",
      "---------------------\n",
      "Versions:\n",
      "----------------------\n",
      "pandas      1.3.0\n",
      "numpy       1.20.2\n",
      "matplotlib  3.3.4\n",
      "seaborn     0.11.1\n",
      "plotly      5.1.0\n",
      "boto3       1.17.109\n",
      "awswrangler 2.10.0\n",
      "----------------------\n",
      "\n",
      "\n",
      "Loaded Libraries\n",
      "-------------------\n",
      "import pandas as pd\n",
      "import numpy as np\n",
      "import sys,os\n",
      "import re\n",
      "import glob\n",
      "import pickle\n",
      "import seaborn as sns\n",
      "import matplotlib.pyplot as plt\n",
      "import plotly\n",
      "import plotly.graph_objs as go\n",
      "from plotly.offline import download_plotlyjs, init_notebook_mode, plot, iplot\n",
      "init_notebook_mode(connected=True)\n",
      "\n",
      "\n",
      "## AWS\n",
      "import boto3\n",
      "import awswrangler as wr\n",
      "----------------\n",
      "\n",
      "\n",
      "GLOBAL VARIABLES\n",
      "--------------------------\n",
      "# Creating the low level functional client\n",
      "client = boto3.client(\n",
      "    's3',\n",
      "    aws_access_key_id = AWS_KEY_ID,\n",
      "    aws_secret_access_key = AWS_SECRET,\n",
      ")\n",
      "    \n",
      "# Creating the high level object oriented interface\n",
      "resource = boto3.resource(\n",
      "    's3',\n",
      "    aws_access_key_id = AWS_KEY_ID,\n",
      "    aws_secret_access_key = AWS_SECRET,\n",
      ")\n",
      "\n",
      "HERE_DIR: list current directory path\n",
      "------------------------------\n",
      "\n",
      "# SAVE PLOTS\n",
      "To save a plot call\n",
      "`save_plots(fig_variable,'name_of_plot')`\n",
      "\n",
      "source file: src/start.py\n",
      "\n",
      "\n"
     ]
    }
   ],
   "source": [
    "%run ../../src/start.py"
   ]
  },
  {
   "cell_type": "markdown",
   "metadata": {},
   "source": [
    "## Load Data"
   ]
  },
  {
   "cell_type": "code",
   "execution_count": 2,
   "metadata": {},
   "outputs": [],
   "source": [
    "# year file\n",
    "year = '2014'"
   ]
  },
  {
   "cell_type": "code",
   "execution_count": 3,
   "metadata": {},
   "outputs": [],
   "source": [
    "# helper function\n",
    "def bucket_raw_path(bucket_name,path_dir):\n",
    "    ''''''\n",
    "    raw_path = f's3://{bucket_name}/{path_dir}'\n",
    "    return raw_path"
   ]
  },
  {
   "cell_type": "code",
   "execution_count": 4,
   "metadata": {},
   "outputs": [
    {
     "data": {
      "text/plain": [
       "'s3://dend-data/capstone/raw-data/crime-data/2014'"
      ]
     },
     "execution_count": 4,
     "metadata": {},
     "output_type": "execute_result"
    }
   ],
   "source": [
    "raw = bucket_raw_path('dend-data',f'capstone/raw-data/crime-data/{year}')\n",
    "raw"
   ]
  },
  {
   "cell_type": "markdown",
   "metadata": {},
   "source": [
    "## List objects in bucket"
   ]
  },
  {
   "cell_type": "code",
   "execution_count": 5,
   "metadata": {},
   "outputs": [
    {
     "data": {
      "text/plain": [
       "['s3://dend-data/capstone/raw-data/crime-data/2014/apr14.xlsx',\n",
       " 's3://dend-data/capstone/raw-data/crime-data/2014/aug14.xlsx',\n",
       " 's3://dend-data/capstone/raw-data/crime-data/2014/dec14.xlsx',\n",
       " 's3://dend-data/capstone/raw-data/crime-data/2014/feb14.xlsx',\n",
       " 's3://dend-data/capstone/raw-data/crime-data/2014/jan14.xlsx',\n",
       " 's3://dend-data/capstone/raw-data/crime-data/2014/jul14.xlsx',\n",
       " 's3://dend-data/capstone/raw-data/crime-data/2014/jun14.xlsx',\n",
       " 's3://dend-data/capstone/raw-data/crime-data/2014/mar14.xlsx',\n",
       " 's3://dend-data/capstone/raw-data/crime-data/2014/may14.xlsx',\n",
       " 's3://dend-data/capstone/raw-data/crime-data/2014/nov14.xlsx',\n",
       " 's3://dend-data/capstone/raw-data/crime-data/2014/oct14.xlsx',\n",
       " 's3://dend-data/capstone/raw-data/crime-data/2014/sep14.xlsx']"
      ]
     },
     "execution_count": 5,
     "metadata": {},
     "output_type": "execute_result"
    }
   ],
   "source": [
    "wr.s3.list_objects(raw)"
   ]
  },
  {
   "cell_type": "markdown",
   "metadata": {},
   "source": [
    "## Create dataframe from s3 files"
   ]
  },
  {
   "cell_type": "code",
   "execution_count": 6,
   "metadata": {},
   "outputs": [],
   "source": [
    "def s3_files_to_df(s3_files_path):\n",
    "    ''' load s3 file path from wr result\n",
    "    returns a dataframe of concat files '''\n",
    "    df_list = []\n",
    "    for i in wr.s3.list_objects(s3_files_path):\n",
    "        temp = wr.s3.read_excel(i, engine='openpyxl', dtype={'Hour': str})  # added dtype error fix for Hour\n",
    "        df_list.append(temp)\n",
    "    # create df from list files\n",
    "    df = pd.concat(df_list, ignore_index=True)\n",
    "    return df"
   ]
  },
  {
   "cell_type": "code",
   "execution_count": 7,
   "metadata": {},
   "outputs": [
    {
     "name": "stdout",
     "output_type": "stream",
     "text": [
      "CPU times: user 18 s, sys: 38.3 ms, total: 18.1 s\n",
      "Wall time: 27.5 s\n"
     ]
    }
   ],
   "source": [
    "%%time\n",
    "df = s3_files_to_df(raw)"
   ]
  },
  {
   "cell_type": "code",
   "execution_count": null,
   "metadata": {},
   "outputs": [],
   "source": [
    "## cleanup columns\n",
    "#df.columns = df.columns.str.lower().str.replace(' ','_').str.replace('\\n','_').str.strip()"
   ]
  },
  {
   "cell_type": "code",
   "execution_count": 9,
   "metadata": {},
   "outputs": [
    {
     "name": "stdout",
     "output_type": "stream",
     "text": [
      "<class 'pandas.core.frame.DataFrame'>\n",
      "RangeIndex: 121750 entries, 0 to 121749\n",
      "Data columns (total 16 columns):\n",
      " #   Column         Non-Null Count   Dtype         \n",
      "---  ------         --------------   -----         \n",
      " 0   Date           121746 non-null  datetime64[ns]\n",
      " 1   Hour           121750 non-null  object        \n",
      " 2   Offense Type   121750 non-null  object        \n",
      " 3   Beat           121734 non-null  object        \n",
      " 4   Premise        92169 non-null   object        \n",
      " 5   Block Range    69989 non-null   object        \n",
      " 6   Street Name    70146 non-null   object        \n",
      " 7   Type           121750 non-null  object        \n",
      " 8   Suffix         121750 non-null  object        \n",
      " 9   . Of Offenses  52214 non-null   float64       \n",
      " 10  BlockRange     51604 non-null   object        \n",
      " 11  StreetName     51604 non-null   object        \n",
      " 12  . offenses     51604 non-null   float64       \n",
      " 13  Field11        0 non-null       float64       \n",
      " 14  . Offenses     10319 non-null   float64       \n",
      " 15  . Of           7613 non-null    float64       \n",
      "dtypes: datetime64[ns](1), float64(5), object(10)\n",
      "memory usage: 14.9+ MB\n"
     ]
    }
   ],
   "source": [
    "df.info()"
   ]
  },
  {
   "cell_type": "code",
   "execution_count": 10,
   "metadata": {},
   "outputs": [
    {
     "data": {
      "text/html": [
       "<div>\n",
       "<style scoped>\n",
       "    .dataframe tbody tr th:only-of-type {\n",
       "        vertical-align: middle;\n",
       "    }\n",
       "\n",
       "    .dataframe tbody tr th {\n",
       "        vertical-align: top;\n",
       "    }\n",
       "\n",
       "    .dataframe thead th {\n",
       "        text-align: right;\n",
       "    }\n",
       "</style>\n",
       "<table border=\"1\" class=\"dataframe\">\n",
       "  <thead>\n",
       "    <tr style=\"text-align: right;\">\n",
       "      <th></th>\n",
       "      <th>Date</th>\n",
       "      <th>Hour</th>\n",
       "      <th>Offense Type</th>\n",
       "      <th>Beat</th>\n",
       "      <th>Premise</th>\n",
       "      <th>Block Range</th>\n",
       "      <th>Street Name</th>\n",
       "      <th>Type</th>\n",
       "      <th>Suffix</th>\n",
       "      <th>. Of Offenses</th>\n",
       "      <th>BlockRange</th>\n",
       "      <th>StreetName</th>\n",
       "      <th>. offenses</th>\n",
       "      <th>Field11</th>\n",
       "      <th>. Offenses</th>\n",
       "      <th>. Of</th>\n",
       "    </tr>\n",
       "  </thead>\n",
       "  <tbody>\n",
       "    <tr>\n",
       "      <th>0</th>\n",
       "      <td>2014-04-19</td>\n",
       "      <td>17</td>\n",
       "      <td>Murder</td>\n",
       "      <td>14D30</td>\n",
       "      <td>18D</td>\n",
       "      <td>8500-8599</td>\n",
       "      <td>MARTIN LUTHER KING</td>\n",
       "      <td>BLVD</td>\n",
       "      <td>-</td>\n",
       "      <td>1.0</td>\n",
       "      <td>NaN</td>\n",
       "      <td>NaN</td>\n",
       "      <td>NaN</td>\n",
       "      <td>NaN</td>\n",
       "      <td>NaN</td>\n",
       "      <td>NaN</td>\n",
       "    </tr>\n",
       "    <tr>\n",
       "      <th>1</th>\n",
       "      <td>2014-04-28</td>\n",
       "      <td>05</td>\n",
       "      <td>Murder</td>\n",
       "      <td>10H20</td>\n",
       "      <td>13R</td>\n",
       "      <td>3600-3699</td>\n",
       "      <td>MCKINNEY</td>\n",
       "      <td>ST</td>\n",
       "      <td>-</td>\n",
       "      <td>1.0</td>\n",
       "      <td>NaN</td>\n",
       "      <td>NaN</td>\n",
       "      <td>NaN</td>\n",
       "      <td>NaN</td>\n",
       "      <td>NaN</td>\n",
       "      <td>NaN</td>\n",
       "    </tr>\n",
       "    <tr>\n",
       "      <th>2</th>\n",
       "      <td>2014-04-27</td>\n",
       "      <td>18</td>\n",
       "      <td>Murder</td>\n",
       "      <td>5F30</td>\n",
       "      <td>20A</td>\n",
       "      <td>7400-7499</td>\n",
       "      <td>HILLMONT</td>\n",
       "      <td>-</td>\n",
       "      <td>-</td>\n",
       "      <td>3.0</td>\n",
       "      <td>NaN</td>\n",
       "      <td>NaN</td>\n",
       "      <td>NaN</td>\n",
       "      <td>NaN</td>\n",
       "      <td>NaN</td>\n",
       "      <td>NaN</td>\n",
       "    </tr>\n",
       "    <tr>\n",
       "      <th>3</th>\n",
       "      <td>2014-04-09</td>\n",
       "      <td>18</td>\n",
       "      <td>Murder</td>\n",
       "      <td>17E10</td>\n",
       "      <td>20A</td>\n",
       "      <td>5400-5499</td>\n",
       "      <td>RENWICK</td>\n",
       "      <td>-</td>\n",
       "      <td>-</td>\n",
       "      <td>2.0</td>\n",
       "      <td>NaN</td>\n",
       "      <td>NaN</td>\n",
       "      <td>NaN</td>\n",
       "      <td>NaN</td>\n",
       "      <td>NaN</td>\n",
       "      <td>NaN</td>\n",
       "    </tr>\n",
       "    <tr>\n",
       "      <th>4</th>\n",
       "      <td>2014-04-24</td>\n",
       "      <td>03</td>\n",
       "      <td>Murder</td>\n",
       "      <td>18F50</td>\n",
       "      <td>03B</td>\n",
       "      <td>9300-9399</td>\n",
       "      <td>RICHMOND</td>\n",
       "      <td>AVE</td>\n",
       "      <td>-</td>\n",
       "      <td>1.0</td>\n",
       "      <td>NaN</td>\n",
       "      <td>NaN</td>\n",
       "      <td>NaN</td>\n",
       "      <td>NaN</td>\n",
       "      <td>NaN</td>\n",
       "      <td>NaN</td>\n",
       "    </tr>\n",
       "  </tbody>\n",
       "</table>\n",
       "</div>"
      ],
      "text/plain": [
       "        Date Hour Offense Type   Beat Premise Block Range         Street Name  \\\n",
       "0 2014-04-19   17       Murder  14D30     18D   8500-8599  MARTIN LUTHER KING   \n",
       "1 2014-04-28   05       Murder  10H20     13R   3600-3699            MCKINNEY   \n",
       "2 2014-04-27   18       Murder   5F30     20A   7400-7499            HILLMONT   \n",
       "3 2014-04-09   18       Murder  17E10     20A   5400-5499             RENWICK   \n",
       "4 2014-04-24   03       Murder  18F50     03B   9300-9399            RICHMOND   \n",
       "\n",
       "   Type Suffix  . Of Offenses BlockRange StreetName  . offenses  Field11  \\\n",
       "0  BLVD      -            1.0        NaN        NaN         NaN      NaN   \n",
       "1    ST      -            1.0        NaN        NaN         NaN      NaN   \n",
       "2     -      -            3.0        NaN        NaN         NaN      NaN   \n",
       "3     -      -            2.0        NaN        NaN         NaN      NaN   \n",
       "4   AVE      -            1.0        NaN        NaN         NaN      NaN   \n",
       "\n",
       "   . Offenses  . Of  \n",
       "0         NaN   NaN  \n",
       "1         NaN   NaN  \n",
       "2         NaN   NaN  \n",
       "3         NaN   NaN  \n",
       "4         NaN   NaN  "
      ]
     },
     "execution_count": 10,
     "metadata": {},
     "output_type": "execute_result"
    }
   ],
   "source": [
    "df.head()"
   ]
  },
  {
   "cell_type": "code",
   "execution_count": 11,
   "metadata": {},
   "outputs": [
    {
     "data": {
      "text/plain": [
       "15     7025\n",
       "18     7004\n",
       "16     6953\n",
       "12     6792\n",
       "17     6785\n",
       "14     6593\n",
       "19     6467\n",
       "13     6263\n",
       "20     6155\n",
       "10     6104\n",
       "11     6069\n",
       "09     5718\n",
       "21     5512\n",
       "08     5281\n",
       "22     5231\n",
       "00     4621\n",
       "07     4279\n",
       "23     4257\n",
       "06     2857\n",
       "02     2558\n",
       "01     2535\n",
       "03     2027\n",
       "05     1954\n",
       "04     1709\n",
       "'00      91\n",
       "'12      73\n",
       "'18      69\n",
       "'22      64\n",
       "'17      56\n",
       "'16      53\n",
       "'20      51\n",
       "'23      48\n",
       "'21      48\n",
       "'19      48\n",
       "'14      44\n",
       "'15      43\n",
       "'08      43\n",
       "'10      40\n",
       "'13      38\n",
       "'11      33\n",
       "'07      29\n",
       "'09      25\n",
       "'02      25\n",
       "'01      24\n",
       "'06      17\n",
       "'05      16\n",
       "'03      12\n",
       "'04      10\n",
       "24        1\n",
       "Name: Hour, dtype: int64"
      ]
     },
     "execution_count": 11,
     "metadata": {},
     "output_type": "execute_result"
    }
   ],
   "source": [
    "df.Hour.value_counts(dropna=False)"
   ]
  },
  {
   "cell_type": "code",
   "execution_count": null,
   "metadata": {},
   "outputs": [],
   "source": []
  },
  {
   "cell_type": "code",
   "execution_count": 8,
   "metadata": {},
   "outputs": [
    {
     "name": "stdout",
     "output_type": "stream",
     "text": [
      "unique hours:49\n"
     ]
    }
   ],
   "source": [
    "print(f'unique hours:{len(df.Hour.unique())}')\n"
   ]
  },
  {
   "cell_type": "markdown",
   "metadata": {},
   "source": [
    "## Show null data"
   ]
  },
  {
   "cell_type": "code",
   "execution_count": null,
   "metadata": {},
   "outputs": [],
   "source": [
    "df.apply(lambda x: sum(x.isnull()))"
   ]
  },
  {
   "cell_type": "code",
   "execution_count": null,
   "metadata": {},
   "outputs": [],
   "source": [
    "# create null percentage of column as dataframe\n",
    "null_per_df = pd.DataFrame(df.isna().mean().round(4) * 100)\n",
    "# rename columns\n",
    "null_per_df.rename(columns={'index': 'col_name', 0: 'null_percent'}, inplace=True)\n",
    "\n",
    "# filter data <20% null values\n",
    "per_filter = null_per_df.null_percent<=90\n",
    "null_per_df[per_filter].sort_values(by='null_percent',ascending=False)"
   ]
  },
  {
   "cell_type": "code",
   "execution_count": null,
   "metadata": {},
   "outputs": [],
   "source": [
    "plt.figure(figsize=(15,4))\n",
    "sns.heatmap(df.isnull(),yticklabels=False,cbar=False,cmap='viridis')\n",
    "plt.title('Missing data')\n",
    "plt.show()"
   ]
  },
  {
   "cell_type": "markdown",
   "metadata": {},
   "source": [
    "## Change Hour column errors"
   ]
  },
  {
   "cell_type": "code",
   "execution_count": null,
   "metadata": {},
   "outputs": [],
   "source": [
    "df['Hour'].unique()"
   ]
  },
  {
   "cell_type": "code",
   "execution_count": null,
   "metadata": {},
   "outputs": [],
   "source": [
    "len(df['Hour'].unique())"
   ]
  },
  {
   "cell_type": "code",
   "execution_count": null,
   "metadata": {},
   "outputs": [],
   "source": [
    "df['Hour'] =  df['Hour'].str.replace('\\'', '')\n",
    "\n",
    "# TODO\n",
    "# replace 00 to 24\n",
    "df['Hour'].unique()"
   ]
  },
  {
   "cell_type": "code",
   "execution_count": null,
   "metadata": {},
   "outputs": [],
   "source": [
    "len(df['Hour'].unique())"
   ]
  },
  {
   "cell_type": "code",
   "execution_count": null,
   "metadata": {},
   "outputs": [],
   "source": [
    "# Change hour to int\n",
    "df['Hour'] = df['Hour'].astype('int64')"
   ]
  },
  {
   "cell_type": "code",
   "execution_count": null,
   "metadata": {},
   "outputs": [],
   "source": []
  },
  {
   "cell_type": "markdown",
   "metadata": {},
   "source": [
    "## Change column names and drop unused"
   ]
  },
  {
   "cell_type": "code",
   "execution_count": null,
   "metadata": {},
   "outputs": [],
   "source": [
    "df['block_range'] = pd.concat([df['Block Range'].dropna(),\n",
    "                              df['BlockRange'].dropna()]).reindex_like(df)\n",
    "\n",
    "\n",
    "df['street_name'] = pd.concat([df['Street Name'].dropna(),\n",
    "                              df['StreetName'].dropna()]).reindex_like(df)\n",
    "\n",
    "\n",
    "df['offenses'] = pd.concat([df['. Of Offenses'].dropna(),\n",
    "                              df['. offenses'].dropna(),\n",
    "                              df['. Offenses'].dropna(),\n",
    "                              df['. Of'].dropna()]).reindex_like(df)\n",
    "\n",
    "\n",
    "# drop unused cols\n",
    "df = df.drop([  'Block Range','BlockRange','Street Name','StreetName','. Of Offenses','. offenses','. Offenses','. Of','Field11',\n",
    "], axis = 1)\n",
    "\n",
    "\n",
    "\n",
    "\n"
   ]
  },
  {
   "cell_type": "code",
   "execution_count": null,
   "metadata": {},
   "outputs": [],
   "source": [
    "## cleanup col names\n",
    "df.columns = df.columns.str.lower().str.replace(' ','_').str.replace('\\n','_').str.strip()"
   ]
  },
  {
   "cell_type": "code",
   "execution_count": null,
   "metadata": {},
   "outputs": [],
   "source": [
    "df.apply(lambda x: sum(x.isnull()))"
   ]
  },
  {
   "cell_type": "code",
   "execution_count": null,
   "metadata": {},
   "outputs": [],
   "source": [
    "plt.figure(figsize=(15,4))\n",
    "sns.heatmap(df.isnull(),yticklabels=False,cbar=False,cmap='viridis')\n",
    "plt.title('Missing data')\n",
    "plt.show()"
   ]
  },
  {
   "cell_type": "code",
   "execution_count": null,
   "metadata": {},
   "outputs": [],
   "source": [
    "df[df.date.isna()]"
   ]
  },
  {
   "cell_type": "markdown",
   "metadata": {},
   "source": [
    "## Drop cols with null date"
   ]
  },
  {
   "cell_type": "code",
   "execution_count": null,
   "metadata": {},
   "outputs": [],
   "source": [
    "# remove values with nat date\n",
    "df = df[~df.date.isna()].reset_index(drop=True)"
   ]
  },
  {
   "cell_type": "code",
   "execution_count": null,
   "metadata": {},
   "outputs": [],
   "source": [
    "df[df.premise.isna()]"
   ]
  },
  {
   "cell_type": "code",
   "execution_count": null,
   "metadata": {},
   "outputs": [],
   "source": [
    "## Change null values to UNK\n",
    "\n",
    "df[\"premise\"].fillna(\"UNK\", inplace = True)"
   ]
  },
  {
   "cell_type": "code",
   "execution_count": null,
   "metadata": {},
   "outputs": [],
   "source": [
    "df[df.block_range.isna()]"
   ]
  },
  {
   "cell_type": "code",
   "execution_count": null,
   "metadata": {},
   "outputs": [],
   "source": [
    "## Change null values to UNK\n",
    "\n",
    "df[\"block_range\"].fillna(\"UNK\", inplace = True)"
   ]
  },
  {
   "cell_type": "code",
   "execution_count": null,
   "metadata": {},
   "outputs": [],
   "source": [
    "df[df.beat.isna()]"
   ]
  },
  {
   "cell_type": "code",
   "execution_count": null,
   "metadata": {},
   "outputs": [],
   "source": [
    "## Change null values to UNK\n",
    "\n",
    "df[\"beat\"].fillna(\"UNK\", inplace = True)"
   ]
  },
  {
   "cell_type": "code",
   "execution_count": null,
   "metadata": {},
   "outputs": [],
   "source": []
  },
  {
   "cell_type": "code",
   "execution_count": null,
   "metadata": {},
   "outputs": [],
   "source": []
  },
  {
   "cell_type": "code",
   "execution_count": null,
   "metadata": {},
   "outputs": [],
   "source": [
    "df.apply(lambda x: sum(x.isnull()))"
   ]
  },
  {
   "cell_type": "code",
   "execution_count": null,
   "metadata": {},
   "outputs": [],
   "source": [
    "plt.figure(figsize=(15,4))\n",
    "sns.heatmap(df.isnull(),yticklabels=False,cbar=False,cmap='viridis')\n",
    "plt.title('Missing data')\n",
    "plt.show()"
   ]
  },
  {
   "cell_type": "code",
   "execution_count": null,
   "metadata": {},
   "outputs": [],
   "source": []
  },
  {
   "cell_type": "markdown",
   "metadata": {},
   "source": [
    "## Combine columns "
   ]
  },
  {
   "cell_type": "markdown",
   "metadata": {},
   "source": [
    "## Combine date & hour to one column"
   ]
  },
  {
   "cell_type": "code",
   "execution_count": null,
   "metadata": {},
   "outputs": [],
   "source": [
    "# convert two columns into one datetime\n",
    "df['date_time'] = pd.to_datetime(df['date']) + pd.to_timedelta(df['hour'], unit='h')\n",
    "\n",
    "# # drop columns\n",
    "# df = df.drop(['date','hour'], axis = 1)"
   ]
  },
  {
   "cell_type": "code",
   "execution_count": null,
   "metadata": {},
   "outputs": [],
   "source": [
    "df.info()"
   ]
  },
  {
   "cell_type": "code",
   "execution_count": null,
   "metadata": {},
   "outputs": [],
   "source": [
    "df.head()"
   ]
  },
  {
   "cell_type": "markdown",
   "metadata": {},
   "source": [
    "## Convert offenses to integer"
   ]
  },
  {
   "cell_type": "code",
   "execution_count": null,
   "metadata": {},
   "outputs": [],
   "source": [
    "# convert offenses to int\n",
    "df['offenses'] = df['offenses'].astype('int64')"
   ]
  },
  {
   "cell_type": "code",
   "execution_count": null,
   "metadata": {},
   "outputs": [],
   "source": [
    "df.info()"
   ]
  },
  {
   "cell_type": "markdown",
   "metadata": {},
   "source": [
    "# Create year Column"
   ]
  },
  {
   "cell_type": "code",
   "execution_count": null,
   "metadata": {},
   "outputs": [],
   "source": [
    "df['year'] = 2014\n",
    "df.head()"
   ]
  },
  {
   "cell_type": "code",
   "execution_count": null,
   "metadata": {},
   "outputs": [],
   "source": []
  },
  {
   "cell_type": "code",
   "execution_count": null,
   "metadata": {},
   "outputs": [],
   "source": []
  },
  {
   "cell_type": "markdown",
   "metadata": {},
   "source": [
    "## change order of columns"
   ]
  },
  {
   "cell_type": "code",
   "execution_count": null,
   "metadata": {},
   "outputs": [],
   "source": [
    "col_ord =['date_time','offenses','offense_type', 'block_range', 'street_name', 'type', 'suffix','beat', 'premise','date','hour','year']\n",
    "df = df[col_ord]\n",
    "df.head()"
   ]
  },
  {
   "cell_type": "code",
   "execution_count": null,
   "metadata": {},
   "outputs": [],
   "source": [
    "df.info()"
   ]
  },
  {
   "cell_type": "code",
   "execution_count": null,
   "metadata": {},
   "outputs": [],
   "source": [
    "df.loc[df.duplicated(keep='first'),:]"
   ]
  },
  {
   "cell_type": "code",
   "execution_count": null,
   "metadata": {},
   "outputs": [],
   "source": [
    "df.drop_duplicates(keep='first',inplace=True)"
   ]
  },
  {
   "cell_type": "code",
   "execution_count": null,
   "metadata": {},
   "outputs": [],
   "source": [
    "df.info()"
   ]
  },
  {
   "cell_type": "markdown",
   "metadata": {},
   "source": [
    "## Save to bucket"
   ]
  },
  {
   "cell_type": "code",
   "execution_count": null,
   "metadata": {},
   "outputs": [],
   "source": [
    "bucket = 'dend-data'\n",
    "file_name = f'crime_{year}.csv'\n",
    "path_to_save = f\"s3://{bucket}/capstone/inter-data/crime-data/{file_name}\"\n",
    "path_to_save"
   ]
  },
  {
   "cell_type": "code",
   "execution_count": null,
   "metadata": {},
   "outputs": [],
   "source": []
  },
  {
   "cell_type": "code",
   "execution_count": null,
   "metadata": {},
   "outputs": [],
   "source": [
    "%%time\n",
    "wr.s3.to_csv(df, path_to_save, index=False)"
   ]
  },
  {
   "cell_type": "markdown",
   "metadata": {},
   "source": [
    "## Save Sample"
   ]
  },
  {
   "cell_type": "code",
   "execution_count": null,
   "metadata": {},
   "outputs": [],
   "source": [
    "%%time\n",
    "sample_100 = df.sample(100)\n",
    "\n",
    "\n",
    "bucket = 'dend-data'\n",
    "file_name = f'crime_{year}.csv'\n",
    "path_to_save = f\"s3://{bucket}/capstone/sample-data/crime-data/{file_name}\"\n",
    "\n",
    "wr.s3.to_csv(sample_100, path_to_save, index=False)"
   ]
  },
  {
   "cell_type": "code",
   "execution_count": null,
   "metadata": {},
   "outputs": [],
   "source": []
  },
  {
   "cell_type": "code",
   "execution_count": null,
   "metadata": {},
   "outputs": [],
   "source": []
  },
  {
   "cell_type": "code",
   "execution_count": null,
   "metadata": {},
   "outputs": [],
   "source": []
  }
 ],
 "metadata": {
  "kernelspec": {
   "display_name": "Python 3 (ipykernel)",
   "language": "python",
   "name": "python3"
  },
  "language_info": {
   "codemirror_mode": {
    "name": "ipython",
    "version": 3
   },
   "file_extension": ".py",
   "mimetype": "text/x-python",
   "name": "python",
   "nbconvert_exporter": "python",
   "pygments_lexer": "ipython3",
   "version": "3.9.5"
  }
 },
 "nbformat": 4,
 "nbformat_minor": 4
}
