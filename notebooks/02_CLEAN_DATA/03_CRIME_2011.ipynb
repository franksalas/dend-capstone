{
 "cells": [
  {
   "cell_type": "code",
   "execution_count": 1,
   "metadata": {},
   "outputs": [
    {
     "data": {
      "text/html": [
       "        <script type=\"text/javascript\">\n",
       "        window.PlotlyConfig = {MathJaxConfig: 'local'};\n",
       "        if (window.MathJax) {MathJax.Hub.Config({SVG: {font: \"STIX-Web\"}});}\n",
       "        if (typeof require !== 'undefined') {\n",
       "        require.undef(\"plotly\");\n",
       "        requirejs.config({\n",
       "            paths: {\n",
       "                'plotly': ['https://cdn.plot.ly/plotly-2.2.0.min']\n",
       "            }\n",
       "        });\n",
       "        require(['plotly'], function(Plotly) {\n",
       "            window._Plotly = Plotly;\n",
       "        });\n",
       "        }\n",
       "        </script>\n",
       "        "
      ]
     },
     "metadata": {},
     "output_type": "display_data"
    },
    {
     "name": "stdout",
     "output_type": "stream",
     "text": [
      "\n",
      "python\t3.9.6 (default, Jul 30 2021, 16:35:19) \n",
      "[GCC 7.5.0]\n",
      "---------------------\n",
      "Versions:\n",
      "----------------------\n",
      "pandas      1.3.1\n",
      "numpy       1.20.3\n",
      "matplotlib  3.4.2\n",
      "seaborn     0.11.1\n",
      "plotly      5.1.0\n",
      "boto3       1.18.16\n",
      "awswrangler 2.10.0\n",
      "----------------------\n",
      "\n",
      "\n",
      "Loaded Libraries\n",
      "-------------------\n",
      "import pandas as pd\n",
      "import numpy as np\n",
      "import sys,os\n",
      "import re\n",
      "import glob\n",
      "import pickle\n",
      "import seaborn as sns\n",
      "import matplotlib.pyplot as plt\n",
      "import plotly\n",
      "import plotly.graph_objs as go\n",
      "from plotly.offline import download_plotlyjs, init_notebook_mode, plot, iplot\n",
      "init_notebook_mode(connected=True)\n",
      "\n",
      "\n",
      "## AWS\n",
      "import boto3\n",
      "import awswrangler as wr\n",
      "----------------\n",
      "\n",
      "\n",
      "GLOBAL VARIABLES\n",
      "--------------------------\n",
      "# Creating the low level functional client\n",
      "client = boto3.client(\n",
      "    's3',\n",
      "    aws_access_key_id = AWS_KEY_ID,\n",
      "    aws_secret_access_key = AWS_SECRET,\n",
      ")\n",
      "    \n",
      "# Creating the high level object oriented interface\n",
      "resource = boto3.resource(\n",
      "    's3',\n",
      "    aws_access_key_id = AWS_KEY_ID,\n",
      "    aws_secret_access_key = AWS_SECRET,\n",
      ")\n",
      "\n",
      "HERE_DIR: list current directory path\n",
      "------------------------------\n",
      "\n",
      "# SAVE PLOTS\n",
      "To save a plot call\n",
      "`save_plots(fig_variable,'name_of_plot')`\n",
      "\n",
      "source file: src/start.py\n",
      "\n",
      "\n"
     ]
    }
   ],
   "source": [
    "%run ../../src/start.py"
   ]
  },
  {
   "cell_type": "markdown",
   "metadata": {},
   "source": [
    "## Load Data"
   ]
  },
  {
   "cell_type": "code",
   "execution_count": 2,
   "metadata": {},
   "outputs": [],
   "source": [
    "# year file\n",
    "year = '2011'"
   ]
  },
  {
   "cell_type": "code",
   "execution_count": 3,
   "metadata": {},
   "outputs": [],
   "source": [
    "# helper function\n",
    "def bucket_raw_path(bucket_name,path_dir):\n",
    "    ''''''\n",
    "    raw_path = f's3://{bucket_name}/{path_dir}'\n",
    "    return raw_path"
   ]
  },
  {
   "cell_type": "code",
   "execution_count": 4,
   "metadata": {},
   "outputs": [
    {
     "data": {
      "text/plain": [
       "'s3://dend-data/capstone/raw-data/crime-data/2011'"
      ]
     },
     "execution_count": 4,
     "metadata": {},
     "output_type": "execute_result"
    }
   ],
   "source": [
    "raw = bucket_raw_path('dend-data',f'capstone/raw-data/crime-data/{year}')\n",
    "raw"
   ]
  },
  {
   "cell_type": "markdown",
   "metadata": {},
   "source": [
    "## List objects in bucket"
   ]
  },
  {
   "cell_type": "code",
   "execution_count": 5,
   "metadata": {},
   "outputs": [
    {
     "data": {
      "text/plain": [
       "['s3://dend-data/capstone/raw-data/crime-data/2011/apr11.xlsx',\n",
       " 's3://dend-data/capstone/raw-data/crime-data/2011/aug11.xlsx',\n",
       " 's3://dend-data/capstone/raw-data/crime-data/2011/dec11.xlsx',\n",
       " 's3://dend-data/capstone/raw-data/crime-data/2011/feb11.xlsx',\n",
       " 's3://dend-data/capstone/raw-data/crime-data/2011/jan11.xlsx',\n",
       " 's3://dend-data/capstone/raw-data/crime-data/2011/jul11.xlsx',\n",
       " 's3://dend-data/capstone/raw-data/crime-data/2011/jun11.xlsx',\n",
       " 's3://dend-data/capstone/raw-data/crime-data/2011/mar11.xlsx',\n",
       " 's3://dend-data/capstone/raw-data/crime-data/2011/may11.xlsx',\n",
       " 's3://dend-data/capstone/raw-data/crime-data/2011/nov11.xlsx',\n",
       " 's3://dend-data/capstone/raw-data/crime-data/2011/oct11.xlsx',\n",
       " 's3://dend-data/capstone/raw-data/crime-data/2011/sep11.xlsx']"
      ]
     },
     "execution_count": 5,
     "metadata": {},
     "output_type": "execute_result"
    }
   ],
   "source": [
    "wr.s3.list_objects(raw)"
   ]
  },
  {
   "cell_type": "markdown",
   "metadata": {},
   "source": [
    "## Create dataframe from s3 files"
   ]
  },
  {
   "cell_type": "code",
   "execution_count": 6,
   "metadata": {},
   "outputs": [],
   "source": [
    "def s3_files_to_df(s3_files_path):\n",
    "    ''' load s3 file path from wr result\n",
    "    returns a dataframe of concat files '''\n",
    "    df_list = []\n",
    "    for i in wr.s3.list_objects(s3_files_path):\n",
    "        temp = wr.s3.read_excel(i, engine='openpyxl')\n",
    "        df_list.append(temp)\n",
    "    # create df from list files\n",
    "    df = pd.concat(df_list, ignore_index=True)\n",
    "    return df"
   ]
  },
  {
   "cell_type": "code",
   "execution_count": 7,
   "metadata": {},
   "outputs": [
    {
     "name": "stdout",
     "output_type": "stream",
     "text": [
      "CPU times: user 30.1 s, sys: 69.5 ms, total: 30.1 s\n",
      "Wall time: 43.3 s\n"
     ]
    },
    {
     "data": {
      "text/html": [
       "<div>\n",
       "<style scoped>\n",
       "    .dataframe tbody tr th:only-of-type {\n",
       "        vertical-align: middle;\n",
       "    }\n",
       "\n",
       "    .dataframe tbody tr th {\n",
       "        vertical-align: top;\n",
       "    }\n",
       "\n",
       "    .dataframe thead th {\n",
       "        text-align: right;\n",
       "    }\n",
       "</style>\n",
       "<table border=\"1\" class=\"dataframe\">\n",
       "  <thead>\n",
       "    <tr style=\"text-align: right;\">\n",
       "      <th></th>\n",
       "      <th>Date</th>\n",
       "      <th>Hour</th>\n",
       "      <th>Offense Type</th>\n",
       "      <th>Beat</th>\n",
       "      <th>Premise</th>\n",
       "      <th>Block Range</th>\n",
       "      <th>Street Name</th>\n",
       "      <th>Type</th>\n",
       "      <th>Suffix</th>\n",
       "      <th>. Of Offenses</th>\n",
       "      <th>Field11</th>\n",
       "      <th>Field12</th>\n",
       "    </tr>\n",
       "  </thead>\n",
       "  <tbody>\n",
       "    <tr>\n",
       "      <th>0</th>\n",
       "      <td>2011-04-13</td>\n",
       "      <td>1</td>\n",
       "      <td>Murder</td>\n",
       "      <td>17E40</td>\n",
       "      <td>20A</td>\n",
       "      <td>6400-6499</td>\n",
       "      <td>BANKSIDE</td>\n",
       "      <td>DR</td>\n",
       "      <td>-</td>\n",
       "      <td>1</td>\n",
       "      <td>NaN</td>\n",
       "      <td>NaN</td>\n",
       "    </tr>\n",
       "    <tr>\n",
       "      <th>1</th>\n",
       "      <td>2011-04-06</td>\n",
       "      <td>14</td>\n",
       "      <td>Murder</td>\n",
       "      <td>20G30</td>\n",
       "      <td>20A</td>\n",
       "      <td>2900-2999</td>\n",
       "      <td>HAYES</td>\n",
       "      <td>RD</td>\n",
       "      <td>-</td>\n",
       "      <td>1</td>\n",
       "      <td>NaN</td>\n",
       "      <td>NaN</td>\n",
       "    </tr>\n",
       "    <tr>\n",
       "      <th>2</th>\n",
       "      <td>2011-01-10</td>\n",
       "      <td>19</td>\n",
       "      <td>Murder</td>\n",
       "      <td>13D20</td>\n",
       "      <td>20R</td>\n",
       "      <td>8400-8499</td>\n",
       "      <td>GLENSCOT</td>\n",
       "      <td>-</td>\n",
       "      <td>-</td>\n",
       "      <td>1</td>\n",
       "      <td>NaN</td>\n",
       "      <td>NaN</td>\n",
       "    </tr>\n",
       "    <tr>\n",
       "      <th>3</th>\n",
       "      <td>2011-04-03</td>\n",
       "      <td>23</td>\n",
       "      <td>Murder</td>\n",
       "      <td>19G50</td>\n",
       "      <td>18N</td>\n",
       "      <td>10700-10799</td>\n",
       "      <td>BELLFORT</td>\n",
       "      <td>ST</td>\n",
       "      <td>W</td>\n",
       "      <td>1</td>\n",
       "      <td>NaN</td>\n",
       "      <td>NaN</td>\n",
       "    </tr>\n",
       "    <tr>\n",
       "      <th>4</th>\n",
       "      <td>2011-04-17</td>\n",
       "      <td>23</td>\n",
       "      <td>Murder</td>\n",
       "      <td>11H20</td>\n",
       "      <td>20A</td>\n",
       "      <td>2500-2599</td>\n",
       "      <td>BROADWAY</td>\n",
       "      <td>ST</td>\n",
       "      <td>-</td>\n",
       "      <td>1</td>\n",
       "      <td>NaN</td>\n",
       "      <td>NaN</td>\n",
       "    </tr>\n",
       "  </tbody>\n",
       "</table>\n",
       "</div>"
      ],
      "text/plain": [
       "        Date  Hour Offense Type   Beat Premise  Block Range Street Name Type  \\\n",
       "0 2011-04-13     1       Murder  17E40     20A    6400-6499    BANKSIDE   DR   \n",
       "1 2011-04-06    14       Murder  20G30     20A    2900-2999       HAYES   RD   \n",
       "2 2011-01-10    19       Murder  13D20     20R    8400-8499    GLENSCOT    -   \n",
       "3 2011-04-03    23       Murder  19G50     18N  10700-10799    BELLFORT   ST   \n",
       "4 2011-04-17    23       Murder  11H20     20A    2500-2599    BROADWAY   ST   \n",
       "\n",
       "  Suffix  . Of Offenses  Field11  Field12  \n",
       "0      -              1      NaN      NaN  \n",
       "1      -              1      NaN      NaN  \n",
       "2      -              1      NaN      NaN  \n",
       "3      W              1      NaN      NaN  \n",
       "4      -              1      NaN      NaN  "
      ]
     },
     "execution_count": 7,
     "metadata": {},
     "output_type": "execute_result"
    }
   ],
   "source": [
    "%%time\n",
    "df = s3_files_to_df(raw)\n",
    "df.head()"
   ]
  },
  {
   "cell_type": "code",
   "execution_count": 8,
   "metadata": {},
   "outputs": [],
   "source": [
    "## cleanup columns\n",
    "df.columns = df.columns.str.lower().str.replace(' ','_').str.replace('\\n','_').str.strip()"
   ]
  },
  {
   "cell_type": "code",
   "execution_count": 9,
   "metadata": {},
   "outputs": [
    {
     "name": "stdout",
     "output_type": "stream",
     "text": [
      "<class 'pandas.core.frame.DataFrame'>\n",
      "RangeIndex: 127659 entries, 0 to 127658\n",
      "Data columns (total 12 columns):\n",
      " #   Column         Non-Null Count   Dtype         \n",
      "---  ------         --------------   -----         \n",
      " 0   date           127659 non-null  datetime64[ns]\n",
      " 1   hour           127659 non-null  int64         \n",
      " 2   offense_type   127659 non-null  object        \n",
      " 3   beat           127659 non-null  object        \n",
      " 4   premise        127659 non-null  object        \n",
      " 5   block_range    127659 non-null  object        \n",
      " 6   street_name    127659 non-null  object        \n",
      " 7   type           127659 non-null  object        \n",
      " 8   suffix         127659 non-null  object        \n",
      " 9   ._of_offenses  127659 non-null  int64         \n",
      " 10  field11        0 non-null       float64       \n",
      " 11  field12        0 non-null       float64       \n",
      "dtypes: datetime64[ns](1), float64(2), int64(2), object(7)\n",
      "memory usage: 11.7+ MB\n"
     ]
    }
   ],
   "source": [
    "df.info()"
   ]
  },
  {
   "cell_type": "code",
   "execution_count": 10,
   "metadata": {},
   "outputs": [
    {
     "data": {
      "text/html": [
       "<div>\n",
       "<style scoped>\n",
       "    .dataframe tbody tr th:only-of-type {\n",
       "        vertical-align: middle;\n",
       "    }\n",
       "\n",
       "    .dataframe tbody tr th {\n",
       "        vertical-align: top;\n",
       "    }\n",
       "\n",
       "    .dataframe thead th {\n",
       "        text-align: right;\n",
       "    }\n",
       "</style>\n",
       "<table border=\"1\" class=\"dataframe\">\n",
       "  <thead>\n",
       "    <tr style=\"text-align: right;\">\n",
       "      <th></th>\n",
       "      <th>date</th>\n",
       "      <th>hour</th>\n",
       "      <th>offense_type</th>\n",
       "      <th>beat</th>\n",
       "      <th>premise</th>\n",
       "      <th>block_range</th>\n",
       "      <th>street_name</th>\n",
       "      <th>type</th>\n",
       "      <th>suffix</th>\n",
       "      <th>._of_offenses</th>\n",
       "      <th>field11</th>\n",
       "      <th>field12</th>\n",
       "    </tr>\n",
       "  </thead>\n",
       "  <tbody>\n",
       "    <tr>\n",
       "      <th>0</th>\n",
       "      <td>2011-04-13</td>\n",
       "      <td>1</td>\n",
       "      <td>Murder</td>\n",
       "      <td>17E40</td>\n",
       "      <td>20A</td>\n",
       "      <td>6400-6499</td>\n",
       "      <td>BANKSIDE</td>\n",
       "      <td>DR</td>\n",
       "      <td>-</td>\n",
       "      <td>1</td>\n",
       "      <td>NaN</td>\n",
       "      <td>NaN</td>\n",
       "    </tr>\n",
       "    <tr>\n",
       "      <th>1</th>\n",
       "      <td>2011-04-06</td>\n",
       "      <td>14</td>\n",
       "      <td>Murder</td>\n",
       "      <td>20G30</td>\n",
       "      <td>20A</td>\n",
       "      <td>2900-2999</td>\n",
       "      <td>HAYES</td>\n",
       "      <td>RD</td>\n",
       "      <td>-</td>\n",
       "      <td>1</td>\n",
       "      <td>NaN</td>\n",
       "      <td>NaN</td>\n",
       "    </tr>\n",
       "    <tr>\n",
       "      <th>2</th>\n",
       "      <td>2011-01-10</td>\n",
       "      <td>19</td>\n",
       "      <td>Murder</td>\n",
       "      <td>13D20</td>\n",
       "      <td>20R</td>\n",
       "      <td>8400-8499</td>\n",
       "      <td>GLENSCOT</td>\n",
       "      <td>-</td>\n",
       "      <td>-</td>\n",
       "      <td>1</td>\n",
       "      <td>NaN</td>\n",
       "      <td>NaN</td>\n",
       "    </tr>\n",
       "    <tr>\n",
       "      <th>3</th>\n",
       "      <td>2011-04-03</td>\n",
       "      <td>23</td>\n",
       "      <td>Murder</td>\n",
       "      <td>19G50</td>\n",
       "      <td>18N</td>\n",
       "      <td>10700-10799</td>\n",
       "      <td>BELLFORT</td>\n",
       "      <td>ST</td>\n",
       "      <td>W</td>\n",
       "      <td>1</td>\n",
       "      <td>NaN</td>\n",
       "      <td>NaN</td>\n",
       "    </tr>\n",
       "    <tr>\n",
       "      <th>4</th>\n",
       "      <td>2011-04-17</td>\n",
       "      <td>23</td>\n",
       "      <td>Murder</td>\n",
       "      <td>11H20</td>\n",
       "      <td>20A</td>\n",
       "      <td>2500-2599</td>\n",
       "      <td>BROADWAY</td>\n",
       "      <td>ST</td>\n",
       "      <td>-</td>\n",
       "      <td>1</td>\n",
       "      <td>NaN</td>\n",
       "      <td>NaN</td>\n",
       "    </tr>\n",
       "  </tbody>\n",
       "</table>\n",
       "</div>"
      ],
      "text/plain": [
       "        date  hour offense_type   beat premise  block_range street_name type  \\\n",
       "0 2011-04-13     1       Murder  17E40     20A    6400-6499    BANKSIDE   DR   \n",
       "1 2011-04-06    14       Murder  20G30     20A    2900-2999       HAYES   RD   \n",
       "2 2011-01-10    19       Murder  13D20     20R    8400-8499    GLENSCOT    -   \n",
       "3 2011-04-03    23       Murder  19G50     18N  10700-10799    BELLFORT   ST   \n",
       "4 2011-04-17    23       Murder  11H20     20A    2500-2599    BROADWAY   ST   \n",
       "\n",
       "  suffix  ._of_offenses  field11  field12  \n",
       "0      -              1      NaN      NaN  \n",
       "1      -              1      NaN      NaN  \n",
       "2      -              1      NaN      NaN  \n",
       "3      W              1      NaN      NaN  \n",
       "4      -              1      NaN      NaN  "
      ]
     },
     "execution_count": 10,
     "metadata": {},
     "output_type": "execute_result"
    }
   ],
   "source": [
    "df.head()"
   ]
  },
  {
   "cell_type": "markdown",
   "metadata": {},
   "source": [
    "## Show null data"
   ]
  },
  {
   "cell_type": "code",
   "execution_count": 11,
   "metadata": {},
   "outputs": [
    {
     "data": {
      "text/plain": [
       "date                  0\n",
       "hour                  0\n",
       "offense_type          0\n",
       "beat                  0\n",
       "premise               0\n",
       "block_range           0\n",
       "street_name           0\n",
       "type                  0\n",
       "suffix                0\n",
       "._of_offenses         0\n",
       "field11          127659\n",
       "field12          127659\n",
       "dtype: int64"
      ]
     },
     "execution_count": 11,
     "metadata": {},
     "output_type": "execute_result"
    }
   ],
   "source": [
    "df.apply(lambda x: sum(x.isnull()))"
   ]
  },
  {
   "cell_type": "code",
   "execution_count": 12,
   "metadata": {},
   "outputs": [
    {
     "data": {
      "text/html": [
       "<div>\n",
       "<style scoped>\n",
       "    .dataframe tbody tr th:only-of-type {\n",
       "        vertical-align: middle;\n",
       "    }\n",
       "\n",
       "    .dataframe tbody tr th {\n",
       "        vertical-align: top;\n",
       "    }\n",
       "\n",
       "    .dataframe thead th {\n",
       "        text-align: right;\n",
       "    }\n",
       "</style>\n",
       "<table border=\"1\" class=\"dataframe\">\n",
       "  <thead>\n",
       "    <tr style=\"text-align: right;\">\n",
       "      <th></th>\n",
       "      <th>null_percent</th>\n",
       "    </tr>\n",
       "  </thead>\n",
       "  <tbody>\n",
       "    <tr>\n",
       "      <th>date</th>\n",
       "      <td>0.0</td>\n",
       "    </tr>\n",
       "    <tr>\n",
       "      <th>hour</th>\n",
       "      <td>0.0</td>\n",
       "    </tr>\n",
       "    <tr>\n",
       "      <th>offense_type</th>\n",
       "      <td>0.0</td>\n",
       "    </tr>\n",
       "    <tr>\n",
       "      <th>beat</th>\n",
       "      <td>0.0</td>\n",
       "    </tr>\n",
       "    <tr>\n",
       "      <th>premise</th>\n",
       "      <td>0.0</td>\n",
       "    </tr>\n",
       "    <tr>\n",
       "      <th>block_range</th>\n",
       "      <td>0.0</td>\n",
       "    </tr>\n",
       "    <tr>\n",
       "      <th>street_name</th>\n",
       "      <td>0.0</td>\n",
       "    </tr>\n",
       "    <tr>\n",
       "      <th>type</th>\n",
       "      <td>0.0</td>\n",
       "    </tr>\n",
       "    <tr>\n",
       "      <th>suffix</th>\n",
       "      <td>0.0</td>\n",
       "    </tr>\n",
       "    <tr>\n",
       "      <th>._of_offenses</th>\n",
       "      <td>0.0</td>\n",
       "    </tr>\n",
       "  </tbody>\n",
       "</table>\n",
       "</div>"
      ],
      "text/plain": [
       "               null_percent\n",
       "date                    0.0\n",
       "hour                    0.0\n",
       "offense_type            0.0\n",
       "beat                    0.0\n",
       "premise                 0.0\n",
       "block_range             0.0\n",
       "street_name             0.0\n",
       "type                    0.0\n",
       "suffix                  0.0\n",
       "._of_offenses           0.0"
      ]
     },
     "execution_count": 12,
     "metadata": {},
     "output_type": "execute_result"
    }
   ],
   "source": [
    "# create null percentage of column as dataframe\n",
    "null_per_df = pd.DataFrame(df.isna().mean().round(4) * 100)\n",
    "# rename columns\n",
    "null_per_df.rename(columns={'index': 'col_name', 0: 'null_percent'}, inplace=True)\n",
    "\n",
    "# filter data <20% null values\n",
    "per_filter = null_per_df.null_percent<=90\n",
    "null_per_df[per_filter].sort_values(by='null_percent',ascending=False)"
   ]
  },
  {
   "cell_type": "code",
   "execution_count": 13,
   "metadata": {},
   "outputs": [
    {
     "data": {
      "image/png": "[encoded data removed]",
      "text/plain": [
       "<Figure size 1500x400 with 1 Axes>"
      ]
     },
     "metadata": {},
     "output_type": "display_data"
    }
   ],
   "source": [
    "plt.figure(figsize=(15,4))\n",
    "sns.heatmap(df.isnull(),yticklabels=False,cbar=False,cmap='viridis')\n",
    "plt.title('Missing data')\n",
    "plt.show()"
   ]
  },
  {
   "cell_type": "markdown",
   "metadata": {},
   "source": [
    "## Drop unused columns & change name of column"
   ]
  },
  {
   "cell_type": "code",
   "execution_count": 14,
   "metadata": {},
   "outputs": [],
   "source": [
    "df = df.drop([ 'field11','field12'], axis = 1)\n",
    "#change column name\n",
    "\n",
    "df.rename(columns={\n",
    "    '._of_offenses': 'offenses',\n",
    "}, inplace=True)\n",
    "\n",
    "# convert offenses to int\n",
    "\n",
    "df['offenses'] = df['offenses'].astype('int64')"
   ]
  },
  {
   "cell_type": "code",
   "execution_count": 15,
   "metadata": {},
   "outputs": [
    {
     "data": {
      "text/plain": [
       "date            0\n",
       "hour            0\n",
       "offense_type    0\n",
       "beat            0\n",
       "premise         0\n",
       "block_range     0\n",
       "street_name     0\n",
       "type            0\n",
       "suffix          0\n",
       "offenses        0\n",
       "dtype: int64"
      ]
     },
     "execution_count": 15,
     "metadata": {},
     "output_type": "execute_result"
    }
   ],
   "source": [
    "df.apply(lambda x: sum(x.isnull()))"
   ]
  },
  {
   "cell_type": "code",
   "execution_count": 16,
   "metadata": {},
   "outputs": [
    {
     "data": {
      "image/png": "[encoded data removed]",
      "text/plain": [
       "<Figure size 1500x400 with 1 Axes>"
      ]
     },
     "metadata": {},
     "output_type": "display_data"
    }
   ],
   "source": [
    "plt.figure(figsize=(15,4))\n",
    "sns.heatmap(df.isnull(),yticklabels=False,cbar=False,cmap='viridis')\n",
    "plt.title('Missing data')\n",
    "plt.show()"
   ]
  },
  {
   "cell_type": "code",
   "execution_count": 17,
   "metadata": {},
   "outputs": [
    {
     "name": "stdout",
     "output_type": "stream",
     "text": [
      "<class 'pandas.core.frame.DataFrame'>\n",
      "RangeIndex: 127659 entries, 0 to 127658\n",
      "Data columns (total 10 columns):\n",
      " #   Column        Non-Null Count   Dtype         \n",
      "---  ------        --------------   -----         \n",
      " 0   date          127659 non-null  datetime64[ns]\n",
      " 1   hour          127659 non-null  int64         \n",
      " 2   offense_type  127659 non-null  object        \n",
      " 3   beat          127659 non-null  object        \n",
      " 4   premise       127659 non-null  object        \n",
      " 5   block_range   127659 non-null  object        \n",
      " 6   street_name   127659 non-null  object        \n",
      " 7   type          127659 non-null  object        \n",
      " 8   suffix        127659 non-null  object        \n",
      " 9   offenses      127659 non-null  int64         \n",
      "dtypes: datetime64[ns](1), int64(2), object(7)\n",
      "memory usage: 9.7+ MB\n"
     ]
    }
   ],
   "source": [
    "df.info()"
   ]
  },
  {
   "cell_type": "markdown",
   "metadata": {},
   "source": [
    "## Combine columns "
   ]
  },
  {
   "cell_type": "markdown",
   "metadata": {},
   "source": [
    "## Combine date & hour to one column"
   ]
  },
  {
   "cell_type": "code",
   "execution_count": 18,
   "metadata": {},
   "outputs": [],
   "source": [
    "# convert two columns into one datetime\n",
    "df['date_time'] = pd.to_datetime(df['date']) + pd.to_timedelta(df['hour'], unit='h')\n",
    "\n",
    "# # drop columns\n",
    "# df = df.drop(['date','hour'], axis = 1)"
   ]
  },
  {
   "cell_type": "code",
   "execution_count": 19,
   "metadata": {},
   "outputs": [
    {
     "name": "stdout",
     "output_type": "stream",
     "text": [
      "<class 'pandas.core.frame.DataFrame'>\n",
      "RangeIndex: 127659 entries, 0 to 127658\n",
      "Data columns (total 11 columns):\n",
      " #   Column        Non-Null Count   Dtype         \n",
      "---  ------        --------------   -----         \n",
      " 0   date          127659 non-null  datetime64[ns]\n",
      " 1   hour          127659 non-null  int64         \n",
      " 2   offense_type  127659 non-null  object        \n",
      " 3   beat          127659 non-null  object        \n",
      " 4   premise       127659 non-null  object        \n",
      " 5   block_range   127659 non-null  object        \n",
      " 6   street_name   127659 non-null  object        \n",
      " 7   type          127659 non-null  object        \n",
      " 8   suffix        127659 non-null  object        \n",
      " 9   offenses      127659 non-null  int64         \n",
      " 10  date_time     127659 non-null  datetime64[ns]\n",
      "dtypes: datetime64[ns](2), int64(2), object(7)\n",
      "memory usage: 10.7+ MB\n"
     ]
    }
   ],
   "source": [
    "df.info()"
   ]
  },
  {
   "cell_type": "code",
   "execution_count": 20,
   "metadata": {},
   "outputs": [
    {
     "data": {
      "text/html": [
       "<div>\n",
       "<style scoped>\n",
       "    .dataframe tbody tr th:only-of-type {\n",
       "        vertical-align: middle;\n",
       "    }\n",
       "\n",
       "    .dataframe tbody tr th {\n",
       "        vertical-align: top;\n",
       "    }\n",
       "\n",
       "    .dataframe thead th {\n",
       "        text-align: right;\n",
       "    }\n",
       "</style>\n",
       "<table border=\"1\" class=\"dataframe\">\n",
       "  <thead>\n",
       "    <tr style=\"text-align: right;\">\n",
       "      <th></th>\n",
       "      <th>date</th>\n",
       "      <th>hour</th>\n",
       "      <th>offense_type</th>\n",
       "      <th>beat</th>\n",
       "      <th>premise</th>\n",
       "      <th>block_range</th>\n",
       "      <th>street_name</th>\n",
       "      <th>type</th>\n",
       "      <th>suffix</th>\n",
       "      <th>offenses</th>\n",
       "      <th>date_time</th>\n",
       "    </tr>\n",
       "  </thead>\n",
       "  <tbody>\n",
       "    <tr>\n",
       "      <th>0</th>\n",
       "      <td>2011-04-13</td>\n",
       "      <td>1</td>\n",
       "      <td>Murder</td>\n",
       "      <td>17E40</td>\n",
       "      <td>20A</td>\n",
       "      <td>6400-6499</td>\n",
       "      <td>BANKSIDE</td>\n",
       "      <td>DR</td>\n",
       "      <td>-</td>\n",
       "      <td>1</td>\n",
       "      <td>2011-04-13 01:00:00</td>\n",
       "    </tr>\n",
       "    <tr>\n",
       "      <th>1</th>\n",
       "      <td>2011-04-06</td>\n",
       "      <td>14</td>\n",
       "      <td>Murder</td>\n",
       "      <td>20G30</td>\n",
       "      <td>20A</td>\n",
       "      <td>2900-2999</td>\n",
       "      <td>HAYES</td>\n",
       "      <td>RD</td>\n",
       "      <td>-</td>\n",
       "      <td>1</td>\n",
       "      <td>2011-04-06 14:00:00</td>\n",
       "    </tr>\n",
       "    <tr>\n",
       "      <th>2</th>\n",
       "      <td>2011-01-10</td>\n",
       "      <td>19</td>\n",
       "      <td>Murder</td>\n",
       "      <td>13D20</td>\n",
       "      <td>20R</td>\n",
       "      <td>8400-8499</td>\n",
       "      <td>GLENSCOT</td>\n",
       "      <td>-</td>\n",
       "      <td>-</td>\n",
       "      <td>1</td>\n",
       "      <td>2011-01-10 19:00:00</td>\n",
       "    </tr>\n",
       "    <tr>\n",
       "      <th>3</th>\n",
       "      <td>2011-04-03</td>\n",
       "      <td>23</td>\n",
       "      <td>Murder</td>\n",
       "      <td>19G50</td>\n",
       "      <td>18N</td>\n",
       "      <td>10700-10799</td>\n",
       "      <td>BELLFORT</td>\n",
       "      <td>ST</td>\n",
       "      <td>W</td>\n",
       "      <td>1</td>\n",
       "      <td>2011-04-03 23:00:00</td>\n",
       "    </tr>\n",
       "    <tr>\n",
       "      <th>4</th>\n",
       "      <td>2011-04-17</td>\n",
       "      <td>23</td>\n",
       "      <td>Murder</td>\n",
       "      <td>11H20</td>\n",
       "      <td>20A</td>\n",
       "      <td>2500-2599</td>\n",
       "      <td>BROADWAY</td>\n",
       "      <td>ST</td>\n",
       "      <td>-</td>\n",
       "      <td>1</td>\n",
       "      <td>2011-04-17 23:00:00</td>\n",
       "    </tr>\n",
       "  </tbody>\n",
       "</table>\n",
       "</div>"
      ],
      "text/plain": [
       "        date  hour offense_type   beat premise  block_range street_name type  \\\n",
       "0 2011-04-13     1       Murder  17E40     20A    6400-6499    BANKSIDE   DR   \n",
       "1 2011-04-06    14       Murder  20G30     20A    2900-2999       HAYES   RD   \n",
       "2 2011-01-10    19       Murder  13D20     20R    8400-8499    GLENSCOT    -   \n",
       "3 2011-04-03    23       Murder  19G50     18N  10700-10799    BELLFORT   ST   \n",
       "4 2011-04-17    23       Murder  11H20     20A    2500-2599    BROADWAY   ST   \n",
       "\n",
       "  suffix  offenses           date_time  \n",
       "0      -         1 2011-04-13 01:00:00  \n",
       "1      -         1 2011-04-06 14:00:00  \n",
       "2      -         1 2011-01-10 19:00:00  \n",
       "3      W         1 2011-04-03 23:00:00  \n",
       "4      -         1 2011-04-17 23:00:00  "
      ]
     },
     "execution_count": 20,
     "metadata": {},
     "output_type": "execute_result"
    }
   ],
   "source": [
    "df.head()"
   ]
  },
  {
   "cell_type": "markdown",
   "metadata": {},
   "source": [
    "## Convert offenses to integer"
   ]
  },
  {
   "cell_type": "code",
   "execution_count": 21,
   "metadata": {},
   "outputs": [],
   "source": [
    "# convert offenses to int\n",
    "df['offenses'] = df['offenses'].astype('int64')"
   ]
  },
  {
   "cell_type": "code",
   "execution_count": 22,
   "metadata": {},
   "outputs": [
    {
     "name": "stdout",
     "output_type": "stream",
     "text": [
      "<class 'pandas.core.frame.DataFrame'>\n",
      "RangeIndex: 127659 entries, 0 to 127658\n",
      "Data columns (total 11 columns):\n",
      " #   Column        Non-Null Count   Dtype         \n",
      "---  ------        --------------   -----         \n",
      " 0   date          127659 non-null  datetime64[ns]\n",
      " 1   hour          127659 non-null  int64         \n",
      " 2   offense_type  127659 non-null  object        \n",
      " 3   beat          127659 non-null  object        \n",
      " 4   premise       127659 non-null  object        \n",
      " 5   block_range   127659 non-null  object        \n",
      " 6   street_name   127659 non-null  object        \n",
      " 7   type          127659 non-null  object        \n",
      " 8   suffix        127659 non-null  object        \n",
      " 9   offenses      127659 non-null  int64         \n",
      " 10  date_time     127659 non-null  datetime64[ns]\n",
      "dtypes: datetime64[ns](2), int64(2), object(7)\n",
      "memory usage: 10.7+ MB\n"
     ]
    }
   ],
   "source": [
    "df.info()"
   ]
  },
  {
   "cell_type": "markdown",
   "metadata": {},
   "source": [
    "# Create a year column\n",
    "- to identify orgin of data"
   ]
  },
  {
   "cell_type": "code",
   "execution_count": 23,
   "metadata": {},
   "outputs": [
    {
     "data": {
      "text/html": [
       "<div>\n",
       "<style scoped>\n",
       "    .dataframe tbody tr th:only-of-type {\n",
       "        vertical-align: middle;\n",
       "    }\n",
       "\n",
       "    .dataframe tbody tr th {\n",
       "        vertical-align: top;\n",
       "    }\n",
       "\n",
       "    .dataframe thead th {\n",
       "        text-align: right;\n",
       "    }\n",
       "</style>\n",
       "<table border=\"1\" class=\"dataframe\">\n",
       "  <thead>\n",
       "    <tr style=\"text-align: right;\">\n",
       "      <th></th>\n",
       "      <th>date</th>\n",
       "      <th>hour</th>\n",
       "      <th>offense_type</th>\n",
       "      <th>beat</th>\n",
       "      <th>premise</th>\n",
       "      <th>block_range</th>\n",
       "      <th>street_name</th>\n",
       "      <th>type</th>\n",
       "      <th>suffix</th>\n",
       "      <th>offenses</th>\n",
       "      <th>date_time</th>\n",
       "      <th>year</th>\n",
       "    </tr>\n",
       "  </thead>\n",
       "  <tbody>\n",
       "    <tr>\n",
       "      <th>0</th>\n",
       "      <td>2011-04-13</td>\n",
       "      <td>1</td>\n",
       "      <td>Murder</td>\n",
       "      <td>17E40</td>\n",
       "      <td>20A</td>\n",
       "      <td>6400-6499</td>\n",
       "      <td>BANKSIDE</td>\n",
       "      <td>DR</td>\n",
       "      <td>-</td>\n",
       "      <td>1</td>\n",
       "      <td>2011-04-13 01:00:00</td>\n",
       "      <td>2011</td>\n",
       "    </tr>\n",
       "    <tr>\n",
       "      <th>1</th>\n",
       "      <td>2011-04-06</td>\n",
       "      <td>14</td>\n",
       "      <td>Murder</td>\n",
       "      <td>20G30</td>\n",
       "      <td>20A</td>\n",
       "      <td>2900-2999</td>\n",
       "      <td>HAYES</td>\n",
       "      <td>RD</td>\n",
       "      <td>-</td>\n",
       "      <td>1</td>\n",
       "      <td>2011-04-06 14:00:00</td>\n",
       "      <td>2011</td>\n",
       "    </tr>\n",
       "    <tr>\n",
       "      <th>2</th>\n",
       "      <td>2011-01-10</td>\n",
       "      <td>19</td>\n",
       "      <td>Murder</td>\n",
       "      <td>13D20</td>\n",
       "      <td>20R</td>\n",
       "      <td>8400-8499</td>\n",
       "      <td>GLENSCOT</td>\n",
       "      <td>-</td>\n",
       "      <td>-</td>\n",
       "      <td>1</td>\n",
       "      <td>2011-01-10 19:00:00</td>\n",
       "      <td>2011</td>\n",
       "    </tr>\n",
       "    <tr>\n",
       "      <th>3</th>\n",
       "      <td>2011-04-03</td>\n",
       "      <td>23</td>\n",
       "      <td>Murder</td>\n",
       "      <td>19G50</td>\n",
       "      <td>18N</td>\n",
       "      <td>10700-10799</td>\n",
       "      <td>BELLFORT</td>\n",
       "      <td>ST</td>\n",
       "      <td>W</td>\n",
       "      <td>1</td>\n",
       "      <td>2011-04-03 23:00:00</td>\n",
       "      <td>2011</td>\n",
       "    </tr>\n",
       "    <tr>\n",
       "      <th>4</th>\n",
       "      <td>2011-04-17</td>\n",
       "      <td>23</td>\n",
       "      <td>Murder</td>\n",
       "      <td>11H20</td>\n",
       "      <td>20A</td>\n",
       "      <td>2500-2599</td>\n",
       "      <td>BROADWAY</td>\n",
       "      <td>ST</td>\n",
       "      <td>-</td>\n",
       "      <td>1</td>\n",
       "      <td>2011-04-17 23:00:00</td>\n",
       "      <td>2011</td>\n",
       "    </tr>\n",
       "  </tbody>\n",
       "</table>\n",
       "</div>"
      ],
      "text/plain": [
       "        date  hour offense_type   beat premise  block_range street_name type  \\\n",
       "0 2011-04-13     1       Murder  17E40     20A    6400-6499    BANKSIDE   DR   \n",
       "1 2011-04-06    14       Murder  20G30     20A    2900-2999       HAYES   RD   \n",
       "2 2011-01-10    19       Murder  13D20     20R    8400-8499    GLENSCOT    -   \n",
       "3 2011-04-03    23       Murder  19G50     18N  10700-10799    BELLFORT   ST   \n",
       "4 2011-04-17    23       Murder  11H20     20A    2500-2599    BROADWAY   ST   \n",
       "\n",
       "  suffix  offenses           date_time  year  \n",
       "0      -         1 2011-04-13 01:00:00  2011  \n",
       "1      -         1 2011-04-06 14:00:00  2011  \n",
       "2      -         1 2011-01-10 19:00:00  2011  \n",
       "3      W         1 2011-04-03 23:00:00  2011  \n",
       "4      -         1 2011-04-17 23:00:00  2011  "
      ]
     },
     "execution_count": 23,
     "metadata": {},
     "output_type": "execute_result"
    }
   ],
   "source": [
    "df['year'] = 2011\n",
    "df.head()"
   ]
  },
  {
   "cell_type": "code",
   "execution_count": null,
   "metadata": {},
   "outputs": [],
   "source": []
  },
  {
   "cell_type": "code",
   "execution_count": null,
   "metadata": {},
   "outputs": [],
   "source": []
  },
  {
   "cell_type": "markdown",
   "metadata": {},
   "source": [
    "## change order of columns"
   ]
  },
  {
   "cell_type": "code",
   "execution_count": 24,
   "metadata": {},
   "outputs": [
    {
     "data": {
      "text/html": [
       "<div>\n",
       "<style scoped>\n",
       "    .dataframe tbody tr th:only-of-type {\n",
       "        vertical-align: middle;\n",
       "    }\n",
       "\n",
       "    .dataframe tbody tr th {\n",
       "        vertical-align: top;\n",
       "    }\n",
       "\n",
       "    .dataframe thead th {\n",
       "        text-align: right;\n",
       "    }\n",
       "</style>\n",
       "<table border=\"1\" class=\"dataframe\">\n",
       "  <thead>\n",
       "    <tr style=\"text-align: right;\">\n",
       "      <th></th>\n",
       "      <th>date_time</th>\n",
       "      <th>offenses</th>\n",
       "      <th>offense_type</th>\n",
       "      <th>block_range</th>\n",
       "      <th>street_name</th>\n",
       "      <th>type</th>\n",
       "      <th>suffix</th>\n",
       "      <th>beat</th>\n",
       "      <th>premise</th>\n",
       "      <th>date</th>\n",
       "      <th>hour</th>\n",
       "      <th>year</th>\n",
       "    </tr>\n",
       "  </thead>\n",
       "  <tbody>\n",
       "    <tr>\n",
       "      <th>0</th>\n",
       "      <td>2011-04-13 01:00:00</td>\n",
       "      <td>1</td>\n",
       "      <td>Murder</td>\n",
       "      <td>6400-6499</td>\n",
       "      <td>BANKSIDE</td>\n",
       "      <td>DR</td>\n",
       "      <td>-</td>\n",
       "      <td>17E40</td>\n",
       "      <td>20A</td>\n",
       "      <td>2011-04-13</td>\n",
       "      <td>1</td>\n",
       "      <td>2011</td>\n",
       "    </tr>\n",
       "    <tr>\n",
       "      <th>1</th>\n",
       "      <td>2011-04-06 14:00:00</td>\n",
       "      <td>1</td>\n",
       "      <td>Murder</td>\n",
       "      <td>2900-2999</td>\n",
       "      <td>HAYES</td>\n",
       "      <td>RD</td>\n",
       "      <td>-</td>\n",
       "      <td>20G30</td>\n",
       "      <td>20A</td>\n",
       "      <td>2011-04-06</td>\n",
       "      <td>14</td>\n",
       "      <td>2011</td>\n",
       "    </tr>\n",
       "    <tr>\n",
       "      <th>2</th>\n",
       "      <td>2011-01-10 19:00:00</td>\n",
       "      <td>1</td>\n",
       "      <td>Murder</td>\n",
       "      <td>8400-8499</td>\n",
       "      <td>GLENSCOT</td>\n",
       "      <td>-</td>\n",
       "      <td>-</td>\n",
       "      <td>13D20</td>\n",
       "      <td>20R</td>\n",
       "      <td>2011-01-10</td>\n",
       "      <td>19</td>\n",
       "      <td>2011</td>\n",
       "    </tr>\n",
       "    <tr>\n",
       "      <th>3</th>\n",
       "      <td>2011-04-03 23:00:00</td>\n",
       "      <td>1</td>\n",
       "      <td>Murder</td>\n",
       "      <td>10700-10799</td>\n",
       "      <td>BELLFORT</td>\n",
       "      <td>ST</td>\n",
       "      <td>W</td>\n",
       "      <td>19G50</td>\n",
       "      <td>18N</td>\n",
       "      <td>2011-04-03</td>\n",
       "      <td>23</td>\n",
       "      <td>2011</td>\n",
       "    </tr>\n",
       "    <tr>\n",
       "      <th>4</th>\n",
       "      <td>2011-04-17 23:00:00</td>\n",
       "      <td>1</td>\n",
       "      <td>Murder</td>\n",
       "      <td>2500-2599</td>\n",
       "      <td>BROADWAY</td>\n",
       "      <td>ST</td>\n",
       "      <td>-</td>\n",
       "      <td>11H20</td>\n",
       "      <td>20A</td>\n",
       "      <td>2011-04-17</td>\n",
       "      <td>23</td>\n",
       "      <td>2011</td>\n",
       "    </tr>\n",
       "  </tbody>\n",
       "</table>\n",
       "</div>"
      ],
      "text/plain": [
       "            date_time  offenses offense_type  block_range street_name type  \\\n",
       "0 2011-04-13 01:00:00         1       Murder    6400-6499    BANKSIDE   DR   \n",
       "1 2011-04-06 14:00:00         1       Murder    2900-2999       HAYES   RD   \n",
       "2 2011-01-10 19:00:00         1       Murder    8400-8499    GLENSCOT    -   \n",
       "3 2011-04-03 23:00:00         1       Murder  10700-10799    BELLFORT   ST   \n",
       "4 2011-04-17 23:00:00         1       Murder    2500-2599    BROADWAY   ST   \n",
       "\n",
       "  suffix   beat premise       date  hour  year  \n",
       "0      -  17E40     20A 2011-04-13     1  2011  \n",
       "1      -  20G30     20A 2011-04-06    14  2011  \n",
       "2      -  13D20     20R 2011-01-10    19  2011  \n",
       "3      W  19G50     18N 2011-04-03    23  2011  \n",
       "4      -  11H20     20A 2011-04-17    23  2011  "
      ]
     },
     "execution_count": 24,
     "metadata": {},
     "output_type": "execute_result"
    }
   ],
   "source": [
    "col_ord =['date_time','offenses','offense_type', 'block_range', 'street_name', 'type', 'suffix','beat', 'premise','date','hour','year']\n",
    "df = df[col_ord]\n",
    "df.head()"
   ]
  },
  {
   "cell_type": "code",
   "execution_count": 28,
   "metadata": {},
   "outputs": [
    {
     "name": "stdout",
     "output_type": "stream",
     "text": [
      "<class 'pandas.core.frame.DataFrame'>\n",
      "RangeIndex: 127659 entries, 0 to 127658\n",
      "Data columns (total 12 columns):\n",
      " #   Column        Non-Null Count   Dtype         \n",
      "---  ------        --------------   -----         \n",
      " 0   date_time     127659 non-null  datetime64[ns]\n",
      " 1   offenses      127659 non-null  int64         \n",
      " 2   offense_type  127659 non-null  object        \n",
      " 3   block_range   127659 non-null  object        \n",
      " 4   street_name   127659 non-null  object        \n",
      " 5   type          127659 non-null  object        \n",
      " 6   suffix        127659 non-null  object        \n",
      " 7   beat          127659 non-null  object        \n",
      " 8   premise       127659 non-null  object        \n",
      " 9   date          127659 non-null  datetime64[ns]\n",
      " 10  hour          127659 non-null  int64         \n",
      " 11  year          127659 non-null  int64         \n",
      "dtypes: datetime64[ns](2), int64(3), object(7)\n",
      "memory usage: 11.7+ MB\n"
     ]
    }
   ],
   "source": [
    "df.info()"
   ]
  },
  {
   "cell_type": "code",
   "execution_count": 29,
   "metadata": {},
   "outputs": [
    {
     "data": {
      "text/html": [
       "<div>\n",
       "<style scoped>\n",
       "    .dataframe tbody tr th:only-of-type {\n",
       "        vertical-align: middle;\n",
       "    }\n",
       "\n",
       "    .dataframe tbody tr th {\n",
       "        vertical-align: top;\n",
       "    }\n",
       "\n",
       "    .dataframe thead th {\n",
       "        text-align: right;\n",
       "    }\n",
       "</style>\n",
       "<table border=\"1\" class=\"dataframe\">\n",
       "  <thead>\n",
       "    <tr style=\"text-align: right;\">\n",
       "      <th></th>\n",
       "      <th>date_time</th>\n",
       "      <th>offenses</th>\n",
       "      <th>offense_type</th>\n",
       "      <th>block_range</th>\n",
       "      <th>street_name</th>\n",
       "      <th>type</th>\n",
       "      <th>suffix</th>\n",
       "      <th>beat</th>\n",
       "      <th>premise</th>\n",
       "      <th>date</th>\n",
       "      <th>hour</th>\n",
       "      <th>year</th>\n",
       "    </tr>\n",
       "  </thead>\n",
       "  <tbody>\n",
       "    <tr>\n",
       "      <th>1627</th>\n",
       "      <td>2011-04-09 02:00:00</td>\n",
       "      <td>3</td>\n",
       "      <td>Aggravated Assault</td>\n",
       "      <td>900-999</td>\n",
       "      <td>NORTH LP E</td>\n",
       "      <td>SER</td>\n",
       "      <td>S</td>\n",
       "      <td>2A20</td>\n",
       "      <td>13S</td>\n",
       "      <td>2011-04-09</td>\n",
       "      <td>2</td>\n",
       "      <td>2011</td>\n",
       "    </tr>\n",
       "    <tr>\n",
       "      <th>1861</th>\n",
       "      <td>2011-04-19 22:00:00</td>\n",
       "      <td>1</td>\n",
       "      <td>Burglary</td>\n",
       "      <td>8500-8599</td>\n",
       "      <td>LARKWOOD</td>\n",
       "      <td>DR</td>\n",
       "      <td>-</td>\n",
       "      <td>15E10</td>\n",
       "      <td>190</td>\n",
       "      <td>2011-04-19</td>\n",
       "      <td>22</td>\n",
       "      <td>2011</td>\n",
       "    </tr>\n",
       "    <tr>\n",
       "      <th>2123</th>\n",
       "      <td>2011-04-24 10:00:00</td>\n",
       "      <td>1</td>\n",
       "      <td>Burglary</td>\n",
       "      <td>6000-6099</td>\n",
       "      <td>HOLLISTER</td>\n",
       "      <td>-</td>\n",
       "      <td>-</td>\n",
       "      <td>5F30</td>\n",
       "      <td>20A</td>\n",
       "      <td>2011-04-24</td>\n",
       "      <td>10</td>\n",
       "      <td>2011</td>\n",
       "    </tr>\n",
       "    <tr>\n",
       "      <th>2634</th>\n",
       "      <td>2011-04-11 10:00:00</td>\n",
       "      <td>1</td>\n",
       "      <td>Burglary</td>\n",
       "      <td>8100-8199</td>\n",
       "      <td>FANNIN</td>\n",
       "      <td>-</td>\n",
       "      <td>-</td>\n",
       "      <td>15E40</td>\n",
       "      <td>20A</td>\n",
       "      <td>2011-04-11</td>\n",
       "      <td>10</td>\n",
       "      <td>2011</td>\n",
       "    </tr>\n",
       "    <tr>\n",
       "      <th>2711</th>\n",
       "      <td>2011-04-15 08:00:00</td>\n",
       "      <td>1</td>\n",
       "      <td>Burglary</td>\n",
       "      <td>800-899</td>\n",
       "      <td>WOOLWORTH</td>\n",
       "      <td>-</td>\n",
       "      <td>-</td>\n",
       "      <td>9C20</td>\n",
       "      <td>20R</td>\n",
       "      <td>2011-04-15</td>\n",
       "      <td>8</td>\n",
       "      <td>2011</td>\n",
       "    </tr>\n",
       "    <tr>\n",
       "      <th>...</th>\n",
       "      <td>...</td>\n",
       "      <td>...</td>\n",
       "      <td>...</td>\n",
       "      <td>...</td>\n",
       "      <td>...</td>\n",
       "      <td>...</td>\n",
       "      <td>...</td>\n",
       "      <td>...</td>\n",
       "      <td>...</td>\n",
       "      <td>...</td>\n",
       "      <td>...</td>\n",
       "      <td>...</td>\n",
       "    </tr>\n",
       "    <tr>\n",
       "      <th>127558</th>\n",
       "      <td>2011-09-29 22:00:00</td>\n",
       "      <td>1</td>\n",
       "      <td>Theft</td>\n",
       "      <td>6300-6399</td>\n",
       "      <td>ALMEDA</td>\n",
       "      <td>RD</td>\n",
       "      <td>-</td>\n",
       "      <td>10H70</td>\n",
       "      <td>18A</td>\n",
       "      <td>2011-09-29</td>\n",
       "      <td>22</td>\n",
       "      <td>2011</td>\n",
       "    </tr>\n",
       "    <tr>\n",
       "      <th>127572</th>\n",
       "      <td>2011-09-27 18:00:00</td>\n",
       "      <td>1</td>\n",
       "      <td>Theft</td>\n",
       "      <td>900-999</td>\n",
       "      <td>DURHAM</td>\n",
       "      <td>DR</td>\n",
       "      <td>-</td>\n",
       "      <td>2A50</td>\n",
       "      <td>18R</td>\n",
       "      <td>2011-09-27</td>\n",
       "      <td>18</td>\n",
       "      <td>2011</td>\n",
       "    </tr>\n",
       "    <tr>\n",
       "      <th>127639</th>\n",
       "      <td>2011-09-30 19:00:00</td>\n",
       "      <td>1</td>\n",
       "      <td>Theft</td>\n",
       "      <td>9400-9499</td>\n",
       "      <td>WEST SAM HOUSTON</td>\n",
       "      <td>PKWY</td>\n",
       "      <td>S</td>\n",
       "      <td>19G10</td>\n",
       "      <td>080</td>\n",
       "      <td>2011-09-30</td>\n",
       "      <td>19</td>\n",
       "      <td>2011</td>\n",
       "    </tr>\n",
       "    <tr>\n",
       "      <th>127648</th>\n",
       "      <td>2011-09-30 20:00:00</td>\n",
       "      <td>1</td>\n",
       "      <td>Theft</td>\n",
       "      <td>11000-11099</td>\n",
       "      <td>WESTHEIMER</td>\n",
       "      <td>RD</td>\n",
       "      <td>-</td>\n",
       "      <td>20G30</td>\n",
       "      <td>120</td>\n",
       "      <td>2011-09-30</td>\n",
       "      <td>20</td>\n",
       "      <td>2011</td>\n",
       "    </tr>\n",
       "    <tr>\n",
       "      <th>127651</th>\n",
       "      <td>2011-09-30 21:00:00</td>\n",
       "      <td>1</td>\n",
       "      <td>Theft</td>\n",
       "      <td>9500-9599</td>\n",
       "      <td>ROWLETT</td>\n",
       "      <td>-</td>\n",
       "      <td>-</td>\n",
       "      <td>12D10</td>\n",
       "      <td>080</td>\n",
       "      <td>2011-09-30</td>\n",
       "      <td>21</td>\n",
       "      <td>2011</td>\n",
       "    </tr>\n",
       "  </tbody>\n",
       "</table>\n",
       "<p>804 rows × 12 columns</p>\n",
       "</div>"
      ],
      "text/plain": [
       "                 date_time  offenses        offense_type  block_range  \\\n",
       "1627   2011-04-09 02:00:00         3  Aggravated Assault      900-999   \n",
       "1861   2011-04-19 22:00:00         1            Burglary    8500-8599   \n",
       "2123   2011-04-24 10:00:00         1            Burglary    6000-6099   \n",
       "2634   2011-04-11 10:00:00         1            Burglary    8100-8199   \n",
       "2711   2011-04-15 08:00:00         1            Burglary      800-899   \n",
       "...                    ...       ...                 ...          ...   \n",
       "127558 2011-09-29 22:00:00         1               Theft    6300-6399   \n",
       "127572 2011-09-27 18:00:00         1               Theft      900-999   \n",
       "127639 2011-09-30 19:00:00         1               Theft    9400-9499   \n",
       "127648 2011-09-30 20:00:00         1               Theft  11000-11099   \n",
       "127651 2011-09-30 21:00:00         1               Theft    9500-9599   \n",
       "\n",
       "             street_name  type suffix   beat premise       date  hour  year  \n",
       "1627          NORTH LP E   SER      S   2A20     13S 2011-04-09     2  2011  \n",
       "1861            LARKWOOD    DR      -  15E10     190 2011-04-19    22  2011  \n",
       "2123           HOLLISTER     -      -   5F30     20A 2011-04-24    10  2011  \n",
       "2634              FANNIN     -      -  15E40     20A 2011-04-11    10  2011  \n",
       "2711           WOOLWORTH     -      -   9C20     20R 2011-04-15     8  2011  \n",
       "...                  ...   ...    ...    ...     ...        ...   ...   ...  \n",
       "127558            ALMEDA    RD      -  10H70     18A 2011-09-29    22  2011  \n",
       "127572            DURHAM    DR      -   2A50     18R 2011-09-27    18  2011  \n",
       "127639  WEST SAM HOUSTON  PKWY      S  19G10     080 2011-09-30    19  2011  \n",
       "127648        WESTHEIMER    RD      -  20G30     120 2011-09-30    20  2011  \n",
       "127651           ROWLETT     -      -  12D10     080 2011-09-30    21  2011  \n",
       "\n",
       "[804 rows x 12 columns]"
      ]
     },
     "execution_count": 29,
     "metadata": {},
     "output_type": "execute_result"
    }
   ],
   "source": [
    "df.loc[df.duplicated(keep='first'),:]"
   ]
  },
  {
   "cell_type": "code",
   "execution_count": 30,
   "metadata": {},
   "outputs": [],
   "source": [
    "df.drop_duplicates(keep='first',inplace=True)"
   ]
  },
  {
   "cell_type": "code",
   "execution_count": 31,
   "metadata": {},
   "outputs": [
    {
     "name": "stdout",
     "output_type": "stream",
     "text": [
      "<class 'pandas.core.frame.DataFrame'>\n",
      "Int64Index: 126855 entries, 0 to 127658\n",
      "Data columns (total 12 columns):\n",
      " #   Column        Non-Null Count   Dtype         \n",
      "---  ------        --------------   -----         \n",
      " 0   date_time     126855 non-null  datetime64[ns]\n",
      " 1   offenses      126855 non-null  int64         \n",
      " 2   offense_type  126855 non-null  object        \n",
      " 3   block_range   126855 non-null  object        \n",
      " 4   street_name   126855 non-null  object        \n",
      " 5   type          126855 non-null  object        \n",
      " 6   suffix        126855 non-null  object        \n",
      " 7   beat          126855 non-null  object        \n",
      " 8   premise       126855 non-null  object        \n",
      " 9   date          126855 non-null  datetime64[ns]\n",
      " 10  hour          126855 non-null  int64         \n",
      " 11  year          126855 non-null  int64         \n",
      "dtypes: datetime64[ns](2), int64(3), object(7)\n",
      "memory usage: 12.6+ MB\n"
     ]
    }
   ],
   "source": [
    "df.info()"
   ]
  },
  {
   "cell_type": "markdown",
   "metadata": {},
   "source": [
    "## Save to bucket"
   ]
  },
  {
   "cell_type": "code",
   "execution_count": 32,
   "metadata": {},
   "outputs": [
    {
     "data": {
      "text/plain": [
       "'s3://dend-data/capstone/inter-data/crime-data/crime_2011.csv'"
      ]
     },
     "execution_count": 32,
     "metadata": {},
     "output_type": "execute_result"
    }
   ],
   "source": [
    "bucket = 'dend-data'\n",
    "file_name = f'crime_{year}.csv'\n",
    "path_to_save = f\"s3://{bucket}/capstone/inter-data/crime-data/{file_name}\"\n",
    "path_to_save"
   ]
  },
  {
   "cell_type": "code",
   "execution_count": null,
   "metadata": {},
   "outputs": [],
   "source": []
  },
  {
   "cell_type": "code",
   "execution_count": 33,
   "metadata": {},
   "outputs": [
    {
     "name": "stdout",
     "output_type": "stream",
     "text": [
      "CPU times: user 952 ms, sys: 62 ms, total: 1.01 s\n",
      "Wall time: 18.3 s\n"
     ]
    },
    {
     "data": {
      "text/plain": [
       "{'paths': ['s3://dend-data/capstone/inter-data/crime-data/crime_2011.csv'],\n",
       " 'partitions_values': {}}"
      ]
     },
     "execution_count": 33,
     "metadata": {},
     "output_type": "execute_result"
    }
   ],
   "source": [
    "%%time\n",
    "wr.s3.to_csv(df, path_to_save, index=False)"
   ]
  },
  {
   "cell_type": "markdown",
   "metadata": {},
   "source": [
    "# Save Sample"
   ]
  },
  {
   "cell_type": "code",
   "execution_count": 34,
   "metadata": {},
   "outputs": [
    {
     "name": "stdout",
     "output_type": "stream",
     "text": [
      "CPU times: user 23.1 ms, sys: 0 ns, total: 23.1 ms\n",
      "Wall time: 332 ms\n"
     ]
    },
    {
     "data": {
      "text/plain": [
       "{'paths': ['s3://dend-data/capstone/sample-data/crime-data/crime_2011.csv'],\n",
       " 'partitions_values': {}}"
      ]
     },
     "execution_count": 34,
     "metadata": {},
     "output_type": "execute_result"
    }
   ],
   "source": [
    "%%time\n",
    "sample_100 = df.sample(100)\n",
    "\n",
    "\n",
    "bucket = 'dend-data'\n",
    "file_name = f'crime_{year}.csv'\n",
    "path_to_save = f\"s3://{bucket}/capstone/sample-data/crime-data/{file_name}\"\n",
    "\n",
    "wr.s3.to_csv(sample_100, path_to_save, index=False)"
   ]
  },
  {
   "cell_type": "code",
   "execution_count": null,
   "metadata": {},
   "outputs": [],
   "source": []
  },
  {
   "cell_type": "code",
   "execution_count": null,
   "metadata": {},
   "outputs": [],
   "source": []
  }
 ],
 "metadata": {
  "kernelspec": {
   "display_name": "Python 3 (ipykernel)",
   "language": "python",
   "name": "python3"
  },
  "language_info": {
   "codemirror_mode": {
    "name": "ipython",
    "version": 3
   },
   "file_extension": ".py",
   "mimetype": "text/x-python",
   "name": "python",
   "nbconvert_exporter": "python",
   "pygments_lexer": "ipython3",
   "version": "3.9.5"
  }
 },
 "nbformat": 4,
 "nbformat_minor": 4
}
