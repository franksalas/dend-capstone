{
 "cells": [
  {
   "cell_type": "code",
   "execution_count": 1,
   "metadata": {},
   "outputs": [
    {
     "data": {
      "text/html": [
       "        <script type=\"text/javascript\">\n",
       "        window.PlotlyConfig = {MathJaxConfig: 'local'};\n",
       "        if (window.MathJax) {MathJax.Hub.Config({SVG: {font: \"STIX-Web\"}});}\n",
       "        if (typeof require !== 'undefined') {\n",
       "        require.undef(\"plotly\");\n",
       "        requirejs.config({\n",
       "            paths: {\n",
       "                'plotly': ['https://cdn.plot.ly/plotly-latest.min']\n",
       "            }\n",
       "        });\n",
       "        require(['plotly'], function(Plotly) {\n",
       "            window._Plotly = Plotly;\n",
       "        });\n",
       "        }\n",
       "        </script>\n",
       "        "
      ]
     },
     "metadata": {},
     "output_type": "display_data"
    },
    {
     "name": "stdout",
     "output_type": "stream",
     "text": [
      "\n",
      "python\t3.8.5 (default, Sep  4 2020, 07:30:14) \n",
      "[GCC 7.3.0]\n",
      "---------------------\n",
      "Versions:\n",
      "----------------------\n",
      "pandas      1.1.2\n",
      "numpy       1.19.1\n",
      "matplotlib  3.3.1\n",
      "seaborn     0.11.0\n",
      "plotly      4.11.0\n",
      "boto3       1.17.106\n",
      "awswrangler 2.9.0\n",
      "----------------------\n",
      "\n",
      "\n",
      "Loaded Libraries\n",
      "-------------------\n",
      "import pandas as pd\n",
      "import numpy as np\n",
      "import sys,os\n",
      "import re\n",
      "import glob\n",
      "import pickle\n",
      "import seaborn as sns\n",
      "import matplotlib.pyplot as plt\n",
      "import plotly\n",
      "import plotly.graph_objs as go\n",
      "from plotly.offline import download_plotlyjs, init_notebook_mode, plot, iplot\n",
      "init_notebook_mode(connected=True)\n",
      "\n",
      "\n",
      "## AWS\n",
      "import boto3\n",
      "import awswrangler as wr\n",
      "----------------\n",
      "\n",
      "\n",
      "GLOBAL VARIABLES\n",
      "--------------------------\n",
      "HERE_DIR: list current directory path\n",
      "RAW_DIR: list files in `data\\raw` directory\n",
      "INTER_DIR: list files in `data\\interim` directory\n",
      "FINAL_DIR: list files in `data\\final` directory\n",
      "SRC_DIR: list files in `src\\` directory\n",
      "------------------------------\n",
      "\n",
      "# SAVE PLOTS\n",
      "To save a plot call\n",
      "`save_plots(fig_variable,'name_of_plot')`\n",
      "\n",
      "source file: src/start.py\n",
      "\n",
      "\n"
     ]
    }
   ],
   "source": [
    "%run ../src/start.py"
   ]
  },
  {
   "cell_type": "markdown",
   "metadata": {},
   "source": [
    "## Load Data"
   ]
  },
  {
   "cell_type": "code",
   "execution_count": 2,
   "metadata": {},
   "outputs": [],
   "source": [
    "# year file\n",
    "year = '2014'"
   ]
  },
  {
   "cell_type": "code",
   "execution_count": 3,
   "metadata": {},
   "outputs": [],
   "source": [
    "# helper function\n",
    "def bucket_raw_path(bucket_name,path_dir):\n",
    "    ''''''\n",
    "    raw_path = f's3://{bucket_name}/{path_dir}'\n",
    "    return raw_path"
   ]
  },
  {
   "cell_type": "code",
   "execution_count": 4,
   "metadata": {},
   "outputs": [
    {
     "data": {
      "text/plain": [
       "'s3://salas-data/capstone/raw-data/crime-data/2014'"
      ]
     },
     "execution_count": 4,
     "metadata": {},
     "output_type": "execute_result"
    }
   ],
   "source": [
    "raw = bucket_raw_path('salas-data',f'capstone/raw-data/crime-data/{year}')\n",
    "raw"
   ]
  },
  {
   "cell_type": "markdown",
   "metadata": {},
   "source": [
    "## List objects in bucket"
   ]
  },
  {
   "cell_type": "code",
   "execution_count": 5,
   "metadata": {},
   "outputs": [
    {
     "data": {
      "text/plain": [
       "['s3://salas-data/capstone/raw-data/crime-data/2014/apr14.xlsx',\n",
       " 's3://salas-data/capstone/raw-data/crime-data/2014/aug14.xlsx',\n",
       " 's3://salas-data/capstone/raw-data/crime-data/2014/dec14.xlsx',\n",
       " 's3://salas-data/capstone/raw-data/crime-data/2014/feb14.xlsx',\n",
       " 's3://salas-data/capstone/raw-data/crime-data/2014/jan14.xlsx',\n",
       " 's3://salas-data/capstone/raw-data/crime-data/2014/jul14.xlsx',\n",
       " 's3://salas-data/capstone/raw-data/crime-data/2014/jun14.xlsx',\n",
       " 's3://salas-data/capstone/raw-data/crime-data/2014/mar14.xlsx',\n",
       " 's3://salas-data/capstone/raw-data/crime-data/2014/may14.xlsx',\n",
       " 's3://salas-data/capstone/raw-data/crime-data/2014/nov14.xlsx',\n",
       " 's3://salas-data/capstone/raw-data/crime-data/2014/oct14.xlsx',\n",
       " 's3://salas-data/capstone/raw-data/crime-data/2014/sep14.xlsx']"
      ]
     },
     "execution_count": 5,
     "metadata": {},
     "output_type": "execute_result"
    }
   ],
   "source": [
    "wr.s3.list_objects(raw)"
   ]
  },
  {
   "cell_type": "markdown",
   "metadata": {},
   "source": [
    "## Create dataframe from s3 files"
   ]
  },
  {
   "cell_type": "code",
   "execution_count": 6,
   "metadata": {},
   "outputs": [],
   "source": [
    "def s3_files_to_df(s3_files_path):\n",
    "    ''' load s3 file path from wr result\n",
    "    returns a dataframe of concat files '''\n",
    "    df_list = []\n",
    "    for i in wr.s3.list_objects(s3_files_path):\n",
    "        temp = wr.s3.read_excel(i, engine='openpyxl', dtype={'Hour': str})  # added dtype error fix for Hour\n",
    "        df_list.append(temp)\n",
    "    # create df from list files\n",
    "    df = pd.concat(df_list, ignore_index=True)\n",
    "    return df"
   ]
  },
  {
   "cell_type": "code",
   "execution_count": 7,
   "metadata": {},
   "outputs": [
    {
     "name": "stdout",
     "output_type": "stream",
     "text": [
      "CPU times: user 19.7 s, sys: 78.1 ms, total: 19.8 s\n",
      "Wall time: 28.8 s\n"
     ]
    }
   ],
   "source": [
    "%%time\n",
    "df = s3_files_to_df(raw)"
   ]
  },
  {
   "cell_type": "code",
   "execution_count": 8,
   "metadata": {},
   "outputs": [],
   "source": [
    "## cleanup columns\n",
    "#df.columns = df.columns.str.lower().str.replace(' ','_').str.replace('\\n','_').str.strip()"
   ]
  },
  {
   "cell_type": "code",
   "execution_count": 9,
   "metadata": {},
   "outputs": [
    {
     "name": "stdout",
     "output_type": "stream",
     "text": [
      "<class 'pandas.core.frame.DataFrame'>\n",
      "RangeIndex: 121750 entries, 0 to 121749\n",
      "Data columns (total 16 columns):\n",
      " #   Column         Non-Null Count   Dtype         \n",
      "---  ------         --------------   -----         \n",
      " 0   Date           121746 non-null  datetime64[ns]\n",
      " 1   Hour           121750 non-null  object        \n",
      " 2   Offense Type   121750 non-null  object        \n",
      " 3   Beat           121734 non-null  object        \n",
      " 4   Premise        92169 non-null   object        \n",
      " 5   Block Range    69989 non-null   object        \n",
      " 6   Street Name    70146 non-null   object        \n",
      " 7   Type           121750 non-null  object        \n",
      " 8   Suffix         121750 non-null  object        \n",
      " 9   . Of Offenses  52214 non-null   float64       \n",
      " 10  BlockRange     51604 non-null   object        \n",
      " 11  StreetName     51604 non-null   object        \n",
      " 12  . offenses     51604 non-null   float64       \n",
      " 13  Field11        0 non-null       float64       \n",
      " 14  . Offenses     10319 non-null   float64       \n",
      " 15  . Of           7613 non-null    float64       \n",
      "dtypes: datetime64[ns](1), float64(5), object(10)\n",
      "memory usage: 14.9+ MB\n"
     ]
    }
   ],
   "source": [
    "df.info()"
   ]
  },
  {
   "cell_type": "code",
   "execution_count": 10,
   "metadata": {},
   "outputs": [
    {
     "data": {
      "text/html": [
       "<div>\n",
       "<style scoped>\n",
       "    .dataframe tbody tr th:only-of-type {\n",
       "        vertical-align: middle;\n",
       "    }\n",
       "\n",
       "    .dataframe tbody tr th {\n",
       "        vertical-align: top;\n",
       "    }\n",
       "\n",
       "    .dataframe thead th {\n",
       "        text-align: right;\n",
       "    }\n",
       "</style>\n",
       "<table border=\"1\" class=\"dataframe\">\n",
       "  <thead>\n",
       "    <tr style=\"text-align: right;\">\n",
       "      <th></th>\n",
       "      <th>Date</th>\n",
       "      <th>Hour</th>\n",
       "      <th>Offense Type</th>\n",
       "      <th>Beat</th>\n",
       "      <th>Premise</th>\n",
       "      <th>Block Range</th>\n",
       "      <th>Street Name</th>\n",
       "      <th>Type</th>\n",
       "      <th>Suffix</th>\n",
       "      <th>. Of Offenses</th>\n",
       "      <th>BlockRange</th>\n",
       "      <th>StreetName</th>\n",
       "      <th>. offenses</th>\n",
       "      <th>Field11</th>\n",
       "      <th>. Offenses</th>\n",
       "      <th>. Of</th>\n",
       "    </tr>\n",
       "  </thead>\n",
       "  <tbody>\n",
       "    <tr>\n",
       "      <th>0</th>\n",
       "      <td>2014-04-19</td>\n",
       "      <td>17</td>\n",
       "      <td>Murder</td>\n",
       "      <td>14D30</td>\n",
       "      <td>18D</td>\n",
       "      <td>8500-8599</td>\n",
       "      <td>MARTIN LUTHER KING</td>\n",
       "      <td>BLVD</td>\n",
       "      <td>-</td>\n",
       "      <td>1.0</td>\n",
       "      <td>NaN</td>\n",
       "      <td>NaN</td>\n",
       "      <td>NaN</td>\n",
       "      <td>NaN</td>\n",
       "      <td>NaN</td>\n",
       "      <td>NaN</td>\n",
       "    </tr>\n",
       "    <tr>\n",
       "      <th>1</th>\n",
       "      <td>2014-04-28</td>\n",
       "      <td>05</td>\n",
       "      <td>Murder</td>\n",
       "      <td>10H20</td>\n",
       "      <td>13R</td>\n",
       "      <td>3600-3699</td>\n",
       "      <td>MCKINNEY</td>\n",
       "      <td>ST</td>\n",
       "      <td>-</td>\n",
       "      <td>1.0</td>\n",
       "      <td>NaN</td>\n",
       "      <td>NaN</td>\n",
       "      <td>NaN</td>\n",
       "      <td>NaN</td>\n",
       "      <td>NaN</td>\n",
       "      <td>NaN</td>\n",
       "    </tr>\n",
       "    <tr>\n",
       "      <th>2</th>\n",
       "      <td>2014-04-27</td>\n",
       "      <td>18</td>\n",
       "      <td>Murder</td>\n",
       "      <td>5F30</td>\n",
       "      <td>20A</td>\n",
       "      <td>7400-7499</td>\n",
       "      <td>HILLMONT</td>\n",
       "      <td>-</td>\n",
       "      <td>-</td>\n",
       "      <td>3.0</td>\n",
       "      <td>NaN</td>\n",
       "      <td>NaN</td>\n",
       "      <td>NaN</td>\n",
       "      <td>NaN</td>\n",
       "      <td>NaN</td>\n",
       "      <td>NaN</td>\n",
       "    </tr>\n",
       "    <tr>\n",
       "      <th>3</th>\n",
       "      <td>2014-04-09</td>\n",
       "      <td>18</td>\n",
       "      <td>Murder</td>\n",
       "      <td>17E10</td>\n",
       "      <td>20A</td>\n",
       "      <td>5400-5499</td>\n",
       "      <td>RENWICK</td>\n",
       "      <td>-</td>\n",
       "      <td>-</td>\n",
       "      <td>2.0</td>\n",
       "      <td>NaN</td>\n",
       "      <td>NaN</td>\n",
       "      <td>NaN</td>\n",
       "      <td>NaN</td>\n",
       "      <td>NaN</td>\n",
       "      <td>NaN</td>\n",
       "    </tr>\n",
       "    <tr>\n",
       "      <th>4</th>\n",
       "      <td>2014-04-24</td>\n",
       "      <td>03</td>\n",
       "      <td>Murder</td>\n",
       "      <td>18F50</td>\n",
       "      <td>03B</td>\n",
       "      <td>9300-9399</td>\n",
       "      <td>RICHMOND</td>\n",
       "      <td>AVE</td>\n",
       "      <td>-</td>\n",
       "      <td>1.0</td>\n",
       "      <td>NaN</td>\n",
       "      <td>NaN</td>\n",
       "      <td>NaN</td>\n",
       "      <td>NaN</td>\n",
       "      <td>NaN</td>\n",
       "      <td>NaN</td>\n",
       "    </tr>\n",
       "  </tbody>\n",
       "</table>\n",
       "</div>"
      ],
      "text/plain": [
       "        Date Hour Offense Type   Beat Premise Block Range         Street Name  \\\n",
       "0 2014-04-19   17       Murder  14D30     18D   8500-8599  MARTIN LUTHER KING   \n",
       "1 2014-04-28   05       Murder  10H20     13R   3600-3699            MCKINNEY   \n",
       "2 2014-04-27   18       Murder   5F30     20A   7400-7499            HILLMONT   \n",
       "3 2014-04-09   18       Murder  17E10     20A   5400-5499             RENWICK   \n",
       "4 2014-04-24   03       Murder  18F50     03B   9300-9399            RICHMOND   \n",
       "\n",
       "   Type Suffix  . Of Offenses BlockRange StreetName  . offenses  Field11  \\\n",
       "0  BLVD      -            1.0        NaN        NaN         NaN      NaN   \n",
       "1    ST      -            1.0        NaN        NaN         NaN      NaN   \n",
       "2     -      -            3.0        NaN        NaN         NaN      NaN   \n",
       "3     -      -            2.0        NaN        NaN         NaN      NaN   \n",
       "4   AVE      -            1.0        NaN        NaN         NaN      NaN   \n",
       "\n",
       "   . Offenses  . Of  \n",
       "0         NaN   NaN  \n",
       "1         NaN   NaN  \n",
       "2         NaN   NaN  \n",
       "3         NaN   NaN  \n",
       "4         NaN   NaN  "
      ]
     },
     "execution_count": 10,
     "metadata": {},
     "output_type": "execute_result"
    }
   ],
   "source": [
    "df.head()"
   ]
  },
  {
   "cell_type": "markdown",
   "metadata": {},
   "source": [
    "## Show null data"
   ]
  },
  {
   "cell_type": "code",
   "execution_count": 11,
   "metadata": {},
   "outputs": [
    {
     "data": {
      "text/plain": [
       "Date                  4\n",
       "Hour                  0\n",
       "Offense Type          0\n",
       "Beat                 16\n",
       "Premise           29581\n",
       "Block Range       51761\n",
       "Street Name       51604\n",
       "Type                  0\n",
       "Suffix                0\n",
       ". Of Offenses     69536\n",
       "BlockRange        70146\n",
       "StreetName        70146\n",
       ". offenses        70146\n",
       "Field11          121750\n",
       ". Offenses       111431\n",
       ". Of             114137\n",
       "dtype: int64"
      ]
     },
     "execution_count": 11,
     "metadata": {},
     "output_type": "execute_result"
    }
   ],
   "source": [
    "df.apply(lambda x: sum(x.isnull()))"
   ]
  },
  {
   "cell_type": "code",
   "execution_count": 12,
   "metadata": {},
   "outputs": [
    {
     "data": {
      "text/html": [
       "<div>\n",
       "<style scoped>\n",
       "    .dataframe tbody tr th:only-of-type {\n",
       "        vertical-align: middle;\n",
       "    }\n",
       "\n",
       "    .dataframe tbody tr th {\n",
       "        vertical-align: top;\n",
       "    }\n",
       "\n",
       "    .dataframe thead th {\n",
       "        text-align: right;\n",
       "    }\n",
       "</style>\n",
       "<table border=\"1\" class=\"dataframe\">\n",
       "  <thead>\n",
       "    <tr style=\"text-align: right;\">\n",
       "      <th></th>\n",
       "      <th>null_percent</th>\n",
       "    </tr>\n",
       "  </thead>\n",
       "  <tbody>\n",
       "    <tr>\n",
       "      <th>BlockRange</th>\n",
       "      <td>57.61</td>\n",
       "    </tr>\n",
       "    <tr>\n",
       "      <th>StreetName</th>\n",
       "      <td>57.61</td>\n",
       "    </tr>\n",
       "    <tr>\n",
       "      <th>. offenses</th>\n",
       "      <td>57.61</td>\n",
       "    </tr>\n",
       "    <tr>\n",
       "      <th>. Of Offenses</th>\n",
       "      <td>57.11</td>\n",
       "    </tr>\n",
       "    <tr>\n",
       "      <th>Block Range</th>\n",
       "      <td>42.51</td>\n",
       "    </tr>\n",
       "    <tr>\n",
       "      <th>Street Name</th>\n",
       "      <td>42.39</td>\n",
       "    </tr>\n",
       "    <tr>\n",
       "      <th>Premise</th>\n",
       "      <td>24.30</td>\n",
       "    </tr>\n",
       "    <tr>\n",
       "      <th>Beat</th>\n",
       "      <td>0.01</td>\n",
       "    </tr>\n",
       "    <tr>\n",
       "      <th>Date</th>\n",
       "      <td>0.00</td>\n",
       "    </tr>\n",
       "    <tr>\n",
       "      <th>Hour</th>\n",
       "      <td>0.00</td>\n",
       "    </tr>\n",
       "    <tr>\n",
       "      <th>Offense Type</th>\n",
       "      <td>0.00</td>\n",
       "    </tr>\n",
       "    <tr>\n",
       "      <th>Type</th>\n",
       "      <td>0.00</td>\n",
       "    </tr>\n",
       "    <tr>\n",
       "      <th>Suffix</th>\n",
       "      <td>0.00</td>\n",
       "    </tr>\n",
       "  </tbody>\n",
       "</table>\n",
       "</div>"
      ],
      "text/plain": [
       "               null_percent\n",
       "BlockRange            57.61\n",
       "StreetName            57.61\n",
       ". offenses            57.61\n",
       ". Of Offenses         57.11\n",
       "Block Range           42.51\n",
       "Street Name           42.39\n",
       "Premise               24.30\n",
       "Beat                   0.01\n",
       "Date                   0.00\n",
       "Hour                   0.00\n",
       "Offense Type           0.00\n",
       "Type                   0.00\n",
       "Suffix                 0.00"
      ]
     },
     "execution_count": 12,
     "metadata": {},
     "output_type": "execute_result"
    }
   ],
   "source": [
    "# create null percentage of column as dataframe\n",
    "null_per_df = pd.DataFrame(df.isna().mean().round(4) * 100)\n",
    "# rename columns\n",
    "null_per_df.rename(columns={'index': 'col_name', 0: 'null_percent'}, inplace=True)\n",
    "\n",
    "# filter data <20% null values\n",
    "per_filter = null_per_df.null_percent<=90\n",
    "null_per_df[per_filter].sort_values(by='null_percent',ascending=False)"
   ]
  },
  {
   "cell_type": "code",
   "execution_count": 13,
   "metadata": {},
   "outputs": [
    {
     "data": {
      "image/png": "[encoded data removed]",
      "text/plain": [
       "<Figure size 1080x288 with 1 Axes>"
      ]
     },
     "metadata": {},
     "output_type": "display_data"
    }
   ],
   "source": [
    "plt.figure(figsize=(15,4))\n",
    "sns.heatmap(df.isnull(),yticklabels=False,cbar=False,cmap='viridis')\n",
    "plt.title('Missing data')\n",
    "plt.show()"
   ]
  },
  {
   "cell_type": "markdown",
   "metadata": {},
   "source": [
    "## Change Hour column errors"
   ]
  },
  {
   "cell_type": "code",
   "execution_count": 14,
   "metadata": {},
   "outputs": [
    {
     "data": {
      "text/plain": [
       "array(['17', '05', '18', '03', '06', '21', '13', '14', '02', '23', '12',\n",
       "       '00', '08', '19', '20', '01', '09', '16', '15', '10', '22', '07',\n",
       "       '11', '04', '24', \"'15\", \"'07\", \"'19\", \"'18\", \"'00\", \"'05\", \"'13\",\n",
       "       \"'14\", \"'22\", \"'23\", \"'20\", \"'16\", \"'17\", \"'06\", \"'03\", \"'01\",\n",
       "       \"'09\", \"'02\", \"'10\", \"'11\", \"'12\", \"'21\", \"'08\", \"'04\"],\n",
       "      dtype=object)"
      ]
     },
     "execution_count": 14,
     "metadata": {},
     "output_type": "execute_result"
    }
   ],
   "source": [
    "df['Hour'].unique()"
   ]
  },
  {
   "cell_type": "code",
   "execution_count": 15,
   "metadata": {},
   "outputs": [
    {
     "data": {
      "text/plain": [
       "49"
      ]
     },
     "execution_count": 15,
     "metadata": {},
     "output_type": "execute_result"
    }
   ],
   "source": [
    "len(df['Hour'].unique())"
   ]
  },
  {
   "cell_type": "code",
   "execution_count": 16,
   "metadata": {},
   "outputs": [
    {
     "data": {
      "text/plain": [
       "array(['17', '05', '18', '03', '06', '21', '13', '14', '02', '23', '12',\n",
       "       '00', '08', '19', '20', '01', '09', '16', '15', '10', '22', '07',\n",
       "       '11', '04', '24'], dtype=object)"
      ]
     },
     "execution_count": 16,
     "metadata": {},
     "output_type": "execute_result"
    }
   ],
   "source": [
    "df['Hour'] =  df['Hour'].str.replace('\\'', '')\n",
    "\n",
    "# TODO\n",
    "# replace 00 to 24\n",
    "df['Hour'].unique()"
   ]
  },
  {
   "cell_type": "code",
   "execution_count": 17,
   "metadata": {},
   "outputs": [
    {
     "data": {
      "text/plain": [
       "25"
      ]
     },
     "execution_count": 17,
     "metadata": {},
     "output_type": "execute_result"
    }
   ],
   "source": [
    "len(df['Hour'].unique())"
   ]
  },
  {
   "cell_type": "code",
   "execution_count": 39,
   "metadata": {},
   "outputs": [],
   "source": [
    "# Change hour to int\n",
    "df['Hour'] = df['Hour'].astype('int64')"
   ]
  },
  {
   "cell_type": "code",
   "execution_count": null,
   "metadata": {},
   "outputs": [],
   "source": []
  },
  {
   "cell_type": "markdown",
   "metadata": {},
   "source": [
    "## Change column names and drop unused"
   ]
  },
  {
   "cell_type": "code",
   "execution_count": 18,
   "metadata": {},
   "outputs": [],
   "source": [
    "df['block_range'] = pd.concat([df['Block Range'].dropna(),\n",
    "                              df['BlockRange'].dropna()]).reindex_like(df)\n",
    "\n",
    "\n",
    "df['street_name'] = pd.concat([df['Street Name'].dropna(),\n",
    "                              df['StreetName'].dropna()]).reindex_like(df)\n",
    "\n",
    "\n",
    "df['offenses'] = pd.concat([df['. Of Offenses'].dropna(),\n",
    "                              df['. offenses'].dropna(),\n",
    "                              df['. Offenses'].dropna(),\n",
    "                              df['. Of'].dropna()]).reindex_like(df)\n",
    "\n",
    "\n",
    "# drop unused cols\n",
    "df = df.drop([  'Block Range','BlockRange','Street Name','StreetName','. Of Offenses','. offenses','. Offenses','. Of','Field11',\n",
    "], axis = 1)\n",
    "\n",
    "\n",
    "\n",
    "\n"
   ]
  },
  {
   "cell_type": "code",
   "execution_count": 19,
   "metadata": {},
   "outputs": [],
   "source": [
    "## cleanup col names\n",
    "df.columns = df.columns.str.lower().str.replace(' ','_').str.replace('\\n','_').str.strip()"
   ]
  },
  {
   "cell_type": "code",
   "execution_count": 20,
   "metadata": {},
   "outputs": [
    {
     "data": {
      "text/plain": [
       "date                4\n",
       "hour                0\n",
       "offense_type        0\n",
       "beat               16\n",
       "premise         29581\n",
       "type                0\n",
       "suffix              0\n",
       "block_range       157\n",
       "street_name         0\n",
       "offenses            0\n",
       "dtype: int64"
      ]
     },
     "execution_count": 20,
     "metadata": {},
     "output_type": "execute_result"
    }
   ],
   "source": [
    "df.apply(lambda x: sum(x.isnull()))"
   ]
  },
  {
   "cell_type": "code",
   "execution_count": 21,
   "metadata": {},
   "outputs": [
    {
     "data": {
      "image/png": "[encoded data removed]",
      "text/plain": [
       "<Figure size 1080x288 with 1 Axes>"
      ]
     },
     "metadata": {},
     "output_type": "display_data"
    }
   ],
   "source": [
    "plt.figure(figsize=(15,4))\n",
    "sns.heatmap(df.isnull(),yticklabels=False,cbar=False,cmap='viridis')\n",
    "plt.title('Missing data')\n",
    "plt.show()"
   ]
  },
  {
   "cell_type": "code",
   "execution_count": 24,
   "metadata": {},
   "outputs": [
    {
     "data": {
      "text/html": [
       "<div>\n",
       "<style scoped>\n",
       "    .dataframe tbody tr th:only-of-type {\n",
       "        vertical-align: middle;\n",
       "    }\n",
       "\n",
       "    .dataframe tbody tr th {\n",
       "        vertical-align: top;\n",
       "    }\n",
       "\n",
       "    .dataframe thead th {\n",
       "        text-align: right;\n",
       "    }\n",
       "</style>\n",
       "<table border=\"1\" class=\"dataframe\">\n",
       "  <thead>\n",
       "    <tr style=\"text-align: right;\">\n",
       "      <th></th>\n",
       "      <th>date</th>\n",
       "      <th>hour</th>\n",
       "      <th>offense_type</th>\n",
       "      <th>beat</th>\n",
       "      <th>premise</th>\n",
       "      <th>type</th>\n",
       "      <th>suffix</th>\n",
       "      <th>block_range</th>\n",
       "      <th>street_name</th>\n",
       "      <th>offenses</th>\n",
       "    </tr>\n",
       "  </thead>\n",
       "  <tbody>\n",
       "    <tr>\n",
       "      <th>54412</th>\n",
       "      <td>NaT</td>\n",
       "      <td>15</td>\n",
       "      <td>Theft</td>\n",
       "      <td>13D40</td>\n",
       "      <td>NaN</td>\n",
       "      <td>PKWY</td>\n",
       "      <td>S</td>\n",
       "      <td>8500-8599</td>\n",
       "      <td>SAM HOUSTON</td>\n",
       "      <td>1.0</td>\n",
       "    </tr>\n",
       "    <tr>\n",
       "      <th>56526</th>\n",
       "      <td>NaT</td>\n",
       "      <td>14</td>\n",
       "      <td>Robbery</td>\n",
       "      <td>18F40</td>\n",
       "      <td>NaN</td>\n",
       "      <td>RD</td>\n",
       "      <td>-</td>\n",
       "      <td>2700-2799</td>\n",
       "      <td>DUNVALE</td>\n",
       "      <td>1.0</td>\n",
       "    </tr>\n",
       "    <tr>\n",
       "      <th>64547</th>\n",
       "      <td>NaT</td>\n",
       "      <td>08</td>\n",
       "      <td>Burglary</td>\n",
       "      <td>14D40</td>\n",
       "      <td>NaN</td>\n",
       "      <td>RD</td>\n",
       "      <td>-</td>\n",
       "      <td>5600-5699</td>\n",
       "      <td>SELINSKY</td>\n",
       "      <td>1.0</td>\n",
       "    </tr>\n",
       "    <tr>\n",
       "      <th>69191</th>\n",
       "      <td>NaT</td>\n",
       "      <td>11</td>\n",
       "      <td>Theft</td>\n",
       "      <td>7C20</td>\n",
       "      <td>NaN</td>\n",
       "      <td>-</td>\n",
       "      <td>-</td>\n",
       "      <td>3900-3999</td>\n",
       "      <td>CAVALCADE</td>\n",
       "      <td>1.0</td>\n",
       "    </tr>\n",
       "  </tbody>\n",
       "</table>\n",
       "</div>"
      ],
      "text/plain": [
       "      date hour offense_type   beat premise  type suffix block_range  \\\n",
       "54412  NaT   15        Theft  13D40     NaN  PKWY      S   8500-8599   \n",
       "56526  NaT   14      Robbery  18F40     NaN    RD      -   2700-2799   \n",
       "64547  NaT   08     Burglary  14D40     NaN    RD      -   5600-5699   \n",
       "69191  NaT   11        Theft   7C20     NaN     -      -   3900-3999   \n",
       "\n",
       "       street_name  offenses  \n",
       "54412  SAM HOUSTON       1.0  \n",
       "56526      DUNVALE       1.0  \n",
       "64547     SELINSKY       1.0  \n",
       "69191    CAVALCADE       1.0  "
      ]
     },
     "execution_count": 24,
     "metadata": {},
     "output_type": "execute_result"
    }
   ],
   "source": [
    "df[df.date.isna()]"
   ]
  },
  {
   "cell_type": "markdown",
   "metadata": {},
   "source": [
    "## Drop cols with null date"
   ]
  },
  {
   "cell_type": "code",
   "execution_count": 25,
   "metadata": {},
   "outputs": [],
   "source": [
    "# remove values with nat date\n",
    "df = df[~df.date.isna()].reset_index(drop=True)"
   ]
  },
  {
   "cell_type": "code",
   "execution_count": 26,
   "metadata": {},
   "outputs": [
    {
     "data": {
      "text/html": [
       "<div>\n",
       "<style scoped>\n",
       "    .dataframe tbody tr th:only-of-type {\n",
       "        vertical-align: middle;\n",
       "    }\n",
       "\n",
       "    .dataframe tbody tr th {\n",
       "        vertical-align: top;\n",
       "    }\n",
       "\n",
       "    .dataframe thead th {\n",
       "        text-align: right;\n",
       "    }\n",
       "</style>\n",
       "<table border=\"1\" class=\"dataframe\">\n",
       "  <thead>\n",
       "    <tr style=\"text-align: right;\">\n",
       "      <th></th>\n",
       "      <th>date</th>\n",
       "      <th>hour</th>\n",
       "      <th>offense_type</th>\n",
       "      <th>beat</th>\n",
       "      <th>premise</th>\n",
       "      <th>type</th>\n",
       "      <th>suffix</th>\n",
       "      <th>block_range</th>\n",
       "      <th>street_name</th>\n",
       "      <th>offenses</th>\n",
       "    </tr>\n",
       "  </thead>\n",
       "  <tbody>\n",
       "    <tr>\n",
       "      <th>10412</th>\n",
       "      <td>2014-08-08</td>\n",
       "      <td>18</td>\n",
       "      <td>Aggravated Assault</td>\n",
       "      <td>10H10</td>\n",
       "      <td>NaN</td>\n",
       "      <td>-</td>\n",
       "      <td>-</td>\n",
       "      <td>5300-5399</td>\n",
       "      <td>HARRISBURG</td>\n",
       "      <td>1.0</td>\n",
       "    </tr>\n",
       "    <tr>\n",
       "      <th>10419</th>\n",
       "      <td>2014-08-23</td>\n",
       "      <td>00</td>\n",
       "      <td>Theft</td>\n",
       "      <td>10H10</td>\n",
       "      <td>NaN</td>\n",
       "      <td>ST</td>\n",
       "      <td>N</td>\n",
       "      <td>UNK</td>\n",
       "      <td>ENNIS</td>\n",
       "      <td>1.0</td>\n",
       "    </tr>\n",
       "    <tr>\n",
       "      <th>10420</th>\n",
       "      <td>2014-08-25</td>\n",
       "      <td>12</td>\n",
       "      <td>Theft</td>\n",
       "      <td>10H10</td>\n",
       "      <td>NaN</td>\n",
       "      <td>DR</td>\n",
       "      <td>-</td>\n",
       "      <td>100-199</td>\n",
       "      <td>LOCKWOOD</td>\n",
       "      <td>1.0</td>\n",
       "    </tr>\n",
       "    <tr>\n",
       "      <th>10423</th>\n",
       "      <td>2014-08-02</td>\n",
       "      <td>18</td>\n",
       "      <td>Theft</td>\n",
       "      <td>10H10</td>\n",
       "      <td>NaN</td>\n",
       "      <td>ST</td>\n",
       "      <td>-</td>\n",
       "      <td>200-299</td>\n",
       "      <td>ROBERTS</td>\n",
       "      <td>1.0</td>\n",
       "    </tr>\n",
       "    <tr>\n",
       "      <th>10448</th>\n",
       "      <td>2014-07-27</td>\n",
       "      <td>15</td>\n",
       "      <td>Aggravated Assault</td>\n",
       "      <td>10H10</td>\n",
       "      <td>NaN</td>\n",
       "      <td>-</td>\n",
       "      <td>-</td>\n",
       "      <td>3900-3999</td>\n",
       "      <td>BERING</td>\n",
       "      <td>1.0</td>\n",
       "    </tr>\n",
       "    <tr>\n",
       "      <th>...</th>\n",
       "      <td>...</td>\n",
       "      <td>...</td>\n",
       "      <td>...</td>\n",
       "      <td>...</td>\n",
       "      <td>...</td>\n",
       "      <td>...</td>\n",
       "      <td>...</td>\n",
       "      <td>...</td>\n",
       "      <td>...</td>\n",
       "      <td>...</td>\n",
       "    </tr>\n",
       "    <tr>\n",
       "      <th>121732</th>\n",
       "      <td>2014-09-27</td>\n",
       "      <td>02</td>\n",
       "      <td>Aggravated Assault</td>\n",
       "      <td>UNK</td>\n",
       "      <td>NaN</td>\n",
       "      <td>-</td>\n",
       "      <td>W</td>\n",
       "      <td>700-799</td>\n",
       "      <td>FM 1960</td>\n",
       "      <td>1.0</td>\n",
       "    </tr>\n",
       "    <tr>\n",
       "      <th>121735</th>\n",
       "      <td>2014-09-07</td>\n",
       "      <td>11</td>\n",
       "      <td>Theft</td>\n",
       "      <td>UNK</td>\n",
       "      <td>NaN</td>\n",
       "      <td>RD</td>\n",
       "      <td>-</td>\n",
       "      <td>500-599</td>\n",
       "      <td>MARSHALL</td>\n",
       "      <td>1.0</td>\n",
       "    </tr>\n",
       "    <tr>\n",
       "      <th>121736</th>\n",
       "      <td>2014-09-04</td>\n",
       "      <td>15</td>\n",
       "      <td>Theft</td>\n",
       "      <td>UNK</td>\n",
       "      <td>NaN</td>\n",
       "      <td>BYP</td>\n",
       "      <td>W</td>\n",
       "      <td>9400-9499</td>\n",
       "      <td>FM 1960</td>\n",
       "      <td>1.0</td>\n",
       "    </tr>\n",
       "    <tr>\n",
       "      <th>121739</th>\n",
       "      <td>2014-09-14</td>\n",
       "      <td>19</td>\n",
       "      <td>Theft</td>\n",
       "      <td>UNK</td>\n",
       "      <td>NaN</td>\n",
       "      <td>PKWY</td>\n",
       "      <td>-</td>\n",
       "      <td>12600-12699</td>\n",
       "      <td>LAKE HOUSTON</td>\n",
       "      <td>1.0</td>\n",
       "    </tr>\n",
       "    <tr>\n",
       "      <th>121745</th>\n",
       "      <td>2014-09-28</td>\n",
       "      <td>02</td>\n",
       "      <td>Theft</td>\n",
       "      <td>UNK</td>\n",
       "      <td>NaN</td>\n",
       "      <td>RD</td>\n",
       "      <td>N</td>\n",
       "      <td>7900-7999</td>\n",
       "      <td>GESSNER</td>\n",
       "      <td>1.0</td>\n",
       "    </tr>\n",
       "  </tbody>\n",
       "</table>\n",
       "<p>29577 rows × 10 columns</p>\n",
       "</div>"
      ],
      "text/plain": [
       "             date hour        offense_type   beat premise  type suffix  \\\n",
       "10412  2014-08-08   18  Aggravated Assault  10H10     NaN     -      -   \n",
       "10419  2014-08-23   00               Theft  10H10     NaN    ST      N   \n",
       "10420  2014-08-25   12               Theft  10H10     NaN    DR      -   \n",
       "10423  2014-08-02   18               Theft  10H10     NaN    ST      -   \n",
       "10448  2014-07-27   15  Aggravated Assault  10H10     NaN     -      -   \n",
       "...           ...  ...                 ...    ...     ...   ...    ...   \n",
       "121732 2014-09-27   02  Aggravated Assault    UNK     NaN     -      W   \n",
       "121735 2014-09-07   11               Theft    UNK     NaN    RD      -   \n",
       "121736 2014-09-04   15               Theft    UNK     NaN   BYP      W   \n",
       "121739 2014-09-14   19               Theft    UNK     NaN  PKWY      -   \n",
       "121745 2014-09-28   02               Theft    UNK     NaN    RD      N   \n",
       "\n",
       "        block_range   street_name  offenses  \n",
       "10412     5300-5399    HARRISBURG       1.0  \n",
       "10419           UNK         ENNIS       1.0  \n",
       "10420       100-199      LOCKWOOD       1.0  \n",
       "10423       200-299       ROBERTS       1.0  \n",
       "10448     3900-3999        BERING       1.0  \n",
       "...             ...           ...       ...  \n",
       "121732      700-799       FM 1960       1.0  \n",
       "121735      500-599      MARSHALL       1.0  \n",
       "121736    9400-9499       FM 1960       1.0  \n",
       "121739  12600-12699  LAKE HOUSTON       1.0  \n",
       "121745    7900-7999       GESSNER       1.0  \n",
       "\n",
       "[29577 rows x 10 columns]"
      ]
     },
     "execution_count": 26,
     "metadata": {},
     "output_type": "execute_result"
    }
   ],
   "source": [
    "df[df.premise.isna()]"
   ]
  },
  {
   "cell_type": "code",
   "execution_count": 27,
   "metadata": {},
   "outputs": [],
   "source": [
    "## Change null values to UNK\n",
    "\n",
    "df[\"premise\"].fillna(\"UNK\", inplace = True)"
   ]
  },
  {
   "cell_type": "code",
   "execution_count": 29,
   "metadata": {},
   "outputs": [
    {
     "data": {
      "text/html": [
       "<div>\n",
       "<style scoped>\n",
       "    .dataframe tbody tr th:only-of-type {\n",
       "        vertical-align: middle;\n",
       "    }\n",
       "\n",
       "    .dataframe tbody tr th {\n",
       "        vertical-align: top;\n",
       "    }\n",
       "\n",
       "    .dataframe thead th {\n",
       "        text-align: right;\n",
       "    }\n",
       "</style>\n",
       "<table border=\"1\" class=\"dataframe\">\n",
       "  <thead>\n",
       "    <tr style=\"text-align: right;\">\n",
       "      <th></th>\n",
       "      <th>date</th>\n",
       "      <th>hour</th>\n",
       "      <th>offense_type</th>\n",
       "      <th>beat</th>\n",
       "      <th>premise</th>\n",
       "      <th>type</th>\n",
       "      <th>suffix</th>\n",
       "      <th>block_range</th>\n",
       "      <th>street_name</th>\n",
       "      <th>offenses</th>\n",
       "    </tr>\n",
       "  </thead>\n",
       "  <tbody>\n",
       "    <tr>\n",
       "      <th>52633</th>\n",
       "      <td>2014-07-22</td>\n",
       "      <td>20</td>\n",
       "      <td>Theft</td>\n",
       "      <td>NaN</td>\n",
       "      <td>UNK</td>\n",
       "      <td>-</td>\n",
       "      <td>-</td>\n",
       "      <td>NaN</td>\n",
       "      <td>WALKER</td>\n",
       "      <td>1.0</td>\n",
       "    </tr>\n",
       "    <tr>\n",
       "      <th>52635</th>\n",
       "      <td>2014-07-16</td>\n",
       "      <td>13</td>\n",
       "      <td>Theft</td>\n",
       "      <td>NaN</td>\n",
       "      <td>UNK</td>\n",
       "      <td>-</td>\n",
       "      <td>-</td>\n",
       "      <td>NaN</td>\n",
       "      <td>PEASE</td>\n",
       "      <td>1.0</td>\n",
       "    </tr>\n",
       "    <tr>\n",
       "      <th>52654</th>\n",
       "      <td>2014-07-27</td>\n",
       "      <td>07</td>\n",
       "      <td>Burglary</td>\n",
       "      <td>10H10</td>\n",
       "      <td>UNK</td>\n",
       "      <td>-</td>\n",
       "      <td>-</td>\n",
       "      <td>NaN</td>\n",
       "      <td>212.5 LENOX</td>\n",
       "      <td>1.0</td>\n",
       "    </tr>\n",
       "    <tr>\n",
       "      <th>53200</th>\n",
       "      <td>2014-07-02</td>\n",
       "      <td>12</td>\n",
       "      <td>Auto Theft</td>\n",
       "      <td>10H80</td>\n",
       "      <td>UNK</td>\n",
       "      <td>-</td>\n",
       "      <td>-</td>\n",
       "      <td>NaN</td>\n",
       "      <td>2600 DUNLAVY + WESTHEIMER</td>\n",
       "      <td>1.0</td>\n",
       "    </tr>\n",
       "    <tr>\n",
       "      <th>53518</th>\n",
       "      <td>2014-07-12</td>\n",
       "      <td>11</td>\n",
       "      <td>Theft</td>\n",
       "      <td>12D10</td>\n",
       "      <td>UNK</td>\n",
       "      <td>DR</td>\n",
       "      <td>-</td>\n",
       "      <td>NaN</td>\n",
       "      <td>EDGEBROOK</td>\n",
       "      <td>1.0</td>\n",
       "    </tr>\n",
       "    <tr>\n",
       "      <th>...</th>\n",
       "      <td>...</td>\n",
       "      <td>...</td>\n",
       "      <td>...</td>\n",
       "      <td>...</td>\n",
       "      <td>...</td>\n",
       "      <td>...</td>\n",
       "      <td>...</td>\n",
       "      <td>...</td>\n",
       "      <td>...</td>\n",
       "      <td>...</td>\n",
       "    </tr>\n",
       "    <tr>\n",
       "      <th>70480</th>\n",
       "      <td>2014-06-28</td>\n",
       "      <td>09</td>\n",
       "      <td>Theft</td>\n",
       "      <td>20G50</td>\n",
       "      <td>UNK</td>\n",
       "      <td>-</td>\n",
       "      <td>-</td>\n",
       "      <td>NaN</td>\n",
       "      <td>800 TOWN AND COUNTRY (PV BLVD</td>\n",
       "      <td>1.0</td>\n",
       "    </tr>\n",
       "    <tr>\n",
       "      <th>70488</th>\n",
       "      <td>2014-06-28</td>\n",
       "      <td>23</td>\n",
       "      <td>Auto Theft</td>\n",
       "      <td>17E40</td>\n",
       "      <td>UNK</td>\n",
       "      <td>-</td>\n",
       "      <td>-</td>\n",
       "      <td>NaN</td>\n",
       "      <td>6334CREEKBEND</td>\n",
       "      <td>1.0</td>\n",
       "    </tr>\n",
       "    <tr>\n",
       "      <th>70524</th>\n",
       "      <td>2014-06-03</td>\n",
       "      <td>17</td>\n",
       "      <td>Theft</td>\n",
       "      <td>1A10</td>\n",
       "      <td>UNK</td>\n",
       "      <td>-</td>\n",
       "      <td>-</td>\n",
       "      <td>NaN</td>\n",
       "      <td>26TH ST / BEVIS ST</td>\n",
       "      <td>1.0</td>\n",
       "    </tr>\n",
       "    <tr>\n",
       "      <th>70538</th>\n",
       "      <td>2014-06-19</td>\n",
       "      <td>01</td>\n",
       "      <td>Burglary</td>\n",
       "      <td>8C10</td>\n",
       "      <td>UNK</td>\n",
       "      <td>ST</td>\n",
       "      <td>-</td>\n",
       "      <td>NaN</td>\n",
       "      <td>2 DENMARK</td>\n",
       "      <td>1.0</td>\n",
       "    </tr>\n",
       "    <tr>\n",
       "      <th>70550</th>\n",
       "      <td>2014-06-12</td>\n",
       "      <td>23</td>\n",
       "      <td>Robbery</td>\n",
       "      <td>3B40</td>\n",
       "      <td>UNK</td>\n",
       "      <td>-</td>\n",
       "      <td>-</td>\n",
       "      <td>NaN</td>\n",
       "      <td>1200 EAST 40TH 1</td>\n",
       "      <td>1.0</td>\n",
       "    </tr>\n",
       "  </tbody>\n",
       "</table>\n",
       "<p>157 rows × 10 columns</p>\n",
       "</div>"
      ],
      "text/plain": [
       "            date hour offense_type   beat premise type suffix block_range  \\\n",
       "52633 2014-07-22   20        Theft    NaN     UNK    -      -         NaN   \n",
       "52635 2014-07-16   13        Theft    NaN     UNK    -      -         NaN   \n",
       "52654 2014-07-27   07     Burglary  10H10     UNK    -      -         NaN   \n",
       "53200 2014-07-02   12   Auto Theft  10H80     UNK    -      -         NaN   \n",
       "53518 2014-07-12   11        Theft  12D10     UNK   DR      -         NaN   \n",
       "...          ...  ...          ...    ...     ...  ...    ...         ...   \n",
       "70480 2014-06-28   09        Theft  20G50     UNK    -      -         NaN   \n",
       "70488 2014-06-28   23   Auto Theft  17E40     UNK    -      -         NaN   \n",
       "70524 2014-06-03   17        Theft   1A10     UNK    -      -         NaN   \n",
       "70538 2014-06-19   01     Burglary   8C10     UNK   ST      -         NaN   \n",
       "70550 2014-06-12   23      Robbery   3B40     UNK    -      -         NaN   \n",
       "\n",
       "                         street_name  offenses  \n",
       "52633                         WALKER       1.0  \n",
       "52635                          PEASE       1.0  \n",
       "52654                    212.5 LENOX       1.0  \n",
       "53200      2600 DUNLAVY + WESTHEIMER       1.0  \n",
       "53518                      EDGEBROOK       1.0  \n",
       "...                              ...       ...  \n",
       "70480  800 TOWN AND COUNTRY (PV BLVD       1.0  \n",
       "70488                  6334CREEKBEND       1.0  \n",
       "70524             26TH ST / BEVIS ST       1.0  \n",
       "70538                      2 DENMARK       1.0  \n",
       "70550               1200 EAST 40TH 1       1.0  \n",
       "\n",
       "[157 rows x 10 columns]"
      ]
     },
     "execution_count": 29,
     "metadata": {},
     "output_type": "execute_result"
    }
   ],
   "source": [
    "df[df.block_range.isna()]"
   ]
  },
  {
   "cell_type": "code",
   "execution_count": 30,
   "metadata": {},
   "outputs": [],
   "source": [
    "## Change null values to UNK\n",
    "\n",
    "df[\"block_range\"].fillna(\"UNK\", inplace = True)"
   ]
  },
  {
   "cell_type": "code",
   "execution_count": 33,
   "metadata": {},
   "outputs": [
    {
     "data": {
      "text/html": [
       "<div>\n",
       "<style scoped>\n",
       "    .dataframe tbody tr th:only-of-type {\n",
       "        vertical-align: middle;\n",
       "    }\n",
       "\n",
       "    .dataframe tbody tr th {\n",
       "        vertical-align: top;\n",
       "    }\n",
       "\n",
       "    .dataframe thead th {\n",
       "        text-align: right;\n",
       "    }\n",
       "</style>\n",
       "<table border=\"1\" class=\"dataframe\">\n",
       "  <thead>\n",
       "    <tr style=\"text-align: right;\">\n",
       "      <th></th>\n",
       "      <th>date</th>\n",
       "      <th>hour</th>\n",
       "      <th>offense_type</th>\n",
       "      <th>beat</th>\n",
       "      <th>premise</th>\n",
       "      <th>type</th>\n",
       "      <th>suffix</th>\n",
       "      <th>block_range</th>\n",
       "      <th>street_name</th>\n",
       "      <th>offenses</th>\n",
       "    </tr>\n",
       "  </thead>\n",
       "  <tbody>\n",
       "    <tr>\n",
       "      <th>52628</th>\n",
       "      <td>2014-07-19</td>\n",
       "      <td>11</td>\n",
       "      <td>Theft</td>\n",
       "      <td>NaN</td>\n",
       "      <td>UNK</td>\n",
       "      <td>-</td>\n",
       "      <td>-</td>\n",
       "      <td>2100-2199</td>\n",
       "      <td>VINTAGE</td>\n",
       "      <td>1.0</td>\n",
       "    </tr>\n",
       "    <tr>\n",
       "      <th>52629</th>\n",
       "      <td>2014-07-13</td>\n",
       "      <td>08</td>\n",
       "      <td>Theft</td>\n",
       "      <td>NaN</td>\n",
       "      <td>UNK</td>\n",
       "      <td>-</td>\n",
       "      <td>-</td>\n",
       "      <td>500-599</td>\n",
       "      <td>W.38TH</td>\n",
       "      <td>1.0</td>\n",
       "    </tr>\n",
       "    <tr>\n",
       "      <th>52630</th>\n",
       "      <td>2014-07-26</td>\n",
       "      <td>15</td>\n",
       "      <td>Rape</td>\n",
       "      <td>NaN</td>\n",
       "      <td>UNK</td>\n",
       "      <td>-</td>\n",
       "      <td>-</td>\n",
       "      <td>6100-6199</td>\n",
       "      <td>ATTWATER</td>\n",
       "      <td>1.0</td>\n",
       "    </tr>\n",
       "    <tr>\n",
       "      <th>52631</th>\n",
       "      <td>2014-07-13</td>\n",
       "      <td>15</td>\n",
       "      <td>Theft</td>\n",
       "      <td>NaN</td>\n",
       "      <td>UNK</td>\n",
       "      <td>-</td>\n",
       "      <td>W</td>\n",
       "      <td>7800-7899</td>\n",
       "      <td>FM 1960</td>\n",
       "      <td>1.0</td>\n",
       "    </tr>\n",
       "    <tr>\n",
       "      <th>52632</th>\n",
       "      <td>2014-07-14</td>\n",
       "      <td>09</td>\n",
       "      <td>Theft</td>\n",
       "      <td>NaN</td>\n",
       "      <td>UNK</td>\n",
       "      <td>LN</td>\n",
       "      <td>-</td>\n",
       "      <td>6600-6699</td>\n",
       "      <td>MERRY</td>\n",
       "      <td>1.0</td>\n",
       "    </tr>\n",
       "    <tr>\n",
       "      <th>52633</th>\n",
       "      <td>2014-07-22</td>\n",
       "      <td>20</td>\n",
       "      <td>Theft</td>\n",
       "      <td>NaN</td>\n",
       "      <td>UNK</td>\n",
       "      <td>-</td>\n",
       "      <td>-</td>\n",
       "      <td>UNK</td>\n",
       "      <td>WALKER</td>\n",
       "      <td>1.0</td>\n",
       "    </tr>\n",
       "    <tr>\n",
       "      <th>52634</th>\n",
       "      <td>2014-07-03</td>\n",
       "      <td>02</td>\n",
       "      <td>Theft</td>\n",
       "      <td>NaN</td>\n",
       "      <td>UNK</td>\n",
       "      <td>-</td>\n",
       "      <td>-</td>\n",
       "      <td>8400-8499</td>\n",
       "      <td>S. GESSNER</td>\n",
       "      <td>1.0</td>\n",
       "    </tr>\n",
       "    <tr>\n",
       "      <th>52635</th>\n",
       "      <td>2014-07-16</td>\n",
       "      <td>13</td>\n",
       "      <td>Theft</td>\n",
       "      <td>NaN</td>\n",
       "      <td>UNK</td>\n",
       "      <td>-</td>\n",
       "      <td>-</td>\n",
       "      <td>UNK</td>\n",
       "      <td>PEASE</td>\n",
       "      <td>1.0</td>\n",
       "    </tr>\n",
       "    <tr>\n",
       "      <th>52636</th>\n",
       "      <td>2014-07-26</td>\n",
       "      <td>14</td>\n",
       "      <td>Rape</td>\n",
       "      <td>NaN</td>\n",
       "      <td>UNK</td>\n",
       "      <td>-</td>\n",
       "      <td>-</td>\n",
       "      <td>6100-6199</td>\n",
       "      <td>ATTWATER</td>\n",
       "      <td>1.0</td>\n",
       "    </tr>\n",
       "    <tr>\n",
       "      <th>52637</th>\n",
       "      <td>2014-07-10</td>\n",
       "      <td>20</td>\n",
       "      <td>Theft</td>\n",
       "      <td>NaN</td>\n",
       "      <td>UNK</td>\n",
       "      <td>-</td>\n",
       "      <td>-</td>\n",
       "      <td>800-899</td>\n",
       "      <td>GESSNER SUITE 970</td>\n",
       "      <td>1.0</td>\n",
       "    </tr>\n",
       "    <tr>\n",
       "      <th>63534</th>\n",
       "      <td>2014-06-13</td>\n",
       "      <td>14</td>\n",
       "      <td>Theft</td>\n",
       "      <td>NaN</td>\n",
       "      <td>UNK</td>\n",
       "      <td>-</td>\n",
       "      <td>-</td>\n",
       "      <td>5400-5499</td>\n",
       "      <td>WEST LOOP S SER</td>\n",
       "      <td>1.0</td>\n",
       "    </tr>\n",
       "    <tr>\n",
       "      <th>63724</th>\n",
       "      <td>2013-12-01</td>\n",
       "      <td>11</td>\n",
       "      <td>Theft</td>\n",
       "      <td>NaN</td>\n",
       "      <td>UNK</td>\n",
       "      <td>-</td>\n",
       "      <td>-</td>\n",
       "      <td>700-799</td>\n",
       "      <td>W. DONOVAN</td>\n",
       "      <td>1.0</td>\n",
       "    </tr>\n",
       "    <tr>\n",
       "      <th>63725</th>\n",
       "      <td>2013-06-11</td>\n",
       "      <td>22</td>\n",
       "      <td>Burglary</td>\n",
       "      <td>NaN</td>\n",
       "      <td>UNK</td>\n",
       "      <td>-</td>\n",
       "      <td>-</td>\n",
       "      <td>2200-2299</td>\n",
       "      <td>W. DALLAS</td>\n",
       "      <td>1.0</td>\n",
       "    </tr>\n",
       "    <tr>\n",
       "      <th>66184</th>\n",
       "      <td>2014-06-11</td>\n",
       "      <td>14</td>\n",
       "      <td>Theft</td>\n",
       "      <td>NaN</td>\n",
       "      <td>UNK</td>\n",
       "      <td>ST</td>\n",
       "      <td>-</td>\n",
       "      <td>400-499</td>\n",
       "      <td>MAIN</td>\n",
       "      <td>1.0</td>\n",
       "    </tr>\n",
       "    <tr>\n",
       "      <th>66185</th>\n",
       "      <td>2014-06-25</td>\n",
       "      <td>14</td>\n",
       "      <td>Theft</td>\n",
       "      <td>NaN</td>\n",
       "      <td>UNK</td>\n",
       "      <td>-</td>\n",
       "      <td>-</td>\n",
       "      <td>2100-2199</td>\n",
       "      <td>MAIN</td>\n",
       "      <td>1.0</td>\n",
       "    </tr>\n",
       "    <tr>\n",
       "      <th>66318</th>\n",
       "      <td>2014-06-05</td>\n",
       "      <td>13</td>\n",
       "      <td>Theft</td>\n",
       "      <td>NaN</td>\n",
       "      <td>UNK</td>\n",
       "      <td>-</td>\n",
       "      <td>S</td>\n",
       "      <td>2600-2699</td>\n",
       "      <td>LP W 405</td>\n",
       "      <td>1.0</td>\n",
       "    </tr>\n",
       "  </tbody>\n",
       "</table>\n",
       "</div>"
      ],
      "text/plain": [
       "            date hour offense_type beat premise type suffix block_range  \\\n",
       "52628 2014-07-19   11        Theft  NaN     UNK    -      -   2100-2199   \n",
       "52629 2014-07-13   08        Theft  NaN     UNK    -      -     500-599   \n",
       "52630 2014-07-26   15         Rape  NaN     UNK    -      -   6100-6199   \n",
       "52631 2014-07-13   15        Theft  NaN     UNK    -      W   7800-7899   \n",
       "52632 2014-07-14   09        Theft  NaN     UNK   LN      -   6600-6699   \n",
       "52633 2014-07-22   20        Theft  NaN     UNK    -      -         UNK   \n",
       "52634 2014-07-03   02        Theft  NaN     UNK    -      -   8400-8499   \n",
       "52635 2014-07-16   13        Theft  NaN     UNK    -      -         UNK   \n",
       "52636 2014-07-26   14         Rape  NaN     UNK    -      -   6100-6199   \n",
       "52637 2014-07-10   20        Theft  NaN     UNK    -      -     800-899   \n",
       "63534 2014-06-13   14        Theft  NaN     UNK    -      -   5400-5499   \n",
       "63724 2013-12-01   11        Theft  NaN     UNK    -      -     700-799   \n",
       "63725 2013-06-11   22     Burglary  NaN     UNK    -      -   2200-2299   \n",
       "66184 2014-06-11   14        Theft  NaN     UNK   ST      -     400-499   \n",
       "66185 2014-06-25   14        Theft  NaN     UNK    -      -   2100-2199   \n",
       "66318 2014-06-05   13        Theft  NaN     UNK    -      S   2600-2699   \n",
       "\n",
       "             street_name  offenses  \n",
       "52628            VINTAGE       1.0  \n",
       "52629             W.38TH       1.0  \n",
       "52630           ATTWATER       1.0  \n",
       "52631            FM 1960       1.0  \n",
       "52632              MERRY       1.0  \n",
       "52633             WALKER       1.0  \n",
       "52634         S. GESSNER       1.0  \n",
       "52635              PEASE       1.0  \n",
       "52636           ATTWATER       1.0  \n",
       "52637  GESSNER SUITE 970       1.0  \n",
       "63534    WEST LOOP S SER       1.0  \n",
       "63724         W. DONOVAN       1.0  \n",
       "63725          W. DALLAS       1.0  \n",
       "66184               MAIN       1.0  \n",
       "66185               MAIN       1.0  \n",
       "66318           LP W 405       1.0  "
      ]
     },
     "execution_count": 33,
     "metadata": {},
     "output_type": "execute_result"
    }
   ],
   "source": [
    "df[df.beat.isna()]"
   ]
  },
  {
   "cell_type": "code",
   "execution_count": 34,
   "metadata": {},
   "outputs": [],
   "source": [
    "## Change null values to UNK\n",
    "\n",
    "df[\"beat\"].fillna(\"UNK\", inplace = True)"
   ]
  },
  {
   "cell_type": "code",
   "execution_count": null,
   "metadata": {},
   "outputs": [],
   "source": []
  },
  {
   "cell_type": "code",
   "execution_count": null,
   "metadata": {},
   "outputs": [],
   "source": []
  },
  {
   "cell_type": "code",
   "execution_count": 36,
   "metadata": {},
   "outputs": [
    {
     "data": {
      "text/plain": [
       "date            0\n",
       "hour            0\n",
       "offense_type    0\n",
       "beat            0\n",
       "premise         0\n",
       "type            0\n",
       "suffix          0\n",
       "block_range     0\n",
       "street_name     0\n",
       "offenses        0\n",
       "dtype: int64"
      ]
     },
     "execution_count": 36,
     "metadata": {},
     "output_type": "execute_result"
    }
   ],
   "source": [
    "df.apply(lambda x: sum(x.isnull()))"
   ]
  },
  {
   "cell_type": "code",
   "execution_count": 37,
   "metadata": {},
   "outputs": [
    {
     "data": {
      "image/png": "[encoded data removed]",
      "text/plain": [
       "<Figure size 1080x288 with 1 Axes>"
      ]
     },
     "metadata": {},
     "output_type": "display_data"
    }
   ],
   "source": [
    "plt.figure(figsize=(15,4))\n",
    "sns.heatmap(df.isnull(),yticklabels=False,cbar=False,cmap='viridis')\n",
    "plt.title('Missing data')\n",
    "plt.show()"
   ]
  },
  {
   "cell_type": "code",
   "execution_count": null,
   "metadata": {},
   "outputs": [],
   "source": []
  },
  {
   "cell_type": "markdown",
   "metadata": {},
   "source": [
    "## Combine columns "
   ]
  },
  {
   "cell_type": "markdown",
   "metadata": {},
   "source": [
    "## Combine date & hour to one column"
   ]
  },
  {
   "cell_type": "code",
   "execution_count": 40,
   "metadata": {},
   "outputs": [],
   "source": [
    "# convert two columns into one datetime\n",
    "df['date_time'] = pd.to_datetime(df['date']) + pd.to_timedelta(df['hour'], unit='h')\n",
    "\n",
    "# drop columns\n",
    "df = df.drop(['date','hour'], axis = 1)"
   ]
  },
  {
   "cell_type": "code",
   "execution_count": 41,
   "metadata": {},
   "outputs": [
    {
     "name": "stdout",
     "output_type": "stream",
     "text": [
      "<class 'pandas.core.frame.DataFrame'>\n",
      "RangeIndex: 121746 entries, 0 to 121745\n",
      "Data columns (total 9 columns):\n",
      " #   Column        Non-Null Count   Dtype         \n",
      "---  ------        --------------   -----         \n",
      " 0   offense_type  121746 non-null  object        \n",
      " 1   beat          121746 non-null  object        \n",
      " 2   premise       121746 non-null  object        \n",
      " 3   type          121746 non-null  object        \n",
      " 4   suffix        121746 non-null  object        \n",
      " 5   block_range   121746 non-null  object        \n",
      " 6   street_name   121746 non-null  object        \n",
      " 7   offenses      121746 non-null  float64       \n",
      " 8   date_time     121746 non-null  datetime64[ns]\n",
      "dtypes: datetime64[ns](1), float64(1), object(7)\n",
      "memory usage: 8.4+ MB\n"
     ]
    }
   ],
   "source": [
    "df.info()"
   ]
  },
  {
   "cell_type": "code",
   "execution_count": 42,
   "metadata": {},
   "outputs": [
    {
     "data": {
      "text/html": [
       "<div>\n",
       "<style scoped>\n",
       "    .dataframe tbody tr th:only-of-type {\n",
       "        vertical-align: middle;\n",
       "    }\n",
       "\n",
       "    .dataframe tbody tr th {\n",
       "        vertical-align: top;\n",
       "    }\n",
       "\n",
       "    .dataframe thead th {\n",
       "        text-align: right;\n",
       "    }\n",
       "</style>\n",
       "<table border=\"1\" class=\"dataframe\">\n",
       "  <thead>\n",
       "    <tr style=\"text-align: right;\">\n",
       "      <th></th>\n",
       "      <th>offense_type</th>\n",
       "      <th>beat</th>\n",
       "      <th>premise</th>\n",
       "      <th>type</th>\n",
       "      <th>suffix</th>\n",
       "      <th>block_range</th>\n",
       "      <th>street_name</th>\n",
       "      <th>offenses</th>\n",
       "      <th>date_time</th>\n",
       "    </tr>\n",
       "  </thead>\n",
       "  <tbody>\n",
       "    <tr>\n",
       "      <th>0</th>\n",
       "      <td>Murder</td>\n",
       "      <td>14D30</td>\n",
       "      <td>18D</td>\n",
       "      <td>BLVD</td>\n",
       "      <td>-</td>\n",
       "      <td>8500-8599</td>\n",
       "      <td>MARTIN LUTHER KING</td>\n",
       "      <td>1.0</td>\n",
       "      <td>2014-04-19 17:00:00</td>\n",
       "    </tr>\n",
       "    <tr>\n",
       "      <th>1</th>\n",
       "      <td>Murder</td>\n",
       "      <td>10H20</td>\n",
       "      <td>13R</td>\n",
       "      <td>ST</td>\n",
       "      <td>-</td>\n",
       "      <td>3600-3699</td>\n",
       "      <td>MCKINNEY</td>\n",
       "      <td>1.0</td>\n",
       "      <td>2014-04-28 05:00:00</td>\n",
       "    </tr>\n",
       "    <tr>\n",
       "      <th>2</th>\n",
       "      <td>Murder</td>\n",
       "      <td>5F30</td>\n",
       "      <td>20A</td>\n",
       "      <td>-</td>\n",
       "      <td>-</td>\n",
       "      <td>7400-7499</td>\n",
       "      <td>HILLMONT</td>\n",
       "      <td>3.0</td>\n",
       "      <td>2014-04-27 18:00:00</td>\n",
       "    </tr>\n",
       "    <tr>\n",
       "      <th>3</th>\n",
       "      <td>Murder</td>\n",
       "      <td>17E10</td>\n",
       "      <td>20A</td>\n",
       "      <td>-</td>\n",
       "      <td>-</td>\n",
       "      <td>5400-5499</td>\n",
       "      <td>RENWICK</td>\n",
       "      <td>2.0</td>\n",
       "      <td>2014-04-09 18:00:00</td>\n",
       "    </tr>\n",
       "    <tr>\n",
       "      <th>4</th>\n",
       "      <td>Murder</td>\n",
       "      <td>18F50</td>\n",
       "      <td>03B</td>\n",
       "      <td>AVE</td>\n",
       "      <td>-</td>\n",
       "      <td>9300-9399</td>\n",
       "      <td>RICHMOND</td>\n",
       "      <td>1.0</td>\n",
       "      <td>2014-04-24 03:00:00</td>\n",
       "    </tr>\n",
       "  </tbody>\n",
       "</table>\n",
       "</div>"
      ],
      "text/plain": [
       "  offense_type   beat premise  type suffix block_range         street_name  \\\n",
       "0       Murder  14D30     18D  BLVD      -   8500-8599  MARTIN LUTHER KING   \n",
       "1       Murder  10H20     13R    ST      -   3600-3699            MCKINNEY   \n",
       "2       Murder   5F30     20A     -      -   7400-7499            HILLMONT   \n",
       "3       Murder  17E10     20A     -      -   5400-5499             RENWICK   \n",
       "4       Murder  18F50     03B   AVE      -   9300-9399            RICHMOND   \n",
       "\n",
       "   offenses           date_time  \n",
       "0       1.0 2014-04-19 17:00:00  \n",
       "1       1.0 2014-04-28 05:00:00  \n",
       "2       3.0 2014-04-27 18:00:00  \n",
       "3       2.0 2014-04-09 18:00:00  \n",
       "4       1.0 2014-04-24 03:00:00  "
      ]
     },
     "execution_count": 42,
     "metadata": {},
     "output_type": "execute_result"
    }
   ],
   "source": [
    "df.head()"
   ]
  },
  {
   "cell_type": "markdown",
   "metadata": {},
   "source": [
    "## Convert offenses to integer"
   ]
  },
  {
   "cell_type": "code",
   "execution_count": 43,
   "metadata": {},
   "outputs": [],
   "source": [
    "# convert offenses to int\n",
    "df['offenses'] = df['offenses'].astype('int64')"
   ]
  },
  {
   "cell_type": "code",
   "execution_count": 44,
   "metadata": {},
   "outputs": [
    {
     "name": "stdout",
     "output_type": "stream",
     "text": [
      "<class 'pandas.core.frame.DataFrame'>\n",
      "RangeIndex: 121746 entries, 0 to 121745\n",
      "Data columns (total 9 columns):\n",
      " #   Column        Non-Null Count   Dtype         \n",
      "---  ------        --------------   -----         \n",
      " 0   offense_type  121746 non-null  object        \n",
      " 1   beat          121746 non-null  object        \n",
      " 2   premise       121746 non-null  object        \n",
      " 3   type          121746 non-null  object        \n",
      " 4   suffix        121746 non-null  object        \n",
      " 5   block_range   121746 non-null  object        \n",
      " 6   street_name   121746 non-null  object        \n",
      " 7   offenses      121746 non-null  int64         \n",
      " 8   date_time     121746 non-null  datetime64[ns]\n",
      "dtypes: datetime64[ns](1), int64(1), object(7)\n",
      "memory usage: 8.4+ MB\n"
     ]
    }
   ],
   "source": [
    "df.info()"
   ]
  },
  {
   "cell_type": "markdown",
   "metadata": {},
   "source": [
    "## change order of columns"
   ]
  },
  {
   "cell_type": "code",
   "execution_count": 45,
   "metadata": {},
   "outputs": [
    {
     "data": {
      "text/html": [
       "<div>\n",
       "<style scoped>\n",
       "    .dataframe tbody tr th:only-of-type {\n",
       "        vertical-align: middle;\n",
       "    }\n",
       "\n",
       "    .dataframe tbody tr th {\n",
       "        vertical-align: top;\n",
       "    }\n",
       "\n",
       "    .dataframe thead th {\n",
       "        text-align: right;\n",
       "    }\n",
       "</style>\n",
       "<table border=\"1\" class=\"dataframe\">\n",
       "  <thead>\n",
       "    <tr style=\"text-align: right;\">\n",
       "      <th></th>\n",
       "      <th>date_time</th>\n",
       "      <th>offenses</th>\n",
       "      <th>offense_type</th>\n",
       "      <th>block_range</th>\n",
       "      <th>street_name</th>\n",
       "      <th>type</th>\n",
       "      <th>suffix</th>\n",
       "      <th>beat</th>\n",
       "      <th>premise</th>\n",
       "    </tr>\n",
       "  </thead>\n",
       "  <tbody>\n",
       "    <tr>\n",
       "      <th>0</th>\n",
       "      <td>2014-04-19 17:00:00</td>\n",
       "      <td>1</td>\n",
       "      <td>Murder</td>\n",
       "      <td>8500-8599</td>\n",
       "      <td>MARTIN LUTHER KING</td>\n",
       "      <td>BLVD</td>\n",
       "      <td>-</td>\n",
       "      <td>14D30</td>\n",
       "      <td>18D</td>\n",
       "    </tr>\n",
       "    <tr>\n",
       "      <th>1</th>\n",
       "      <td>2014-04-28 05:00:00</td>\n",
       "      <td>1</td>\n",
       "      <td>Murder</td>\n",
       "      <td>3600-3699</td>\n",
       "      <td>MCKINNEY</td>\n",
       "      <td>ST</td>\n",
       "      <td>-</td>\n",
       "      <td>10H20</td>\n",
       "      <td>13R</td>\n",
       "    </tr>\n",
       "    <tr>\n",
       "      <th>2</th>\n",
       "      <td>2014-04-27 18:00:00</td>\n",
       "      <td>3</td>\n",
       "      <td>Murder</td>\n",
       "      <td>7400-7499</td>\n",
       "      <td>HILLMONT</td>\n",
       "      <td>-</td>\n",
       "      <td>-</td>\n",
       "      <td>5F30</td>\n",
       "      <td>20A</td>\n",
       "    </tr>\n",
       "    <tr>\n",
       "      <th>3</th>\n",
       "      <td>2014-04-09 18:00:00</td>\n",
       "      <td>2</td>\n",
       "      <td>Murder</td>\n",
       "      <td>5400-5499</td>\n",
       "      <td>RENWICK</td>\n",
       "      <td>-</td>\n",
       "      <td>-</td>\n",
       "      <td>17E10</td>\n",
       "      <td>20A</td>\n",
       "    </tr>\n",
       "    <tr>\n",
       "      <th>4</th>\n",
       "      <td>2014-04-24 03:00:00</td>\n",
       "      <td>1</td>\n",
       "      <td>Murder</td>\n",
       "      <td>9300-9399</td>\n",
       "      <td>RICHMOND</td>\n",
       "      <td>AVE</td>\n",
       "      <td>-</td>\n",
       "      <td>18F50</td>\n",
       "      <td>03B</td>\n",
       "    </tr>\n",
       "  </tbody>\n",
       "</table>\n",
       "</div>"
      ],
      "text/plain": [
       "            date_time  offenses offense_type block_range         street_name  \\\n",
       "0 2014-04-19 17:00:00         1       Murder   8500-8599  MARTIN LUTHER KING   \n",
       "1 2014-04-28 05:00:00         1       Murder   3600-3699            MCKINNEY   \n",
       "2 2014-04-27 18:00:00         3       Murder   7400-7499            HILLMONT   \n",
       "3 2014-04-09 18:00:00         2       Murder   5400-5499             RENWICK   \n",
       "4 2014-04-24 03:00:00         1       Murder   9300-9399            RICHMOND   \n",
       "\n",
       "   type suffix   beat premise  \n",
       "0  BLVD      -  14D30     18D  \n",
       "1    ST      -  10H20     13R  \n",
       "2     -      -   5F30     20A  \n",
       "3     -      -  17E10     20A  \n",
       "4   AVE      -  18F50     03B  "
      ]
     },
     "execution_count": 45,
     "metadata": {},
     "output_type": "execute_result"
    }
   ],
   "source": [
    "col_ord =['date_time','offenses','offense_type', 'block_range', 'street_name', 'type', 'suffix','beat', 'premise']\n",
    "df = df[col_ord]\n",
    "df.head()"
   ]
  },
  {
   "cell_type": "markdown",
   "metadata": {},
   "source": [
    "## Save to bucket"
   ]
  },
  {
   "cell_type": "code",
   "execution_count": 46,
   "metadata": {},
   "outputs": [
    {
     "data": {
      "text/plain": [
       "'s3://salas-data/capstone/inter-data/crime-data/crime_2014.csv'"
      ]
     },
     "execution_count": 46,
     "metadata": {},
     "output_type": "execute_result"
    }
   ],
   "source": [
    "bucket = 'salas-data'\n",
    "file_name = f'crime_{year}.csv'\n",
    "path_to_save = f\"s3://{bucket}/capstone/inter-data/crime-data/{file_name}\"\n",
    "path_to_save"
   ]
  },
  {
   "cell_type": "code",
   "execution_count": null,
   "metadata": {},
   "outputs": [],
   "source": []
  },
  {
   "cell_type": "code",
   "execution_count": 47,
   "metadata": {},
   "outputs": [
    {
     "name": "stdout",
     "output_type": "stream",
     "text": [
      "CPU times: user 484 ms, sys: 31.2 ms, total: 516 ms\n",
      "Wall time: 7.1 s\n"
     ]
    },
    {
     "data": {
      "text/plain": [
       "{'paths': ['s3://salas-data/capstone/inter-data/crime-data/crime_2014.csv'],\n",
       " 'partitions_values': {}}"
      ]
     },
     "execution_count": 47,
     "metadata": {},
     "output_type": "execute_result"
    }
   ],
   "source": [
    "%%time\n",
    "wr.s3.to_csv(df, path_to_save, index=False)"
   ]
  }
 ],
 "metadata": {
  "kernelspec": {
   "display_name": "Python 3",
   "language": "python",
   "name": "python3"
  },
  "language_info": {
   "codemirror_mode": {
    "name": "ipython",
    "version": 3
   },
   "file_extension": ".py",
   "mimetype": "text/x-python",
   "name": "python",
   "nbconvert_exporter": "python",
   "pygments_lexer": "ipython3",
   "version": "3.8.5"
  }
 },
 "nbformat": 4,
 "nbformat_minor": 4
}
