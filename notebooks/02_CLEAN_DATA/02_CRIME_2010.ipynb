{
 "cells": [
  {
   "cell_type": "code",
   "execution_count": 1,
   "metadata": {},
   "outputs": [
    {
     "data": {
      "text/html": [
       "        <script type=\"text/javascript\">\n",
       "        window.PlotlyConfig = {MathJaxConfig: 'local'};\n",
       "        if (window.MathJax) {MathJax.Hub.Config({SVG: {font: \"STIX-Web\"}});}\n",
       "        if (typeof require !== 'undefined') {\n",
       "        require.undef(\"plotly\");\n",
       "        requirejs.config({\n",
       "            paths: {\n",
       "                'plotly': ['https://cdn.plot.ly/plotly-2.2.0.min']\n",
       "            }\n",
       "        });\n",
       "        require(['plotly'], function(Plotly) {\n",
       "            window._Plotly = Plotly;\n",
       "        });\n",
       "        }\n",
       "        </script>\n",
       "        "
      ]
     },
     "metadata": {},
     "output_type": "display_data"
    },
    {
     "name": "stdout",
     "output_type": "stream",
     "text": [
      "\n",
      "python\t3.9.6 (default, Jul 30 2021, 16:35:19) \n",
      "[GCC 7.5.0]\n",
      "---------------------\n",
      "Versions:\n",
      "----------------------\n",
      "pandas      1.3.1\n",
      "numpy       1.20.3\n",
      "matplotlib  3.4.2\n",
      "seaborn     0.11.1\n",
      "plotly      5.1.0\n",
      "boto3       1.18.16\n",
      "awswrangler 2.10.0\n",
      "----------------------\n",
      "\n",
      "\n",
      "Loaded Libraries\n",
      "-------------------\n",
      "import pandas as pd\n",
      "import numpy as np\n",
      "import sys,os\n",
      "import re\n",
      "import glob\n",
      "import pickle\n",
      "import seaborn as sns\n",
      "import matplotlib.pyplot as plt\n",
      "import plotly\n",
      "import plotly.graph_objs as go\n",
      "from plotly.offline import download_plotlyjs, init_notebook_mode, plot, iplot\n",
      "init_notebook_mode(connected=True)\n",
      "\n",
      "\n",
      "## AWS\n",
      "import boto3\n",
      "import awswrangler as wr\n",
      "----------------\n",
      "\n",
      "\n",
      "GLOBAL VARIABLES\n",
      "--------------------------\n",
      "# Creating the low level functional client\n",
      "client = boto3.client(\n",
      "    's3',\n",
      "    aws_access_key_id = AWS_KEY_ID,\n",
      "    aws_secret_access_key = AWS_SECRET,\n",
      ")\n",
      "    \n",
      "# Creating the high level object oriented interface\n",
      "resource = boto3.resource(\n",
      "    's3',\n",
      "    aws_access_key_id = AWS_KEY_ID,\n",
      "    aws_secret_access_key = AWS_SECRET,\n",
      ")\n",
      "\n",
      "HERE_DIR: list current directory path\n",
      "------------------------------\n",
      "\n",
      "# SAVE PLOTS\n",
      "To save a plot call\n",
      "`save_plots(fig_variable,'name_of_plot')`\n",
      "\n",
      "source file: src/start.py\n",
      "\n",
      "\n"
     ]
    }
   ],
   "source": [
    "%run ../../src/start.py"
   ]
  },
  {
   "cell_type": "markdown",
   "metadata": {},
   "source": [
    "## Load Data"
   ]
  },
  {
   "cell_type": "code",
   "execution_count": 2,
   "metadata": {},
   "outputs": [],
   "source": [
    "# year file\n",
    "year = '2010'"
   ]
  },
  {
   "cell_type": "code",
   "execution_count": 3,
   "metadata": {},
   "outputs": [],
   "source": [
    "# helper function\n",
    "def bucket_raw_path(bucket_name,path_dir):\n",
    "    ''''''\n",
    "    raw_path = f's3://{bucket_name}/{path_dir}'\n",
    "    return raw_path"
   ]
  },
  {
   "cell_type": "code",
   "execution_count": 4,
   "metadata": {},
   "outputs": [
    {
     "data": {
      "text/plain": [
       "'s3://dend-data/capstone/raw-data/crime-data/2010'"
      ]
     },
     "execution_count": 4,
     "metadata": {},
     "output_type": "execute_result"
    }
   ],
   "source": [
    "raw = bucket_raw_path('dend-data',f'capstone/raw-data/crime-data/{year}')\n",
    "raw"
   ]
  },
  {
   "cell_type": "markdown",
   "metadata": {},
   "source": [
    "## List objects in bucket"
   ]
  },
  {
   "cell_type": "code",
   "execution_count": 5,
   "metadata": {},
   "outputs": [
    {
     "data": {
      "text/plain": [
       "['s3://dend-data/capstone/raw-data/crime-data/2010/apr10.xlsx',\n",
       " 's3://dend-data/capstone/raw-data/crime-data/2010/aug10.xlsx',\n",
       " 's3://dend-data/capstone/raw-data/crime-data/2010/dec10.xlsx',\n",
       " 's3://dend-data/capstone/raw-data/crime-data/2010/feb10.xlsx',\n",
       " 's3://dend-data/capstone/raw-data/crime-data/2010/jan10.xlsx',\n",
       " 's3://dend-data/capstone/raw-data/crime-data/2010/jul10.xlsx',\n",
       " 's3://dend-data/capstone/raw-data/crime-data/2010/jun10.xlsx',\n",
       " 's3://dend-data/capstone/raw-data/crime-data/2010/mar10.xlsx',\n",
       " 's3://dend-data/capstone/raw-data/crime-data/2010/may10.xlsx',\n",
       " 's3://dend-data/capstone/raw-data/crime-data/2010/nov10.xlsx',\n",
       " 's3://dend-data/capstone/raw-data/crime-data/2010/oct10.xlsx',\n",
       " 's3://dend-data/capstone/raw-data/crime-data/2010/sep10.xlsx']"
      ]
     },
     "execution_count": 5,
     "metadata": {},
     "output_type": "execute_result"
    }
   ],
   "source": [
    "wr.s3.list_objects(raw)"
   ]
  },
  {
   "cell_type": "markdown",
   "metadata": {},
   "source": [
    "## Create dataframe from s3 files"
   ]
  },
  {
   "cell_type": "code",
   "execution_count": 6,
   "metadata": {},
   "outputs": [],
   "source": [
    "def s3_files_to_df(s3_files_path):\n",
    "    ''' load s3 file path from wr result\n",
    "    returns a dataframe of concat files '''\n",
    "    df_list = []\n",
    "    for i in wr.s3.list_objects(s3_files_path):\n",
    "        temp = wr.s3.read_excel(i, engine='openpyxl')\n",
    "        df_list.append(temp)\n",
    "    # create df from list files\n",
    "    df = pd.concat(df_list, ignore_index=True)\n",
    "    return df"
   ]
  },
  {
   "cell_type": "code",
   "execution_count": 7,
   "metadata": {},
   "outputs": [
    {
     "name": "stdout",
     "output_type": "stream",
     "text": [
      "<class 'pandas.core.frame.DataFrame'>\n",
      "RangeIndex: 136262 entries, 0 to 136261\n",
      "Data columns (total 14 columns):\n",
      " #   Column         Non-Null Count   Dtype         \n",
      "---  ------         --------------   -----         \n",
      " 0   Date           136262 non-null  datetime64[ns]\n",
      " 1   Hour           136262 non-null  int64         \n",
      " 2   Offense Type   136262 non-null  object        \n",
      " 3   Beat           136262 non-null  object        \n",
      " 4   Premise        136262 non-null  object        \n",
      " 5   Block Range    136262 non-null  object        \n",
      " 6   Street Name    136262 non-null  object        \n",
      " 7   Type           136262 non-null  object        \n",
      " 8   Suffix         136262 non-null  object        \n",
      " 9   . Of Offenses  124555 non-null  float64       \n",
      " 10  . of Offenses  11707 non-null   float64       \n",
      " 11  Field11        0 non-null       float64       \n",
      " 12  Field12        0 non-null       float64       \n",
      " 13  Field13        0 non-null       float64       \n",
      "dtypes: datetime64[ns](1), float64(5), int64(1), object(7)\n",
      "memory usage: 14.6+ MB\n",
      "CPU times: user 30.7 s, sys: 34.3 ms, total: 30.8 s\n",
      "Wall time: 42.5 s\n"
     ]
    }
   ],
   "source": [
    "%%time\n",
    "df = s3_files_to_df(raw)\n",
    "df.info()"
   ]
  },
  {
   "cell_type": "code",
   "execution_count": 8,
   "metadata": {},
   "outputs": [],
   "source": [
    "## cleanup columns\n",
    "#df.columns = df.columns.str.lower().str.replace(' ','_').str.replace('\\n','_').str.strip()"
   ]
  },
  {
   "cell_type": "code",
   "execution_count": 9,
   "metadata": {},
   "outputs": [
    {
     "name": "stdout",
     "output_type": "stream",
     "text": [
      "<class 'pandas.core.frame.DataFrame'>\n",
      "RangeIndex: 136262 entries, 0 to 136261\n",
      "Data columns (total 14 columns):\n",
      " #   Column         Non-Null Count   Dtype         \n",
      "---  ------         --------------   -----         \n",
      " 0   Date           136262 non-null  datetime64[ns]\n",
      " 1   Hour           136262 non-null  int64         \n",
      " 2   Offense Type   136262 non-null  object        \n",
      " 3   Beat           136262 non-null  object        \n",
      " 4   Premise        136262 non-null  object        \n",
      " 5   Block Range    136262 non-null  object        \n",
      " 6   Street Name    136262 non-null  object        \n",
      " 7   Type           136262 non-null  object        \n",
      " 8   Suffix         136262 non-null  object        \n",
      " 9   . Of Offenses  124555 non-null  float64       \n",
      " 10  . of Offenses  11707 non-null   float64       \n",
      " 11  Field11        0 non-null       float64       \n",
      " 12  Field12        0 non-null       float64       \n",
      " 13  Field13        0 non-null       float64       \n",
      "dtypes: datetime64[ns](1), float64(5), int64(1), object(7)\n",
      "memory usage: 14.6+ MB\n"
     ]
    }
   ],
   "source": [
    "df.info()"
   ]
  },
  {
   "cell_type": "code",
   "execution_count": 10,
   "metadata": {},
   "outputs": [
    {
     "data": {
      "text/html": [
       "<div>\n",
       "<style scoped>\n",
       "    .dataframe tbody tr th:only-of-type {\n",
       "        vertical-align: middle;\n",
       "    }\n",
       "\n",
       "    .dataframe tbody tr th {\n",
       "        vertical-align: top;\n",
       "    }\n",
       "\n",
       "    .dataframe thead th {\n",
       "        text-align: right;\n",
       "    }\n",
       "</style>\n",
       "<table border=\"1\" class=\"dataframe\">\n",
       "  <thead>\n",
       "    <tr style=\"text-align: right;\">\n",
       "      <th></th>\n",
       "      <th>Date</th>\n",
       "      <th>Hour</th>\n",
       "      <th>Offense Type</th>\n",
       "      <th>Beat</th>\n",
       "      <th>Premise</th>\n",
       "      <th>Block Range</th>\n",
       "      <th>Street Name</th>\n",
       "      <th>Type</th>\n",
       "      <th>Suffix</th>\n",
       "      <th>. Of Offenses</th>\n",
       "      <th>. of Offenses</th>\n",
       "      <th>Field11</th>\n",
       "      <th>Field12</th>\n",
       "      <th>Field13</th>\n",
       "    </tr>\n",
       "  </thead>\n",
       "  <tbody>\n",
       "    <tr>\n",
       "      <th>0</th>\n",
       "      <td>2010-04-17</td>\n",
       "      <td>0</td>\n",
       "      <td>Murder</td>\n",
       "      <td>13D20</td>\n",
       "      <td>05W</td>\n",
       "      <td>6600-6699</td>\n",
       "      <td>HEFFERNAN</td>\n",
       "      <td>-</td>\n",
       "      <td>-</td>\n",
       "      <td>1.0</td>\n",
       "      <td>NaN</td>\n",
       "      <td>NaN</td>\n",
       "      <td>NaN</td>\n",
       "      <td>NaN</td>\n",
       "    </tr>\n",
       "    <tr>\n",
       "      <th>1</th>\n",
       "      <td>2010-04-08</td>\n",
       "      <td>20</td>\n",
       "      <td>Murder</td>\n",
       "      <td>11H40</td>\n",
       "      <td>20R</td>\n",
       "      <td>10100-10199</td>\n",
       "      <td>LUCORE</td>\n",
       "      <td>-</td>\n",
       "      <td>-</td>\n",
       "      <td>1.0</td>\n",
       "      <td>NaN</td>\n",
       "      <td>NaN</td>\n",
       "      <td>NaN</td>\n",
       "      <td>NaN</td>\n",
       "    </tr>\n",
       "    <tr>\n",
       "      <th>2</th>\n",
       "      <td>2010-04-01</td>\n",
       "      <td>22</td>\n",
       "      <td>Murder</td>\n",
       "      <td>19G20</td>\n",
       "      <td>13R</td>\n",
       "      <td>11400-11499</td>\n",
       "      <td>CARVEL</td>\n",
       "      <td>LN</td>\n",
       "      <td>-</td>\n",
       "      <td>2.0</td>\n",
       "      <td>NaN</td>\n",
       "      <td>NaN</td>\n",
       "      <td>NaN</td>\n",
       "      <td>NaN</td>\n",
       "    </tr>\n",
       "    <tr>\n",
       "      <th>3</th>\n",
       "      <td>2010-04-17</td>\n",
       "      <td>1</td>\n",
       "      <td>Murder</td>\n",
       "      <td>10H60</td>\n",
       "      <td>13R</td>\n",
       "      <td>3700-3799</td>\n",
       "      <td>WHEELER</td>\n",
       "      <td>-</td>\n",
       "      <td>-</td>\n",
       "      <td>1.0</td>\n",
       "      <td>NaN</td>\n",
       "      <td>NaN</td>\n",
       "      <td>NaN</td>\n",
       "      <td>NaN</td>\n",
       "    </tr>\n",
       "    <tr>\n",
       "      <th>4</th>\n",
       "      <td>2010-04-08</td>\n",
       "      <td>23</td>\n",
       "      <td>Murder</td>\n",
       "      <td>14D30</td>\n",
       "      <td>20R</td>\n",
       "      <td>5100-5199</td>\n",
       "      <td>MYRTLEWOOD</td>\n",
       "      <td>DR</td>\n",
       "      <td>-</td>\n",
       "      <td>1.0</td>\n",
       "      <td>NaN</td>\n",
       "      <td>NaN</td>\n",
       "      <td>NaN</td>\n",
       "      <td>NaN</td>\n",
       "    </tr>\n",
       "  </tbody>\n",
       "</table>\n",
       "</div>"
      ],
      "text/plain": [
       "        Date  Hour Offense Type   Beat Premise  Block Range Street Name Type  \\\n",
       "0 2010-04-17     0       Murder  13D20     05W    6600-6699   HEFFERNAN    -   \n",
       "1 2010-04-08    20       Murder  11H40     20R  10100-10199      LUCORE    -   \n",
       "2 2010-04-01    22       Murder  19G20     13R  11400-11499      CARVEL   LN   \n",
       "3 2010-04-17     1       Murder  10H60     13R    3700-3799     WHEELER    -   \n",
       "4 2010-04-08    23       Murder  14D30     20R    5100-5199  MYRTLEWOOD   DR   \n",
       "\n",
       "  Suffix  . Of Offenses  . of Offenses  Field11  Field12  Field13  \n",
       "0      -            1.0            NaN      NaN      NaN      NaN  \n",
       "1      -            1.0            NaN      NaN      NaN      NaN  \n",
       "2      -            2.0            NaN      NaN      NaN      NaN  \n",
       "3      -            1.0            NaN      NaN      NaN      NaN  \n",
       "4      -            1.0            NaN      NaN      NaN      NaN  "
      ]
     },
     "execution_count": 10,
     "metadata": {},
     "output_type": "execute_result"
    }
   ],
   "source": [
    "df.head()"
   ]
  },
  {
   "cell_type": "markdown",
   "metadata": {},
   "source": [
    "## Show null data"
   ]
  },
  {
   "cell_type": "code",
   "execution_count": 11,
   "metadata": {},
   "outputs": [
    {
     "data": {
      "text/plain": [
       "Date                  0\n",
       "Hour                  0\n",
       "Offense Type          0\n",
       "Beat                  0\n",
       "Premise               0\n",
       "Block Range           0\n",
       "Street Name           0\n",
       "Type                  0\n",
       "Suffix                0\n",
       ". Of Offenses     11707\n",
       ". of Offenses    124555\n",
       "Field11          136262\n",
       "Field12          136262\n",
       "Field13          136262\n",
       "dtype: int64"
      ]
     },
     "execution_count": 11,
     "metadata": {},
     "output_type": "execute_result"
    }
   ],
   "source": [
    "df.apply(lambda x: sum(x.isnull()))"
   ]
  },
  {
   "cell_type": "code",
   "execution_count": 12,
   "metadata": {},
   "outputs": [
    {
     "data": {
      "text/html": [
       "<div>\n",
       "<style scoped>\n",
       "    .dataframe tbody tr th:only-of-type {\n",
       "        vertical-align: middle;\n",
       "    }\n",
       "\n",
       "    .dataframe tbody tr th {\n",
       "        vertical-align: top;\n",
       "    }\n",
       "\n",
       "    .dataframe thead th {\n",
       "        text-align: right;\n",
       "    }\n",
       "</style>\n",
       "<table border=\"1\" class=\"dataframe\">\n",
       "  <thead>\n",
       "    <tr style=\"text-align: right;\">\n",
       "      <th></th>\n",
       "      <th>null_percent</th>\n",
       "    </tr>\n",
       "  </thead>\n",
       "  <tbody>\n",
       "    <tr>\n",
       "      <th>. Of Offenses</th>\n",
       "      <td>8.59</td>\n",
       "    </tr>\n",
       "    <tr>\n",
       "      <th>Date</th>\n",
       "      <td>0.00</td>\n",
       "    </tr>\n",
       "    <tr>\n",
       "      <th>Hour</th>\n",
       "      <td>0.00</td>\n",
       "    </tr>\n",
       "    <tr>\n",
       "      <th>Offense Type</th>\n",
       "      <td>0.00</td>\n",
       "    </tr>\n",
       "    <tr>\n",
       "      <th>Beat</th>\n",
       "      <td>0.00</td>\n",
       "    </tr>\n",
       "    <tr>\n",
       "      <th>Premise</th>\n",
       "      <td>0.00</td>\n",
       "    </tr>\n",
       "    <tr>\n",
       "      <th>Block Range</th>\n",
       "      <td>0.00</td>\n",
       "    </tr>\n",
       "    <tr>\n",
       "      <th>Street Name</th>\n",
       "      <td>0.00</td>\n",
       "    </tr>\n",
       "    <tr>\n",
       "      <th>Type</th>\n",
       "      <td>0.00</td>\n",
       "    </tr>\n",
       "    <tr>\n",
       "      <th>Suffix</th>\n",
       "      <td>0.00</td>\n",
       "    </tr>\n",
       "  </tbody>\n",
       "</table>\n",
       "</div>"
      ],
      "text/plain": [
       "               null_percent\n",
       ". Of Offenses          8.59\n",
       "Date                   0.00\n",
       "Hour                   0.00\n",
       "Offense Type           0.00\n",
       "Beat                   0.00\n",
       "Premise                0.00\n",
       "Block Range            0.00\n",
       "Street Name            0.00\n",
       "Type                   0.00\n",
       "Suffix                 0.00"
      ]
     },
     "execution_count": 12,
     "metadata": {},
     "output_type": "execute_result"
    }
   ],
   "source": [
    "# create null percentage of column as dataframe\n",
    "null_per_df = pd.DataFrame(df.isna().mean().round(4) * 100)\n",
    "# rename columns\n",
    "null_per_df.rename(columns={'index': 'col_name', 0: 'null_percent'}, inplace=True)\n",
    "\n",
    "# filter data <20% null values\n",
    "per_filter = null_per_df.null_percent<=90\n",
    "null_per_df[per_filter].sort_values(by='null_percent',ascending=False)"
   ]
  },
  {
   "cell_type": "code",
   "execution_count": 13,
   "metadata": {},
   "outputs": [
    {
     "data": {
      "image/png": "[encoded data removed]",
      "text/plain": [
       "<Figure size 1500x400 with 1 Axes>"
      ]
     },
     "metadata": {},
     "output_type": "display_data"
    }
   ],
   "source": [
    "plt.figure(figsize=(15,4))\n",
    "sns.heatmap(df.isnull(),yticklabels=False,cbar=False,cmap='viridis')\n",
    "plt.title('Missing data')\n",
    "plt.show()"
   ]
  },
  {
   "cell_type": "code",
   "execution_count": 14,
   "metadata": {},
   "outputs": [
    {
     "data": {
      "text/plain": [
       "['Date',\n",
       " 'Hour',\n",
       " 'Offense Type',\n",
       " 'Beat',\n",
       " 'Premise',\n",
       " 'Block Range',\n",
       " 'Street Name',\n",
       " 'Type',\n",
       " 'Suffix',\n",
       " '. Of Offenses',\n",
       " '. of Offenses',\n",
       " 'Field11',\n",
       " 'Field12',\n",
       " 'Field13']"
      ]
     },
     "execution_count": 14,
     "metadata": {},
     "output_type": "execute_result"
    }
   ],
   "source": [
    "df.columns.tolist()"
   ]
  },
  {
   "cell_type": "markdown",
   "metadata": {},
   "source": [
    "## Combine Coluumns"
   ]
  },
  {
   "cell_type": "code",
   "execution_count": 15,
   "metadata": {},
   "outputs": [],
   "source": [
    "# combine columns into a new one\n",
    "df['offenses'] = pd.concat([df['. Of Offenses'].dropna(),\n",
    "                              df['. of Offenses'].dropna()]).reindex_like(df)\n",
    "\n",
    "# drop columns\n",
    "df = df.drop(['. Of Offenses','. of Offenses', 'Field11',\n",
    " 'Field12',\n",
    " 'Field13'], axis = 1)"
   ]
  },
  {
   "cell_type": "code",
   "execution_count": 16,
   "metadata": {},
   "outputs": [],
   "source": [
    "## cleanup columns\n",
    "df.columns = df.columns.str.lower().str.replace(' ','_').str.replace('\\n','_').str.strip()"
   ]
  },
  {
   "cell_type": "code",
   "execution_count": 17,
   "metadata": {},
   "outputs": [
    {
     "data": {
      "text/plain": [
       "date            0\n",
       "hour            0\n",
       "offense_type    0\n",
       "beat            0\n",
       "premise         0\n",
       "block_range     0\n",
       "street_name     0\n",
       "type            0\n",
       "suffix          0\n",
       "offenses        0\n",
       "dtype: int64"
      ]
     },
     "execution_count": 17,
     "metadata": {},
     "output_type": "execute_result"
    }
   ],
   "source": [
    "df.apply(lambda x: sum(x.isnull()))"
   ]
  },
  {
   "cell_type": "code",
   "execution_count": 18,
   "metadata": {},
   "outputs": [
    {
     "data": {
      "image/png": "[encoded data removed]",
      "text/plain": [
       "<Figure size 1500x400 with 1 Axes>"
      ]
     },
     "metadata": {},
     "output_type": "display_data"
    }
   ],
   "source": [
    "plt.figure(figsize=(15,4))\n",
    "sns.heatmap(df.isnull(),yticklabels=False,cbar=False,cmap='viridis')\n",
    "plt.title('Missing data')\n",
    "plt.show()"
   ]
  },
  {
   "cell_type": "code",
   "execution_count": 19,
   "metadata": {},
   "outputs": [
    {
     "data": {
      "text/html": [
       "<div>\n",
       "<style scoped>\n",
       "    .dataframe tbody tr th:only-of-type {\n",
       "        vertical-align: middle;\n",
       "    }\n",
       "\n",
       "    .dataframe tbody tr th {\n",
       "        vertical-align: top;\n",
       "    }\n",
       "\n",
       "    .dataframe thead th {\n",
       "        text-align: right;\n",
       "    }\n",
       "</style>\n",
       "<table border=\"1\" class=\"dataframe\">\n",
       "  <thead>\n",
       "    <tr style=\"text-align: right;\">\n",
       "      <th></th>\n",
       "      <th>date</th>\n",
       "      <th>hour</th>\n",
       "      <th>offense_type</th>\n",
       "      <th>beat</th>\n",
       "      <th>premise</th>\n",
       "      <th>block_range</th>\n",
       "      <th>street_name</th>\n",
       "      <th>type</th>\n",
       "      <th>suffix</th>\n",
       "      <th>offenses</th>\n",
       "    </tr>\n",
       "  </thead>\n",
       "  <tbody>\n",
       "    <tr>\n",
       "      <th>0</th>\n",
       "      <td>2010-04-17</td>\n",
       "      <td>0</td>\n",
       "      <td>Murder</td>\n",
       "      <td>13D20</td>\n",
       "      <td>05W</td>\n",
       "      <td>6600-6699</td>\n",
       "      <td>HEFFERNAN</td>\n",
       "      <td>-</td>\n",
       "      <td>-</td>\n",
       "      <td>1.0</td>\n",
       "    </tr>\n",
       "    <tr>\n",
       "      <th>1</th>\n",
       "      <td>2010-04-08</td>\n",
       "      <td>20</td>\n",
       "      <td>Murder</td>\n",
       "      <td>11H40</td>\n",
       "      <td>20R</td>\n",
       "      <td>10100-10199</td>\n",
       "      <td>LUCORE</td>\n",
       "      <td>-</td>\n",
       "      <td>-</td>\n",
       "      <td>1.0</td>\n",
       "    </tr>\n",
       "    <tr>\n",
       "      <th>2</th>\n",
       "      <td>2010-04-01</td>\n",
       "      <td>22</td>\n",
       "      <td>Murder</td>\n",
       "      <td>19G20</td>\n",
       "      <td>13R</td>\n",
       "      <td>11400-11499</td>\n",
       "      <td>CARVEL</td>\n",
       "      <td>LN</td>\n",
       "      <td>-</td>\n",
       "      <td>2.0</td>\n",
       "    </tr>\n",
       "    <tr>\n",
       "      <th>3</th>\n",
       "      <td>2010-04-17</td>\n",
       "      <td>1</td>\n",
       "      <td>Murder</td>\n",
       "      <td>10H60</td>\n",
       "      <td>13R</td>\n",
       "      <td>3700-3799</td>\n",
       "      <td>WHEELER</td>\n",
       "      <td>-</td>\n",
       "      <td>-</td>\n",
       "      <td>1.0</td>\n",
       "    </tr>\n",
       "    <tr>\n",
       "      <th>4</th>\n",
       "      <td>2010-04-08</td>\n",
       "      <td>23</td>\n",
       "      <td>Murder</td>\n",
       "      <td>14D30</td>\n",
       "      <td>20R</td>\n",
       "      <td>5100-5199</td>\n",
       "      <td>MYRTLEWOOD</td>\n",
       "      <td>DR</td>\n",
       "      <td>-</td>\n",
       "      <td>1.0</td>\n",
       "    </tr>\n",
       "  </tbody>\n",
       "</table>\n",
       "</div>"
      ],
      "text/plain": [
       "        date  hour offense_type   beat premise  block_range street_name type  \\\n",
       "0 2010-04-17     0       Murder  13D20     05W    6600-6699   HEFFERNAN    -   \n",
       "1 2010-04-08    20       Murder  11H40     20R  10100-10199      LUCORE    -   \n",
       "2 2010-04-01    22       Murder  19G20     13R  11400-11499      CARVEL   LN   \n",
       "3 2010-04-17     1       Murder  10H60     13R    3700-3799     WHEELER    -   \n",
       "4 2010-04-08    23       Murder  14D30     20R    5100-5199  MYRTLEWOOD   DR   \n",
       "\n",
       "  suffix  offenses  \n",
       "0      -       1.0  \n",
       "1      -       1.0  \n",
       "2      -       2.0  \n",
       "3      -       1.0  \n",
       "4      -       1.0  "
      ]
     },
     "execution_count": 19,
     "metadata": {},
     "output_type": "execute_result"
    }
   ],
   "source": [
    "df.head()"
   ]
  },
  {
   "cell_type": "markdown",
   "metadata": {},
   "source": [
    "## Combine columns "
   ]
  },
  {
   "cell_type": "markdown",
   "metadata": {},
   "source": [
    "## Combine date & hour to one column"
   ]
  },
  {
   "cell_type": "code",
   "execution_count": 20,
   "metadata": {},
   "outputs": [],
   "source": [
    "# convert two columns into one datetime\n",
    "df['date_time'] = pd.to_datetime(df['date']) + pd.to_timedelta(df['hour'], unit='h')\n",
    "\n",
    "# # drop columns\n",
    "# df = df.drop(['date','hour'], axis = 1)"
   ]
  },
  {
   "cell_type": "code",
   "execution_count": 21,
   "metadata": {},
   "outputs": [],
   "source": [
    "# # combine columns into a new one\n",
    "# df['offenses'] = pd.concat([df['#_of_offenses'].dropna(),\n",
    "#                               df['._of_offenses'].dropna()]).reindex_like(df)\n",
    "\n",
    "# # drop columns\n",
    "# df = df.drop(['#_of_offenses','._of_offenses'], axis = 1)"
   ]
  },
  {
   "cell_type": "code",
   "execution_count": 22,
   "metadata": {},
   "outputs": [
    {
     "data": {
      "text/plain": [
       "date            0\n",
       "hour            0\n",
       "offense_type    0\n",
       "beat            0\n",
       "premise         0\n",
       "block_range     0\n",
       "street_name     0\n",
       "type            0\n",
       "suffix          0\n",
       "offenses        0\n",
       "date_time       0\n",
       "dtype: int64"
      ]
     },
     "execution_count": 22,
     "metadata": {},
     "output_type": "execute_result"
    }
   ],
   "source": [
    "df.apply(lambda x: sum(x.isnull()))"
   ]
  },
  {
   "cell_type": "code",
   "execution_count": 23,
   "metadata": {},
   "outputs": [
    {
     "data": {
      "image/png": "[encoded data removed]",
      "text/plain": [
       "<Figure size 1500x400 with 1 Axes>"
      ]
     },
     "metadata": {},
     "output_type": "display_data"
    }
   ],
   "source": [
    "plt.figure(figsize=(15,4))\n",
    "sns.heatmap(df.isnull(),yticklabels=False,cbar=False,cmap='viridis')\n",
    "plt.title('Missing data')\n",
    "plt.show()"
   ]
  },
  {
   "cell_type": "code",
   "execution_count": 24,
   "metadata": {},
   "outputs": [
    {
     "name": "stdout",
     "output_type": "stream",
     "text": [
      "<class 'pandas.core.frame.DataFrame'>\n",
      "RangeIndex: 136262 entries, 0 to 136261\n",
      "Data columns (total 11 columns):\n",
      " #   Column        Non-Null Count   Dtype         \n",
      "---  ------        --------------   -----         \n",
      " 0   date          136262 non-null  datetime64[ns]\n",
      " 1   hour          136262 non-null  int64         \n",
      " 2   offense_type  136262 non-null  object        \n",
      " 3   beat          136262 non-null  object        \n",
      " 4   premise       136262 non-null  object        \n",
      " 5   block_range   136262 non-null  object        \n",
      " 6   street_name   136262 non-null  object        \n",
      " 7   type          136262 non-null  object        \n",
      " 8   suffix        136262 non-null  object        \n",
      " 9   offenses      136262 non-null  float64       \n",
      " 10  date_time     136262 non-null  datetime64[ns]\n",
      "dtypes: datetime64[ns](2), float64(1), int64(1), object(7)\n",
      "memory usage: 11.4+ MB\n"
     ]
    }
   ],
   "source": [
    "df.info()"
   ]
  },
  {
   "cell_type": "code",
   "execution_count": 25,
   "metadata": {},
   "outputs": [
    {
     "data": {
      "text/html": [
       "<div>\n",
       "<style scoped>\n",
       "    .dataframe tbody tr th:only-of-type {\n",
       "        vertical-align: middle;\n",
       "    }\n",
       "\n",
       "    .dataframe tbody tr th {\n",
       "        vertical-align: top;\n",
       "    }\n",
       "\n",
       "    .dataframe thead th {\n",
       "        text-align: right;\n",
       "    }\n",
       "</style>\n",
       "<table border=\"1\" class=\"dataframe\">\n",
       "  <thead>\n",
       "    <tr style=\"text-align: right;\">\n",
       "      <th></th>\n",
       "      <th>date</th>\n",
       "      <th>hour</th>\n",
       "      <th>offense_type</th>\n",
       "      <th>beat</th>\n",
       "      <th>premise</th>\n",
       "      <th>block_range</th>\n",
       "      <th>street_name</th>\n",
       "      <th>type</th>\n",
       "      <th>suffix</th>\n",
       "      <th>offenses</th>\n",
       "      <th>date_time</th>\n",
       "    </tr>\n",
       "  </thead>\n",
       "  <tbody>\n",
       "    <tr>\n",
       "      <th>0</th>\n",
       "      <td>2010-04-17</td>\n",
       "      <td>0</td>\n",
       "      <td>Murder</td>\n",
       "      <td>13D20</td>\n",
       "      <td>05W</td>\n",
       "      <td>6600-6699</td>\n",
       "      <td>HEFFERNAN</td>\n",
       "      <td>-</td>\n",
       "      <td>-</td>\n",
       "      <td>1.0</td>\n",
       "      <td>2010-04-17 00:00:00</td>\n",
       "    </tr>\n",
       "    <tr>\n",
       "      <th>1</th>\n",
       "      <td>2010-04-08</td>\n",
       "      <td>20</td>\n",
       "      <td>Murder</td>\n",
       "      <td>11H40</td>\n",
       "      <td>20R</td>\n",
       "      <td>10100-10199</td>\n",
       "      <td>LUCORE</td>\n",
       "      <td>-</td>\n",
       "      <td>-</td>\n",
       "      <td>1.0</td>\n",
       "      <td>2010-04-08 20:00:00</td>\n",
       "    </tr>\n",
       "    <tr>\n",
       "      <th>2</th>\n",
       "      <td>2010-04-01</td>\n",
       "      <td>22</td>\n",
       "      <td>Murder</td>\n",
       "      <td>19G20</td>\n",
       "      <td>13R</td>\n",
       "      <td>11400-11499</td>\n",
       "      <td>CARVEL</td>\n",
       "      <td>LN</td>\n",
       "      <td>-</td>\n",
       "      <td>2.0</td>\n",
       "      <td>2010-04-01 22:00:00</td>\n",
       "    </tr>\n",
       "    <tr>\n",
       "      <th>3</th>\n",
       "      <td>2010-04-17</td>\n",
       "      <td>1</td>\n",
       "      <td>Murder</td>\n",
       "      <td>10H60</td>\n",
       "      <td>13R</td>\n",
       "      <td>3700-3799</td>\n",
       "      <td>WHEELER</td>\n",
       "      <td>-</td>\n",
       "      <td>-</td>\n",
       "      <td>1.0</td>\n",
       "      <td>2010-04-17 01:00:00</td>\n",
       "    </tr>\n",
       "    <tr>\n",
       "      <th>4</th>\n",
       "      <td>2010-04-08</td>\n",
       "      <td>23</td>\n",
       "      <td>Murder</td>\n",
       "      <td>14D30</td>\n",
       "      <td>20R</td>\n",
       "      <td>5100-5199</td>\n",
       "      <td>MYRTLEWOOD</td>\n",
       "      <td>DR</td>\n",
       "      <td>-</td>\n",
       "      <td>1.0</td>\n",
       "      <td>2010-04-08 23:00:00</td>\n",
       "    </tr>\n",
       "  </tbody>\n",
       "</table>\n",
       "</div>"
      ],
      "text/plain": [
       "        date  hour offense_type   beat premise  block_range street_name type  \\\n",
       "0 2010-04-17     0       Murder  13D20     05W    6600-6699   HEFFERNAN    -   \n",
       "1 2010-04-08    20       Murder  11H40     20R  10100-10199      LUCORE    -   \n",
       "2 2010-04-01    22       Murder  19G20     13R  11400-11499      CARVEL   LN   \n",
       "3 2010-04-17     1       Murder  10H60     13R    3700-3799     WHEELER    -   \n",
       "4 2010-04-08    23       Murder  14D30     20R    5100-5199  MYRTLEWOOD   DR   \n",
       "\n",
       "  suffix  offenses           date_time  \n",
       "0      -       1.0 2010-04-17 00:00:00  \n",
       "1      -       1.0 2010-04-08 20:00:00  \n",
       "2      -       2.0 2010-04-01 22:00:00  \n",
       "3      -       1.0 2010-04-17 01:00:00  \n",
       "4      -       1.0 2010-04-08 23:00:00  "
      ]
     },
     "execution_count": 25,
     "metadata": {},
     "output_type": "execute_result"
    }
   ],
   "source": [
    "df.head()"
   ]
  },
  {
   "cell_type": "markdown",
   "metadata": {},
   "source": [
    "## Convert offenses to integer"
   ]
  },
  {
   "cell_type": "code",
   "execution_count": 26,
   "metadata": {},
   "outputs": [],
   "source": [
    "# convert offenses to int\n",
    "df['offenses'] = df['offenses'].astype('int64')"
   ]
  },
  {
   "cell_type": "code",
   "execution_count": 27,
   "metadata": {},
   "outputs": [
    {
     "name": "stdout",
     "output_type": "stream",
     "text": [
      "<class 'pandas.core.frame.DataFrame'>\n",
      "RangeIndex: 136262 entries, 0 to 136261\n",
      "Data columns (total 11 columns):\n",
      " #   Column        Non-Null Count   Dtype         \n",
      "---  ------        --------------   -----         \n",
      " 0   date          136262 non-null  datetime64[ns]\n",
      " 1   hour          136262 non-null  int64         \n",
      " 2   offense_type  136262 non-null  object        \n",
      " 3   beat          136262 non-null  object        \n",
      " 4   premise       136262 non-null  object        \n",
      " 5   block_range   136262 non-null  object        \n",
      " 6   street_name   136262 non-null  object        \n",
      " 7   type          136262 non-null  object        \n",
      " 8   suffix        136262 non-null  object        \n",
      " 9   offenses      136262 non-null  int64         \n",
      " 10  date_time     136262 non-null  datetime64[ns]\n",
      "dtypes: datetime64[ns](2), int64(2), object(7)\n",
      "memory usage: 11.4+ MB\n"
     ]
    }
   ],
   "source": [
    "df.info()"
   ]
  },
  {
   "cell_type": "markdown",
   "metadata": {},
   "source": [
    "# Create a year column\n",
    "- to identify orgin of data"
   ]
  },
  {
   "cell_type": "code",
   "execution_count": 28,
   "metadata": {},
   "outputs": [],
   "source": [
    "df['year'] = 2010"
   ]
  },
  {
   "cell_type": "code",
   "execution_count": 29,
   "metadata": {},
   "outputs": [
    {
     "data": {
      "text/html": [
       "<div>\n",
       "<style scoped>\n",
       "    .dataframe tbody tr th:only-of-type {\n",
       "        vertical-align: middle;\n",
       "    }\n",
       "\n",
       "    .dataframe tbody tr th {\n",
       "        vertical-align: top;\n",
       "    }\n",
       "\n",
       "    .dataframe thead th {\n",
       "        text-align: right;\n",
       "    }\n",
       "</style>\n",
       "<table border=\"1\" class=\"dataframe\">\n",
       "  <thead>\n",
       "    <tr style=\"text-align: right;\">\n",
       "      <th></th>\n",
       "      <th>date</th>\n",
       "      <th>hour</th>\n",
       "      <th>offense_type</th>\n",
       "      <th>beat</th>\n",
       "      <th>premise</th>\n",
       "      <th>block_range</th>\n",
       "      <th>street_name</th>\n",
       "      <th>type</th>\n",
       "      <th>suffix</th>\n",
       "      <th>offenses</th>\n",
       "      <th>date_time</th>\n",
       "      <th>year</th>\n",
       "    </tr>\n",
       "  </thead>\n",
       "  <tbody>\n",
       "    <tr>\n",
       "      <th>0</th>\n",
       "      <td>2010-04-17</td>\n",
       "      <td>0</td>\n",
       "      <td>Murder</td>\n",
       "      <td>13D20</td>\n",
       "      <td>05W</td>\n",
       "      <td>6600-6699</td>\n",
       "      <td>HEFFERNAN</td>\n",
       "      <td>-</td>\n",
       "      <td>-</td>\n",
       "      <td>1</td>\n",
       "      <td>2010-04-17 00:00:00</td>\n",
       "      <td>2010</td>\n",
       "    </tr>\n",
       "    <tr>\n",
       "      <th>1</th>\n",
       "      <td>2010-04-08</td>\n",
       "      <td>20</td>\n",
       "      <td>Murder</td>\n",
       "      <td>11H40</td>\n",
       "      <td>20R</td>\n",
       "      <td>10100-10199</td>\n",
       "      <td>LUCORE</td>\n",
       "      <td>-</td>\n",
       "      <td>-</td>\n",
       "      <td>1</td>\n",
       "      <td>2010-04-08 20:00:00</td>\n",
       "      <td>2010</td>\n",
       "    </tr>\n",
       "    <tr>\n",
       "      <th>2</th>\n",
       "      <td>2010-04-01</td>\n",
       "      <td>22</td>\n",
       "      <td>Murder</td>\n",
       "      <td>19G20</td>\n",
       "      <td>13R</td>\n",
       "      <td>11400-11499</td>\n",
       "      <td>CARVEL</td>\n",
       "      <td>LN</td>\n",
       "      <td>-</td>\n",
       "      <td>2</td>\n",
       "      <td>2010-04-01 22:00:00</td>\n",
       "      <td>2010</td>\n",
       "    </tr>\n",
       "    <tr>\n",
       "      <th>3</th>\n",
       "      <td>2010-04-17</td>\n",
       "      <td>1</td>\n",
       "      <td>Murder</td>\n",
       "      <td>10H60</td>\n",
       "      <td>13R</td>\n",
       "      <td>3700-3799</td>\n",
       "      <td>WHEELER</td>\n",
       "      <td>-</td>\n",
       "      <td>-</td>\n",
       "      <td>1</td>\n",
       "      <td>2010-04-17 01:00:00</td>\n",
       "      <td>2010</td>\n",
       "    </tr>\n",
       "    <tr>\n",
       "      <th>4</th>\n",
       "      <td>2010-04-08</td>\n",
       "      <td>23</td>\n",
       "      <td>Murder</td>\n",
       "      <td>14D30</td>\n",
       "      <td>20R</td>\n",
       "      <td>5100-5199</td>\n",
       "      <td>MYRTLEWOOD</td>\n",
       "      <td>DR</td>\n",
       "      <td>-</td>\n",
       "      <td>1</td>\n",
       "      <td>2010-04-08 23:00:00</td>\n",
       "      <td>2010</td>\n",
       "    </tr>\n",
       "  </tbody>\n",
       "</table>\n",
       "</div>"
      ],
      "text/plain": [
       "        date  hour offense_type   beat premise  block_range street_name type  \\\n",
       "0 2010-04-17     0       Murder  13D20     05W    6600-6699   HEFFERNAN    -   \n",
       "1 2010-04-08    20       Murder  11H40     20R  10100-10199      LUCORE    -   \n",
       "2 2010-04-01    22       Murder  19G20     13R  11400-11499      CARVEL   LN   \n",
       "3 2010-04-17     1       Murder  10H60     13R    3700-3799     WHEELER    -   \n",
       "4 2010-04-08    23       Murder  14D30     20R    5100-5199  MYRTLEWOOD   DR   \n",
       "\n",
       "  suffix  offenses           date_time  year  \n",
       "0      -         1 2010-04-17 00:00:00  2010  \n",
       "1      -         1 2010-04-08 20:00:00  2010  \n",
       "2      -         2 2010-04-01 22:00:00  2010  \n",
       "3      -         1 2010-04-17 01:00:00  2010  \n",
       "4      -         1 2010-04-08 23:00:00  2010  "
      ]
     },
     "execution_count": 29,
     "metadata": {},
     "output_type": "execute_result"
    }
   ],
   "source": [
    "df.head()"
   ]
  },
  {
   "cell_type": "code",
   "execution_count": null,
   "metadata": {},
   "outputs": [],
   "source": []
  },
  {
   "cell_type": "markdown",
   "metadata": {},
   "source": [
    "## change order of columns"
   ]
  },
  {
   "cell_type": "code",
   "execution_count": 30,
   "metadata": {},
   "outputs": [
    {
     "data": {
      "text/html": [
       "<div>\n",
       "<style scoped>\n",
       "    .dataframe tbody tr th:only-of-type {\n",
       "        vertical-align: middle;\n",
       "    }\n",
       "\n",
       "    .dataframe tbody tr th {\n",
       "        vertical-align: top;\n",
       "    }\n",
       "\n",
       "    .dataframe thead th {\n",
       "        text-align: right;\n",
       "    }\n",
       "</style>\n",
       "<table border=\"1\" class=\"dataframe\">\n",
       "  <thead>\n",
       "    <tr style=\"text-align: right;\">\n",
       "      <th></th>\n",
       "      <th>date_time</th>\n",
       "      <th>offenses</th>\n",
       "      <th>offense_type</th>\n",
       "      <th>block_range</th>\n",
       "      <th>street_name</th>\n",
       "      <th>type</th>\n",
       "      <th>suffix</th>\n",
       "      <th>beat</th>\n",
       "      <th>premise</th>\n",
       "      <th>date</th>\n",
       "      <th>hour</th>\n",
       "      <th>year</th>\n",
       "    </tr>\n",
       "  </thead>\n",
       "  <tbody>\n",
       "    <tr>\n",
       "      <th>0</th>\n",
       "      <td>2010-04-17 00:00:00</td>\n",
       "      <td>1</td>\n",
       "      <td>Murder</td>\n",
       "      <td>6600-6699</td>\n",
       "      <td>HEFFERNAN</td>\n",
       "      <td>-</td>\n",
       "      <td>-</td>\n",
       "      <td>13D20</td>\n",
       "      <td>05W</td>\n",
       "      <td>2010-04-17</td>\n",
       "      <td>0</td>\n",
       "      <td>2010</td>\n",
       "    </tr>\n",
       "    <tr>\n",
       "      <th>1</th>\n",
       "      <td>2010-04-08 20:00:00</td>\n",
       "      <td>1</td>\n",
       "      <td>Murder</td>\n",
       "      <td>10100-10199</td>\n",
       "      <td>LUCORE</td>\n",
       "      <td>-</td>\n",
       "      <td>-</td>\n",
       "      <td>11H40</td>\n",
       "      <td>20R</td>\n",
       "      <td>2010-04-08</td>\n",
       "      <td>20</td>\n",
       "      <td>2010</td>\n",
       "    </tr>\n",
       "    <tr>\n",
       "      <th>2</th>\n",
       "      <td>2010-04-01 22:00:00</td>\n",
       "      <td>2</td>\n",
       "      <td>Murder</td>\n",
       "      <td>11400-11499</td>\n",
       "      <td>CARVEL</td>\n",
       "      <td>LN</td>\n",
       "      <td>-</td>\n",
       "      <td>19G20</td>\n",
       "      <td>13R</td>\n",
       "      <td>2010-04-01</td>\n",
       "      <td>22</td>\n",
       "      <td>2010</td>\n",
       "    </tr>\n",
       "    <tr>\n",
       "      <th>3</th>\n",
       "      <td>2010-04-17 01:00:00</td>\n",
       "      <td>1</td>\n",
       "      <td>Murder</td>\n",
       "      <td>3700-3799</td>\n",
       "      <td>WHEELER</td>\n",
       "      <td>-</td>\n",
       "      <td>-</td>\n",
       "      <td>10H60</td>\n",
       "      <td>13R</td>\n",
       "      <td>2010-04-17</td>\n",
       "      <td>1</td>\n",
       "      <td>2010</td>\n",
       "    </tr>\n",
       "    <tr>\n",
       "      <th>4</th>\n",
       "      <td>2010-04-08 23:00:00</td>\n",
       "      <td>1</td>\n",
       "      <td>Murder</td>\n",
       "      <td>5100-5199</td>\n",
       "      <td>MYRTLEWOOD</td>\n",
       "      <td>DR</td>\n",
       "      <td>-</td>\n",
       "      <td>14D30</td>\n",
       "      <td>20R</td>\n",
       "      <td>2010-04-08</td>\n",
       "      <td>23</td>\n",
       "      <td>2010</td>\n",
       "    </tr>\n",
       "  </tbody>\n",
       "</table>\n",
       "</div>"
      ],
      "text/plain": [
       "            date_time  offenses offense_type  block_range street_name type  \\\n",
       "0 2010-04-17 00:00:00         1       Murder    6600-6699   HEFFERNAN    -   \n",
       "1 2010-04-08 20:00:00         1       Murder  10100-10199      LUCORE    -   \n",
       "2 2010-04-01 22:00:00         2       Murder  11400-11499      CARVEL   LN   \n",
       "3 2010-04-17 01:00:00         1       Murder    3700-3799     WHEELER    -   \n",
       "4 2010-04-08 23:00:00         1       Murder    5100-5199  MYRTLEWOOD   DR   \n",
       "\n",
       "  suffix   beat premise       date  hour  year  \n",
       "0      -  13D20     05W 2010-04-17     0  2010  \n",
       "1      -  11H40     20R 2010-04-08    20  2010  \n",
       "2      -  19G20     13R 2010-04-01    22  2010  \n",
       "3      -  10H60     13R 2010-04-17     1  2010  \n",
       "4      -  14D30     20R 2010-04-08    23  2010  "
      ]
     },
     "execution_count": 30,
     "metadata": {},
     "output_type": "execute_result"
    }
   ],
   "source": [
    "col_ord =['date_time','offenses','offense_type', 'block_range', 'street_name', 'type', 'suffix','beat', 'premise','date','hour','year']\n",
    "df = df[col_ord]\n",
    "df.head()"
   ]
  },
  {
   "cell_type": "code",
   "execution_count": 37,
   "metadata": {},
   "outputs": [
    {
     "name": "stdout",
     "output_type": "stream",
     "text": [
      "<class 'pandas.core.frame.DataFrame'>\n",
      "RangeIndex: 136262 entries, 0 to 136261\n",
      "Data columns (total 12 columns):\n",
      " #   Column        Non-Null Count   Dtype         \n",
      "---  ------        --------------   -----         \n",
      " 0   date_time     136262 non-null  datetime64[ns]\n",
      " 1   offenses      136262 non-null  int64         \n",
      " 2   offense_type  136262 non-null  object        \n",
      " 3   block_range   136262 non-null  object        \n",
      " 4   street_name   136262 non-null  object        \n",
      " 5   type          136262 non-null  object        \n",
      " 6   suffix        136262 non-null  object        \n",
      " 7   beat          136262 non-null  object        \n",
      " 8   premise       136262 non-null  object        \n",
      " 9   date          136262 non-null  datetime64[ns]\n",
      " 10  hour          136262 non-null  int64         \n",
      " 11  year          136262 non-null  int64         \n",
      "dtypes: datetime64[ns](2), int64(3), object(7)\n",
      "memory usage: 12.5+ MB\n"
     ]
    }
   ],
   "source": [
    "df.info()"
   ]
  },
  {
   "cell_type": "code",
   "execution_count": 38,
   "metadata": {},
   "outputs": [
    {
     "data": {
      "text/html": [
       "<div>\n",
       "<style scoped>\n",
       "    .dataframe tbody tr th:only-of-type {\n",
       "        vertical-align: middle;\n",
       "    }\n",
       "\n",
       "    .dataframe tbody tr th {\n",
       "        vertical-align: top;\n",
       "    }\n",
       "\n",
       "    .dataframe thead th {\n",
       "        text-align: right;\n",
       "    }\n",
       "</style>\n",
       "<table border=\"1\" class=\"dataframe\">\n",
       "  <thead>\n",
       "    <tr style=\"text-align: right;\">\n",
       "      <th></th>\n",
       "      <th>date_time</th>\n",
       "      <th>offenses</th>\n",
       "      <th>offense_type</th>\n",
       "      <th>block_range</th>\n",
       "      <th>street_name</th>\n",
       "      <th>type</th>\n",
       "      <th>suffix</th>\n",
       "      <th>beat</th>\n",
       "      <th>premise</th>\n",
       "      <th>date</th>\n",
       "      <th>hour</th>\n",
       "      <th>year</th>\n",
       "    </tr>\n",
       "  </thead>\n",
       "  <tbody>\n",
       "    <tr>\n",
       "      <th>924</th>\n",
       "      <td>2010-04-18 11:00:00</td>\n",
       "      <td>1</td>\n",
       "      <td>Aggravated Assault</td>\n",
       "      <td>17200-17299</td>\n",
       "      <td>IMPERIAL VALLEY</td>\n",
       "      <td>DR</td>\n",
       "      <td>-</td>\n",
       "      <td>6B60</td>\n",
       "      <td>20A</td>\n",
       "      <td>2010-04-18</td>\n",
       "      <td>11</td>\n",
       "      <td>2010</td>\n",
       "    </tr>\n",
       "    <tr>\n",
       "      <th>2165</th>\n",
       "      <td>2010-04-09 08:00:00</td>\n",
       "      <td>1</td>\n",
       "      <td>Burglary</td>\n",
       "      <td>10300-10399</td>\n",
       "      <td>WILCREST</td>\n",
       "      <td>DR</td>\n",
       "      <td>-</td>\n",
       "      <td>19G50</td>\n",
       "      <td>20A</td>\n",
       "      <td>2010-04-09</td>\n",
       "      <td>8</td>\n",
       "      <td>2010</td>\n",
       "    </tr>\n",
       "    <tr>\n",
       "      <th>2433</th>\n",
       "      <td>2010-04-07 12:00:00</td>\n",
       "      <td>1</td>\n",
       "      <td>Burglary</td>\n",
       "      <td>6500-6599</td>\n",
       "      <td>GESSNER</td>\n",
       "      <td>DR</td>\n",
       "      <td>S</td>\n",
       "      <td>18F60</td>\n",
       "      <td>20A</td>\n",
       "      <td>2010-04-07</td>\n",
       "      <td>12</td>\n",
       "      <td>2010</td>\n",
       "    </tr>\n",
       "    <tr>\n",
       "      <th>2709</th>\n",
       "      <td>2010-04-07 14:00:00</td>\n",
       "      <td>1</td>\n",
       "      <td>Burglary</td>\n",
       "      <td>6400-6499</td>\n",
       "      <td>BANKSIDE</td>\n",
       "      <td>DR</td>\n",
       "      <td>-</td>\n",
       "      <td>17E40</td>\n",
       "      <td>20A</td>\n",
       "      <td>2010-04-07</td>\n",
       "      <td>14</td>\n",
       "      <td>2010</td>\n",
       "    </tr>\n",
       "    <tr>\n",
       "      <th>3108</th>\n",
       "      <td>2010-04-01 08:00:00</td>\n",
       "      <td>1</td>\n",
       "      <td>Burglary</td>\n",
       "      <td>6500-6599</td>\n",
       "      <td>43RD</td>\n",
       "      <td>ST</td>\n",
       "      <td>W</td>\n",
       "      <td>3B10</td>\n",
       "      <td>20A</td>\n",
       "      <td>2010-04-01</td>\n",
       "      <td>8</td>\n",
       "      <td>2010</td>\n",
       "    </tr>\n",
       "    <tr>\n",
       "      <th>...</th>\n",
       "      <td>...</td>\n",
       "      <td>...</td>\n",
       "      <td>...</td>\n",
       "      <td>...</td>\n",
       "      <td>...</td>\n",
       "      <td>...</td>\n",
       "      <td>...</td>\n",
       "      <td>...</td>\n",
       "      <td>...</td>\n",
       "      <td>...</td>\n",
       "      <td>...</td>\n",
       "      <td>...</td>\n",
       "    </tr>\n",
       "    <tr>\n",
       "      <th>135606</th>\n",
       "      <td>2010-09-27 16:00:00</td>\n",
       "      <td>1</td>\n",
       "      <td>Theft</td>\n",
       "      <td>13300-13399</td>\n",
       "      <td>NORTHWEST</td>\n",
       "      <td>FWY</td>\n",
       "      <td>-</td>\n",
       "      <td>5F30</td>\n",
       "      <td>18T</td>\n",
       "      <td>2010-09-27</td>\n",
       "      <td>16</td>\n",
       "      <td>2010</td>\n",
       "    </tr>\n",
       "    <tr>\n",
       "      <th>135665</th>\n",
       "      <td>2010-09-27 19:00:00</td>\n",
       "      <td>1</td>\n",
       "      <td>Theft</td>\n",
       "      <td>900-999</td>\n",
       "      <td>AUTUMN OAKS</td>\n",
       "      <td>DR</td>\n",
       "      <td>-</td>\n",
       "      <td>20G50</td>\n",
       "      <td>20D</td>\n",
       "      <td>2010-09-27</td>\n",
       "      <td>19</td>\n",
       "      <td>2010</td>\n",
       "    </tr>\n",
       "    <tr>\n",
       "      <th>135914</th>\n",
       "      <td>2010-09-28 18:00:00</td>\n",
       "      <td>1</td>\n",
       "      <td>Theft</td>\n",
       "      <td>11900-11999</td>\n",
       "      <td>DICKINSON</td>\n",
       "      <td>RD</td>\n",
       "      <td>-</td>\n",
       "      <td>12D20</td>\n",
       "      <td>18R</td>\n",
       "      <td>2010-09-28</td>\n",
       "      <td>18</td>\n",
       "      <td>2010</td>\n",
       "    </tr>\n",
       "    <tr>\n",
       "      <th>136043</th>\n",
       "      <td>2010-09-29 23:00:00</td>\n",
       "      <td>1</td>\n",
       "      <td>Theft</td>\n",
       "      <td>3400-3499</td>\n",
       "      <td>BERRY</td>\n",
       "      <td>RD</td>\n",
       "      <td>-</td>\n",
       "      <td>7C30</td>\n",
       "      <td>18A</td>\n",
       "      <td>2010-09-29</td>\n",
       "      <td>23</td>\n",
       "      <td>2010</td>\n",
       "    </tr>\n",
       "    <tr>\n",
       "      <th>136128</th>\n",
       "      <td>2010-08-23 09:00:00</td>\n",
       "      <td>1</td>\n",
       "      <td>Theft</td>\n",
       "      <td>2700-2799</td>\n",
       "      <td>REVERE</td>\n",
       "      <td>-</td>\n",
       "      <td>-</td>\n",
       "      <td>1A30</td>\n",
       "      <td>20A</td>\n",
       "      <td>2010-08-23</td>\n",
       "      <td>9</td>\n",
       "      <td>2010</td>\n",
       "    </tr>\n",
       "  </tbody>\n",
       "</table>\n",
       "<p>905 rows × 12 columns</p>\n",
       "</div>"
      ],
      "text/plain": [
       "                 date_time  offenses        offense_type  block_range  \\\n",
       "924    2010-04-18 11:00:00         1  Aggravated Assault  17200-17299   \n",
       "2165   2010-04-09 08:00:00         1            Burglary  10300-10399   \n",
       "2433   2010-04-07 12:00:00         1            Burglary    6500-6599   \n",
       "2709   2010-04-07 14:00:00         1            Burglary    6400-6499   \n",
       "3108   2010-04-01 08:00:00         1            Burglary    6500-6599   \n",
       "...                    ...       ...                 ...          ...   \n",
       "135606 2010-09-27 16:00:00         1               Theft  13300-13399   \n",
       "135665 2010-09-27 19:00:00         1               Theft      900-999   \n",
       "135914 2010-09-28 18:00:00         1               Theft  11900-11999   \n",
       "136043 2010-09-29 23:00:00         1               Theft    3400-3499   \n",
       "136128 2010-08-23 09:00:00         1               Theft    2700-2799   \n",
       "\n",
       "            street_name type suffix   beat premise       date  hour  year  \n",
       "924     IMPERIAL VALLEY   DR      -   6B60     20A 2010-04-18    11  2010  \n",
       "2165           WILCREST   DR      -  19G50     20A 2010-04-09     8  2010  \n",
       "2433            GESSNER   DR      S  18F60     20A 2010-04-07    12  2010  \n",
       "2709           BANKSIDE   DR      -  17E40     20A 2010-04-07    14  2010  \n",
       "3108               43RD   ST      W   3B10     20A 2010-04-01     8  2010  \n",
       "...                 ...  ...    ...    ...     ...        ...   ...   ...  \n",
       "135606        NORTHWEST  FWY      -   5F30     18T 2010-09-27    16  2010  \n",
       "135665      AUTUMN OAKS   DR      -  20G50     20D 2010-09-27    19  2010  \n",
       "135914        DICKINSON   RD      -  12D20     18R 2010-09-28    18  2010  \n",
       "136043            BERRY   RD      -   7C30     18A 2010-09-29    23  2010  \n",
       "136128           REVERE    -      -   1A30     20A 2010-08-23     9  2010  \n",
       "\n",
       "[905 rows x 12 columns]"
      ]
     },
     "execution_count": 38,
     "metadata": {},
     "output_type": "execute_result"
    }
   ],
   "source": [
    "df.loc[df.duplicated(keep='first'),:]"
   ]
  },
  {
   "cell_type": "code",
   "execution_count": null,
   "metadata": {},
   "outputs": [],
   "source": []
  },
  {
   "cell_type": "code",
   "execution_count": 39,
   "metadata": {},
   "outputs": [],
   "source": [
    "df.drop_duplicates(keep='first',inplace=True)"
   ]
  },
  {
   "cell_type": "code",
   "execution_count": 40,
   "metadata": {},
   "outputs": [
    {
     "name": "stdout",
     "output_type": "stream",
     "text": [
      "<class 'pandas.core.frame.DataFrame'>\n",
      "Int64Index: 135357 entries, 0 to 136261\n",
      "Data columns (total 12 columns):\n",
      " #   Column        Non-Null Count   Dtype         \n",
      "---  ------        --------------   -----         \n",
      " 0   date_time     135357 non-null  datetime64[ns]\n",
      " 1   offenses      135357 non-null  int64         \n",
      " 2   offense_type  135357 non-null  object        \n",
      " 3   block_range   135357 non-null  object        \n",
      " 4   street_name   135357 non-null  object        \n",
      " 5   type          135357 non-null  object        \n",
      " 6   suffix        135357 non-null  object        \n",
      " 7   beat          135357 non-null  object        \n",
      " 8   premise       135357 non-null  object        \n",
      " 9   date          135357 non-null  datetime64[ns]\n",
      " 10  hour          135357 non-null  int64         \n",
      " 11  year          135357 non-null  int64         \n",
      "dtypes: datetime64[ns](2), int64(3), object(7)\n",
      "memory usage: 13.4+ MB\n"
     ]
    }
   ],
   "source": [
    "df.info()"
   ]
  },
  {
   "cell_type": "code",
   "execution_count": null,
   "metadata": {},
   "outputs": [],
   "source": []
  },
  {
   "cell_type": "code",
   "execution_count": null,
   "metadata": {},
   "outputs": [],
   "source": []
  },
  {
   "cell_type": "code",
   "execution_count": null,
   "metadata": {},
   "outputs": [],
   "source": []
  },
  {
   "cell_type": "markdown",
   "metadata": {},
   "source": [
    "## Save to bucket"
   ]
  },
  {
   "cell_type": "code",
   "execution_count": 41,
   "metadata": {},
   "outputs": [
    {
     "data": {
      "text/plain": [
       "'s3://dend-data/capstone/inter-data/crime-data/crime_2010.csv'"
      ]
     },
     "execution_count": 41,
     "metadata": {},
     "output_type": "execute_result"
    }
   ],
   "source": [
    "bucket = 'dend-data'\n",
    "file_name = 'crime_2010.csv'\n",
    "path_to_save = f\"s3://{bucket}/capstone/inter-data/crime-data/{file_name}\"\n",
    "path_to_save"
   ]
  },
  {
   "cell_type": "code",
   "execution_count": null,
   "metadata": {},
   "outputs": [],
   "source": []
  },
  {
   "cell_type": "code",
   "execution_count": 42,
   "metadata": {},
   "outputs": [
    {
     "name": "stdout",
     "output_type": "stream",
     "text": [
      "CPU times: user 988 ms, sys: 41.4 ms, total: 1.03 s\n",
      "Wall time: 19.5 s\n"
     ]
    },
    {
     "data": {
      "text/plain": [
       "{'paths': ['s3://dend-data/capstone/inter-data/crime-data/crime_2010.csv'],\n",
       " 'partitions_values': {}}"
      ]
     },
     "execution_count": 42,
     "metadata": {},
     "output_type": "execute_result"
    }
   ],
   "source": [
    "%%time\n",
    "wr.s3.to_csv(df, path_to_save, index=False)"
   ]
  },
  {
   "cell_type": "markdown",
   "metadata": {},
   "source": [
    "# Save Sample"
   ]
  },
  {
   "cell_type": "code",
   "execution_count": 43,
   "metadata": {},
   "outputs": [
    {
     "name": "stdout",
     "output_type": "stream",
     "text": [
      "CPU times: user 32.8 ms, sys: 172 µs, total: 32.9 ms\n",
      "Wall time: 372 ms\n"
     ]
    },
    {
     "data": {
      "text/plain": [
       "{'paths': ['s3://dend-data/capstone/sample-data/crime-data/crime_2010.csv'],\n",
       " 'partitions_values': {}}"
      ]
     },
     "execution_count": 43,
     "metadata": {},
     "output_type": "execute_result"
    }
   ],
   "source": [
    "%%time\n",
    "sample_100 = df.sample(100)\n",
    "\n",
    "\n",
    "bucket = 'dend-data'\n",
    "file_name = f'crime_{year}.csv'\n",
    "path_to_save = f\"s3://{bucket}/capstone/sample-data/crime-data/{file_name}\"\n",
    "\n",
    "wr.s3.to_csv(sample_100, path_to_save, index=False)"
   ]
  },
  {
   "cell_type": "code",
   "execution_count": null,
   "metadata": {},
   "outputs": [],
   "source": []
  },
  {
   "cell_type": "code",
   "execution_count": null,
   "metadata": {},
   "outputs": [],
   "source": []
  },
  {
   "cell_type": "code",
   "execution_count": null,
   "metadata": {},
   "outputs": [],
   "source": []
  },
  {
   "cell_type": "code",
   "execution_count": null,
   "metadata": {},
   "outputs": [],
   "source": []
  },
  {
   "cell_type": "code",
   "execution_count": null,
   "metadata": {},
   "outputs": [],
   "source": []
  },
  {
   "cell_type": "code",
   "execution_count": null,
   "metadata": {},
   "outputs": [],
   "source": []
  },
  {
   "cell_type": "code",
   "execution_count": null,
   "metadata": {},
   "outputs": [],
   "source": []
  },
  {
   "cell_type": "code",
   "execution_count": null,
   "metadata": {},
   "outputs": [],
   "source": []
  },
  {
   "cell_type": "code",
   "execution_count": null,
   "metadata": {},
   "outputs": [],
   "source": []
  }
 ],
 "metadata": {
  "kernelspec": {
   "display_name": "Python 3 (ipykernel)",
   "language": "python",
   "name": "python3"
  },
  "language_info": {
   "codemirror_mode": {
    "name": "ipython",
    "version": 3
   },
   "file_extension": ".py",
   "mimetype": "text/x-python",
   "name": "python",
   "nbconvert_exporter": "python",
   "pygments_lexer": "ipython3",
   "version": "3.9.5"
  }
 },
 "nbformat": 4,
 "nbformat_minor": 4
}
