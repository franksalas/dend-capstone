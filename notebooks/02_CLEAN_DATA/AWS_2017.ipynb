{
 "cells": [
  {
   "cell_type": "code",
   "execution_count": 1,
   "metadata": {},
   "outputs": [
    {
     "data": {
      "text/html": [
       "        <script type=\"text/javascript\">\n",
       "        window.PlotlyConfig = {MathJaxConfig: 'local'};\n",
       "        if (window.MathJax) {MathJax.Hub.Config({SVG: {font: \"STIX-Web\"}});}\n",
       "        if (typeof require !== 'undefined') {\n",
       "        require.undef(\"plotly\");\n",
       "        requirejs.config({\n",
       "            paths: {\n",
       "                'plotly': ['https://cdn.plot.ly/plotly-latest.min']\n",
       "            }\n",
       "        });\n",
       "        require(['plotly'], function(Plotly) {\n",
       "            window._Plotly = Plotly;\n",
       "        });\n",
       "        }\n",
       "        </script>\n",
       "        "
      ]
     },
     "metadata": {},
     "output_type": "display_data"
    },
    {
     "name": "stdout",
     "output_type": "stream",
     "text": [
      "\n",
      "python\t3.8.5 (default, Sep  4 2020, 07:30:14) \n",
      "[GCC 7.3.0]\n",
      "---------------------\n",
      "Versions:\n",
      "----------------------\n",
      "pandas      1.1.2\n",
      "numpy       1.19.1\n",
      "matplotlib  3.3.1\n",
      "seaborn     0.11.0\n",
      "plotly      4.11.0\n",
      "boto3       1.17.106\n",
      "awswrangler 2.9.0\n",
      "----------------------\n",
      "\n",
      "\n",
      "Loaded Libraries\n",
      "-------------------\n",
      "import pandas as pd\n",
      "import numpy as np\n",
      "import sys,os\n",
      "import re\n",
      "import glob\n",
      "import pickle\n",
      "import seaborn as sns\n",
      "import matplotlib.pyplot as plt\n",
      "import plotly\n",
      "import plotly.graph_objs as go\n",
      "from plotly.offline import download_plotlyjs, init_notebook_mode, plot, iplot\n",
      "init_notebook_mode(connected=True)\n",
      "\n",
      "\n",
      "## AWS\n",
      "import boto3\n",
      "import awswrangler as wr\n",
      "----------------\n",
      "\n",
      "\n",
      "GLOBAL VARIABLES\n",
      "--------------------------\n",
      "HERE_DIR: list current directory path\n",
      "RAW_DIR: list files in `data\\raw` directory\n",
      "INTER_DIR: list files in `data\\interim` directory\n",
      "FINAL_DIR: list files in `data\\final` directory\n",
      "SRC_DIR: list files in `src\\` directory\n",
      "------------------------------\n",
      "\n",
      "# SAVE PLOTS\n",
      "To save a plot call\n",
      "`save_plots(fig_variable,'name_of_plot')`\n",
      "\n",
      "source file: src/start.py\n",
      "\n",
      "\n"
     ]
    }
   ],
   "source": [
    "%run ../src/start.py"
   ]
  },
  {
   "cell_type": "markdown",
   "metadata": {},
   "source": [
    "## Load Data"
   ]
  },
  {
   "cell_type": "code",
   "execution_count": 2,
   "metadata": {},
   "outputs": [],
   "source": [
    "# year file\n",
    "year = '2017'"
   ]
  },
  {
   "cell_type": "code",
   "execution_count": 3,
   "metadata": {},
   "outputs": [],
   "source": [
    "# helper function\n",
    "def bucket_raw_path(bucket_name,path_dir):\n",
    "    ''''''\n",
    "    raw_path = f's3://{bucket_name}/{path_dir}'\n",
    "    return raw_path"
   ]
  },
  {
   "cell_type": "code",
   "execution_count": 4,
   "metadata": {},
   "outputs": [
    {
     "data": {
      "text/plain": [
       "'s3://salas-data/capstone/raw-data/crime-data/2017'"
      ]
     },
     "execution_count": 4,
     "metadata": {},
     "output_type": "execute_result"
    }
   ],
   "source": [
    "raw = bucket_raw_path('salas-data',f'capstone/raw-data/crime-data/{year}')\n",
    "raw"
   ]
  },
  {
   "cell_type": "markdown",
   "metadata": {},
   "source": [
    "## List objects in bucket"
   ]
  },
  {
   "cell_type": "code",
   "execution_count": 5,
   "metadata": {},
   "outputs": [
    {
     "data": {
      "text/plain": [
       "['s3://salas-data/capstone/raw-data/crime-data/2017/apr17.xlsx',\n",
       " 's3://salas-data/capstone/raw-data/crime-data/2017/aug17.xlsx',\n",
       " 's3://salas-data/capstone/raw-data/crime-data/2017/dec17.xlsx',\n",
       " 's3://salas-data/capstone/raw-data/crime-data/2017/feb17.xlsx',\n",
       " 's3://salas-data/capstone/raw-data/crime-data/2017/jan17.xlsx',\n",
       " 's3://salas-data/capstone/raw-data/crime-data/2017/jul17.xlsx',\n",
       " 's3://salas-data/capstone/raw-data/crime-data/2017/jun17.xlsx',\n",
       " 's3://salas-data/capstone/raw-data/crime-data/2017/mar17.xlsx',\n",
       " 's3://salas-data/capstone/raw-data/crime-data/2017/may17.xlsx',\n",
       " 's3://salas-data/capstone/raw-data/crime-data/2017/nov17.xlsx',\n",
       " 's3://salas-data/capstone/raw-data/crime-data/2017/oc17.xlsx',\n",
       " 's3://salas-data/capstone/raw-data/crime-data/2017/sep17.xlsx']"
      ]
     },
     "execution_count": 5,
     "metadata": {},
     "output_type": "execute_result"
    }
   ],
   "source": [
    "wr.s3.list_objects(raw)"
   ]
  },
  {
   "cell_type": "markdown",
   "metadata": {},
   "source": [
    "## Create dataframe from s3 files"
   ]
  },
  {
   "cell_type": "code",
   "execution_count": 6,
   "metadata": {},
   "outputs": [],
   "source": [
    "def s3_files_to_df(s3_files_path):\n",
    "    ''' load s3 file path from wr result\n",
    "    returns a dataframe of concat files '''\n",
    "    df_list = []\n",
    "    for i in wr.s3.list_objects(s3_files_path):\n",
    "        temp = wr.s3.read_excel(i, engine='openpyxl')\n",
    "        df_list.append(temp)\n",
    "    # create df from list files\n",
    "    df = pd.concat(df_list, ignore_index=True)\n",
    "    return df"
   ]
  },
  {
   "cell_type": "code",
   "execution_count": 7,
   "metadata": {},
   "outputs": [
    {
     "name": "stdout",
     "output_type": "stream",
     "text": [
      "CPU times: user 20.3 s, sys: 46.9 ms, total: 20.3 s\n",
      "Wall time: 29.4 s\n"
     ]
    }
   ],
   "source": [
    "%%time\n",
    "df = s3_files_to_df(raw)"
   ]
  },
  {
   "cell_type": "code",
   "execution_count": 8,
   "metadata": {},
   "outputs": [],
   "source": [
    "## cleanup columns\n",
    "#df.columns = df.columns.str.lower().str.replace(' ','_').str.replace('\\n','_').str.strip()"
   ]
  },
  {
   "cell_type": "code",
   "execution_count": 9,
   "metadata": {},
   "outputs": [
    {
     "name": "stdout",
     "output_type": "stream",
     "text": [
      "<class 'pandas.core.frame.DataFrame'>\n",
      "RangeIndex: 119727 entries, 0 to 119726\n",
      "Data columns (total 13 columns):\n",
      " #   Column        Non-Null Count   Dtype  \n",
      "---  ------        --------------   -----  \n",
      " 0   Date          119727 non-null  object \n",
      " 1   Hour          119727 non-null  int64  \n",
      " 2   Offense Type  119727 non-null  object \n",
      " 3   Beat          119727 non-null  object \n",
      " 4   Premise       119240 non-null  object \n",
      " 5   BlockRange    40378 non-null   object \n",
      " 6   StreetName    40378 non-null   object \n",
      " 7   Type          119727 non-null  object \n",
      " 8   Suffix        119727 non-null  object \n",
      " 9   . offenses    40378 non-null   float64\n",
      " 10  Block Range   79349 non-null   object \n",
      " 11  Street Name   79347 non-null   object \n",
      " 12  Offenses      79349 non-null   float64\n",
      "dtypes: float64(2), int64(1), object(10)\n",
      "memory usage: 11.9+ MB\n"
     ]
    }
   ],
   "source": [
    "df.info()"
   ]
  },
  {
   "cell_type": "code",
   "execution_count": 10,
   "metadata": {},
   "outputs": [
    {
     "data": {
      "text/html": [
       "<div>\n",
       "<style scoped>\n",
       "    .dataframe tbody tr th:only-of-type {\n",
       "        vertical-align: middle;\n",
       "    }\n",
       "\n",
       "    .dataframe tbody tr th {\n",
       "        vertical-align: top;\n",
       "    }\n",
       "\n",
       "    .dataframe thead th {\n",
       "        text-align: right;\n",
       "    }\n",
       "</style>\n",
       "<table border=\"1\" class=\"dataframe\">\n",
       "  <thead>\n",
       "    <tr style=\"text-align: right;\">\n",
       "      <th></th>\n",
       "      <th>Date</th>\n",
       "      <th>Hour</th>\n",
       "      <th>Offense Type</th>\n",
       "      <th>Beat</th>\n",
       "      <th>Premise</th>\n",
       "      <th>BlockRange</th>\n",
       "      <th>StreetName</th>\n",
       "      <th>Type</th>\n",
       "      <th>Suffix</th>\n",
       "      <th>. offenses</th>\n",
       "      <th>Block Range</th>\n",
       "      <th>Street Name</th>\n",
       "      <th>Offenses</th>\n",
       "    </tr>\n",
       "  </thead>\n",
       "  <tbody>\n",
       "    <tr>\n",
       "      <th>0</th>\n",
       "      <td>2017-04-10 00:00:00</td>\n",
       "      <td>15</td>\n",
       "      <td>Burglary</td>\n",
       "      <td>10H10</td>\n",
       "      <td>Residence or House</td>\n",
       "      <td>200-299</td>\n",
       "      <td>CLIFTON</td>\n",
       "      <td>-</td>\n",
       "      <td>-</td>\n",
       "      <td>1.0</td>\n",
       "      <td>NaN</td>\n",
       "      <td>NaN</td>\n",
       "      <td>NaN</td>\n",
       "    </tr>\n",
       "    <tr>\n",
       "      <th>1</th>\n",
       "      <td>2017-04-11 00:00:00</td>\n",
       "      <td>15</td>\n",
       "      <td>Theft</td>\n",
       "      <td>10H10</td>\n",
       "      <td>Restaurant or Cafeteria Parking Lot</td>\n",
       "      <td>2300-2399</td>\n",
       "      <td>CANAL</td>\n",
       "      <td>ST</td>\n",
       "      <td>-</td>\n",
       "      <td>1.0</td>\n",
       "      <td>NaN</td>\n",
       "      <td>NaN</td>\n",
       "      <td>NaN</td>\n",
       "    </tr>\n",
       "    <tr>\n",
       "      <th>2</th>\n",
       "      <td>2017-04-11 00:00:00</td>\n",
       "      <td>17</td>\n",
       "      <td>Theft</td>\n",
       "      <td>10H10</td>\n",
       "      <td>Restaurant or Cafeteria Parking Lot</td>\n",
       "      <td>2300-2399</td>\n",
       "      <td>CANAL</td>\n",
       "      <td>ST</td>\n",
       "      <td>-</td>\n",
       "      <td>1.0</td>\n",
       "      <td>NaN</td>\n",
       "      <td>NaN</td>\n",
       "      <td>NaN</td>\n",
       "    </tr>\n",
       "    <tr>\n",
       "      <th>3</th>\n",
       "      <td>2017-04-12 00:00:00</td>\n",
       "      <td>9</td>\n",
       "      <td>Burglary</td>\n",
       "      <td>10H10</td>\n",
       "      <td>Miscellaneous Business (Non-Specific)</td>\n",
       "      <td>4600-4699</td>\n",
       "      <td>CANAL</td>\n",
       "      <td>ST</td>\n",
       "      <td>-</td>\n",
       "      <td>1.0</td>\n",
       "      <td>NaN</td>\n",
       "      <td>NaN</td>\n",
       "      <td>NaN</td>\n",
       "    </tr>\n",
       "    <tr>\n",
       "      <th>4</th>\n",
       "      <td>2017-04-12 00:00:00</td>\n",
       "      <td>19</td>\n",
       "      <td>Theft</td>\n",
       "      <td>10H10</td>\n",
       "      <td>Other, Unknown, or Not Listed</td>\n",
       "      <td>100-199</td>\n",
       "      <td>ADAM</td>\n",
       "      <td>LN</td>\n",
       "      <td>-</td>\n",
       "      <td>1.0</td>\n",
       "      <td>NaN</td>\n",
       "      <td>NaN</td>\n",
       "      <td>NaN</td>\n",
       "    </tr>\n",
       "  </tbody>\n",
       "</table>\n",
       "</div>"
      ],
      "text/plain": [
       "                  Date  Hour Offense Type   Beat  \\\n",
       "0  2017-04-10 00:00:00    15     Burglary  10H10   \n",
       "1  2017-04-11 00:00:00    15        Theft  10H10   \n",
       "2  2017-04-11 00:00:00    17        Theft  10H10   \n",
       "3  2017-04-12 00:00:00     9     Burglary  10H10   \n",
       "4  2017-04-12 00:00:00    19        Theft  10H10   \n",
       "\n",
       "                                 Premise BlockRange StreetName Type Suffix  \\\n",
       "0                     Residence or House    200-299    CLIFTON    -      -   \n",
       "1    Restaurant or Cafeteria Parking Lot  2300-2399      CANAL   ST      -   \n",
       "2    Restaurant or Cafeteria Parking Lot  2300-2399      CANAL   ST      -   \n",
       "3  Miscellaneous Business (Non-Specific)  4600-4699      CANAL   ST      -   \n",
       "4          Other, Unknown, or Not Listed    100-199       ADAM   LN      -   \n",
       "\n",
       "   . offenses Block Range Street Name  Offenses  \n",
       "0         1.0         NaN         NaN       NaN  \n",
       "1         1.0         NaN         NaN       NaN  \n",
       "2         1.0         NaN         NaN       NaN  \n",
       "3         1.0         NaN         NaN       NaN  \n",
       "4         1.0         NaN         NaN       NaN  "
      ]
     },
     "execution_count": 10,
     "metadata": {},
     "output_type": "execute_result"
    }
   ],
   "source": [
    "df.head()"
   ]
  },
  {
   "cell_type": "markdown",
   "metadata": {},
   "source": [
    "## Show null data"
   ]
  },
  {
   "cell_type": "code",
   "execution_count": 11,
   "metadata": {},
   "outputs": [
    {
     "data": {
      "text/plain": [
       "Date                0\n",
       "Hour                0\n",
       "Offense Type        0\n",
       "Beat                0\n",
       "Premise           487\n",
       "BlockRange      79349\n",
       "StreetName      79349\n",
       "Type                0\n",
       "Suffix              0\n",
       ". offenses      79349\n",
       "Block Range     40378\n",
       "Street Name     40380\n",
       "Offenses        40378\n",
       "dtype: int64"
      ]
     },
     "execution_count": 11,
     "metadata": {},
     "output_type": "execute_result"
    }
   ],
   "source": [
    "df.apply(lambda x: sum(x.isnull()))"
   ]
  },
  {
   "cell_type": "code",
   "execution_count": 12,
   "metadata": {},
   "outputs": [
    {
     "data": {
      "text/html": [
       "<div>\n",
       "<style scoped>\n",
       "    .dataframe tbody tr th:only-of-type {\n",
       "        vertical-align: middle;\n",
       "    }\n",
       "\n",
       "    .dataframe tbody tr th {\n",
       "        vertical-align: top;\n",
       "    }\n",
       "\n",
       "    .dataframe thead th {\n",
       "        text-align: right;\n",
       "    }\n",
       "</style>\n",
       "<table border=\"1\" class=\"dataframe\">\n",
       "  <thead>\n",
       "    <tr style=\"text-align: right;\">\n",
       "      <th></th>\n",
       "      <th>null_percent</th>\n",
       "    </tr>\n",
       "  </thead>\n",
       "  <tbody>\n",
       "    <tr>\n",
       "      <th>BlockRange</th>\n",
       "      <td>66.27</td>\n",
       "    </tr>\n",
       "    <tr>\n",
       "      <th>StreetName</th>\n",
       "      <td>66.27</td>\n",
       "    </tr>\n",
       "    <tr>\n",
       "      <th>. offenses</th>\n",
       "      <td>66.27</td>\n",
       "    </tr>\n",
       "    <tr>\n",
       "      <th>Block Range</th>\n",
       "      <td>33.73</td>\n",
       "    </tr>\n",
       "    <tr>\n",
       "      <th>Street Name</th>\n",
       "      <td>33.73</td>\n",
       "    </tr>\n",
       "    <tr>\n",
       "      <th>Offenses</th>\n",
       "      <td>33.73</td>\n",
       "    </tr>\n",
       "    <tr>\n",
       "      <th>Premise</th>\n",
       "      <td>0.41</td>\n",
       "    </tr>\n",
       "    <tr>\n",
       "      <th>Date</th>\n",
       "      <td>0.00</td>\n",
       "    </tr>\n",
       "    <tr>\n",
       "      <th>Hour</th>\n",
       "      <td>0.00</td>\n",
       "    </tr>\n",
       "    <tr>\n",
       "      <th>Offense Type</th>\n",
       "      <td>0.00</td>\n",
       "    </tr>\n",
       "    <tr>\n",
       "      <th>Beat</th>\n",
       "      <td>0.00</td>\n",
       "    </tr>\n",
       "    <tr>\n",
       "      <th>Type</th>\n",
       "      <td>0.00</td>\n",
       "    </tr>\n",
       "    <tr>\n",
       "      <th>Suffix</th>\n",
       "      <td>0.00</td>\n",
       "    </tr>\n",
       "  </tbody>\n",
       "</table>\n",
       "</div>"
      ],
      "text/plain": [
       "              null_percent\n",
       "BlockRange           66.27\n",
       "StreetName           66.27\n",
       ". offenses           66.27\n",
       "Block Range          33.73\n",
       "Street Name          33.73\n",
       "Offenses             33.73\n",
       "Premise               0.41\n",
       "Date                  0.00\n",
       "Hour                  0.00\n",
       "Offense Type          0.00\n",
       "Beat                  0.00\n",
       "Type                  0.00\n",
       "Suffix                0.00"
      ]
     },
     "execution_count": 12,
     "metadata": {},
     "output_type": "execute_result"
    }
   ],
   "source": [
    "# create null percentage of column as dataframe\n",
    "null_per_df = pd.DataFrame(df.isna().mean().round(4) * 100)\n",
    "# rename columns\n",
    "null_per_df.rename(columns={'index': 'col_name', 0: 'null_percent'}, inplace=True)\n",
    "\n",
    "# filter data <20% null values\n",
    "per_filter = null_per_df.null_percent<=90\n",
    "null_per_df[per_filter].sort_values(by='null_percent',ascending=False)"
   ]
  },
  {
   "cell_type": "code",
   "execution_count": 13,
   "metadata": {},
   "outputs": [
    {
     "data": {
      "image/png": "[encoded data removed]",
      "text/plain": [
       "<Figure size 1080x288 with 1 Axes>"
      ]
     },
     "metadata": {},
     "output_type": "display_data"
    }
   ],
   "source": [
    "plt.figure(figsize=(15,4))\n",
    "sns.heatmap(df.isnull(),yticklabels=False,cbar=False,cmap='viridis')\n",
    "plt.title('Missing data')\n",
    "plt.show()"
   ]
  },
  {
   "cell_type": "markdown",
   "metadata": {},
   "source": [
    "## change columns"
   ]
  },
  {
   "cell_type": "code",
   "execution_count": 14,
   "metadata": {},
   "outputs": [],
   "source": [
    "df['block_range'] = pd.concat([df['Block Range'].dropna(),\n",
    "                              df['BlockRange'].dropna()]).reindex_like(df)\n",
    "\n",
    "df['street_name'] = pd.concat([df['Street Name'].dropna(),\n",
    "                              df['StreetName'].dropna()]).reindex_like(df)\n",
    "\n",
    "df['offenses'] = pd.concat([df['. offenses'].dropna(),\n",
    "                              df['Offenses'].dropna()]).reindex_like(df)\n",
    "\n",
    "\n",
    "# drop unused columns\n",
    "\n",
    "df = df.drop([  'Block Range',\n",
    " 'BlockRange','Street Name','StreetName','. offenses','Offenses'], axis = 1)"
   ]
  },
  {
   "cell_type": "code",
   "execution_count": 15,
   "metadata": {},
   "outputs": [],
   "source": [
    "df.columns = df.columns.str.lower().str.replace(' ','_').str.replace('\\n','_').str.strip()"
   ]
  },
  {
   "cell_type": "code",
   "execution_count": 16,
   "metadata": {},
   "outputs": [
    {
     "data": {
      "text/plain": [
       "date              0\n",
       "hour              0\n",
       "offense_type      0\n",
       "beat              0\n",
       "premise         487\n",
       "type              0\n",
       "suffix            0\n",
       "block_range       0\n",
       "street_name       2\n",
       "offenses          0\n",
       "dtype: int64"
      ]
     },
     "execution_count": 16,
     "metadata": {},
     "output_type": "execute_result"
    }
   ],
   "source": [
    "df.apply(lambda x: sum(x.isnull()))"
   ]
  },
  {
   "cell_type": "code",
   "execution_count": 17,
   "metadata": {},
   "outputs": [
    {
     "data": {
      "image/png": "[encoded data removed]",
      "text/plain": [
       "<Figure size 1080x288 with 1 Axes>"
      ]
     },
     "metadata": {},
     "output_type": "display_data"
    }
   ],
   "source": [
    "plt.figure(figsize=(15,4))\n",
    "sns.heatmap(df.isnull(),yticklabels=False,cbar=False,cmap='viridis')\n",
    "plt.title('Missing data')\n",
    "plt.show()"
   ]
  },
  {
   "cell_type": "markdown",
   "metadata": {},
   "source": [
    "## Fix missing data"
   ]
  },
  {
   "cell_type": "code",
   "execution_count": 18,
   "metadata": {},
   "outputs": [
    {
     "data": {
      "text/html": [
       "<div>\n",
       "<style scoped>\n",
       "    .dataframe tbody tr th:only-of-type {\n",
       "        vertical-align: middle;\n",
       "    }\n",
       "\n",
       "    .dataframe tbody tr th {\n",
       "        vertical-align: top;\n",
       "    }\n",
       "\n",
       "    .dataframe thead th {\n",
       "        text-align: right;\n",
       "    }\n",
       "</style>\n",
       "<table border=\"1\" class=\"dataframe\">\n",
       "  <thead>\n",
       "    <tr style=\"text-align: right;\">\n",
       "      <th></th>\n",
       "      <th>date</th>\n",
       "      <th>hour</th>\n",
       "      <th>offense_type</th>\n",
       "      <th>beat</th>\n",
       "      <th>premise</th>\n",
       "      <th>type</th>\n",
       "      <th>suffix</th>\n",
       "      <th>block_range</th>\n",
       "      <th>street_name</th>\n",
       "      <th>offenses</th>\n",
       "    </tr>\n",
       "  </thead>\n",
       "  <tbody>\n",
       "    <tr>\n",
       "      <th>30</th>\n",
       "      <td>2017-04-29 00:00:00</td>\n",
       "      <td>21</td>\n",
       "      <td>Burglary</td>\n",
       "      <td>10H10</td>\n",
       "      <td>NaN</td>\n",
       "      <td>BLVD</td>\n",
       "      <td>-</td>\n",
       "      <td>4700-4799</td>\n",
       "      <td>HARRISBURG</td>\n",
       "      <td>1.0</td>\n",
       "    </tr>\n",
       "    <tr>\n",
       "      <th>132</th>\n",
       "      <td>2017-04-16 00:00:00</td>\n",
       "      <td>7</td>\n",
       "      <td>Burglary</td>\n",
       "      <td>10H40</td>\n",
       "      <td>NaN</td>\n",
       "      <td>-</td>\n",
       "      <td>-</td>\n",
       "      <td>2700-2799</td>\n",
       "      <td>TRAVIS</td>\n",
       "      <td>1.0</td>\n",
       "    </tr>\n",
       "    <tr>\n",
       "      <th>185</th>\n",
       "      <td>2017-04-06 00:00:00</td>\n",
       "      <td>22</td>\n",
       "      <td>Theft</td>\n",
       "      <td>10H40</td>\n",
       "      <td>NaN</td>\n",
       "      <td>ST</td>\n",
       "      <td>-</td>\n",
       "      <td>1500-1599</td>\n",
       "      <td>HADLEY</td>\n",
       "      <td>1.0</td>\n",
       "    </tr>\n",
       "    <tr>\n",
       "      <th>259</th>\n",
       "      <td>2017-04-18 00:00:00</td>\n",
       "      <td>1</td>\n",
       "      <td>Theft</td>\n",
       "      <td>10H50</td>\n",
       "      <td>NaN</td>\n",
       "      <td>ST</td>\n",
       "      <td>-</td>\n",
       "      <td>3900-3999</td>\n",
       "      <td>DENNIS</td>\n",
       "      <td>1.0</td>\n",
       "    </tr>\n",
       "    <tr>\n",
       "      <th>391</th>\n",
       "      <td>2017-04-04 00:00:00</td>\n",
       "      <td>22</td>\n",
       "      <td>Aggravated Assault</td>\n",
       "      <td>10H60</td>\n",
       "      <td>NaN</td>\n",
       "      <td>BLVD</td>\n",
       "      <td>-</td>\n",
       "      <td>2800-2899</td>\n",
       "      <td>SOUTHMORE</td>\n",
       "      <td>1.0</td>\n",
       "    </tr>\n",
       "    <tr>\n",
       "      <th>...</th>\n",
       "      <td>...</td>\n",
       "      <td>...</td>\n",
       "      <td>...</td>\n",
       "      <td>...</td>\n",
       "      <td>...</td>\n",
       "      <td>...</td>\n",
       "      <td>...</td>\n",
       "      <td>...</td>\n",
       "      <td>...</td>\n",
       "      <td>...</td>\n",
       "    </tr>\n",
       "    <tr>\n",
       "      <th>80864</th>\n",
       "      <td>2017-03-07 00:00:00</td>\n",
       "      <td>21</td>\n",
       "      <td>Robbery</td>\n",
       "      <td>9C20</td>\n",
       "      <td>NaN</td>\n",
       "      <td>ST</td>\n",
       "      <td>-</td>\n",
       "      <td>6400-6499</td>\n",
       "      <td>MARKET</td>\n",
       "      <td>1.0</td>\n",
       "    </tr>\n",
       "    <tr>\n",
       "      <th>80893</th>\n",
       "      <td>2017-03-15 00:00:00</td>\n",
       "      <td>0</td>\n",
       "      <td>Theft</td>\n",
       "      <td>9C30</td>\n",
       "      <td>NaN</td>\n",
       "      <td>FWY</td>\n",
       "      <td>-</td>\n",
       "      <td>10300-10399</td>\n",
       "      <td>EAST</td>\n",
       "      <td>1.0</td>\n",
       "    </tr>\n",
       "    <tr>\n",
       "      <th>80932</th>\n",
       "      <td>2017-03-23 00:00:00</td>\n",
       "      <td>10</td>\n",
       "      <td>Burglary</td>\n",
       "      <td>9C30</td>\n",
       "      <td>NaN</td>\n",
       "      <td>DR</td>\n",
       "      <td>-</td>\n",
       "      <td>400-499</td>\n",
       "      <td>MERCURY</td>\n",
       "      <td>1.0</td>\n",
       "    </tr>\n",
       "    <tr>\n",
       "      <th>80997</th>\n",
       "      <td>2017-03-08 00:00:00</td>\n",
       "      <td>20</td>\n",
       "      <td>Theft</td>\n",
       "      <td>9C40</td>\n",
       "      <td>NaN</td>\n",
       "      <td>FWY</td>\n",
       "      <td>-</td>\n",
       "      <td>12000-12099</td>\n",
       "      <td>EAST</td>\n",
       "      <td>1.0</td>\n",
       "    </tr>\n",
       "    <tr>\n",
       "      <th>81131</th>\n",
       "      <td>2017-03-30 00:00:00</td>\n",
       "      <td>22</td>\n",
       "      <td>Theft</td>\n",
       "      <td>UNK</td>\n",
       "      <td>NaN</td>\n",
       "      <td>FWY</td>\n",
       "      <td>-</td>\n",
       "      <td>10200-10299</td>\n",
       "      <td>EAST</td>\n",
       "      <td>1.0</td>\n",
       "    </tr>\n",
       "  </tbody>\n",
       "</table>\n",
       "<p>487 rows × 10 columns</p>\n",
       "</div>"
      ],
      "text/plain": [
       "                      date  hour        offense_type   beat premise  type  \\\n",
       "30     2017-04-29 00:00:00    21            Burglary  10H10     NaN  BLVD   \n",
       "132    2017-04-16 00:00:00     7            Burglary  10H40     NaN     -   \n",
       "185    2017-04-06 00:00:00    22               Theft  10H40     NaN    ST   \n",
       "259    2017-04-18 00:00:00     1               Theft  10H50     NaN    ST   \n",
       "391    2017-04-04 00:00:00    22  Aggravated Assault  10H60     NaN  BLVD   \n",
       "...                    ...   ...                 ...    ...     ...   ...   \n",
       "80864  2017-03-07 00:00:00    21             Robbery   9C20     NaN    ST   \n",
       "80893  2017-03-15 00:00:00     0               Theft   9C30     NaN   FWY   \n",
       "80932  2017-03-23 00:00:00    10            Burglary   9C30     NaN    DR   \n",
       "80997  2017-03-08 00:00:00    20               Theft   9C40     NaN   FWY   \n",
       "81131  2017-03-30 00:00:00    22               Theft    UNK     NaN   FWY   \n",
       "\n",
       "      suffix  block_range street_name  offenses  \n",
       "30         -    4700-4799  HARRISBURG       1.0  \n",
       "132        -    2700-2799      TRAVIS       1.0  \n",
       "185        -    1500-1599      HADLEY       1.0  \n",
       "259        -    3900-3999      DENNIS       1.0  \n",
       "391        -    2800-2899   SOUTHMORE       1.0  \n",
       "...      ...          ...         ...       ...  \n",
       "80864      -    6400-6499      MARKET       1.0  \n",
       "80893      -  10300-10399        EAST       1.0  \n",
       "80932      -      400-499     MERCURY       1.0  \n",
       "80997      -  12000-12099        EAST       1.0  \n",
       "81131      -  10200-10299        EAST       1.0  \n",
       "\n",
       "[487 rows x 10 columns]"
      ]
     },
     "execution_count": 18,
     "metadata": {},
     "output_type": "execute_result"
    }
   ],
   "source": [
    "df[df.premise.isna()]"
   ]
  },
  {
   "cell_type": "code",
   "execution_count": 19,
   "metadata": {},
   "outputs": [],
   "source": [
    "## Change null values to UNK\n",
    "\n",
    "df[\"premise\"].fillna(\"UNK\", inplace = True)"
   ]
  },
  {
   "cell_type": "code",
   "execution_count": 20,
   "metadata": {},
   "outputs": [
    {
     "data": {
      "text/plain": [
       "date            0\n",
       "hour            0\n",
       "offense_type    0\n",
       "beat            0\n",
       "premise         0\n",
       "type            0\n",
       "suffix          0\n",
       "block_range     0\n",
       "street_name     2\n",
       "offenses        0\n",
       "dtype: int64"
      ]
     },
     "execution_count": 20,
     "metadata": {},
     "output_type": "execute_result"
    }
   ],
   "source": [
    "df.apply(lambda x: sum(x.isnull()))"
   ]
  },
  {
   "cell_type": "code",
   "execution_count": 21,
   "metadata": {},
   "outputs": [
    {
     "data": {
      "text/html": [
       "<div>\n",
       "<style scoped>\n",
       "    .dataframe tbody tr th:only-of-type {\n",
       "        vertical-align: middle;\n",
       "    }\n",
       "\n",
       "    .dataframe tbody tr th {\n",
       "        vertical-align: top;\n",
       "    }\n",
       "\n",
       "    .dataframe thead th {\n",
       "        text-align: right;\n",
       "    }\n",
       "</style>\n",
       "<table border=\"1\" class=\"dataframe\">\n",
       "  <thead>\n",
       "    <tr style=\"text-align: right;\">\n",
       "      <th></th>\n",
       "      <th>date</th>\n",
       "      <th>hour</th>\n",
       "      <th>offense_type</th>\n",
       "      <th>beat</th>\n",
       "      <th>premise</th>\n",
       "      <th>type</th>\n",
       "      <th>suffix</th>\n",
       "      <th>block_range</th>\n",
       "      <th>street_name</th>\n",
       "      <th>offenses</th>\n",
       "    </tr>\n",
       "  </thead>\n",
       "  <tbody>\n",
       "    <tr>\n",
       "      <th>87061</th>\n",
       "      <td>05/13/2017</td>\n",
       "      <td>9</td>\n",
       "      <td>Aggravated Assault</td>\n",
       "      <td>20G10</td>\n",
       "      <td>Restaurant or Cafeteria</td>\n",
       "      <td>-</td>\n",
       "      <td>-</td>\n",
       "      <td>10300-10399</td>\n",
       "      <td>NaN</td>\n",
       "      <td>1.0</td>\n",
       "    </tr>\n",
       "    <tr>\n",
       "      <th>90946</th>\n",
       "      <td>05/04/2017</td>\n",
       "      <td>22</td>\n",
       "      <td>Theft</td>\n",
       "      <td>8C10</td>\n",
       "      <td>Service or Gas Station</td>\n",
       "      <td>-</td>\n",
       "      <td>-</td>\n",
       "      <td>9400-9499</td>\n",
       "      <td>NaN</td>\n",
       "      <td>1.0</td>\n",
       "    </tr>\n",
       "  </tbody>\n",
       "</table>\n",
       "</div>"
      ],
      "text/plain": [
       "             date  hour        offense_type   beat                  premise  \\\n",
       "87061  05/13/2017     9  Aggravated Assault  20G10  Restaurant or Cafeteria   \n",
       "90946  05/04/2017    22               Theft   8C10   Service or Gas Station   \n",
       "\n",
       "      type suffix  block_range street_name  offenses  \n",
       "87061    -      -  10300-10399         NaN       1.0  \n",
       "90946    -      -    9400-9499         NaN       1.0  "
      ]
     },
     "execution_count": 21,
     "metadata": {},
     "output_type": "execute_result"
    }
   ],
   "source": [
    "df[df.street_name.isna()]"
   ]
  },
  {
   "cell_type": "code",
   "execution_count": 22,
   "metadata": {},
   "outputs": [],
   "source": [
    "## Change null values to UNK\n",
    "\n",
    "df[\"street_name\"].fillna(\"UNK\", inplace = True)"
   ]
  },
  {
   "cell_type": "code",
   "execution_count": 23,
   "metadata": {},
   "outputs": [
    {
     "data": {
      "text/plain": [
       "date            0\n",
       "hour            0\n",
       "offense_type    0\n",
       "beat            0\n",
       "premise         0\n",
       "type            0\n",
       "suffix          0\n",
       "block_range     0\n",
       "street_name     0\n",
       "offenses        0\n",
       "dtype: int64"
      ]
     },
     "execution_count": 23,
     "metadata": {},
     "output_type": "execute_result"
    }
   ],
   "source": [
    "df.apply(lambda x: sum(x.isnull()))"
   ]
  },
  {
   "cell_type": "code",
   "execution_count": 24,
   "metadata": {},
   "outputs": [
    {
     "data": {
      "image/png": "[encoded data removed]",
      "text/plain": [
       "<Figure size 1080x288 with 1 Axes>"
      ]
     },
     "metadata": {},
     "output_type": "display_data"
    }
   ],
   "source": [
    "plt.figure(figsize=(15,4))\n",
    "sns.heatmap(df.isnull(),yticklabels=False,cbar=False,cmap='viridis')\n",
    "plt.title('Missing data')\n",
    "plt.show()"
   ]
  },
  {
   "cell_type": "markdown",
   "metadata": {},
   "source": [
    "## Combine columns "
   ]
  },
  {
   "cell_type": "markdown",
   "metadata": {},
   "source": [
    "## Combine date & hour to one column"
   ]
  },
  {
   "cell_type": "code",
   "execution_count": 25,
   "metadata": {},
   "outputs": [],
   "source": [
    "# convert two columns into one datetime\n",
    "df['date_time'] = pd.to_datetime(df['date']) + pd.to_timedelta(df['hour'], unit='h')\n",
    "\n",
    "# drop columns\n",
    "df = df.drop(['date','hour'], axis = 1)"
   ]
  },
  {
   "cell_type": "code",
   "execution_count": 26,
   "metadata": {},
   "outputs": [
    {
     "name": "stdout",
     "output_type": "stream",
     "text": [
      "<class 'pandas.core.frame.DataFrame'>\n",
      "RangeIndex: 119727 entries, 0 to 119726\n",
      "Data columns (total 9 columns):\n",
      " #   Column        Non-Null Count   Dtype         \n",
      "---  ------        --------------   -----         \n",
      " 0   offense_type  119727 non-null  object        \n",
      " 1   beat          119727 non-null  object        \n",
      " 2   premise       119727 non-null  object        \n",
      " 3   type          119727 non-null  object        \n",
      " 4   suffix        119727 non-null  object        \n",
      " 5   block_range   119727 non-null  object        \n",
      " 6   street_name   119727 non-null  object        \n",
      " 7   offenses      119727 non-null  float64       \n",
      " 8   date_time     119727 non-null  datetime64[ns]\n",
      "dtypes: datetime64[ns](1), float64(1), object(7)\n",
      "memory usage: 8.2+ MB\n"
     ]
    }
   ],
   "source": [
    "df.info()"
   ]
  },
  {
   "cell_type": "code",
   "execution_count": 27,
   "metadata": {},
   "outputs": [
    {
     "data": {
      "text/html": [
       "<div>\n",
       "<style scoped>\n",
       "    .dataframe tbody tr th:only-of-type {\n",
       "        vertical-align: middle;\n",
       "    }\n",
       "\n",
       "    .dataframe tbody tr th {\n",
       "        vertical-align: top;\n",
       "    }\n",
       "\n",
       "    .dataframe thead th {\n",
       "        text-align: right;\n",
       "    }\n",
       "</style>\n",
       "<table border=\"1\" class=\"dataframe\">\n",
       "  <thead>\n",
       "    <tr style=\"text-align: right;\">\n",
       "      <th></th>\n",
       "      <th>offense_type</th>\n",
       "      <th>beat</th>\n",
       "      <th>premise</th>\n",
       "      <th>type</th>\n",
       "      <th>suffix</th>\n",
       "      <th>block_range</th>\n",
       "      <th>street_name</th>\n",
       "      <th>offenses</th>\n",
       "      <th>date_time</th>\n",
       "    </tr>\n",
       "  </thead>\n",
       "  <tbody>\n",
       "    <tr>\n",
       "      <th>0</th>\n",
       "      <td>Burglary</td>\n",
       "      <td>10H10</td>\n",
       "      <td>Residence or House</td>\n",
       "      <td>-</td>\n",
       "      <td>-</td>\n",
       "      <td>200-299</td>\n",
       "      <td>CLIFTON</td>\n",
       "      <td>1.0</td>\n",
       "      <td>2017-04-10 15:00:00</td>\n",
       "    </tr>\n",
       "    <tr>\n",
       "      <th>1</th>\n",
       "      <td>Theft</td>\n",
       "      <td>10H10</td>\n",
       "      <td>Restaurant or Cafeteria Parking Lot</td>\n",
       "      <td>ST</td>\n",
       "      <td>-</td>\n",
       "      <td>2300-2399</td>\n",
       "      <td>CANAL</td>\n",
       "      <td>1.0</td>\n",
       "      <td>2017-04-11 15:00:00</td>\n",
       "    </tr>\n",
       "    <tr>\n",
       "      <th>2</th>\n",
       "      <td>Theft</td>\n",
       "      <td>10H10</td>\n",
       "      <td>Restaurant or Cafeteria Parking Lot</td>\n",
       "      <td>ST</td>\n",
       "      <td>-</td>\n",
       "      <td>2300-2399</td>\n",
       "      <td>CANAL</td>\n",
       "      <td>1.0</td>\n",
       "      <td>2017-04-11 17:00:00</td>\n",
       "    </tr>\n",
       "    <tr>\n",
       "      <th>3</th>\n",
       "      <td>Burglary</td>\n",
       "      <td>10H10</td>\n",
       "      <td>Miscellaneous Business (Non-Specific)</td>\n",
       "      <td>ST</td>\n",
       "      <td>-</td>\n",
       "      <td>4600-4699</td>\n",
       "      <td>CANAL</td>\n",
       "      <td>1.0</td>\n",
       "      <td>2017-04-12 09:00:00</td>\n",
       "    </tr>\n",
       "    <tr>\n",
       "      <th>4</th>\n",
       "      <td>Theft</td>\n",
       "      <td>10H10</td>\n",
       "      <td>Other, Unknown, or Not Listed</td>\n",
       "      <td>LN</td>\n",
       "      <td>-</td>\n",
       "      <td>100-199</td>\n",
       "      <td>ADAM</td>\n",
       "      <td>1.0</td>\n",
       "      <td>2017-04-12 19:00:00</td>\n",
       "    </tr>\n",
       "  </tbody>\n",
       "</table>\n",
       "</div>"
      ],
      "text/plain": [
       "  offense_type   beat                                premise type suffix  \\\n",
       "0     Burglary  10H10                     Residence or House    -      -   \n",
       "1        Theft  10H10    Restaurant or Cafeteria Parking Lot   ST      -   \n",
       "2        Theft  10H10    Restaurant or Cafeteria Parking Lot   ST      -   \n",
       "3     Burglary  10H10  Miscellaneous Business (Non-Specific)   ST      -   \n",
       "4        Theft  10H10          Other, Unknown, or Not Listed   LN      -   \n",
       "\n",
       "  block_range street_name  offenses           date_time  \n",
       "0     200-299     CLIFTON       1.0 2017-04-10 15:00:00  \n",
       "1   2300-2399       CANAL       1.0 2017-04-11 15:00:00  \n",
       "2   2300-2399       CANAL       1.0 2017-04-11 17:00:00  \n",
       "3   4600-4699       CANAL       1.0 2017-04-12 09:00:00  \n",
       "4     100-199        ADAM       1.0 2017-04-12 19:00:00  "
      ]
     },
     "execution_count": 27,
     "metadata": {},
     "output_type": "execute_result"
    }
   ],
   "source": [
    "df.head()"
   ]
  },
  {
   "cell_type": "markdown",
   "metadata": {},
   "source": [
    "## Convert offenses to integer"
   ]
  },
  {
   "cell_type": "code",
   "execution_count": 28,
   "metadata": {},
   "outputs": [],
   "source": [
    "# convert offenses to int\n",
    "df['offenses'] = df['offenses'].astype('int64')"
   ]
  },
  {
   "cell_type": "code",
   "execution_count": 29,
   "metadata": {},
   "outputs": [
    {
     "name": "stdout",
     "output_type": "stream",
     "text": [
      "<class 'pandas.core.frame.DataFrame'>\n",
      "RangeIndex: 119727 entries, 0 to 119726\n",
      "Data columns (total 9 columns):\n",
      " #   Column        Non-Null Count   Dtype         \n",
      "---  ------        --------------   -----         \n",
      " 0   offense_type  119727 non-null  object        \n",
      " 1   beat          119727 non-null  object        \n",
      " 2   premise       119727 non-null  object        \n",
      " 3   type          119727 non-null  object        \n",
      " 4   suffix        119727 non-null  object        \n",
      " 5   block_range   119727 non-null  object        \n",
      " 6   street_name   119727 non-null  object        \n",
      " 7   offenses      119727 non-null  int64         \n",
      " 8   date_time     119727 non-null  datetime64[ns]\n",
      "dtypes: datetime64[ns](1), int64(1), object(7)\n",
      "memory usage: 8.2+ MB\n"
     ]
    }
   ],
   "source": [
    "df.info()"
   ]
  },
  {
   "cell_type": "markdown",
   "metadata": {},
   "source": [
    "## change order of columns"
   ]
  },
  {
   "cell_type": "code",
   "execution_count": 30,
   "metadata": {},
   "outputs": [
    {
     "data": {
      "text/html": [
       "<div>\n",
       "<style scoped>\n",
       "    .dataframe tbody tr th:only-of-type {\n",
       "        vertical-align: middle;\n",
       "    }\n",
       "\n",
       "    .dataframe tbody tr th {\n",
       "        vertical-align: top;\n",
       "    }\n",
       "\n",
       "    .dataframe thead th {\n",
       "        text-align: right;\n",
       "    }\n",
       "</style>\n",
       "<table border=\"1\" class=\"dataframe\">\n",
       "  <thead>\n",
       "    <tr style=\"text-align: right;\">\n",
       "      <th></th>\n",
       "      <th>date_time</th>\n",
       "      <th>offenses</th>\n",
       "      <th>offense_type</th>\n",
       "      <th>block_range</th>\n",
       "      <th>street_name</th>\n",
       "      <th>type</th>\n",
       "      <th>suffix</th>\n",
       "      <th>beat</th>\n",
       "      <th>premise</th>\n",
       "    </tr>\n",
       "  </thead>\n",
       "  <tbody>\n",
       "    <tr>\n",
       "      <th>0</th>\n",
       "      <td>2017-04-10 15:00:00</td>\n",
       "      <td>1</td>\n",
       "      <td>Burglary</td>\n",
       "      <td>200-299</td>\n",
       "      <td>CLIFTON</td>\n",
       "      <td>-</td>\n",
       "      <td>-</td>\n",
       "      <td>10H10</td>\n",
       "      <td>Residence or House</td>\n",
       "    </tr>\n",
       "    <tr>\n",
       "      <th>1</th>\n",
       "      <td>2017-04-11 15:00:00</td>\n",
       "      <td>1</td>\n",
       "      <td>Theft</td>\n",
       "      <td>2300-2399</td>\n",
       "      <td>CANAL</td>\n",
       "      <td>ST</td>\n",
       "      <td>-</td>\n",
       "      <td>10H10</td>\n",
       "      <td>Restaurant or Cafeteria Parking Lot</td>\n",
       "    </tr>\n",
       "    <tr>\n",
       "      <th>2</th>\n",
       "      <td>2017-04-11 17:00:00</td>\n",
       "      <td>1</td>\n",
       "      <td>Theft</td>\n",
       "      <td>2300-2399</td>\n",
       "      <td>CANAL</td>\n",
       "      <td>ST</td>\n",
       "      <td>-</td>\n",
       "      <td>10H10</td>\n",
       "      <td>Restaurant or Cafeteria Parking Lot</td>\n",
       "    </tr>\n",
       "    <tr>\n",
       "      <th>3</th>\n",
       "      <td>2017-04-12 09:00:00</td>\n",
       "      <td>1</td>\n",
       "      <td>Burglary</td>\n",
       "      <td>4600-4699</td>\n",
       "      <td>CANAL</td>\n",
       "      <td>ST</td>\n",
       "      <td>-</td>\n",
       "      <td>10H10</td>\n",
       "      <td>Miscellaneous Business (Non-Specific)</td>\n",
       "    </tr>\n",
       "    <tr>\n",
       "      <th>4</th>\n",
       "      <td>2017-04-12 19:00:00</td>\n",
       "      <td>1</td>\n",
       "      <td>Theft</td>\n",
       "      <td>100-199</td>\n",
       "      <td>ADAM</td>\n",
       "      <td>LN</td>\n",
       "      <td>-</td>\n",
       "      <td>10H10</td>\n",
       "      <td>Other, Unknown, or Not Listed</td>\n",
       "    </tr>\n",
       "  </tbody>\n",
       "</table>\n",
       "</div>"
      ],
      "text/plain": [
       "            date_time  offenses offense_type block_range street_name type  \\\n",
       "0 2017-04-10 15:00:00         1     Burglary     200-299     CLIFTON    -   \n",
       "1 2017-04-11 15:00:00         1        Theft   2300-2399       CANAL   ST   \n",
       "2 2017-04-11 17:00:00         1        Theft   2300-2399       CANAL   ST   \n",
       "3 2017-04-12 09:00:00         1     Burglary   4600-4699       CANAL   ST   \n",
       "4 2017-04-12 19:00:00         1        Theft     100-199        ADAM   LN   \n",
       "\n",
       "  suffix   beat                                premise  \n",
       "0      -  10H10                     Residence or House  \n",
       "1      -  10H10    Restaurant or Cafeteria Parking Lot  \n",
       "2      -  10H10    Restaurant or Cafeteria Parking Lot  \n",
       "3      -  10H10  Miscellaneous Business (Non-Specific)  \n",
       "4      -  10H10          Other, Unknown, or Not Listed  "
      ]
     },
     "execution_count": 30,
     "metadata": {},
     "output_type": "execute_result"
    }
   ],
   "source": [
    "col_ord =['date_time','offenses','offense_type', 'block_range', 'street_name', 'type', 'suffix','beat', 'premise']\n",
    "df = df[col_ord]\n",
    "df.head()"
   ]
  },
  {
   "cell_type": "markdown",
   "metadata": {},
   "source": [
    "## Save to bucket"
   ]
  },
  {
   "cell_type": "code",
   "execution_count": 31,
   "metadata": {},
   "outputs": [
    {
     "data": {
      "text/plain": [
       "'s3://salas-data/capstone/inter-data/crime-data/crime_2017.csv'"
      ]
     },
     "execution_count": 31,
     "metadata": {},
     "output_type": "execute_result"
    }
   ],
   "source": [
    "bucket = 'salas-data'\n",
    "file_name = f'crime_{year}.csv'\n",
    "path_to_save = f\"s3://{bucket}/capstone/inter-data/crime-data/{file_name}\"\n",
    "path_to_save"
   ]
  },
  {
   "cell_type": "code",
   "execution_count": null,
   "metadata": {},
   "outputs": [],
   "source": []
  },
  {
   "cell_type": "code",
   "execution_count": 32,
   "metadata": {},
   "outputs": [
    {
     "name": "stdout",
     "output_type": "stream",
     "text": [
      "CPU times: user 531 ms, sys: 78.1 ms, total: 609 ms\n",
      "Wall time: 6.27 s\n"
     ]
    },
    {
     "data": {
      "text/plain": [
       "{'paths': ['s3://salas-data/capstone/inter-data/crime-data/crime_2017.csv'],\n",
       " 'partitions_values': {}}"
      ]
     },
     "execution_count": 32,
     "metadata": {},
     "output_type": "execute_result"
    }
   ],
   "source": [
    "%%time\n",
    "wr.s3.to_csv(df, path_to_save, index=False)"
   ]
  }
 ],
 "metadata": {
  "kernelspec": {
   "display_name": "Python 3",
   "language": "python",
   "name": "python3"
  },
  "language_info": {
   "codemirror_mode": {
    "name": "ipython",
    "version": 3
   },
   "file_extension": ".py",
   "mimetype": "text/x-python",
   "name": "python",
   "nbconvert_exporter": "python",
   "pygments_lexer": "ipython3",
   "version": "3.8.5"
  }
 },
 "nbformat": 4,
 "nbformat_minor": 4
}
