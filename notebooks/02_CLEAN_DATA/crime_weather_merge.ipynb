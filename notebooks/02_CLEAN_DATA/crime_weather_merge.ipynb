{
 "cells": [
  {
   "cell_type": "code",
   "execution_count": 1,
   "id": "bbb56936",
   "metadata": {},
   "outputs": [
    {
     "data": {
      "text/html": [
       "        <script type=\"text/javascript\">\n",
       "        window.PlotlyConfig = {MathJaxConfig: 'local'};\n",
       "        if (window.MathJax) {MathJax.Hub.Config({SVG: {font: \"STIX-Web\"}});}\n",
       "        if (typeof require !== 'undefined') {\n",
       "        require.undef(\"plotly\");\n",
       "        requirejs.config({\n",
       "            paths: {\n",
       "                'plotly': ['https://cdn.plot.ly/plotly-2.2.0.min']\n",
       "            }\n",
       "        });\n",
       "        require(['plotly'], function(Plotly) {\n",
       "            window._Plotly = Plotly;\n",
       "        });\n",
       "        }\n",
       "        </script>\n",
       "        "
      ]
     },
     "metadata": {},
     "output_type": "display_data"
    },
    {
     "name": "stdout",
     "output_type": "stream",
     "text": [
      "\n",
      "python\t3.9.6 (default, Jul 30 2021, 16:35:19) \n",
      "[GCC 7.5.0]\n",
      "---------------------\n",
      "Versions:\n",
      "----------------------\n",
      "pandas      1.3.1\n",
      "numpy       1.20.3\n",
      "matplotlib  3.4.2\n",
      "seaborn     0.11.1\n",
      "plotly      5.1.0\n",
      "boto3       1.18.16\n",
      "awswrangler 2.10.0\n",
      "----------------------\n",
      "\n",
      "\n",
      "Loaded Libraries\n",
      "-------------------\n",
      "import pandas as pd\n",
      "import numpy as np\n",
      "import sys,os\n",
      "import re\n",
      "import glob\n",
      "import pickle\n",
      "import seaborn as sns\n",
      "import matplotlib.pyplot as plt\n",
      "import plotly\n",
      "import plotly.graph_objs as go\n",
      "from plotly.offline import download_plotlyjs, init_notebook_mode, plot, iplot\n",
      "init_notebook_mode(connected=True)\n",
      "\n",
      "\n",
      "## AWS\n",
      "import boto3\n",
      "import awswrangler as wr\n",
      "----------------\n",
      "\n",
      "\n",
      "GLOBAL VARIABLES\n",
      "--------------------------\n",
      "# Creating the low level functional client\n",
      "client = boto3.client(\n",
      "    's3',\n",
      "    aws_access_key_id = AWS_KEY_ID,\n",
      "    aws_secret_access_key = AWS_SECRET,\n",
      ")\n",
      "    \n",
      "# Creating the high level object oriented interface\n",
      "resource = boto3.resource(\n",
      "    's3',\n",
      "    aws_access_key_id = AWS_KEY_ID,\n",
      "    aws_secret_access_key = AWS_SECRET,\n",
      ")\n",
      "\n",
      "HERE_DIR: list current directory path\n",
      "------------------------------\n",
      "\n",
      "# SAVE PLOTS\n",
      "To save a plot call\n",
      "`save_plots(fig_variable,'name_of_plot')`\n",
      "\n",
      "source file: src/start.py\n",
      "\n",
      "\n"
     ]
    }
   ],
   "source": [
    "%run ../../src/start.py"
   ]
  },
  {
   "cell_type": "markdown",
   "id": "ac9236b4",
   "metadata": {},
   "source": [
    "## Load Crime Data"
   ]
  },
  {
   "cell_type": "code",
   "execution_count": 2,
   "id": "bad28410",
   "metadata": {},
   "outputs": [],
   "source": [
    "# helper function\n",
    "def bucket_raw_path(bucket_name,path_dir):\n",
    "    ''''''\n",
    "    raw_path = f's3://{bucket_name}/{path_dir}'\n",
    "    return raw_path"
   ]
  },
  {
   "cell_type": "code",
   "execution_count": 3,
   "id": "54df38c0",
   "metadata": {},
   "outputs": [
    {
     "data": {
      "text/plain": [
       "'s3://dend-data/capstone/final-data/crime-data/'"
      ]
     },
     "execution_count": 3,
     "metadata": {},
     "output_type": "execute_result"
    }
   ],
   "source": [
    "raw = bucket_raw_path('dend-data',f'capstone/final-data/crime-data/')\n",
    "raw"
   ]
  },
  {
   "cell_type": "markdown",
   "id": "43d54c4c",
   "metadata": {},
   "source": [
    "## List Objects in bucket"
   ]
  },
  {
   "cell_type": "code",
   "execution_count": 4,
   "id": "9b4bf9d8",
   "metadata": {},
   "outputs": [
    {
     "data": {
      "text/plain": [
       "['s3://dend-data/capstone/final-data/crime-data/crime-09-18.csv']"
      ]
     },
     "execution_count": 4,
     "metadata": {},
     "output_type": "execute_result"
    }
   ],
   "source": [
    "wr.s3.list_objects(raw)"
   ]
  },
  {
   "cell_type": "markdown",
   "id": "42263488",
   "metadata": {},
   "source": [
    "# Create dataframe from S3"
   ]
  },
  {
   "cell_type": "code",
   "execution_count": 5,
   "id": "4c456e74",
   "metadata": {},
   "outputs": [],
   "source": [
    "def s3_files_to_df(s3_files_path):\n",
    "    ''' load s3 file path from wr result\n",
    "    returns a dataframe of concat files '''\n",
    "    df_list = []\n",
    "    for i in wr.s3.list_objects(s3_files_path):\n",
    "        temp = wr.s3.read_csv(i,)\n",
    "        df_list.append(temp)\n",
    "    # create df from list files\n",
    "    df = pd.concat(df_list, ignore_index=True)\n",
    "    return df"
   ]
  },
  {
   "cell_type": "code",
   "execution_count": 6,
   "id": "745ddb03",
   "metadata": {},
   "outputs": [
    {
     "name": "stdout",
     "output_type": "stream",
     "text": [
      "CPU times: user 3.36 s, sys: 868 ms, total: 4.23 s\n",
      "Wall time: 59.4 s\n"
     ]
    }
   ],
   "source": [
    "%%time\n",
    "df_crime = s3_files_to_df(raw)"
   ]
  },
  {
   "cell_type": "code",
   "execution_count": 7,
   "id": "858e03b6",
   "metadata": {},
   "outputs": [
    {
     "name": "stdout",
     "output_type": "stream",
     "text": [
      "<class 'pandas.core.frame.DataFrame'>\n",
      "RangeIndex: 1121231 entries, 0 to 1121230\n",
      "Data columns (total 13 columns):\n",
      " #   Column               Non-Null Count    Dtype \n",
      "---  ------               --------------    ----- \n",
      " 0   date_time            1121231 non-null  object\n",
      " 1   offenses             1121231 non-null  int64 \n",
      " 2   offense_type         1121231 non-null  object\n",
      " 3   block_range          1121231 non-null  object\n",
      " 4   street_name          1121231 non-null  object\n",
      " 5   type                 1121231 non-null  object\n",
      " 6   suffix               1121231 non-null  object\n",
      " 7   beat                 1121231 non-null  object\n",
      " 8   premise              1121231 non-null  object\n",
      " 9   date                 1121231 non-null  object\n",
      " 10  hour                 1121231 non-null  int64 \n",
      " 11  year                 1121231 non-null  int64 \n",
      " 12  premise_description  1121231 non-null  object\n",
      "dtypes: int64(3), object(10)\n",
      "memory usage: 111.2+ MB\n"
     ]
    }
   ],
   "source": [
    "df_crime.info()"
   ]
  },
  {
   "cell_type": "code",
   "execution_count": 8,
   "id": "a789ec46-6e78-43b0-85bc-c96825a42d64",
   "metadata": {},
   "outputs": [
    {
     "data": {
      "text/html": [
       "<div>\n",
       "<style scoped>\n",
       "    .dataframe tbody tr th:only-of-type {\n",
       "        vertical-align: middle;\n",
       "    }\n",
       "\n",
       "    .dataframe tbody tr th {\n",
       "        vertical-align: top;\n",
       "    }\n",
       "\n",
       "    .dataframe thead th {\n",
       "        text-align: right;\n",
       "    }\n",
       "</style>\n",
       "<table border=\"1\" class=\"dataframe\">\n",
       "  <thead>\n",
       "    <tr style=\"text-align: right;\">\n",
       "      <th></th>\n",
       "      <th>date_time</th>\n",
       "      <th>offenses</th>\n",
       "      <th>offense_type</th>\n",
       "      <th>block_range</th>\n",
       "      <th>street_name</th>\n",
       "      <th>type</th>\n",
       "      <th>suffix</th>\n",
       "      <th>beat</th>\n",
       "      <th>premise</th>\n",
       "      <th>date</th>\n",
       "      <th>hour</th>\n",
       "      <th>year</th>\n",
       "      <th>premise_description</th>\n",
       "    </tr>\n",
       "  </thead>\n",
       "  <tbody>\n",
       "  </tbody>\n",
       "</table>\n",
       "</div>"
      ],
      "text/plain": [
       "Empty DataFrame\n",
       "Columns: [date_time, offenses, offense_type, block_range, street_name, type, suffix, beat, premise, date, hour, year, premise_description]\n",
       "Index: []"
      ]
     },
     "execution_count": 8,
     "metadata": {},
     "output_type": "execute_result"
    }
   ],
   "source": [
    "df_crime.loc[df_crime.duplicated(keep='first'),:]"
   ]
  },
  {
   "cell_type": "code",
   "execution_count": null,
   "id": "355c470b-40d2-4063-ba42-05bbcf4d5ab9",
   "metadata": {},
   "outputs": [],
   "source": []
  },
  {
   "cell_type": "code",
   "execution_count": null,
   "id": "b5a45e59-c8fa-4235-8177-227f5ede0b64",
   "metadata": {},
   "outputs": [],
   "source": []
  },
  {
   "cell_type": "markdown",
   "id": "2ef84b19",
   "metadata": {},
   "source": [
    "# Crime Data\n",
    "Total rows: $1,121,230 $"
   ]
  },
  {
   "cell_type": "code",
   "execution_count": 9,
   "id": "344c9400",
   "metadata": {},
   "outputs": [
    {
     "data": {
      "text/html": [
       "<div>\n",
       "<style scoped>\n",
       "    .dataframe tbody tr th:only-of-type {\n",
       "        vertical-align: middle;\n",
       "    }\n",
       "\n",
       "    .dataframe tbody tr th {\n",
       "        vertical-align: top;\n",
       "    }\n",
       "\n",
       "    .dataframe thead th {\n",
       "        text-align: right;\n",
       "    }\n",
       "</style>\n",
       "<table border=\"1\" class=\"dataframe\">\n",
       "  <thead>\n",
       "    <tr style=\"text-align: right;\">\n",
       "      <th></th>\n",
       "      <th>date_time</th>\n",
       "      <th>offenses</th>\n",
       "      <th>offense_type</th>\n",
       "      <th>block_range</th>\n",
       "      <th>street_name</th>\n",
       "      <th>type</th>\n",
       "      <th>suffix</th>\n",
       "      <th>beat</th>\n",
       "      <th>premise</th>\n",
       "      <th>date</th>\n",
       "      <th>hour</th>\n",
       "      <th>year</th>\n",
       "      <th>premise_description</th>\n",
       "    </tr>\n",
       "  </thead>\n",
       "  <tbody>\n",
       "    <tr>\n",
       "      <th>0</th>\n",
       "      <td>2009-08-01 00:00:00</td>\n",
       "      <td>1</td>\n",
       "      <td>Robbery</td>\n",
       "      <td>3000-3099</td>\n",
       "      <td>durham</td>\n",
       "      <td>dr</td>\n",
       "      <td>N</td>\n",
       "      <td>3B30</td>\n",
       "      <td>210</td>\n",
       "      <td>08/01/09 00:00:00</td>\n",
       "      <td>0</td>\n",
       "      <td>2009</td>\n",
       "      <td>restaurant cafeteria</td>\n",
       "    </tr>\n",
       "    <tr>\n",
       "      <th>1</th>\n",
       "      <td>2009-08-01 01:00:00</td>\n",
       "      <td>1</td>\n",
       "      <td>Theft</td>\n",
       "      <td>6000-6099</td>\n",
       "      <td>richmond</td>\n",
       "      <td>ave</td>\n",
       "      <td>-</td>\n",
       "      <td>18F30</td>\n",
       "      <td>210</td>\n",
       "      <td>08/01/09 00:00:00</td>\n",
       "      <td>1</td>\n",
       "      <td>2009</td>\n",
       "      <td>restaurant cafeteria</td>\n",
       "    </tr>\n",
       "    <tr>\n",
       "      <th>2</th>\n",
       "      <td>2009-08-01 04:00:00</td>\n",
       "      <td>1</td>\n",
       "      <td>Burglary</td>\n",
       "      <td>3900-3999</td>\n",
       "      <td>broadway</td>\n",
       "      <td>st</td>\n",
       "      <td>-</td>\n",
       "      <td>13D20</td>\n",
       "      <td>210</td>\n",
       "      <td>08/01/09 00:00:00</td>\n",
       "      <td>4</td>\n",
       "      <td>2009</td>\n",
       "      <td>restaurant cafeteria</td>\n",
       "    </tr>\n",
       "    <tr>\n",
       "      <th>3</th>\n",
       "      <td>2009-08-01 05:00:00</td>\n",
       "      <td>1</td>\n",
       "      <td>Burglary</td>\n",
       "      <td>8500-8599</td>\n",
       "      <td>bellaire</td>\n",
       "      <td>blvd</td>\n",
       "      <td>-</td>\n",
       "      <td>18F60</td>\n",
       "      <td>210</td>\n",
       "      <td>08/01/09 00:00:00</td>\n",
       "      <td>5</td>\n",
       "      <td>2009</td>\n",
       "      <td>restaurant cafeteria</td>\n",
       "    </tr>\n",
       "    <tr>\n",
       "      <th>4</th>\n",
       "      <td>2009-08-01 19:00:00</td>\n",
       "      <td>1</td>\n",
       "      <td>Theft</td>\n",
       "      <td>1100-1199</td>\n",
       "      <td>uptown park</td>\n",
       "      <td>blvd</td>\n",
       "      <td>-</td>\n",
       "      <td>18F20</td>\n",
       "      <td>210</td>\n",
       "      <td>08/01/09 00:00:00</td>\n",
       "      <td>19</td>\n",
       "      <td>2009</td>\n",
       "      <td>restaurant cafeteria</td>\n",
       "    </tr>\n",
       "  </tbody>\n",
       "</table>\n",
       "</div>"
      ],
      "text/plain": [
       "             date_time  offenses offense_type block_range  street_name  type  \\\n",
       "0  2009-08-01 00:00:00         1      Robbery   3000-3099       durham    dr   \n",
       "1  2009-08-01 01:00:00         1        Theft   6000-6099     richmond   ave   \n",
       "2  2009-08-01 04:00:00         1     Burglary   3900-3999     broadway    st   \n",
       "3  2009-08-01 05:00:00         1     Burglary   8500-8599     bellaire  blvd   \n",
       "4  2009-08-01 19:00:00         1        Theft   1100-1199  uptown park  blvd   \n",
       "\n",
       "  suffix   beat premise               date  hour  year   premise_description  \n",
       "0      N   3B30     210  08/01/09 00:00:00     0  2009  restaurant cafeteria  \n",
       "1      -  18F30     210  08/01/09 00:00:00     1  2009  restaurant cafeteria  \n",
       "2      -  13D20     210  08/01/09 00:00:00     4  2009  restaurant cafeteria  \n",
       "3      -  18F60     210  08/01/09 00:00:00     5  2009  restaurant cafeteria  \n",
       "4      -  18F20     210  08/01/09 00:00:00    19  2009  restaurant cafeteria  "
      ]
     },
     "execution_count": 9,
     "metadata": {},
     "output_type": "execute_result"
    }
   ],
   "source": [
    "df_crime.head()"
   ]
  },
  {
   "cell_type": "code",
   "execution_count": 10,
   "id": "4c6064ad-5737-4fe5-962e-2e60177d7307",
   "metadata": {},
   "outputs": [
    {
     "data": {
      "text/plain": [
       "date_time              0\n",
       "offenses               0\n",
       "offense_type           0\n",
       "block_range            0\n",
       "street_name            0\n",
       "type                   0\n",
       "suffix                 0\n",
       "beat                   0\n",
       "premise                0\n",
       "date                   0\n",
       "hour                   0\n",
       "year                   0\n",
       "premise_description    0\n",
       "dtype: int64"
      ]
     },
     "execution_count": 10,
     "metadata": {},
     "output_type": "execute_result"
    }
   ],
   "source": [
    "df_crime.apply(lambda x: sum(x.isnull()))"
   ]
  },
  {
   "cell_type": "code",
   "execution_count": 11,
   "id": "2c356a3e-6069-4fb9-b5df-bbeaa388ca38",
   "metadata": {},
   "outputs": [
    {
     "name": "stdout",
     "output_type": "stream",
     "text": [
      "<class 'pandas.core.frame.DataFrame'>\n",
      "RangeIndex: 1121231 entries, 0 to 1121230\n",
      "Data columns (total 13 columns):\n",
      " #   Column               Non-Null Count    Dtype \n",
      "---  ------               --------------    ----- \n",
      " 0   date_time            1121231 non-null  object\n",
      " 1   offenses             1121231 non-null  int64 \n",
      " 2   offense_type         1121231 non-null  object\n",
      " 3   block_range          1121231 non-null  object\n",
      " 4   street_name          1121231 non-null  object\n",
      " 5   type                 1121231 non-null  object\n",
      " 6   suffix               1121231 non-null  object\n",
      " 7   beat                 1121231 non-null  object\n",
      " 8   premise              1121231 non-null  object\n",
      " 9   date                 1121231 non-null  object\n",
      " 10  hour                 1121231 non-null  int64 \n",
      " 11  year                 1121231 non-null  int64 \n",
      " 12  premise_description  1121231 non-null  object\n",
      "dtypes: int64(3), object(10)\n",
      "memory usage: 111.2+ MB\n"
     ]
    }
   ],
   "source": [
    "df_crime.info()"
   ]
  },
  {
   "cell_type": "markdown",
   "id": "c229f7ba-e436-4133-ba2a-bcca84849dc1",
   "metadata": {},
   "source": [
    "# set datetime as index"
   ]
  },
  {
   "cell_type": "code",
   "execution_count": 12,
   "id": "3f9ab557-2c23-4c35-8869-2c9a80cf517f",
   "metadata": {},
   "outputs": [],
   "source": [
    "# set to datetime\n",
    "df_crime.date_time = pd.to_datetime(df_crime.date_time)"
   ]
  },
  {
   "cell_type": "code",
   "execution_count": null,
   "id": "b6c2390d-6652-4b94-94e1-016a91bc7f37",
   "metadata": {},
   "outputs": [],
   "source": [
    "#df_crime = df_crime.set_index('date_time')"
   ]
  },
  {
   "cell_type": "code",
   "execution_count": 13,
   "id": "0a448473-0c11-4597-912d-95d12d6accf3",
   "metadata": {},
   "outputs": [
    {
     "name": "stdout",
     "output_type": "stream",
     "text": [
      "<class 'pandas.core.frame.DataFrame'>\n",
      "RangeIndex: 1121231 entries, 0 to 1121230\n",
      "Data columns (total 13 columns):\n",
      " #   Column               Non-Null Count    Dtype         \n",
      "---  ------               --------------    -----         \n",
      " 0   date_time            1121231 non-null  datetime64[ns]\n",
      " 1   offenses             1121231 non-null  int64         \n",
      " 2   offense_type         1121231 non-null  object        \n",
      " 3   block_range          1121231 non-null  object        \n",
      " 4   street_name          1121231 non-null  object        \n",
      " 5   type                 1121231 non-null  object        \n",
      " 6   suffix               1121231 non-null  object        \n",
      " 7   beat                 1121231 non-null  object        \n",
      " 8   premise              1121231 non-null  object        \n",
      " 9   date                 1121231 non-null  object        \n",
      " 10  hour                 1121231 non-null  int64         \n",
      " 11  year                 1121231 non-null  int64         \n",
      " 12  premise_description  1121231 non-null  object        \n",
      "dtypes: datetime64[ns](1), int64(3), object(9)\n",
      "memory usage: 111.2+ MB\n"
     ]
    }
   ],
   "source": [
    "df_crime.info()"
   ]
  },
  {
   "cell_type": "code",
   "execution_count": 50,
   "id": "ec58b87b-2480-4caa-abc9-87d5399eede1",
   "metadata": {},
   "outputs": [
    {
     "data": {
      "text/html": [
       "<div>\n",
       "<style scoped>\n",
       "    .dataframe tbody tr th:only-of-type {\n",
       "        vertical-align: middle;\n",
       "    }\n",
       "\n",
       "    .dataframe tbody tr th {\n",
       "        vertical-align: top;\n",
       "    }\n",
       "\n",
       "    .dataframe thead th {\n",
       "        text-align: right;\n",
       "    }\n",
       "</style>\n",
       "<table border=\"1\" class=\"dataframe\">\n",
       "  <thead>\n",
       "    <tr style=\"text-align: right;\">\n",
       "      <th></th>\n",
       "      <th>date_time</th>\n",
       "      <th>offenses</th>\n",
       "      <th>offense_type</th>\n",
       "      <th>block_range</th>\n",
       "      <th>street_name</th>\n",
       "      <th>type</th>\n",
       "      <th>suffix</th>\n",
       "      <th>beat</th>\n",
       "      <th>premise</th>\n",
       "      <th>date</th>\n",
       "      <th>hour</th>\n",
       "      <th>year</th>\n",
       "      <th>premise_description</th>\n",
       "    </tr>\n",
       "  </thead>\n",
       "  <tbody>\n",
       "    <tr>\n",
       "      <th>0</th>\n",
       "      <td>2009-08-01 00:00:00</td>\n",
       "      <td>1</td>\n",
       "      <td>Robbery</td>\n",
       "      <td>3000-3099</td>\n",
       "      <td>durham</td>\n",
       "      <td>dr</td>\n",
       "      <td>N</td>\n",
       "      <td>3B30</td>\n",
       "      <td>210</td>\n",
       "      <td>08/01/09 00:00:00</td>\n",
       "      <td>0</td>\n",
       "      <td>2009</td>\n",
       "      <td>restaurant cafeteria</td>\n",
       "    </tr>\n",
       "    <tr>\n",
       "      <th>1</th>\n",
       "      <td>2009-08-01 01:00:00</td>\n",
       "      <td>1</td>\n",
       "      <td>Theft</td>\n",
       "      <td>6000-6099</td>\n",
       "      <td>richmond</td>\n",
       "      <td>ave</td>\n",
       "      <td>-</td>\n",
       "      <td>18F30</td>\n",
       "      <td>210</td>\n",
       "      <td>08/01/09 00:00:00</td>\n",
       "      <td>1</td>\n",
       "      <td>2009</td>\n",
       "      <td>restaurant cafeteria</td>\n",
       "    </tr>\n",
       "    <tr>\n",
       "      <th>2</th>\n",
       "      <td>2009-08-01 04:00:00</td>\n",
       "      <td>1</td>\n",
       "      <td>Burglary</td>\n",
       "      <td>3900-3999</td>\n",
       "      <td>broadway</td>\n",
       "      <td>st</td>\n",
       "      <td>-</td>\n",
       "      <td>13D20</td>\n",
       "      <td>210</td>\n",
       "      <td>08/01/09 00:00:00</td>\n",
       "      <td>4</td>\n",
       "      <td>2009</td>\n",
       "      <td>restaurant cafeteria</td>\n",
       "    </tr>\n",
       "    <tr>\n",
       "      <th>3</th>\n",
       "      <td>2009-08-01 05:00:00</td>\n",
       "      <td>1</td>\n",
       "      <td>Burglary</td>\n",
       "      <td>8500-8599</td>\n",
       "      <td>bellaire</td>\n",
       "      <td>blvd</td>\n",
       "      <td>-</td>\n",
       "      <td>18F60</td>\n",
       "      <td>210</td>\n",
       "      <td>08/01/09 00:00:00</td>\n",
       "      <td>5</td>\n",
       "      <td>2009</td>\n",
       "      <td>restaurant cafeteria</td>\n",
       "    </tr>\n",
       "    <tr>\n",
       "      <th>4</th>\n",
       "      <td>2009-08-01 19:00:00</td>\n",
       "      <td>1</td>\n",
       "      <td>Theft</td>\n",
       "      <td>1100-1199</td>\n",
       "      <td>uptown park</td>\n",
       "      <td>blvd</td>\n",
       "      <td>-</td>\n",
       "      <td>18F20</td>\n",
       "      <td>210</td>\n",
       "      <td>08/01/09 00:00:00</td>\n",
       "      <td>19</td>\n",
       "      <td>2009</td>\n",
       "      <td>restaurant cafeteria</td>\n",
       "    </tr>\n",
       "  </tbody>\n",
       "</table>\n",
       "</div>"
      ],
      "text/plain": [
       "            date_time  offenses offense_type block_range  street_name  type  \\\n",
       "0 2009-08-01 00:00:00         1      Robbery   3000-3099       durham    dr   \n",
       "1 2009-08-01 01:00:00         1        Theft   6000-6099     richmond   ave   \n",
       "2 2009-08-01 04:00:00         1     Burglary   3900-3999     broadway    st   \n",
       "3 2009-08-01 05:00:00         1     Burglary   8500-8599     bellaire  blvd   \n",
       "4 2009-08-01 19:00:00         1        Theft   1100-1199  uptown park  blvd   \n",
       "\n",
       "  suffix   beat premise               date  hour  year   premise_description  \n",
       "0      N   3B30     210  08/01/09 00:00:00     0  2009  restaurant cafeteria  \n",
       "1      -  18F30     210  08/01/09 00:00:00     1  2009  restaurant cafeteria  \n",
       "2      -  13D20     210  08/01/09 00:00:00     4  2009  restaurant cafeteria  \n",
       "3      -  18F60     210  08/01/09 00:00:00     5  2009  restaurant cafeteria  \n",
       "4      -  18F20     210  08/01/09 00:00:00    19  2009  restaurant cafeteria  "
      ]
     },
     "execution_count": 50,
     "metadata": {},
     "output_type": "execute_result"
    }
   ],
   "source": [
    "df_crime.head()"
   ]
  },
  {
   "cell_type": "code",
   "execution_count": null,
   "id": "11cc2823-1b81-4d34-bfca-5a15b9fddb3a",
   "metadata": {},
   "outputs": [],
   "source": []
  },
  {
   "cell_type": "code",
   "execution_count": null,
   "id": "df04e620-fd1f-40d1-925e-4ac766a5990a",
   "metadata": {},
   "outputs": [],
   "source": []
  },
  {
   "cell_type": "markdown",
   "id": "c3c2b9cc",
   "metadata": {},
   "source": [
    "# Load Weather Data"
   ]
  },
  {
   "cell_type": "code",
   "execution_count": 51,
   "id": "53022755",
   "metadata": {},
   "outputs": [
    {
     "data": {
      "text/plain": [
       "'s3://dend-data/capstone/inter-data/weather-data/'"
      ]
     },
     "execution_count": 51,
     "metadata": {},
     "output_type": "execute_result"
    }
   ],
   "source": [
    "raw = bucket_raw_path('dend-data',f'capstone/inter-data/weather-data/')\n",
    "raw"
   ]
  },
  {
   "cell_type": "markdown",
   "id": "5eedfb06",
   "metadata": {},
   "source": [
    "# List objects in bucket"
   ]
  },
  {
   "cell_type": "code",
   "execution_count": 52,
   "id": "00520be0",
   "metadata": {},
   "outputs": [
    {
     "data": {
      "text/plain": [
       "['s3://dend-data/capstone/inter-data/weather-data/weather-09-18.csv']"
      ]
     },
     "execution_count": 52,
     "metadata": {},
     "output_type": "execute_result"
    }
   ],
   "source": [
    "wr.s3.list_objects(raw)"
   ]
  },
  {
   "cell_type": "markdown",
   "id": "ba330e46",
   "metadata": {},
   "source": [
    "# Create dataframe from s3 files"
   ]
  },
  {
   "cell_type": "code",
   "execution_count": 53,
   "id": "ee477927",
   "metadata": {},
   "outputs": [
    {
     "name": "stdout",
     "output_type": "stream",
     "text": [
      "CPU times: user 387 ms, sys: 66.2 ms, total: 453 ms\n",
      "Wall time: 7.41 s\n"
     ]
    }
   ],
   "source": [
    "%%time\n",
    "df_weather = s3_files_to_df(raw)"
   ]
  },
  {
   "cell_type": "code",
   "execution_count": 54,
   "id": "1a4b4260",
   "metadata": {},
   "outputs": [
    {
     "name": "stdout",
     "output_type": "stream",
     "text": [
      "<class 'pandas.core.frame.DataFrame'>\n",
      "RangeIndex: 87624 entries, 0 to 87623\n",
      "Data columns (total 12 columns):\n",
      " #   Column               Non-Null Count  Dtype  \n",
      "---  ------               --------------  -----  \n",
      " 0   date_time            87624 non-null  object \n",
      " 1   temp                 87624 non-null  float64\n",
      " 2   feels_like           87624 non-null  float64\n",
      " 3   temp_min             87624 non-null  float64\n",
      " 4   temp_max             87624 non-null  float64\n",
      " 5   humidity_per         87624 non-null  int64  \n",
      " 6   wind_speed           87624 non-null  float64\n",
      " 7   rain_vol_1h_mm       87624 non-null  float64\n",
      " 8   snow_vol_1h_mm       87624 non-null  float64\n",
      " 9   clouds_all_per       87624 non-null  int64  \n",
      " 10  weather_main         87624 non-null  object \n",
      " 11  weather_description  87624 non-null  object \n",
      "dtypes: float64(7), int64(2), object(3)\n",
      "memory usage: 8.0+ MB\n"
     ]
    }
   ],
   "source": [
    "df_weather.info()"
   ]
  },
  {
   "cell_type": "code",
   "execution_count": 55,
   "id": "7e1db990-df08-423c-92aa-adda6b37aff2",
   "metadata": {},
   "outputs": [
    {
     "data": {
      "text/html": [
       "<div>\n",
       "<style scoped>\n",
       "    .dataframe tbody tr th:only-of-type {\n",
       "        vertical-align: middle;\n",
       "    }\n",
       "\n",
       "    .dataframe tbody tr th {\n",
       "        vertical-align: top;\n",
       "    }\n",
       "\n",
       "    .dataframe thead th {\n",
       "        text-align: right;\n",
       "    }\n",
       "</style>\n",
       "<table border=\"1\" class=\"dataframe\">\n",
       "  <thead>\n",
       "    <tr style=\"text-align: right;\">\n",
       "      <th></th>\n",
       "      <th>date_time</th>\n",
       "      <th>temp</th>\n",
       "      <th>feels_like</th>\n",
       "      <th>temp_min</th>\n",
       "      <th>temp_max</th>\n",
       "      <th>humidity_per</th>\n",
       "      <th>wind_speed</th>\n",
       "      <th>rain_vol_1h_mm</th>\n",
       "      <th>snow_vol_1h_mm</th>\n",
       "      <th>clouds_all_per</th>\n",
       "      <th>weather_main</th>\n",
       "      <th>weather_description</th>\n",
       "    </tr>\n",
       "  </thead>\n",
       "  <tbody>\n",
       "  </tbody>\n",
       "</table>\n",
       "</div>"
      ],
      "text/plain": [
       "Empty DataFrame\n",
       "Columns: [date_time, temp, feels_like, temp_min, temp_max, humidity_per, wind_speed, rain_vol_1h_mm, snow_vol_1h_mm, clouds_all_per, weather_main, weather_description]\n",
       "Index: []"
      ]
     },
     "execution_count": 55,
     "metadata": {},
     "output_type": "execute_result"
    }
   ],
   "source": [
    "df_weather.loc[df_weather.duplicated(keep='first'),:]"
   ]
  },
  {
   "cell_type": "code",
   "execution_count": 56,
   "id": "77310ce1-6d33-4269-9dbe-9e078dbe1f67",
   "metadata": {},
   "outputs": [
    {
     "data": {
      "text/html": [
       "<div>\n",
       "<style scoped>\n",
       "    .dataframe tbody tr th:only-of-type {\n",
       "        vertical-align: middle;\n",
       "    }\n",
       "\n",
       "    .dataframe tbody tr th {\n",
       "        vertical-align: top;\n",
       "    }\n",
       "\n",
       "    .dataframe thead th {\n",
       "        text-align: right;\n",
       "    }\n",
       "</style>\n",
       "<table border=\"1\" class=\"dataframe\">\n",
       "  <thead>\n",
       "    <tr style=\"text-align: right;\">\n",
       "      <th></th>\n",
       "      <th>date_time</th>\n",
       "      <th>temp</th>\n",
       "      <th>feels_like</th>\n",
       "      <th>temp_min</th>\n",
       "      <th>temp_max</th>\n",
       "      <th>humidity_per</th>\n",
       "      <th>wind_speed</th>\n",
       "      <th>rain_vol_1h_mm</th>\n",
       "      <th>snow_vol_1h_mm</th>\n",
       "      <th>clouds_all_per</th>\n",
       "      <th>weather_main</th>\n",
       "      <th>weather_description</th>\n",
       "    </tr>\n",
       "  </thead>\n",
       "  <tbody>\n",
       "  </tbody>\n",
       "</table>\n",
       "</div>"
      ],
      "text/plain": [
       "Empty DataFrame\n",
       "Columns: [date_time, temp, feels_like, temp_min, temp_max, humidity_per, wind_speed, rain_vol_1h_mm, snow_vol_1h_mm, clouds_all_per, weather_main, weather_description]\n",
       "Index: []"
      ]
     },
     "execution_count": 56,
     "metadata": {},
     "output_type": "execute_result"
    }
   ],
   "source": [
    "df_weather.loc[df_weather.duplicated(subset=['date_time'],keep=False),:]"
   ]
  },
  {
   "cell_type": "code",
   "execution_count": 57,
   "id": "5b76a102-6828-4d1f-8f5a-35408ed236c8",
   "metadata": {},
   "outputs": [],
   "source": [
    "df_crime.reset_index(drop=True,inplace=True)\n",
    "df_weather.reset_index(drop=True,inplace=True)"
   ]
  },
  {
   "cell_type": "markdown",
   "id": "dc230ef4",
   "metadata": {},
   "source": [
    "# Weather Data\n",
    "Total rows: $151,265$"
   ]
  },
  {
   "cell_type": "code",
   "execution_count": 58,
   "id": "bf35cef5",
   "metadata": {},
   "outputs": [
    {
     "data": {
      "text/html": [
       "<div>\n",
       "<style scoped>\n",
       "    .dataframe tbody tr th:only-of-type {\n",
       "        vertical-align: middle;\n",
       "    }\n",
       "\n",
       "    .dataframe tbody tr th {\n",
       "        vertical-align: top;\n",
       "    }\n",
       "\n",
       "    .dataframe thead th {\n",
       "        text-align: right;\n",
       "    }\n",
       "</style>\n",
       "<table border=\"1\" class=\"dataframe\">\n",
       "  <thead>\n",
       "    <tr style=\"text-align: right;\">\n",
       "      <th></th>\n",
       "      <th>date_time</th>\n",
       "      <th>temp</th>\n",
       "      <th>feels_like</th>\n",
       "      <th>temp_min</th>\n",
       "      <th>temp_max</th>\n",
       "      <th>humidity_per</th>\n",
       "      <th>wind_speed</th>\n",
       "      <th>rain_vol_1h_mm</th>\n",
       "      <th>snow_vol_1h_mm</th>\n",
       "      <th>clouds_all_per</th>\n",
       "      <th>weather_main</th>\n",
       "      <th>weather_description</th>\n",
       "    </tr>\n",
       "  </thead>\n",
       "  <tbody>\n",
       "    <tr>\n",
       "      <th>0</th>\n",
       "      <td>2009-01-01 01:00:00</td>\n",
       "      <td>58.622</td>\n",
       "      <td>56.210</td>\n",
       "      <td>55.274</td>\n",
       "      <td>59.702</td>\n",
       "      <td>43</td>\n",
       "      <td>5.1</td>\n",
       "      <td>0.0</td>\n",
       "      <td>0.0</td>\n",
       "      <td>1</td>\n",
       "      <td>Clear</td>\n",
       "      <td>sky is clear</td>\n",
       "    </tr>\n",
       "    <tr>\n",
       "      <th>1</th>\n",
       "      <td>2009-01-01 02:00:00</td>\n",
       "      <td>56.768</td>\n",
       "      <td>54.212</td>\n",
       "      <td>53.294</td>\n",
       "      <td>57.902</td>\n",
       "      <td>44</td>\n",
       "      <td>7.2</td>\n",
       "      <td>0.0</td>\n",
       "      <td>0.0</td>\n",
       "      <td>1</td>\n",
       "      <td>Clear</td>\n",
       "      <td>sky is clear</td>\n",
       "    </tr>\n",
       "    <tr>\n",
       "      <th>2</th>\n",
       "      <td>2009-01-01 03:00:00</td>\n",
       "      <td>55.166</td>\n",
       "      <td>52.412</td>\n",
       "      <td>52.214</td>\n",
       "      <td>56.102</td>\n",
       "      <td>43</td>\n",
       "      <td>6.2</td>\n",
       "      <td>0.0</td>\n",
       "      <td>0.0</td>\n",
       "      <td>1</td>\n",
       "      <td>Clear</td>\n",
       "      <td>sky is clear</td>\n",
       "    </tr>\n",
       "    <tr>\n",
       "      <th>3</th>\n",
       "      <td>2009-01-01 04:00:00</td>\n",
       "      <td>53.330</td>\n",
       "      <td>50.522</td>\n",
       "      <td>50.234</td>\n",
       "      <td>54.302</td>\n",
       "      <td>46</td>\n",
       "      <td>4.6</td>\n",
       "      <td>0.0</td>\n",
       "      <td>0.0</td>\n",
       "      <td>1</td>\n",
       "      <td>Clear</td>\n",
       "      <td>sky is clear</td>\n",
       "    </tr>\n",
       "    <tr>\n",
       "      <th>4</th>\n",
       "      <td>2009-01-01 05:00:00</td>\n",
       "      <td>51.188</td>\n",
       "      <td>48.308</td>\n",
       "      <td>50.702</td>\n",
       "      <td>52.034</td>\n",
       "      <td>49</td>\n",
       "      <td>3.6</td>\n",
       "      <td>0.0</td>\n",
       "      <td>0.0</td>\n",
       "      <td>1</td>\n",
       "      <td>Clear</td>\n",
       "      <td>sky is clear</td>\n",
       "    </tr>\n",
       "  </tbody>\n",
       "</table>\n",
       "</div>"
      ],
      "text/plain": [
       "             date_time    temp  feels_like  temp_min  temp_max  humidity_per  \\\n",
       "0  2009-01-01 01:00:00  58.622      56.210    55.274    59.702            43   \n",
       "1  2009-01-01 02:00:00  56.768      54.212    53.294    57.902            44   \n",
       "2  2009-01-01 03:00:00  55.166      52.412    52.214    56.102            43   \n",
       "3  2009-01-01 04:00:00  53.330      50.522    50.234    54.302            46   \n",
       "4  2009-01-01 05:00:00  51.188      48.308    50.702    52.034            49   \n",
       "\n",
       "   wind_speed  rain_vol_1h_mm  snow_vol_1h_mm  clouds_all_per weather_main  \\\n",
       "0         5.1             0.0             0.0               1        Clear   \n",
       "1         7.2             0.0             0.0               1        Clear   \n",
       "2         6.2             0.0             0.0               1        Clear   \n",
       "3         4.6             0.0             0.0               1        Clear   \n",
       "4         3.6             0.0             0.0               1        Clear   \n",
       "\n",
       "  weather_description  \n",
       "0        sky is clear  \n",
       "1        sky is clear  \n",
       "2        sky is clear  \n",
       "3        sky is clear  \n",
       "4        sky is clear  "
      ]
     },
     "execution_count": 58,
     "metadata": {},
     "output_type": "execute_result"
    }
   ],
   "source": [
    "df_weather.head()"
   ]
  },
  {
   "cell_type": "code",
   "execution_count": 59,
   "id": "30713019-d986-4b37-81ab-ac4d7bed940f",
   "metadata": {},
   "outputs": [],
   "source": [
    "# set to datetime\n",
    "df_weather.date_time = pd.to_datetime(df_weather.date_time)"
   ]
  },
  {
   "cell_type": "code",
   "execution_count": 41,
   "id": "6349db16-0a2c-483f-8aa9-262e45a273b1",
   "metadata": {},
   "outputs": [
    {
     "name": "stdout",
     "output_type": "stream",
     "text": [
      "<class 'pandas.core.frame.DataFrame'>\n",
      "RangeIndex: 87624 entries, 0 to 87623\n",
      "Data columns (total 12 columns):\n",
      " #   Column               Non-Null Count  Dtype         \n",
      "---  ------               --------------  -----         \n",
      " 0   date_time            87624 non-null  datetime64[ns]\n",
      " 1   temp                 87624 non-null  float64       \n",
      " 2   feels_like           87624 non-null  float64       \n",
      " 3   temp_min             87624 non-null  float64       \n",
      " 4   temp_max             87624 non-null  float64       \n",
      " 5   humidity_per         87624 non-null  int64         \n",
      " 6   wind_speed           87624 non-null  float64       \n",
      " 7   rain_vol_1h_mm       87624 non-null  float64       \n",
      " 8   snow_vol_1h_mm       87624 non-null  float64       \n",
      " 9   clouds_all_per       87624 non-null  int64         \n",
      " 10  weather_main         87624 non-null  object        \n",
      " 11  weather_description  87624 non-null  object        \n",
      "dtypes: datetime64[ns](1), float64(7), int64(2), object(2)\n",
      "memory usage: 8.0+ MB\n"
     ]
    }
   ],
   "source": [
    "df_weather.info()"
   ]
  },
  {
   "cell_type": "code",
   "execution_count": 60,
   "id": "e0e87848-170d-4d6e-b63b-e687ae5f32d0",
   "metadata": {},
   "outputs": [],
   "source": [
    "# set as index\n",
    "#df_weather = df_weather.set_index('date_time')"
   ]
  },
  {
   "cell_type": "code",
   "execution_count": 61,
   "id": "124284de-be05-495d-92f6-146a779a0999",
   "metadata": {},
   "outputs": [
    {
     "name": "stdout",
     "output_type": "stream",
     "text": [
      "<class 'pandas.core.frame.DataFrame'>\n",
      "RangeIndex: 87624 entries, 0 to 87623\n",
      "Data columns (total 12 columns):\n",
      " #   Column               Non-Null Count  Dtype         \n",
      "---  ------               --------------  -----         \n",
      " 0   date_time            87624 non-null  datetime64[ns]\n",
      " 1   temp                 87624 non-null  float64       \n",
      " 2   feels_like           87624 non-null  float64       \n",
      " 3   temp_min             87624 non-null  float64       \n",
      " 4   temp_max             87624 non-null  float64       \n",
      " 5   humidity_per         87624 non-null  int64         \n",
      " 6   wind_speed           87624 non-null  float64       \n",
      " 7   rain_vol_1h_mm       87624 non-null  float64       \n",
      " 8   snow_vol_1h_mm       87624 non-null  float64       \n",
      " 9   clouds_all_per       87624 non-null  int64         \n",
      " 10  weather_main         87624 non-null  object        \n",
      " 11  weather_description  87624 non-null  object        \n",
      "dtypes: datetime64[ns](1), float64(7), int64(2), object(2)\n",
      "memory usage: 8.0+ MB\n"
     ]
    }
   ],
   "source": [
    "df_weather.info()"
   ]
  },
  {
   "cell_type": "code",
   "execution_count": 62,
   "id": "3adeb6bd-362c-4bee-84dd-3376b93442d2",
   "metadata": {},
   "outputs": [
    {
     "data": {
      "text/html": [
       "<div>\n",
       "<style scoped>\n",
       "    .dataframe tbody tr th:only-of-type {\n",
       "        vertical-align: middle;\n",
       "    }\n",
       "\n",
       "    .dataframe tbody tr th {\n",
       "        vertical-align: top;\n",
       "    }\n",
       "\n",
       "    .dataframe thead th {\n",
       "        text-align: right;\n",
       "    }\n",
       "</style>\n",
       "<table border=\"1\" class=\"dataframe\">\n",
       "  <thead>\n",
       "    <tr style=\"text-align: right;\">\n",
       "      <th></th>\n",
       "      <th>date_time</th>\n",
       "      <th>temp</th>\n",
       "      <th>feels_like</th>\n",
       "      <th>temp_min</th>\n",
       "      <th>temp_max</th>\n",
       "      <th>humidity_per</th>\n",
       "      <th>wind_speed</th>\n",
       "      <th>rain_vol_1h_mm</th>\n",
       "      <th>snow_vol_1h_mm</th>\n",
       "      <th>clouds_all_per</th>\n",
       "      <th>weather_main</th>\n",
       "      <th>weather_description</th>\n",
       "    </tr>\n",
       "  </thead>\n",
       "  <tbody>\n",
       "    <tr>\n",
       "      <th>0</th>\n",
       "      <td>2009-01-01 01:00:00</td>\n",
       "      <td>58.622</td>\n",
       "      <td>56.210</td>\n",
       "      <td>55.274</td>\n",
       "      <td>59.702</td>\n",
       "      <td>43</td>\n",
       "      <td>5.1</td>\n",
       "      <td>0.0</td>\n",
       "      <td>0.0</td>\n",
       "      <td>1</td>\n",
       "      <td>Clear</td>\n",
       "      <td>sky is clear</td>\n",
       "    </tr>\n",
       "    <tr>\n",
       "      <th>1</th>\n",
       "      <td>2009-01-01 02:00:00</td>\n",
       "      <td>56.768</td>\n",
       "      <td>54.212</td>\n",
       "      <td>53.294</td>\n",
       "      <td>57.902</td>\n",
       "      <td>44</td>\n",
       "      <td>7.2</td>\n",
       "      <td>0.0</td>\n",
       "      <td>0.0</td>\n",
       "      <td>1</td>\n",
       "      <td>Clear</td>\n",
       "      <td>sky is clear</td>\n",
       "    </tr>\n",
       "    <tr>\n",
       "      <th>2</th>\n",
       "      <td>2009-01-01 03:00:00</td>\n",
       "      <td>55.166</td>\n",
       "      <td>52.412</td>\n",
       "      <td>52.214</td>\n",
       "      <td>56.102</td>\n",
       "      <td>43</td>\n",
       "      <td>6.2</td>\n",
       "      <td>0.0</td>\n",
       "      <td>0.0</td>\n",
       "      <td>1</td>\n",
       "      <td>Clear</td>\n",
       "      <td>sky is clear</td>\n",
       "    </tr>\n",
       "    <tr>\n",
       "      <th>3</th>\n",
       "      <td>2009-01-01 04:00:00</td>\n",
       "      <td>53.330</td>\n",
       "      <td>50.522</td>\n",
       "      <td>50.234</td>\n",
       "      <td>54.302</td>\n",
       "      <td>46</td>\n",
       "      <td>4.6</td>\n",
       "      <td>0.0</td>\n",
       "      <td>0.0</td>\n",
       "      <td>1</td>\n",
       "      <td>Clear</td>\n",
       "      <td>sky is clear</td>\n",
       "    </tr>\n",
       "    <tr>\n",
       "      <th>4</th>\n",
       "      <td>2009-01-01 05:00:00</td>\n",
       "      <td>51.188</td>\n",
       "      <td>48.308</td>\n",
       "      <td>50.702</td>\n",
       "      <td>52.034</td>\n",
       "      <td>49</td>\n",
       "      <td>3.6</td>\n",
       "      <td>0.0</td>\n",
       "      <td>0.0</td>\n",
       "      <td>1</td>\n",
       "      <td>Clear</td>\n",
       "      <td>sky is clear</td>\n",
       "    </tr>\n",
       "  </tbody>\n",
       "</table>\n",
       "</div>"
      ],
      "text/plain": [
       "            date_time    temp  feels_like  temp_min  temp_max  humidity_per  \\\n",
       "0 2009-01-01 01:00:00  58.622      56.210    55.274    59.702            43   \n",
       "1 2009-01-01 02:00:00  56.768      54.212    53.294    57.902            44   \n",
       "2 2009-01-01 03:00:00  55.166      52.412    52.214    56.102            43   \n",
       "3 2009-01-01 04:00:00  53.330      50.522    50.234    54.302            46   \n",
       "4 2009-01-01 05:00:00  51.188      48.308    50.702    52.034            49   \n",
       "\n",
       "   wind_speed  rain_vol_1h_mm  snow_vol_1h_mm  clouds_all_per weather_main  \\\n",
       "0         5.1             0.0             0.0               1        Clear   \n",
       "1         7.2             0.0             0.0               1        Clear   \n",
       "2         6.2             0.0             0.0               1        Clear   \n",
       "3         4.6             0.0             0.0               1        Clear   \n",
       "4         3.6             0.0             0.0               1        Clear   \n",
       "\n",
       "  weather_description  \n",
       "0        sky is clear  \n",
       "1        sky is clear  \n",
       "2        sky is clear  \n",
       "3        sky is clear  \n",
       "4        sky is clear  "
      ]
     },
     "execution_count": 62,
     "metadata": {},
     "output_type": "execute_result"
    }
   ],
   "source": [
    "df_weather.head()"
   ]
  },
  {
   "cell_type": "code",
   "execution_count": 63,
   "id": "3059e3d9-2edc-4a09-897d-2c8e16012dbe",
   "metadata": {},
   "outputs": [
    {
     "name": "stdout",
     "output_type": "stream",
     "text": [
      "<class 'pandas.core.frame.DataFrame'>\n",
      "RangeIndex: 1121231 entries, 0 to 1121230\n",
      "Data columns (total 13 columns):\n",
      " #   Column               Non-Null Count    Dtype         \n",
      "---  ------               --------------    -----         \n",
      " 0   date_time            1121231 non-null  datetime64[ns]\n",
      " 1   offenses             1121231 non-null  int64         \n",
      " 2   offense_type         1121231 non-null  object        \n",
      " 3   block_range          1121231 non-null  object        \n",
      " 4   street_name          1121231 non-null  object        \n",
      " 5   type                 1121231 non-null  object        \n",
      " 6   suffix               1121231 non-null  object        \n",
      " 7   beat                 1121231 non-null  object        \n",
      " 8   premise              1121231 non-null  object        \n",
      " 9   date                 1121231 non-null  object        \n",
      " 10  hour                 1121231 non-null  int64         \n",
      " 11  year                 1121231 non-null  int64         \n",
      " 12  premise_description  1121231 non-null  object        \n",
      "dtypes: datetime64[ns](1), int64(3), object(9)\n",
      "memory usage: 111.2+ MB\n"
     ]
    }
   ],
   "source": [
    "df_crime.info()"
   ]
  },
  {
   "cell_type": "markdown",
   "id": "0bfcbb9c-4ad1-47dc-8c0a-665270f417ee",
   "metadata": {},
   "source": [
    "# MERGE"
   ]
  },
  {
   "cell_type": "code",
   "execution_count": 64,
   "id": "692d7fa7-b5a2-4776-ab7a-80ff07337fe7",
   "metadata": {},
   "outputs": [
    {
     "name": "stdout",
     "output_type": "stream",
     "text": [
      "<class 'pandas.core.frame.DataFrame'>\n",
      "Int64Index: 1121231 entries, 0 to 1121230\n",
      "Data columns (total 24 columns):\n",
      " #   Column               Non-Null Count    Dtype         \n",
      "---  ------               --------------    -----         \n",
      " 0   date_time            1121231 non-null  datetime64[ns]\n",
      " 1   offenses             1121231 non-null  int64         \n",
      " 2   offense_type         1121231 non-null  object        \n",
      " 3   block_range          1121231 non-null  object        \n",
      " 4   street_name          1121231 non-null  object        \n",
      " 5   type                 1121231 non-null  object        \n",
      " 6   suffix               1121231 non-null  object        \n",
      " 7   beat                 1121231 non-null  object        \n",
      " 8   premise              1121231 non-null  object        \n",
      " 9   date                 1121231 non-null  object        \n",
      " 10  hour                 1121231 non-null  int64         \n",
      " 11  year                 1121231 non-null  int64         \n",
      " 12  premise_description  1121231 non-null  object        \n",
      " 13  temp                 1121231 non-null  float64       \n",
      " 14  feels_like           1121231 non-null  float64       \n",
      " 15  temp_min             1121231 non-null  float64       \n",
      " 16  temp_max             1121231 non-null  float64       \n",
      " 17  humidity_per         1121231 non-null  int64         \n",
      " 18  wind_speed           1121231 non-null  float64       \n",
      " 19  rain_vol_1h_mm       1121231 non-null  float64       \n",
      " 20  snow_vol_1h_mm       1121231 non-null  float64       \n",
      " 21  clouds_all_per       1121231 non-null  int64         \n",
      " 22  weather_main         1121231 non-null  object        \n",
      " 23  weather_description  1121231 non-null  object        \n",
      "dtypes: datetime64[ns](1), float64(7), int64(5), object(11)\n",
      "memory usage: 213.9+ MB\n"
     ]
    }
   ],
   "source": [
    "df = pd.merge(df_crime, df_weather,on=['date_time'])\n",
    "df.info()\n",
    "# crime: 1121231\n",
    "# new : 1162993"
   ]
  },
  {
   "cell_type": "code",
   "execution_count": 65,
   "id": "e9fb9e56-976e-499d-95a0-c0ba721ea9b5",
   "metadata": {},
   "outputs": [],
   "source": [
    "df.reset_index(drop=True,inplace=True)"
   ]
  },
  {
   "cell_type": "code",
   "execution_count": 66,
   "id": "9b84ef03-7d90-4828-9c9c-a1d6ff4a45db",
   "metadata": {},
   "outputs": [
    {
     "data": {
      "text/html": [
       "<div>\n",
       "<style scoped>\n",
       "    .dataframe tbody tr th:only-of-type {\n",
       "        vertical-align: middle;\n",
       "    }\n",
       "\n",
       "    .dataframe tbody tr th {\n",
       "        vertical-align: top;\n",
       "    }\n",
       "\n",
       "    .dataframe thead th {\n",
       "        text-align: right;\n",
       "    }\n",
       "</style>\n",
       "<table border=\"1\" class=\"dataframe\">\n",
       "  <thead>\n",
       "    <tr style=\"text-align: right;\">\n",
       "      <th></th>\n",
       "      <th>date_time</th>\n",
       "      <th>offenses</th>\n",
       "      <th>offense_type</th>\n",
       "      <th>block_range</th>\n",
       "      <th>street_name</th>\n",
       "      <th>type</th>\n",
       "      <th>suffix</th>\n",
       "      <th>beat</th>\n",
       "      <th>premise</th>\n",
       "      <th>date</th>\n",
       "      <th>hour</th>\n",
       "      <th>year</th>\n",
       "      <th>premise_description</th>\n",
       "      <th>temp</th>\n",
       "      <th>feels_like</th>\n",
       "      <th>temp_min</th>\n",
       "      <th>temp_max</th>\n",
       "      <th>humidity_per</th>\n",
       "      <th>wind_speed</th>\n",
       "      <th>rain_vol_1h_mm</th>\n",
       "      <th>snow_vol_1h_mm</th>\n",
       "      <th>clouds_all_per</th>\n",
       "      <th>weather_main</th>\n",
       "      <th>weather_description</th>\n",
       "    </tr>\n",
       "  </thead>\n",
       "  <tbody>\n",
       "    <tr>\n",
       "      <th>0</th>\n",
       "      <td>2009-08-01</td>\n",
       "      <td>1</td>\n",
       "      <td>Robbery</td>\n",
       "      <td>3000-3099</td>\n",
       "      <td>durham</td>\n",
       "      <td>dr</td>\n",
       "      <td>N</td>\n",
       "      <td>3B30</td>\n",
       "      <td>210</td>\n",
       "      <td>08/01/09 00:00:00</td>\n",
       "      <td>0</td>\n",
       "      <td>2009</td>\n",
       "      <td>restaurant cafeteria</td>\n",
       "      <td>85.784</td>\n",
       "      <td>96.746</td>\n",
       "      <td>82.274</td>\n",
       "      <td>89.114</td>\n",
       "      <td>75</td>\n",
       "      <td>6.2</td>\n",
       "      <td>0.0</td>\n",
       "      <td>0.0</td>\n",
       "      <td>1</td>\n",
       "      <td>Clear</td>\n",
       "      <td>sky is clear</td>\n",
       "    </tr>\n",
       "    <tr>\n",
       "      <th>1</th>\n",
       "      <td>2009-08-01</td>\n",
       "      <td>1</td>\n",
       "      <td>Robbery</td>\n",
       "      <td>500-599</td>\n",
       "      <td>seminar</td>\n",
       "      <td>dr</td>\n",
       "      <td>-</td>\n",
       "      <td>6B60</td>\n",
       "      <td>20A</td>\n",
       "      <td>08/01/09 00:00:00</td>\n",
       "      <td>0</td>\n",
       "      <td>2009</td>\n",
       "      <td>apartment</td>\n",
       "      <td>85.784</td>\n",
       "      <td>96.746</td>\n",
       "      <td>82.274</td>\n",
       "      <td>89.114</td>\n",
       "      <td>75</td>\n",
       "      <td>6.2</td>\n",
       "      <td>0.0</td>\n",
       "      <td>0.0</td>\n",
       "      <td>1</td>\n",
       "      <td>Clear</td>\n",
       "      <td>sky is clear</td>\n",
       "    </tr>\n",
       "    <tr>\n",
       "      <th>2</th>\n",
       "      <td>2009-08-01</td>\n",
       "      <td>1</td>\n",
       "      <td>Aggravated Assault</td>\n",
       "      <td>600-699</td>\n",
       "      <td>berry</td>\n",
       "      <td>rd</td>\n",
       "      <td>-</td>\n",
       "      <td>3B50</td>\n",
       "      <td>20A</td>\n",
       "      <td>08/01/09 00:00:00</td>\n",
       "      <td>0</td>\n",
       "      <td>2009</td>\n",
       "      <td>apartment</td>\n",
       "      <td>85.784</td>\n",
       "      <td>96.746</td>\n",
       "      <td>82.274</td>\n",
       "      <td>89.114</td>\n",
       "      <td>75</td>\n",
       "      <td>6.2</td>\n",
       "      <td>0.0</td>\n",
       "      <td>0.0</td>\n",
       "      <td>1</td>\n",
       "      <td>Clear</td>\n",
       "      <td>sky is clear</td>\n",
       "    </tr>\n",
       "    <tr>\n",
       "      <th>3</th>\n",
       "      <td>2009-08-01</td>\n",
       "      <td>1</td>\n",
       "      <td>Burglary</td>\n",
       "      <td>9700-9799</td>\n",
       "      <td>court glen</td>\n",
       "      <td>dr</td>\n",
       "      <td>-</td>\n",
       "      <td>19G40</td>\n",
       "      <td>20A</td>\n",
       "      <td>08/01/09 00:00:00</td>\n",
       "      <td>0</td>\n",
       "      <td>2009</td>\n",
       "      <td>apartment</td>\n",
       "      <td>85.784</td>\n",
       "      <td>96.746</td>\n",
       "      <td>82.274</td>\n",
       "      <td>89.114</td>\n",
       "      <td>75</td>\n",
       "      <td>6.2</td>\n",
       "      <td>0.0</td>\n",
       "      <td>0.0</td>\n",
       "      <td>1</td>\n",
       "      <td>Clear</td>\n",
       "      <td>sky is clear</td>\n",
       "    </tr>\n",
       "    <tr>\n",
       "      <th>4</th>\n",
       "      <td>2009-08-01</td>\n",
       "      <td>1</td>\n",
       "      <td>Auto Theft</td>\n",
       "      <td>5400-5499</td>\n",
       "      <td>newcastle</td>\n",
       "      <td>-</td>\n",
       "      <td>-</td>\n",
       "      <td>1A50</td>\n",
       "      <td>20A</td>\n",
       "      <td>08/01/09 00:00:00</td>\n",
       "      <td>0</td>\n",
       "      <td>2009</td>\n",
       "      <td>apartment</td>\n",
       "      <td>85.784</td>\n",
       "      <td>96.746</td>\n",
       "      <td>82.274</td>\n",
       "      <td>89.114</td>\n",
       "      <td>75</td>\n",
       "      <td>6.2</td>\n",
       "      <td>0.0</td>\n",
       "      <td>0.0</td>\n",
       "      <td>1</td>\n",
       "      <td>Clear</td>\n",
       "      <td>sky is clear</td>\n",
       "    </tr>\n",
       "  </tbody>\n",
       "</table>\n",
       "</div>"
      ],
      "text/plain": [
       "   date_time  offenses        offense_type block_range street_name type  \\\n",
       "0 2009-08-01         1             Robbery   3000-3099      durham   dr   \n",
       "1 2009-08-01         1             Robbery     500-599     seminar   dr   \n",
       "2 2009-08-01         1  Aggravated Assault     600-699       berry   rd   \n",
       "3 2009-08-01         1            Burglary   9700-9799  court glen   dr   \n",
       "4 2009-08-01         1          Auto Theft   5400-5499   newcastle    -   \n",
       "\n",
       "  suffix   beat premise               date  hour  year   premise_description  \\\n",
       "0      N   3B30     210  08/01/09 00:00:00     0  2009  restaurant cafeteria   \n",
       "1      -   6B60     20A  08/01/09 00:00:00     0  2009             apartment   \n",
       "2      -   3B50     20A  08/01/09 00:00:00     0  2009             apartment   \n",
       "3      -  19G40     20A  08/01/09 00:00:00     0  2009             apartment   \n",
       "4      -   1A50     20A  08/01/09 00:00:00     0  2009             apartment   \n",
       "\n",
       "     temp  feels_like  temp_min  temp_max  humidity_per  wind_speed  \\\n",
       "0  85.784      96.746    82.274    89.114            75         6.2   \n",
       "1  85.784      96.746    82.274    89.114            75         6.2   \n",
       "2  85.784      96.746    82.274    89.114            75         6.2   \n",
       "3  85.784      96.746    82.274    89.114            75         6.2   \n",
       "4  85.784      96.746    82.274    89.114            75         6.2   \n",
       "\n",
       "   rain_vol_1h_mm  snow_vol_1h_mm  clouds_all_per weather_main  \\\n",
       "0             0.0             0.0               1        Clear   \n",
       "1             0.0             0.0               1        Clear   \n",
       "2             0.0             0.0               1        Clear   \n",
       "3             0.0             0.0               1        Clear   \n",
       "4             0.0             0.0               1        Clear   \n",
       "\n",
       "  weather_description  \n",
       "0        sky is clear  \n",
       "1        sky is clear  \n",
       "2        sky is clear  \n",
       "3        sky is clear  \n",
       "4        sky is clear  "
      ]
     },
     "execution_count": 66,
     "metadata": {},
     "output_type": "execute_result"
    }
   ],
   "source": [
    "df.head()"
   ]
  },
  {
   "cell_type": "code",
   "execution_count": 67,
   "id": "82147a19-6c9e-4c7d-9348-5c2bbbcef3ee",
   "metadata": {},
   "outputs": [
    {
     "data": {
      "text/html": [
       "<div>\n",
       "<style scoped>\n",
       "    .dataframe tbody tr th:only-of-type {\n",
       "        vertical-align: middle;\n",
       "    }\n",
       "\n",
       "    .dataframe tbody tr th {\n",
       "        vertical-align: top;\n",
       "    }\n",
       "\n",
       "    .dataframe thead th {\n",
       "        text-align: right;\n",
       "    }\n",
       "</style>\n",
       "<table border=\"1\" class=\"dataframe\">\n",
       "  <thead>\n",
       "    <tr style=\"text-align: right;\">\n",
       "      <th></th>\n",
       "      <th>date_time</th>\n",
       "      <th>offenses</th>\n",
       "      <th>offense_type</th>\n",
       "      <th>block_range</th>\n",
       "      <th>street_name</th>\n",
       "      <th>type</th>\n",
       "      <th>suffix</th>\n",
       "      <th>beat</th>\n",
       "      <th>premise</th>\n",
       "      <th>date</th>\n",
       "      <th>hour</th>\n",
       "      <th>year</th>\n",
       "      <th>premise_description</th>\n",
       "    </tr>\n",
       "  </thead>\n",
       "  <tbody>\n",
       "    <tr>\n",
       "      <th>0</th>\n",
       "      <td>2009-08-01 00:00:00</td>\n",
       "      <td>1</td>\n",
       "      <td>Robbery</td>\n",
       "      <td>3000-3099</td>\n",
       "      <td>durham</td>\n",
       "      <td>dr</td>\n",
       "      <td>N</td>\n",
       "      <td>3B30</td>\n",
       "      <td>210</td>\n",
       "      <td>08/01/09 00:00:00</td>\n",
       "      <td>0</td>\n",
       "      <td>2009</td>\n",
       "      <td>restaurant cafeteria</td>\n",
       "    </tr>\n",
       "    <tr>\n",
       "      <th>1</th>\n",
       "      <td>2009-08-01 01:00:00</td>\n",
       "      <td>1</td>\n",
       "      <td>Theft</td>\n",
       "      <td>6000-6099</td>\n",
       "      <td>richmond</td>\n",
       "      <td>ave</td>\n",
       "      <td>-</td>\n",
       "      <td>18F30</td>\n",
       "      <td>210</td>\n",
       "      <td>08/01/09 00:00:00</td>\n",
       "      <td>1</td>\n",
       "      <td>2009</td>\n",
       "      <td>restaurant cafeteria</td>\n",
       "    </tr>\n",
       "    <tr>\n",
       "      <th>2</th>\n",
       "      <td>2009-08-01 04:00:00</td>\n",
       "      <td>1</td>\n",
       "      <td>Burglary</td>\n",
       "      <td>3900-3999</td>\n",
       "      <td>broadway</td>\n",
       "      <td>st</td>\n",
       "      <td>-</td>\n",
       "      <td>13D20</td>\n",
       "      <td>210</td>\n",
       "      <td>08/01/09 00:00:00</td>\n",
       "      <td>4</td>\n",
       "      <td>2009</td>\n",
       "      <td>restaurant cafeteria</td>\n",
       "    </tr>\n",
       "    <tr>\n",
       "      <th>3</th>\n",
       "      <td>2009-08-01 05:00:00</td>\n",
       "      <td>1</td>\n",
       "      <td>Burglary</td>\n",
       "      <td>8500-8599</td>\n",
       "      <td>bellaire</td>\n",
       "      <td>blvd</td>\n",
       "      <td>-</td>\n",
       "      <td>18F60</td>\n",
       "      <td>210</td>\n",
       "      <td>08/01/09 00:00:00</td>\n",
       "      <td>5</td>\n",
       "      <td>2009</td>\n",
       "      <td>restaurant cafeteria</td>\n",
       "    </tr>\n",
       "    <tr>\n",
       "      <th>4</th>\n",
       "      <td>2009-08-01 19:00:00</td>\n",
       "      <td>1</td>\n",
       "      <td>Theft</td>\n",
       "      <td>1100-1199</td>\n",
       "      <td>uptown park</td>\n",
       "      <td>blvd</td>\n",
       "      <td>-</td>\n",
       "      <td>18F20</td>\n",
       "      <td>210</td>\n",
       "      <td>08/01/09 00:00:00</td>\n",
       "      <td>19</td>\n",
       "      <td>2009</td>\n",
       "      <td>restaurant cafeteria</td>\n",
       "    </tr>\n",
       "  </tbody>\n",
       "</table>\n",
       "</div>"
      ],
      "text/plain": [
       "            date_time  offenses offense_type block_range  street_name  type  \\\n",
       "0 2009-08-01 00:00:00         1      Robbery   3000-3099       durham    dr   \n",
       "1 2009-08-01 01:00:00         1        Theft   6000-6099     richmond   ave   \n",
       "2 2009-08-01 04:00:00         1     Burglary   3900-3999     broadway    st   \n",
       "3 2009-08-01 05:00:00         1     Burglary   8500-8599     bellaire  blvd   \n",
       "4 2009-08-01 19:00:00         1        Theft   1100-1199  uptown park  blvd   \n",
       "\n",
       "  suffix   beat premise               date  hour  year   premise_description  \n",
       "0      N   3B30     210  08/01/09 00:00:00     0  2009  restaurant cafeteria  \n",
       "1      -  18F30     210  08/01/09 00:00:00     1  2009  restaurant cafeteria  \n",
       "2      -  13D20     210  08/01/09 00:00:00     4  2009  restaurant cafeteria  \n",
       "3      -  18F60     210  08/01/09 00:00:00     5  2009  restaurant cafeteria  \n",
       "4      -  18F20     210  08/01/09 00:00:00    19  2009  restaurant cafeteria  "
      ]
     },
     "execution_count": 67,
     "metadata": {},
     "output_type": "execute_result"
    }
   ],
   "source": [
    "df_crime.head()"
   ]
  },
  {
   "cell_type": "code",
   "execution_count": 68,
   "id": "64f100e1-b8ed-4780-b3ae-62e96d90fc39",
   "metadata": {},
   "outputs": [
    {
     "name": "stdout",
     "output_type": "stream",
     "text": [
      "<class 'pandas.core.frame.DataFrame'>\n",
      "RangeIndex: 1121231 entries, 0 to 1121230\n",
      "Data columns (total 24 columns):\n",
      " #   Column               Non-Null Count    Dtype         \n",
      "---  ------               --------------    -----         \n",
      " 0   date_time            1121231 non-null  datetime64[ns]\n",
      " 1   offenses             1121231 non-null  int64         \n",
      " 2   offense_type         1121231 non-null  object        \n",
      " 3   block_range          1121231 non-null  object        \n",
      " 4   street_name          1121231 non-null  object        \n",
      " 5   type                 1121231 non-null  object        \n",
      " 6   suffix               1121231 non-null  object        \n",
      " 7   beat                 1121231 non-null  object        \n",
      " 8   premise              1121231 non-null  object        \n",
      " 9   date                 1121231 non-null  object        \n",
      " 10  hour                 1121231 non-null  int64         \n",
      " 11  year                 1121231 non-null  int64         \n",
      " 12  premise_description  1121231 non-null  object        \n",
      " 13  temp                 1121231 non-null  float64       \n",
      " 14  feels_like           1121231 non-null  float64       \n",
      " 15  temp_min             1121231 non-null  float64       \n",
      " 16  temp_max             1121231 non-null  float64       \n",
      " 17  humidity_per         1121231 non-null  int64         \n",
      " 18  wind_speed           1121231 non-null  float64       \n",
      " 19  rain_vol_1h_mm       1121231 non-null  float64       \n",
      " 20  snow_vol_1h_mm       1121231 non-null  float64       \n",
      " 21  clouds_all_per       1121231 non-null  int64         \n",
      " 22  weather_main         1121231 non-null  object        \n",
      " 23  weather_description  1121231 non-null  object        \n",
      "dtypes: datetime64[ns](1), float64(7), int64(5), object(11)\n",
      "memory usage: 205.3+ MB\n"
     ]
    }
   ],
   "source": [
    "df.info()"
   ]
  },
  {
   "cell_type": "code",
   "execution_count": 69,
   "id": "a5be23ee-952d-4355-b68f-bbb3748a3248",
   "metadata": {},
   "outputs": [
    {
     "name": "stdout",
     "output_type": "stream",
     "text": [
      "<class 'pandas.core.frame.DataFrame'>\n",
      "RangeIndex: 1121231 entries, 0 to 1121230\n",
      "Data columns (total 13 columns):\n",
      " #   Column               Non-Null Count    Dtype         \n",
      "---  ------               --------------    -----         \n",
      " 0   date_time            1121231 non-null  datetime64[ns]\n",
      " 1   offenses             1121231 non-null  int64         \n",
      " 2   offense_type         1121231 non-null  object        \n",
      " 3   block_range          1121231 non-null  object        \n",
      " 4   street_name          1121231 non-null  object        \n",
      " 5   type                 1121231 non-null  object        \n",
      " 6   suffix               1121231 non-null  object        \n",
      " 7   beat                 1121231 non-null  object        \n",
      " 8   premise              1121231 non-null  object        \n",
      " 9   date                 1121231 non-null  object        \n",
      " 10  hour                 1121231 non-null  int64         \n",
      " 11  year                 1121231 non-null  int64         \n",
      " 12  premise_description  1121231 non-null  object        \n",
      "dtypes: datetime64[ns](1), int64(3), object(9)\n",
      "memory usage: 111.2+ MB\n"
     ]
    }
   ],
   "source": [
    "df_crime.info()"
   ]
  },
  {
   "cell_type": "code",
   "execution_count": null,
   "id": "1d7001d2-7a0d-4761-96ac-d0721d4ba5d5",
   "metadata": {},
   "outputs": [],
   "source": []
  },
  {
   "cell_type": "code",
   "execution_count": null,
   "id": "44b849fd-f5ee-4f65-9a7b-51eee3b06ba0",
   "metadata": {},
   "outputs": [],
   "source": []
  },
  {
   "cell_type": "code",
   "execution_count": null,
   "id": "64017cc9-bcdf-4513-9e7e-26823d6e798d",
   "metadata": {},
   "outputs": [],
   "source": []
  },
  {
   "cell_type": "code",
   "execution_count": null,
   "id": "439edf5a-5095-4753-a7e8-077a5511e307",
   "metadata": {},
   "outputs": [],
   "source": []
  },
  {
   "cell_type": "code",
   "execution_count": null,
   "id": "9adefd51-0918-4b42-8e93-cf49242f5c5c",
   "metadata": {},
   "outputs": [],
   "source": []
  },
  {
   "cell_type": "code",
   "execution_count": null,
   "id": "33ba9576-0f13-4432-815f-2a87cb07d164",
   "metadata": {},
   "outputs": [],
   "source": []
  },
  {
   "cell_type": "code",
   "execution_count": null,
   "id": "301342a5-c139-47fb-b899-0acfb1a1988a",
   "metadata": {},
   "outputs": [],
   "source": []
  },
  {
   "cell_type": "code",
   "execution_count": null,
   "id": "3dcadd59",
   "metadata": {},
   "outputs": [],
   "source": []
  }
 ],
 "metadata": {
  "kernelspec": {
   "display_name": "Python 3",
   "language": "python",
   "name": "python3"
  },
  "language_info": {
   "codemirror_mode": {
    "name": "ipython",
    "version": 3
   },
   "file_extension": ".py",
   "mimetype": "text/x-python",
   "name": "python",
   "nbconvert_exporter": "python",
   "pygments_lexer": "ipython3",
   "version": "3.9.6"
  }
 },
 "nbformat": 4,
 "nbformat_minor": 5
}
