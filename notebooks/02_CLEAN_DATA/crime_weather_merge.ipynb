{
 "cells": [
  {
   "cell_type": "code",
   "execution_count": 1,
   "id": "bbb56936",
   "metadata": {},
   "outputs": [
    {
     "data": {
      "text/html": [
       "        <script type=\"text/javascript\">\n",
       "        window.PlotlyConfig = {MathJaxConfig: 'local'};\n",
       "        if (window.MathJax) {MathJax.Hub.Config({SVG: {font: \"STIX-Web\"}});}\n",
       "        if (typeof require !== 'undefined') {\n",
       "        require.undef(\"plotly\");\n",
       "        requirejs.config({\n",
       "            paths: {\n",
       "                'plotly': ['https://cdn.plot.ly/plotly-2.2.0.min']\n",
       "            }\n",
       "        });\n",
       "        require(['plotly'], function(Plotly) {\n",
       "            window._Plotly = Plotly;\n",
       "        });\n",
       "        }\n",
       "        </script>\n",
       "        "
      ]
     },
     "metadata": {},
     "output_type": "display_data"
    },
    {
     "name": "stdout",
     "output_type": "stream",
     "text": [
      "\n",
      "python\t3.9.6 (default, Jul 30 2021, 16:35:19) \n",
      "[GCC 7.5.0]\n",
      "---------------------\n",
      "Versions:\n",
      "----------------------\n",
      "pandas      1.3.1\n",
      "numpy       1.20.3\n",
      "matplotlib  3.4.2\n",
      "seaborn     0.11.1\n",
      "plotly      5.1.0\n",
      "boto3       1.18.16\n",
      "awswrangler 2.10.0\n",
      "----------------------\n",
      "\n",
      "\n",
      "Loaded Libraries\n",
      "-------------------\n",
      "import pandas as pd\n",
      "import numpy as np\n",
      "import sys,os\n",
      "import re\n",
      "import glob\n",
      "import pickle\n",
      "import seaborn as sns\n",
      "import matplotlib.pyplot as plt\n",
      "import plotly\n",
      "import plotly.graph_objs as go\n",
      "from plotly.offline import download_plotlyjs, init_notebook_mode, plot, iplot\n",
      "init_notebook_mode(connected=True)\n",
      "\n",
      "\n",
      "## AWS\n",
      "import boto3\n",
      "import awswrangler as wr\n",
      "----------------\n",
      "\n",
      "\n",
      "GLOBAL VARIABLES\n",
      "--------------------------\n",
      "# Creating the low level functional client\n",
      "client = boto3.client(\n",
      "    's3',\n",
      "    aws_access_key_id = AWS_KEY_ID,\n",
      "    aws_secret_access_key = AWS_SECRET,\n",
      ")\n",
      "    \n",
      "# Creating the high level object oriented interface\n",
      "resource = boto3.resource(\n",
      "    's3',\n",
      "    aws_access_key_id = AWS_KEY_ID,\n",
      "    aws_secret_access_key = AWS_SECRET,\n",
      ")\n",
      "\n",
      "HERE_DIR: list current directory path\n",
      "------------------------------\n",
      "\n",
      "# SAVE PLOTS\n",
      "To save a plot call\n",
      "`save_plots(fig_variable,'name_of_plot')`\n",
      "\n",
      "source file: src/start.py\n",
      "\n",
      "\n"
     ]
    }
   ],
   "source": [
    "%run ../../src/start.py"
   ]
  },
  {
   "cell_type": "markdown",
   "id": "ac9236b4",
   "metadata": {},
   "source": [
    "## Load Crime Data"
   ]
  },
  {
   "cell_type": "code",
   "execution_count": 2,
   "id": "bad28410",
   "metadata": {},
   "outputs": [],
   "source": [
    "# helper function\n",
    "def bucket_raw_path(bucket_name,path_dir):\n",
    "    ''''''\n",
    "    raw_path = f's3://{bucket_name}/{path_dir}'\n",
    "    return raw_path"
   ]
  },
  {
   "cell_type": "code",
   "execution_count": 95,
   "id": "54df38c0",
   "metadata": {},
   "outputs": [
    {
     "data": {
      "text/plain": [
       "'s3://dend-data/capstone/final-data/crime-data/'"
      ]
     },
     "execution_count": 95,
     "metadata": {},
     "output_type": "execute_result"
    }
   ],
   "source": [
    "raw = bucket_raw_path('dend-data',f'capstone/final-data/crime-data/')\n",
    "raw"
   ]
  },
  {
   "cell_type": "markdown",
   "id": "43d54c4c",
   "metadata": {},
   "source": [
    "## List Objects in bucket"
   ]
  },
  {
   "cell_type": "code",
   "execution_count": 96,
   "id": "9b4bf9d8",
   "metadata": {},
   "outputs": [
    {
     "data": {
      "text/plain": [
       "['s3://dend-data/capstone/final-data/crime-data/crime-09-18.csv']"
      ]
     },
     "execution_count": 96,
     "metadata": {},
     "output_type": "execute_result"
    }
   ],
   "source": [
    "wr.s3.list_objects(raw)"
   ]
  },
  {
   "cell_type": "markdown",
   "id": "42263488",
   "metadata": {},
   "source": [
    "# Create dataframe from S3"
   ]
  },
  {
   "cell_type": "code",
   "execution_count": 97,
   "id": "4c456e74",
   "metadata": {},
   "outputs": [],
   "source": [
    "def s3_files_to_df(s3_files_path):\n",
    "    ''' load s3 file path from wr result\n",
    "    returns a dataframe of concat files '''\n",
    "    df_list = []\n",
    "    for i in wr.s3.list_objects(s3_files_path):\n",
    "        temp = wr.s3.read_csv(i,)\n",
    "        df_list.append(temp)\n",
    "    # create df from list files\n",
    "    df = pd.concat(df_list, ignore_index=True)\n",
    "    return df"
   ]
  },
  {
   "cell_type": "code",
   "execution_count": 98,
   "id": "745ddb03",
   "metadata": {},
   "outputs": [
    {
     "name": "stdout",
     "output_type": "stream",
     "text": [
      "CPU times: user 2.24 s, sys: 879 ms, total: 3.12 s\n",
      "Wall time: 37.7 s\n"
     ]
    }
   ],
   "source": [
    "%%time\n",
    "df_crime = s3_files_to_df(raw)"
   ]
  },
  {
   "cell_type": "code",
   "execution_count": 99,
   "id": "858e03b6",
   "metadata": {},
   "outputs": [
    {
     "name": "stdout",
     "output_type": "stream",
     "text": [
      "<class 'pandas.core.frame.DataFrame'>\n",
      "RangeIndex: 1125124 entries, 0 to 1125123\n",
      "Data columns (total 10 columns):\n",
      " #   Column        Non-Null Count    Dtype \n",
      "---  ------        --------------    ----- \n",
      " 0   date_time     1125124 non-null  object\n",
      " 1   offenses      1125124 non-null  int64 \n",
      " 2   offense_type  1125124 non-null  object\n",
      " 3   block_range   1125124 non-null  object\n",
      " 4   street_name   1125117 non-null  object\n",
      " 5   type          1125124 non-null  object\n",
      " 6   suffix        1125124 non-null  object\n",
      " 7   beat          1125124 non-null  object\n",
      " 8   premise       1125124 non-null  object\n",
      " 9   year          1125124 non-null  int64 \n",
      "dtypes: int64(2), object(8)\n",
      "memory usage: 85.8+ MB\n"
     ]
    }
   ],
   "source": [
    "df_crime.info()"
   ]
  },
  {
   "cell_type": "markdown",
   "id": "2ef84b19",
   "metadata": {},
   "source": [
    "# Crime Data\n",
    "Total rows: $1,125,123$"
   ]
  },
  {
   "cell_type": "code",
   "execution_count": 10,
   "id": "344c9400",
   "metadata": {},
   "outputs": [
    {
     "data": {
      "text/html": [
       "<div>\n",
       "<style scoped>\n",
       "    .dataframe tbody tr th:only-of-type {\n",
       "        vertical-align: middle;\n",
       "    }\n",
       "\n",
       "    .dataframe tbody tr th {\n",
       "        vertical-align: top;\n",
       "    }\n",
       "\n",
       "    .dataframe thead th {\n",
       "        text-align: right;\n",
       "    }\n",
       "</style>\n",
       "<table border=\"1\" class=\"dataframe\">\n",
       "  <thead>\n",
       "    <tr style=\"text-align: right;\">\n",
       "      <th></th>\n",
       "      <th>date_time</th>\n",
       "      <th>offenses</th>\n",
       "      <th>offense_type</th>\n",
       "      <th>block_range</th>\n",
       "      <th>street_name</th>\n",
       "      <th>type</th>\n",
       "      <th>suffix</th>\n",
       "      <th>beat</th>\n",
       "      <th>premise</th>\n",
       "      <th>year</th>\n",
       "    </tr>\n",
       "  </thead>\n",
       "  <tbody>\n",
       "    <tr>\n",
       "      <th>0</th>\n",
       "      <td>2009-08-01 00:00:00</td>\n",
       "      <td>1</td>\n",
       "      <td>Robbery</td>\n",
       "      <td>3000-3099</td>\n",
       "      <td>durham</td>\n",
       "      <td>dr</td>\n",
       "      <td>N</td>\n",
       "      <td>3B30</td>\n",
       "      <td>210</td>\n",
       "      <td>2009</td>\n",
       "    </tr>\n",
       "    <tr>\n",
       "      <th>1</th>\n",
       "      <td>2009-08-01 00:00:00</td>\n",
       "      <td>1</td>\n",
       "      <td>Robbery</td>\n",
       "      <td>500-599</td>\n",
       "      <td>seminar</td>\n",
       "      <td>dr</td>\n",
       "      <td>-</td>\n",
       "      <td>6B60</td>\n",
       "      <td>20a</td>\n",
       "      <td>2009</td>\n",
       "    </tr>\n",
       "    <tr>\n",
       "      <th>2</th>\n",
       "      <td>2009-08-01 00:00:00</td>\n",
       "      <td>1</td>\n",
       "      <td>Robbery</td>\n",
       "      <td>8300-8399</td>\n",
       "      <td>north houston rosslyn</td>\n",
       "      <td>rd</td>\n",
       "      <td>-</td>\n",
       "      <td>6B30</td>\n",
       "      <td>18n</td>\n",
       "      <td>2009</td>\n",
       "    </tr>\n",
       "    <tr>\n",
       "      <th>3</th>\n",
       "      <td>2009-08-01 00:00:00</td>\n",
       "      <td>1</td>\n",
       "      <td>Robbery</td>\n",
       "      <td>6300-6399</td>\n",
       "      <td>skyline</td>\n",
       "      <td>dr</td>\n",
       "      <td>-</td>\n",
       "      <td>18F30</td>\n",
       "      <td>18a</td>\n",
       "      <td>2009</td>\n",
       "    </tr>\n",
       "    <tr>\n",
       "      <th>4</th>\n",
       "      <td>2009-08-01 00:00:00</td>\n",
       "      <td>1</td>\n",
       "      <td>Robbery</td>\n",
       "      <td>5900-5999</td>\n",
       "      <td>fulton</td>\n",
       "      <td>st</td>\n",
       "      <td>-</td>\n",
       "      <td>2A20</td>\n",
       "      <td>18n</td>\n",
       "      <td>2009</td>\n",
       "    </tr>\n",
       "  </tbody>\n",
       "</table>\n",
       "</div>"
      ],
      "text/plain": [
       "             date_time  offenses offense_type block_range  \\\n",
       "0  2009-08-01 00:00:00         1      Robbery   3000-3099   \n",
       "1  2009-08-01 00:00:00         1      Robbery     500-599   \n",
       "2  2009-08-01 00:00:00         1      Robbery   8300-8399   \n",
       "3  2009-08-01 00:00:00         1      Robbery   6300-6399   \n",
       "4  2009-08-01 00:00:00         1      Robbery   5900-5999   \n",
       "\n",
       "             street_name type suffix   beat premise  year  \n",
       "0                 durham   dr      N   3B30     210  2009  \n",
       "1                seminar   dr      -   6B60     20a  2009  \n",
       "2  north houston rosslyn   rd      -   6B30     18n  2009  \n",
       "3                skyline   dr      -  18F30     18a  2009  \n",
       "4                 fulton   st      -   2A20     18n  2009  "
      ]
     },
     "execution_count": 10,
     "metadata": {},
     "output_type": "execute_result"
    }
   ],
   "source": [
    "df_crime.head()"
   ]
  },
  {
   "cell_type": "markdown",
   "id": "c3c2b9cc",
   "metadata": {},
   "source": [
    "# Load Weather Data"
   ]
  },
  {
   "cell_type": "code",
   "execution_count": 15,
   "id": "53022755",
   "metadata": {},
   "outputs": [
    {
     "data": {
      "text/plain": [
       "'s3://dend-data/capstone/inter-data/weather-data/'"
      ]
     },
     "execution_count": 15,
     "metadata": {},
     "output_type": "execute_result"
    }
   ],
   "source": [
    "raw = bucket_raw_path('dend-data',f'capstone/inter-data/weather-data/')\n",
    "raw"
   ]
  },
  {
   "cell_type": "markdown",
   "id": "5eedfb06",
   "metadata": {},
   "source": [
    "# List objects in bucket"
   ]
  },
  {
   "cell_type": "code",
   "execution_count": 16,
   "id": "00520be0",
   "metadata": {},
   "outputs": [
    {
     "data": {
      "text/plain": [
       "['s3://dend-data/capstone/inter-data/weather-data/weather-09-18.csv']"
      ]
     },
     "execution_count": 16,
     "metadata": {},
     "output_type": "execute_result"
    }
   ],
   "source": [
    "wr.s3.list_objects(raw)"
   ]
  },
  {
   "cell_type": "markdown",
   "id": "ba330e46",
   "metadata": {},
   "source": [
    "# Create dataframe from s3 files"
   ]
  },
  {
   "cell_type": "code",
   "execution_count": 17,
   "id": "ee477927",
   "metadata": {},
   "outputs": [
    {
     "name": "stdout",
     "output_type": "stream",
     "text": [
      "CPU times: user 271 ms, sys: 73.9 ms, total: 345 ms\n",
      "Wall time: 6.06 s\n"
     ]
    }
   ],
   "source": [
    "%%time\n",
    "df_weather = s3_files_to_df(raw)"
   ]
  },
  {
   "cell_type": "code",
   "execution_count": 19,
   "id": "1a4b4260",
   "metadata": {},
   "outputs": [
    {
     "name": "stdout",
     "output_type": "stream",
     "text": [
      "<class 'pandas.core.frame.DataFrame'>\n",
      "RangeIndex: 91021 entries, 0 to 91020\n",
      "Data columns (total 12 columns):\n",
      " #   Column               Non-Null Count  Dtype  \n",
      "---  ------               --------------  -----  \n",
      " 0   date_time            91021 non-null  object \n",
      " 1   temp                 91021 non-null  float64\n",
      " 2   feels_like           91021 non-null  float64\n",
      " 3   temp_min             91021 non-null  float64\n",
      " 4   temp_max             91021 non-null  float64\n",
      " 5   humidity_per         91021 non-null  int64  \n",
      " 6   wind_speed           91021 non-null  float64\n",
      " 7   rain_vol_1h_mm       91021 non-null  float64\n",
      " 8   snow_vol_1h_mm       91021 non-null  float64\n",
      " 9   clouds_all_per       91021 non-null  int64  \n",
      " 10  weather_main         91021 non-null  object \n",
      " 11  weather_description  91021 non-null  object \n",
      "dtypes: float64(7), int64(2), object(3)\n",
      "memory usage: 8.3+ MB\n"
     ]
    }
   ],
   "source": [
    "df_weather.info()"
   ]
  },
  {
   "cell_type": "markdown",
   "id": "dc230ef4",
   "metadata": {},
   "source": [
    "# Weather Data\n",
    "Total rows: $91,021$"
   ]
  },
  {
   "cell_type": "code",
   "execution_count": 22,
   "id": "bf35cef5",
   "metadata": {},
   "outputs": [
    {
     "data": {
      "text/html": [
       "<div>\n",
       "<style scoped>\n",
       "    .dataframe tbody tr th:only-of-type {\n",
       "        vertical-align: middle;\n",
       "    }\n",
       "\n",
       "    .dataframe tbody tr th {\n",
       "        vertical-align: top;\n",
       "    }\n",
       "\n",
       "    .dataframe thead th {\n",
       "        text-align: right;\n",
       "    }\n",
       "</style>\n",
       "<table border=\"1\" class=\"dataframe\">\n",
       "  <thead>\n",
       "    <tr style=\"text-align: right;\">\n",
       "      <th></th>\n",
       "      <th>date_time</th>\n",
       "      <th>temp</th>\n",
       "      <th>feels_like</th>\n",
       "      <th>temp_min</th>\n",
       "      <th>temp_max</th>\n",
       "      <th>humidity_per</th>\n",
       "      <th>wind_speed</th>\n",
       "      <th>rain_vol_1h_mm</th>\n",
       "      <th>snow_vol_1h_mm</th>\n",
       "      <th>clouds_all_per</th>\n",
       "      <th>weather_main</th>\n",
       "      <th>weather_description</th>\n",
       "    </tr>\n",
       "  </thead>\n",
       "  <tbody>\n",
       "    <tr>\n",
       "      <th>0</th>\n",
       "      <td>2009-01-01 01:00:00</td>\n",
       "      <td>58.622</td>\n",
       "      <td>56.210</td>\n",
       "      <td>55.274</td>\n",
       "      <td>59.702</td>\n",
       "      <td>43</td>\n",
       "      <td>5.1</td>\n",
       "      <td>0.0</td>\n",
       "      <td>0.0</td>\n",
       "      <td>1</td>\n",
       "      <td>Clear</td>\n",
       "      <td>sky is clear</td>\n",
       "    </tr>\n",
       "    <tr>\n",
       "      <th>1</th>\n",
       "      <td>2009-01-01 02:00:00</td>\n",
       "      <td>56.768</td>\n",
       "      <td>54.212</td>\n",
       "      <td>53.294</td>\n",
       "      <td>57.902</td>\n",
       "      <td>44</td>\n",
       "      <td>7.2</td>\n",
       "      <td>0.0</td>\n",
       "      <td>0.0</td>\n",
       "      <td>1</td>\n",
       "      <td>Clear</td>\n",
       "      <td>sky is clear</td>\n",
       "    </tr>\n",
       "    <tr>\n",
       "      <th>2</th>\n",
       "      <td>2009-01-01 03:00:00</td>\n",
       "      <td>55.166</td>\n",
       "      <td>52.412</td>\n",
       "      <td>52.214</td>\n",
       "      <td>56.102</td>\n",
       "      <td>43</td>\n",
       "      <td>6.2</td>\n",
       "      <td>0.0</td>\n",
       "      <td>0.0</td>\n",
       "      <td>1</td>\n",
       "      <td>Clear</td>\n",
       "      <td>sky is clear</td>\n",
       "    </tr>\n",
       "    <tr>\n",
       "      <th>3</th>\n",
       "      <td>2009-01-01 04:00:00</td>\n",
       "      <td>53.330</td>\n",
       "      <td>50.522</td>\n",
       "      <td>50.234</td>\n",
       "      <td>54.302</td>\n",
       "      <td>46</td>\n",
       "      <td>4.6</td>\n",
       "      <td>0.0</td>\n",
       "      <td>0.0</td>\n",
       "      <td>1</td>\n",
       "      <td>Clear</td>\n",
       "      <td>sky is clear</td>\n",
       "    </tr>\n",
       "    <tr>\n",
       "      <th>4</th>\n",
       "      <td>2009-01-01 05:00:00</td>\n",
       "      <td>51.188</td>\n",
       "      <td>48.308</td>\n",
       "      <td>50.702</td>\n",
       "      <td>52.034</td>\n",
       "      <td>49</td>\n",
       "      <td>3.6</td>\n",
       "      <td>0.0</td>\n",
       "      <td>0.0</td>\n",
       "      <td>1</td>\n",
       "      <td>Clear</td>\n",
       "      <td>sky is clear</td>\n",
       "    </tr>\n",
       "  </tbody>\n",
       "</table>\n",
       "</div>"
      ],
      "text/plain": [
       "             date_time    temp  feels_like  temp_min  temp_max  humidity_per  \\\n",
       "0  2009-01-01 01:00:00  58.622      56.210    55.274    59.702            43   \n",
       "1  2009-01-01 02:00:00  56.768      54.212    53.294    57.902            44   \n",
       "2  2009-01-01 03:00:00  55.166      52.412    52.214    56.102            43   \n",
       "3  2009-01-01 04:00:00  53.330      50.522    50.234    54.302            46   \n",
       "4  2009-01-01 05:00:00  51.188      48.308    50.702    52.034            49   \n",
       "\n",
       "   wind_speed  rain_vol_1h_mm  snow_vol_1h_mm  clouds_all_per weather_main  \\\n",
       "0         5.1             0.0             0.0               1        Clear   \n",
       "1         7.2             0.0             0.0               1        Clear   \n",
       "2         6.2             0.0             0.0               1        Clear   \n",
       "3         4.6             0.0             0.0               1        Clear   \n",
       "4         3.6             0.0             0.0               1        Clear   \n",
       "\n",
       "  weather_description  \n",
       "0        sky is clear  \n",
       "1        sky is clear  \n",
       "2        sky is clear  \n",
       "3        sky is clear  \n",
       "4        sky is clear  "
      ]
     },
     "execution_count": 22,
     "metadata": {},
     "output_type": "execute_result"
    }
   ],
   "source": [
    "df_weather.head()"
   ]
  },
  {
   "cell_type": "markdown",
   "id": "b4962a6e",
   "metadata": {},
   "source": [
    "# filter only dates from weather dataset that are in the crime dataset"
   ]
  },
  {
   "cell_type": "code",
   "execution_count": 24,
   "id": "fdc8d6d2",
   "metadata": {},
   "outputs": [
    {
     "data": {
      "text/plain": [
       "'2009-01-01 00:00:00'"
      ]
     },
     "execution_count": 24,
     "metadata": {},
     "output_type": "execute_result"
    }
   ],
   "source": [
    "df_crime.date_time.min()"
   ]
  },
  {
   "cell_type": "code",
   "execution_count": 25,
   "id": "f277a1f7",
   "metadata": {},
   "outputs": [
    {
     "data": {
      "text/plain": [
       "'2018-05-31 23:00:00'"
      ]
     },
     "execution_count": 25,
     "metadata": {},
     "output_type": "execute_result"
    }
   ],
   "source": [
    "df_crime.date_time.max()"
   ]
  },
  {
   "cell_type": "code",
   "execution_count": 26,
   "id": "7a8854d3",
   "metadata": {},
   "outputs": [
    {
     "data": {
      "text/plain": [
       "'2009-01-01 01:00:00'"
      ]
     },
     "execution_count": 26,
     "metadata": {},
     "output_type": "execute_result"
    }
   ],
   "source": [
    "df_weather.date_time.min()"
   ]
  },
  {
   "cell_type": "code",
   "execution_count": 27,
   "id": "73254a38",
   "metadata": {},
   "outputs": [
    {
     "data": {
      "text/plain": [
       "'2018-12-31 00:00:00'"
      ]
     },
     "execution_count": 27,
     "metadata": {},
     "output_type": "execute_result"
    }
   ],
   "source": [
    "df_weather.date_time.max()"
   ]
  },
  {
   "cell_type": "code",
   "execution_count": 29,
   "id": "77a1710e",
   "metadata": {},
   "outputs": [],
   "source": [
    "# create mask\n",
    "start_date = df_crime.date_time.min()\n",
    "end_date = df_crime.date_time.max()\n",
    "\n",
    "mask = (df_weather['date_time'] > start_date) & (df_weather['date_time'] <= end_date)\n",
    "\n",
    "dfw2 = df_weather.loc[mask].reset_index(drop=True)\n"
   ]
  },
  {
   "cell_type": "code",
   "execution_count": 31,
   "id": "7b4f291f",
   "metadata": {},
   "outputs": [
    {
     "data": {
      "text/plain": [
       "'2009-01-01 01:00:00'"
      ]
     },
     "execution_count": 31,
     "metadata": {},
     "output_type": "execute_result"
    }
   ],
   "source": [
    "dfw2.date_time.min()"
   ]
  },
  {
   "cell_type": "code",
   "execution_count": 32,
   "id": "ab9e2d37",
   "metadata": {},
   "outputs": [
    {
     "data": {
      "text/plain": [
       "'2018-05-31 23:00:00'"
      ]
     },
     "execution_count": 32,
     "metadata": {},
     "output_type": "execute_result"
    }
   ],
   "source": [
    "dfw2.date_time.max()"
   ]
  },
  {
   "cell_type": "code",
   "execution_count": 33,
   "id": "3640cd45",
   "metadata": {},
   "outputs": [
    {
     "name": "stdout",
     "output_type": "stream",
     "text": [
      "<class 'pandas.core.frame.DataFrame'>\n",
      "RangeIndex: 85554 entries, 0 to 85553\n",
      "Data columns (total 12 columns):\n",
      " #   Column               Non-Null Count  Dtype  \n",
      "---  ------               --------------  -----  \n",
      " 0   date_time            85554 non-null  object \n",
      " 1   temp                 85554 non-null  float64\n",
      " 2   feels_like           85554 non-null  float64\n",
      " 3   temp_min             85554 non-null  float64\n",
      " 4   temp_max             85554 non-null  float64\n",
      " 5   humidity_per         85554 non-null  int64  \n",
      " 6   wind_speed           85554 non-null  float64\n",
      " 7   rain_vol_1h_mm       85554 non-null  float64\n",
      " 8   snow_vol_1h_mm       85554 non-null  float64\n",
      " 9   clouds_all_per       85554 non-null  int64  \n",
      " 10  weather_main         85554 non-null  object \n",
      " 11  weather_description  85554 non-null  object \n",
      "dtypes: float64(7), int64(2), object(3)\n",
      "memory usage: 7.8+ MB\n"
     ]
    }
   ],
   "source": [
    "dfw2.info()"
   ]
  },
  {
   "cell_type": "code",
   "execution_count": 34,
   "id": "a40d76ef",
   "metadata": {},
   "outputs": [
    {
     "name": "stdout",
     "output_type": "stream",
     "text": [
      "<class 'pandas.core.frame.DataFrame'>\n",
      "RangeIndex: 91021 entries, 0 to 91020\n",
      "Data columns (total 12 columns):\n",
      " #   Column               Non-Null Count  Dtype  \n",
      "---  ------               --------------  -----  \n",
      " 0   date_time            91021 non-null  object \n",
      " 1   temp                 91021 non-null  float64\n",
      " 2   feels_like           91021 non-null  float64\n",
      " 3   temp_min             91021 non-null  float64\n",
      " 4   temp_max             91021 non-null  float64\n",
      " 5   humidity_per         91021 non-null  int64  \n",
      " 6   wind_speed           91021 non-null  float64\n",
      " 7   rain_vol_1h_mm       91021 non-null  float64\n",
      " 8   snow_vol_1h_mm       91021 non-null  float64\n",
      " 9   clouds_all_per       91021 non-null  int64  \n",
      " 10  weather_main         91021 non-null  object \n",
      " 11  weather_description  91021 non-null  object \n",
      "dtypes: float64(7), int64(2), object(3)\n",
      "memory usage: 8.3+ MB\n"
     ]
    }
   ],
   "source": [
    "df_weather.info()"
   ]
  },
  {
   "cell_type": "code",
   "execution_count": 35,
   "id": "f9e2342b",
   "metadata": {},
   "outputs": [
    {
     "data": {
      "text/plain": [
       "5467"
      ]
     },
     "execution_count": 35,
     "metadata": {},
     "output_type": "execute_result"
    }
   ],
   "source": [
    "91021 -85554 # total rows removed"
   ]
  },
  {
   "cell_type": "markdown",
   "id": "613331e3",
   "metadata": {},
   "source": [
    "# save new weather data"
   ]
  },
  {
   "cell_type": "code",
   "execution_count": null,
   "id": "69f91f49",
   "metadata": {},
   "outputs": [],
   "source": []
  },
  {
   "cell_type": "code",
   "execution_count": 37,
   "id": "c4f591d4",
   "metadata": {},
   "outputs": [
    {
     "data": {
      "text/plain": [
       "'s3://dend-data/capstone/final-data/weather-data/weather-09-18.csv'"
      ]
     },
     "execution_count": 37,
     "metadata": {},
     "output_type": "execute_result"
    }
   ],
   "source": [
    "bucket = 'dend-data'\n",
    "year = '09-18'\n",
    "file_name = f'weather-{year}.csv'\n",
    "path_to_save = f\"s3://{bucket}/capstone/final-data/weather-data/{file_name}\"\n",
    "path_to_save"
   ]
  },
  {
   "cell_type": "code",
   "execution_count": 38,
   "id": "21e21831",
   "metadata": {},
   "outputs": [
    {
     "name": "stdout",
     "output_type": "stream",
     "text": [
      "CPU times: user 840 ms, sys: 112 ms, total: 952 ms\n",
      "Wall time: 16.4 s\n"
     ]
    },
    {
     "data": {
      "text/plain": [
       "{'paths': ['s3://dend-data/capstone/final-data/weather-data/weather-09-18.csv'],\n",
       " 'partitions_values': {}}"
      ]
     },
     "execution_count": 38,
     "metadata": {},
     "output_type": "execute_result"
    }
   ],
   "source": [
    "%%time\n",
    "wr.s3.to_csv(dfw2, path_to_save, index=False)"
   ]
  },
  {
   "cell_type": "markdown",
   "id": "94baa1c3",
   "metadata": {},
   "source": [
    "# Sample Data Crime & Weather"
   ]
  },
  {
   "cell_type": "code",
   "execution_count": 43,
   "id": "bbdc516c",
   "metadata": {},
   "outputs": [
    {
     "data": {
      "text/plain": [
       "'s3://dend-data/capstone/sample-data/crime-data/'"
      ]
     },
     "execution_count": 43,
     "metadata": {},
     "output_type": "execute_result"
    }
   ],
   "source": [
    "raw = bucket_raw_path('dend-data',f'capstone/sample-data/crime-data/')\n",
    "raw"
   ]
  },
  {
   "cell_type": "code",
   "execution_count": 44,
   "id": "3b4cd391",
   "metadata": {},
   "outputs": [
    {
     "data": {
      "text/plain": [
       "['s3://dend-data/capstone/sample-data/crime-data/crime-09-18.csv']"
      ]
     },
     "execution_count": 44,
     "metadata": {},
     "output_type": "execute_result"
    }
   ],
   "source": [
    "wr.s3.list_objects(raw)"
   ]
  },
  {
   "cell_type": "code",
   "execution_count": 52,
   "id": "2a570f52",
   "metadata": {},
   "outputs": [
    {
     "name": "stdout",
     "output_type": "stream",
     "text": [
      "<class 'pandas.core.frame.DataFrame'>\n",
      "RangeIndex: 1000 entries, 0 to 999\n",
      "Data columns (total 10 columns):\n",
      " #   Column        Non-Null Count  Dtype \n",
      "---  ------        --------------  ----- \n",
      " 0   date_time     1000 non-null   object\n",
      " 1   offenses      1000 non-null   int64 \n",
      " 2   offense_type  1000 non-null   object\n",
      " 3   block_range   1000 non-null   object\n",
      " 4   street_name   1000 non-null   object\n",
      " 5   type          1000 non-null   object\n",
      " 6   suffix        1000 non-null   object\n",
      " 7   beat          1000 non-null   object\n",
      " 8   premise       1000 non-null   object\n",
      " 9   year          1000 non-null   int64 \n",
      "dtypes: int64(2), object(8)\n",
      "memory usage: 78.2+ KB\n",
      "CPU times: user 64.7 ms, sys: 783 µs, total: 65.5 ms\n",
      "Wall time: 1.14 s\n"
     ]
    }
   ],
   "source": [
    "%%time\n",
    "crime_sample = s3_files_to_df(raw)\n",
    "crime_sample.info()"
   ]
  },
  {
   "cell_type": "code",
   "execution_count": 53,
   "id": "5102773e",
   "metadata": {},
   "outputs": [
    {
     "name": "stdout",
     "output_type": "stream",
     "text": [
      "<class 'pandas.core.frame.DataFrame'>\n",
      "RangeIndex: 91021 entries, 0 to 91020\n",
      "Data columns (total 12 columns):\n",
      " #   Column               Non-Null Count  Dtype  \n",
      "---  ------               --------------  -----  \n",
      " 0   date_time            91021 non-null  object \n",
      " 1   temp                 91021 non-null  float64\n",
      " 2   feels_like           91021 non-null  float64\n",
      " 3   temp_min             91021 non-null  float64\n",
      " 4   temp_max             91021 non-null  float64\n",
      " 5   humidity_per         91021 non-null  int64  \n",
      " 6   wind_speed           91021 non-null  float64\n",
      " 7   rain_vol_1h_mm       91021 non-null  float64\n",
      " 8   snow_vol_1h_mm       91021 non-null  float64\n",
      " 9   clouds_all_per       91021 non-null  int64  \n",
      " 10  weather_main         91021 non-null  object \n",
      " 11  weather_description  91021 non-null  object \n",
      "dtypes: float64(7), int64(2), object(3)\n",
      "memory usage: 8.3+ MB\n"
     ]
    }
   ],
   "source": [
    "df_weather.info()"
   ]
  },
  {
   "cell_type": "markdown",
   "id": "579c259a",
   "metadata": {},
   "source": [
    "# Creat new weather data based on crime_sample dataset\n",
    "> just realized that if will only select range. based on the radom stye of the sample data it may not be needed but still..."
   ]
  },
  {
   "cell_type": "code",
   "execution_count": 54,
   "id": "6837392f",
   "metadata": {},
   "outputs": [],
   "source": [
    "# create mask\n",
    "start_date = crime_sample.date_time.min()\n",
    "end_date = crime_sample.date_time.max()\n",
    "\n",
    "mask = (df_weather['date_time'] > start_date) & (df_weather['date_time'] <= end_date)\n",
    "\n",
    "sample_weather = df_weather.loc[mask].reset_index(drop=True)\n"
   ]
  },
  {
   "cell_type": "code",
   "execution_count": 56,
   "id": "800c4598",
   "metadata": {},
   "outputs": [
    {
     "name": "stdout",
     "output_type": "stream",
     "text": [
      "<class 'pandas.core.frame.DataFrame'>\n",
      "RangeIndex: 85405 entries, 0 to 85404\n",
      "Data columns (total 12 columns):\n",
      " #   Column               Non-Null Count  Dtype  \n",
      "---  ------               --------------  -----  \n",
      " 0   date_time            85405 non-null  object \n",
      " 1   temp                 85405 non-null  float64\n",
      " 2   feels_like           85405 non-null  float64\n",
      " 3   temp_min             85405 non-null  float64\n",
      " 4   temp_max             85405 non-null  float64\n",
      " 5   humidity_per         85405 non-null  int64  \n",
      " 6   wind_speed           85405 non-null  float64\n",
      " 7   rain_vol_1h_mm       85405 non-null  float64\n",
      " 8   snow_vol_1h_mm       85405 non-null  float64\n",
      " 9   clouds_all_per       85405 non-null  int64  \n",
      " 10  weather_main         85405 non-null  object \n",
      " 11  weather_description  85405 non-null  object \n",
      "dtypes: float64(7), int64(2), object(3)\n",
      "memory usage: 7.8+ MB\n"
     ]
    }
   ],
   "source": [
    "sample_weather.info()"
   ]
  },
  {
   "cell_type": "markdown",
   "id": "f8ec23fc",
   "metadata": {},
   "source": [
    "# save sample_weather"
   ]
  },
  {
   "cell_type": "code",
   "execution_count": 58,
   "id": "5575ebfc",
   "metadata": {},
   "outputs": [
    {
     "data": {
      "text/plain": [
       "'s3://dend-data/capstone/sample-data/weather-data/weather-09-18.csv'"
      ]
     },
     "execution_count": 58,
     "metadata": {},
     "output_type": "execute_result"
    }
   ],
   "source": [
    "bucket = 'dend-data'\n",
    "year = '09-18'\n",
    "file_name = f'weather-{year}.csv'\n",
    "path_to_save = f\"s3://{bucket}/capstone/sample-data/weather-data/{file_name}\"\n",
    "path_to_save"
   ]
  },
  {
   "cell_type": "code",
   "execution_count": 59,
   "id": "c96d957b",
   "metadata": {},
   "outputs": [
    {
     "name": "stdout",
     "output_type": "stream",
     "text": [
      "CPU times: user 832 ms, sys: 115 ms, total: 947 ms\n",
      "Wall time: 16.4 s\n"
     ]
    },
    {
     "data": {
      "text/plain": [
       "{'paths': ['s3://dend-data/capstone/sample-data/weather-data/weather-09-18.csv'],\n",
       " 'partitions_values': {}}"
      ]
     },
     "execution_count": 59,
     "metadata": {},
     "output_type": "execute_result"
    }
   ],
   "source": [
    "%%time\n",
    "wr.s3.to_csv(sample_weather, path_to_save, index=False)"
   ]
  },
  {
   "cell_type": "markdown",
   "id": "4dab1f29",
   "metadata": {},
   "source": [
    "# UNION"
   ]
  },
  {
   "cell_type": "code",
   "execution_count": 61,
   "id": "99f9fb11",
   "metadata": {},
   "outputs": [],
   "source": [
    "new = pd.merge(crime_sample, df_weather, on=['date_time'])"
   ]
  },
  {
   "cell_type": "code",
   "execution_count": 63,
   "id": "25cd1bec",
   "metadata": {},
   "outputs": [
    {
     "name": "stdout",
     "output_type": "stream",
     "text": [
      "<class 'pandas.core.frame.DataFrame'>\n",
      "Int64Index: 1039 entries, 0 to 1038\n",
      "Data columns (total 21 columns):\n",
      " #   Column               Non-Null Count  Dtype  \n",
      "---  ------               --------------  -----  \n",
      " 0   date_time            1039 non-null   object \n",
      " 1   offenses             1039 non-null   int64  \n",
      " 2   offense_type         1039 non-null   object \n",
      " 3   block_range          1039 non-null   object \n",
      " 4   street_name          1039 non-null   object \n",
      " 5   type                 1039 non-null   object \n",
      " 6   suffix               1039 non-null   object \n",
      " 7   beat                 1039 non-null   object \n",
      " 8   premise              1039 non-null   object \n",
      " 9   year                 1039 non-null   int64  \n",
      " 10  temp                 1039 non-null   float64\n",
      " 11  feels_like           1039 non-null   float64\n",
      " 12  temp_min             1039 non-null   float64\n",
      " 13  temp_max             1039 non-null   float64\n",
      " 14  humidity_per         1039 non-null   int64  \n",
      " 15  wind_speed           1039 non-null   float64\n",
      " 16  rain_vol_1h_mm       1039 non-null   float64\n",
      " 17  snow_vol_1h_mm       1039 non-null   float64\n",
      " 18  clouds_all_per       1039 non-null   int64  \n",
      " 19  weather_main         1039 non-null   object \n",
      " 20  weather_description  1039 non-null   object \n",
      "dtypes: float64(7), int64(4), object(10)\n",
      "memory usage: 178.6+ KB\n"
     ]
    }
   ],
   "source": [
    "new.info()"
   ]
  },
  {
   "cell_type": "code",
   "execution_count": 68,
   "id": "4b41c2ef",
   "metadata": {},
   "outputs": [
    {
     "data": {
      "text/plain": [
       "'2009-01-03 10:00:00'"
      ]
     },
     "execution_count": 68,
     "metadata": {},
     "output_type": "execute_result"
    }
   ],
   "source": [
    "new.date_time.min()"
   ]
  },
  {
   "cell_type": "code",
   "execution_count": 72,
   "id": "8ce5fe54",
   "metadata": {},
   "outputs": [
    {
     "data": {
      "text/plain": [
       "'2009-01-03 10:00:00'"
      ]
     },
     "execution_count": 72,
     "metadata": {},
     "output_type": "execute_result"
    }
   ],
   "source": [
    "crime_sample.date_time.min()"
   ]
  },
  {
   "cell_type": "code",
   "execution_count": 70,
   "id": "258048e4",
   "metadata": {},
   "outputs": [
    {
     "data": {
      "text/plain": [
       "'2018-05-28 04:00:00'"
      ]
     },
     "execution_count": 70,
     "metadata": {},
     "output_type": "execute_result"
    }
   ],
   "source": [
    "new.date_time.max()"
   ]
  },
  {
   "cell_type": "code",
   "execution_count": 73,
   "id": "67c1107e",
   "metadata": {},
   "outputs": [
    {
     "data": {
      "text/plain": [
       "'2018-05-28 04:00:00'"
      ]
     },
     "execution_count": 73,
     "metadata": {},
     "output_type": "execute_result"
    }
   ],
   "source": [
    "crime_sample.date_time.max()"
   ]
  },
  {
   "cell_type": "code",
   "execution_count": 78,
   "id": "bc2288e5",
   "metadata": {},
   "outputs": [
    {
     "data": {
      "text/plain": [
       "1000"
      ]
     },
     "execution_count": 78,
     "metadata": {},
     "output_type": "execute_result"
    }
   ],
   "source": [
    "len(crime_sample.date_time.values)"
   ]
  },
  {
   "cell_type": "code",
   "execution_count": 79,
   "id": "7b0bfc64",
   "metadata": {},
   "outputs": [
    {
     "data": {
      "text/plain": [
       "1039"
      ]
     },
     "execution_count": 79,
     "metadata": {},
     "output_type": "execute_result"
    }
   ],
   "source": [
    "len(new.date_time.values)"
   ]
  },
  {
   "cell_type": "code",
   "execution_count": 84,
   "id": "3556bcf1",
   "metadata": {},
   "outputs": [],
   "source": [
    "list1 = new.date_time.values.tolist()\n",
    "list2 = crime_sample.date_time.values.tolist()"
   ]
  },
  {
   "cell_type": "code",
   "execution_count": 85,
   "id": "9bcdc952",
   "metadata": {},
   "outputs": [
    {
     "name": "stdout",
     "output_type": "stream",
     "text": [
      "Missing values in second list: set()\n",
      "Additional values in second list: set()\n",
      "Missing values in first list: set()\n",
      "Additional values in first list: set()\n"
     ]
    }
   ],
   "source": [
    "# prints the missing and additional elements in list2 \n",
    "print(\"Missing values in second list:\", (set(list1).difference(list2)))\n",
    "print(\"Additional values in second list:\", (set(list2).difference(list1)))\n",
    "  \n",
    "# prints the missing and additional elements in list1\n",
    "print(\"Missing values in first list:\", (set(list2).difference(list1)))\n",
    "print(\"Additional values in first list:\", (set(list1).difference(list2)))"
   ]
  },
  {
   "cell_type": "code",
   "execution_count": 86,
   "id": "9dd96fa7",
   "metadata": {},
   "outputs": [
    {
     "name": "stdout",
     "output_type": "stream",
     "text": [
      "['2018-02-27 15:00:00', '2015-09-30 11:00:00', '2011-06-23 11:00:00', '2013-10-31 12:00:00', '2016-12-04 12:00:00', '2017-05-12 22:00:00', '2016-01-21 11:00:00', '2016-04-19 20:00:00', '2015-10-04 13:00:00', '2012-07-19 21:00:00', '2014-08-28 17:00:00', '2011-03-24 20:00:00', '2011-09-30 01:00:00', '2015-05-12 09:00:00', '2014-12-18 16:00:00', '2014-04-01 12:00:00', '2014-12-05 11:00:00', '2009-12-17 16:00:00', '2016-11-07 06:00:00', '2014-11-12 23:00:00', '2016-08-25 20:00:00', '2018-05-25 20:00:00', '2017-01-15 08:00:00', '2013-02-18 22:00:00', '2015-01-15 10:00:00', '2012-01-07 17:00:00', '2015-10-31 11:00:00', '2017-10-23 20:00:00', '2010-06-06 22:00:00', '2016-12-23 15:00:00', '2017-12-19 08:00:00', '2017-08-27 09:00:00', '2009-12-08 02:00:00', '2010-04-03 17:00:00', '2009-07-17 23:00:00', '2014-10-03 08:00:00', '2016-12-23 09:00:00', '2013-01-13 14:00:00', '2014-08-01 07:00:00', '2015-01-11 13:00:00', '2009-11-24 13:00:00', '2016-04-18 11:00:00', '2013-12-14 03:00:00', '2011-01-24 18:00:00']\n"
     ]
    }
   ],
   "source": [
    "import collections\n",
    "print([item for item, count in collections.Counter(list1).items() if count > 1])\n",
    "\n",
    "## [1, 2, 5]"
   ]
  },
  {
   "cell_type": "code",
   "execution_count": 87,
   "id": "0d125666",
   "metadata": {},
   "outputs": [
    {
     "name": "stdout",
     "output_type": "stream",
     "text": [
      "['2015-09-30 11:00:00', '2013-10-31 12:00:00', '2017-05-12 22:00:00', '2015-10-04 13:00:00', '2014-08-28 17:00:00', '2011-03-24 20:00:00', '2014-11-12 23:00:00', '2012-01-07 17:00:00', '2017-10-23 20:00:00', '2010-04-03 17:00:00']\n"
     ]
    }
   ],
   "source": [
    "print([item for item, count in collections.Counter(list2).items() if count > 1])\n"
   ]
  },
  {
   "cell_type": "code",
   "execution_count": 88,
   "id": "349075c6",
   "metadata": {},
   "outputs": [
    {
     "name": "stdout",
     "output_type": "stream",
     "text": [
      "Duplicate Rows except first occurrence based on all columns are :\n",
      "Empty DataFrame\n",
      "Columns: [date_time, offenses, offense_type, block_range, street_name, type, suffix, beat, premise, year]\n",
      "Index: []\n"
     ]
    }
   ],
   "source": [
    "# Select duplicate rows except first occurrence based on all columns\n",
    "duplicateRowsDF = crime_sample[crime_sample.duplicated()]\n",
    "print(\"Duplicate Rows except first occurrence based on all columns are :\")\n",
    "print(duplicateRowsDF)"
   ]
  },
  {
   "cell_type": "code",
   "execution_count": 89,
   "id": "920bdd98",
   "metadata": {},
   "outputs": [
    {
     "name": "stdout",
     "output_type": "stream",
     "text": [
      "Duplicate Rows except first occurrence based on all columns are :\n",
      "Empty DataFrame\n",
      "Columns: [date_time, offenses, offense_type, block_range, street_name, type, suffix, beat, premise, year, temp, feels_like, temp_min, temp_max, humidity_per, wind_speed, rain_vol_1h_mm, snow_vol_1h_mm, clouds_all_per, weather_main, weather_description]\n",
      "Index: []\n"
     ]
    }
   ],
   "source": [
    "# Select duplicate rows except first occurrence based on all columns\n",
    "duplicateRowsDF = new[new.duplicated()]\n",
    "print(\"Duplicate Rows except first occurrence based on all columns are :\")\n",
    "print(duplicateRowsDF)"
   ]
  },
  {
   "cell_type": "code",
   "execution_count": 67,
   "id": "b507cf3b",
   "metadata": {},
   "outputs": [
    {
     "data": {
      "text/plain": [
       "date_time              0\n",
       "offenses               0\n",
       "offense_type           0\n",
       "block_range            0\n",
       "street_name            0\n",
       "type                   0\n",
       "suffix                 0\n",
       "beat                   0\n",
       "premise                0\n",
       "year                   0\n",
       "temp                   0\n",
       "feels_like             0\n",
       "temp_min               0\n",
       "temp_max               0\n",
       "humidity_per           0\n",
       "wind_speed             0\n",
       "rain_vol_1h_mm         0\n",
       "snow_vol_1h_mm         0\n",
       "clouds_all_per         0\n",
       "weather_main           0\n",
       "weather_description    0\n",
       "dtype: int64"
      ]
     },
     "execution_count": 67,
     "metadata": {},
     "output_type": "execute_result"
    }
   ],
   "source": [
    "new.apply(lambda x: sum(x.isnull()))"
   ]
  },
  {
   "cell_type": "code",
   "execution_count": 64,
   "id": "b8534ae2",
   "metadata": {},
   "outputs": [
    {
     "name": "stdout",
     "output_type": "stream",
     "text": [
      "<class 'pandas.core.frame.DataFrame'>\n",
      "RangeIndex: 1000 entries, 0 to 999\n",
      "Data columns (total 10 columns):\n",
      " #   Column        Non-Null Count  Dtype \n",
      "---  ------        --------------  ----- \n",
      " 0   date_time     1000 non-null   object\n",
      " 1   offenses      1000 non-null   int64 \n",
      " 2   offense_type  1000 non-null   object\n",
      " 3   block_range   1000 non-null   object\n",
      " 4   street_name   1000 non-null   object\n",
      " 5   type          1000 non-null   object\n",
      " 6   suffix        1000 non-null   object\n",
      " 7   beat          1000 non-null   object\n",
      " 8   premise       1000 non-null   object\n",
      " 9   year          1000 non-null   int64 \n",
      "dtypes: int64(2), object(8)\n",
      "memory usage: 78.2+ KB\n"
     ]
    }
   ],
   "source": [
    "crime_sample.info()"
   ]
  },
  {
   "cell_type": "code",
   "execution_count": 66,
   "id": "b5394eef",
   "metadata": {},
   "outputs": [
    {
     "data": {
      "image/png": "[encoded data removed]",
      "text/plain": [
       "<Figure size 1500x400 with 1 Axes>"
      ]
     },
     "metadata": {},
     "output_type": "display_data"
    }
   ],
   "source": [
    "plt.figure(figsize=(15,4))\n",
    "sns.heatmap(new.isnull(),yticklabels=False,cbar=False,cmap='viridis')\n",
    "plt.title('Missing data')\n",
    "plt.show()"
   ]
  },
  {
   "cell_type": "code",
   "execution_count": 90,
   "id": "55e5a70d",
   "metadata": {},
   "outputs": [
    {
     "data": {
      "text/html": [
       "<div>\n",
       "<style scoped>\n",
       "    .dataframe tbody tr th:only-of-type {\n",
       "        vertical-align: middle;\n",
       "    }\n",
       "\n",
       "    .dataframe tbody tr th {\n",
       "        vertical-align: top;\n",
       "    }\n",
       "\n",
       "    .dataframe thead th {\n",
       "        text-align: right;\n",
       "    }\n",
       "</style>\n",
       "<table border=\"1\" class=\"dataframe\">\n",
       "  <thead>\n",
       "    <tr style=\"text-align: right;\">\n",
       "      <th></th>\n",
       "      <th>date_time</th>\n",
       "      <th>offenses</th>\n",
       "      <th>offense_type</th>\n",
       "      <th>block_range</th>\n",
       "      <th>street_name</th>\n",
       "      <th>type</th>\n",
       "      <th>suffix</th>\n",
       "      <th>beat</th>\n",
       "      <th>premise</th>\n",
       "      <th>year</th>\n",
       "      <th>temp</th>\n",
       "      <th>feels_like</th>\n",
       "      <th>temp_min</th>\n",
       "      <th>temp_max</th>\n",
       "      <th>humidity_per</th>\n",
       "      <th>wind_speed</th>\n",
       "      <th>rain_vol_1h_mm</th>\n",
       "      <th>snow_vol_1h_mm</th>\n",
       "      <th>clouds_all_per</th>\n",
       "      <th>weather_main</th>\n",
       "      <th>weather_description</th>\n",
       "      <th>_merge</th>\n",
       "    </tr>\n",
       "  </thead>\n",
       "  <tbody>\n",
       "  </tbody>\n",
       "</table>\n",
       "</div>"
      ],
      "text/plain": [
       "Empty DataFrame\n",
       "Columns: [date_time, offenses, offense_type, block_range, street_name, type, suffix, beat, premise, year, temp, feels_like, temp_min, temp_max, humidity_per, wind_speed, rain_vol_1h_mm, snow_vol_1h_mm, clouds_all_per, weather_main, weather_description, _merge]\n",
       "Index: []"
      ]
     },
     "execution_count": 90,
     "metadata": {},
     "output_type": "execute_result"
    }
   ],
   "source": [
    "dd = crime_sample.merge(new, how = 'outer' ,indicator=True).loc[lambda x : x['_merge']=='left_only']\n",
    "\n",
    "dd"
   ]
  },
  {
   "cell_type": "code",
   "execution_count": 91,
   "id": "efa3227b",
   "metadata": {},
   "outputs": [
    {
     "data": {
      "text/html": [
       "<div>\n",
       "<style scoped>\n",
       "    .dataframe tbody tr th:only-of-type {\n",
       "        vertical-align: middle;\n",
       "    }\n",
       "\n",
       "    .dataframe tbody tr th {\n",
       "        vertical-align: top;\n",
       "    }\n",
       "\n",
       "    .dataframe thead th {\n",
       "        text-align: right;\n",
       "    }\n",
       "</style>\n",
       "<table border=\"1\" class=\"dataframe\">\n",
       "  <thead>\n",
       "    <tr style=\"text-align: right;\">\n",
       "      <th></th>\n",
       "      <th>date_time</th>\n",
       "      <th>offenses</th>\n",
       "      <th>offense_type</th>\n",
       "      <th>block_range</th>\n",
       "      <th>street_name</th>\n",
       "      <th>type</th>\n",
       "      <th>suffix</th>\n",
       "      <th>beat</th>\n",
       "      <th>premise</th>\n",
       "      <th>year</th>\n",
       "      <th>temp</th>\n",
       "      <th>feels_like</th>\n",
       "      <th>temp_min</th>\n",
       "      <th>temp_max</th>\n",
       "      <th>humidity_per</th>\n",
       "      <th>wind_speed</th>\n",
       "      <th>rain_vol_1h_mm</th>\n",
       "      <th>snow_vol_1h_mm</th>\n",
       "      <th>clouds_all_per</th>\n",
       "      <th>weather_main</th>\n",
       "      <th>weather_description</th>\n",
       "      <th>_merge</th>\n",
       "    </tr>\n",
       "  </thead>\n",
       "  <tbody>\n",
       "  </tbody>\n",
       "</table>\n",
       "</div>"
      ],
      "text/plain": [
       "Empty DataFrame\n",
       "Columns: [date_time, offenses, offense_type, block_range, street_name, type, suffix, beat, premise, year, temp, feels_like, temp_min, temp_max, humidity_per, wind_speed, rain_vol_1h_mm, snow_vol_1h_mm, clouds_all_per, weather_main, weather_description, _merge]\n",
       "Index: []"
      ]
     },
     "execution_count": 91,
     "metadata": {},
     "output_type": "execute_result"
    }
   ],
   "source": [
    "dd = new.merge(crime_sample, how = 'outer' ,indicator=True).loc[lambda x : x['_merge']=='left_only']\n",
    "\n",
    "dd"
   ]
  },
  {
   "cell_type": "markdown",
   "id": "56b7d28f",
   "metadata": {},
   "source": [
    "# Merge crime data and weather data full dataset"
   ]
  },
  {
   "cell_type": "code",
   "execution_count": 100,
   "id": "46e82ee0",
   "metadata": {},
   "outputs": [
    {
     "name": "stdout",
     "output_type": "stream",
     "text": [
      "<class 'pandas.core.frame.DataFrame'>\n",
      "RangeIndex: 1125124 entries, 0 to 1125123\n",
      "Data columns (total 10 columns):\n",
      " #   Column        Non-Null Count    Dtype \n",
      "---  ------        --------------    ----- \n",
      " 0   date_time     1125124 non-null  object\n",
      " 1   offenses      1125124 non-null  int64 \n",
      " 2   offense_type  1125124 non-null  object\n",
      " 3   block_range   1125124 non-null  object\n",
      " 4   street_name   1125117 non-null  object\n",
      " 5   type          1125124 non-null  object\n",
      " 6   suffix        1125124 non-null  object\n",
      " 7   beat          1125124 non-null  object\n",
      " 8   premise       1125124 non-null  object\n",
      " 9   year          1125124 non-null  int64 \n",
      "dtypes: int64(2), object(8)\n",
      "memory usage: 85.8+ MB\n"
     ]
    }
   ],
   "source": [
    "df_crime.info()"
   ]
  },
  {
   "cell_type": "code",
   "execution_count": 103,
   "id": "5d789390",
   "metadata": {},
   "outputs": [
    {
     "data": {
      "text/html": [
       "<div>\n",
       "<style scoped>\n",
       "    .dataframe tbody tr th:only-of-type {\n",
       "        vertical-align: middle;\n",
       "    }\n",
       "\n",
       "    .dataframe tbody tr th {\n",
       "        vertical-align: top;\n",
       "    }\n",
       "\n",
       "    .dataframe thead th {\n",
       "        text-align: right;\n",
       "    }\n",
       "</style>\n",
       "<table border=\"1\" class=\"dataframe\">\n",
       "  <thead>\n",
       "    <tr style=\"text-align: right;\">\n",
       "      <th></th>\n",
       "      <th>date_time</th>\n",
       "      <th>offenses</th>\n",
       "      <th>offense_type</th>\n",
       "      <th>block_range</th>\n",
       "      <th>street_name</th>\n",
       "      <th>type</th>\n",
       "      <th>suffix</th>\n",
       "      <th>beat</th>\n",
       "      <th>premise</th>\n",
       "      <th>year</th>\n",
       "    </tr>\n",
       "  </thead>\n",
       "  <tbody>\n",
       "    <tr>\n",
       "      <th>0</th>\n",
       "      <td>2009-08-01 00:00:00</td>\n",
       "      <td>1</td>\n",
       "      <td>Robbery</td>\n",
       "      <td>3000-3099</td>\n",
       "      <td>durham</td>\n",
       "      <td>dr</td>\n",
       "      <td>N</td>\n",
       "      <td>3B30</td>\n",
       "      <td>210</td>\n",
       "      <td>2009</td>\n",
       "    </tr>\n",
       "    <tr>\n",
       "      <th>1</th>\n",
       "      <td>2009-08-01 00:00:00</td>\n",
       "      <td>1</td>\n",
       "      <td>Robbery</td>\n",
       "      <td>500-599</td>\n",
       "      <td>seminar</td>\n",
       "      <td>dr</td>\n",
       "      <td>-</td>\n",
       "      <td>6B60</td>\n",
       "      <td>20a</td>\n",
       "      <td>2009</td>\n",
       "    </tr>\n",
       "    <tr>\n",
       "      <th>2</th>\n",
       "      <td>2009-08-01 00:00:00</td>\n",
       "      <td>1</td>\n",
       "      <td>Robbery</td>\n",
       "      <td>8300-8399</td>\n",
       "      <td>north houston rosslyn</td>\n",
       "      <td>rd</td>\n",
       "      <td>-</td>\n",
       "      <td>6B30</td>\n",
       "      <td>18n</td>\n",
       "      <td>2009</td>\n",
       "    </tr>\n",
       "    <tr>\n",
       "      <th>3</th>\n",
       "      <td>2009-08-01 00:00:00</td>\n",
       "      <td>1</td>\n",
       "      <td>Robbery</td>\n",
       "      <td>6300-6399</td>\n",
       "      <td>skyline</td>\n",
       "      <td>dr</td>\n",
       "      <td>-</td>\n",
       "      <td>18F30</td>\n",
       "      <td>18a</td>\n",
       "      <td>2009</td>\n",
       "    </tr>\n",
       "    <tr>\n",
       "      <th>4</th>\n",
       "      <td>2009-08-01 00:00:00</td>\n",
       "      <td>1</td>\n",
       "      <td>Robbery</td>\n",
       "      <td>5900-5999</td>\n",
       "      <td>fulton</td>\n",
       "      <td>st</td>\n",
       "      <td>-</td>\n",
       "      <td>2A20</td>\n",
       "      <td>18n</td>\n",
       "      <td>2009</td>\n",
       "    </tr>\n",
       "  </tbody>\n",
       "</table>\n",
       "</div>"
      ],
      "text/plain": [
       "             date_time  offenses offense_type block_range  \\\n",
       "0  2009-08-01 00:00:00         1      Robbery   3000-3099   \n",
       "1  2009-08-01 00:00:00         1      Robbery     500-599   \n",
       "2  2009-08-01 00:00:00         1      Robbery   8300-8399   \n",
       "3  2009-08-01 00:00:00         1      Robbery   6300-6399   \n",
       "4  2009-08-01 00:00:00         1      Robbery   5900-5999   \n",
       "\n",
       "             street_name type suffix   beat premise  year  \n",
       "0                 durham   dr      N   3B30     210  2009  \n",
       "1                seminar   dr      -   6B60     20a  2009  \n",
       "2  north houston rosslyn   rd      -   6B30     18n  2009  \n",
       "3                skyline   dr      -  18F30     18a  2009  \n",
       "4                 fulton   st      -   2A20     18n  2009  "
      ]
     },
     "execution_count": 103,
     "metadata": {},
     "output_type": "execute_result"
    }
   ],
   "source": [
    "df_crime.head()"
   ]
  },
  {
   "cell_type": "code",
   "execution_count": null,
   "id": "3dcadd59",
   "metadata": {},
   "outputs": [],
   "source": []
  }
 ],
 "metadata": {
  "kernelspec": {
   "display_name": "Python 3",
   "language": "python",
   "name": "python3"
  },
  "language_info": {
   "codemirror_mode": {
    "name": "ipython",
    "version": 3
   },
   "file_extension": ".py",
   "mimetype": "text/x-python",
   "name": "python",
   "nbconvert_exporter": "python",
   "pygments_lexer": "ipython3",
   "version": "3.9.6"
  }
 },
 "nbformat": 4,
 "nbformat_minor": 5
}
