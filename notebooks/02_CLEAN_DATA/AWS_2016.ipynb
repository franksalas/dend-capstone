{
 "cells": [
  {
   "cell_type": "code",
   "execution_count": 1,
   "metadata": {},
   "outputs": [
    {
     "data": {
      "text/html": [
       "        <script type=\"text/javascript\">\n",
       "        window.PlotlyConfig = {MathJaxConfig: 'local'};\n",
       "        if (window.MathJax) {MathJax.Hub.Config({SVG: {font: \"STIX-Web\"}});}\n",
       "        if (typeof require !== 'undefined') {\n",
       "        require.undef(\"plotly\");\n",
       "        requirejs.config({\n",
       "            paths: {\n",
       "                'plotly': ['https://cdn.plot.ly/plotly-latest.min']\n",
       "            }\n",
       "        });\n",
       "        require(['plotly'], function(Plotly) {\n",
       "            window._Plotly = Plotly;\n",
       "        });\n",
       "        }\n",
       "        </script>\n",
       "        "
      ]
     },
     "metadata": {},
     "output_type": "display_data"
    },
    {
     "name": "stdout",
     "output_type": "stream",
     "text": [
      "\n",
      "python\t3.8.5 (default, Sep  4 2020, 07:30:14) \n",
      "[GCC 7.3.0]\n",
      "---------------------\n",
      "Versions:\n",
      "----------------------\n",
      "pandas      1.1.2\n",
      "numpy       1.19.1\n",
      "matplotlib  3.3.1\n",
      "seaborn     0.11.0\n",
      "plotly      4.11.0\n",
      "boto3       1.17.106\n",
      "awswrangler 2.9.0\n",
      "----------------------\n",
      "\n",
      "\n",
      "Loaded Libraries\n",
      "-------------------\n",
      "import pandas as pd\n",
      "import numpy as np\n",
      "import sys,os\n",
      "import re\n",
      "import glob\n",
      "import pickle\n",
      "import seaborn as sns\n",
      "import matplotlib.pyplot as plt\n",
      "import plotly\n",
      "import plotly.graph_objs as go\n",
      "from plotly.offline import download_plotlyjs, init_notebook_mode, plot, iplot\n",
      "init_notebook_mode(connected=True)\n",
      "\n",
      "\n",
      "## AWS\n",
      "import boto3\n",
      "import awswrangler as wr\n",
      "----------------\n",
      "\n",
      "\n",
      "GLOBAL VARIABLES\n",
      "--------------------------\n",
      "HERE_DIR: list current directory path\n",
      "RAW_DIR: list files in `data\\raw` directory\n",
      "INTER_DIR: list files in `data\\interim` directory\n",
      "FINAL_DIR: list files in `data\\final` directory\n",
      "SRC_DIR: list files in `src\\` directory\n",
      "------------------------------\n",
      "\n",
      "# SAVE PLOTS\n",
      "To save a plot call\n",
      "`save_plots(fig_variable,'name_of_plot')`\n",
      "\n",
      "source file: src/start.py\n",
      "\n",
      "\n"
     ]
    }
   ],
   "source": [
    "%run ../src/start.py"
   ]
  },
  {
   "cell_type": "markdown",
   "metadata": {},
   "source": [
    "## Load Data"
   ]
  },
  {
   "cell_type": "code",
   "execution_count": 2,
   "metadata": {},
   "outputs": [],
   "source": [
    "# year file\n",
    "year = '2016'"
   ]
  },
  {
   "cell_type": "code",
   "execution_count": 3,
   "metadata": {},
   "outputs": [],
   "source": [
    "# helper function\n",
    "def bucket_raw_path(bucket_name,path_dir):\n",
    "    ''''''\n",
    "    raw_path = f's3://{bucket_name}/{path_dir}'\n",
    "    return raw_path"
   ]
  },
  {
   "cell_type": "code",
   "execution_count": 4,
   "metadata": {},
   "outputs": [
    {
     "data": {
      "text/plain": [
       "'s3://salas-data/capstone/raw-data/crime-data/2016'"
      ]
     },
     "execution_count": 4,
     "metadata": {},
     "output_type": "execute_result"
    }
   ],
   "source": [
    "raw = bucket_raw_path('salas-data',f'capstone/raw-data/crime-data/{year}')\n",
    "raw"
   ]
  },
  {
   "cell_type": "markdown",
   "metadata": {},
   "source": [
    "## List objects in bucket"
   ]
  },
  {
   "cell_type": "code",
   "execution_count": 5,
   "metadata": {},
   "outputs": [
    {
     "data": {
      "text/plain": [
       "['s3://salas-data/capstone/raw-data/crime-data/2016/apr16.xlsx',\n",
       " 's3://salas-data/capstone/raw-data/crime-data/2016/aug16.xlsx',\n",
       " 's3://salas-data/capstone/raw-data/crime-data/2016/dec16.xlsx',\n",
       " 's3://salas-data/capstone/raw-data/crime-data/2016/feb16.xlsx',\n",
       " 's3://salas-data/capstone/raw-data/crime-data/2016/jan16.xlsx',\n",
       " 's3://salas-data/capstone/raw-data/crime-data/2016/jul16.xlsx',\n",
       " 's3://salas-data/capstone/raw-data/crime-data/2016/jun16.xlsx',\n",
       " 's3://salas-data/capstone/raw-data/crime-data/2016/mar16.xlsx',\n",
       " 's3://salas-data/capstone/raw-data/crime-data/2016/may16.xlsx',\n",
       " 's3://salas-data/capstone/raw-data/crime-data/2016/nov16.xlsx',\n",
       " 's3://salas-data/capstone/raw-data/crime-data/2016/oct16.xlsx',\n",
       " 's3://salas-data/capstone/raw-data/crime-data/2016/sep16.xlsx']"
      ]
     },
     "execution_count": 5,
     "metadata": {},
     "output_type": "execute_result"
    }
   ],
   "source": [
    "wr.s3.list_objects(raw)"
   ]
  },
  {
   "cell_type": "markdown",
   "metadata": {},
   "source": [
    "## Create dataframe from s3 files"
   ]
  },
  {
   "cell_type": "code",
   "execution_count": 6,
   "metadata": {},
   "outputs": [],
   "source": [
    "def s3_files_to_df(s3_files_path):\n",
    "    ''' load s3 file path from wr result\n",
    "    returns a dataframe of concat files '''\n",
    "    df_list = []\n",
    "    for i in wr.s3.list_objects(s3_files_path):\n",
    "        temp = wr.s3.read_excel(i, engine='openpyxl')\n",
    "        df_list.append(temp)\n",
    "    # create df from list files\n",
    "    df = pd.concat(df_list, ignore_index=True)\n",
    "    return df"
   ]
  },
  {
   "cell_type": "code",
   "execution_count": 7,
   "metadata": {},
   "outputs": [
    {
     "name": "stdout",
     "output_type": "stream",
     "text": [
      "CPU times: user 20.2 s, sys: 93.8 ms, total: 20.3 s\n",
      "Wall time: 29.3 s\n"
     ]
    }
   ],
   "source": [
    "%%time\n",
    "df = s3_files_to_df(raw)"
   ]
  },
  {
   "cell_type": "code",
   "execution_count": 15,
   "metadata": {},
   "outputs": [],
   "source": [
    "## cleanup columns\n",
    "df.columns = df.columns.str.lower().str.replace(' ','_').str.replace('\\n','_').str.strip()"
   ]
  },
  {
   "cell_type": "code",
   "execution_count": 16,
   "metadata": {},
   "outputs": [
    {
     "name": "stdout",
     "output_type": "stream",
     "text": [
      "<class 'pandas.core.frame.DataFrame'>\n",
      "RangeIndex: 122693 entries, 0 to 122692\n",
      "Data columns (total 10 columns):\n",
      " #   Column        Non-Null Count   Dtype         \n",
      "---  ------        --------------   -----         \n",
      " 0   date          122693 non-null  datetime64[ns]\n",
      " 1   hour          122693 non-null  int64         \n",
      " 2   offense_type  122693 non-null  object        \n",
      " 3   beat          122693 non-null  object        \n",
      " 4   premise       121293 non-null  object        \n",
      " 5   blockrange    122693 non-null  object        \n",
      " 6   streetname    122693 non-null  object        \n",
      " 7   type          122693 non-null  object        \n",
      " 8   suffix        122693 non-null  object        \n",
      " 9   ._offenses    122693 non-null  int64         \n",
      "dtypes: datetime64[ns](1), int64(2), object(7)\n",
      "memory usage: 9.4+ MB\n"
     ]
    }
   ],
   "source": [
    "df.info()"
   ]
  },
  {
   "cell_type": "code",
   "execution_count": 17,
   "metadata": {},
   "outputs": [
    {
     "data": {
      "text/html": [
       "<div>\n",
       "<style scoped>\n",
       "    .dataframe tbody tr th:only-of-type {\n",
       "        vertical-align: middle;\n",
       "    }\n",
       "\n",
       "    .dataframe tbody tr th {\n",
       "        vertical-align: top;\n",
       "    }\n",
       "\n",
       "    .dataframe thead th {\n",
       "        text-align: right;\n",
       "    }\n",
       "</style>\n",
       "<table border=\"1\" class=\"dataframe\">\n",
       "  <thead>\n",
       "    <tr style=\"text-align: right;\">\n",
       "      <th></th>\n",
       "      <th>date</th>\n",
       "      <th>hour</th>\n",
       "      <th>offense_type</th>\n",
       "      <th>beat</th>\n",
       "      <th>premise</th>\n",
       "      <th>blockrange</th>\n",
       "      <th>streetname</th>\n",
       "      <th>type</th>\n",
       "      <th>suffix</th>\n",
       "      <th>._offenses</th>\n",
       "    </tr>\n",
       "  </thead>\n",
       "  <tbody>\n",
       "    <tr>\n",
       "      <th>0</th>\n",
       "      <td>2016-04-10</td>\n",
       "      <td>20</td>\n",
       "      <td>Robbery</td>\n",
       "      <td>10H10</td>\n",
       "      <td>Road, Street, or Sidewalk</td>\n",
       "      <td>4000-4099</td>\n",
       "      <td>MILBY</td>\n",
       "      <td>-</td>\n",
       "      <td>-</td>\n",
       "      <td>1</td>\n",
       "    </tr>\n",
       "    <tr>\n",
       "      <th>1</th>\n",
       "      <td>2016-04-11</td>\n",
       "      <td>19</td>\n",
       "      <td>Aggravated Assault</td>\n",
       "      <td>10H10</td>\n",
       "      <td>Road, Street, or Sidewalk</td>\n",
       "      <td>400-499</td>\n",
       "      <td>YORK</td>\n",
       "      <td>-</td>\n",
       "      <td>-</td>\n",
       "      <td>2</td>\n",
       "    </tr>\n",
       "    <tr>\n",
       "      <th>2</th>\n",
       "      <td>2016-04-12</td>\n",
       "      <td>20</td>\n",
       "      <td>Robbery</td>\n",
       "      <td>10H10</td>\n",
       "      <td>Apartment</td>\n",
       "      <td>1900-1999</td>\n",
       "      <td>RUNNELS</td>\n",
       "      <td>-</td>\n",
       "      <td>-</td>\n",
       "      <td>1</td>\n",
       "    </tr>\n",
       "    <tr>\n",
       "      <th>3</th>\n",
       "      <td>2016-04-13</td>\n",
       "      <td>2</td>\n",
       "      <td>Auto Theft</td>\n",
       "      <td>10H10</td>\n",
       "      <td>Driveway</td>\n",
       "      <td>100-199</td>\n",
       "      <td>SIDNEY</td>\n",
       "      <td>-</td>\n",
       "      <td>-</td>\n",
       "      <td>1</td>\n",
       "    </tr>\n",
       "    <tr>\n",
       "      <th>4</th>\n",
       "      <td>2016-04-14</td>\n",
       "      <td>3</td>\n",
       "      <td>Burglary</td>\n",
       "      <td>10H10</td>\n",
       "      <td>Service or Gas Station</td>\n",
       "      <td>3300-3399</td>\n",
       "      <td>CANAL</td>\n",
       "      <td>ST</td>\n",
       "      <td>-</td>\n",
       "      <td>1</td>\n",
       "    </tr>\n",
       "  </tbody>\n",
       "</table>\n",
       "</div>"
      ],
      "text/plain": [
       "        date  hour        offense_type   beat                    premise  \\\n",
       "0 2016-04-10    20             Robbery  10H10  Road, Street, or Sidewalk   \n",
       "1 2016-04-11    19  Aggravated Assault  10H10  Road, Street, or Sidewalk   \n",
       "2 2016-04-12    20             Robbery  10H10                  Apartment   \n",
       "3 2016-04-13     2          Auto Theft  10H10                   Driveway   \n",
       "4 2016-04-14     3            Burglary  10H10     Service or Gas Station   \n",
       "\n",
       "  blockrange streetname type suffix  ._offenses  \n",
       "0  4000-4099      MILBY    -      -           1  \n",
       "1    400-499       YORK    -      -           2  \n",
       "2  1900-1999    RUNNELS    -      -           1  \n",
       "3    100-199     SIDNEY    -      -           1  \n",
       "4  3300-3399      CANAL   ST      -           1  "
      ]
     },
     "execution_count": 17,
     "metadata": {},
     "output_type": "execute_result"
    }
   ],
   "source": [
    "df.head()"
   ]
  },
  {
   "cell_type": "markdown",
   "metadata": {},
   "source": [
    "## Show null data"
   ]
  },
  {
   "cell_type": "code",
   "execution_count": 18,
   "metadata": {},
   "outputs": [
    {
     "data": {
      "text/plain": [
       "date               0\n",
       "hour               0\n",
       "offense_type       0\n",
       "beat               0\n",
       "premise         1400\n",
       "blockrange         0\n",
       "streetname         0\n",
       "type               0\n",
       "suffix             0\n",
       "._offenses         0\n",
       "dtype: int64"
      ]
     },
     "execution_count": 18,
     "metadata": {},
     "output_type": "execute_result"
    }
   ],
   "source": [
    "df.apply(lambda x: sum(x.isnull()))"
   ]
  },
  {
   "cell_type": "code",
   "execution_count": 19,
   "metadata": {},
   "outputs": [
    {
     "data": {
      "text/html": [
       "<div>\n",
       "<style scoped>\n",
       "    .dataframe tbody tr th:only-of-type {\n",
       "        vertical-align: middle;\n",
       "    }\n",
       "\n",
       "    .dataframe tbody tr th {\n",
       "        vertical-align: top;\n",
       "    }\n",
       "\n",
       "    .dataframe thead th {\n",
       "        text-align: right;\n",
       "    }\n",
       "</style>\n",
       "<table border=\"1\" class=\"dataframe\">\n",
       "  <thead>\n",
       "    <tr style=\"text-align: right;\">\n",
       "      <th></th>\n",
       "      <th>null_percent</th>\n",
       "    </tr>\n",
       "  </thead>\n",
       "  <tbody>\n",
       "    <tr>\n",
       "      <th>premise</th>\n",
       "      <td>1.14</td>\n",
       "    </tr>\n",
       "    <tr>\n",
       "      <th>date</th>\n",
       "      <td>0.00</td>\n",
       "    </tr>\n",
       "    <tr>\n",
       "      <th>hour</th>\n",
       "      <td>0.00</td>\n",
       "    </tr>\n",
       "    <tr>\n",
       "      <th>offense_type</th>\n",
       "      <td>0.00</td>\n",
       "    </tr>\n",
       "    <tr>\n",
       "      <th>beat</th>\n",
       "      <td>0.00</td>\n",
       "    </tr>\n",
       "    <tr>\n",
       "      <th>blockrange</th>\n",
       "      <td>0.00</td>\n",
       "    </tr>\n",
       "    <tr>\n",
       "      <th>streetname</th>\n",
       "      <td>0.00</td>\n",
       "    </tr>\n",
       "    <tr>\n",
       "      <th>type</th>\n",
       "      <td>0.00</td>\n",
       "    </tr>\n",
       "    <tr>\n",
       "      <th>suffix</th>\n",
       "      <td>0.00</td>\n",
       "    </tr>\n",
       "    <tr>\n",
       "      <th>._offenses</th>\n",
       "      <td>0.00</td>\n",
       "    </tr>\n",
       "  </tbody>\n",
       "</table>\n",
       "</div>"
      ],
      "text/plain": [
       "              null_percent\n",
       "premise               1.14\n",
       "date                  0.00\n",
       "hour                  0.00\n",
       "offense_type          0.00\n",
       "beat                  0.00\n",
       "blockrange            0.00\n",
       "streetname            0.00\n",
       "type                  0.00\n",
       "suffix                0.00\n",
       "._offenses            0.00"
      ]
     },
     "execution_count": 19,
     "metadata": {},
     "output_type": "execute_result"
    }
   ],
   "source": [
    "# create null percentage of column as dataframe\n",
    "null_per_df = pd.DataFrame(df.isna().mean().round(4) * 100)\n",
    "# rename columns\n",
    "null_per_df.rename(columns={'index': 'col_name', 0: 'null_percent'}, inplace=True)\n",
    "\n",
    "# filter data <20% null values\n",
    "per_filter = null_per_df.null_percent<=90\n",
    "null_per_df[per_filter].sort_values(by='null_percent',ascending=False)"
   ]
  },
  {
   "cell_type": "code",
   "execution_count": 20,
   "metadata": {},
   "outputs": [
    {
     "data": {
      "image/png": "[encoded data removed]",
      "text/plain": [
       "<Figure size 1080x288 with 1 Axes>"
      ]
     },
     "metadata": {},
     "output_type": "display_data"
    }
   ],
   "source": [
    "plt.figure(figsize=(15,4))\n",
    "sns.heatmap(df.isnull(),yticklabels=False,cbar=False,cmap='viridis')\n",
    "plt.title('Missing data')\n",
    "plt.show()"
   ]
  },
  {
   "cell_type": "markdown",
   "metadata": {},
   "source": [
    "## Fix column names"
   ]
  },
  {
   "cell_type": "code",
   "execution_count": 22,
   "metadata": {},
   "outputs": [],
   "source": [
    "#change column name\n",
    "\n",
    "df.rename(columns={\n",
    "    '._offenses': 'offenses',\n",
    "}, inplace=True)\n",
    "\n",
    "df.rename(columns={'blockrange': 'block_range', 'streetname': 'street_name'}, inplace=True)"
   ]
  },
  {
   "cell_type": "markdown",
   "metadata": {},
   "source": [
    "## Fix null values"
   ]
  },
  {
   "cell_type": "code",
   "execution_count": 23,
   "metadata": {},
   "outputs": [
    {
     "data": {
      "text/html": [
       "<div>\n",
       "<style scoped>\n",
       "    .dataframe tbody tr th:only-of-type {\n",
       "        vertical-align: middle;\n",
       "    }\n",
       "\n",
       "    .dataframe tbody tr th {\n",
       "        vertical-align: top;\n",
       "    }\n",
       "\n",
       "    .dataframe thead th {\n",
       "        text-align: right;\n",
       "    }\n",
       "</style>\n",
       "<table border=\"1\" class=\"dataframe\">\n",
       "  <thead>\n",
       "    <tr style=\"text-align: right;\">\n",
       "      <th></th>\n",
       "      <th>date</th>\n",
       "      <th>hour</th>\n",
       "      <th>offense_type</th>\n",
       "      <th>beat</th>\n",
       "      <th>premise</th>\n",
       "      <th>block_range</th>\n",
       "      <th>street_name</th>\n",
       "      <th>type</th>\n",
       "      <th>suffix</th>\n",
       "      <th>offenses</th>\n",
       "    </tr>\n",
       "  </thead>\n",
       "  <tbody>\n",
       "    <tr>\n",
       "      <th>176</th>\n",
       "      <td>2016-04-23</td>\n",
       "      <td>19</td>\n",
       "      <td>Theft</td>\n",
       "      <td>10H40</td>\n",
       "      <td>NaN</td>\n",
       "      <td>1000-1099</td>\n",
       "      <td>ELGIN</td>\n",
       "      <td>ST</td>\n",
       "      <td>-</td>\n",
       "      <td>1</td>\n",
       "    </tr>\n",
       "    <tr>\n",
       "      <th>309</th>\n",
       "      <td>2016-04-02</td>\n",
       "      <td>9</td>\n",
       "      <td>Theft</td>\n",
       "      <td>10H60</td>\n",
       "      <td>NaN</td>\n",
       "      <td>5900-5999</td>\n",
       "      <td>SCOTT</td>\n",
       "      <td>ST</td>\n",
       "      <td>-</td>\n",
       "      <td>1</td>\n",
       "    </tr>\n",
       "    <tr>\n",
       "      <th>326</th>\n",
       "      <td>2016-04-27</td>\n",
       "      <td>5</td>\n",
       "      <td>Burglary</td>\n",
       "      <td>10H60</td>\n",
       "      <td>NaN</td>\n",
       "      <td>2300-2399</td>\n",
       "      <td>WICHITA</td>\n",
       "      <td>ST</td>\n",
       "      <td>-</td>\n",
       "      <td>1</td>\n",
       "    </tr>\n",
       "    <tr>\n",
       "      <th>485</th>\n",
       "      <td>2016-04-10</td>\n",
       "      <td>10</td>\n",
       "      <td>Theft</td>\n",
       "      <td>10H80</td>\n",
       "      <td>NaN</td>\n",
       "      <td>1100-1199</td>\n",
       "      <td>AUTREY</td>\n",
       "      <td>ST</td>\n",
       "      <td>-</td>\n",
       "      <td>1</td>\n",
       "    </tr>\n",
       "    <tr>\n",
       "      <th>670</th>\n",
       "      <td>2016-04-26</td>\n",
       "      <td>15</td>\n",
       "      <td>Aggravated Assault</td>\n",
       "      <td>11H10</td>\n",
       "      <td>NaN</td>\n",
       "      <td>7400-7499</td>\n",
       "      <td>SATSUMA</td>\n",
       "      <td>-</td>\n",
       "      <td>-</td>\n",
       "      <td>1</td>\n",
       "    </tr>\n",
       "    <tr>\n",
       "      <th>...</th>\n",
       "      <td>...</td>\n",
       "      <td>...</td>\n",
       "      <td>...</td>\n",
       "      <td>...</td>\n",
       "      <td>...</td>\n",
       "      <td>...</td>\n",
       "      <td>...</td>\n",
       "      <td>...</td>\n",
       "      <td>...</td>\n",
       "      <td>...</td>\n",
       "    </tr>\n",
       "    <tr>\n",
       "      <th>121999</th>\n",
       "      <td>2016-09-13</td>\n",
       "      <td>0</td>\n",
       "      <td>Theft</td>\n",
       "      <td>7C50</td>\n",
       "      <td>NaN</td>\n",
       "      <td>15700-15799</td>\n",
       "      <td>JOHN F KENNEDY</td>\n",
       "      <td>BLVD</td>\n",
       "      <td>-</td>\n",
       "      <td>2</td>\n",
       "    </tr>\n",
       "    <tr>\n",
       "      <th>122013</th>\n",
       "      <td>2016-09-14</td>\n",
       "      <td>0</td>\n",
       "      <td>Theft</td>\n",
       "      <td>7C50</td>\n",
       "      <td>NaN</td>\n",
       "      <td>15200-15299</td>\n",
       "      <td>JOHN F KENNEDY</td>\n",
       "      <td>BLVD</td>\n",
       "      <td>-</td>\n",
       "      <td>1</td>\n",
       "    </tr>\n",
       "    <tr>\n",
       "      <th>122184</th>\n",
       "      <td>2016-09-15</td>\n",
       "      <td>23</td>\n",
       "      <td>Theft</td>\n",
       "      <td>8C30</td>\n",
       "      <td>NaN</td>\n",
       "      <td>9100-9199</td>\n",
       "      <td>WAYSIDE</td>\n",
       "      <td>-</td>\n",
       "      <td>N</td>\n",
       "      <td>1</td>\n",
       "    </tr>\n",
       "    <tr>\n",
       "      <th>122218</th>\n",
       "      <td>2016-09-01</td>\n",
       "      <td>7</td>\n",
       "      <td>Theft</td>\n",
       "      <td>8C40</td>\n",
       "      <td>NaN</td>\n",
       "      <td>9000-9099</td>\n",
       "      <td>SPIKEWOOD</td>\n",
       "      <td>DR</td>\n",
       "      <td>-</td>\n",
       "      <td>1</td>\n",
       "    </tr>\n",
       "    <tr>\n",
       "      <th>122472</th>\n",
       "      <td>2016-09-05</td>\n",
       "      <td>10</td>\n",
       "      <td>Theft</td>\n",
       "      <td>9C30</td>\n",
       "      <td>NaN</td>\n",
       "      <td>9700-9799</td>\n",
       "      <td>WALLISVILLE</td>\n",
       "      <td>RD</td>\n",
       "      <td>-</td>\n",
       "      <td>1</td>\n",
       "    </tr>\n",
       "  </tbody>\n",
       "</table>\n",
       "<p>1400 rows × 10 columns</p>\n",
       "</div>"
      ],
      "text/plain": [
       "             date  hour        offense_type   beat premise  block_range  \\\n",
       "176    2016-04-23    19               Theft  10H40     NaN    1000-1099   \n",
       "309    2016-04-02     9               Theft  10H60     NaN    5900-5999   \n",
       "326    2016-04-27     5            Burglary  10H60     NaN    2300-2399   \n",
       "485    2016-04-10    10               Theft  10H80     NaN    1100-1199   \n",
       "670    2016-04-26    15  Aggravated Assault  11H10     NaN    7400-7499   \n",
       "...           ...   ...                 ...    ...     ...          ...   \n",
       "121999 2016-09-13     0               Theft   7C50     NaN  15700-15799   \n",
       "122013 2016-09-14     0               Theft   7C50     NaN  15200-15299   \n",
       "122184 2016-09-15    23               Theft   8C30     NaN    9100-9199   \n",
       "122218 2016-09-01     7               Theft   8C40     NaN    9000-9099   \n",
       "122472 2016-09-05    10               Theft   9C30     NaN    9700-9799   \n",
       "\n",
       "           street_name  type suffix  offenses  \n",
       "176              ELGIN    ST      -         1  \n",
       "309              SCOTT    ST      -         1  \n",
       "326            WICHITA    ST      -         1  \n",
       "485             AUTREY    ST      -         1  \n",
       "670            SATSUMA     -      -         1  \n",
       "...                ...   ...    ...       ...  \n",
       "121999  JOHN F KENNEDY  BLVD      -         2  \n",
       "122013  JOHN F KENNEDY  BLVD      -         1  \n",
       "122184         WAYSIDE     -      N         1  \n",
       "122218       SPIKEWOOD    DR      -         1  \n",
       "122472     WALLISVILLE    RD      -         1  \n",
       "\n",
       "[1400 rows x 10 columns]"
      ]
     },
     "execution_count": 23,
     "metadata": {},
     "output_type": "execute_result"
    }
   ],
   "source": [
    "df[df.premise.isna()]"
   ]
  },
  {
   "cell_type": "code",
   "execution_count": 24,
   "metadata": {},
   "outputs": [],
   "source": [
    "## Change null values to UNK\n",
    "\n",
    "df[\"premise\"].fillna(\"UNK\", inplace = True)"
   ]
  },
  {
   "cell_type": "code",
   "execution_count": 25,
   "metadata": {},
   "outputs": [
    {
     "data": {
      "text/plain": [
       "date            0\n",
       "hour            0\n",
       "offense_type    0\n",
       "beat            0\n",
       "premise         0\n",
       "block_range     0\n",
       "street_name     0\n",
       "type            0\n",
       "suffix          0\n",
       "offenses        0\n",
       "dtype: int64"
      ]
     },
     "execution_count": 25,
     "metadata": {},
     "output_type": "execute_result"
    }
   ],
   "source": [
    "df.apply(lambda x: sum(x.isnull()))"
   ]
  },
  {
   "cell_type": "code",
   "execution_count": 26,
   "metadata": {},
   "outputs": [
    {
     "data": {
      "image/png": "[encoded data removed]",
      "text/plain": [
       "<Figure size 1080x288 with 1 Axes>"
      ]
     },
     "metadata": {},
     "output_type": "display_data"
    }
   ],
   "source": [
    "plt.figure(figsize=(15,4))\n",
    "sns.heatmap(df.isnull(),yticklabels=False,cbar=False,cmap='viridis')\n",
    "plt.title('Missing data')\n",
    "plt.show()"
   ]
  },
  {
   "cell_type": "markdown",
   "metadata": {},
   "source": [
    "## Combine columns "
   ]
  },
  {
   "cell_type": "markdown",
   "metadata": {},
   "source": [
    "## Combine date & hour to one column"
   ]
  },
  {
   "cell_type": "code",
   "execution_count": 27,
   "metadata": {},
   "outputs": [],
   "source": [
    "# convert two columns into one datetime\n",
    "df['date_time'] = pd.to_datetime(df['date']) + pd.to_timedelta(df['hour'], unit='h')\n",
    "\n",
    "# drop columns\n",
    "df = df.drop(['date','hour'], axis = 1)"
   ]
  },
  {
   "cell_type": "code",
   "execution_count": 28,
   "metadata": {},
   "outputs": [
    {
     "name": "stdout",
     "output_type": "stream",
     "text": [
      "<class 'pandas.core.frame.DataFrame'>\n",
      "RangeIndex: 122693 entries, 0 to 122692\n",
      "Data columns (total 9 columns):\n",
      " #   Column        Non-Null Count   Dtype         \n",
      "---  ------        --------------   -----         \n",
      " 0   offense_type  122693 non-null  object        \n",
      " 1   beat          122693 non-null  object        \n",
      " 2   premise       122693 non-null  object        \n",
      " 3   block_range   122693 non-null  object        \n",
      " 4   street_name   122693 non-null  object        \n",
      " 5   type          122693 non-null  object        \n",
      " 6   suffix        122693 non-null  object        \n",
      " 7   offenses      122693 non-null  int64         \n",
      " 8   date_time     122693 non-null  datetime64[ns]\n",
      "dtypes: datetime64[ns](1), int64(1), object(7)\n",
      "memory usage: 8.4+ MB\n"
     ]
    }
   ],
   "source": [
    "df.info()"
   ]
  },
  {
   "cell_type": "code",
   "execution_count": 29,
   "metadata": {},
   "outputs": [
    {
     "data": {
      "text/html": [
       "<div>\n",
       "<style scoped>\n",
       "    .dataframe tbody tr th:only-of-type {\n",
       "        vertical-align: middle;\n",
       "    }\n",
       "\n",
       "    .dataframe tbody tr th {\n",
       "        vertical-align: top;\n",
       "    }\n",
       "\n",
       "    .dataframe thead th {\n",
       "        text-align: right;\n",
       "    }\n",
       "</style>\n",
       "<table border=\"1\" class=\"dataframe\">\n",
       "  <thead>\n",
       "    <tr style=\"text-align: right;\">\n",
       "      <th></th>\n",
       "      <th>offense_type</th>\n",
       "      <th>beat</th>\n",
       "      <th>premise</th>\n",
       "      <th>block_range</th>\n",
       "      <th>street_name</th>\n",
       "      <th>type</th>\n",
       "      <th>suffix</th>\n",
       "      <th>offenses</th>\n",
       "      <th>date_time</th>\n",
       "    </tr>\n",
       "  </thead>\n",
       "  <tbody>\n",
       "    <tr>\n",
       "      <th>0</th>\n",
       "      <td>Robbery</td>\n",
       "      <td>10H10</td>\n",
       "      <td>Road, Street, or Sidewalk</td>\n",
       "      <td>4000-4099</td>\n",
       "      <td>MILBY</td>\n",
       "      <td>-</td>\n",
       "      <td>-</td>\n",
       "      <td>1</td>\n",
       "      <td>2016-04-10 20:00:00</td>\n",
       "    </tr>\n",
       "    <tr>\n",
       "      <th>1</th>\n",
       "      <td>Aggravated Assault</td>\n",
       "      <td>10H10</td>\n",
       "      <td>Road, Street, or Sidewalk</td>\n",
       "      <td>400-499</td>\n",
       "      <td>YORK</td>\n",
       "      <td>-</td>\n",
       "      <td>-</td>\n",
       "      <td>2</td>\n",
       "      <td>2016-04-11 19:00:00</td>\n",
       "    </tr>\n",
       "    <tr>\n",
       "      <th>2</th>\n",
       "      <td>Robbery</td>\n",
       "      <td>10H10</td>\n",
       "      <td>Apartment</td>\n",
       "      <td>1900-1999</td>\n",
       "      <td>RUNNELS</td>\n",
       "      <td>-</td>\n",
       "      <td>-</td>\n",
       "      <td>1</td>\n",
       "      <td>2016-04-12 20:00:00</td>\n",
       "    </tr>\n",
       "    <tr>\n",
       "      <th>3</th>\n",
       "      <td>Auto Theft</td>\n",
       "      <td>10H10</td>\n",
       "      <td>Driveway</td>\n",
       "      <td>100-199</td>\n",
       "      <td>SIDNEY</td>\n",
       "      <td>-</td>\n",
       "      <td>-</td>\n",
       "      <td>1</td>\n",
       "      <td>2016-04-13 02:00:00</td>\n",
       "    </tr>\n",
       "    <tr>\n",
       "      <th>4</th>\n",
       "      <td>Burglary</td>\n",
       "      <td>10H10</td>\n",
       "      <td>Service or Gas Station</td>\n",
       "      <td>3300-3399</td>\n",
       "      <td>CANAL</td>\n",
       "      <td>ST</td>\n",
       "      <td>-</td>\n",
       "      <td>1</td>\n",
       "      <td>2016-04-14 03:00:00</td>\n",
       "    </tr>\n",
       "  </tbody>\n",
       "</table>\n",
       "</div>"
      ],
      "text/plain": [
       "         offense_type   beat                    premise block_range  \\\n",
       "0             Robbery  10H10  Road, Street, or Sidewalk   4000-4099   \n",
       "1  Aggravated Assault  10H10  Road, Street, or Sidewalk     400-499   \n",
       "2             Robbery  10H10                  Apartment   1900-1999   \n",
       "3          Auto Theft  10H10                   Driveway     100-199   \n",
       "4            Burglary  10H10     Service or Gas Station   3300-3399   \n",
       "\n",
       "  street_name type suffix  offenses           date_time  \n",
       "0       MILBY    -      -         1 2016-04-10 20:00:00  \n",
       "1        YORK    -      -         2 2016-04-11 19:00:00  \n",
       "2     RUNNELS    -      -         1 2016-04-12 20:00:00  \n",
       "3      SIDNEY    -      -         1 2016-04-13 02:00:00  \n",
       "4       CANAL   ST      -         1 2016-04-14 03:00:00  "
      ]
     },
     "execution_count": 29,
     "metadata": {},
     "output_type": "execute_result"
    }
   ],
   "source": [
    "df.head()"
   ]
  },
  {
   "cell_type": "markdown",
   "metadata": {},
   "source": [
    "## Convert offenses to integer"
   ]
  },
  {
   "cell_type": "code",
   "execution_count": 30,
   "metadata": {},
   "outputs": [],
   "source": [
    "# convert offenses to int\n",
    "df['offenses'] = df['offenses'].astype('int64')"
   ]
  },
  {
   "cell_type": "code",
   "execution_count": 31,
   "metadata": {},
   "outputs": [
    {
     "name": "stdout",
     "output_type": "stream",
     "text": [
      "<class 'pandas.core.frame.DataFrame'>\n",
      "RangeIndex: 122693 entries, 0 to 122692\n",
      "Data columns (total 9 columns):\n",
      " #   Column        Non-Null Count   Dtype         \n",
      "---  ------        --------------   -----         \n",
      " 0   offense_type  122693 non-null  object        \n",
      " 1   beat          122693 non-null  object        \n",
      " 2   premise       122693 non-null  object        \n",
      " 3   block_range   122693 non-null  object        \n",
      " 4   street_name   122693 non-null  object        \n",
      " 5   type          122693 non-null  object        \n",
      " 6   suffix        122693 non-null  object        \n",
      " 7   offenses      122693 non-null  int64         \n",
      " 8   date_time     122693 non-null  datetime64[ns]\n",
      "dtypes: datetime64[ns](1), int64(1), object(7)\n",
      "memory usage: 8.4+ MB\n"
     ]
    }
   ],
   "source": [
    "df.info()"
   ]
  },
  {
   "cell_type": "markdown",
   "metadata": {},
   "source": [
    "## change order of columns"
   ]
  },
  {
   "cell_type": "code",
   "execution_count": 32,
   "metadata": {},
   "outputs": [
    {
     "data": {
      "text/html": [
       "<div>\n",
       "<style scoped>\n",
       "    .dataframe tbody tr th:only-of-type {\n",
       "        vertical-align: middle;\n",
       "    }\n",
       "\n",
       "    .dataframe tbody tr th {\n",
       "        vertical-align: top;\n",
       "    }\n",
       "\n",
       "    .dataframe thead th {\n",
       "        text-align: right;\n",
       "    }\n",
       "</style>\n",
       "<table border=\"1\" class=\"dataframe\">\n",
       "  <thead>\n",
       "    <tr style=\"text-align: right;\">\n",
       "      <th></th>\n",
       "      <th>date_time</th>\n",
       "      <th>offenses</th>\n",
       "      <th>offense_type</th>\n",
       "      <th>block_range</th>\n",
       "      <th>street_name</th>\n",
       "      <th>type</th>\n",
       "      <th>suffix</th>\n",
       "      <th>beat</th>\n",
       "      <th>premise</th>\n",
       "    </tr>\n",
       "  </thead>\n",
       "  <tbody>\n",
       "    <tr>\n",
       "      <th>0</th>\n",
       "      <td>2016-04-10 20:00:00</td>\n",
       "      <td>1</td>\n",
       "      <td>Robbery</td>\n",
       "      <td>4000-4099</td>\n",
       "      <td>MILBY</td>\n",
       "      <td>-</td>\n",
       "      <td>-</td>\n",
       "      <td>10H10</td>\n",
       "      <td>Road, Street, or Sidewalk</td>\n",
       "    </tr>\n",
       "    <tr>\n",
       "      <th>1</th>\n",
       "      <td>2016-04-11 19:00:00</td>\n",
       "      <td>2</td>\n",
       "      <td>Aggravated Assault</td>\n",
       "      <td>400-499</td>\n",
       "      <td>YORK</td>\n",
       "      <td>-</td>\n",
       "      <td>-</td>\n",
       "      <td>10H10</td>\n",
       "      <td>Road, Street, or Sidewalk</td>\n",
       "    </tr>\n",
       "    <tr>\n",
       "      <th>2</th>\n",
       "      <td>2016-04-12 20:00:00</td>\n",
       "      <td>1</td>\n",
       "      <td>Robbery</td>\n",
       "      <td>1900-1999</td>\n",
       "      <td>RUNNELS</td>\n",
       "      <td>-</td>\n",
       "      <td>-</td>\n",
       "      <td>10H10</td>\n",
       "      <td>Apartment</td>\n",
       "    </tr>\n",
       "    <tr>\n",
       "      <th>3</th>\n",
       "      <td>2016-04-13 02:00:00</td>\n",
       "      <td>1</td>\n",
       "      <td>Auto Theft</td>\n",
       "      <td>100-199</td>\n",
       "      <td>SIDNEY</td>\n",
       "      <td>-</td>\n",
       "      <td>-</td>\n",
       "      <td>10H10</td>\n",
       "      <td>Driveway</td>\n",
       "    </tr>\n",
       "    <tr>\n",
       "      <th>4</th>\n",
       "      <td>2016-04-14 03:00:00</td>\n",
       "      <td>1</td>\n",
       "      <td>Burglary</td>\n",
       "      <td>3300-3399</td>\n",
       "      <td>CANAL</td>\n",
       "      <td>ST</td>\n",
       "      <td>-</td>\n",
       "      <td>10H10</td>\n",
       "      <td>Service or Gas Station</td>\n",
       "    </tr>\n",
       "  </tbody>\n",
       "</table>\n",
       "</div>"
      ],
      "text/plain": [
       "            date_time  offenses        offense_type block_range street_name  \\\n",
       "0 2016-04-10 20:00:00         1             Robbery   4000-4099       MILBY   \n",
       "1 2016-04-11 19:00:00         2  Aggravated Assault     400-499        YORK   \n",
       "2 2016-04-12 20:00:00         1             Robbery   1900-1999     RUNNELS   \n",
       "3 2016-04-13 02:00:00         1          Auto Theft     100-199      SIDNEY   \n",
       "4 2016-04-14 03:00:00         1            Burglary   3300-3399       CANAL   \n",
       "\n",
       "  type suffix   beat                    premise  \n",
       "0    -      -  10H10  Road, Street, or Sidewalk  \n",
       "1    -      -  10H10  Road, Street, or Sidewalk  \n",
       "2    -      -  10H10                  Apartment  \n",
       "3    -      -  10H10                   Driveway  \n",
       "4   ST      -  10H10     Service or Gas Station  "
      ]
     },
     "execution_count": 32,
     "metadata": {},
     "output_type": "execute_result"
    }
   ],
   "source": [
    "col_ord =['date_time','offenses','offense_type', 'block_range', 'street_name', 'type', 'suffix','beat', 'premise']\n",
    "df = df[col_ord]\n",
    "df.head()"
   ]
  },
  {
   "cell_type": "markdown",
   "metadata": {},
   "source": [
    "## Save to bucket"
   ]
  },
  {
   "cell_type": "code",
   "execution_count": 33,
   "metadata": {},
   "outputs": [
    {
     "data": {
      "text/plain": [
       "'s3://salas-data/capstone/inter-data/crime-data/crime_2016.csv'"
      ]
     },
     "execution_count": 33,
     "metadata": {},
     "output_type": "execute_result"
    }
   ],
   "source": [
    "bucket = 'salas-data'\n",
    "file_name = f'crime_{year}.csv'\n",
    "path_to_save = f\"s3://{bucket}/capstone/inter-data/crime-data/{file_name}\"\n",
    "path_to_save"
   ]
  },
  {
   "cell_type": "code",
   "execution_count": null,
   "metadata": {},
   "outputs": [],
   "source": []
  },
  {
   "cell_type": "code",
   "execution_count": 34,
   "metadata": {},
   "outputs": [
    {
     "name": "stdout",
     "output_type": "stream",
     "text": [
      "CPU times: user 484 ms, sys: 31.2 ms, total: 516 ms\n",
      "Wall time: 7 s\n"
     ]
    },
    {
     "data": {
      "text/plain": [
       "{'paths': ['s3://salas-data/capstone/inter-data/crime-data/crime_2016.csv'],\n",
       " 'partitions_values': {}}"
      ]
     },
     "execution_count": 34,
     "metadata": {},
     "output_type": "execute_result"
    }
   ],
   "source": [
    "%%time\n",
    "wr.s3.to_csv(df, path_to_save, index=False)"
   ]
  }
 ],
 "metadata": {
  "kernelspec": {
   "display_name": "Python 3",
   "language": "python",
   "name": "python3"
  },
  "language_info": {
   "codemirror_mode": {
    "name": "ipython",
    "version": 3
   },
   "file_extension": ".py",
   "mimetype": "text/x-python",
   "name": "python",
   "nbconvert_exporter": "python",
   "pygments_lexer": "ipython3",
   "version": "3.8.5"
  }
 },
 "nbformat": 4,
 "nbformat_minor": 4
}
