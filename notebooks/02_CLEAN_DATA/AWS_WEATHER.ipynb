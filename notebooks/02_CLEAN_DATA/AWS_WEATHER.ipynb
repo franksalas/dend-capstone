{
 "cells": [
  {
   "cell_type": "code",
   "execution_count": 1,
   "metadata": {},
   "outputs": [
    {
     "data": {
      "text/html": [
       "        <script type=\"text/javascript\">\n",
       "        window.PlotlyConfig = {MathJaxConfig: 'local'};\n",
       "        if (window.MathJax) {MathJax.Hub.Config({SVG: {font: \"STIX-Web\"}});}\n",
       "        if (typeof require !== 'undefined') {\n",
       "        require.undef(\"plotly\");\n",
       "        requirejs.config({\n",
       "            paths: {\n",
       "                'plotly': ['https://cdn.plot.ly/plotly-2.2.0.min']\n",
       "            }\n",
       "        });\n",
       "        require(['plotly'], function(Plotly) {\n",
       "            window._Plotly = Plotly;\n",
       "        });\n",
       "        }\n",
       "        </script>\n",
       "        "
      ]
     },
     "metadata": {},
     "output_type": "display_data"
    },
    {
     "name": "stdout",
     "output_type": "stream",
     "text": [
      "\n",
      "python\t3.9.6 (default, Jul 30 2021, 16:35:19) \n",
      "[GCC 7.5.0]\n",
      "---------------------\n",
      "Versions:\n",
      "----------------------\n",
      "pandas      1.3.1\n",
      "numpy       1.20.3\n",
      "matplotlib  3.4.2\n",
      "seaborn     0.11.1\n",
      "plotly      5.1.0\n",
      "boto3       1.18.16\n",
      "awswrangler 2.10.0\n",
      "----------------------\n",
      "\n",
      "\n",
      "Loaded Libraries\n",
      "-------------------\n",
      "import pandas as pd\n",
      "import numpy as np\n",
      "import sys,os\n",
      "import re\n",
      "import glob\n",
      "import pickle\n",
      "import seaborn as sns\n",
      "import matplotlib.pyplot as plt\n",
      "import plotly\n",
      "import plotly.graph_objs as go\n",
      "from plotly.offline import download_plotlyjs, init_notebook_mode, plot, iplot\n",
      "init_notebook_mode(connected=True)\n",
      "\n",
      "\n",
      "## AWS\n",
      "import boto3\n",
      "import awswrangler as wr\n",
      "----------------\n",
      "\n",
      "\n",
      "GLOBAL VARIABLES\n",
      "--------------------------\n",
      "# Creating the low level functional client\n",
      "client = boto3.client(\n",
      "    's3',\n",
      "    aws_access_key_id = AWS_KEY_ID,\n",
      "    aws_secret_access_key = AWS_SECRET,\n",
      ")\n",
      "    \n",
      "# Creating the high level object oriented interface\n",
      "resource = boto3.resource(\n",
      "    's3',\n",
      "    aws_access_key_id = AWS_KEY_ID,\n",
      "    aws_secret_access_key = AWS_SECRET,\n",
      ")\n",
      "\n",
      "HERE_DIR: list current directory path\n",
      "------------------------------\n",
      "\n",
      "# SAVE PLOTS\n",
      "To save a plot call\n",
      "`save_plots(fig_variable,'name_of_plot')`\n",
      "\n",
      "source file: src/start.py\n",
      "\n",
      "\n"
     ]
    }
   ],
   "source": [
    "%run ../../src/start.py"
   ]
  },
  {
   "cell_type": "markdown",
   "metadata": {},
   "source": [
    "## Load Data"
   ]
  },
  {
   "cell_type": "code",
   "execution_count": null,
   "metadata": {},
   "outputs": [],
   "source": []
  },
  {
   "cell_type": "code",
   "execution_count": 2,
   "metadata": {},
   "outputs": [],
   "source": [
    "# helper function\n",
    "def bucket_raw_path(bucket_name,path_dir):\n",
    "    ''''''\n",
    "    raw_path = f's3://{bucket_name}/{path_dir}'\n",
    "    return raw_path"
   ]
  },
  {
   "cell_type": "code",
   "execution_count": 3,
   "metadata": {},
   "outputs": [
    {
     "data": {
      "text/plain": [
       "'s3://dend-data/capstone/raw-data/weather-data/'"
      ]
     },
     "execution_count": 3,
     "metadata": {},
     "output_type": "execute_result"
    }
   ],
   "source": [
    "raw = bucket_raw_path('dend-data',f'capstone/raw-data/weather-data/')\n",
    "raw"
   ]
  },
  {
   "cell_type": "markdown",
   "metadata": {},
   "source": [
    "## List objects in bucket"
   ]
  },
  {
   "cell_type": "code",
   "execution_count": 4,
   "metadata": {},
   "outputs": [
    {
     "data": {
      "text/plain": [
       "['s3://dend-data/capstone/raw-data/weather-data/b5af47a41a784be4c6fca0b53302f0a1.csv']"
      ]
     },
     "execution_count": 4,
     "metadata": {},
     "output_type": "execute_result"
    }
   ],
   "source": [
    "wr.s3.list_objects(raw)"
   ]
  },
  {
   "cell_type": "markdown",
   "metadata": {},
   "source": [
    "## Create dataframe from s3 files"
   ]
  },
  {
   "cell_type": "code",
   "execution_count": null,
   "metadata": {},
   "outputs": [],
   "source": []
  },
  {
   "cell_type": "code",
   "execution_count": 5,
   "metadata": {},
   "outputs": [
    {
     "name": "stdout",
     "output_type": "stream",
     "text": [
      "CPU times: user 712 ms, sys: 221 ms, total: 933 ms\n",
      "Wall time: 14.1 s\n"
     ]
    }
   ],
   "source": [
    "%%time\n",
    "df = wr.s3.read_csv(raw)"
   ]
  },
  {
   "cell_type": "code",
   "execution_count": 6,
   "metadata": {},
   "outputs": [],
   "source": [
    "## cleanup columns\n",
    "df.columns = df.columns.str.lower().str.replace(' ','_').str.replace('\\n','_').str.strip()"
   ]
  },
  {
   "cell_type": "code",
   "execution_count": 7,
   "metadata": {},
   "outputs": [
    {
     "name": "stdout",
     "output_type": "stream",
     "text": [
      "<class 'pandas.core.frame.DataFrame'>\n",
      "RangeIndex: 151265 entries, 0 to 151264\n",
      "Data columns (total 25 columns):\n",
      " #   Column               Non-Null Count   Dtype  \n",
      "---  ------               --------------   -----  \n",
      " 0   dt                   151265 non-null  int64  \n",
      " 1   dt_iso               151265 non-null  object \n",
      " 2   timezone             151265 non-null  int64  \n",
      " 3   city_name            151265 non-null  object \n",
      " 4   lat                  151265 non-null  float64\n",
      " 5   lon                  151265 non-null  float64\n",
      " 6   temp                 151265 non-null  float64\n",
      " 7   feels_like           151265 non-null  float64\n",
      " 8   temp_min             151265 non-null  float64\n",
      " 9   temp_max             151265 non-null  float64\n",
      " 10  pressure             151265 non-null  int64  \n",
      " 11  sea_level            0 non-null       float64\n",
      " 12  grnd_level           0 non-null       float64\n",
      " 13  humidity             151265 non-null  int64  \n",
      " 14  wind_speed           151265 non-null  float64\n",
      " 15  wind_deg             151265 non-null  int64  \n",
      " 16  rain_1h              28099 non-null   float64\n",
      " 17  rain_3h              0 non-null       float64\n",
      " 18  snow_1h              174 non-null     float64\n",
      " 19  snow_3h              0 non-null       float64\n",
      " 20  clouds_all           151265 non-null  int64  \n",
      " 21  weather_id           151265 non-null  int64  \n",
      " 22  weather_main         151265 non-null  object \n",
      " 23  weather_description  151265 non-null  object \n",
      " 24  weather_icon         151265 non-null  object \n",
      "dtypes: float64(13), int64(7), object(5)\n",
      "memory usage: 28.9+ MB\n"
     ]
    }
   ],
   "source": [
    "df.info()"
   ]
  },
  {
   "cell_type": "code",
   "execution_count": null,
   "metadata": {},
   "outputs": [],
   "source": [
    "## Select column"
   ]
  },
  {
   "cell_type": "code",
   "execution_count": null,
   "metadata": {},
   "outputs": [],
   "source": []
  },
  {
   "cell_type": "code",
   "execution_count": null,
   "metadata": {},
   "outputs": [],
   "source": []
  },
  {
   "cell_type": "code",
   "execution_count": 8,
   "metadata": {},
   "outputs": [
    {
     "data": {
      "text/html": [
       "<div>\n",
       "<style scoped>\n",
       "    .dataframe tbody tr th:only-of-type {\n",
       "        vertical-align: middle;\n",
       "    }\n",
       "\n",
       "    .dataframe tbody tr th {\n",
       "        vertical-align: top;\n",
       "    }\n",
       "\n",
       "    .dataframe thead th {\n",
       "        text-align: right;\n",
       "    }\n",
       "</style>\n",
       "<table border=\"1\" class=\"dataframe\">\n",
       "  <thead>\n",
       "    <tr style=\"text-align: right;\">\n",
       "      <th></th>\n",
       "      <th>dt</th>\n",
       "      <th>dt_iso</th>\n",
       "      <th>timezone</th>\n",
       "      <th>city_name</th>\n",
       "      <th>lat</th>\n",
       "      <th>lon</th>\n",
       "      <th>temp</th>\n",
       "      <th>feels_like</th>\n",
       "      <th>temp_min</th>\n",
       "      <th>temp_max</th>\n",
       "      <th>pressure</th>\n",
       "      <th>sea_level</th>\n",
       "      <th>grnd_level</th>\n",
       "      <th>humidity</th>\n",
       "      <th>wind_speed</th>\n",
       "      <th>wind_deg</th>\n",
       "      <th>rain_1h</th>\n",
       "      <th>rain_3h</th>\n",
       "      <th>snow_1h</th>\n",
       "      <th>snow_3h</th>\n",
       "      <th>clouds_all</th>\n",
       "      <th>weather_id</th>\n",
       "      <th>weather_main</th>\n",
       "      <th>weather_description</th>\n",
       "      <th>weather_icon</th>\n",
       "    </tr>\n",
       "  </thead>\n",
       "  <tbody>\n",
       "    <tr>\n",
       "      <th>0</th>\n",
       "      <td>1104537600</td>\n",
       "      <td>2005-01-01 00:00:00 +0000 UTC</td>\n",
       "      <td>-21600</td>\n",
       "      <td>Houston</td>\n",
       "      <td>29.760427</td>\n",
       "      <td>-95.369803</td>\n",
       "      <td>293.66</td>\n",
       "      <td>294.09</td>\n",
       "      <td>292.16</td>\n",
       "      <td>293.78</td>\n",
       "      <td>1021</td>\n",
       "      <td>NaN</td>\n",
       "      <td>NaN</td>\n",
       "      <td>89</td>\n",
       "      <td>3.1</td>\n",
       "      <td>100</td>\n",
       "      <td>NaN</td>\n",
       "      <td>NaN</td>\n",
       "      <td>NaN</td>\n",
       "      <td>NaN</td>\n",
       "      <td>75</td>\n",
       "      <td>803</td>\n",
       "      <td>Clouds</td>\n",
       "      <td>broken clouds</td>\n",
       "      <td>04n</td>\n",
       "    </tr>\n",
       "    <tr>\n",
       "      <th>1</th>\n",
       "      <td>1104541200</td>\n",
       "      <td>2005-01-01 01:00:00 +0000 UTC</td>\n",
       "      <td>-21600</td>\n",
       "      <td>Houston</td>\n",
       "      <td>29.760427</td>\n",
       "      <td>-95.369803</td>\n",
       "      <td>292.09</td>\n",
       "      <td>292.65</td>\n",
       "      <td>291.16</td>\n",
       "      <td>292.18</td>\n",
       "      <td>1021</td>\n",
       "      <td>NaN</td>\n",
       "      <td>NaN</td>\n",
       "      <td>100</td>\n",
       "      <td>2.6</td>\n",
       "      <td>100</td>\n",
       "      <td>NaN</td>\n",
       "      <td>NaN</td>\n",
       "      <td>NaN</td>\n",
       "      <td>NaN</td>\n",
       "      <td>40</td>\n",
       "      <td>802</td>\n",
       "      <td>Clouds</td>\n",
       "      <td>scattered clouds</td>\n",
       "      <td>03n</td>\n",
       "    </tr>\n",
       "    <tr>\n",
       "      <th>2</th>\n",
       "      <td>1104544800</td>\n",
       "      <td>2005-01-01 02:00:00 +0000 UTC</td>\n",
       "      <td>-21600</td>\n",
       "      <td>Houston</td>\n",
       "      <td>29.760427</td>\n",
       "      <td>-95.369803</td>\n",
       "      <td>292.14</td>\n",
       "      <td>292.71</td>\n",
       "      <td>290.18</td>\n",
       "      <td>292.18</td>\n",
       "      <td>1022</td>\n",
       "      <td>NaN</td>\n",
       "      <td>NaN</td>\n",
       "      <td>100</td>\n",
       "      <td>3.6</td>\n",
       "      <td>110</td>\n",
       "      <td>NaN</td>\n",
       "      <td>NaN</td>\n",
       "      <td>NaN</td>\n",
       "      <td>NaN</td>\n",
       "      <td>90</td>\n",
       "      <td>741</td>\n",
       "      <td>Fog</td>\n",
       "      <td>fog</td>\n",
       "      <td>50n</td>\n",
       "    </tr>\n",
       "    <tr>\n",
       "      <th>3</th>\n",
       "      <td>1104548400</td>\n",
       "      <td>2005-01-01 03:00:00 +0000 UTC</td>\n",
       "      <td>-21600</td>\n",
       "      <td>Houston</td>\n",
       "      <td>29.760427</td>\n",
       "      <td>-95.369803</td>\n",
       "      <td>291.34</td>\n",
       "      <td>291.83</td>\n",
       "      <td>291.16</td>\n",
       "      <td>291.58</td>\n",
       "      <td>1022</td>\n",
       "      <td>NaN</td>\n",
       "      <td>NaN</td>\n",
       "      <td>100</td>\n",
       "      <td>3.1</td>\n",
       "      <td>130</td>\n",
       "      <td>NaN</td>\n",
       "      <td>NaN</td>\n",
       "      <td>NaN</td>\n",
       "      <td>NaN</td>\n",
       "      <td>90</td>\n",
       "      <td>741</td>\n",
       "      <td>Fog</td>\n",
       "      <td>fog</td>\n",
       "      <td>50n</td>\n",
       "    </tr>\n",
       "    <tr>\n",
       "      <th>4</th>\n",
       "      <td>1104552000</td>\n",
       "      <td>2005-01-01 04:00:00 +0000 UTC</td>\n",
       "      <td>-21600</td>\n",
       "      <td>Houston</td>\n",
       "      <td>29.760427</td>\n",
       "      <td>-95.369803</td>\n",
       "      <td>291.07</td>\n",
       "      <td>291.53</td>\n",
       "      <td>290.16</td>\n",
       "      <td>291.58</td>\n",
       "      <td>1022</td>\n",
       "      <td>NaN</td>\n",
       "      <td>NaN</td>\n",
       "      <td>100</td>\n",
       "      <td>3.1</td>\n",
       "      <td>110</td>\n",
       "      <td>NaN</td>\n",
       "      <td>NaN</td>\n",
       "      <td>NaN</td>\n",
       "      <td>NaN</td>\n",
       "      <td>90</td>\n",
       "      <td>741</td>\n",
       "      <td>Fog</td>\n",
       "      <td>fog</td>\n",
       "      <td>50n</td>\n",
       "    </tr>\n",
       "  </tbody>\n",
       "</table>\n",
       "</div>"
      ],
      "text/plain": [
       "           dt                         dt_iso  timezone city_name        lat  \\\n",
       "0  1104537600  2005-01-01 00:00:00 +0000 UTC    -21600   Houston  29.760427   \n",
       "1  1104541200  2005-01-01 01:00:00 +0000 UTC    -21600   Houston  29.760427   \n",
       "2  1104544800  2005-01-01 02:00:00 +0000 UTC    -21600   Houston  29.760427   \n",
       "3  1104548400  2005-01-01 03:00:00 +0000 UTC    -21600   Houston  29.760427   \n",
       "4  1104552000  2005-01-01 04:00:00 +0000 UTC    -21600   Houston  29.760427   \n",
       "\n",
       "         lon    temp  feels_like  temp_min  temp_max  pressure  sea_level  \\\n",
       "0 -95.369803  293.66      294.09    292.16    293.78      1021        NaN   \n",
       "1 -95.369803  292.09      292.65    291.16    292.18      1021        NaN   \n",
       "2 -95.369803  292.14      292.71    290.18    292.18      1022        NaN   \n",
       "3 -95.369803  291.34      291.83    291.16    291.58      1022        NaN   \n",
       "4 -95.369803  291.07      291.53    290.16    291.58      1022        NaN   \n",
       "\n",
       "   grnd_level  humidity  wind_speed  wind_deg  rain_1h  rain_3h  snow_1h  \\\n",
       "0         NaN        89         3.1       100      NaN      NaN      NaN   \n",
       "1         NaN       100         2.6       100      NaN      NaN      NaN   \n",
       "2         NaN       100         3.6       110      NaN      NaN      NaN   \n",
       "3         NaN       100         3.1       130      NaN      NaN      NaN   \n",
       "4         NaN       100         3.1       110      NaN      NaN      NaN   \n",
       "\n",
       "   snow_3h  clouds_all  weather_id weather_main weather_description  \\\n",
       "0      NaN          75         803       Clouds       broken clouds   \n",
       "1      NaN          40         802       Clouds    scattered clouds   \n",
       "2      NaN          90         741          Fog                 fog   \n",
       "3      NaN          90         741          Fog                 fog   \n",
       "4      NaN          90         741          Fog                 fog   \n",
       "\n",
       "  weather_icon  \n",
       "0          04n  \n",
       "1          03n  \n",
       "2          50n  \n",
       "3          50n  \n",
       "4          50n  "
      ]
     },
     "execution_count": 8,
     "metadata": {},
     "output_type": "execute_result"
    }
   ],
   "source": [
    "df.head()"
   ]
  },
  {
   "cell_type": "markdown",
   "metadata": {},
   "source": [
    "## Show null data"
   ]
  },
  {
   "cell_type": "code",
   "execution_count": 9,
   "metadata": {},
   "outputs": [
    {
     "data": {
      "text/plain": [
       "dt                          0\n",
       "dt_iso                      0\n",
       "timezone                    0\n",
       "city_name                   0\n",
       "lat                         0\n",
       "lon                         0\n",
       "temp                        0\n",
       "feels_like                  0\n",
       "temp_min                    0\n",
       "temp_max                    0\n",
       "pressure                    0\n",
       "sea_level              151265\n",
       "grnd_level             151265\n",
       "humidity                    0\n",
       "wind_speed                  0\n",
       "wind_deg                    0\n",
       "rain_1h                123166\n",
       "rain_3h                151265\n",
       "snow_1h                151091\n",
       "snow_3h                151265\n",
       "clouds_all                  0\n",
       "weather_id                  0\n",
       "weather_main                0\n",
       "weather_description         0\n",
       "weather_icon                0\n",
       "dtype: int64"
      ]
     },
     "execution_count": 9,
     "metadata": {},
     "output_type": "execute_result"
    }
   ],
   "source": [
    "df.apply(lambda x: sum(x.isnull()))"
   ]
  },
  {
   "cell_type": "code",
   "execution_count": 10,
   "metadata": {},
   "outputs": [
    {
     "data": {
      "text/html": [
       "<div>\n",
       "<style scoped>\n",
       "    .dataframe tbody tr th:only-of-type {\n",
       "        vertical-align: middle;\n",
       "    }\n",
       "\n",
       "    .dataframe tbody tr th {\n",
       "        vertical-align: top;\n",
       "    }\n",
       "\n",
       "    .dataframe thead th {\n",
       "        text-align: right;\n",
       "    }\n",
       "</style>\n",
       "<table border=\"1\" class=\"dataframe\">\n",
       "  <thead>\n",
       "    <tr style=\"text-align: right;\">\n",
       "      <th></th>\n",
       "      <th>null_percent</th>\n",
       "    </tr>\n",
       "  </thead>\n",
       "  <tbody>\n",
       "    <tr>\n",
       "      <th>rain_1h</th>\n",
       "      <td>81.42</td>\n",
       "    </tr>\n",
       "    <tr>\n",
       "      <th>dt</th>\n",
       "      <td>0.00</td>\n",
       "    </tr>\n",
       "    <tr>\n",
       "      <th>dt_iso</th>\n",
       "      <td>0.00</td>\n",
       "    </tr>\n",
       "    <tr>\n",
       "      <th>weather_description</th>\n",
       "      <td>0.00</td>\n",
       "    </tr>\n",
       "    <tr>\n",
       "      <th>weather_main</th>\n",
       "      <td>0.00</td>\n",
       "    </tr>\n",
       "    <tr>\n",
       "      <th>weather_id</th>\n",
       "      <td>0.00</td>\n",
       "    </tr>\n",
       "    <tr>\n",
       "      <th>clouds_all</th>\n",
       "      <td>0.00</td>\n",
       "    </tr>\n",
       "    <tr>\n",
       "      <th>wind_deg</th>\n",
       "      <td>0.00</td>\n",
       "    </tr>\n",
       "    <tr>\n",
       "      <th>wind_speed</th>\n",
       "      <td>0.00</td>\n",
       "    </tr>\n",
       "    <tr>\n",
       "      <th>humidity</th>\n",
       "      <td>0.00</td>\n",
       "    </tr>\n",
       "    <tr>\n",
       "      <th>pressure</th>\n",
       "      <td>0.00</td>\n",
       "    </tr>\n",
       "    <tr>\n",
       "      <th>temp_max</th>\n",
       "      <td>0.00</td>\n",
       "    </tr>\n",
       "    <tr>\n",
       "      <th>temp_min</th>\n",
       "      <td>0.00</td>\n",
       "    </tr>\n",
       "    <tr>\n",
       "      <th>feels_like</th>\n",
       "      <td>0.00</td>\n",
       "    </tr>\n",
       "    <tr>\n",
       "      <th>temp</th>\n",
       "      <td>0.00</td>\n",
       "    </tr>\n",
       "    <tr>\n",
       "      <th>lon</th>\n",
       "      <td>0.00</td>\n",
       "    </tr>\n",
       "    <tr>\n",
       "      <th>lat</th>\n",
       "      <td>0.00</td>\n",
       "    </tr>\n",
       "    <tr>\n",
       "      <th>city_name</th>\n",
       "      <td>0.00</td>\n",
       "    </tr>\n",
       "    <tr>\n",
       "      <th>timezone</th>\n",
       "      <td>0.00</td>\n",
       "    </tr>\n",
       "    <tr>\n",
       "      <th>weather_icon</th>\n",
       "      <td>0.00</td>\n",
       "    </tr>\n",
       "  </tbody>\n",
       "</table>\n",
       "</div>"
      ],
      "text/plain": [
       "                     null_percent\n",
       "rain_1h                     81.42\n",
       "dt                           0.00\n",
       "dt_iso                       0.00\n",
       "weather_description          0.00\n",
       "weather_main                 0.00\n",
       "weather_id                   0.00\n",
       "clouds_all                   0.00\n",
       "wind_deg                     0.00\n",
       "wind_speed                   0.00\n",
       "humidity                     0.00\n",
       "pressure                     0.00\n",
       "temp_max                     0.00\n",
       "temp_min                     0.00\n",
       "feels_like                   0.00\n",
       "temp                         0.00\n",
       "lon                          0.00\n",
       "lat                          0.00\n",
       "city_name                    0.00\n",
       "timezone                     0.00\n",
       "weather_icon                 0.00"
      ]
     },
     "execution_count": 10,
     "metadata": {},
     "output_type": "execute_result"
    }
   ],
   "source": [
    "# create null percentage of column as dataframe\n",
    "null_per_df = pd.DataFrame(df.isna().mean().round(4) * 100)\n",
    "# rename columns\n",
    "null_per_df.rename(columns={'index': 'col_name', 0: 'null_percent'}, inplace=True)\n",
    "\n",
    "# filter data <20% null values\n",
    "per_filter = null_per_df.null_percent<=90\n",
    "null_per_df[per_filter].sort_values(by='null_percent',ascending=False)"
   ]
  },
  {
   "cell_type": "code",
   "execution_count": 11,
   "metadata": {},
   "outputs": [
    {
     "data": {
      "image/png": "[encoded data removed]",
      "text/plain": [
       "<Figure size 1500x400 with 1 Axes>"
      ]
     },
     "metadata": {},
     "output_type": "display_data"
    }
   ],
   "source": [
    "plt.figure(figsize=(15,4))\n",
    "sns.heatmap(df.isnull(),yticklabels=False,cbar=False,cmap='viridis')\n",
    "plt.title('Missing data')\n",
    "plt.show()"
   ]
  },
  {
   "cell_type": "markdown",
   "metadata": {},
   "source": [
    "## Select columns"
   ]
  },
  {
   "cell_type": "code",
   "execution_count": 12,
   "metadata": {},
   "outputs": [],
   "source": [
    "df = df[['dt','temp', 'feels_like',\n",
    " 'temp_min',\n",
    " 'temp_max', 'humidity',\n",
    " 'wind_speed', 'rain_1h','snow_1h',\n",
    " 'clouds_all',\n",
    " 'weather_main',\n",
    " 'weather_description']]\n",
    "\n",
    "# https://openweathermap.org/history-bulk\n",
    "df.rename(columns = {'dt':'date_time', 'clouds_all': 'clouds_all_per','humidity':'humidity_per','rain_1h':'rain_vol_1h_mm',\n",
    "                       'snow_1h':'snow_vol_1h_mm'}, inplace = True)"
   ]
  },
  {
   "cell_type": "code",
   "execution_count": 13,
   "metadata": {},
   "outputs": [
    {
     "name": "stdout",
     "output_type": "stream",
     "text": [
      "<class 'pandas.core.frame.DataFrame'>\n",
      "RangeIndex: 151265 entries, 0 to 151264\n",
      "Data columns (total 12 columns):\n",
      " #   Column               Non-Null Count   Dtype  \n",
      "---  ------               --------------   -----  \n",
      " 0   date_time            151265 non-null  int64  \n",
      " 1   temp                 151265 non-null  float64\n",
      " 2   feels_like           151265 non-null  float64\n",
      " 3   temp_min             151265 non-null  float64\n",
      " 4   temp_max             151265 non-null  float64\n",
      " 5   humidity_per         151265 non-null  int64  \n",
      " 6   wind_speed           151265 non-null  float64\n",
      " 7   rain_vol_1h_mm       28099 non-null   float64\n",
      " 8   snow_vol_1h_mm       174 non-null     float64\n",
      " 9   clouds_all_per       151265 non-null  int64  \n",
      " 10  weather_main         151265 non-null  object \n",
      " 11  weather_description  151265 non-null  object \n",
      "dtypes: float64(7), int64(3), object(2)\n",
      "memory usage: 13.8+ MB\n"
     ]
    }
   ],
   "source": [
    "df.info()"
   ]
  },
  {
   "cell_type": "code",
   "execution_count": 14,
   "metadata": {},
   "outputs": [
    {
     "data": {
      "text/plain": [
       "date_time                   0\n",
       "temp                        0\n",
       "feels_like                  0\n",
       "temp_min                    0\n",
       "temp_max                    0\n",
       "humidity_per                0\n",
       "wind_speed                  0\n",
       "rain_vol_1h_mm         123166\n",
       "snow_vol_1h_mm         151091\n",
       "clouds_all_per              0\n",
       "weather_main                0\n",
       "weather_description         0\n",
       "dtype: int64"
      ]
     },
     "execution_count": 14,
     "metadata": {},
     "output_type": "execute_result"
    }
   ],
   "source": [
    "df.apply(lambda x: sum(x.isnull()))"
   ]
  },
  {
   "cell_type": "code",
   "execution_count": 15,
   "metadata": {},
   "outputs": [
    {
     "data": {
      "image/png": "[encoded data removed]",
      "text/plain": [
       "<Figure size 1500x400 with 1 Axes>"
      ]
     },
     "metadata": {},
     "output_type": "display_data"
    }
   ],
   "source": [
    "plt.figure(figsize=(15,4))\n",
    "sns.heatmap(df.isnull(),yticklabels=False,cbar=False,cmap='viridis')\n",
    "plt.title('Missing data')\n",
    "plt.show()"
   ]
  },
  {
   "cell_type": "code",
   "execution_count": 16,
   "metadata": {},
   "outputs": [],
   "source": [
    "## Change null values to zero\n",
    "# change nan to zero\n",
    "df['rain_vol_1h_mm'] = df['rain_vol_1h_mm'].fillna(0)\n",
    "df['snow_vol_1h_mm'] = df['snow_vol_1h_mm'].fillna(0)"
   ]
  },
  {
   "cell_type": "code",
   "execution_count": 17,
   "metadata": {},
   "outputs": [
    {
     "data": {
      "text/plain": [
       "date_time              0\n",
       "temp                   0\n",
       "feels_like             0\n",
       "temp_min               0\n",
       "temp_max               0\n",
       "humidity_per           0\n",
       "wind_speed             0\n",
       "rain_vol_1h_mm         0\n",
       "snow_vol_1h_mm         0\n",
       "clouds_all_per         0\n",
       "weather_main           0\n",
       "weather_description    0\n",
       "dtype: int64"
      ]
     },
     "execution_count": 17,
     "metadata": {},
     "output_type": "execute_result"
    }
   ],
   "source": [
    "df.apply(lambda x: sum(x.isnull()))"
   ]
  },
  {
   "cell_type": "code",
   "execution_count": 18,
   "metadata": {},
   "outputs": [
    {
     "data": {
      "image/png": "[encoded data removed]",
      "text/plain": [
       "<Figure size 1500x400 with 1 Axes>"
      ]
     },
     "metadata": {},
     "output_type": "display_data"
    }
   ],
   "source": [
    "plt.figure(figsize=(15,4))\n",
    "sns.heatmap(df.isnull(),yticklabels=False,cbar=False,cmap='viridis')\n",
    "plt.title('Missing data')\n",
    "plt.show()"
   ]
  },
  {
   "cell_type": "markdown",
   "metadata": {},
   "source": [
    "## Conver tto datetime"
   ]
  },
  {
   "cell_type": "code",
   "execution_count": 19,
   "metadata": {},
   "outputs": [],
   "source": [
    "# convert to datetime\n",
    "df.date_time = pd.to_datetime(df['date_time'], unit='s')"
   ]
  },
  {
   "cell_type": "markdown",
   "metadata": {},
   "source": [
    "## Convert temp"
   ]
  },
  {
   "cell_type": "code",
   "execution_count": 20,
   "metadata": {},
   "outputs": [],
   "source": [
    "def Celsius_to_Kelvin(C):\n",
    "    return (C + 273.15)\n",
    "\n",
    "def Kelvin_to_Celsius(K):\n",
    "    return (K - 273.15)\n",
    "\n",
    "\n",
    "def Kelvin_to_Farh(K):\n",
    "    return (K -273.15) * 9/5 + 32 \n",
    "\n",
    "\n",
    "def fahr_to_celsius(temp_fahr):\n",
    "    \"\"\"Convert Fahrenheit to Celsius\n",
    "    \n",
    "    Return Celsius conversion of input\"\"\"\n",
    "    temp_celsius = (temp_fahr - 32) * 5 / 9\n",
    "    return temp_celsius"
   ]
  },
  {
   "cell_type": "code",
   "execution_count": 21,
   "metadata": {},
   "outputs": [],
   "source": [
    "df['temp'] = Kelvin_to_Farh(df[\"temp\"])\n",
    "df['temp_min'] = Kelvin_to_Farh(df[\"temp_min\"])\n",
    "df['feels_like'] = Kelvin_to_Farh(df[\"feels_like\"])\n",
    "df['temp_max'] = Kelvin_to_Farh(df[\"temp_max\"])"
   ]
  },
  {
   "cell_type": "code",
   "execution_count": 22,
   "metadata": {},
   "outputs": [
    {
     "name": "stdout",
     "output_type": "stream",
     "text": [
      "<class 'pandas.core.frame.DataFrame'>\n",
      "RangeIndex: 151265 entries, 0 to 151264\n",
      "Data columns (total 12 columns):\n",
      " #   Column               Non-Null Count   Dtype         \n",
      "---  ------               --------------   -----         \n",
      " 0   date_time            151265 non-null  datetime64[ns]\n",
      " 1   temp                 151265 non-null  float64       \n",
      " 2   feels_like           151265 non-null  float64       \n",
      " 3   temp_min             151265 non-null  float64       \n",
      " 4   temp_max             151265 non-null  float64       \n",
      " 5   humidity_per         151265 non-null  int64         \n",
      " 6   wind_speed           151265 non-null  float64       \n",
      " 7   rain_vol_1h_mm       151265 non-null  float64       \n",
      " 8   snow_vol_1h_mm       151265 non-null  float64       \n",
      " 9   clouds_all_per       151265 non-null  int64         \n",
      " 10  weather_main         151265 non-null  object        \n",
      " 11  weather_description  151265 non-null  object        \n",
      "dtypes: datetime64[ns](1), float64(7), int64(2), object(2)\n",
      "memory usage: 13.8+ MB\n"
     ]
    }
   ],
   "source": [
    "df.info()"
   ]
  },
  {
   "cell_type": "code",
   "execution_count": 23,
   "metadata": {},
   "outputs": [
    {
     "data": {
      "text/html": [
       "<div>\n",
       "<style scoped>\n",
       "    .dataframe tbody tr th:only-of-type {\n",
       "        vertical-align: middle;\n",
       "    }\n",
       "\n",
       "    .dataframe tbody tr th {\n",
       "        vertical-align: top;\n",
       "    }\n",
       "\n",
       "    .dataframe thead th {\n",
       "        text-align: right;\n",
       "    }\n",
       "</style>\n",
       "<table border=\"1\" class=\"dataframe\">\n",
       "  <thead>\n",
       "    <tr style=\"text-align: right;\">\n",
       "      <th></th>\n",
       "      <th>date_time</th>\n",
       "      <th>temp</th>\n",
       "      <th>feels_like</th>\n",
       "      <th>temp_min</th>\n",
       "      <th>temp_max</th>\n",
       "      <th>humidity_per</th>\n",
       "      <th>wind_speed</th>\n",
       "      <th>rain_vol_1h_mm</th>\n",
       "      <th>snow_vol_1h_mm</th>\n",
       "      <th>clouds_all_per</th>\n",
       "      <th>weather_main</th>\n",
       "      <th>weather_description</th>\n",
       "    </tr>\n",
       "  </thead>\n",
       "  <tbody>\n",
       "    <tr>\n",
       "      <th>0</th>\n",
       "      <td>2005-01-01 00:00:00</td>\n",
       "      <td>68.918</td>\n",
       "      <td>69.692</td>\n",
       "      <td>66.218</td>\n",
       "      <td>69.134</td>\n",
       "      <td>89</td>\n",
       "      <td>3.1</td>\n",
       "      <td>0.0</td>\n",
       "      <td>0.0</td>\n",
       "      <td>75</td>\n",
       "      <td>Clouds</td>\n",
       "      <td>broken clouds</td>\n",
       "    </tr>\n",
       "    <tr>\n",
       "      <th>1</th>\n",
       "      <td>2005-01-01 01:00:00</td>\n",
       "      <td>66.092</td>\n",
       "      <td>67.100</td>\n",
       "      <td>64.418</td>\n",
       "      <td>66.254</td>\n",
       "      <td>100</td>\n",
       "      <td>2.6</td>\n",
       "      <td>0.0</td>\n",
       "      <td>0.0</td>\n",
       "      <td>40</td>\n",
       "      <td>Clouds</td>\n",
       "      <td>scattered clouds</td>\n",
       "    </tr>\n",
       "    <tr>\n",
       "      <th>2</th>\n",
       "      <td>2005-01-01 02:00:00</td>\n",
       "      <td>66.182</td>\n",
       "      <td>67.208</td>\n",
       "      <td>62.654</td>\n",
       "      <td>66.254</td>\n",
       "      <td>100</td>\n",
       "      <td>3.6</td>\n",
       "      <td>0.0</td>\n",
       "      <td>0.0</td>\n",
       "      <td>90</td>\n",
       "      <td>Fog</td>\n",
       "      <td>fog</td>\n",
       "    </tr>\n",
       "    <tr>\n",
       "      <th>3</th>\n",
       "      <td>2005-01-01 03:00:00</td>\n",
       "      <td>64.742</td>\n",
       "      <td>65.624</td>\n",
       "      <td>64.418</td>\n",
       "      <td>65.174</td>\n",
       "      <td>100</td>\n",
       "      <td>3.1</td>\n",
       "      <td>0.0</td>\n",
       "      <td>0.0</td>\n",
       "      <td>90</td>\n",
       "      <td>Fog</td>\n",
       "      <td>fog</td>\n",
       "    </tr>\n",
       "    <tr>\n",
       "      <th>4</th>\n",
       "      <td>2005-01-01 04:00:00</td>\n",
       "      <td>64.256</td>\n",
       "      <td>65.084</td>\n",
       "      <td>62.618</td>\n",
       "      <td>65.174</td>\n",
       "      <td>100</td>\n",
       "      <td>3.1</td>\n",
       "      <td>0.0</td>\n",
       "      <td>0.0</td>\n",
       "      <td>90</td>\n",
       "      <td>Fog</td>\n",
       "      <td>fog</td>\n",
       "    </tr>\n",
       "  </tbody>\n",
       "</table>\n",
       "</div>"
      ],
      "text/plain": [
       "            date_time    temp  feels_like  temp_min  temp_max  humidity_per  \\\n",
       "0 2005-01-01 00:00:00  68.918      69.692    66.218    69.134            89   \n",
       "1 2005-01-01 01:00:00  66.092      67.100    64.418    66.254           100   \n",
       "2 2005-01-01 02:00:00  66.182      67.208    62.654    66.254           100   \n",
       "3 2005-01-01 03:00:00  64.742      65.624    64.418    65.174           100   \n",
       "4 2005-01-01 04:00:00  64.256      65.084    62.618    65.174           100   \n",
       "\n",
       "   wind_speed  rain_vol_1h_mm  snow_vol_1h_mm  clouds_all_per weather_main  \\\n",
       "0         3.1             0.0             0.0              75       Clouds   \n",
       "1         2.6             0.0             0.0              40       Clouds   \n",
       "2         3.6             0.0             0.0              90          Fog   \n",
       "3         3.1             0.0             0.0              90          Fog   \n",
       "4         3.1             0.0             0.0              90          Fog   \n",
       "\n",
       "  weather_description  \n",
       "0       broken clouds  \n",
       "1    scattered clouds  \n",
       "2                 fog  \n",
       "3                 fog  \n",
       "4                 fog  "
      ]
     },
     "execution_count": 23,
     "metadata": {},
     "output_type": "execute_result"
    }
   ],
   "source": [
    "df.head()"
   ]
  },
  {
   "cell_type": "code",
   "execution_count": 24,
   "metadata": {},
   "outputs": [
    {
     "data": {
      "text/html": [
       "<div>\n",
       "<style scoped>\n",
       "    .dataframe tbody tr th:only-of-type {\n",
       "        vertical-align: middle;\n",
       "    }\n",
       "\n",
       "    .dataframe tbody tr th {\n",
       "        vertical-align: top;\n",
       "    }\n",
       "\n",
       "    .dataframe thead th {\n",
       "        text-align: right;\n",
       "    }\n",
       "</style>\n",
       "<table border=\"1\" class=\"dataframe\">\n",
       "  <thead>\n",
       "    <tr style=\"text-align: right;\">\n",
       "      <th></th>\n",
       "      <th>0</th>\n",
       "      <th>1</th>\n",
       "      <th>2</th>\n",
       "      <th>3</th>\n",
       "      <th>4</th>\n",
       "    </tr>\n",
       "  </thead>\n",
       "  <tbody>\n",
       "    <tr>\n",
       "      <th>date_time</th>\n",
       "      <td>2005-01-01 00:00:00</td>\n",
       "      <td>2005-01-01 01:00:00</td>\n",
       "      <td>2005-01-01 02:00:00</td>\n",
       "      <td>2005-01-01 03:00:00</td>\n",
       "      <td>2005-01-01 04:00:00</td>\n",
       "    </tr>\n",
       "    <tr>\n",
       "      <th>temp</th>\n",
       "      <td>68.918</td>\n",
       "      <td>66.092</td>\n",
       "      <td>66.182</td>\n",
       "      <td>64.742</td>\n",
       "      <td>64.256</td>\n",
       "    </tr>\n",
       "    <tr>\n",
       "      <th>feels_like</th>\n",
       "      <td>69.692</td>\n",
       "      <td>67.1</td>\n",
       "      <td>67.208</td>\n",
       "      <td>65.624</td>\n",
       "      <td>65.084</td>\n",
       "    </tr>\n",
       "    <tr>\n",
       "      <th>temp_min</th>\n",
       "      <td>66.218</td>\n",
       "      <td>64.418</td>\n",
       "      <td>62.654</td>\n",
       "      <td>64.418</td>\n",
       "      <td>62.618</td>\n",
       "    </tr>\n",
       "    <tr>\n",
       "      <th>temp_max</th>\n",
       "      <td>69.134</td>\n",
       "      <td>66.254</td>\n",
       "      <td>66.254</td>\n",
       "      <td>65.174</td>\n",
       "      <td>65.174</td>\n",
       "    </tr>\n",
       "    <tr>\n",
       "      <th>humidity_per</th>\n",
       "      <td>89</td>\n",
       "      <td>100</td>\n",
       "      <td>100</td>\n",
       "      <td>100</td>\n",
       "      <td>100</td>\n",
       "    </tr>\n",
       "    <tr>\n",
       "      <th>wind_speed</th>\n",
       "      <td>3.1</td>\n",
       "      <td>2.6</td>\n",
       "      <td>3.6</td>\n",
       "      <td>3.1</td>\n",
       "      <td>3.1</td>\n",
       "    </tr>\n",
       "    <tr>\n",
       "      <th>rain_vol_1h_mm</th>\n",
       "      <td>0.0</td>\n",
       "      <td>0.0</td>\n",
       "      <td>0.0</td>\n",
       "      <td>0.0</td>\n",
       "      <td>0.0</td>\n",
       "    </tr>\n",
       "    <tr>\n",
       "      <th>snow_vol_1h_mm</th>\n",
       "      <td>0.0</td>\n",
       "      <td>0.0</td>\n",
       "      <td>0.0</td>\n",
       "      <td>0.0</td>\n",
       "      <td>0.0</td>\n",
       "    </tr>\n",
       "    <tr>\n",
       "      <th>clouds_all_per</th>\n",
       "      <td>75</td>\n",
       "      <td>40</td>\n",
       "      <td>90</td>\n",
       "      <td>90</td>\n",
       "      <td>90</td>\n",
       "    </tr>\n",
       "    <tr>\n",
       "      <th>weather_main</th>\n",
       "      <td>Clouds</td>\n",
       "      <td>Clouds</td>\n",
       "      <td>Fog</td>\n",
       "      <td>Fog</td>\n",
       "      <td>Fog</td>\n",
       "    </tr>\n",
       "    <tr>\n",
       "      <th>weather_description</th>\n",
       "      <td>broken clouds</td>\n",
       "      <td>scattered clouds</td>\n",
       "      <td>fog</td>\n",
       "      <td>fog</td>\n",
       "      <td>fog</td>\n",
       "    </tr>\n",
       "  </tbody>\n",
       "</table>\n",
       "</div>"
      ],
      "text/plain": [
       "                                       0                    1  \\\n",
       "date_time            2005-01-01 00:00:00  2005-01-01 01:00:00   \n",
       "temp                              68.918               66.092   \n",
       "feels_like                        69.692                 67.1   \n",
       "temp_min                          66.218               64.418   \n",
       "temp_max                          69.134               66.254   \n",
       "humidity_per                          89                  100   \n",
       "wind_speed                           3.1                  2.6   \n",
       "rain_vol_1h_mm                       0.0                  0.0   \n",
       "snow_vol_1h_mm                       0.0                  0.0   \n",
       "clouds_all_per                        75                   40   \n",
       "weather_main                      Clouds               Clouds   \n",
       "weather_description        broken clouds     scattered clouds   \n",
       "\n",
       "                                       2                    3  \\\n",
       "date_time            2005-01-01 02:00:00  2005-01-01 03:00:00   \n",
       "temp                              66.182               64.742   \n",
       "feels_like                        67.208               65.624   \n",
       "temp_min                          62.654               64.418   \n",
       "temp_max                          66.254               65.174   \n",
       "humidity_per                         100                  100   \n",
       "wind_speed                           3.6                  3.1   \n",
       "rain_vol_1h_mm                       0.0                  0.0   \n",
       "snow_vol_1h_mm                       0.0                  0.0   \n",
       "clouds_all_per                        90                   90   \n",
       "weather_main                         Fog                  Fog   \n",
       "weather_description                  fog                  fog   \n",
       "\n",
       "                                       4  \n",
       "date_time            2005-01-01 04:00:00  \n",
       "temp                              64.256  \n",
       "feels_like                        65.084  \n",
       "temp_min                          62.618  \n",
       "temp_max                          65.174  \n",
       "humidity_per                         100  \n",
       "wind_speed                           3.1  \n",
       "rain_vol_1h_mm                       0.0  \n",
       "snow_vol_1h_mm                       0.0  \n",
       "clouds_all_per                        90  \n",
       "weather_main                         Fog  \n",
       "weather_description                  fog  "
      ]
     },
     "execution_count": 24,
     "metadata": {},
     "output_type": "execute_result"
    }
   ],
   "source": [
    "df.head().T"
   ]
  },
  {
   "cell_type": "code",
   "execution_count": 25,
   "metadata": {},
   "outputs": [
    {
     "name": "stdout",
     "output_type": "stream",
     "text": [
      "<class 'pandas.core.frame.DataFrame'>\n",
      "RangeIndex: 151265 entries, 0 to 151264\n",
      "Data columns (total 12 columns):\n",
      " #   Column               Non-Null Count   Dtype         \n",
      "---  ------               --------------   -----         \n",
      " 0   date_time            151265 non-null  datetime64[ns]\n",
      " 1   temp                 151265 non-null  float64       \n",
      " 2   feels_like           151265 non-null  float64       \n",
      " 3   temp_min             151265 non-null  float64       \n",
      " 4   temp_max             151265 non-null  float64       \n",
      " 5   humidity_per         151265 non-null  int64         \n",
      " 6   wind_speed           151265 non-null  float64       \n",
      " 7   rain_vol_1h_mm       151265 non-null  float64       \n",
      " 8   snow_vol_1h_mm       151265 non-null  float64       \n",
      " 9   clouds_all_per       151265 non-null  int64         \n",
      " 10  weather_main         151265 non-null  object        \n",
      " 11  weather_description  151265 non-null  object        \n",
      "dtypes: datetime64[ns](1), float64(7), int64(2), object(2)\n",
      "memory usage: 13.8+ MB\n"
     ]
    }
   ],
   "source": [
    "df.info()"
   ]
  },
  {
   "cell_type": "code",
   "execution_count": 26,
   "metadata": {},
   "outputs": [
    {
     "data": {
      "text/plain": [
       "['date_time',\n",
       " 'temp',\n",
       " 'feels_like',\n",
       " 'temp_min',\n",
       " 'temp_max',\n",
       " 'humidity_per',\n",
       " 'wind_speed',\n",
       " 'rain_vol_1h_mm',\n",
       " 'snow_vol_1h_mm',\n",
       " 'clouds_all_per',\n",
       " 'weather_main',\n",
       " 'weather_description']"
      ]
     },
     "execution_count": 26,
     "metadata": {},
     "output_type": "execute_result"
    }
   ],
   "source": [
    "df.columns.tolist()"
   ]
  },
  {
   "cell_type": "code",
   "execution_count": 27,
   "metadata": {},
   "outputs": [
    {
     "data": {
      "text/html": [
       "<div>\n",
       "<style scoped>\n",
       "    .dataframe tbody tr th:only-of-type {\n",
       "        vertical-align: middle;\n",
       "    }\n",
       "\n",
       "    .dataframe tbody tr th {\n",
       "        vertical-align: top;\n",
       "    }\n",
       "\n",
       "    .dataframe thead th {\n",
       "        text-align: right;\n",
       "    }\n",
       "</style>\n",
       "<table border=\"1\" class=\"dataframe\">\n",
       "  <thead>\n",
       "    <tr style=\"text-align: right;\">\n",
       "      <th></th>\n",
       "      <th>date_time</th>\n",
       "      <th>temp</th>\n",
       "      <th>feels_like</th>\n",
       "      <th>temp_min</th>\n",
       "      <th>temp_max</th>\n",
       "      <th>humidity_per</th>\n",
       "      <th>wind_speed</th>\n",
       "      <th>rain_vol_1h_mm</th>\n",
       "      <th>snow_vol_1h_mm</th>\n",
       "      <th>clouds_all_per</th>\n",
       "      <th>weather_main</th>\n",
       "      <th>weather_description</th>\n",
       "    </tr>\n",
       "  </thead>\n",
       "  <tbody>\n",
       "    <tr>\n",
       "      <th>0</th>\n",
       "      <td>2005-01-01 00:00:00</td>\n",
       "      <td>68.918</td>\n",
       "      <td>69.692</td>\n",
       "      <td>66.218</td>\n",
       "      <td>69.134</td>\n",
       "      <td>89</td>\n",
       "      <td>3.1</td>\n",
       "      <td>0.0</td>\n",
       "      <td>0.0</td>\n",
       "      <td>75</td>\n",
       "      <td>Clouds</td>\n",
       "      <td>broken clouds</td>\n",
       "    </tr>\n",
       "    <tr>\n",
       "      <th>1</th>\n",
       "      <td>2005-01-01 01:00:00</td>\n",
       "      <td>66.092</td>\n",
       "      <td>67.100</td>\n",
       "      <td>64.418</td>\n",
       "      <td>66.254</td>\n",
       "      <td>100</td>\n",
       "      <td>2.6</td>\n",
       "      <td>0.0</td>\n",
       "      <td>0.0</td>\n",
       "      <td>40</td>\n",
       "      <td>Clouds</td>\n",
       "      <td>scattered clouds</td>\n",
       "    </tr>\n",
       "    <tr>\n",
       "      <th>2</th>\n",
       "      <td>2005-01-01 02:00:00</td>\n",
       "      <td>66.182</td>\n",
       "      <td>67.208</td>\n",
       "      <td>62.654</td>\n",
       "      <td>66.254</td>\n",
       "      <td>100</td>\n",
       "      <td>3.6</td>\n",
       "      <td>0.0</td>\n",
       "      <td>0.0</td>\n",
       "      <td>90</td>\n",
       "      <td>Fog</td>\n",
       "      <td>fog</td>\n",
       "    </tr>\n",
       "    <tr>\n",
       "      <th>3</th>\n",
       "      <td>2005-01-01 03:00:00</td>\n",
       "      <td>64.742</td>\n",
       "      <td>65.624</td>\n",
       "      <td>64.418</td>\n",
       "      <td>65.174</td>\n",
       "      <td>100</td>\n",
       "      <td>3.1</td>\n",
       "      <td>0.0</td>\n",
       "      <td>0.0</td>\n",
       "      <td>90</td>\n",
       "      <td>Fog</td>\n",
       "      <td>fog</td>\n",
       "    </tr>\n",
       "    <tr>\n",
       "      <th>4</th>\n",
       "      <td>2005-01-01 04:00:00</td>\n",
       "      <td>64.256</td>\n",
       "      <td>65.084</td>\n",
       "      <td>62.618</td>\n",
       "      <td>65.174</td>\n",
       "      <td>100</td>\n",
       "      <td>3.1</td>\n",
       "      <td>0.0</td>\n",
       "      <td>0.0</td>\n",
       "      <td>90</td>\n",
       "      <td>Fog</td>\n",
       "      <td>fog</td>\n",
       "    </tr>\n",
       "  </tbody>\n",
       "</table>\n",
       "</div>"
      ],
      "text/plain": [
       "            date_time    temp  feels_like  temp_min  temp_max  humidity_per  \\\n",
       "0 2005-01-01 00:00:00  68.918      69.692    66.218    69.134            89   \n",
       "1 2005-01-01 01:00:00  66.092      67.100    64.418    66.254           100   \n",
       "2 2005-01-01 02:00:00  66.182      67.208    62.654    66.254           100   \n",
       "3 2005-01-01 03:00:00  64.742      65.624    64.418    65.174           100   \n",
       "4 2005-01-01 04:00:00  64.256      65.084    62.618    65.174           100   \n",
       "\n",
       "   wind_speed  rain_vol_1h_mm  snow_vol_1h_mm  clouds_all_per weather_main  \\\n",
       "0         3.1             0.0             0.0              75       Clouds   \n",
       "1         2.6             0.0             0.0              40       Clouds   \n",
       "2         3.6             0.0             0.0              90          Fog   \n",
       "3         3.1             0.0             0.0              90          Fog   \n",
       "4         3.1             0.0             0.0              90          Fog   \n",
       "\n",
       "  weather_description  \n",
       "0       broken clouds  \n",
       "1    scattered clouds  \n",
       "2                 fog  \n",
       "3                 fog  \n",
       "4                 fog  "
      ]
     },
     "execution_count": 27,
     "metadata": {},
     "output_type": "execute_result"
    }
   ],
   "source": [
    "df.head()"
   ]
  },
  {
   "cell_type": "markdown",
   "metadata": {},
   "source": [
    "# Select from 2009 to 2018"
   ]
  },
  {
   "cell_type": "code",
   "execution_count": 28,
   "metadata": {},
   "outputs": [],
   "source": [
    "#greater than the start date and smaller than the end date\n",
    "start_date = '2009-01-01' #Jan 01 2009\n",
    "end_date = '2018-12-31' # may 31 2018\n",
    "mask = (df['date_time'] > start_date) & (df['date_time'] <= end_date)"
   ]
  },
  {
   "cell_type": "code",
   "execution_count": 29,
   "metadata": {},
   "outputs": [
    {
     "data": {
      "text/html": [
       "<div>\n",
       "<style scoped>\n",
       "    .dataframe tbody tr th:only-of-type {\n",
       "        vertical-align: middle;\n",
       "    }\n",
       "\n",
       "    .dataframe tbody tr th {\n",
       "        vertical-align: top;\n",
       "    }\n",
       "\n",
       "    .dataframe thead th {\n",
       "        text-align: right;\n",
       "    }\n",
       "</style>\n",
       "<table border=\"1\" class=\"dataframe\">\n",
       "  <thead>\n",
       "    <tr style=\"text-align: right;\">\n",
       "      <th></th>\n",
       "      <th>date_time</th>\n",
       "      <th>temp</th>\n",
       "      <th>feels_like</th>\n",
       "      <th>temp_min</th>\n",
       "      <th>temp_max</th>\n",
       "      <th>humidity_per</th>\n",
       "      <th>wind_speed</th>\n",
       "      <th>rain_vol_1h_mm</th>\n",
       "      <th>snow_vol_1h_mm</th>\n",
       "      <th>clouds_all_per</th>\n",
       "      <th>weather_main</th>\n",
       "      <th>weather_description</th>\n",
       "    </tr>\n",
       "  </thead>\n",
       "  <tbody>\n",
       "    <tr>\n",
       "      <th>0</th>\n",
       "      <td>2009-01-01 01:00:00</td>\n",
       "      <td>58.622</td>\n",
       "      <td>56.210</td>\n",
       "      <td>55.274</td>\n",
       "      <td>59.702</td>\n",
       "      <td>43</td>\n",
       "      <td>5.1</td>\n",
       "      <td>0.0</td>\n",
       "      <td>0.0</td>\n",
       "      <td>1</td>\n",
       "      <td>Clear</td>\n",
       "      <td>sky is clear</td>\n",
       "    </tr>\n",
       "    <tr>\n",
       "      <th>1</th>\n",
       "      <td>2009-01-01 02:00:00</td>\n",
       "      <td>56.768</td>\n",
       "      <td>54.212</td>\n",
       "      <td>53.294</td>\n",
       "      <td>57.902</td>\n",
       "      <td>44</td>\n",
       "      <td>7.2</td>\n",
       "      <td>0.0</td>\n",
       "      <td>0.0</td>\n",
       "      <td>1</td>\n",
       "      <td>Clear</td>\n",
       "      <td>sky is clear</td>\n",
       "    </tr>\n",
       "    <tr>\n",
       "      <th>2</th>\n",
       "      <td>2009-01-01 03:00:00</td>\n",
       "      <td>55.166</td>\n",
       "      <td>52.412</td>\n",
       "      <td>52.214</td>\n",
       "      <td>56.102</td>\n",
       "      <td>43</td>\n",
       "      <td>6.2</td>\n",
       "      <td>0.0</td>\n",
       "      <td>0.0</td>\n",
       "      <td>1</td>\n",
       "      <td>Clear</td>\n",
       "      <td>sky is clear</td>\n",
       "    </tr>\n",
       "    <tr>\n",
       "      <th>3</th>\n",
       "      <td>2009-01-01 04:00:00</td>\n",
       "      <td>53.330</td>\n",
       "      <td>50.522</td>\n",
       "      <td>50.234</td>\n",
       "      <td>54.302</td>\n",
       "      <td>46</td>\n",
       "      <td>4.6</td>\n",
       "      <td>0.0</td>\n",
       "      <td>0.0</td>\n",
       "      <td>1</td>\n",
       "      <td>Clear</td>\n",
       "      <td>sky is clear</td>\n",
       "    </tr>\n",
       "    <tr>\n",
       "      <th>4</th>\n",
       "      <td>2009-01-01 05:00:00</td>\n",
       "      <td>51.188</td>\n",
       "      <td>48.308</td>\n",
       "      <td>50.702</td>\n",
       "      <td>52.034</td>\n",
       "      <td>49</td>\n",
       "      <td>3.6</td>\n",
       "      <td>0.0</td>\n",
       "      <td>0.0</td>\n",
       "      <td>1</td>\n",
       "      <td>Clear</td>\n",
       "      <td>sky is clear</td>\n",
       "    </tr>\n",
       "  </tbody>\n",
       "</table>\n",
       "</div>"
      ],
      "text/plain": [
       "            date_time    temp  feels_like  temp_min  temp_max  humidity_per  \\\n",
       "0 2009-01-01 01:00:00  58.622      56.210    55.274    59.702            43   \n",
       "1 2009-01-01 02:00:00  56.768      54.212    53.294    57.902            44   \n",
       "2 2009-01-01 03:00:00  55.166      52.412    52.214    56.102            43   \n",
       "3 2009-01-01 04:00:00  53.330      50.522    50.234    54.302            46   \n",
       "4 2009-01-01 05:00:00  51.188      48.308    50.702    52.034            49   \n",
       "\n",
       "   wind_speed  rain_vol_1h_mm  snow_vol_1h_mm  clouds_all_per weather_main  \\\n",
       "0         5.1             0.0             0.0               1        Clear   \n",
       "1         7.2             0.0             0.0               1        Clear   \n",
       "2         6.2             0.0             0.0               1        Clear   \n",
       "3         4.6             0.0             0.0               1        Clear   \n",
       "4         3.6             0.0             0.0               1        Clear   \n",
       "\n",
       "  weather_description  \n",
       "0        sky is clear  \n",
       "1        sky is clear  \n",
       "2        sky is clear  \n",
       "3        sky is clear  \n",
       "4        sky is clear  "
      ]
     },
     "execution_count": 29,
     "metadata": {},
     "output_type": "execute_result"
    }
   ],
   "source": [
    "df2 = df.loc[mask].reset_index(drop=True)\n",
    "df2.head()"
   ]
  },
  {
   "cell_type": "code",
   "execution_count": null,
   "metadata": {},
   "outputs": [],
   "source": []
  },
  {
   "cell_type": "markdown",
   "metadata": {},
   "source": [
    "## change order of columns"
   ]
  },
  {
   "cell_type": "code",
   "execution_count": null,
   "metadata": {},
   "outputs": [],
   "source": []
  },
  {
   "cell_type": "markdown",
   "metadata": {},
   "source": [
    "## Save to bucket"
   ]
  },
  {
   "cell_type": "code",
   "execution_count": 31,
   "metadata": {},
   "outputs": [
    {
     "data": {
      "text/plain": [
       "'s3://dend-data/capstone/inter-data/weather-data/weather-09-18.csv'"
      ]
     },
     "execution_count": 31,
     "metadata": {},
     "output_type": "execute_result"
    }
   ],
   "source": [
    "bucket = 'dend-data'\n",
    "year = '09-18'\n",
    "file_name = f'weather-{year}.csv'\n",
    "path_to_save = f\"s3://{bucket}/capstone/inter-data/weather-data/{file_name}\"\n",
    "path_to_save"
   ]
  },
  {
   "cell_type": "code",
   "execution_count": null,
   "metadata": {},
   "outputs": [],
   "source": []
  },
  {
   "cell_type": "code",
   "execution_count": 32,
   "metadata": {},
   "outputs": [
    {
     "name": "stdout",
     "output_type": "stream",
     "text": [
      "CPU times: user 936 ms, sys: 88.3 ms, total: 1.02 s\n",
      "Wall time: 17.7 s\n"
     ]
    },
    {
     "data": {
      "text/plain": [
       "{'paths': ['s3://dend-data/capstone/inter-data/weather-data/weather-09-18.csv'],\n",
       " 'partitions_values': {}}"
      ]
     },
     "execution_count": 32,
     "metadata": {},
     "output_type": "execute_result"
    }
   ],
   "source": [
    "%%time\n",
    "wr.s3.to_csv(df2, path_to_save, index=False)"
   ]
  },
  {
   "cell_type": "code",
   "execution_count": null,
   "metadata": {},
   "outputs": [],
   "source": []
  },
  {
   "cell_type": "markdown",
   "metadata": {},
   "source": [
    "## Load that file"
   ]
  }
 ],
 "metadata": {
  "kernelspec": {
   "display_name": "Python 3",
   "language": "python",
   "name": "python3"
  },
  "language_info": {
   "codemirror_mode": {
    "name": "ipython",
    "version": 3
   },
   "file_extension": ".py",
   "mimetype": "text/x-python",
   "name": "python",
   "nbconvert_exporter": "python",
   "pygments_lexer": "ipython3",
   "version": "3.9.6"
  }
 },
 "nbformat": 4,
 "nbformat_minor": 4
}
