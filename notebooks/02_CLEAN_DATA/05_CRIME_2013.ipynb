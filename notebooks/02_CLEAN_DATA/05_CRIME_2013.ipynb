{
 "cells": [
  {
   "cell_type": "code",
   "execution_count": 1,
   "metadata": {},
   "outputs": [
    {
     "data": {
      "text/html": [
       "        <script type=\"text/javascript\">\n",
       "        window.PlotlyConfig = {MathJaxConfig: 'local'};\n",
       "        if (window.MathJax) {MathJax.Hub.Config({SVG: {font: \"STIX-Web\"}});}\n",
       "        if (typeof require !== 'undefined') {\n",
       "        require.undef(\"plotly\");\n",
       "        requirejs.config({\n",
       "            paths: {\n",
       "                'plotly': ['https://cdn.plot.ly/plotly-2.2.0.min']\n",
       "            }\n",
       "        });\n",
       "        require(['plotly'], function(Plotly) {\n",
       "            window._Plotly = Plotly;\n",
       "        });\n",
       "        }\n",
       "        </script>\n",
       "        "
      ]
     },
     "metadata": {},
     "output_type": "display_data"
    },
    {
     "name": "stdout",
     "output_type": "stream",
     "text": [
      "\n",
      "python\t3.9.6 (default, Jul 30 2021, 16:35:19) \n",
      "[GCC 7.5.0]\n",
      "---------------------\n",
      "Versions:\n",
      "----------------------\n",
      "pandas      1.3.1\n",
      "numpy       1.20.3\n",
      "matplotlib  3.4.2\n",
      "seaborn     0.11.1\n",
      "plotly      5.1.0\n",
      "boto3       1.18.16\n",
      "awswrangler 2.10.0\n",
      "----------------------\n",
      "\n",
      "\n",
      "Loaded Libraries\n",
      "-------------------\n",
      "import pandas as pd\n",
      "import numpy as np\n",
      "import sys,os\n",
      "import re\n",
      "import glob\n",
      "import pickle\n",
      "import seaborn as sns\n",
      "import matplotlib.pyplot as plt\n",
      "import plotly\n",
      "import plotly.graph_objs as go\n",
      "from plotly.offline import download_plotlyjs, init_notebook_mode, plot, iplot\n",
      "init_notebook_mode(connected=True)\n",
      "\n",
      "\n",
      "## AWS\n",
      "import boto3\n",
      "import awswrangler as wr\n",
      "----------------\n",
      "\n",
      "\n",
      "GLOBAL VARIABLES\n",
      "--------------------------\n",
      "# Creating the low level functional client\n",
      "client = boto3.client(\n",
      "    's3',\n",
      "    aws_access_key_id = AWS_KEY_ID,\n",
      "    aws_secret_access_key = AWS_SECRET,\n",
      ")\n",
      "    \n",
      "# Creating the high level object oriented interface\n",
      "resource = boto3.resource(\n",
      "    's3',\n",
      "    aws_access_key_id = AWS_KEY_ID,\n",
      "    aws_secret_access_key = AWS_SECRET,\n",
      ")\n",
      "\n",
      "HERE_DIR: list current directory path\n",
      "------------------------------\n",
      "\n",
      "# SAVE PLOTS\n",
      "To save a plot call\n",
      "`save_plots(fig_variable,'name_of_plot')`\n",
      "\n",
      "source file: src/start.py\n",
      "\n",
      "\n"
     ]
    }
   ],
   "source": [
    "%run ../../src/start.py"
   ]
  },
  {
   "cell_type": "markdown",
   "metadata": {},
   "source": [
    "## Load Data"
   ]
  },
  {
   "cell_type": "code",
   "execution_count": 2,
   "metadata": {},
   "outputs": [],
   "source": [
    "# year file\n",
    "year = '2013'"
   ]
  },
  {
   "cell_type": "code",
   "execution_count": 3,
   "metadata": {},
   "outputs": [],
   "source": [
    "# helper function\n",
    "def bucket_raw_path(bucket_name,path_dir):\n",
    "    ''''''\n",
    "    raw_path = f's3://{bucket_name}/{path_dir}'\n",
    "    return raw_path"
   ]
  },
  {
   "cell_type": "code",
   "execution_count": 4,
   "metadata": {},
   "outputs": [
    {
     "data": {
      "text/plain": [
       "'s3://dend-data/capstone/raw-data/crime-data/2013'"
      ]
     },
     "execution_count": 4,
     "metadata": {},
     "output_type": "execute_result"
    }
   ],
   "source": [
    "raw = bucket_raw_path('dend-data',f'capstone/raw-data/crime-data/{year}')\n",
    "raw"
   ]
  },
  {
   "cell_type": "markdown",
   "metadata": {},
   "source": [
    "## List objects in bucket"
   ]
  },
  {
   "cell_type": "code",
   "execution_count": 5,
   "metadata": {},
   "outputs": [
    {
     "data": {
      "text/plain": [
       "['s3://dend-data/capstone/raw-data/crime-data/2013/apr13.xlsx',\n",
       " 's3://dend-data/capstone/raw-data/crime-data/2013/aug13.xlsx',\n",
       " 's3://dend-data/capstone/raw-data/crime-data/2013/dec13.xlsx',\n",
       " 's3://dend-data/capstone/raw-data/crime-data/2013/feb13.xlsx',\n",
       " 's3://dend-data/capstone/raw-data/crime-data/2013/jan13.xlsx',\n",
       " 's3://dend-data/capstone/raw-data/crime-data/2013/jul13.xlsx',\n",
       " 's3://dend-data/capstone/raw-data/crime-data/2013/jun13.xlsx',\n",
       " 's3://dend-data/capstone/raw-data/crime-data/2013/mar13.xlsx',\n",
       " 's3://dend-data/capstone/raw-data/crime-data/2013/may13.xlsx',\n",
       " 's3://dend-data/capstone/raw-data/crime-data/2013/nov13.xlsx',\n",
       " 's3://dend-data/capstone/raw-data/crime-data/2013/oct13.xlsx',\n",
       " 's3://dend-data/capstone/raw-data/crime-data/2013/sep13.xlsx']"
      ]
     },
     "execution_count": 5,
     "metadata": {},
     "output_type": "execute_result"
    }
   ],
   "source": [
    "wr.s3.list_objects(raw)"
   ]
  },
  {
   "cell_type": "markdown",
   "metadata": {},
   "source": [
    "## Create dataframe from s3 files"
   ]
  },
  {
   "cell_type": "code",
   "execution_count": 6,
   "metadata": {},
   "outputs": [],
   "source": [
    "def s3_files_to_df(s3_files_path):\n",
    "    ''' load s3 file path from wr result\n",
    "    returns a dataframe of concat files '''\n",
    "    df_list = []\n",
    "    for i in wr.s3.list_objects(s3_files_path):\n",
    "        temp = wr.s3.read_excel(i, engine='openpyxl')\n",
    "        df_list.append(temp)\n",
    "    # create df from list files\n",
    "    df = pd.concat(df_list, ignore_index=True)\n",
    "    return df"
   ]
  },
  {
   "cell_type": "code",
   "execution_count": 7,
   "metadata": {},
   "outputs": [
    {
     "name": "stdout",
     "output_type": "stream",
     "text": [
      "CPU times: user 30.9 s, sys: 24.7 ms, total: 30.9 s\n",
      "Wall time: 47 s\n"
     ]
    }
   ],
   "source": [
    "%%time\n",
    "df = s3_files_to_df(raw)"
   ]
  },
  {
   "cell_type": "code",
   "execution_count": 8,
   "metadata": {},
   "outputs": [],
   "source": [
    "## cleanup columns\n",
    "df.columns = df.columns.str.lower().str.replace(' ','_').str.replace('\\n','_').str.strip()"
   ]
  },
  {
   "cell_type": "code",
   "execution_count": 9,
   "metadata": {},
   "outputs": [
    {
     "name": "stdout",
     "output_type": "stream",
     "text": [
      "<class 'pandas.core.frame.DataFrame'>\n",
      "RangeIndex: 130459 entries, 0 to 130458\n",
      "Data columns (total 15 columns):\n",
      " #   Column         Non-Null Count   Dtype         \n",
      "---  ------         --------------   -----         \n",
      " 0   date           130459 non-null  datetime64[ns]\n",
      " 1   hour           130459 non-null  int64         \n",
      " 2   offense_type   130459 non-null  object        \n",
      " 3   beat           130459 non-null  object        \n",
      " 4   premise        130459 non-null  object        \n",
      " 5   block_range    130459 non-null  object        \n",
      " 6   street_name    130459 non-null  object        \n",
      " 7   type           130459 non-null  object        \n",
      " 8   suffix         130459 non-null  object        \n",
      " 9   ._of_offenses  130459 non-null  int64         \n",
      " 10  field11        0 non-null       float64       \n",
      " 11  field2         0 non-null       float64       \n",
      " 12  field12        0 non-null       float64       \n",
      " 13  field13        0 non-null       float64       \n",
      " 14  field14        0 non-null       float64       \n",
      "dtypes: datetime64[ns](1), float64(5), int64(2), object(7)\n",
      "memory usage: 14.9+ MB\n"
     ]
    }
   ],
   "source": [
    "df.info()"
   ]
  },
  {
   "cell_type": "code",
   "execution_count": 10,
   "metadata": {},
   "outputs": [
    {
     "data": {
      "text/html": [
       "<div>\n",
       "<style scoped>\n",
       "    .dataframe tbody tr th:only-of-type {\n",
       "        vertical-align: middle;\n",
       "    }\n",
       "\n",
       "    .dataframe tbody tr th {\n",
       "        vertical-align: top;\n",
       "    }\n",
       "\n",
       "    .dataframe thead th {\n",
       "        text-align: right;\n",
       "    }\n",
       "</style>\n",
       "<table border=\"1\" class=\"dataframe\">\n",
       "  <thead>\n",
       "    <tr style=\"text-align: right;\">\n",
       "      <th></th>\n",
       "      <th>date</th>\n",
       "      <th>hour</th>\n",
       "      <th>offense_type</th>\n",
       "      <th>beat</th>\n",
       "      <th>premise</th>\n",
       "      <th>block_range</th>\n",
       "      <th>street_name</th>\n",
       "      <th>type</th>\n",
       "      <th>suffix</th>\n",
       "      <th>._of_offenses</th>\n",
       "      <th>field11</th>\n",
       "      <th>field2</th>\n",
       "      <th>field12</th>\n",
       "      <th>field13</th>\n",
       "      <th>field14</th>\n",
       "    </tr>\n",
       "  </thead>\n",
       "  <tbody>\n",
       "    <tr>\n",
       "      <th>0</th>\n",
       "      <td>2013-04-25</td>\n",
       "      <td>5</td>\n",
       "      <td>Murder</td>\n",
       "      <td>19G10</td>\n",
       "      <td>13R</td>\n",
       "      <td>9400-9499</td>\n",
       "      <td>WOODFAIR</td>\n",
       "      <td>DR</td>\n",
       "      <td>-</td>\n",
       "      <td>1</td>\n",
       "      <td>NaN</td>\n",
       "      <td>NaN</td>\n",
       "      <td>NaN</td>\n",
       "      <td>NaN</td>\n",
       "      <td>NaN</td>\n",
       "    </tr>\n",
       "    <tr>\n",
       "      <th>1</th>\n",
       "      <td>2013-04-14</td>\n",
       "      <td>0</td>\n",
       "      <td>Murder</td>\n",
       "      <td>17E40</td>\n",
       "      <td>18A</td>\n",
       "      <td>6100-6199</td>\n",
       "      <td>BELLFORT</td>\n",
       "      <td>ST</td>\n",
       "      <td>W</td>\n",
       "      <td>1</td>\n",
       "      <td>NaN</td>\n",
       "      <td>NaN</td>\n",
       "      <td>NaN</td>\n",
       "      <td>NaN</td>\n",
       "      <td>NaN</td>\n",
       "    </tr>\n",
       "    <tr>\n",
       "      <th>2</th>\n",
       "      <td>2013-04-02</td>\n",
       "      <td>16</td>\n",
       "      <td>Murder</td>\n",
       "      <td>20G10</td>\n",
       "      <td>20A</td>\n",
       "      <td>9900-9999</td>\n",
       "      <td>RICHMOND</td>\n",
       "      <td>AVE</td>\n",
       "      <td>-</td>\n",
       "      <td>1</td>\n",
       "      <td>NaN</td>\n",
       "      <td>NaN</td>\n",
       "      <td>NaN</td>\n",
       "      <td>NaN</td>\n",
       "      <td>NaN</td>\n",
       "    </tr>\n",
       "    <tr>\n",
       "      <th>3</th>\n",
       "      <td>2013-04-19</td>\n",
       "      <td>22</td>\n",
       "      <td>Murder</td>\n",
       "      <td>2A20</td>\n",
       "      <td>13R</td>\n",
       "      <td>1300-1399</td>\n",
       "      <td>29TH</td>\n",
       "      <td>ST</td>\n",
       "      <td>E</td>\n",
       "      <td>1</td>\n",
       "      <td>NaN</td>\n",
       "      <td>NaN</td>\n",
       "      <td>NaN</td>\n",
       "      <td>NaN</td>\n",
       "      <td>NaN</td>\n",
       "    </tr>\n",
       "    <tr>\n",
       "      <th>4</th>\n",
       "      <td>2013-04-23</td>\n",
       "      <td>0</td>\n",
       "      <td>Murder</td>\n",
       "      <td>1A10</td>\n",
       "      <td>190</td>\n",
       "      <td>500-599</td>\n",
       "      <td>RUSK</td>\n",
       "      <td>-</td>\n",
       "      <td>-</td>\n",
       "      <td>1</td>\n",
       "      <td>NaN</td>\n",
       "      <td>NaN</td>\n",
       "      <td>NaN</td>\n",
       "      <td>NaN</td>\n",
       "      <td>NaN</td>\n",
       "    </tr>\n",
       "  </tbody>\n",
       "</table>\n",
       "</div>"
      ],
      "text/plain": [
       "        date  hour offense_type   beat premise block_range street_name type  \\\n",
       "0 2013-04-25     5       Murder  19G10     13R   9400-9499    WOODFAIR   DR   \n",
       "1 2013-04-14     0       Murder  17E40     18A   6100-6199    BELLFORT   ST   \n",
       "2 2013-04-02    16       Murder  20G10     20A   9900-9999    RICHMOND  AVE   \n",
       "3 2013-04-19    22       Murder   2A20     13R   1300-1399        29TH   ST   \n",
       "4 2013-04-23     0       Murder   1A10     190     500-599        RUSK    -   \n",
       "\n",
       "  suffix  ._of_offenses  field11  field2  field12  field13  field14  \n",
       "0      -              1      NaN     NaN      NaN      NaN      NaN  \n",
       "1      W              1      NaN     NaN      NaN      NaN      NaN  \n",
       "2      -              1      NaN     NaN      NaN      NaN      NaN  \n",
       "3      E              1      NaN     NaN      NaN      NaN      NaN  \n",
       "4      -              1      NaN     NaN      NaN      NaN      NaN  "
      ]
     },
     "execution_count": 10,
     "metadata": {},
     "output_type": "execute_result"
    }
   ],
   "source": [
    "df.head()"
   ]
  },
  {
   "cell_type": "markdown",
   "metadata": {},
   "source": [
    "## Show null data"
   ]
  },
  {
   "cell_type": "code",
   "execution_count": 11,
   "metadata": {},
   "outputs": [
    {
     "data": {
      "text/plain": [
       "date                  0\n",
       "hour                  0\n",
       "offense_type          0\n",
       "beat                  0\n",
       "premise               0\n",
       "block_range           0\n",
       "street_name           0\n",
       "type                  0\n",
       "suffix                0\n",
       "._of_offenses         0\n",
       "field11          130459\n",
       "field2           130459\n",
       "field12          130459\n",
       "field13          130459\n",
       "field14          130459\n",
       "dtype: int64"
      ]
     },
     "execution_count": 11,
     "metadata": {},
     "output_type": "execute_result"
    }
   ],
   "source": [
    "df.apply(lambda x: sum(x.isnull()))"
   ]
  },
  {
   "cell_type": "code",
   "execution_count": 12,
   "metadata": {},
   "outputs": [
    {
     "data": {
      "text/html": [
       "<div>\n",
       "<style scoped>\n",
       "    .dataframe tbody tr th:only-of-type {\n",
       "        vertical-align: middle;\n",
       "    }\n",
       "\n",
       "    .dataframe tbody tr th {\n",
       "        vertical-align: top;\n",
       "    }\n",
       "\n",
       "    .dataframe thead th {\n",
       "        text-align: right;\n",
       "    }\n",
       "</style>\n",
       "<table border=\"1\" class=\"dataframe\">\n",
       "  <thead>\n",
       "    <tr style=\"text-align: right;\">\n",
       "      <th></th>\n",
       "      <th>null_percent</th>\n",
       "    </tr>\n",
       "  </thead>\n",
       "  <tbody>\n",
       "    <tr>\n",
       "      <th>date</th>\n",
       "      <td>0.0</td>\n",
       "    </tr>\n",
       "    <tr>\n",
       "      <th>hour</th>\n",
       "      <td>0.0</td>\n",
       "    </tr>\n",
       "    <tr>\n",
       "      <th>offense_type</th>\n",
       "      <td>0.0</td>\n",
       "    </tr>\n",
       "    <tr>\n",
       "      <th>beat</th>\n",
       "      <td>0.0</td>\n",
       "    </tr>\n",
       "    <tr>\n",
       "      <th>premise</th>\n",
       "      <td>0.0</td>\n",
       "    </tr>\n",
       "    <tr>\n",
       "      <th>block_range</th>\n",
       "      <td>0.0</td>\n",
       "    </tr>\n",
       "    <tr>\n",
       "      <th>street_name</th>\n",
       "      <td>0.0</td>\n",
       "    </tr>\n",
       "    <tr>\n",
       "      <th>type</th>\n",
       "      <td>0.0</td>\n",
       "    </tr>\n",
       "    <tr>\n",
       "      <th>suffix</th>\n",
       "      <td>0.0</td>\n",
       "    </tr>\n",
       "    <tr>\n",
       "      <th>._of_offenses</th>\n",
       "      <td>0.0</td>\n",
       "    </tr>\n",
       "  </tbody>\n",
       "</table>\n",
       "</div>"
      ],
      "text/plain": [
       "               null_percent\n",
       "date                    0.0\n",
       "hour                    0.0\n",
       "offense_type            0.0\n",
       "beat                    0.0\n",
       "premise                 0.0\n",
       "block_range             0.0\n",
       "street_name             0.0\n",
       "type                    0.0\n",
       "suffix                  0.0\n",
       "._of_offenses           0.0"
      ]
     },
     "execution_count": 12,
     "metadata": {},
     "output_type": "execute_result"
    }
   ],
   "source": [
    "# create null percentage of column as dataframe\n",
    "null_per_df = pd.DataFrame(df.isna().mean().round(4) * 100)\n",
    "# rename columns\n",
    "null_per_df.rename(columns={'index': 'col_name', 0: 'null_percent'}, inplace=True)\n",
    "\n",
    "# filter data <20% null values\n",
    "per_filter = null_per_df.null_percent<=90\n",
    "null_per_df[per_filter].sort_values(by='null_percent',ascending=False)"
   ]
  },
  {
   "cell_type": "code",
   "execution_count": 13,
   "metadata": {},
   "outputs": [
    {
     "data": {
      "image/png": "[encoded data removed]",
      "text/plain": [
       "<Figure size 1500x400 with 1 Axes>"
      ]
     },
     "metadata": {},
     "output_type": "display_data"
    }
   ],
   "source": [
    "plt.figure(figsize=(15,4))\n",
    "sns.heatmap(df.isnull(),yticklabels=False,cbar=False,cmap='viridis')\n",
    "plt.title('Missing data')\n",
    "plt.show()"
   ]
  },
  {
   "cell_type": "markdown",
   "metadata": {},
   "source": [
    "# Drop unused columns & change column names"
   ]
  },
  {
   "cell_type": "code",
   "execution_count": 14,
   "metadata": {},
   "outputs": [],
   "source": [
    "df = df.drop([  'field11',\n",
    " 'field2',\n",
    " 'field12',\n",
    " 'field13',\n",
    " 'field14'], axis = 1)\n",
    "\n",
    "#change column name\n",
    "\n",
    "df.rename(columns={\n",
    "    '._of_offenses': 'offenses',\n",
    "}, inplace=True)"
   ]
  },
  {
   "cell_type": "code",
   "execution_count": 15,
   "metadata": {},
   "outputs": [
    {
     "data": {
      "text/plain": [
       "date            0\n",
       "hour            0\n",
       "offense_type    0\n",
       "beat            0\n",
       "premise         0\n",
       "block_range     0\n",
       "street_name     0\n",
       "type            0\n",
       "suffix          0\n",
       "offenses        0\n",
       "dtype: int64"
      ]
     },
     "execution_count": 15,
     "metadata": {},
     "output_type": "execute_result"
    }
   ],
   "source": [
    "df.apply(lambda x: sum(x.isnull()))"
   ]
  },
  {
   "cell_type": "code",
   "execution_count": 16,
   "metadata": {},
   "outputs": [
    {
     "data": {
      "image/png": "[encoded data removed]",
      "text/plain": [
       "<Figure size 1500x400 with 1 Axes>"
      ]
     },
     "metadata": {},
     "output_type": "display_data"
    }
   ],
   "source": [
    "plt.figure(figsize=(15,4))\n",
    "sns.heatmap(df.isnull(),yticklabels=False,cbar=False,cmap='viridis')\n",
    "plt.title('Missing data')\n",
    "plt.show()"
   ]
  },
  {
   "cell_type": "code",
   "execution_count": null,
   "metadata": {},
   "outputs": [],
   "source": []
  },
  {
   "cell_type": "code",
   "execution_count": null,
   "metadata": {},
   "outputs": [],
   "source": []
  },
  {
   "cell_type": "code",
   "execution_count": null,
   "metadata": {},
   "outputs": [],
   "source": []
  },
  {
   "cell_type": "code",
   "execution_count": null,
   "metadata": {},
   "outputs": [],
   "source": []
  },
  {
   "cell_type": "code",
   "execution_count": null,
   "metadata": {},
   "outputs": [],
   "source": []
  },
  {
   "cell_type": "code",
   "execution_count": null,
   "metadata": {},
   "outputs": [],
   "source": []
  },
  {
   "cell_type": "markdown",
   "metadata": {},
   "source": [
    "## Combine columns "
   ]
  },
  {
   "cell_type": "markdown",
   "metadata": {},
   "source": [
    "## Combine date & hour to one column"
   ]
  },
  {
   "cell_type": "code",
   "execution_count": 17,
   "metadata": {},
   "outputs": [],
   "source": [
    "# convert two columns into one datetime\n",
    "df['date_time'] = pd.to_datetime(df['date']) + pd.to_timedelta(df['hour'], unit='h')\n",
    "\n",
    "# # drop columns\n",
    "# df = df.drop(['date','hour'], axis = 1)"
   ]
  },
  {
   "cell_type": "code",
   "execution_count": 18,
   "metadata": {},
   "outputs": [
    {
     "name": "stdout",
     "output_type": "stream",
     "text": [
      "<class 'pandas.core.frame.DataFrame'>\n",
      "RangeIndex: 130459 entries, 0 to 130458\n",
      "Data columns (total 11 columns):\n",
      " #   Column        Non-Null Count   Dtype         \n",
      "---  ------        --------------   -----         \n",
      " 0   date          130459 non-null  datetime64[ns]\n",
      " 1   hour          130459 non-null  int64         \n",
      " 2   offense_type  130459 non-null  object        \n",
      " 3   beat          130459 non-null  object        \n",
      " 4   premise       130459 non-null  object        \n",
      " 5   block_range   130459 non-null  object        \n",
      " 6   street_name   130459 non-null  object        \n",
      " 7   type          130459 non-null  object        \n",
      " 8   suffix        130459 non-null  object        \n",
      " 9   offenses      130459 non-null  int64         \n",
      " 10  date_time     130459 non-null  datetime64[ns]\n",
      "dtypes: datetime64[ns](2), int64(2), object(7)\n",
      "memory usage: 10.9+ MB\n"
     ]
    }
   ],
   "source": [
    "df.info()"
   ]
  },
  {
   "cell_type": "code",
   "execution_count": 19,
   "metadata": {},
   "outputs": [
    {
     "data": {
      "text/html": [
       "<div>\n",
       "<style scoped>\n",
       "    .dataframe tbody tr th:only-of-type {\n",
       "        vertical-align: middle;\n",
       "    }\n",
       "\n",
       "    .dataframe tbody tr th {\n",
       "        vertical-align: top;\n",
       "    }\n",
       "\n",
       "    .dataframe thead th {\n",
       "        text-align: right;\n",
       "    }\n",
       "</style>\n",
       "<table border=\"1\" class=\"dataframe\">\n",
       "  <thead>\n",
       "    <tr style=\"text-align: right;\">\n",
       "      <th></th>\n",
       "      <th>date</th>\n",
       "      <th>hour</th>\n",
       "      <th>offense_type</th>\n",
       "      <th>beat</th>\n",
       "      <th>premise</th>\n",
       "      <th>block_range</th>\n",
       "      <th>street_name</th>\n",
       "      <th>type</th>\n",
       "      <th>suffix</th>\n",
       "      <th>offenses</th>\n",
       "      <th>date_time</th>\n",
       "    </tr>\n",
       "  </thead>\n",
       "  <tbody>\n",
       "    <tr>\n",
       "      <th>0</th>\n",
       "      <td>2013-04-25</td>\n",
       "      <td>5</td>\n",
       "      <td>Murder</td>\n",
       "      <td>19G10</td>\n",
       "      <td>13R</td>\n",
       "      <td>9400-9499</td>\n",
       "      <td>WOODFAIR</td>\n",
       "      <td>DR</td>\n",
       "      <td>-</td>\n",
       "      <td>1</td>\n",
       "      <td>2013-04-25 05:00:00</td>\n",
       "    </tr>\n",
       "    <tr>\n",
       "      <th>1</th>\n",
       "      <td>2013-04-14</td>\n",
       "      <td>0</td>\n",
       "      <td>Murder</td>\n",
       "      <td>17E40</td>\n",
       "      <td>18A</td>\n",
       "      <td>6100-6199</td>\n",
       "      <td>BELLFORT</td>\n",
       "      <td>ST</td>\n",
       "      <td>W</td>\n",
       "      <td>1</td>\n",
       "      <td>2013-04-14 00:00:00</td>\n",
       "    </tr>\n",
       "    <tr>\n",
       "      <th>2</th>\n",
       "      <td>2013-04-02</td>\n",
       "      <td>16</td>\n",
       "      <td>Murder</td>\n",
       "      <td>20G10</td>\n",
       "      <td>20A</td>\n",
       "      <td>9900-9999</td>\n",
       "      <td>RICHMOND</td>\n",
       "      <td>AVE</td>\n",
       "      <td>-</td>\n",
       "      <td>1</td>\n",
       "      <td>2013-04-02 16:00:00</td>\n",
       "    </tr>\n",
       "    <tr>\n",
       "      <th>3</th>\n",
       "      <td>2013-04-19</td>\n",
       "      <td>22</td>\n",
       "      <td>Murder</td>\n",
       "      <td>2A20</td>\n",
       "      <td>13R</td>\n",
       "      <td>1300-1399</td>\n",
       "      <td>29TH</td>\n",
       "      <td>ST</td>\n",
       "      <td>E</td>\n",
       "      <td>1</td>\n",
       "      <td>2013-04-19 22:00:00</td>\n",
       "    </tr>\n",
       "    <tr>\n",
       "      <th>4</th>\n",
       "      <td>2013-04-23</td>\n",
       "      <td>0</td>\n",
       "      <td>Murder</td>\n",
       "      <td>1A10</td>\n",
       "      <td>190</td>\n",
       "      <td>500-599</td>\n",
       "      <td>RUSK</td>\n",
       "      <td>-</td>\n",
       "      <td>-</td>\n",
       "      <td>1</td>\n",
       "      <td>2013-04-23 00:00:00</td>\n",
       "    </tr>\n",
       "  </tbody>\n",
       "</table>\n",
       "</div>"
      ],
      "text/plain": [
       "        date  hour offense_type   beat premise block_range street_name type  \\\n",
       "0 2013-04-25     5       Murder  19G10     13R   9400-9499    WOODFAIR   DR   \n",
       "1 2013-04-14     0       Murder  17E40     18A   6100-6199    BELLFORT   ST   \n",
       "2 2013-04-02    16       Murder  20G10     20A   9900-9999    RICHMOND  AVE   \n",
       "3 2013-04-19    22       Murder   2A20     13R   1300-1399        29TH   ST   \n",
       "4 2013-04-23     0       Murder   1A10     190     500-599        RUSK    -   \n",
       "\n",
       "  suffix  offenses           date_time  \n",
       "0      -         1 2013-04-25 05:00:00  \n",
       "1      W         1 2013-04-14 00:00:00  \n",
       "2      -         1 2013-04-02 16:00:00  \n",
       "3      E         1 2013-04-19 22:00:00  \n",
       "4      -         1 2013-04-23 00:00:00  "
      ]
     },
     "execution_count": 19,
     "metadata": {},
     "output_type": "execute_result"
    }
   ],
   "source": [
    "df.head()"
   ]
  },
  {
   "cell_type": "markdown",
   "metadata": {},
   "source": [
    "## Convert offenses to integer"
   ]
  },
  {
   "cell_type": "code",
   "execution_count": 20,
   "metadata": {},
   "outputs": [],
   "source": [
    "# convert offenses to int\n",
    "df['offenses'] = df['offenses'].astype('int64')"
   ]
  },
  {
   "cell_type": "code",
   "execution_count": 21,
   "metadata": {},
   "outputs": [
    {
     "name": "stdout",
     "output_type": "stream",
     "text": [
      "<class 'pandas.core.frame.DataFrame'>\n",
      "RangeIndex: 130459 entries, 0 to 130458\n",
      "Data columns (total 11 columns):\n",
      " #   Column        Non-Null Count   Dtype         \n",
      "---  ------        --------------   -----         \n",
      " 0   date          130459 non-null  datetime64[ns]\n",
      " 1   hour          130459 non-null  int64         \n",
      " 2   offense_type  130459 non-null  object        \n",
      " 3   beat          130459 non-null  object        \n",
      " 4   premise       130459 non-null  object        \n",
      " 5   block_range   130459 non-null  object        \n",
      " 6   street_name   130459 non-null  object        \n",
      " 7   type          130459 non-null  object        \n",
      " 8   suffix        130459 non-null  object        \n",
      " 9   offenses      130459 non-null  int64         \n",
      " 10  date_time     130459 non-null  datetime64[ns]\n",
      "dtypes: datetime64[ns](2), int64(2), object(7)\n",
      "memory usage: 10.9+ MB\n"
     ]
    }
   ],
   "source": [
    "df.info()"
   ]
  },
  {
   "cell_type": "markdown",
   "metadata": {},
   "source": [
    "# Create Year column"
   ]
  },
  {
   "cell_type": "code",
   "execution_count": 22,
   "metadata": {},
   "outputs": [
    {
     "data": {
      "text/html": [
       "<div>\n",
       "<style scoped>\n",
       "    .dataframe tbody tr th:only-of-type {\n",
       "        vertical-align: middle;\n",
       "    }\n",
       "\n",
       "    .dataframe tbody tr th {\n",
       "        vertical-align: top;\n",
       "    }\n",
       "\n",
       "    .dataframe thead th {\n",
       "        text-align: right;\n",
       "    }\n",
       "</style>\n",
       "<table border=\"1\" class=\"dataframe\">\n",
       "  <thead>\n",
       "    <tr style=\"text-align: right;\">\n",
       "      <th></th>\n",
       "      <th>date</th>\n",
       "      <th>hour</th>\n",
       "      <th>offense_type</th>\n",
       "      <th>beat</th>\n",
       "      <th>premise</th>\n",
       "      <th>block_range</th>\n",
       "      <th>street_name</th>\n",
       "      <th>type</th>\n",
       "      <th>suffix</th>\n",
       "      <th>offenses</th>\n",
       "      <th>date_time</th>\n",
       "      <th>year</th>\n",
       "    </tr>\n",
       "  </thead>\n",
       "  <tbody>\n",
       "    <tr>\n",
       "      <th>0</th>\n",
       "      <td>2013-04-25</td>\n",
       "      <td>5</td>\n",
       "      <td>Murder</td>\n",
       "      <td>19G10</td>\n",
       "      <td>13R</td>\n",
       "      <td>9400-9499</td>\n",
       "      <td>WOODFAIR</td>\n",
       "      <td>DR</td>\n",
       "      <td>-</td>\n",
       "      <td>1</td>\n",
       "      <td>2013-04-25 05:00:00</td>\n",
       "      <td>2013</td>\n",
       "    </tr>\n",
       "    <tr>\n",
       "      <th>1</th>\n",
       "      <td>2013-04-14</td>\n",
       "      <td>0</td>\n",
       "      <td>Murder</td>\n",
       "      <td>17E40</td>\n",
       "      <td>18A</td>\n",
       "      <td>6100-6199</td>\n",
       "      <td>BELLFORT</td>\n",
       "      <td>ST</td>\n",
       "      <td>W</td>\n",
       "      <td>1</td>\n",
       "      <td>2013-04-14 00:00:00</td>\n",
       "      <td>2013</td>\n",
       "    </tr>\n",
       "    <tr>\n",
       "      <th>2</th>\n",
       "      <td>2013-04-02</td>\n",
       "      <td>16</td>\n",
       "      <td>Murder</td>\n",
       "      <td>20G10</td>\n",
       "      <td>20A</td>\n",
       "      <td>9900-9999</td>\n",
       "      <td>RICHMOND</td>\n",
       "      <td>AVE</td>\n",
       "      <td>-</td>\n",
       "      <td>1</td>\n",
       "      <td>2013-04-02 16:00:00</td>\n",
       "      <td>2013</td>\n",
       "    </tr>\n",
       "    <tr>\n",
       "      <th>3</th>\n",
       "      <td>2013-04-19</td>\n",
       "      <td>22</td>\n",
       "      <td>Murder</td>\n",
       "      <td>2A20</td>\n",
       "      <td>13R</td>\n",
       "      <td>1300-1399</td>\n",
       "      <td>29TH</td>\n",
       "      <td>ST</td>\n",
       "      <td>E</td>\n",
       "      <td>1</td>\n",
       "      <td>2013-04-19 22:00:00</td>\n",
       "      <td>2013</td>\n",
       "    </tr>\n",
       "    <tr>\n",
       "      <th>4</th>\n",
       "      <td>2013-04-23</td>\n",
       "      <td>0</td>\n",
       "      <td>Murder</td>\n",
       "      <td>1A10</td>\n",
       "      <td>190</td>\n",
       "      <td>500-599</td>\n",
       "      <td>RUSK</td>\n",
       "      <td>-</td>\n",
       "      <td>-</td>\n",
       "      <td>1</td>\n",
       "      <td>2013-04-23 00:00:00</td>\n",
       "      <td>2013</td>\n",
       "    </tr>\n",
       "  </tbody>\n",
       "</table>\n",
       "</div>"
      ],
      "text/plain": [
       "        date  hour offense_type   beat premise block_range street_name type  \\\n",
       "0 2013-04-25     5       Murder  19G10     13R   9400-9499    WOODFAIR   DR   \n",
       "1 2013-04-14     0       Murder  17E40     18A   6100-6199    BELLFORT   ST   \n",
       "2 2013-04-02    16       Murder  20G10     20A   9900-9999    RICHMOND  AVE   \n",
       "3 2013-04-19    22       Murder   2A20     13R   1300-1399        29TH   ST   \n",
       "4 2013-04-23     0       Murder   1A10     190     500-599        RUSK    -   \n",
       "\n",
       "  suffix  offenses           date_time  year  \n",
       "0      -         1 2013-04-25 05:00:00  2013  \n",
       "1      W         1 2013-04-14 00:00:00  2013  \n",
       "2      -         1 2013-04-02 16:00:00  2013  \n",
       "3      E         1 2013-04-19 22:00:00  2013  \n",
       "4      -         1 2013-04-23 00:00:00  2013  "
      ]
     },
     "execution_count": 22,
     "metadata": {},
     "output_type": "execute_result"
    }
   ],
   "source": [
    "df['year'] = 2013\n",
    "df.head()"
   ]
  },
  {
   "cell_type": "markdown",
   "metadata": {},
   "source": [
    "## change order of columns"
   ]
  },
  {
   "cell_type": "code",
   "execution_count": 23,
   "metadata": {},
   "outputs": [
    {
     "data": {
      "text/html": [
       "<div>\n",
       "<style scoped>\n",
       "    .dataframe tbody tr th:only-of-type {\n",
       "        vertical-align: middle;\n",
       "    }\n",
       "\n",
       "    .dataframe tbody tr th {\n",
       "        vertical-align: top;\n",
       "    }\n",
       "\n",
       "    .dataframe thead th {\n",
       "        text-align: right;\n",
       "    }\n",
       "</style>\n",
       "<table border=\"1\" class=\"dataframe\">\n",
       "  <thead>\n",
       "    <tr style=\"text-align: right;\">\n",
       "      <th></th>\n",
       "      <th>date_time</th>\n",
       "      <th>offenses</th>\n",
       "      <th>offense_type</th>\n",
       "      <th>block_range</th>\n",
       "      <th>street_name</th>\n",
       "      <th>type</th>\n",
       "      <th>suffix</th>\n",
       "      <th>beat</th>\n",
       "      <th>premise</th>\n",
       "      <th>date</th>\n",
       "      <th>hour</th>\n",
       "      <th>year</th>\n",
       "    </tr>\n",
       "  </thead>\n",
       "  <tbody>\n",
       "    <tr>\n",
       "      <th>0</th>\n",
       "      <td>2013-04-25 05:00:00</td>\n",
       "      <td>1</td>\n",
       "      <td>Murder</td>\n",
       "      <td>9400-9499</td>\n",
       "      <td>WOODFAIR</td>\n",
       "      <td>DR</td>\n",
       "      <td>-</td>\n",
       "      <td>19G10</td>\n",
       "      <td>13R</td>\n",
       "      <td>2013-04-25</td>\n",
       "      <td>5</td>\n",
       "      <td>2013</td>\n",
       "    </tr>\n",
       "    <tr>\n",
       "      <th>1</th>\n",
       "      <td>2013-04-14 00:00:00</td>\n",
       "      <td>1</td>\n",
       "      <td>Murder</td>\n",
       "      <td>6100-6199</td>\n",
       "      <td>BELLFORT</td>\n",
       "      <td>ST</td>\n",
       "      <td>W</td>\n",
       "      <td>17E40</td>\n",
       "      <td>18A</td>\n",
       "      <td>2013-04-14</td>\n",
       "      <td>0</td>\n",
       "      <td>2013</td>\n",
       "    </tr>\n",
       "    <tr>\n",
       "      <th>2</th>\n",
       "      <td>2013-04-02 16:00:00</td>\n",
       "      <td>1</td>\n",
       "      <td>Murder</td>\n",
       "      <td>9900-9999</td>\n",
       "      <td>RICHMOND</td>\n",
       "      <td>AVE</td>\n",
       "      <td>-</td>\n",
       "      <td>20G10</td>\n",
       "      <td>20A</td>\n",
       "      <td>2013-04-02</td>\n",
       "      <td>16</td>\n",
       "      <td>2013</td>\n",
       "    </tr>\n",
       "    <tr>\n",
       "      <th>3</th>\n",
       "      <td>2013-04-19 22:00:00</td>\n",
       "      <td>1</td>\n",
       "      <td>Murder</td>\n",
       "      <td>1300-1399</td>\n",
       "      <td>29TH</td>\n",
       "      <td>ST</td>\n",
       "      <td>E</td>\n",
       "      <td>2A20</td>\n",
       "      <td>13R</td>\n",
       "      <td>2013-04-19</td>\n",
       "      <td>22</td>\n",
       "      <td>2013</td>\n",
       "    </tr>\n",
       "    <tr>\n",
       "      <th>4</th>\n",
       "      <td>2013-04-23 00:00:00</td>\n",
       "      <td>1</td>\n",
       "      <td>Murder</td>\n",
       "      <td>500-599</td>\n",
       "      <td>RUSK</td>\n",
       "      <td>-</td>\n",
       "      <td>-</td>\n",
       "      <td>1A10</td>\n",
       "      <td>190</td>\n",
       "      <td>2013-04-23</td>\n",
       "      <td>0</td>\n",
       "      <td>2013</td>\n",
       "    </tr>\n",
       "  </tbody>\n",
       "</table>\n",
       "</div>"
      ],
      "text/plain": [
       "            date_time  offenses offense_type block_range street_name type  \\\n",
       "0 2013-04-25 05:00:00         1       Murder   9400-9499    WOODFAIR   DR   \n",
       "1 2013-04-14 00:00:00         1       Murder   6100-6199    BELLFORT   ST   \n",
       "2 2013-04-02 16:00:00         1       Murder   9900-9999    RICHMOND  AVE   \n",
       "3 2013-04-19 22:00:00         1       Murder   1300-1399        29TH   ST   \n",
       "4 2013-04-23 00:00:00         1       Murder     500-599        RUSK    -   \n",
       "\n",
       "  suffix   beat premise       date  hour  year  \n",
       "0      -  19G10     13R 2013-04-25     5  2013  \n",
       "1      W  17E40     18A 2013-04-14     0  2013  \n",
       "2      -  20G10     20A 2013-04-02    16  2013  \n",
       "3      E   2A20     13R 2013-04-19    22  2013  \n",
       "4      -   1A10     190 2013-04-23     0  2013  "
      ]
     },
     "execution_count": 23,
     "metadata": {},
     "output_type": "execute_result"
    }
   ],
   "source": [
    "col_ord =['date_time','offenses','offense_type', 'block_range', 'street_name', 'type', 'suffix','beat', 'premise','date','hour','year']\n",
    "df = df[col_ord]\n",
    "df.head()"
   ]
  },
  {
   "cell_type": "code",
   "execution_count": null,
   "metadata": {},
   "outputs": [],
   "source": []
  },
  {
   "cell_type": "code",
   "execution_count": null,
   "metadata": {},
   "outputs": [],
   "source": []
  },
  {
   "cell_type": "code",
   "execution_count": 27,
   "metadata": {},
   "outputs": [
    {
     "name": "stdout",
     "output_type": "stream",
     "text": [
      "<class 'pandas.core.frame.DataFrame'>\n",
      "RangeIndex: 130459 entries, 0 to 130458\n",
      "Data columns (total 12 columns):\n",
      " #   Column        Non-Null Count   Dtype         \n",
      "---  ------        --------------   -----         \n",
      " 0   date_time     130459 non-null  datetime64[ns]\n",
      " 1   offenses      130459 non-null  int64         \n",
      " 2   offense_type  130459 non-null  object        \n",
      " 3   block_range   130459 non-null  object        \n",
      " 4   street_name   130459 non-null  object        \n",
      " 5   type          130459 non-null  object        \n",
      " 6   suffix        130459 non-null  object        \n",
      " 7   beat          130459 non-null  object        \n",
      " 8   premise       130459 non-null  object        \n",
      " 9   date          130459 non-null  datetime64[ns]\n",
      " 10  hour          130459 non-null  int64         \n",
      " 11  year          130459 non-null  int64         \n",
      "dtypes: datetime64[ns](2), int64(3), object(7)\n",
      "memory usage: 11.9+ MB\n"
     ]
    }
   ],
   "source": [
    "df.info()"
   ]
  },
  {
   "cell_type": "code",
   "execution_count": 28,
   "metadata": {},
   "outputs": [],
   "source": [
    "df.loc[df.duplicated(keep='first'),:]\n",
    "\n",
    "df.drop_duplicates(keep='first',inplace=True)"
   ]
  },
  {
   "cell_type": "code",
   "execution_count": 29,
   "metadata": {},
   "outputs": [
    {
     "name": "stdout",
     "output_type": "stream",
     "text": [
      "<class 'pandas.core.frame.DataFrame'>\n",
      "Int64Index: 129699 entries, 0 to 130458\n",
      "Data columns (total 12 columns):\n",
      " #   Column        Non-Null Count   Dtype         \n",
      "---  ------        --------------   -----         \n",
      " 0   date_time     129699 non-null  datetime64[ns]\n",
      " 1   offenses      129699 non-null  int64         \n",
      " 2   offense_type  129699 non-null  object        \n",
      " 3   block_range   129699 non-null  object        \n",
      " 4   street_name   129699 non-null  object        \n",
      " 5   type          129699 non-null  object        \n",
      " 6   suffix        129699 non-null  object        \n",
      " 7   beat          129699 non-null  object        \n",
      " 8   premise       129699 non-null  object        \n",
      " 9   date          129699 non-null  datetime64[ns]\n",
      " 10  hour          129699 non-null  int64         \n",
      " 11  year          129699 non-null  int64         \n",
      "dtypes: datetime64[ns](2), int64(3), object(7)\n",
      "memory usage: 12.9+ MB\n"
     ]
    }
   ],
   "source": [
    "df.info()"
   ]
  },
  {
   "cell_type": "markdown",
   "metadata": {},
   "source": [
    "## Save to bucket"
   ]
  },
  {
   "cell_type": "code",
   "execution_count": 30,
   "metadata": {},
   "outputs": [
    {
     "data": {
      "text/plain": [
       "'s3://dend-data/capstone/inter-data/crime-data/crime_2013.csv'"
      ]
     },
     "execution_count": 30,
     "metadata": {},
     "output_type": "execute_result"
    }
   ],
   "source": [
    "bucket = 'dend-data'\n",
    "file_name = f'crime_{year}.csv'\n",
    "path_to_save = f\"s3://{bucket}/capstone/inter-data/crime-data/{file_name}\"\n",
    "path_to_save"
   ]
  },
  {
   "cell_type": "code",
   "execution_count": null,
   "metadata": {},
   "outputs": [],
   "source": []
  },
  {
   "cell_type": "code",
   "execution_count": 31,
   "metadata": {},
   "outputs": [
    {
     "name": "stdout",
     "output_type": "stream",
     "text": [
      "CPU times: user 952 ms, sys: 71.5 ms, total: 1.02 s\n",
      "Wall time: 20 s\n"
     ]
    },
    {
     "data": {
      "text/plain": [
       "{'paths': ['s3://dend-data/capstone/inter-data/crime-data/crime_2013.csv'],\n",
       " 'partitions_values': {}}"
      ]
     },
     "execution_count": 31,
     "metadata": {},
     "output_type": "execute_result"
    }
   ],
   "source": [
    "%%time\n",
    "wr.s3.to_csv(df, path_to_save, index=False)"
   ]
  },
  {
   "cell_type": "markdown",
   "metadata": {},
   "source": [
    "# Save Sample"
   ]
  },
  {
   "cell_type": "code",
   "execution_count": 32,
   "metadata": {},
   "outputs": [
    {
     "name": "stdout",
     "output_type": "stream",
     "text": [
      "CPU times: user 20.8 ms, sys: 0 ns, total: 20.8 ms\n",
      "Wall time: 326 ms\n"
     ]
    },
    {
     "data": {
      "text/plain": [
       "{'paths': ['s3://dend-data/capstone/sample-data/crime-data/crime_2013.csv'],\n",
       " 'partitions_values': {}}"
      ]
     },
     "execution_count": 32,
     "metadata": {},
     "output_type": "execute_result"
    }
   ],
   "source": [
    "%%time\n",
    "sample_100 = df.sample(100)\n",
    "\n",
    "\n",
    "bucket = 'dend-data'\n",
    "file_name = f'crime_{year}.csv'\n",
    "path_to_save = f\"s3://{bucket}/capstone/sample-data/crime-data/{file_name}\"\n",
    "\n",
    "wr.s3.to_csv(sample_100, path_to_save, index=False)"
   ]
  },
  {
   "cell_type": "code",
   "execution_count": null,
   "metadata": {},
   "outputs": [],
   "source": []
  },
  {
   "cell_type": "code",
   "execution_count": null,
   "metadata": {},
   "outputs": [],
   "source": []
  }
 ],
 "metadata": {
  "kernelspec": {
   "display_name": "Python 3 (ipykernel)",
   "language": "python",
   "name": "python3"
  },
  "language_info": {
   "codemirror_mode": {
    "name": "ipython",
    "version": 3
   },
   "file_extension": ".py",
   "mimetype": "text/x-python",
   "name": "python",
   "nbconvert_exporter": "python",
   "pygments_lexer": "ipython3",
   "version": "3.9.5"
  }
 },
 "nbformat": 4,
 "nbformat_minor": 4
}
