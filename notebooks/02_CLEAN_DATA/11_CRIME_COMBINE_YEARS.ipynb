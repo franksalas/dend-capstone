{
 "cells": [
  {
   "cell_type": "code",
   "execution_count": 1,
   "metadata": {},
   "outputs": [
    {
     "data": {
      "text/html": [
       "        <script type=\"text/javascript\">\n",
       "        window.PlotlyConfig = {MathJaxConfig: 'local'};\n",
       "        if (window.MathJax) {MathJax.Hub.Config({SVG: {font: \"STIX-Web\"}});}\n",
       "        if (typeof require !== 'undefined') {\n",
       "        require.undef(\"plotly\");\n",
       "        requirejs.config({\n",
       "            paths: {\n",
       "                'plotly': ['https://cdn.plot.ly/plotly-2.2.0.min']\n",
       "            }\n",
       "        });\n",
       "        require(['plotly'], function(Plotly) {\n",
       "            window._Plotly = Plotly;\n",
       "        });\n",
       "        }\n",
       "        </script>\n",
       "        "
      ]
     },
     "metadata": {},
     "output_type": "display_data"
    },
    {
     "name": "stdout",
     "output_type": "stream",
     "text": [
      "\n",
      "python\t3.9.5 (default, Jun  4 2021, 12:28:51) \n",
      "[GCC 7.5.0]\n",
      "---------------------\n",
      "Versions:\n",
      "----------------------\n",
      "pandas      1.3.0\n",
      "numpy       1.20.2\n",
      "matplotlib  3.3.4\n",
      "seaborn     0.11.1\n",
      "plotly      5.1.0\n",
      "boto3       1.17.109\n",
      "awswrangler 2.10.0\n",
      "----------------------\n",
      "\n",
      "\n",
      "Loaded Libraries\n",
      "-------------------\n",
      "import pandas as pd\n",
      "import numpy as np\n",
      "import sys,os\n",
      "import re\n",
      "import glob\n",
      "import pickle\n",
      "import seaborn as sns\n",
      "import matplotlib.pyplot as plt\n",
      "import plotly\n",
      "import plotly.graph_objs as go\n",
      "from plotly.offline import download_plotlyjs, init_notebook_mode, plot, iplot\n",
      "init_notebook_mode(connected=True)\n",
      "\n",
      "\n",
      "## AWS\n",
      "import boto3\n",
      "import awswrangler as wr\n",
      "----------------\n",
      "\n",
      "\n",
      "GLOBAL VARIABLES\n",
      "--------------------------\n",
      "# Creating the low level functional client\n",
      "client = boto3.client(\n",
      "    's3',\n",
      "    aws_access_key_id = AWS_KEY_ID,\n",
      "    aws_secret_access_key = AWS_SECRET,\n",
      ")\n",
      "    \n",
      "# Creating the high level object oriented interface\n",
      "resource = boto3.resource(\n",
      "    's3',\n",
      "    aws_access_key_id = AWS_KEY_ID,\n",
      "    aws_secret_access_key = AWS_SECRET,\n",
      ")\n",
      "\n",
      "HERE_DIR: list current directory path\n",
      "------------------------------\n",
      "\n",
      "# SAVE PLOTS\n",
      "To save a plot call\n",
      "`save_plots(fig_variable,'name_of_plot')`\n",
      "\n",
      "source file: src/start.py\n",
      "\n",
      "\n"
     ]
    }
   ],
   "source": [
    "%run ../../src/start.py"
   ]
  },
  {
   "cell_type": "markdown",
   "metadata": {},
   "source": [
    "## Load Data"
   ]
  },
  {
   "cell_type": "code",
   "execution_count": 2,
   "metadata": {},
   "outputs": [],
   "source": [
    "# helper function\n",
    "def bucket_raw_path(bucket_name,path_dir):\n",
    "    ''''''\n",
    "    raw_path = f's3://{bucket_name}/{path_dir}'\n",
    "    return raw_path"
   ]
  },
  {
   "cell_type": "code",
   "execution_count": 3,
   "metadata": {},
   "outputs": [
    {
     "data": {
      "text/plain": [
       "'s3://dend-data/capstone/inter-data/crime-data/'"
      ]
     },
     "execution_count": 3,
     "metadata": {},
     "output_type": "execute_result"
    }
   ],
   "source": [
    "raw = bucket_raw_path('dend-data',f'capstone/inter-data/crime-data/')\n",
    "raw"
   ]
  },
  {
   "cell_type": "markdown",
   "metadata": {},
   "source": [
    "## List objects in bucket"
   ]
  },
  {
   "cell_type": "code",
   "execution_count": 4,
   "metadata": {},
   "outputs": [
    {
     "data": {
      "text/plain": [
       "['s3://dend-data/capstone/inter-data/crime-data/crime_2009.csv',\n",
       " 's3://dend-data/capstone/inter-data/crime-data/crime_2010.csv',\n",
       " 's3://dend-data/capstone/inter-data/crime-data/crime_2011.csv',\n",
       " 's3://dend-data/capstone/inter-data/crime-data/crime_2012.csv',\n",
       " 's3://dend-data/capstone/inter-data/crime-data/crime_2013.csv',\n",
       " 's3://dend-data/capstone/inter-data/crime-data/crime_2014.csv',\n",
       " 's3://dend-data/capstone/inter-data/crime-data/crime_2015.csv',\n",
       " 's3://dend-data/capstone/inter-data/crime-data/crime_2016.csv',\n",
       " 's3://dend-data/capstone/inter-data/crime-data/crime_2017.csv',\n",
       " 's3://dend-data/capstone/inter-data/crime-data/crime_2018.csv']"
      ]
     },
     "execution_count": 4,
     "metadata": {},
     "output_type": "execute_result"
    }
   ],
   "source": [
    "wr.s3.list_objects(raw)"
   ]
  },
  {
   "cell_type": "markdown",
   "metadata": {},
   "source": [
    "## Create dataframe from s3 files"
   ]
  },
  {
   "cell_type": "code",
   "execution_count": 5,
   "metadata": {},
   "outputs": [],
   "source": [
    "def s3_files_to_df(s3_files_path):\n",
    "    ''' load s3 file path from wr result\n",
    "    returns a dataframe of concat files '''\n",
    "    df_list = []\n",
    "    for i in wr.s3.list_objects(s3_files_path):\n",
    "        temp = wr.s3.read_csv(i,)\n",
    "        df_list.append(temp)\n",
    "    # create df from list files\n",
    "    df = pd.concat(df_list, ignore_index=True)\n",
    "    return df"
   ]
  },
  {
   "cell_type": "code",
   "execution_count": 6,
   "metadata": {},
   "outputs": [
    {
     "name": "stdout",
     "output_type": "stream",
     "text": [
      "CPU times: user 1.69 s, sys: 370 ms, total: 2.06 s\n",
      "Wall time: 13.8 s\n"
     ]
    }
   ],
   "source": [
    "%%time\n",
    "df = s3_files_to_df(raw)"
   ]
  },
  {
   "cell_type": "code",
   "execution_count": 7,
   "metadata": {},
   "outputs": [
    {
     "data": {
      "text/html": [
       "<div>\n",
       "<style scoped>\n",
       "    .dataframe tbody tr th:only-of-type {\n",
       "        vertical-align: middle;\n",
       "    }\n",
       "\n",
       "    .dataframe tbody tr th {\n",
       "        vertical-align: top;\n",
       "    }\n",
       "\n",
       "    .dataframe thead th {\n",
       "        text-align: right;\n",
       "    }\n",
       "</style>\n",
       "<table border=\"1\" class=\"dataframe\">\n",
       "  <thead>\n",
       "    <tr style=\"text-align: right;\">\n",
       "      <th></th>\n",
       "      <th>date_time</th>\n",
       "      <th>offenses</th>\n",
       "      <th>offense_type</th>\n",
       "      <th>block_range</th>\n",
       "      <th>street_name</th>\n",
       "      <th>type</th>\n",
       "      <th>suffix</th>\n",
       "      <th>beat</th>\n",
       "      <th>premise</th>\n",
       "      <th>date</th>\n",
       "      <th>hour</th>\n",
       "    </tr>\n",
       "  </thead>\n",
       "  <tbody>\n",
       "    <tr>\n",
       "      <th>250</th>\n",
       "      <td>2009-08-01 15:00:00</td>\n",
       "      <td>1.0</td>\n",
       "      <td>Theft</td>\n",
       "      <td>3500-3599</td>\n",
       "      <td>TERMINAL</td>\n",
       "      <td>RD</td>\n",
       "      <td>N</td>\n",
       "      <td>21I30</td>\n",
       "      <td>01A</td>\n",
       "      <td>08/01/09 00:00:00</td>\n",
       "      <td>15</td>\n",
       "    </tr>\n",
       "    <tr>\n",
       "      <th>498</th>\n",
       "      <td>2009-08-02 01:00:00</td>\n",
       "      <td>1.0</td>\n",
       "      <td>Theft</td>\n",
       "      <td>5200-5299</td>\n",
       "      <td>PAGEWICK</td>\n",
       "      <td>DR</td>\n",
       "      <td>E</td>\n",
       "      <td>4F20</td>\n",
       "      <td>20D</td>\n",
       "      <td>08/02/09 00:00:00</td>\n",
       "      <td>1</td>\n",
       "    </tr>\n",
       "    <tr>\n",
       "      <th>515</th>\n",
       "      <td>2009-08-02 02:00:00</td>\n",
       "      <td>1.0</td>\n",
       "      <td>Theft</td>\n",
       "      <td>5600-5699</td>\n",
       "      <td>SANTA CHRISTI</td>\n",
       "      <td>DR</td>\n",
       "      <td>-</td>\n",
       "      <td>16E40</td>\n",
       "      <td>20D</td>\n",
       "      <td>08/02/09 00:00:00</td>\n",
       "      <td>2</td>\n",
       "    </tr>\n",
       "    <tr>\n",
       "      <th>641</th>\n",
       "      <td>2009-08-02 14:00:00</td>\n",
       "      <td>1.0</td>\n",
       "      <td>Theft</td>\n",
       "      <td>900-999</td>\n",
       "      <td>GESSNER</td>\n",
       "      <td>DR</td>\n",
       "      <td>-</td>\n",
       "      <td>20G50</td>\n",
       "      <td>24J</td>\n",
       "      <td>08/02/09 00:00:00</td>\n",
       "      <td>14</td>\n",
       "    </tr>\n",
       "    <tr>\n",
       "      <th>717</th>\n",
       "      <td>2009-08-02 18:00:00</td>\n",
       "      <td>1.0</td>\n",
       "      <td>Theft</td>\n",
       "      <td>3600-3699</td>\n",
       "      <td>WOODCHASE</td>\n",
       "      <td>-</td>\n",
       "      <td>-</td>\n",
       "      <td>20G10</td>\n",
       "      <td>18A</td>\n",
       "      <td>08/02/09 00:00:00</td>\n",
       "      <td>18</td>\n",
       "    </tr>\n",
       "    <tr>\n",
       "      <th>...</th>\n",
       "      <td>...</td>\n",
       "      <td>...</td>\n",
       "      <td>...</td>\n",
       "      <td>...</td>\n",
       "      <td>...</td>\n",
       "      <td>...</td>\n",
       "      <td>...</td>\n",
       "      <td>...</td>\n",
       "      <td>...</td>\n",
       "      <td>...</td>\n",
       "      <td>...</td>\n",
       "    </tr>\n",
       "    <tr>\n",
       "      <th>1036363</th>\n",
       "      <td>2017-03-03 06:00:00</td>\n",
       "      <td>1.0</td>\n",
       "      <td>Theft</td>\n",
       "      <td>2400-2499</td>\n",
       "      <td>WESTHEIMER</td>\n",
       "      <td>RD</td>\n",
       "      <td>-</td>\n",
       "      <td>1A40</td>\n",
       "      <td>Apartment</td>\n",
       "      <td>2017-03-03 00:00:00</td>\n",
       "      <td>6</td>\n",
       "    </tr>\n",
       "    <tr>\n",
       "      <th>1037135</th>\n",
       "      <td>2017-02-26 17:00:00</td>\n",
       "      <td>1.0</td>\n",
       "      <td>Theft</td>\n",
       "      <td>14800-14899</td>\n",
       "      <td>GRISBY</td>\n",
       "      <td>-</td>\n",
       "      <td>-</td>\n",
       "      <td>20G60</td>\n",
       "      <td>Apartment</td>\n",
       "      <td>2017-02-26 00:00:00</td>\n",
       "      <td>17</td>\n",
       "    </tr>\n",
       "    <tr>\n",
       "      <th>1071678</th>\n",
       "      <td>2017-06-20 18:00:00</td>\n",
       "      <td>1.0</td>\n",
       "      <td>Rape</td>\n",
       "      <td>10600-10699</td>\n",
       "      <td>SABO RD</td>\n",
       "      <td>RD</td>\n",
       "      <td>-</td>\n",
       "      <td>12D20</td>\n",
       "      <td>Road, Street, or Sidewalk</td>\n",
       "      <td>06/20/2017</td>\n",
       "      <td>18</td>\n",
       "    </tr>\n",
       "    <tr>\n",
       "      <th>1102683</th>\n",
       "      <td>2017-07-04 20:00:00</td>\n",
       "      <td>1.0</td>\n",
       "      <td>Robbery</td>\n",
       "      <td>1000-1099</td>\n",
       "      <td>RICHMOND</td>\n",
       "      <td>AVE</td>\n",
       "      <td>-</td>\n",
       "      <td>1A30</td>\n",
       "      <td>Drug Store or Medical Supply</td>\n",
       "      <td>07/04/2017</td>\n",
       "      <td>20</td>\n",
       "    </tr>\n",
       "    <tr>\n",
       "      <th>1111743</th>\n",
       "      <td>2018-01-21 23:00:00</td>\n",
       "      <td>1.0</td>\n",
       "      <td>Rape</td>\n",
       "      <td>9800-9899</td>\n",
       "      <td>FORUM PARK</td>\n",
       "      <td>DR</td>\n",
       "      <td>-</td>\n",
       "      <td>19G50</td>\n",
       "      <td>Apartment</td>\n",
       "      <td>01/21/2018</td>\n",
       "      <td>23</td>\n",
       "    </tr>\n",
       "  </tbody>\n",
       "</table>\n",
       "<p>4094 rows × 11 columns</p>\n",
       "</div>"
      ],
      "text/plain": [
       "                   date_time  offenses offense_type  block_range  \\\n",
       "250      2009-08-01 15:00:00       1.0        Theft    3500-3599   \n",
       "498      2009-08-02 01:00:00       1.0        Theft    5200-5299   \n",
       "515      2009-08-02 02:00:00       1.0        Theft    5600-5699   \n",
       "641      2009-08-02 14:00:00       1.0        Theft      900-999   \n",
       "717      2009-08-02 18:00:00       1.0        Theft    3600-3699   \n",
       "...                      ...       ...          ...          ...   \n",
       "1036363  2017-03-03 06:00:00       1.0        Theft    2400-2499   \n",
       "1037135  2017-02-26 17:00:00       1.0        Theft  14800-14899   \n",
       "1071678  2017-06-20 18:00:00       1.0         Rape  10600-10699   \n",
       "1102683  2017-07-04 20:00:00       1.0      Robbery    1000-1099   \n",
       "1111743  2018-01-21 23:00:00       1.0         Rape    9800-9899   \n",
       "\n",
       "           street_name type suffix   beat                       premise  \\\n",
       "250           TERMINAL   RD      N  21I30                           01A   \n",
       "498           PAGEWICK   DR      E   4F20                           20D   \n",
       "515      SANTA CHRISTI   DR      -  16E40                           20D   \n",
       "641            GESSNER   DR      -  20G50                           24J   \n",
       "717          WOODCHASE    -      -  20G10                           18A   \n",
       "...                ...  ...    ...    ...                           ...   \n",
       "1036363     WESTHEIMER   RD      -   1A40                     Apartment   \n",
       "1037135         GRISBY    -      -  20G60                     Apartment   \n",
       "1071678        SABO RD   RD      -  12D20     Road, Street, or Sidewalk   \n",
       "1102683       RICHMOND  AVE      -   1A30  Drug Store or Medical Supply   \n",
       "1111743     FORUM PARK   DR      -  19G50                     Apartment   \n",
       "\n",
       "                        date  hour  \n",
       "250        08/01/09 00:00:00    15  \n",
       "498        08/02/09 00:00:00     1  \n",
       "515        08/02/09 00:00:00     2  \n",
       "641        08/02/09 00:00:00    14  \n",
       "717        08/02/09 00:00:00    18  \n",
       "...                      ...   ...  \n",
       "1036363  2017-03-03 00:00:00     6  \n",
       "1037135  2017-02-26 00:00:00    17  \n",
       "1071678           06/20/2017    18  \n",
       "1102683           07/04/2017    20  \n",
       "1111743           01/21/2018    23  \n",
       "\n",
       "[4094 rows x 11 columns]"
      ]
     },
     "execution_count": 7,
     "metadata": {},
     "output_type": "execute_result"
    }
   ],
   "source": [
    "df.loc[df.duplicated(keep='first'),:]"
   ]
  },
  {
   "cell_type": "code",
   "execution_count": 8,
   "metadata": {},
   "outputs": [
    {
     "name": "stdout",
     "output_type": "stream",
     "text": [
      "<class 'pandas.core.frame.DataFrame'>\n",
      "RangeIndex: 1126465 entries, 0 to 1126464\n",
      "Data columns (total 11 columns):\n",
      " #   Column        Non-Null Count    Dtype  \n",
      "---  ------        --------------    -----  \n",
      " 0   date_time     1126295 non-null  object \n",
      " 1   offenses      1126465 non-null  float64\n",
      " 2   offense_type  1126465 non-null  object \n",
      " 3   block_range   1126465 non-null  object \n",
      " 4   street_name   1126465 non-null  object \n",
      " 5   type          1126465 non-null  object \n",
      " 6   suffix        1126465 non-null  object \n",
      " 7   beat          1126465 non-null  object \n",
      " 8   premise       1126465 non-null  object \n",
      " 9   date          1126465 non-null  object \n",
      " 10  hour          1126465 non-null  int64  \n",
      "dtypes: float64(1), int64(1), object(9)\n",
      "memory usage: 94.5+ MB\n"
     ]
    }
   ],
   "source": [
    "df.info()\n",
    "#1,126,465"
   ]
  },
  {
   "cell_type": "code",
   "execution_count": 9,
   "metadata": {},
   "outputs": [],
   "source": [
    "# convert date_time col to date_time\n",
    "df.date_time = pd.to_datetime(df.date_time)"
   ]
  },
  {
   "cell_type": "code",
   "execution_count": 10,
   "metadata": {},
   "outputs": [
    {
     "name": "stdout",
     "output_type": "stream",
     "text": [
      "<class 'pandas.core.frame.DataFrame'>\n",
      "RangeIndex: 1126465 entries, 0 to 1126464\n",
      "Data columns (total 11 columns):\n",
      " #   Column        Non-Null Count    Dtype         \n",
      "---  ------        --------------    -----         \n",
      " 0   date_time     1126295 non-null  datetime64[ns]\n",
      " 1   offenses      1126465 non-null  float64       \n",
      " 2   offense_type  1126465 non-null  object        \n",
      " 3   block_range   1126465 non-null  object        \n",
      " 4   street_name   1126465 non-null  object        \n",
      " 5   type          1126465 non-null  object        \n",
      " 6   suffix        1126465 non-null  object        \n",
      " 7   beat          1126465 non-null  object        \n",
      " 8   premise       1126465 non-null  object        \n",
      " 9   date          1126465 non-null  object        \n",
      " 10  hour          1126465 non-null  int64         \n",
      "dtypes: datetime64[ns](1), float64(1), int64(1), object(8)\n",
      "memory usage: 94.5+ MB\n"
     ]
    }
   ],
   "source": [
    "df.info()"
   ]
  },
  {
   "cell_type": "code",
   "execution_count": null,
   "metadata": {},
   "outputs": [],
   "source": []
  },
  {
   "cell_type": "code",
   "execution_count": 11,
   "metadata": {},
   "outputs": [
    {
     "data": {
      "text/html": [
       "<div>\n",
       "<style scoped>\n",
       "    .dataframe tbody tr th:only-of-type {\n",
       "        vertical-align: middle;\n",
       "    }\n",
       "\n",
       "    .dataframe tbody tr th {\n",
       "        vertical-align: top;\n",
       "    }\n",
       "\n",
       "    .dataframe thead th {\n",
       "        text-align: right;\n",
       "    }\n",
       "</style>\n",
       "<table border=\"1\" class=\"dataframe\">\n",
       "  <thead>\n",
       "    <tr style=\"text-align: right;\">\n",
       "      <th></th>\n",
       "      <th>date_time</th>\n",
       "      <th>offenses</th>\n",
       "      <th>offense_type</th>\n",
       "      <th>block_range</th>\n",
       "      <th>street_name</th>\n",
       "      <th>type</th>\n",
       "      <th>suffix</th>\n",
       "      <th>beat</th>\n",
       "      <th>premise</th>\n",
       "      <th>date</th>\n",
       "      <th>hour</th>\n",
       "    </tr>\n",
       "  </thead>\n",
       "  <tbody>\n",
       "    <tr>\n",
       "      <th>0</th>\n",
       "      <td>2009-08-01</td>\n",
       "      <td>1.0</td>\n",
       "      <td>Robbery</td>\n",
       "      <td>3000-3099</td>\n",
       "      <td>DURHAM</td>\n",
       "      <td>DR</td>\n",
       "      <td>N</td>\n",
       "      <td>3B30</td>\n",
       "      <td>210</td>\n",
       "      <td>08/01/09 00:00:00</td>\n",
       "      <td>0</td>\n",
       "    </tr>\n",
       "    <tr>\n",
       "      <th>1</th>\n",
       "      <td>2009-08-01</td>\n",
       "      <td>1.0</td>\n",
       "      <td>Robbery</td>\n",
       "      <td>500-599</td>\n",
       "      <td>SEMINAR</td>\n",
       "      <td>DR</td>\n",
       "      <td>-</td>\n",
       "      <td>6B60</td>\n",
       "      <td>20A</td>\n",
       "      <td>08/01/09 00:00:00</td>\n",
       "      <td>0</td>\n",
       "    </tr>\n",
       "    <tr>\n",
       "      <th>2</th>\n",
       "      <td>2009-08-01</td>\n",
       "      <td>1.0</td>\n",
       "      <td>Robbery</td>\n",
       "      <td>8300-8399</td>\n",
       "      <td>NORTH HOUSTON ROSSLYN</td>\n",
       "      <td>RD</td>\n",
       "      <td>-</td>\n",
       "      <td>6B30</td>\n",
       "      <td>18N</td>\n",
       "      <td>08/01/09 00:00:00</td>\n",
       "      <td>0</td>\n",
       "    </tr>\n",
       "    <tr>\n",
       "      <th>3</th>\n",
       "      <td>2009-08-01</td>\n",
       "      <td>1.0</td>\n",
       "      <td>Robbery</td>\n",
       "      <td>6300-6399</td>\n",
       "      <td>SKYLINE</td>\n",
       "      <td>DR</td>\n",
       "      <td>-</td>\n",
       "      <td>18F30</td>\n",
       "      <td>18A</td>\n",
       "      <td>08/01/09 00:00:00</td>\n",
       "      <td>0</td>\n",
       "    </tr>\n",
       "    <tr>\n",
       "      <th>4</th>\n",
       "      <td>2009-08-01</td>\n",
       "      <td>1.0</td>\n",
       "      <td>Robbery</td>\n",
       "      <td>5900-5999</td>\n",
       "      <td>FULTON</td>\n",
       "      <td>ST</td>\n",
       "      <td>-</td>\n",
       "      <td>2A20</td>\n",
       "      <td>18N</td>\n",
       "      <td>08/01/09 00:00:00</td>\n",
       "      <td>0</td>\n",
       "    </tr>\n",
       "  </tbody>\n",
       "</table>\n",
       "</div>"
      ],
      "text/plain": [
       "   date_time  offenses offense_type block_range            street_name type  \\\n",
       "0 2009-08-01       1.0      Robbery   3000-3099                 DURHAM   DR   \n",
       "1 2009-08-01       1.0      Robbery     500-599                SEMINAR   DR   \n",
       "2 2009-08-01       1.0      Robbery   8300-8399  NORTH HOUSTON ROSSLYN   RD   \n",
       "3 2009-08-01       1.0      Robbery   6300-6399                SKYLINE   DR   \n",
       "4 2009-08-01       1.0      Robbery   5900-5999                 FULTON   ST   \n",
       "\n",
       "  suffix   beat premise               date  hour  \n",
       "0      N   3B30     210  08/01/09 00:00:00     0  \n",
       "1      -   6B60     20A  08/01/09 00:00:00     0  \n",
       "2      -   6B30     18N  08/01/09 00:00:00     0  \n",
       "3      -  18F30     18A  08/01/09 00:00:00     0  \n",
       "4      -   2A20     18N  08/01/09 00:00:00     0  "
      ]
     },
     "execution_count": 11,
     "metadata": {},
     "output_type": "execute_result"
    }
   ],
   "source": [
    "df.head()"
   ]
  },
  {
   "cell_type": "code",
   "execution_count": 12,
   "metadata": {},
   "outputs": [
    {
     "data": {
      "text/plain": [
       "20A                                   83994\n",
       "20R                                   83598\n",
       "18A                                   74780\n",
       "Residence or House                    61238\n",
       "Apartment Parking Lot                 51280\n",
       "                                      ...  \n",
       "RES                                       2\n",
       "Escort Business                           2\n",
       "02V                                       1\n",
       "Vacant Jail or Prison                     1\n",
       "Contra-Flow, Managed, or HOV Lanes        1\n",
       "Name: premise, Length: 267, dtype: int64"
      ]
     },
     "execution_count": 12,
     "metadata": {},
     "output_type": "execute_result"
    }
   ],
   "source": [
    "df.premise.value_counts()"
   ]
  },
  {
   "cell_type": "code",
   "execution_count": null,
   "metadata": {},
   "outputs": [],
   "source": []
  },
  {
   "cell_type": "code",
   "execution_count": null,
   "metadata": {},
   "outputs": [],
   "source": []
  },
  {
   "cell_type": "code",
   "execution_count": null,
   "metadata": {},
   "outputs": [],
   "source": []
  },
  {
   "cell_type": "markdown",
   "metadata": {},
   "source": [
    "## Show null data"
   ]
  },
  {
   "cell_type": "code",
   "execution_count": null,
   "metadata": {},
   "outputs": [],
   "source": [
    "df.apply(lambda x: sum(x.isnull()))"
   ]
  },
  {
   "cell_type": "code",
   "execution_count": null,
   "metadata": {},
   "outputs": [],
   "source": [
    "# create null percentage of column as dataframe\n",
    "null_per_df = pd.DataFrame(df.isna().mean().round(4) * 100)\n",
    "# rename columns\n",
    "null_per_df.rename(columns={'index': 'col_name', 0: 'null_percent'}, inplace=True)\n",
    "\n",
    "# filter data <20% null values\n",
    "per_filter = null_per_df.null_percent<=90\n",
    "null_per_df[per_filter].sort_values(by='null_percent',ascending=False)"
   ]
  },
  {
   "cell_type": "code",
   "execution_count": 13,
   "metadata": {},
   "outputs": [
    {
     "data": {
      "image/png": "[encoded data removed]",
      "text/plain": [
       "<Figure size 1080x288 with 1 Axes>"
      ]
     },
     "metadata": {},
     "output_type": "display_data"
    }
   ],
   "source": [
    "plt.figure(figsize=(15,4))\n",
    "sns.heatmap(df.isnull(),yticklabels=False,cbar=False,cmap='viridis')\n",
    "plt.title('Missing data')\n",
    "plt.show()"
   ]
  },
  {
   "cell_type": "code",
   "execution_count": 14,
   "metadata": {},
   "outputs": [
    {
     "name": "stdout",
     "output_type": "stream",
     "text": [
      "<class 'pandas.core.frame.DataFrame'>\n",
      "RangeIndex: 1126465 entries, 0 to 1126464\n",
      "Data columns (total 11 columns):\n",
      " #   Column        Non-Null Count    Dtype         \n",
      "---  ------        --------------    -----         \n",
      " 0   date_time     1126295 non-null  datetime64[ns]\n",
      " 1   offenses      1126465 non-null  float64       \n",
      " 2   offense_type  1126465 non-null  object        \n",
      " 3   block_range   1126465 non-null  object        \n",
      " 4   street_name   1126465 non-null  object        \n",
      " 5   type          1126465 non-null  object        \n",
      " 6   suffix        1126465 non-null  object        \n",
      " 7   beat          1126465 non-null  object        \n",
      " 8   premise       1126465 non-null  object        \n",
      " 9   date          1126465 non-null  object        \n",
      " 10  hour          1126465 non-null  int64         \n",
      "dtypes: datetime64[ns](1), float64(1), int64(1), object(8)\n",
      "memory usage: 94.5+ MB\n"
     ]
    }
   ],
   "source": [
    "df.info()"
   ]
  },
  {
   "cell_type": "code",
   "execution_count": 15,
   "metadata": {},
   "outputs": [
    {
     "data": {
      "text/html": [
       "<div>\n",
       "<style scoped>\n",
       "    .dataframe tbody tr th:only-of-type {\n",
       "        vertical-align: middle;\n",
       "    }\n",
       "\n",
       "    .dataframe tbody tr th {\n",
       "        vertical-align: top;\n",
       "    }\n",
       "\n",
       "    .dataframe thead th {\n",
       "        text-align: right;\n",
       "    }\n",
       "</style>\n",
       "<table border=\"1\" class=\"dataframe\">\n",
       "  <thead>\n",
       "    <tr style=\"text-align: right;\">\n",
       "      <th></th>\n",
       "      <th>date_time</th>\n",
       "      <th>offenses</th>\n",
       "      <th>offense_type</th>\n",
       "      <th>block_range</th>\n",
       "      <th>street_name</th>\n",
       "      <th>type</th>\n",
       "      <th>suffix</th>\n",
       "      <th>beat</th>\n",
       "      <th>premise</th>\n",
       "      <th>date</th>\n",
       "      <th>hour</th>\n",
       "    </tr>\n",
       "  </thead>\n",
       "  <tbody>\n",
       "    <tr>\n",
       "      <th>0</th>\n",
       "      <td>2009-08-01</td>\n",
       "      <td>1.0</td>\n",
       "      <td>Robbery</td>\n",
       "      <td>3000-3099</td>\n",
       "      <td>DURHAM</td>\n",
       "      <td>DR</td>\n",
       "      <td>N</td>\n",
       "      <td>3B30</td>\n",
       "      <td>210</td>\n",
       "      <td>08/01/09 00:00:00</td>\n",
       "      <td>0</td>\n",
       "    </tr>\n",
       "    <tr>\n",
       "      <th>1</th>\n",
       "      <td>2009-08-01</td>\n",
       "      <td>1.0</td>\n",
       "      <td>Robbery</td>\n",
       "      <td>500-599</td>\n",
       "      <td>SEMINAR</td>\n",
       "      <td>DR</td>\n",
       "      <td>-</td>\n",
       "      <td>6B60</td>\n",
       "      <td>20A</td>\n",
       "      <td>08/01/09 00:00:00</td>\n",
       "      <td>0</td>\n",
       "    </tr>\n",
       "    <tr>\n",
       "      <th>2</th>\n",
       "      <td>2009-08-01</td>\n",
       "      <td>1.0</td>\n",
       "      <td>Robbery</td>\n",
       "      <td>8300-8399</td>\n",
       "      <td>NORTH HOUSTON ROSSLYN</td>\n",
       "      <td>RD</td>\n",
       "      <td>-</td>\n",
       "      <td>6B30</td>\n",
       "      <td>18N</td>\n",
       "      <td>08/01/09 00:00:00</td>\n",
       "      <td>0</td>\n",
       "    </tr>\n",
       "    <tr>\n",
       "      <th>3</th>\n",
       "      <td>2009-08-01</td>\n",
       "      <td>1.0</td>\n",
       "      <td>Robbery</td>\n",
       "      <td>6300-6399</td>\n",
       "      <td>SKYLINE</td>\n",
       "      <td>DR</td>\n",
       "      <td>-</td>\n",
       "      <td>18F30</td>\n",
       "      <td>18A</td>\n",
       "      <td>08/01/09 00:00:00</td>\n",
       "      <td>0</td>\n",
       "    </tr>\n",
       "    <tr>\n",
       "      <th>4</th>\n",
       "      <td>2009-08-01</td>\n",
       "      <td>1.0</td>\n",
       "      <td>Robbery</td>\n",
       "      <td>5900-5999</td>\n",
       "      <td>FULTON</td>\n",
       "      <td>ST</td>\n",
       "      <td>-</td>\n",
       "      <td>2A20</td>\n",
       "      <td>18N</td>\n",
       "      <td>08/01/09 00:00:00</td>\n",
       "      <td>0</td>\n",
       "    </tr>\n",
       "  </tbody>\n",
       "</table>\n",
       "</div>"
      ],
      "text/plain": [
       "   date_time  offenses offense_type block_range            street_name type  \\\n",
       "0 2009-08-01       1.0      Robbery   3000-3099                 DURHAM   DR   \n",
       "1 2009-08-01       1.0      Robbery     500-599                SEMINAR   DR   \n",
       "2 2009-08-01       1.0      Robbery   8300-8399  NORTH HOUSTON ROSSLYN   RD   \n",
       "3 2009-08-01       1.0      Robbery   6300-6399                SKYLINE   DR   \n",
       "4 2009-08-01       1.0      Robbery   5900-5999                 FULTON   ST   \n",
       "\n",
       "  suffix   beat premise               date  hour  \n",
       "0      N   3B30     210  08/01/09 00:00:00     0  \n",
       "1      -   6B60     20A  08/01/09 00:00:00     0  \n",
       "2      -   6B30     18N  08/01/09 00:00:00     0  \n",
       "3      -  18F30     18A  08/01/09 00:00:00     0  \n",
       "4      -   2A20     18N  08/01/09 00:00:00     0  "
      ]
     },
     "execution_count": 15,
     "metadata": {},
     "output_type": "execute_result"
    }
   ],
   "source": [
    "df.head()"
   ]
  },
  {
   "cell_type": "markdown",
   "metadata": {},
   "source": [
    "## Explore Each Column"
   ]
  },
  {
   "cell_type": "code",
   "execution_count": 16,
   "metadata": {},
   "outputs": [],
   "source": [
    "def create_new_cell(contents):\n",
    "    '''created new jupyter cells by inputing a list of columns\n",
    "    outputs'''\n",
    "    from IPython.core.getipython import get_ipython\n",
    "    shell = get_ipython()\n",
    "    payload = dict(\n",
    "        source='set_next_input',\n",
    "        #text=f'#column:{contents}\\ndf.{contents}.value_counts(dropna=False)[:10]'.format(contents),\n",
    "        text=f'# column:{contents}\\ndf.{contents}.value_counts(dropna=False)[:10]',\n",
    "        replace=False,)\n",
    "    shell.payload_manager.write_payload(payload, single=False)\n",
    "\n",
    "    \n",
    "def strip_col(col):\n",
    "    print(f'column:{col}')\n",
    "    print('before:{}'.format(len(df[col].value_counts(dropna=False))))\n",
    "    df[col] = df[col].str.strip()\n",
    "    print('after:{}'.format(len(df[col].value_counts(dropna=False))))    \n",
    "    \n",
    "def lower_col(col):\n",
    "    print(f'column:{col}')\n",
    "    print('before:{}'.format(len(df[col].value_counts(dropna=False))))\n",
    "    df[col] = df[col].str.lower()\n",
    "    print('after:{}'.format(len(df[col].value_counts(dropna=False))))       \n",
    "    \n",
    "    \n",
    "    \n",
    "def capital_col(col):\n",
    "    print(f'column:{col}')\n",
    "    print('before:{}'.format(len(df[col].value_counts(dropna=False))))\n",
    "    df[col] = df[col].str.capitalize()\n",
    "    print('after:{}'.format(len(df[col].value_counts(dropna=False))))      "
   ]
  },
  {
   "cell_type": "code",
   "execution_count": null,
   "metadata": {},
   "outputs": [],
   "source": [
    "col_list = df.columns.tolist()\n",
    "col_list"
   ]
  },
  {
   "cell_type": "code",
   "execution_count": null,
   "metadata": {},
   "outputs": [],
   "source": [
    "df.date.value_counts(dropna=False)"
   ]
  },
  {
   "cell_type": "code",
   "execution_count": null,
   "metadata": {},
   "outputs": [],
   "source": [
    "df.date_time.value_counts(dropna=False)"
   ]
  },
  {
   "cell_type": "code",
   "execution_count": null,
   "metadata": {},
   "outputs": [],
   "source": [
    "df.hour.value_counts(dropna=False)"
   ]
  },
  {
   "cell_type": "code",
   "execution_count": null,
   "metadata": {},
   "outputs": [],
   "source": []
  },
  {
   "cell_type": "code",
   "execution_count": null,
   "metadata": {},
   "outputs": [],
   "source": [
    "# # only run once\n",
    "# for col in col_list:\n",
    "#     create_new_cell(col)"
   ]
  },
  {
   "cell_type": "code",
   "execution_count": null,
   "metadata": {},
   "outputs": [],
   "source": [
    "# column:year\n",
    "df.year.value_counts(dropna=False)"
   ]
  },
  {
   "cell_type": "code",
   "execution_count": null,
   "metadata": {},
   "outputs": [],
   "source": [
    "# column:premise\n",
    "df.premise.value_counts(dropna=False)[:10]"
   ]
  },
  {
   "cell_type": "code",
   "execution_count": 17,
   "metadata": {},
   "outputs": [
    {
     "data": {
      "text/plain": [
       "267"
      ]
     },
     "execution_count": 17,
     "metadata": {},
     "output_type": "execute_result"
    }
   ],
   "source": [
    "# get total unique values\n",
    "len(df.premise.unique())"
   ]
  },
  {
   "cell_type": "code",
   "execution_count": 18,
   "metadata": {},
   "outputs": [
    {
     "data": {
      "text/plain": [
       "array(['210', '20A', '18N', '18A', '20R', '040', '250', '070', '20D',\n",
       "       '13R', '140', '11P', '03B', '09D', '18M', '240', '120', '05O',\n",
       "       '02B', '05Z', '080', '18G', '18H', '01A', '20V', '18O', '18T',\n",
       "       '05G', '18P', '20G', '18R', '060', '23S', '20L', '20P', '18U',\n",
       "       '18C', '05R', '05L', '20C', '05T', '11R', '18L', '05W', '24J',\n",
       "       '18W', '190', '13H', '13B', '14V', '05C', '170', '03S', '05H',\n",
       "       '13S', '20W', '24E', '100', '22E', '20M', '01P', '22P', '24C',\n",
       "       '22U', '24F', '05D', '20N', '18B', '09H', '13A', '22D', '11G',\n",
       "       '05E', '01B', '24T', '05V', '05M', '05X', '05F', '11S', '24P',\n",
       "       '19V', '05P', '11F', '24B', '09P', '24A', '02C', '24S', '05B',\n",
       "       '18S', '05S', '22M', '05Q', '05N', '09R', '22H', '02S', '24V',\n",
       "       '25V', '24G', '150', '160', '13T', '18D', '05A', '11C', '22C',\n",
       "       '20H', '09V', '11L', '04V', '---', '05Y', '21V', '11V', '12V',\n",
       "       '01K', '05U', '23C', 'RES', '22V', '25R', '01R', '01T', '24M',\n",
       "       '13C', '02V', '06', 'N', 'Residence or House', 'Driveway',\n",
       "       'Apartment Parking Lot', 'UNK', 'Bar or Night Club Parking Lot',\n",
       "       'Convenience Store', 'Vacant Storage Fac (Barn,Garage,Warehouse)',\n",
       "       'Department or Discount Store', 'Warehouse',\n",
       "       'Strip Business Center Parking Lot',\n",
       "       'Factory, Manufacturing, or Industrial', 'Other Parking Lot',\n",
       "       'Apartment', 'Vehicle/Auto Sales/Lease/Auto Parts Store',\n",
       "       'Road, Street, or Sidewalk', 'Vacant Building (Commercial)',\n",
       "       'Condominium', 'Miscellaneous Business (Non-Specific)',\n",
       "       'Convenience Store Parking Lot',\n",
       "       'Commercial Parking Lot or Garage', 'Garage or Carport',\n",
       "       'Multi-Plex Home (Duplex,Triplex Etc.)',\n",
       "       'Laundry or Dry Cleaners Parking Lot',\n",
       "       \"Physician, Doctor, Dentist's Office\", 'Commercial Building',\n",
       "       'Service or Gas Station',\n",
       "       'Vacant Single Occ Resd(House,Townhs,Dplex)',\n",
       "       'Grocery Store or Supermarket', 'Auto Repair', 'Bar or Night Club',\n",
       "       'Restaurant or Cafeteria', 'Restaurant or Cafeteria Parking Lot',\n",
       "       'Bus Stop', 'Bus Station',\n",
       "       'Church, Synagogue, or Temple Parking Lot',\n",
       "       'Drug Store or Medical Supply', 'Office Building',\n",
       "       'Grocery Store or Supermarket Parking Lot',\n",
       "       'Hotel, Motel, Inn, Etc.', 'Alley', 'Mall Common Area',\n",
       "       'Church, Synagogue, or Temple', 'Construction Site',\n",
       "       'Vacant Other Out Build/Monument/UnderConst',\n",
       "       'Vacant Grocery Store or Supermarket', 'Elementary School',\n",
       "       'Liquor Store', 'Laundry, Dry Cleaners, Washaterias',\n",
       "       'Vacant Other Residential (Apartment,Dorms)',\n",
       "       'Parks and Recreation, Zoo, Swimming Pool', 'Hospital',\n",
       "       'Specialty Store (Non-Specific)', 'Government or Public Building',\n",
       "       'Amusement Park, Bowling Alley, Skate Rink',\n",
       "       'Hospital Parking Lot', 'Daycare, Child Care, or Kindergarten',\n",
       "       'University or College',\n",
       "       'Toys, Arts Craft,Musical, Bike,Pet Stores',\n",
       "       'Hotel or Motel Parking Lot', 'Mall Parking Lot', 'Body Shop',\n",
       "       'Gym, Recreat, Club House, Indoor Pool, Spa',\n",
       "       'Pawn, Resale Shop, or Flea Market',\n",
       "       'Savings and Loan Institutions', 'Other, Unknown, or Not Listed',\n",
       "       'Barber And Beauty Shops', 'Car Wash',\n",
       "       'Field, Woods, Forest, Park', 'Check Cashing Places',\n",
       "       'Pool Hall or Game Room', 'Adult Book Store or Newsstand',\n",
       "       'Furniture, Appliances, Radios, TV Store',\n",
       "       'Rental Storage Facility',\n",
       "       'Theatres, Dinner Theaters, Auditoriums', 'Park and Ride Terminal',\n",
       "       'Mobile Home', 'Bank', 'Private School', 'Clothing Store',\n",
       "       'Electronics Store, Electrical Supplies', 'Video Rental & Sales',\n",
       "       'Jewelry Stores', 'Sexually Oriented Business Parking Lot',\n",
       "       'Apartment Laundry', 'Rehabilitation Center', 'Police Station',\n",
       "       'Light Rail (Metro Rail) Vehicle', 'Nursing Home',\n",
       "       'Light Rail Platform', 'Book, Record, Stationary, Office Supplies',\n",
       "       'Stadium, Sports Arena, Race Track', 'Sexually Oriented Club',\n",
       "       'Bank or Savings Institution Parking Lot',\n",
       "       'Convention Center or Exhibit Halls', 'Libraries, Museums',\n",
       "       'Railroad Track or Right Of Way', 'Apartment Rental Office',\n",
       "       'Airport Terminal', 'Liquor Store Parking Lot', 'Middle School',\n",
       "       'Commercial Or Training School', 'Tollway', 'High Rise',\n",
       "       'Freeway Service Road', 'Highway or Freeway',\n",
       "       'Vacant School or College/University',\n",
       "       'Maintenance or Building Services',\n",
       "       'Utility Company, Electric, Gas, Water',\n",
       "       'Vacant Government or Public Building',\n",
       "       'Lake, Pond, Waterway, Bayou, River',\n",
       "       'Marine Vehicle Sales, Boats, Sailboats', 'High School',\n",
       "       'Jail or Prison', 'Vacant Restaurant', 'Fire Station',\n",
       "       'Sporting Goods or Gun Shops', 'Credit Union',\n",
       "       'Garden Supply, Nursery, or Florist',\n",
       "       'Social Services or Public Charities', 'Vacant Hotel, Motel, Etc.',\n",
       "       'Train (Not Metro) Terminal', 'Contra-Flow, Managed, or HOV Lanes',\n",
       "       'Vacant Church, Synagogue, or Temple',\n",
       "       'Vacant Industrial or Manufacturing Blding', 'Vacant Bank',\n",
       "       'Vacant Hospital', 'Package Facility (FedEx,UPS,DHL)',\n",
       "       'Vacant Jail or Prison', 'Gym, Recreat, Club House, Indoor Pool',\n",
       "       'Adult Novelty Store', 'Illicit Massage Parlor or Spa',\n",
       "       'Not Listed', 'Adult Theater/Arcade', 'Modeling Studio', 'Cantina',\n",
       "       ' Not Listed', 'Escort Business'], dtype=object)"
      ]
     },
     "execution_count": 18,
     "metadata": {},
     "output_type": "execute_result"
    }
   ],
   "source": [
    "df.premise.unique()"
   ]
  },
  {
   "cell_type": "code",
   "execution_count": null,
   "metadata": {},
   "outputs": [],
   "source": [
    "# get only values that are less than 4 in length\n",
    "df[df.premise.str.len()<4]"
   ]
  },
  {
   "cell_type": "code",
   "execution_count": null,
   "metadata": {},
   "outputs": [],
   "source": [
    "# only the premise column\n",
    "df[df.premise.str.len()<4].premise"
   ]
  },
  {
   "cell_type": "code",
   "execution_count": null,
   "metadata": {},
   "outputs": [],
   "source": [
    "# unique values\n",
    "df[df.premise.str.len()<4].premise.unique()"
   ]
  },
  {
   "cell_type": "code",
   "execution_count": null,
   "metadata": {},
   "outputs": [],
   "source": [
    "limited = df[df.premise.str.len()<4]\n",
    "limited.head()"
   ]
  },
  {
   "cell_type": "code",
   "execution_count": null,
   "metadata": {},
   "outputs": [],
   "source": [
    "limited.info()"
   ]
  },
  {
   "cell_type": "code",
   "execution_count": null,
   "metadata": {},
   "outputs": [],
   "source": [
    "limited.premise.value_counts()"
   ]
  },
  {
   "cell_type": "code",
   "execution_count": null,
   "metadata": {},
   "outputs": [],
   "source": [
    "limited.year.value_counts()"
   ]
  },
  {
   "cell_type": "code",
   "execution_count": null,
   "metadata": {},
   "outputs": [],
   "source": []
  },
  {
   "cell_type": "code",
   "execution_count": null,
   "metadata": {},
   "outputs": [],
   "source": []
  },
  {
   "cell_type": "markdown",
   "metadata": {},
   "source": [
    "# load premise dataset"
   ]
  },
  {
   "cell_type": "code",
   "execution_count": null,
   "metadata": {},
   "outputs": [],
   "source": [
    "ls ../../data/raw/crime_data/"
   ]
  },
  {
   "cell_type": "code",
   "execution_count": 23,
   "metadata": {},
   "outputs": [
    {
     "data": {
      "text/plain": [
       "'../../data/raw/crime_data/premise_codes.csv'"
      ]
     },
     "execution_count": 23,
     "metadata": {},
     "output_type": "execute_result"
    }
   ],
   "source": [
    "file = 'premise_codes.csv'\n",
    "raw_directory = os.path.join('..','..','data','raw','crime_data',f'{file}')\n",
    "raw_directory"
   ]
  },
  {
   "cell_type": "code",
   "execution_count": 24,
   "metadata": {},
   "outputs": [
    {
     "data": {
      "text/html": [
       "<div>\n",
       "<style scoped>\n",
       "    .dataframe tbody tr th:only-of-type {\n",
       "        vertical-align: middle;\n",
       "    }\n",
       "\n",
       "    .dataframe tbody tr th {\n",
       "        vertical-align: top;\n",
       "    }\n",
       "\n",
       "    .dataframe thead th {\n",
       "        text-align: right;\n",
       "    }\n",
       "</style>\n",
       "<table border=\"1\" class=\"dataframe\">\n",
       "  <thead>\n",
       "    <tr style=\"text-align: right;\">\n",
       "      <th></th>\n",
       "      <th>premise_type</th>\n",
       "      <th>premise_description</th>\n",
       "    </tr>\n",
       "  </thead>\n",
       "  <tbody>\n",
       "    <tr>\n",
       "      <th>0</th>\n",
       "      <td>01A</td>\n",
       "      <td>AIRPORT TERMINAL</td>\n",
       "    </tr>\n",
       "    <tr>\n",
       "      <th>1</th>\n",
       "      <td>01B</td>\n",
       "      <td>BUS STATION</td>\n",
       "    </tr>\n",
       "    <tr>\n",
       "      <th>2</th>\n",
       "      <td>01K</td>\n",
       "      <td>RAILROAD TRACK/RIGHT OF WAY</td>\n",
       "    </tr>\n",
       "    <tr>\n",
       "      <th>3</th>\n",
       "      <td>01P</td>\n",
       "      <td>PARK &amp; RIDE TERMINAL</td>\n",
       "    </tr>\n",
       "    <tr>\n",
       "      <th>4</th>\n",
       "      <td>01R</td>\n",
       "      <td>LIGHT RAIL VEHICLE</td>\n",
       "    </tr>\n",
       "  </tbody>\n",
       "</table>\n",
       "</div>"
      ],
      "text/plain": [
       "  premise_type          premise_description\n",
       "0          01A             AIRPORT TERMINAL\n",
       "1          01B                  BUS STATION\n",
       "2          01K  RAILROAD TRACK/RIGHT OF WAY\n",
       "3          01P         PARK & RIDE TERMINAL\n",
       "4          01R           LIGHT RAIL VEHICLE"
      ]
     },
     "execution_count": 24,
     "metadata": {},
     "output_type": "execute_result"
    }
   ],
   "source": [
    "premise_df = pd.read_csv(raw_directory)\n",
    "premise_df.columns = premise_df.columns.str.strip().str.lower().str.replace('-', '_').str.replace(' ', '_')\n",
    "premise_df.head()"
   ]
  },
  {
   "cell_type": "code",
   "execution_count": null,
   "metadata": {},
   "outputs": [],
   "source": [
    "\n",
    "\n",
    "\n",
    "\n",
    "premise_df.columns = premise_df.columns.str.strip().str.lower().str.replace('-', '_').str.replace(' ', '_').str.replace('(', '').str.replace(')', '')\n",
    "# rename premise column for easy merge\n",
    "premise_df.rename(columns={'premise_type': 'premise',}, inplace=True)\n",
    "premise_df.head()"
   ]
  },
  {
   "cell_type": "code",
   "execution_count": null,
   "metadata": {},
   "outputs": [],
   "source": [
    "# # rename premise column for easy merge\n",
    "# premise_df.rename(columns={'premise_type': 'premise',}, inplace=True)\n",
    "# premise_df.head()"
   ]
  },
  {
   "cell_type": "code",
   "execution_count": null,
   "metadata": {},
   "outputs": [],
   "source": []
  },
  {
   "cell_type": "code",
   "execution_count": null,
   "metadata": {},
   "outputs": [],
   "source": []
  },
  {
   "cell_type": "code",
   "execution_count": null,
   "metadata": {},
   "outputs": [],
   "source": [
    "# create null percentage of column as dataframe\n",
    "null_per_df = pd.DataFrame(premise_df.isna().mean().round(4) * 100)\n",
    "# rename columns\n",
    "null_per_df.rename(columns={'index': 'col_name', 0: 'null_percent'}, inplace=True)\n",
    "\n",
    "# filter data <20% null values\n",
    "per_filter = null_per_df.null_percent<=90\n",
    "null_per_df[per_filter].sort_values(by='null_percent',ascending=False)"
   ]
  },
  {
   "cell_type": "code",
   "execution_count": null,
   "metadata": {},
   "outputs": [],
   "source": [
    "premise_df.head()"
   ]
  },
  {
   "cell_type": "code",
   "execution_count": null,
   "metadata": {},
   "outputs": [],
   "source": []
  },
  {
   "cell_type": "markdown",
   "metadata": {},
   "source": [
    "## merge with dataframe"
   ]
  },
  {
   "cell_type": "code",
   "execution_count": null,
   "metadata": {},
   "outputs": [],
   "source": [
    "# merge with premise df\n",
    "df = pd.merge(df,premise_df, on='premise', how='outer')\n",
    "df.info()"
   ]
  },
  {
   "cell_type": "code",
   "execution_count": null,
   "metadata": {},
   "outputs": [],
   "source": [
    "df.head()"
   ]
  },
  {
   "cell_type": "code",
   "execution_count": null,
   "metadata": {},
   "outputs": [],
   "source": []
  },
  {
   "cell_type": "code",
   "execution_count": null,
   "metadata": {},
   "outputs": [],
   "source": []
  },
  {
   "cell_type": "code",
   "execution_count": null,
   "metadata": {},
   "outputs": [],
   "source": []
  },
  {
   "cell_type": "code",
   "execution_count": null,
   "metadata": {},
   "outputs": [],
   "source": [
    "df.premise_description.value_counts(dropna=False)"
   ]
  },
  {
   "cell_type": "code",
   "execution_count": null,
   "metadata": {},
   "outputs": [],
   "source": [
    "df[['premise','premise_description']]"
   ]
  },
  {
   "cell_type": "code",
   "execution_count": null,
   "metadata": {},
   "outputs": [],
   "source": [
    "df.premise.value_counts()"
   ]
  },
  {
   "cell_type": "code",
   "execution_count": null,
   "metadata": {},
   "outputs": [],
   "source": [
    "# merge ,\n",
    "# if value is null in premise_descriptiom, copy the matching row of premise to it\n",
    "df.loc[df['premise_description'].isnull(),'premise_description'] = df['premise']"
   ]
  },
  {
   "cell_type": "code",
   "execution_count": null,
   "metadata": {},
   "outputs": [],
   "source": [
    "df.head()"
   ]
  },
  {
   "cell_type": "code",
   "execution_count": null,
   "metadata": {},
   "outputs": [],
   "source": []
  },
  {
   "cell_type": "code",
   "execution_count": null,
   "metadata": {},
   "outputs": [],
   "source": [
    "df[['premise','premise_description']]"
   ]
  },
  {
   "cell_type": "code",
   "execution_count": null,
   "metadata": {},
   "outputs": [],
   "source": [
    "len(df.premise_description.unique())"
   ]
  },
  {
   "cell_type": "code",
   "execution_count": null,
   "metadata": {},
   "outputs": [],
   "source": [
    "df.premise_description.value_counts()"
   ]
  },
  {
   "cell_type": "code",
   "execution_count": null,
   "metadata": {},
   "outputs": [],
   "source": [
    "strip_col('premise_description')"
   ]
  },
  {
   "cell_type": "code",
   "execution_count": null,
   "metadata": {},
   "outputs": [],
   "source": [
    "lower_col('premise_description')"
   ]
  },
  {
   "cell_type": "code",
   "execution_count": null,
   "metadata": {},
   "outputs": [],
   "source": [
    "df.premise_description = df.premise_description.str.replace('/', ' ').str.replace(',', ' ').str.replace('(', '').str.replace(')', '').str.strip()"
   ]
  },
  {
   "cell_type": "code",
   "execution_count": null,
   "metadata": {},
   "outputs": [],
   "source": [
    "len(df.premise_description.value_counts())"
   ]
  },
  {
   "cell_type": "code",
   "execution_count": null,
   "metadata": {},
   "outputs": [],
   "source": [
    "df[df.year.isna()]"
   ]
  },
  {
   "cell_type": "code",
   "execution_count": null,
   "metadata": {},
   "outputs": [],
   "source": [
    "df = df[~df.year.isna()]"
   ]
  },
  {
   "cell_type": "code",
   "execution_count": null,
   "metadata": {},
   "outputs": [],
   "source": [
    "df.info()"
   ]
  },
  {
   "cell_type": "code",
   "execution_count": null,
   "metadata": {},
   "outputs": [],
   "source": [
    "df.premise_description.value_counts()"
   ]
  },
  {
   "cell_type": "code",
   "execution_count": null,
   "metadata": {},
   "outputs": [],
   "source": [
    "df[df.premise_description.str.len()<=4].premise_description.value_counts()"
   ]
  },
  {
   "cell_type": "code",
   "execution_count": null,
   "metadata": {},
   "outputs": [],
   "source": []
  },
  {
   "cell_type": "markdown",
   "metadata": {},
   "source": [
    "# find most common workd"
   ]
  },
  {
   "cell_type": "code",
   "execution_count": null,
   "metadata": {},
   "outputs": [],
   "source": [
    "from collections import Counter\n",
    "Counter(\" \".join(df.premise_description).split()).most_common(50)"
   ]
  },
  {
   "cell_type": "code",
   "execution_count": null,
   "metadata": {},
   "outputs": [],
   "source": []
  },
  {
   "cell_type": "code",
   "execution_count": null,
   "metadata": {},
   "outputs": [],
   "source": [
    "len(df.premise_description.value_counts(dropna=False))"
   ]
  },
  {
   "cell_type": "code",
   "execution_count": null,
   "metadata": {},
   "outputs": [],
   "source": []
  },
  {
   "cell_type": "code",
   "execution_count": null,
   "metadata": {},
   "outputs": [],
   "source": [
    "df[df.date_time.isna()]"
   ]
  },
  {
   "cell_type": "code",
   "execution_count": null,
   "metadata": {},
   "outputs": [],
   "source": [
    "# only non null values\n",
    "df = df[~df.date_time.isna()]"
   ]
  },
  {
   "cell_type": "code",
   "execution_count": null,
   "metadata": {},
   "outputs": [],
   "source": [
    "df.head()"
   ]
  },
  {
   "cell_type": "code",
   "execution_count": null,
   "metadata": {},
   "outputs": [],
   "source": [
    "df.info()"
   ]
  },
  {
   "cell_type": "code",
   "execution_count": null,
   "metadata": {},
   "outputs": [],
   "source": [
    "df['offenses'] = df['offenses'].astype('int64')\n",
    "df['year'] = df['year'].astype('int64')\n",
    "df['hour'] = df['hour'].astype('int64')"
   ]
  },
  {
   "cell_type": "code",
   "execution_count": null,
   "metadata": {},
   "outputs": [],
   "source": [
    "df.head()"
   ]
  },
  {
   "cell_type": "code",
   "execution_count": null,
   "metadata": {},
   "outputs": [],
   "source": [
    "df.apply(lambda x: sum(x.isnull()))"
   ]
  },
  {
   "cell_type": "code",
   "execution_count": null,
   "metadata": {},
   "outputs": [],
   "source": []
  },
  {
   "cell_type": "code",
   "execution_count": null,
   "metadata": {},
   "outputs": [],
   "source": []
  },
  {
   "cell_type": "code",
   "execution_count": null,
   "metadata": {},
   "outputs": [],
   "source": [
    "# column:beat\n",
    "df.beat.value_counts(dropna=False)"
   ]
  },
  {
   "cell_type": "code",
   "execution_count": null,
   "metadata": {},
   "outputs": [],
   "source": [
    "df.beat.unique()"
   ]
  },
  {
   "cell_type": "code",
   "execution_count": null,
   "metadata": {},
   "outputs": [],
   "source": [
    "# replace extra ' with empty space\n",
    "df['beat'] = df.beat.str.replace(\"'\", \" \")"
   ]
  },
  {
   "cell_type": "code",
   "execution_count": null,
   "metadata": {},
   "outputs": [],
   "source": [
    "strip_col('beat')"
   ]
  },
  {
   "cell_type": "code",
   "execution_count": null,
   "metadata": {},
   "outputs": [],
   "source": [
    "df.beat.unique()"
   ]
  },
  {
   "cell_type": "code",
   "execution_count": null,
   "metadata": {},
   "outputs": [],
   "source": [
    "df.head()"
   ]
  },
  {
   "cell_type": "code",
   "execution_count": null,
   "metadata": {},
   "outputs": [],
   "source": []
  },
  {
   "cell_type": "code",
   "execution_count": null,
   "metadata": {},
   "outputs": [],
   "source": []
  },
  {
   "cell_type": "code",
   "execution_count": null,
   "metadata": {},
   "outputs": [],
   "source": []
  },
  {
   "cell_type": "code",
   "execution_count": null,
   "metadata": {},
   "outputs": [],
   "source": [
    "# column:suffix\n",
    "df.suffix.value_counts(dropna=False)"
   ]
  },
  {
   "cell_type": "code",
   "execution_count": null,
   "metadata": {},
   "outputs": [],
   "source": [
    "# column:type\n",
    "df.type.value_counts(dropna=False)"
   ]
  },
  {
   "cell_type": "code",
   "execution_count": null,
   "metadata": {},
   "outputs": [],
   "source": []
  },
  {
   "cell_type": "code",
   "execution_count": null,
   "metadata": {},
   "outputs": [],
   "source": [
    "strip_col('type')"
   ]
  },
  {
   "cell_type": "code",
   "execution_count": null,
   "metadata": {},
   "outputs": [],
   "source": [
    "lower_col('type')"
   ]
  },
  {
   "cell_type": "markdown",
   "metadata": {},
   "source": [
    "# Street Name\n",
    "- lowercase all to merge"
   ]
  },
  {
   "cell_type": "code",
   "execution_count": null,
   "metadata": {},
   "outputs": [],
   "source": [
    "# column:street_name\n",
    "df.street_name.value_counts(dropna=False)[:10]"
   ]
  },
  {
   "cell_type": "code",
   "execution_count": null,
   "metadata": {},
   "outputs": [],
   "source": [
    "df[df.street_name.str.contains('NAN')].street_name.unique().tolist()"
   ]
  },
  {
   "cell_type": "code",
   "execution_count": null,
   "metadata": {},
   "outputs": [],
   "source": [
    "test = df.copy()"
   ]
  },
  {
   "cell_type": "code",
   "execution_count": null,
   "metadata": {},
   "outputs": [],
   "source": [
    "df.street_name = df.street_name.replace('NAN',np.nan)"
   ]
  },
  {
   "cell_type": "code",
   "execution_count": null,
   "metadata": {},
   "outputs": [],
   "source": [
    "df[df.street_name.str.contains('NAN')].street_name.unique().tolist()"
   ]
  },
  {
   "cell_type": "code",
   "execution_count": null,
   "metadata": {},
   "outputs": [],
   "source": [
    "df.info()"
   ]
  },
  {
   "cell_type": "code",
   "execution_count": null,
   "metadata": {},
   "outputs": [],
   "source": [
    "df[df.street_name.isna()]"
   ]
  },
  {
   "cell_type": "code",
   "execution_count": null,
   "metadata": {},
   "outputs": [],
   "source": [
    "# CHANGE Nan with unk"
   ]
  },
  {
   "cell_type": "code",
   "execution_count": null,
   "metadata": {},
   "outputs": [],
   "source": [
    "df.street_name.fillna('UNK',inplace=True)"
   ]
  },
  {
   "cell_type": "code",
   "execution_count": null,
   "metadata": {},
   "outputs": [],
   "source": [
    "df[df.street_name.isna()]"
   ]
  },
  {
   "cell_type": "code",
   "execution_count": null,
   "metadata": {},
   "outputs": [],
   "source": []
  },
  {
   "cell_type": "code",
   "execution_count": null,
   "metadata": {},
   "outputs": [],
   "source": []
  },
  {
   "cell_type": "code",
   "execution_count": null,
   "metadata": {},
   "outputs": [],
   "source": [
    "strip_col('street_name')"
   ]
  },
  {
   "cell_type": "code",
   "execution_count": null,
   "metadata": {},
   "outputs": [],
   "source": [
    "capital_col('street_name')"
   ]
  },
  {
   "cell_type": "code",
   "execution_count": null,
   "metadata": {},
   "outputs": [],
   "source": [
    "df.street_name"
   ]
  },
  {
   "cell_type": "code",
   "execution_count": null,
   "metadata": {},
   "outputs": [],
   "source": [
    "# column:block_range\n",
    "df.block_range.value_counts(dropna=False)[:30]"
   ]
  },
  {
   "cell_type": "code",
   "execution_count": null,
   "metadata": {},
   "outputs": [],
   "source": [
    "strip_col('block_range')"
   ]
  },
  {
   "cell_type": "code",
   "execution_count": null,
   "metadata": {},
   "outputs": [],
   "source": [
    "# column:offense_type\n",
    "df.offense_type.value_counts(dropna=False)[:10]"
   ]
  },
  {
   "cell_type": "code",
   "execution_count": null,
   "metadata": {},
   "outputs": [],
   "source": [
    "# combine Auto Theft & AutoTheft\n",
    "# join Auto Theft & AutoTheft\n",
    "df.offense_type = df.offense_type.replace('AutoTheft','Auto Theft')"
   ]
  },
  {
   "cell_type": "code",
   "execution_count": null,
   "metadata": {},
   "outputs": [],
   "source": [
    "# column:offense_type\n",
    "df.offense_type.value_counts(dropna=False)[:10]"
   ]
  },
  {
   "cell_type": "code",
   "execution_count": null,
   "metadata": {},
   "outputs": [],
   "source": []
  },
  {
   "cell_type": "markdown",
   "metadata": {},
   "source": [
    "## Find out where the '1' comes from"
   ]
  },
  {
   "cell_type": "code",
   "execution_count": null,
   "metadata": {},
   "outputs": [],
   "source": [
    "df[df.offense_type.str.contains('1')]"
   ]
  },
  {
   "cell_type": "markdown",
   "metadata": {},
   "source": [
    "# remove it"
   ]
  },
  {
   "cell_type": "code",
   "execution_count": null,
   "metadata": {},
   "outputs": [],
   "source": [
    "# show the oposite of result of '1'. ie only show values that are NOT '1'\n",
    "# 1,126,346\n",
    "df = df[~df.offense_type.str.contains('1')]"
   ]
  },
  {
   "cell_type": "code",
   "execution_count": null,
   "metadata": {},
   "outputs": [],
   "source": [
    "df[df.offense_type.str.contains('1')]"
   ]
  },
  {
   "cell_type": "code",
   "execution_count": null,
   "metadata": {},
   "outputs": [],
   "source": [
    "# column:offense_type\n",
    "df.offense_type.value_counts(dropna=False)[:10]"
   ]
  },
  {
   "cell_type": "code",
   "execution_count": null,
   "metadata": {},
   "outputs": [],
   "source": []
  },
  {
   "cell_type": "code",
   "execution_count": null,
   "metadata": {},
   "outputs": [],
   "source": [
    "# column:offenses\n",
    "df.offenses.value_counts(dropna=False)[:20]"
   ]
  },
  {
   "cell_type": "code",
   "execution_count": null,
   "metadata": {},
   "outputs": [],
   "source": []
  },
  {
   "cell_type": "code",
   "execution_count": null,
   "metadata": {},
   "outputs": [],
   "source": [
    "# column:date_time\n",
    "df.date_time.value_counts(dropna=False)[:10]"
   ]
  },
  {
   "cell_type": "code",
   "execution_count": null,
   "metadata": {},
   "outputs": [],
   "source": [
    "df = df.reset_index(drop=True)"
   ]
  },
  {
   "cell_type": "code",
   "execution_count": null,
   "metadata": {},
   "outputs": [],
   "source": [
    "df.head()"
   ]
  },
  {
   "cell_type": "code",
   "execution_count": null,
   "metadata": {},
   "outputs": [],
   "source": [
    "df.info()\n",
    "# 1,122,377"
   ]
  },
  {
   "cell_type": "code",
   "execution_count": null,
   "metadata": {},
   "outputs": [],
   "source": [
    "df.head()"
   ]
  },
  {
   "cell_type": "code",
   "execution_count": null,
   "metadata": {},
   "outputs": [],
   "source": [
    "df.hour.value_counts()"
   ]
  },
  {
   "cell_type": "code",
   "execution_count": null,
   "metadata": {},
   "outputs": [],
   "source": [
    "t = df[df.hour ==24]\n",
    "d = df[df.hour ==0]\n"
   ]
  },
  {
   "cell_type": "code",
   "execution_count": null,
   "metadata": {},
   "outputs": [],
   "source": [
    "df.date_time.min()"
   ]
  },
  {
   "cell_type": "code",
   "execution_count": null,
   "metadata": {},
   "outputs": [],
   "source": []
  },
  {
   "cell_type": "code",
   "execution_count": null,
   "metadata": {},
   "outputs": [],
   "source": [
    "d.date_time.dt.hour"
   ]
  },
  {
   "cell_type": "code",
   "execution_count": null,
   "metadata": {},
   "outputs": [],
   "source": [
    "t.date_time.dt.hour"
   ]
  },
  {
   "cell_type": "code",
   "execution_count": null,
   "metadata": {},
   "outputs": [],
   "source": [
    "t.date_time.dt.day"
   ]
  },
  {
   "cell_type": "code",
   "execution_count": null,
   "metadata": {},
   "outputs": [],
   "source": [
    "t"
   ]
  },
  {
   "cell_type": "code",
   "execution_count": null,
   "metadata": {},
   "outputs": [],
   "source": []
  },
  {
   "cell_type": "markdown",
   "metadata": {},
   "source": [
    "# Select ony dates from `2009` to `2018`\n"
   ]
  },
  {
   "cell_type": "code",
   "execution_count": null,
   "metadata": {},
   "outputs": [],
   "source": [
    "df.date_time.min()"
   ]
  },
  {
   "cell_type": "code",
   "execution_count": null,
   "metadata": {},
   "outputs": [],
   "source": [
    "df.date_time.max()"
   ]
  },
  {
   "cell_type": "code",
   "execution_count": null,
   "metadata": {},
   "outputs": [],
   "source": []
  },
  {
   "cell_type": "code",
   "execution_count": null,
   "metadata": {},
   "outputs": [],
   "source": [
    "#greater than the start date and smaller than the end date\n",
    "start_date = '2009-01-01' #Jan 01 2009\n",
    "end_date = '2018-12-31' # may 31 2018\n",
    "mask = (df['date_time'] > start_date) & (df['date_time'] <= end_date)"
   ]
  },
  {
   "cell_type": "code",
   "execution_count": null,
   "metadata": {},
   "outputs": [],
   "source": [
    "df2 = df.loc[mask].reset_index(drop=True)\n",
    "df2.info()\n",
    "#  1,121,231"
   ]
  },
  {
   "cell_type": "code",
   "execution_count": null,
   "metadata": {},
   "outputs": [],
   "source": [
    "df2.head()"
   ]
  },
  {
   "cell_type": "code",
   "execution_count": null,
   "metadata": {},
   "outputs": [],
   "source": [
    "df2.date_time.min()"
   ]
  },
  {
   "cell_type": "code",
   "execution_count": null,
   "metadata": {},
   "outputs": [],
   "source": [
    "df2.date_time.max()"
   ]
  },
  {
   "cell_type": "markdown",
   "metadata": {},
   "source": [
    "# check for nulls befor saving"
   ]
  },
  {
   "cell_type": "code",
   "execution_count": null,
   "metadata": {},
   "outputs": [],
   "source": [
    "df2.apply(lambda x: sum(x.isnull()))"
   ]
  },
  {
   "cell_type": "code",
   "execution_count": null,
   "metadata": {},
   "outputs": [],
   "source": [
    "df2.info()"
   ]
  },
  {
   "cell_type": "code",
   "execution_count": null,
   "metadata": {},
   "outputs": [],
   "source": [
    "df2.iloc[202620]"
   ]
  },
  {
   "cell_type": "code",
   "execution_count": null,
   "metadata": {},
   "outputs": [],
   "source": []
  },
  {
   "cell_type": "code",
   "execution_count": null,
   "metadata": {},
   "outputs": [],
   "source": [
    "df2.loc[df2['date_time'] == '2011-04-30 06:00:00']\n"
   ]
  },
  {
   "cell_type": "code",
   "execution_count": null,
   "metadata": {},
   "outputs": [],
   "source": [
    "df2.loc[df2.duplicated(keep='first'),:]"
   ]
  },
  {
   "cell_type": "code",
   "execution_count": null,
   "metadata": {},
   "outputs": [],
   "source": []
  },
  {
   "cell_type": "code",
   "execution_count": null,
   "metadata": {},
   "outputs": [],
   "source": []
  },
  {
   "cell_type": "code",
   "execution_count": null,
   "metadata": {},
   "outputs": [],
   "source": []
  },
  {
   "cell_type": "code",
   "execution_count": null,
   "metadata": {},
   "outputs": [],
   "source": []
  },
  {
   "cell_type": "code",
   "execution_count": null,
   "metadata": {},
   "outputs": [],
   "source": []
  },
  {
   "cell_type": "code",
   "execution_count": null,
   "metadata": {},
   "outputs": [],
   "source": []
  },
  {
   "cell_type": "code",
   "execution_count": null,
   "metadata": {},
   "outputs": [],
   "source": [
    "df[df.street_name.str.contains('nan')].street_name.unique().tolist()"
   ]
  },
  {
   "cell_type": "code",
   "execution_count": null,
   "metadata": {},
   "outputs": [],
   "source": [
    "df[df.street_name.str.contains('nan st')]"
   ]
  },
  {
   "cell_type": "markdown",
   "metadata": {},
   "source": [
    "# Save dataframe"
   ]
  },
  {
   "cell_type": "code",
   "execution_count": null,
   "metadata": {},
   "outputs": [],
   "source": [
    "def s3_files_to_df(s3_files_path):\n",
    "    ''' load s3 file path from wr result\n",
    "    returns a dataframe of concat files '''\n",
    "    df_list = []\n",
    "    for i in wr.s3.list_objects(s3_files_path):\n",
    "        temp = wr.s3.read_excel(i, engine='openpyxl')\n",
    "        df_list.append(temp)\n",
    "    # create df from list files\n",
    "    df = pd.concat(df_list, ignore_index=True)\n",
    "    return df"
   ]
  },
  {
   "cell_type": "code",
   "execution_count": null,
   "metadata": {},
   "outputs": [],
   "source": [
    "bucket = 'dend-data'\n",
    "file_name = f'crime-09-18.csv'\n",
    "path_to_save = f\"s3://{bucket}/capstone/final-data/crime-data/{file_name}\"\n",
    "path_to_save"
   ]
  },
  {
   "cell_type": "code",
   "execution_count": null,
   "metadata": {},
   "outputs": [],
   "source": [
    "%%time\n",
    "wr.s3.to_csv(df2, path_to_save, index=False)"
   ]
  },
  {
   "cell_type": "markdown",
   "metadata": {},
   "source": [
    "# Save Sample"
   ]
  },
  {
   "cell_type": "code",
   "execution_count": null,
   "metadata": {},
   "outputs": [],
   "source": [
    "%%time\n",
    "sample_1000 = df2.sample(1000)\n",
    "sample_1000.info()"
   ]
  },
  {
   "cell_type": "code",
   "execution_count": null,
   "metadata": {},
   "outputs": [],
   "source": [
    "sample_1000.head()"
   ]
  },
  {
   "cell_type": "code",
   "execution_count": null,
   "metadata": {},
   "outputs": [],
   "source": [
    "bucket = 'dend-data'\n",
    "file_name = f'crime-09-18.csv'\n",
    "path_to_save = f\"s3://{bucket}/capstone/sample-data/crime-data/{file_name}\"\n",
    "\n",
    "wr.s3.to_csv(sample_1000, path_to_save, index=False)"
   ]
  },
  {
   "cell_type": "code",
   "execution_count": null,
   "metadata": {},
   "outputs": [],
   "source": []
  },
  {
   "cell_type": "code",
   "execution_count": null,
   "metadata": {},
   "outputs": [],
   "source": []
  }
 ],
 "metadata": {
  "kernelspec": {
   "display_name": "Python 3 (ipykernel)",
   "language": "python",
   "name": "python3"
  },
  "language_info": {
   "codemirror_mode": {
    "name": "ipython",
    "version": 3
   },
   "file_extension": ".py",
   "mimetype": "text/x-python",
   "name": "python",
   "nbconvert_exporter": "python",
   "pygments_lexer": "ipython3",
   "version": "3.9.5"
  }
 },
 "nbformat": 4,
 "nbformat_minor": 4
}
