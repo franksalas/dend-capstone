{
 "cells": [
  {
   "cell_type": "code",
   "execution_count": 1,
   "metadata": {},
   "outputs": [
    {
     "data": {
      "text/html": [
       "        <script type=\"text/javascript\">\n",
       "        window.PlotlyConfig = {MathJaxConfig: 'local'};\n",
       "        if (window.MathJax) {MathJax.Hub.Config({SVG: {font: \"STIX-Web\"}});}\n",
       "        if (typeof require !== 'undefined') {\n",
       "        require.undef(\"plotly\");\n",
       "        requirejs.config({\n",
       "            paths: {\n",
       "                'plotly': ['https://cdn.plot.ly/plotly-2.2.0.min']\n",
       "            }\n",
       "        });\n",
       "        require(['plotly'], function(Plotly) {\n",
       "            window._Plotly = Plotly;\n",
       "        });\n",
       "        }\n",
       "        </script>\n",
       "        "
      ]
     },
     "metadata": {},
     "output_type": "display_data"
    },
    {
     "name": "stdout",
     "output_type": "stream",
     "text": [
      "\n",
      "python\t3.9.6 (default, Jul 30 2021, 16:35:19) \n",
      "[GCC 7.5.0]\n",
      "---------------------\n",
      "Versions:\n",
      "----------------------\n",
      "pandas      1.3.1\n",
      "numpy       1.20.3\n",
      "matplotlib  3.4.2\n",
      "seaborn     0.11.1\n",
      "plotly      5.1.0\n",
      "boto3       1.18.16\n",
      "awswrangler 2.10.0\n",
      "----------------------\n",
      "\n",
      "\n",
      "Loaded Libraries\n",
      "-------------------\n",
      "import pandas as pd\n",
      "import numpy as np\n",
      "import sys,os\n",
      "import re\n",
      "import glob\n",
      "import pickle\n",
      "import seaborn as sns\n",
      "import matplotlib.pyplot as plt\n",
      "import plotly\n",
      "import plotly.graph_objs as go\n",
      "from plotly.offline import download_plotlyjs, init_notebook_mode, plot, iplot\n",
      "init_notebook_mode(connected=True)\n",
      "\n",
      "\n",
      "## AWS\n",
      "import boto3\n",
      "import awswrangler as wr\n",
      "----------------\n",
      "\n",
      "\n",
      "GLOBAL VARIABLES\n",
      "--------------------------\n",
      "# Creating the low level functional client\n",
      "client = boto3.client(\n",
      "    's3',\n",
      "    aws_access_key_id = AWS_KEY_ID,\n",
      "    aws_secret_access_key = AWS_SECRET,\n",
      ")\n",
      "    \n",
      "# Creating the high level object oriented interface\n",
      "resource = boto3.resource(\n",
      "    's3',\n",
      "    aws_access_key_id = AWS_KEY_ID,\n",
      "    aws_secret_access_key = AWS_SECRET,\n",
      ")\n",
      "\n",
      "HERE_DIR: list current directory path\n",
      "------------------------------\n",
      "\n",
      "# SAVE PLOTS\n",
      "To save a plot call\n",
      "`save_plots(fig_variable,'name_of_plot')`\n",
      "\n",
      "source file: src/start.py\n",
      "\n",
      "\n"
     ]
    }
   ],
   "source": [
    "%run ../../src/start.py"
   ]
  },
  {
   "cell_type": "markdown",
   "metadata": {},
   "source": [
    "## Load Data"
   ]
  },
  {
   "cell_type": "code",
   "execution_count": 2,
   "metadata": {},
   "outputs": [],
   "source": [
    "# year file\n",
    "year = '2012'"
   ]
  },
  {
   "cell_type": "code",
   "execution_count": 3,
   "metadata": {},
   "outputs": [],
   "source": [
    "# helper function\n",
    "def bucket_raw_path(bucket_name,path_dir):\n",
    "    ''''''\n",
    "    raw_path = f's3://{bucket_name}/{path_dir}'\n",
    "    return raw_path"
   ]
  },
  {
   "cell_type": "code",
   "execution_count": 4,
   "metadata": {},
   "outputs": [
    {
     "data": {
      "text/plain": [
       "'s3://dend-data/capstone/raw-data/crime-data/2012'"
      ]
     },
     "execution_count": 4,
     "metadata": {},
     "output_type": "execute_result"
    }
   ],
   "source": [
    "raw = bucket_raw_path('dend-data',f'capstone/raw-data/crime-data/{year}')\n",
    "raw"
   ]
  },
  {
   "cell_type": "markdown",
   "metadata": {},
   "source": [
    "## List objects in bucket"
   ]
  },
  {
   "cell_type": "code",
   "execution_count": 5,
   "metadata": {},
   "outputs": [
    {
     "data": {
      "text/plain": [
       "['s3://dend-data/capstone/raw-data/crime-data/2012/apr12.xlsx',\n",
       " 's3://dend-data/capstone/raw-data/crime-data/2012/aug12.xlsx',\n",
       " 's3://dend-data/capstone/raw-data/crime-data/2012/dec12.xlsx',\n",
       " 's3://dend-data/capstone/raw-data/crime-data/2012/feb12.xlsx',\n",
       " 's3://dend-data/capstone/raw-data/crime-data/2012/jan12.xlsx',\n",
       " 's3://dend-data/capstone/raw-data/crime-data/2012/jul12.xlsx',\n",
       " 's3://dend-data/capstone/raw-data/crime-data/2012/jun12.xlsx',\n",
       " 's3://dend-data/capstone/raw-data/crime-data/2012/mar12.xlsx',\n",
       " 's3://dend-data/capstone/raw-data/crime-data/2012/may12.xlsx',\n",
       " 's3://dend-data/capstone/raw-data/crime-data/2012/nov12.xlsx',\n",
       " 's3://dend-data/capstone/raw-data/crime-data/2012/oct12.xlsx',\n",
       " 's3://dend-data/capstone/raw-data/crime-data/2012/sep12.xlsx']"
      ]
     },
     "execution_count": 5,
     "metadata": {},
     "output_type": "execute_result"
    }
   ],
   "source": [
    "wr.s3.list_objects(raw)"
   ]
  },
  {
   "cell_type": "markdown",
   "metadata": {},
   "source": [
    "## Create dataframe from s3 files"
   ]
  },
  {
   "cell_type": "code",
   "execution_count": 6,
   "metadata": {},
   "outputs": [],
   "source": [
    "def s3_files_to_df(s3_files_path):\n",
    "    ''' load s3 file path from wr result\n",
    "    returns a dataframe of concat files '''\n",
    "    df_list = []\n",
    "    for i in wr.s3.list_objects(s3_files_path):\n",
    "        temp = wr.s3.read_excel(i, engine='openpyxl')\n",
    "        df_list.append(temp)\n",
    "    # create df from list files\n",
    "    df = pd.concat(df_list, ignore_index=True)\n",
    "    return df"
   ]
  },
  {
   "cell_type": "code",
   "execution_count": 7,
   "metadata": {},
   "outputs": [
    {
     "name": "stdout",
     "output_type": "stream",
     "text": [
      "CPU times: user 42.8 s, sys: 134 ms, total: 42.9 s\n",
      "Wall time: 55 s\n"
     ]
    }
   ],
   "source": [
    "%%time\n",
    "df = s3_files_to_df(raw)"
   ]
  },
  {
   "cell_type": "code",
   "execution_count": 8,
   "metadata": {},
   "outputs": [],
   "source": [
    "## cleanup columns\n",
    "df.columns = df.columns.str.lower().str.replace(' ','_').str.replace('\\n','_').str.strip()"
   ]
  },
  {
   "cell_type": "code",
   "execution_count": 9,
   "metadata": {},
   "outputs": [
    {
     "name": "stdout",
     "output_type": "stream",
     "text": [
      "<class 'pandas.core.frame.DataFrame'>\n",
      "RangeIndex: 127771 entries, 0 to 127770\n",
      "Data columns (total 11 columns):\n",
      " #   Column         Non-Null Count   Dtype         \n",
      "---  ------         --------------   -----         \n",
      " 0   date           127771 non-null  datetime64[ns]\n",
      " 1   hour           127771 non-null  int64         \n",
      " 2   offense_type   127771 non-null  object        \n",
      " 3   beat           127771 non-null  object        \n",
      " 4   premise        127771 non-null  object        \n",
      " 5   block_range    127771 non-null  object        \n",
      " 6   street_name    127771 non-null  object        \n",
      " 7   type           127771 non-null  object        \n",
      " 8   suffix         127771 non-null  object        \n",
      " 9   ._of_offenses  127771 non-null  int64         \n",
      " 10  field11        0 non-null       float64       \n",
      "dtypes: datetime64[ns](1), float64(1), int64(2), object(7)\n",
      "memory usage: 10.7+ MB\n"
     ]
    }
   ],
   "source": [
    "df.info()"
   ]
  },
  {
   "cell_type": "code",
   "execution_count": 10,
   "metadata": {},
   "outputs": [
    {
     "data": {
      "text/html": [
       "<div>\n",
       "<style scoped>\n",
       "    .dataframe tbody tr th:only-of-type {\n",
       "        vertical-align: middle;\n",
       "    }\n",
       "\n",
       "    .dataframe tbody tr th {\n",
       "        vertical-align: top;\n",
       "    }\n",
       "\n",
       "    .dataframe thead th {\n",
       "        text-align: right;\n",
       "    }\n",
       "</style>\n",
       "<table border=\"1\" class=\"dataframe\">\n",
       "  <thead>\n",
       "    <tr style=\"text-align: right;\">\n",
       "      <th></th>\n",
       "      <th>date</th>\n",
       "      <th>hour</th>\n",
       "      <th>offense_type</th>\n",
       "      <th>beat</th>\n",
       "      <th>premise</th>\n",
       "      <th>block_range</th>\n",
       "      <th>street_name</th>\n",
       "      <th>type</th>\n",
       "      <th>suffix</th>\n",
       "      <th>._of_offenses</th>\n",
       "      <th>field11</th>\n",
       "    </tr>\n",
       "  </thead>\n",
       "  <tbody>\n",
       "    <tr>\n",
       "      <th>0</th>\n",
       "      <td>2012-04-05</td>\n",
       "      <td>2</td>\n",
       "      <td>Murder</td>\n",
       "      <td>17E40</td>\n",
       "      <td>20R</td>\n",
       "      <td>6100-6199</td>\n",
       "      <td>CLARIDGE</td>\n",
       "      <td>DR</td>\n",
       "      <td>-</td>\n",
       "      <td>1</td>\n",
       "      <td>NaN</td>\n",
       "    </tr>\n",
       "    <tr>\n",
       "      <th>1</th>\n",
       "      <td>2012-04-04</td>\n",
       "      <td>22</td>\n",
       "      <td>Murder</td>\n",
       "      <td>3B10</td>\n",
       "      <td>18A</td>\n",
       "      <td>11700-11799</td>\n",
       "      <td>HEMPSTEAD</td>\n",
       "      <td>HWY</td>\n",
       "      <td>-</td>\n",
       "      <td>1</td>\n",
       "      <td>NaN</td>\n",
       "    </tr>\n",
       "    <tr>\n",
       "      <th>2</th>\n",
       "      <td>2012-04-01</td>\n",
       "      <td>23</td>\n",
       "      <td>Murder</td>\n",
       "      <td>19G10</td>\n",
       "      <td>20A</td>\n",
       "      <td>7500-7599</td>\n",
       "      <td>CORPORATE</td>\n",
       "      <td>DR</td>\n",
       "      <td>-</td>\n",
       "      <td>1</td>\n",
       "      <td>NaN</td>\n",
       "    </tr>\n",
       "    <tr>\n",
       "      <th>3</th>\n",
       "      <td>2012-04-21</td>\n",
       "      <td>23</td>\n",
       "      <td>Murder</td>\n",
       "      <td>8C10</td>\n",
       "      <td>20R</td>\n",
       "      <td>6200-6299</td>\n",
       "      <td>RIETTA</td>\n",
       "      <td>-</td>\n",
       "      <td>-</td>\n",
       "      <td>1</td>\n",
       "      <td>NaN</td>\n",
       "    </tr>\n",
       "    <tr>\n",
       "      <th>4</th>\n",
       "      <td>2012-04-01</td>\n",
       "      <td>6</td>\n",
       "      <td>Murder</td>\n",
       "      <td>3B10</td>\n",
       "      <td>20A</td>\n",
       "      <td>4200-4299</td>\n",
       "      <td>34TH</td>\n",
       "      <td>ST</td>\n",
       "      <td>W</td>\n",
       "      <td>1</td>\n",
       "      <td>NaN</td>\n",
       "    </tr>\n",
       "  </tbody>\n",
       "</table>\n",
       "</div>"
      ],
      "text/plain": [
       "        date  hour offense_type   beat premise  block_range street_name type  \\\n",
       "0 2012-04-05     2       Murder  17E40     20R    6100-6199    CLARIDGE   DR   \n",
       "1 2012-04-04    22       Murder   3B10     18A  11700-11799   HEMPSTEAD  HWY   \n",
       "2 2012-04-01    23       Murder  19G10     20A    7500-7599   CORPORATE   DR   \n",
       "3 2012-04-21    23       Murder   8C10     20R    6200-6299      RIETTA    -   \n",
       "4 2012-04-01     6       Murder   3B10     20A    4200-4299        34TH   ST   \n",
       "\n",
       "  suffix  ._of_offenses  field11  \n",
       "0      -              1      NaN  \n",
       "1      -              1      NaN  \n",
       "2      -              1      NaN  \n",
       "3      -              1      NaN  \n",
       "4      W              1      NaN  "
      ]
     },
     "execution_count": 10,
     "metadata": {},
     "output_type": "execute_result"
    }
   ],
   "source": [
    "df.head()"
   ]
  },
  {
   "cell_type": "markdown",
   "metadata": {},
   "source": [
    "## Show null data"
   ]
  },
  {
   "cell_type": "code",
   "execution_count": 11,
   "metadata": {},
   "outputs": [
    {
     "data": {
      "text/plain": [
       "date                  0\n",
       "hour                  0\n",
       "offense_type          0\n",
       "beat                  0\n",
       "premise               0\n",
       "block_range           0\n",
       "street_name           0\n",
       "type                  0\n",
       "suffix                0\n",
       "._of_offenses         0\n",
       "field11          127771\n",
       "dtype: int64"
      ]
     },
     "execution_count": 11,
     "metadata": {},
     "output_type": "execute_result"
    }
   ],
   "source": [
    "df.apply(lambda x: sum(x.isnull()))"
   ]
  },
  {
   "cell_type": "code",
   "execution_count": 12,
   "metadata": {},
   "outputs": [
    {
     "data": {
      "text/html": [
       "<div>\n",
       "<style scoped>\n",
       "    .dataframe tbody tr th:only-of-type {\n",
       "        vertical-align: middle;\n",
       "    }\n",
       "\n",
       "    .dataframe tbody tr th {\n",
       "        vertical-align: top;\n",
       "    }\n",
       "\n",
       "    .dataframe thead th {\n",
       "        text-align: right;\n",
       "    }\n",
       "</style>\n",
       "<table border=\"1\" class=\"dataframe\">\n",
       "  <thead>\n",
       "    <tr style=\"text-align: right;\">\n",
       "      <th></th>\n",
       "      <th>null_percent</th>\n",
       "    </tr>\n",
       "  </thead>\n",
       "  <tbody>\n",
       "    <tr>\n",
       "      <th>date</th>\n",
       "      <td>0.0</td>\n",
       "    </tr>\n",
       "    <tr>\n",
       "      <th>hour</th>\n",
       "      <td>0.0</td>\n",
       "    </tr>\n",
       "    <tr>\n",
       "      <th>offense_type</th>\n",
       "      <td>0.0</td>\n",
       "    </tr>\n",
       "    <tr>\n",
       "      <th>beat</th>\n",
       "      <td>0.0</td>\n",
       "    </tr>\n",
       "    <tr>\n",
       "      <th>premise</th>\n",
       "      <td>0.0</td>\n",
       "    </tr>\n",
       "    <tr>\n",
       "      <th>block_range</th>\n",
       "      <td>0.0</td>\n",
       "    </tr>\n",
       "    <tr>\n",
       "      <th>street_name</th>\n",
       "      <td>0.0</td>\n",
       "    </tr>\n",
       "    <tr>\n",
       "      <th>type</th>\n",
       "      <td>0.0</td>\n",
       "    </tr>\n",
       "    <tr>\n",
       "      <th>suffix</th>\n",
       "      <td>0.0</td>\n",
       "    </tr>\n",
       "    <tr>\n",
       "      <th>._of_offenses</th>\n",
       "      <td>0.0</td>\n",
       "    </tr>\n",
       "  </tbody>\n",
       "</table>\n",
       "</div>"
      ],
      "text/plain": [
       "               null_percent\n",
       "date                    0.0\n",
       "hour                    0.0\n",
       "offense_type            0.0\n",
       "beat                    0.0\n",
       "premise                 0.0\n",
       "block_range             0.0\n",
       "street_name             0.0\n",
       "type                    0.0\n",
       "suffix                  0.0\n",
       "._of_offenses           0.0"
      ]
     },
     "execution_count": 12,
     "metadata": {},
     "output_type": "execute_result"
    }
   ],
   "source": [
    "# create null percentage of column as dataframe\n",
    "null_per_df = pd.DataFrame(df.isna().mean().round(4) * 100)\n",
    "# rename columns\n",
    "null_per_df.rename(columns={'index': 'col_name', 0: 'null_percent'}, inplace=True)\n",
    "\n",
    "# filter data <20% null values\n",
    "per_filter = null_per_df.null_percent<=90\n",
    "null_per_df[per_filter].sort_values(by='null_percent',ascending=False)"
   ]
  },
  {
   "cell_type": "code",
   "execution_count": 13,
   "metadata": {},
   "outputs": [
    {
     "data": {
      "image/png": "[encoded data removed]",
      "text/plain": [
       "<Figure size 1500x400 with 1 Axes>"
      ]
     },
     "metadata": {},
     "output_type": "display_data"
    }
   ],
   "source": [
    "plt.figure(figsize=(15,4))\n",
    "sns.heatmap(df.isnull(),yticklabels=False,cbar=False,cmap='viridis')\n",
    "plt.title('Missing data')\n",
    "plt.show()"
   ]
  },
  {
   "cell_type": "markdown",
   "metadata": {},
   "source": [
    "## Drop unused column and change column names"
   ]
  },
  {
   "cell_type": "code",
   "execution_count": 14,
   "metadata": {},
   "outputs": [],
   "source": [
    "df = df.drop([ 'field11'], axis = 1)\n",
    "#change column name\n",
    "\n",
    "df.rename(columns={\n",
    "    '._of_offenses': 'offenses',\n",
    "}, inplace=True)"
   ]
  },
  {
   "cell_type": "code",
   "execution_count": 15,
   "metadata": {},
   "outputs": [
    {
     "data": {
      "text/plain": [
       "date            0\n",
       "hour            0\n",
       "offense_type    0\n",
       "beat            0\n",
       "premise         0\n",
       "block_range     0\n",
       "street_name     0\n",
       "type            0\n",
       "suffix          0\n",
       "offenses        0\n",
       "dtype: int64"
      ]
     },
     "execution_count": 15,
     "metadata": {},
     "output_type": "execute_result"
    }
   ],
   "source": [
    "df.apply(lambda x: sum(x.isnull()))"
   ]
  },
  {
   "cell_type": "code",
   "execution_count": 16,
   "metadata": {},
   "outputs": [
    {
     "data": {
      "image/png": "[encoded data removed]",
      "text/plain": [
       "<Figure size 1500x400 with 1 Axes>"
      ]
     },
     "metadata": {},
     "output_type": "display_data"
    }
   ],
   "source": [
    "plt.figure(figsize=(15,4))\n",
    "sns.heatmap(df.isnull(),yticklabels=False,cbar=False,cmap='viridis')\n",
    "plt.title('Missing data')\n",
    "plt.show()"
   ]
  },
  {
   "cell_type": "code",
   "execution_count": null,
   "metadata": {},
   "outputs": [],
   "source": []
  },
  {
   "cell_type": "code",
   "execution_count": null,
   "metadata": {},
   "outputs": [],
   "source": []
  },
  {
   "cell_type": "code",
   "execution_count": null,
   "metadata": {},
   "outputs": [],
   "source": []
  },
  {
   "cell_type": "code",
   "execution_count": null,
   "metadata": {},
   "outputs": [],
   "source": []
  },
  {
   "cell_type": "code",
   "execution_count": null,
   "metadata": {},
   "outputs": [],
   "source": []
  },
  {
   "cell_type": "code",
   "execution_count": null,
   "metadata": {},
   "outputs": [],
   "source": []
  },
  {
   "cell_type": "code",
   "execution_count": null,
   "metadata": {},
   "outputs": [],
   "source": []
  },
  {
   "cell_type": "markdown",
   "metadata": {},
   "source": [
    "## Combine columns "
   ]
  },
  {
   "cell_type": "markdown",
   "metadata": {},
   "source": [
    "## Combine date & hour to one column"
   ]
  },
  {
   "cell_type": "code",
   "execution_count": 17,
   "metadata": {},
   "outputs": [],
   "source": [
    "# convert two columns into one datetime\n",
    "df['date_time'] = pd.to_datetime(df['date']) + pd.to_timedelta(df['hour'], unit='h')\n",
    "\n",
    "# # drop columns\n",
    "# df = df.drop(['date','hour'], axis = 1)"
   ]
  },
  {
   "cell_type": "code",
   "execution_count": 18,
   "metadata": {},
   "outputs": [
    {
     "name": "stdout",
     "output_type": "stream",
     "text": [
      "<class 'pandas.core.frame.DataFrame'>\n",
      "RangeIndex: 127771 entries, 0 to 127770\n",
      "Data columns (total 11 columns):\n",
      " #   Column        Non-Null Count   Dtype         \n",
      "---  ------        --------------   -----         \n",
      " 0   date          127771 non-null  datetime64[ns]\n",
      " 1   hour          127771 non-null  int64         \n",
      " 2   offense_type  127771 non-null  object        \n",
      " 3   beat          127771 non-null  object        \n",
      " 4   premise       127771 non-null  object        \n",
      " 5   block_range   127771 non-null  object        \n",
      " 6   street_name   127771 non-null  object        \n",
      " 7   type          127771 non-null  object        \n",
      " 8   suffix        127771 non-null  object        \n",
      " 9   offenses      127771 non-null  int64         \n",
      " 10  date_time     127771 non-null  datetime64[ns]\n",
      "dtypes: datetime64[ns](2), int64(2), object(7)\n",
      "memory usage: 10.7+ MB\n"
     ]
    }
   ],
   "source": [
    "df.info()"
   ]
  },
  {
   "cell_type": "code",
   "execution_count": 19,
   "metadata": {},
   "outputs": [
    {
     "data": {
      "text/html": [
       "<div>\n",
       "<style scoped>\n",
       "    .dataframe tbody tr th:only-of-type {\n",
       "        vertical-align: middle;\n",
       "    }\n",
       "\n",
       "    .dataframe tbody tr th {\n",
       "        vertical-align: top;\n",
       "    }\n",
       "\n",
       "    .dataframe thead th {\n",
       "        text-align: right;\n",
       "    }\n",
       "</style>\n",
       "<table border=\"1\" class=\"dataframe\">\n",
       "  <thead>\n",
       "    <tr style=\"text-align: right;\">\n",
       "      <th></th>\n",
       "      <th>date</th>\n",
       "      <th>hour</th>\n",
       "      <th>offense_type</th>\n",
       "      <th>beat</th>\n",
       "      <th>premise</th>\n",
       "      <th>block_range</th>\n",
       "      <th>street_name</th>\n",
       "      <th>type</th>\n",
       "      <th>suffix</th>\n",
       "      <th>offenses</th>\n",
       "      <th>date_time</th>\n",
       "    </tr>\n",
       "  </thead>\n",
       "  <tbody>\n",
       "    <tr>\n",
       "      <th>0</th>\n",
       "      <td>2012-04-05</td>\n",
       "      <td>2</td>\n",
       "      <td>Murder</td>\n",
       "      <td>17E40</td>\n",
       "      <td>20R</td>\n",
       "      <td>6100-6199</td>\n",
       "      <td>CLARIDGE</td>\n",
       "      <td>DR</td>\n",
       "      <td>-</td>\n",
       "      <td>1</td>\n",
       "      <td>2012-04-05 02:00:00</td>\n",
       "    </tr>\n",
       "    <tr>\n",
       "      <th>1</th>\n",
       "      <td>2012-04-04</td>\n",
       "      <td>22</td>\n",
       "      <td>Murder</td>\n",
       "      <td>3B10</td>\n",
       "      <td>18A</td>\n",
       "      <td>11700-11799</td>\n",
       "      <td>HEMPSTEAD</td>\n",
       "      <td>HWY</td>\n",
       "      <td>-</td>\n",
       "      <td>1</td>\n",
       "      <td>2012-04-04 22:00:00</td>\n",
       "    </tr>\n",
       "    <tr>\n",
       "      <th>2</th>\n",
       "      <td>2012-04-01</td>\n",
       "      <td>23</td>\n",
       "      <td>Murder</td>\n",
       "      <td>19G10</td>\n",
       "      <td>20A</td>\n",
       "      <td>7500-7599</td>\n",
       "      <td>CORPORATE</td>\n",
       "      <td>DR</td>\n",
       "      <td>-</td>\n",
       "      <td>1</td>\n",
       "      <td>2012-04-01 23:00:00</td>\n",
       "    </tr>\n",
       "    <tr>\n",
       "      <th>3</th>\n",
       "      <td>2012-04-21</td>\n",
       "      <td>23</td>\n",
       "      <td>Murder</td>\n",
       "      <td>8C10</td>\n",
       "      <td>20R</td>\n",
       "      <td>6200-6299</td>\n",
       "      <td>RIETTA</td>\n",
       "      <td>-</td>\n",
       "      <td>-</td>\n",
       "      <td>1</td>\n",
       "      <td>2012-04-21 23:00:00</td>\n",
       "    </tr>\n",
       "    <tr>\n",
       "      <th>4</th>\n",
       "      <td>2012-04-01</td>\n",
       "      <td>6</td>\n",
       "      <td>Murder</td>\n",
       "      <td>3B10</td>\n",
       "      <td>20A</td>\n",
       "      <td>4200-4299</td>\n",
       "      <td>34TH</td>\n",
       "      <td>ST</td>\n",
       "      <td>W</td>\n",
       "      <td>1</td>\n",
       "      <td>2012-04-01 06:00:00</td>\n",
       "    </tr>\n",
       "  </tbody>\n",
       "</table>\n",
       "</div>"
      ],
      "text/plain": [
       "        date  hour offense_type   beat premise  block_range street_name type  \\\n",
       "0 2012-04-05     2       Murder  17E40     20R    6100-6199    CLARIDGE   DR   \n",
       "1 2012-04-04    22       Murder   3B10     18A  11700-11799   HEMPSTEAD  HWY   \n",
       "2 2012-04-01    23       Murder  19G10     20A    7500-7599   CORPORATE   DR   \n",
       "3 2012-04-21    23       Murder   8C10     20R    6200-6299      RIETTA    -   \n",
       "4 2012-04-01     6       Murder   3B10     20A    4200-4299        34TH   ST   \n",
       "\n",
       "  suffix  offenses           date_time  \n",
       "0      -         1 2012-04-05 02:00:00  \n",
       "1      -         1 2012-04-04 22:00:00  \n",
       "2      -         1 2012-04-01 23:00:00  \n",
       "3      -         1 2012-04-21 23:00:00  \n",
       "4      W         1 2012-04-01 06:00:00  "
      ]
     },
     "execution_count": 19,
     "metadata": {},
     "output_type": "execute_result"
    }
   ],
   "source": [
    "df.head()"
   ]
  },
  {
   "cell_type": "markdown",
   "metadata": {},
   "source": [
    "## Convert offenses to integer"
   ]
  },
  {
   "cell_type": "code",
   "execution_count": 20,
   "metadata": {},
   "outputs": [],
   "source": [
    "# convert offenses to int\n",
    "df['offenses'] = df['offenses'].astype('int64')"
   ]
  },
  {
   "cell_type": "code",
   "execution_count": 21,
   "metadata": {},
   "outputs": [
    {
     "name": "stdout",
     "output_type": "stream",
     "text": [
      "<class 'pandas.core.frame.DataFrame'>\n",
      "RangeIndex: 127771 entries, 0 to 127770\n",
      "Data columns (total 11 columns):\n",
      " #   Column        Non-Null Count   Dtype         \n",
      "---  ------        --------------   -----         \n",
      " 0   date          127771 non-null  datetime64[ns]\n",
      " 1   hour          127771 non-null  int64         \n",
      " 2   offense_type  127771 non-null  object        \n",
      " 3   beat          127771 non-null  object        \n",
      " 4   premise       127771 non-null  object        \n",
      " 5   block_range   127771 non-null  object        \n",
      " 6   street_name   127771 non-null  object        \n",
      " 7   type          127771 non-null  object        \n",
      " 8   suffix        127771 non-null  object        \n",
      " 9   offenses      127771 non-null  int64         \n",
      " 10  date_time     127771 non-null  datetime64[ns]\n",
      "dtypes: datetime64[ns](2), int64(2), object(7)\n",
      "memory usage: 10.7+ MB\n"
     ]
    }
   ],
   "source": [
    "df.info()"
   ]
  },
  {
   "cell_type": "markdown",
   "metadata": {},
   "source": [
    "# Create year column"
   ]
  },
  {
   "cell_type": "code",
   "execution_count": 22,
   "metadata": {},
   "outputs": [
    {
     "data": {
      "text/html": [
       "<div>\n",
       "<style scoped>\n",
       "    .dataframe tbody tr th:only-of-type {\n",
       "        vertical-align: middle;\n",
       "    }\n",
       "\n",
       "    .dataframe tbody tr th {\n",
       "        vertical-align: top;\n",
       "    }\n",
       "\n",
       "    .dataframe thead th {\n",
       "        text-align: right;\n",
       "    }\n",
       "</style>\n",
       "<table border=\"1\" class=\"dataframe\">\n",
       "  <thead>\n",
       "    <tr style=\"text-align: right;\">\n",
       "      <th></th>\n",
       "      <th>date</th>\n",
       "      <th>hour</th>\n",
       "      <th>offense_type</th>\n",
       "      <th>beat</th>\n",
       "      <th>premise</th>\n",
       "      <th>block_range</th>\n",
       "      <th>street_name</th>\n",
       "      <th>type</th>\n",
       "      <th>suffix</th>\n",
       "      <th>offenses</th>\n",
       "      <th>date_time</th>\n",
       "      <th>year</th>\n",
       "    </tr>\n",
       "  </thead>\n",
       "  <tbody>\n",
       "    <tr>\n",
       "      <th>0</th>\n",
       "      <td>2012-04-05</td>\n",
       "      <td>2</td>\n",
       "      <td>Murder</td>\n",
       "      <td>17E40</td>\n",
       "      <td>20R</td>\n",
       "      <td>6100-6199</td>\n",
       "      <td>CLARIDGE</td>\n",
       "      <td>DR</td>\n",
       "      <td>-</td>\n",
       "      <td>1</td>\n",
       "      <td>2012-04-05 02:00:00</td>\n",
       "      <td>2012</td>\n",
       "    </tr>\n",
       "    <tr>\n",
       "      <th>1</th>\n",
       "      <td>2012-04-04</td>\n",
       "      <td>22</td>\n",
       "      <td>Murder</td>\n",
       "      <td>3B10</td>\n",
       "      <td>18A</td>\n",
       "      <td>11700-11799</td>\n",
       "      <td>HEMPSTEAD</td>\n",
       "      <td>HWY</td>\n",
       "      <td>-</td>\n",
       "      <td>1</td>\n",
       "      <td>2012-04-04 22:00:00</td>\n",
       "      <td>2012</td>\n",
       "    </tr>\n",
       "    <tr>\n",
       "      <th>2</th>\n",
       "      <td>2012-04-01</td>\n",
       "      <td>23</td>\n",
       "      <td>Murder</td>\n",
       "      <td>19G10</td>\n",
       "      <td>20A</td>\n",
       "      <td>7500-7599</td>\n",
       "      <td>CORPORATE</td>\n",
       "      <td>DR</td>\n",
       "      <td>-</td>\n",
       "      <td>1</td>\n",
       "      <td>2012-04-01 23:00:00</td>\n",
       "      <td>2012</td>\n",
       "    </tr>\n",
       "    <tr>\n",
       "      <th>3</th>\n",
       "      <td>2012-04-21</td>\n",
       "      <td>23</td>\n",
       "      <td>Murder</td>\n",
       "      <td>8C10</td>\n",
       "      <td>20R</td>\n",
       "      <td>6200-6299</td>\n",
       "      <td>RIETTA</td>\n",
       "      <td>-</td>\n",
       "      <td>-</td>\n",
       "      <td>1</td>\n",
       "      <td>2012-04-21 23:00:00</td>\n",
       "      <td>2012</td>\n",
       "    </tr>\n",
       "    <tr>\n",
       "      <th>4</th>\n",
       "      <td>2012-04-01</td>\n",
       "      <td>6</td>\n",
       "      <td>Murder</td>\n",
       "      <td>3B10</td>\n",
       "      <td>20A</td>\n",
       "      <td>4200-4299</td>\n",
       "      <td>34TH</td>\n",
       "      <td>ST</td>\n",
       "      <td>W</td>\n",
       "      <td>1</td>\n",
       "      <td>2012-04-01 06:00:00</td>\n",
       "      <td>2012</td>\n",
       "    </tr>\n",
       "  </tbody>\n",
       "</table>\n",
       "</div>"
      ],
      "text/plain": [
       "        date  hour offense_type   beat premise  block_range street_name type  \\\n",
       "0 2012-04-05     2       Murder  17E40     20R    6100-6199    CLARIDGE   DR   \n",
       "1 2012-04-04    22       Murder   3B10     18A  11700-11799   HEMPSTEAD  HWY   \n",
       "2 2012-04-01    23       Murder  19G10     20A    7500-7599   CORPORATE   DR   \n",
       "3 2012-04-21    23       Murder   8C10     20R    6200-6299      RIETTA    -   \n",
       "4 2012-04-01     6       Murder   3B10     20A    4200-4299        34TH   ST   \n",
       "\n",
       "  suffix  offenses           date_time  year  \n",
       "0      -         1 2012-04-05 02:00:00  2012  \n",
       "1      -         1 2012-04-04 22:00:00  2012  \n",
       "2      -         1 2012-04-01 23:00:00  2012  \n",
       "3      -         1 2012-04-21 23:00:00  2012  \n",
       "4      W         1 2012-04-01 06:00:00  2012  "
      ]
     },
     "execution_count": 22,
     "metadata": {},
     "output_type": "execute_result"
    }
   ],
   "source": [
    "df['year'] = 2012\n",
    "df.head()"
   ]
  },
  {
   "cell_type": "markdown",
   "metadata": {},
   "source": [
    "## change order of columns"
   ]
  },
  {
   "cell_type": "code",
   "execution_count": 23,
   "metadata": {},
   "outputs": [
    {
     "data": {
      "text/html": [
       "<div>\n",
       "<style scoped>\n",
       "    .dataframe tbody tr th:only-of-type {\n",
       "        vertical-align: middle;\n",
       "    }\n",
       "\n",
       "    .dataframe tbody tr th {\n",
       "        vertical-align: top;\n",
       "    }\n",
       "\n",
       "    .dataframe thead th {\n",
       "        text-align: right;\n",
       "    }\n",
       "</style>\n",
       "<table border=\"1\" class=\"dataframe\">\n",
       "  <thead>\n",
       "    <tr style=\"text-align: right;\">\n",
       "      <th></th>\n",
       "      <th>date_time</th>\n",
       "      <th>offenses</th>\n",
       "      <th>offense_type</th>\n",
       "      <th>block_range</th>\n",
       "      <th>street_name</th>\n",
       "      <th>type</th>\n",
       "      <th>suffix</th>\n",
       "      <th>beat</th>\n",
       "      <th>premise</th>\n",
       "      <th>date</th>\n",
       "      <th>hour</th>\n",
       "      <th>year</th>\n",
       "    </tr>\n",
       "  </thead>\n",
       "  <tbody>\n",
       "    <tr>\n",
       "      <th>0</th>\n",
       "      <td>2012-04-05 02:00:00</td>\n",
       "      <td>1</td>\n",
       "      <td>Murder</td>\n",
       "      <td>6100-6199</td>\n",
       "      <td>CLARIDGE</td>\n",
       "      <td>DR</td>\n",
       "      <td>-</td>\n",
       "      <td>17E40</td>\n",
       "      <td>20R</td>\n",
       "      <td>2012-04-05</td>\n",
       "      <td>2</td>\n",
       "      <td>2012</td>\n",
       "    </tr>\n",
       "    <tr>\n",
       "      <th>1</th>\n",
       "      <td>2012-04-04 22:00:00</td>\n",
       "      <td>1</td>\n",
       "      <td>Murder</td>\n",
       "      <td>11700-11799</td>\n",
       "      <td>HEMPSTEAD</td>\n",
       "      <td>HWY</td>\n",
       "      <td>-</td>\n",
       "      <td>3B10</td>\n",
       "      <td>18A</td>\n",
       "      <td>2012-04-04</td>\n",
       "      <td>22</td>\n",
       "      <td>2012</td>\n",
       "    </tr>\n",
       "    <tr>\n",
       "      <th>2</th>\n",
       "      <td>2012-04-01 23:00:00</td>\n",
       "      <td>1</td>\n",
       "      <td>Murder</td>\n",
       "      <td>7500-7599</td>\n",
       "      <td>CORPORATE</td>\n",
       "      <td>DR</td>\n",
       "      <td>-</td>\n",
       "      <td>19G10</td>\n",
       "      <td>20A</td>\n",
       "      <td>2012-04-01</td>\n",
       "      <td>23</td>\n",
       "      <td>2012</td>\n",
       "    </tr>\n",
       "    <tr>\n",
       "      <th>3</th>\n",
       "      <td>2012-04-21 23:00:00</td>\n",
       "      <td>1</td>\n",
       "      <td>Murder</td>\n",
       "      <td>6200-6299</td>\n",
       "      <td>RIETTA</td>\n",
       "      <td>-</td>\n",
       "      <td>-</td>\n",
       "      <td>8C10</td>\n",
       "      <td>20R</td>\n",
       "      <td>2012-04-21</td>\n",
       "      <td>23</td>\n",
       "      <td>2012</td>\n",
       "    </tr>\n",
       "    <tr>\n",
       "      <th>4</th>\n",
       "      <td>2012-04-01 06:00:00</td>\n",
       "      <td>1</td>\n",
       "      <td>Murder</td>\n",
       "      <td>4200-4299</td>\n",
       "      <td>34TH</td>\n",
       "      <td>ST</td>\n",
       "      <td>W</td>\n",
       "      <td>3B10</td>\n",
       "      <td>20A</td>\n",
       "      <td>2012-04-01</td>\n",
       "      <td>6</td>\n",
       "      <td>2012</td>\n",
       "    </tr>\n",
       "  </tbody>\n",
       "</table>\n",
       "</div>"
      ],
      "text/plain": [
       "            date_time  offenses offense_type  block_range street_name type  \\\n",
       "0 2012-04-05 02:00:00         1       Murder    6100-6199    CLARIDGE   DR   \n",
       "1 2012-04-04 22:00:00         1       Murder  11700-11799   HEMPSTEAD  HWY   \n",
       "2 2012-04-01 23:00:00         1       Murder    7500-7599   CORPORATE   DR   \n",
       "3 2012-04-21 23:00:00         1       Murder    6200-6299      RIETTA    -   \n",
       "4 2012-04-01 06:00:00         1       Murder    4200-4299        34TH   ST   \n",
       "\n",
       "  suffix   beat premise       date  hour  year  \n",
       "0      -  17E40     20R 2012-04-05     2  2012  \n",
       "1      -   3B10     18A 2012-04-04    22  2012  \n",
       "2      -  19G10     20A 2012-04-01    23  2012  \n",
       "3      -   8C10     20R 2012-04-21    23  2012  \n",
       "4      W   3B10     20A 2012-04-01     6  2012  "
      ]
     },
     "execution_count": 23,
     "metadata": {},
     "output_type": "execute_result"
    }
   ],
   "source": [
    "col_ord =['date_time','offenses','offense_type', 'block_range', 'street_name', 'type', 'suffix','beat', 'premise','date','hour','year']\n",
    "df = df[col_ord]\n",
    "df.head()"
   ]
  },
  {
   "cell_type": "code",
   "execution_count": 27,
   "metadata": {},
   "outputs": [
    {
     "name": "stdout",
     "output_type": "stream",
     "text": [
      "<class 'pandas.core.frame.DataFrame'>\n",
      "RangeIndex: 127771 entries, 0 to 127770\n",
      "Data columns (total 12 columns):\n",
      " #   Column        Non-Null Count   Dtype         \n",
      "---  ------        --------------   -----         \n",
      " 0   date_time     127771 non-null  datetime64[ns]\n",
      " 1   offenses      127771 non-null  int64         \n",
      " 2   offense_type  127771 non-null  object        \n",
      " 3   block_range   127771 non-null  object        \n",
      " 4   street_name   127771 non-null  object        \n",
      " 5   type          127771 non-null  object        \n",
      " 6   suffix        127771 non-null  object        \n",
      " 7   beat          127771 non-null  object        \n",
      " 8   premise       127771 non-null  object        \n",
      " 9   date          127771 non-null  datetime64[ns]\n",
      " 10  hour          127771 non-null  int64         \n",
      " 11  year          127771 non-null  int64         \n",
      "dtypes: datetime64[ns](2), int64(3), object(7)\n",
      "memory usage: 11.7+ MB\n"
     ]
    }
   ],
   "source": [
    "df.info()"
   ]
  },
  {
   "cell_type": "code",
   "execution_count": 28,
   "metadata": {},
   "outputs": [
    {
     "data": {
      "text/html": [
       "<div>\n",
       "<style scoped>\n",
       "    .dataframe tbody tr th:only-of-type {\n",
       "        vertical-align: middle;\n",
       "    }\n",
       "\n",
       "    .dataframe tbody tr th {\n",
       "        vertical-align: top;\n",
       "    }\n",
       "\n",
       "    .dataframe thead th {\n",
       "        text-align: right;\n",
       "    }\n",
       "</style>\n",
       "<table border=\"1\" class=\"dataframe\">\n",
       "  <thead>\n",
       "    <tr style=\"text-align: right;\">\n",
       "      <th></th>\n",
       "      <th>date_time</th>\n",
       "      <th>offenses</th>\n",
       "      <th>offense_type</th>\n",
       "      <th>block_range</th>\n",
       "      <th>street_name</th>\n",
       "      <th>type</th>\n",
       "      <th>suffix</th>\n",
       "      <th>beat</th>\n",
       "      <th>premise</th>\n",
       "      <th>date</th>\n",
       "      <th>hour</th>\n",
       "      <th>year</th>\n",
       "    </tr>\n",
       "  </thead>\n",
       "  <tbody>\n",
       "    <tr>\n",
       "      <th>1897</th>\n",
       "      <td>2012-04-02 19:00:00</td>\n",
       "      <td>1</td>\n",
       "      <td>Burglary</td>\n",
       "      <td>17100-17199</td>\n",
       "      <td>IMPERIAL VALLEY</td>\n",
       "      <td>DR</td>\n",
       "      <td>-</td>\n",
       "      <td>6B60</td>\n",
       "      <td>20A</td>\n",
       "      <td>2012-04-02</td>\n",
       "      <td>19</td>\n",
       "      <td>2012</td>\n",
       "    </tr>\n",
       "    <tr>\n",
       "      <th>1900</th>\n",
       "      <td>2012-04-02 23:00:00</td>\n",
       "      <td>1</td>\n",
       "      <td>Burglary</td>\n",
       "      <td>700-799</td>\n",
       "      <td>GREENS</td>\n",
       "      <td>RD</td>\n",
       "      <td>-</td>\n",
       "      <td>6B60</td>\n",
       "      <td>20A</td>\n",
       "      <td>2012-04-02</td>\n",
       "      <td>23</td>\n",
       "      <td>2012</td>\n",
       "    </tr>\n",
       "    <tr>\n",
       "      <th>2115</th>\n",
       "      <td>2012-04-05 08:00:00</td>\n",
       "      <td>1</td>\n",
       "      <td>Burglary</td>\n",
       "      <td>1700-1799</td>\n",
       "      <td>CRESCENT PLAZA</td>\n",
       "      <td>DR</td>\n",
       "      <td>-</td>\n",
       "      <td>20G80</td>\n",
       "      <td>20A</td>\n",
       "      <td>2012-04-05</td>\n",
       "      <td>8</td>\n",
       "      <td>2012</td>\n",
       "    </tr>\n",
       "    <tr>\n",
       "      <th>2119</th>\n",
       "      <td>2012-04-05 07:00:00</td>\n",
       "      <td>1</td>\n",
       "      <td>Burglary</td>\n",
       "      <td>1700-1799</td>\n",
       "      <td>CRESCENT PLAZA</td>\n",
       "      <td>DR</td>\n",
       "      <td>-</td>\n",
       "      <td>20G80</td>\n",
       "      <td>20A</td>\n",
       "      <td>2012-04-05</td>\n",
       "      <td>7</td>\n",
       "      <td>2012</td>\n",
       "    </tr>\n",
       "    <tr>\n",
       "      <th>2122</th>\n",
       "      <td>2012-04-05 07:00:00</td>\n",
       "      <td>1</td>\n",
       "      <td>Burglary</td>\n",
       "      <td>1700-1799</td>\n",
       "      <td>CRESCENT PLAZA</td>\n",
       "      <td>DR</td>\n",
       "      <td>-</td>\n",
       "      <td>20G80</td>\n",
       "      <td>20A</td>\n",
       "      <td>2012-04-05</td>\n",
       "      <td>7</td>\n",
       "      <td>2012</td>\n",
       "    </tr>\n",
       "    <tr>\n",
       "      <th>...</th>\n",
       "      <td>...</td>\n",
       "      <td>...</td>\n",
       "      <td>...</td>\n",
       "      <td>...</td>\n",
       "      <td>...</td>\n",
       "      <td>...</td>\n",
       "      <td>...</td>\n",
       "      <td>...</td>\n",
       "      <td>...</td>\n",
       "      <td>...</td>\n",
       "      <td>...</td>\n",
       "      <td>...</td>\n",
       "    </tr>\n",
       "    <tr>\n",
       "      <th>126806</th>\n",
       "      <td>2012-09-24 21:00:00</td>\n",
       "      <td>1</td>\n",
       "      <td>Theft</td>\n",
       "      <td>9000-9099</td>\n",
       "      <td>DEXTER</td>\n",
       "      <td>BLVD</td>\n",
       "      <td>-</td>\n",
       "      <td>12D10</td>\n",
       "      <td>20D</td>\n",
       "      <td>2012-09-24</td>\n",
       "      <td>21</td>\n",
       "      <td>2012</td>\n",
       "    </tr>\n",
       "    <tr>\n",
       "      <th>126887</th>\n",
       "      <td>2012-09-25 18:00:00</td>\n",
       "      <td>1</td>\n",
       "      <td>Theft</td>\n",
       "      <td>18200-18299</td>\n",
       "      <td>TOMBALL</td>\n",
       "      <td>PKWY</td>\n",
       "      <td>-</td>\n",
       "      <td>5F40</td>\n",
       "      <td>18H</td>\n",
       "      <td>2012-09-25</td>\n",
       "      <td>18</td>\n",
       "      <td>2012</td>\n",
       "    </tr>\n",
       "    <tr>\n",
       "      <th>126888</th>\n",
       "      <td>2012-09-25 18:00:00</td>\n",
       "      <td>1</td>\n",
       "      <td>Theft</td>\n",
       "      <td>18200-18299</td>\n",
       "      <td>TOMBALL</td>\n",
       "      <td>PKWY</td>\n",
       "      <td>-</td>\n",
       "      <td>5F40</td>\n",
       "      <td>18H</td>\n",
       "      <td>2012-09-25</td>\n",
       "      <td>18</td>\n",
       "      <td>2012</td>\n",
       "    </tr>\n",
       "    <tr>\n",
       "      <th>127133</th>\n",
       "      <td>2012-09-03 21:00:00</td>\n",
       "      <td>1</td>\n",
       "      <td>Theft</td>\n",
       "      <td>3200-3299</td>\n",
       "      <td>GESSNER</td>\n",
       "      <td>DR</td>\n",
       "      <td>S</td>\n",
       "      <td>18F50</td>\n",
       "      <td>05R</td>\n",
       "      <td>2012-09-03</td>\n",
       "      <td>21</td>\n",
       "      <td>2012</td>\n",
       "    </tr>\n",
       "    <tr>\n",
       "      <th>127381</th>\n",
       "      <td>2012-09-28 15:00:00</td>\n",
       "      <td>1</td>\n",
       "      <td>Theft</td>\n",
       "      <td>2700-2799</td>\n",
       "      <td>DUNVALE</td>\n",
       "      <td>RD</td>\n",
       "      <td>-</td>\n",
       "      <td>18F40</td>\n",
       "      <td>120</td>\n",
       "      <td>2012-09-28</td>\n",
       "      <td>15</td>\n",
       "      <td>2012</td>\n",
       "    </tr>\n",
       "  </tbody>\n",
       "</table>\n",
       "<p>662 rows × 12 columns</p>\n",
       "</div>"
      ],
      "text/plain": [
       "                 date_time  offenses offense_type  block_range  \\\n",
       "1897   2012-04-02 19:00:00         1     Burglary  17100-17199   \n",
       "1900   2012-04-02 23:00:00         1     Burglary      700-799   \n",
       "2115   2012-04-05 08:00:00         1     Burglary    1700-1799   \n",
       "2119   2012-04-05 07:00:00         1     Burglary    1700-1799   \n",
       "2122   2012-04-05 07:00:00         1     Burglary    1700-1799   \n",
       "...                    ...       ...          ...          ...   \n",
       "126806 2012-09-24 21:00:00         1        Theft    9000-9099   \n",
       "126887 2012-09-25 18:00:00         1        Theft  18200-18299   \n",
       "126888 2012-09-25 18:00:00         1        Theft  18200-18299   \n",
       "127133 2012-09-03 21:00:00         1        Theft    3200-3299   \n",
       "127381 2012-09-28 15:00:00         1        Theft    2700-2799   \n",
       "\n",
       "            street_name  type suffix   beat premise       date  hour  year  \n",
       "1897    IMPERIAL VALLEY    DR      -   6B60     20A 2012-04-02    19  2012  \n",
       "1900             GREENS    RD      -   6B60     20A 2012-04-02    23  2012  \n",
       "2115     CRESCENT PLAZA    DR      -  20G80     20A 2012-04-05     8  2012  \n",
       "2119     CRESCENT PLAZA    DR      -  20G80     20A 2012-04-05     7  2012  \n",
       "2122     CRESCENT PLAZA    DR      -  20G80     20A 2012-04-05     7  2012  \n",
       "...                 ...   ...    ...    ...     ...        ...   ...   ...  \n",
       "126806           DEXTER  BLVD      -  12D10     20D 2012-09-24    21  2012  \n",
       "126887          TOMBALL  PKWY      -   5F40     18H 2012-09-25    18  2012  \n",
       "126888          TOMBALL  PKWY      -   5F40     18H 2012-09-25    18  2012  \n",
       "127133          GESSNER    DR      S  18F50     05R 2012-09-03    21  2012  \n",
       "127381          DUNVALE    RD      -  18F40     120 2012-09-28    15  2012  \n",
       "\n",
       "[662 rows x 12 columns]"
      ]
     },
     "execution_count": 28,
     "metadata": {},
     "output_type": "execute_result"
    }
   ],
   "source": [
    "df.loc[df.duplicated(keep='first'),:]"
   ]
  },
  {
   "cell_type": "code",
   "execution_count": 29,
   "metadata": {},
   "outputs": [],
   "source": [
    "df.drop_duplicates(keep='first',inplace=True)"
   ]
  },
  {
   "cell_type": "code",
   "execution_count": 30,
   "metadata": {},
   "outputs": [
    {
     "name": "stdout",
     "output_type": "stream",
     "text": [
      "<class 'pandas.core.frame.DataFrame'>\n",
      "Int64Index: 127109 entries, 0 to 127770\n",
      "Data columns (total 12 columns):\n",
      " #   Column        Non-Null Count   Dtype         \n",
      "---  ------        --------------   -----         \n",
      " 0   date_time     127109 non-null  datetime64[ns]\n",
      " 1   offenses      127109 non-null  int64         \n",
      " 2   offense_type  127109 non-null  object        \n",
      " 3   block_range   127109 non-null  object        \n",
      " 4   street_name   127109 non-null  object        \n",
      " 5   type          127109 non-null  object        \n",
      " 6   suffix        127109 non-null  object        \n",
      " 7   beat          127109 non-null  object        \n",
      " 8   premise       127109 non-null  object        \n",
      " 9   date          127109 non-null  datetime64[ns]\n",
      " 10  hour          127109 non-null  int64         \n",
      " 11  year          127109 non-null  int64         \n",
      "dtypes: datetime64[ns](2), int64(3), object(7)\n",
      "memory usage: 12.6+ MB\n"
     ]
    }
   ],
   "source": [
    "df.info()"
   ]
  },
  {
   "cell_type": "markdown",
   "metadata": {},
   "source": [
    "## Save to bucket"
   ]
  },
  {
   "cell_type": "code",
   "execution_count": 31,
   "metadata": {},
   "outputs": [
    {
     "data": {
      "text/plain": [
       "'s3://dend-data/capstone/inter-data/crime-data/crime_2012.csv'"
      ]
     },
     "execution_count": 31,
     "metadata": {},
     "output_type": "execute_result"
    }
   ],
   "source": [
    "bucket = 'dend-data'\n",
    "file_name = f'crime_{year}.csv'\n",
    "path_to_save = f\"s3://{bucket}/capstone/inter-data/crime-data/{file_name}\"\n",
    "path_to_save"
   ]
  },
  {
   "cell_type": "code",
   "execution_count": null,
   "metadata": {},
   "outputs": [],
   "source": []
  },
  {
   "cell_type": "code",
   "execution_count": 32,
   "metadata": {},
   "outputs": [
    {
     "name": "stdout",
     "output_type": "stream",
     "text": [
      "CPU times: user 923 ms, sys: 51.7 ms, total: 974 ms\n",
      "Wall time: 18.5 s\n"
     ]
    },
    {
     "data": {
      "text/plain": [
       "{'paths': ['s3://dend-data/capstone/inter-data/crime-data/crime_2012.csv'],\n",
       " 'partitions_values': {}}"
      ]
     },
     "execution_count": 32,
     "metadata": {},
     "output_type": "execute_result"
    }
   ],
   "source": [
    "%%time\n",
    "wr.s3.to_csv(df, path_to_save, index=False)"
   ]
  },
  {
   "cell_type": "markdown",
   "metadata": {},
   "source": [
    "# Save Sample"
   ]
  },
  {
   "cell_type": "code",
   "execution_count": 33,
   "metadata": {},
   "outputs": [
    {
     "name": "stdout",
     "output_type": "stream",
     "text": [
      "CPU times: user 31.3 ms, sys: 2 µs, total: 31.3 ms\n",
      "Wall time: 350 ms\n"
     ]
    },
    {
     "data": {
      "text/plain": [
       "{'paths': ['s3://dend-data/capstone/sample-data/crime-data/crime_2012.csv'],\n",
       " 'partitions_values': {}}"
      ]
     },
     "execution_count": 33,
     "metadata": {},
     "output_type": "execute_result"
    }
   ],
   "source": [
    "%%time\n",
    "sample_100 = df.sample(100)\n",
    "\n",
    "\n",
    "bucket = 'dend-data'\n",
    "file_name = f'crime_{year}.csv'\n",
    "path_to_save = f\"s3://{bucket}/capstone/sample-data/crime-data/{file_name}\"\n",
    "\n",
    "wr.s3.to_csv(sample_100, path_to_save, index=False)"
   ]
  },
  {
   "cell_type": "code",
   "execution_count": null,
   "metadata": {},
   "outputs": [],
   "source": []
  },
  {
   "cell_type": "code",
   "execution_count": null,
   "metadata": {},
   "outputs": [],
   "source": []
  }
 ],
 "metadata": {
  "kernelspec": {
   "display_name": "Python 3",
   "language": "python",
   "name": "python3"
  },
  "language_info": {
   "codemirror_mode": {
    "name": "ipython",
    "version": 3
   },
   "file_extension": ".py",
   "mimetype": "text/x-python",
   "name": "python",
   "nbconvert_exporter": "python",
   "pygments_lexer": "ipython3",
   "version": "3.9.6"
  }
 },
 "nbformat": 4,
 "nbformat_minor": 4
}
