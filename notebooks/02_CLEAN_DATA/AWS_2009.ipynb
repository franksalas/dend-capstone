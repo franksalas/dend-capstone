{
 "cells": [
  {
   "cell_type": "markdown",
   "metadata": {},
   "source": [
    "# 2009\n",
    "## START: 73124\n"
   ]
  },
  {
   "cell_type": "code",
   "execution_count": 1,
   "metadata": {},
   "outputs": [
    {
     "data": {
      "text/html": [
       "        <script type=\"text/javascript\">\n",
       "        window.PlotlyConfig = {MathJaxConfig: 'local'};\n",
       "        if (window.MathJax) {MathJax.Hub.Config({SVG: {font: \"STIX-Web\"}});}\n",
       "        if (typeof require !== 'undefined') {\n",
       "        require.undef(\"plotly\");\n",
       "        requirejs.config({\n",
       "            paths: {\n",
       "                'plotly': ['https://cdn.plot.ly/plotly-2.2.0.min']\n",
       "            }\n",
       "        });\n",
       "        require(['plotly'], function(Plotly) {\n",
       "            window._Plotly = Plotly;\n",
       "        });\n",
       "        }\n",
       "        </script>\n",
       "        "
      ]
     },
     "metadata": {},
     "output_type": "display_data"
    },
    {
     "name": "stdout",
     "output_type": "stream",
     "text": [
      "\n",
      "python\t3.9.6 (default, Jul 30 2021, 16:35:19) \n",
      "[GCC 7.5.0]\n",
      "---------------------\n",
      "Versions:\n",
      "----------------------\n",
      "pandas      1.3.1\n",
      "numpy       1.20.3\n",
      "matplotlib  3.4.2\n",
      "seaborn     0.11.1\n",
      "plotly      5.1.0\n",
      "boto3       1.18.16\n",
      "awswrangler 2.10.0\n",
      "----------------------\n",
      "\n",
      "\n",
      "Loaded Libraries\n",
      "-------------------\n",
      "import pandas as pd\n",
      "import numpy as np\n",
      "import sys,os\n",
      "import re\n",
      "import glob\n",
      "import pickle\n",
      "import seaborn as sns\n",
      "import matplotlib.pyplot as plt\n",
      "import plotly\n",
      "import plotly.graph_objs as go\n",
      "from plotly.offline import download_plotlyjs, init_notebook_mode, plot, iplot\n",
      "init_notebook_mode(connected=True)\n",
      "\n",
      "\n",
      "## AWS\n",
      "import boto3\n",
      "import awswrangler as wr\n",
      "----------------\n",
      "\n",
      "\n",
      "GLOBAL VARIABLES\n",
      "--------------------------\n",
      "# Creating the low level functional client\n",
      "client = boto3.client(\n",
      "    's3',\n",
      "    aws_access_key_id = AWS_KEY_ID,\n",
      "    aws_secret_access_key = AWS_SECRET,\n",
      ")\n",
      "    \n",
      "# Creating the high level object oriented interface\n",
      "resource = boto3.resource(\n",
      "    's3',\n",
      "    aws_access_key_id = AWS_KEY_ID,\n",
      "    aws_secret_access_key = AWS_SECRET,\n",
      ")\n",
      "\n",
      "HERE_DIR: list current directory path\n",
      "------------------------------\n",
      "\n",
      "# SAVE PLOTS\n",
      "To save a plot call\n",
      "`save_plots(fig_variable,'name_of_plot')`\n",
      "\n",
      "source file: src/start.py\n",
      "\n",
      "\n"
     ]
    }
   ],
   "source": [
    "%run ../../src/start.py"
   ]
  },
  {
   "cell_type": "markdown",
   "metadata": {},
   "source": [
    "## Load Data"
   ]
  },
  {
   "cell_type": "code",
   "execution_count": 2,
   "metadata": {},
   "outputs": [],
   "source": [
    "# year file\n",
    "year = '2009'"
   ]
  },
  {
   "cell_type": "code",
   "execution_count": 3,
   "metadata": {},
   "outputs": [],
   "source": [
    "# helper function\n",
    "def bucket_raw_path(bucket_name,path_dir):\n",
    "    ''''''\n",
    "    raw_path = f's3://{bucket_name}/{path_dir}'\n",
    "    return raw_path"
   ]
  },
  {
   "cell_type": "code",
   "execution_count": 4,
   "metadata": {},
   "outputs": [
    {
     "data": {
      "text/plain": [
       "'s3://dend-data/capstone/raw-data/crime-data/2009'"
      ]
     },
     "execution_count": 4,
     "metadata": {},
     "output_type": "execute_result"
    }
   ],
   "source": [
    "raw = bucket_raw_path('dend-data',f'capstone/raw-data/crime-data/{year}')\n",
    "raw"
   ]
  },
  {
   "cell_type": "markdown",
   "metadata": {},
   "source": [
    "## List objects in bucket"
   ]
  },
  {
   "cell_type": "code",
   "execution_count": 5,
   "metadata": {},
   "outputs": [
    {
     "data": {
      "text/plain": [
       "['s3://dend-data/capstone/raw-data/crime-data/2009/aug09mdb.xls',\n",
       " 's3://dend-data/capstone/raw-data/crime-data/2009/dec09mdb.xls',\n",
       " 's3://dend-data/capstone/raw-data/crime-data/2009/jul09mdb.xls',\n",
       " 's3://dend-data/capstone/raw-data/crime-data/2009/nov09mdb.xls',\n",
       " 's3://dend-data/capstone/raw-data/crime-data/2009/oct09mdb.xls',\n",
       " 's3://dend-data/capstone/raw-data/crime-data/2009/sep09mdb.xls']"
      ]
     },
     "execution_count": 5,
     "metadata": {},
     "output_type": "execute_result"
    }
   ],
   "source": [
    "wr.s3.list_objects(raw)"
   ]
  },
  {
   "cell_type": "code",
   "execution_count": 6,
   "metadata": {},
   "outputs": [
    {
     "data": {
      "text/plain": [
       "['s3://dend-data/capstone/raw-data/crime-data/2009/aug09mdb.xls',\n",
       " 's3://dend-data/capstone/raw-data/crime-data/2009/dec09mdb.xls',\n",
       " 's3://dend-data/capstone/raw-data/crime-data/2009/jul09mdb.xls',\n",
       " 's3://dend-data/capstone/raw-data/crime-data/2009/nov09mdb.xls',\n",
       " 's3://dend-data/capstone/raw-data/crime-data/2009/oct09mdb.xls',\n",
       " 's3://dend-data/capstone/raw-data/crime-data/2009/sep09mdb.xls']"
      ]
     },
     "execution_count": 6,
     "metadata": {},
     "output_type": "execute_result"
    }
   ],
   "source": [
    "wr.s3.list_objects(raw,'xls')"
   ]
  },
  {
   "cell_type": "markdown",
   "metadata": {},
   "source": [
    "## Create dataframe from s3 files"
   ]
  },
  {
   "cell_type": "code",
   "execution_count": 7,
   "metadata": {},
   "outputs": [],
   "source": [
    "def s3_files_to_df(s3_files_path):\n",
    "    ''' load s3 file path from wr result\n",
    "    returns a dataframe of concat files '''\n",
    "    df_list = []\n",
    "    for i in wr.s3.list_objects(s3_files_path):\n",
    "        temp = wr.s3.read_excel(i)\n",
    "        df_list.append(temp)\n",
    "    # create df from list files\n",
    "    df = pd.concat(df_list, ignore_index=True)\n",
    "    return df"
   ]
  },
  {
   "cell_type": "code",
   "execution_count": 8,
   "metadata": {},
   "outputs": [
    {
     "name": "stdout",
     "output_type": "stream",
     "text": [
      "CPU times: user 1.86 s, sys: 41.6 ms, total: 1.9 s\n",
      "Wall time: 11.5 s\n"
     ]
    }
   ],
   "source": [
    "%%time\n",
    "df = s3_files_to_df(raw)"
   ]
  },
  {
   "cell_type": "code",
   "execution_count": 9,
   "metadata": {},
   "outputs": [],
   "source": [
    "#pip install xlrd"
   ]
  },
  {
   "cell_type": "code",
   "execution_count": 10,
   "metadata": {},
   "outputs": [],
   "source": [
    "## cleanup columns\n",
    "df.columns = df.columns.str.lower().str.replace(' ','_').str.replace('\\n','_').str.strip()"
   ]
  },
  {
   "cell_type": "code",
   "execution_count": 11,
   "metadata": {},
   "outputs": [
    {
     "name": "stdout",
     "output_type": "stream",
     "text": [
      "<class 'pandas.core.frame.DataFrame'>\n",
      "RangeIndex: 73124 entries, 0 to 73123\n",
      "Data columns (total 10 columns):\n",
      " #   Column         Non-Null Count  Dtype  \n",
      "---  ------         --------------  -----  \n",
      " 0   date           73124 non-null  object \n",
      " 1   hour           73124 non-null  int64  \n",
      " 2   offense_type   73124 non-null  object \n",
      " 3   beat           73124 non-null  object \n",
      " 4   premise        73124 non-null  object \n",
      " 5   block_range    73124 non-null  object \n",
      " 6   street_name    73124 non-null  object \n",
      " 7   type           73124 non-null  object \n",
      " 8   suffix         73124 non-null  object \n",
      " 9   #_of_offenses  73124 non-null  float64\n",
      "dtypes: float64(1), int64(1), object(8)\n",
      "memory usage: 5.6+ MB\n"
     ]
    }
   ],
   "source": [
    "df.info()"
   ]
  },
  {
   "cell_type": "code",
   "execution_count": 12,
   "metadata": {},
   "outputs": [
    {
     "data": {
      "text/html": [
       "<div>\n",
       "<style scoped>\n",
       "    .dataframe tbody tr th:only-of-type {\n",
       "        vertical-align: middle;\n",
       "    }\n",
       "\n",
       "    .dataframe tbody tr th {\n",
       "        vertical-align: top;\n",
       "    }\n",
       "\n",
       "    .dataframe thead th {\n",
       "        text-align: right;\n",
       "    }\n",
       "</style>\n",
       "<table border=\"1\" class=\"dataframe\">\n",
       "  <thead>\n",
       "    <tr style=\"text-align: right;\">\n",
       "      <th></th>\n",
       "      <th>date</th>\n",
       "      <th>hour</th>\n",
       "      <th>offense_type</th>\n",
       "      <th>beat</th>\n",
       "      <th>premise</th>\n",
       "      <th>block_range</th>\n",
       "      <th>street_name</th>\n",
       "      <th>type</th>\n",
       "      <th>suffix</th>\n",
       "      <th>#_of_offenses</th>\n",
       "    </tr>\n",
       "  </thead>\n",
       "  <tbody>\n",
       "    <tr>\n",
       "      <th>0</th>\n",
       "      <td>08/01/09 00:00:00</td>\n",
       "      <td>0</td>\n",
       "      <td>Robbery</td>\n",
       "      <td>3B30</td>\n",
       "      <td>210</td>\n",
       "      <td>3000-3099</td>\n",
       "      <td>DURHAM</td>\n",
       "      <td>DR</td>\n",
       "      <td>N</td>\n",
       "      <td>1.0</td>\n",
       "    </tr>\n",
       "    <tr>\n",
       "      <th>1</th>\n",
       "      <td>08/01/09 00:00:00</td>\n",
       "      <td>0</td>\n",
       "      <td>Robbery</td>\n",
       "      <td>6B60</td>\n",
       "      <td>20A</td>\n",
       "      <td>500-599</td>\n",
       "      <td>SEMINAR</td>\n",
       "      <td>DR</td>\n",
       "      <td>-</td>\n",
       "      <td>1.0</td>\n",
       "    </tr>\n",
       "    <tr>\n",
       "      <th>2</th>\n",
       "      <td>08/01/09 00:00:00</td>\n",
       "      <td>0</td>\n",
       "      <td>Robbery</td>\n",
       "      <td>6B30</td>\n",
       "      <td>18N</td>\n",
       "      <td>8300-8399</td>\n",
       "      <td>NORTH HOUSTON ROSSLYN</td>\n",
       "      <td>RD</td>\n",
       "      <td>-</td>\n",
       "      <td>1.0</td>\n",
       "    </tr>\n",
       "    <tr>\n",
       "      <th>3</th>\n",
       "      <td>08/01/09 00:00:00</td>\n",
       "      <td>0</td>\n",
       "      <td>Robbery</td>\n",
       "      <td>18F30</td>\n",
       "      <td>18A</td>\n",
       "      <td>6300-6399</td>\n",
       "      <td>SKYLINE</td>\n",
       "      <td>DR</td>\n",
       "      <td>-</td>\n",
       "      <td>1.0</td>\n",
       "    </tr>\n",
       "    <tr>\n",
       "      <th>4</th>\n",
       "      <td>08/01/09 00:00:00</td>\n",
       "      <td>0</td>\n",
       "      <td>Robbery</td>\n",
       "      <td>2A20</td>\n",
       "      <td>18N</td>\n",
       "      <td>5900-5999</td>\n",
       "      <td>FULTON</td>\n",
       "      <td>ST</td>\n",
       "      <td>-</td>\n",
       "      <td>1.0</td>\n",
       "    </tr>\n",
       "  </tbody>\n",
       "</table>\n",
       "</div>"
      ],
      "text/plain": [
       "                date  hour offense_type   beat premise block_range  \\\n",
       "0  08/01/09 00:00:00     0      Robbery   3B30     210   3000-3099   \n",
       "1  08/01/09 00:00:00     0      Robbery   6B60     20A     500-599   \n",
       "2  08/01/09 00:00:00     0      Robbery   6B30     18N   8300-8399   \n",
       "3  08/01/09 00:00:00     0      Robbery  18F30     18A   6300-6399   \n",
       "4  08/01/09 00:00:00     0      Robbery   2A20     18N   5900-5999   \n",
       "\n",
       "             street_name type suffix  #_of_offenses  \n",
       "0                 DURHAM   DR      N            1.0  \n",
       "1                SEMINAR   DR      -            1.0  \n",
       "2  NORTH HOUSTON ROSSLYN   RD      -            1.0  \n",
       "3                SKYLINE   DR      -            1.0  \n",
       "4                 FULTON   ST      -            1.0  "
      ]
     },
     "execution_count": 12,
     "metadata": {},
     "output_type": "execute_result"
    }
   ],
   "source": [
    "df.head()"
   ]
  },
  {
   "cell_type": "markdown",
   "metadata": {},
   "source": [
    "## Show null data"
   ]
  },
  {
   "cell_type": "code",
   "execution_count": 13,
   "metadata": {},
   "outputs": [
    {
     "data": {
      "text/plain": [
       "date             0\n",
       "hour             0\n",
       "offense_type     0\n",
       "beat             0\n",
       "premise          0\n",
       "block_range      0\n",
       "street_name      0\n",
       "type             0\n",
       "suffix           0\n",
       "#_of_offenses    0\n",
       "dtype: int64"
      ]
     },
     "execution_count": 13,
     "metadata": {},
     "output_type": "execute_result"
    }
   ],
   "source": [
    "df.apply(lambda x: sum(x.isnull()))"
   ]
  },
  {
   "cell_type": "code",
   "execution_count": 14,
   "metadata": {},
   "outputs": [
    {
     "data": {
      "text/html": [
       "<div>\n",
       "<style scoped>\n",
       "    .dataframe tbody tr th:only-of-type {\n",
       "        vertical-align: middle;\n",
       "    }\n",
       "\n",
       "    .dataframe tbody tr th {\n",
       "        vertical-align: top;\n",
       "    }\n",
       "\n",
       "    .dataframe thead th {\n",
       "        text-align: right;\n",
       "    }\n",
       "</style>\n",
       "<table border=\"1\" class=\"dataframe\">\n",
       "  <thead>\n",
       "    <tr style=\"text-align: right;\">\n",
       "      <th></th>\n",
       "      <th>null_percent</th>\n",
       "    </tr>\n",
       "  </thead>\n",
       "  <tbody>\n",
       "    <tr>\n",
       "      <th>date</th>\n",
       "      <td>0.0</td>\n",
       "    </tr>\n",
       "    <tr>\n",
       "      <th>hour</th>\n",
       "      <td>0.0</td>\n",
       "    </tr>\n",
       "    <tr>\n",
       "      <th>offense_type</th>\n",
       "      <td>0.0</td>\n",
       "    </tr>\n",
       "    <tr>\n",
       "      <th>beat</th>\n",
       "      <td>0.0</td>\n",
       "    </tr>\n",
       "    <tr>\n",
       "      <th>premise</th>\n",
       "      <td>0.0</td>\n",
       "    </tr>\n",
       "    <tr>\n",
       "      <th>block_range</th>\n",
       "      <td>0.0</td>\n",
       "    </tr>\n",
       "    <tr>\n",
       "      <th>street_name</th>\n",
       "      <td>0.0</td>\n",
       "    </tr>\n",
       "    <tr>\n",
       "      <th>type</th>\n",
       "      <td>0.0</td>\n",
       "    </tr>\n",
       "    <tr>\n",
       "      <th>suffix</th>\n",
       "      <td>0.0</td>\n",
       "    </tr>\n",
       "    <tr>\n",
       "      <th>#_of_offenses</th>\n",
       "      <td>0.0</td>\n",
       "    </tr>\n",
       "  </tbody>\n",
       "</table>\n",
       "</div>"
      ],
      "text/plain": [
       "               null_percent\n",
       "date                    0.0\n",
       "hour                    0.0\n",
       "offense_type            0.0\n",
       "beat                    0.0\n",
       "premise                 0.0\n",
       "block_range             0.0\n",
       "street_name             0.0\n",
       "type                    0.0\n",
       "suffix                  0.0\n",
       "#_of_offenses           0.0"
      ]
     },
     "execution_count": 14,
     "metadata": {},
     "output_type": "execute_result"
    }
   ],
   "source": [
    "# create null percentage of column as dataframe\n",
    "null_per_df = pd.DataFrame(df.isna().mean().round(4) * 100)\n",
    "# rename columns\n",
    "null_per_df.rename(columns={'index': 'col_name', 0: 'null_percent'}, inplace=True)\n",
    "\n",
    "# filter data <20% null values\n",
    "per_filter = null_per_df.null_percent<=90\n",
    "null_per_df[per_filter].sort_values(by='null_percent',ascending=False)"
   ]
  },
  {
   "cell_type": "code",
   "execution_count": 15,
   "metadata": {},
   "outputs": [
    {
     "data": {
      "image/png": "[encoded data removed]",
      "text/plain": [
       "<Figure size 1500x400 with 1 Axes>"
      ]
     },
     "metadata": {},
     "output_type": "display_data"
    }
   ],
   "source": [
    "plt.figure(figsize=(15,4))\n",
    "sns.heatmap(df.isnull(),yticklabels=False,cbar=False,cmap='viridis')\n",
    "plt.title('Missing data')\n",
    "plt.show()"
   ]
  },
  {
   "cell_type": "code",
   "execution_count": 16,
   "metadata": {},
   "outputs": [
    {
     "data": {
      "text/plain": [
       "['date',\n",
       " 'hour',\n",
       " 'offense_type',\n",
       " 'beat',\n",
       " 'premise',\n",
       " 'block_range',\n",
       " 'street_name',\n",
       " 'type',\n",
       " 'suffix',\n",
       " '#_of_offenses']"
      ]
     },
     "execution_count": 16,
     "metadata": {},
     "output_type": "execute_result"
    }
   ],
   "source": [
    "df.columns.tolist()"
   ]
  },
  {
   "cell_type": "code",
   "execution_count": 17,
   "metadata": {},
   "outputs": [],
   "source": [
    "# change column name\n",
    "df = df.rename(columns={'#_of_offenses': 'offenses'})"
   ]
  },
  {
   "cell_type": "code",
   "execution_count": 18,
   "metadata": {},
   "outputs": [
    {
     "data": {
      "text/plain": [
       "['date',\n",
       " 'hour',\n",
       " 'offense_type',\n",
       " 'beat',\n",
       " 'premise',\n",
       " 'block_range',\n",
       " 'street_name',\n",
       " 'type',\n",
       " 'suffix',\n",
       " 'offenses']"
      ]
     },
     "execution_count": 18,
     "metadata": {},
     "output_type": "execute_result"
    }
   ],
   "source": [
    "df.columns.tolist()"
   ]
  },
  {
   "cell_type": "markdown",
   "metadata": {},
   "source": [
    "## Combine and drop columns"
   ]
  },
  {
   "cell_type": "code",
   "execution_count": 19,
   "metadata": {},
   "outputs": [],
   "source": [
    "# # combine columns into a new one\n",
    "# df['offenses'] = pd.concat([df['#_of_offenses'].dropna(),\n",
    "#                               df['._of_offenses'].dropna()]).reindex_like(df)\n",
    "\n",
    "# # drop columns\n",
    "# df = df.drop(['#_of_offenses','._of_offenses'], axis = 1)"
   ]
  },
  {
   "cell_type": "code",
   "execution_count": 20,
   "metadata": {},
   "outputs": [
    {
     "data": {
      "text/plain": [
       "date            0\n",
       "hour            0\n",
       "offense_type    0\n",
       "beat            0\n",
       "premise         0\n",
       "block_range     0\n",
       "street_name     0\n",
       "type            0\n",
       "suffix          0\n",
       "offenses        0\n",
       "dtype: int64"
      ]
     },
     "execution_count": 20,
     "metadata": {},
     "output_type": "execute_result"
    }
   ],
   "source": [
    "df.apply(lambda x: sum(x.isnull()))"
   ]
  },
  {
   "cell_type": "code",
   "execution_count": 21,
   "metadata": {},
   "outputs": [
    {
     "data": {
      "image/png": "[encoded data removed]",
      "text/plain": [
       "<Figure size 1500x400 with 1 Axes>"
      ]
     },
     "metadata": {},
     "output_type": "display_data"
    }
   ],
   "source": [
    "plt.figure(figsize=(15,4))\n",
    "sns.heatmap(df.isnull(),yticklabels=False,cbar=False,cmap='viridis')\n",
    "plt.title('Missing data')\n",
    "plt.show()"
   ]
  },
  {
   "cell_type": "markdown",
   "metadata": {},
   "source": [
    "## Combine columns "
   ]
  },
  {
   "cell_type": "markdown",
   "metadata": {},
   "source": [
    "## Combine date & hour to one column"
   ]
  },
  {
   "cell_type": "code",
   "execution_count": 22,
   "metadata": {},
   "outputs": [],
   "source": [
    "# convert two columns into one datetime\n",
    "df['date_time'] = pd.to_datetime(df['date']) + pd.to_timedelta(df['hour'], unit='h')\n",
    "\n",
    "# drop columns\n",
    "#df = df.drop(['date','hour'], axis = 1)"
   ]
  },
  {
   "cell_type": "code",
   "execution_count": 23,
   "metadata": {},
   "outputs": [
    {
     "name": "stdout",
     "output_type": "stream",
     "text": [
      "<class 'pandas.core.frame.DataFrame'>\n",
      "RangeIndex: 73124 entries, 0 to 73123\n",
      "Data columns (total 11 columns):\n",
      " #   Column        Non-Null Count  Dtype         \n",
      "---  ------        --------------  -----         \n",
      " 0   date          73124 non-null  object        \n",
      " 1   hour          73124 non-null  int64         \n",
      " 2   offense_type  73124 non-null  object        \n",
      " 3   beat          73124 non-null  object        \n",
      " 4   premise       73124 non-null  object        \n",
      " 5   block_range   73124 non-null  object        \n",
      " 6   street_name   73124 non-null  object        \n",
      " 7   type          73124 non-null  object        \n",
      " 8   suffix        73124 non-null  object        \n",
      " 9   offenses      73124 non-null  float64       \n",
      " 10  date_time     73124 non-null  datetime64[ns]\n",
      "dtypes: datetime64[ns](1), float64(1), int64(1), object(8)\n",
      "memory usage: 6.1+ MB\n"
     ]
    }
   ],
   "source": [
    "df.info()"
   ]
  },
  {
   "cell_type": "code",
   "execution_count": 24,
   "metadata": {},
   "outputs": [
    {
     "data": {
      "text/html": [
       "<div>\n",
       "<style scoped>\n",
       "    .dataframe tbody tr th:only-of-type {\n",
       "        vertical-align: middle;\n",
       "    }\n",
       "\n",
       "    .dataframe tbody tr th {\n",
       "        vertical-align: top;\n",
       "    }\n",
       "\n",
       "    .dataframe thead th {\n",
       "        text-align: right;\n",
       "    }\n",
       "</style>\n",
       "<table border=\"1\" class=\"dataframe\">\n",
       "  <thead>\n",
       "    <tr style=\"text-align: right;\">\n",
       "      <th></th>\n",
       "      <th>date</th>\n",
       "      <th>hour</th>\n",
       "      <th>offense_type</th>\n",
       "      <th>beat</th>\n",
       "      <th>premise</th>\n",
       "      <th>block_range</th>\n",
       "      <th>street_name</th>\n",
       "      <th>type</th>\n",
       "      <th>suffix</th>\n",
       "      <th>offenses</th>\n",
       "      <th>date_time</th>\n",
       "    </tr>\n",
       "  </thead>\n",
       "  <tbody>\n",
       "    <tr>\n",
       "      <th>0</th>\n",
       "      <td>08/01/09 00:00:00</td>\n",
       "      <td>0</td>\n",
       "      <td>Robbery</td>\n",
       "      <td>3B30</td>\n",
       "      <td>210</td>\n",
       "      <td>3000-3099</td>\n",
       "      <td>DURHAM</td>\n",
       "      <td>DR</td>\n",
       "      <td>N</td>\n",
       "      <td>1.0</td>\n",
       "      <td>2009-08-01</td>\n",
       "    </tr>\n",
       "    <tr>\n",
       "      <th>1</th>\n",
       "      <td>08/01/09 00:00:00</td>\n",
       "      <td>0</td>\n",
       "      <td>Robbery</td>\n",
       "      <td>6B60</td>\n",
       "      <td>20A</td>\n",
       "      <td>500-599</td>\n",
       "      <td>SEMINAR</td>\n",
       "      <td>DR</td>\n",
       "      <td>-</td>\n",
       "      <td>1.0</td>\n",
       "      <td>2009-08-01</td>\n",
       "    </tr>\n",
       "    <tr>\n",
       "      <th>2</th>\n",
       "      <td>08/01/09 00:00:00</td>\n",
       "      <td>0</td>\n",
       "      <td>Robbery</td>\n",
       "      <td>6B30</td>\n",
       "      <td>18N</td>\n",
       "      <td>8300-8399</td>\n",
       "      <td>NORTH HOUSTON ROSSLYN</td>\n",
       "      <td>RD</td>\n",
       "      <td>-</td>\n",
       "      <td>1.0</td>\n",
       "      <td>2009-08-01</td>\n",
       "    </tr>\n",
       "    <tr>\n",
       "      <th>3</th>\n",
       "      <td>08/01/09 00:00:00</td>\n",
       "      <td>0</td>\n",
       "      <td>Robbery</td>\n",
       "      <td>18F30</td>\n",
       "      <td>18A</td>\n",
       "      <td>6300-6399</td>\n",
       "      <td>SKYLINE</td>\n",
       "      <td>DR</td>\n",
       "      <td>-</td>\n",
       "      <td>1.0</td>\n",
       "      <td>2009-08-01</td>\n",
       "    </tr>\n",
       "    <tr>\n",
       "      <th>4</th>\n",
       "      <td>08/01/09 00:00:00</td>\n",
       "      <td>0</td>\n",
       "      <td>Robbery</td>\n",
       "      <td>2A20</td>\n",
       "      <td>18N</td>\n",
       "      <td>5900-5999</td>\n",
       "      <td>FULTON</td>\n",
       "      <td>ST</td>\n",
       "      <td>-</td>\n",
       "      <td>1.0</td>\n",
       "      <td>2009-08-01</td>\n",
       "    </tr>\n",
       "  </tbody>\n",
       "</table>\n",
       "</div>"
      ],
      "text/plain": [
       "                date  hour offense_type   beat premise block_range  \\\n",
       "0  08/01/09 00:00:00     0      Robbery   3B30     210   3000-3099   \n",
       "1  08/01/09 00:00:00     0      Robbery   6B60     20A     500-599   \n",
       "2  08/01/09 00:00:00     0      Robbery   6B30     18N   8300-8399   \n",
       "3  08/01/09 00:00:00     0      Robbery  18F30     18A   6300-6399   \n",
       "4  08/01/09 00:00:00     0      Robbery   2A20     18N   5900-5999   \n",
       "\n",
       "             street_name type suffix  offenses  date_time  \n",
       "0                 DURHAM   DR      N       1.0 2009-08-01  \n",
       "1                SEMINAR   DR      -       1.0 2009-08-01  \n",
       "2  NORTH HOUSTON ROSSLYN   RD      -       1.0 2009-08-01  \n",
       "3                SKYLINE   DR      -       1.0 2009-08-01  \n",
       "4                 FULTON   ST      -       1.0 2009-08-01  "
      ]
     },
     "execution_count": 24,
     "metadata": {},
     "output_type": "execute_result"
    }
   ],
   "source": [
    "df.head()"
   ]
  },
  {
   "cell_type": "markdown",
   "metadata": {},
   "source": [
    "## Convert offenses to integer"
   ]
  },
  {
   "cell_type": "code",
   "execution_count": 25,
   "metadata": {},
   "outputs": [],
   "source": [
    "# convert offenses to int\n",
    "df['offenses'] = df['offenses'].astype('int64')"
   ]
  },
  {
   "cell_type": "code",
   "execution_count": 26,
   "metadata": {},
   "outputs": [
    {
     "name": "stdout",
     "output_type": "stream",
     "text": [
      "<class 'pandas.core.frame.DataFrame'>\n",
      "RangeIndex: 73124 entries, 0 to 73123\n",
      "Data columns (total 11 columns):\n",
      " #   Column        Non-Null Count  Dtype         \n",
      "---  ------        --------------  -----         \n",
      " 0   date          73124 non-null  object        \n",
      " 1   hour          73124 non-null  int64         \n",
      " 2   offense_type  73124 non-null  object        \n",
      " 3   beat          73124 non-null  object        \n",
      " 4   premise       73124 non-null  object        \n",
      " 5   block_range   73124 non-null  object        \n",
      " 6   street_name   73124 non-null  object        \n",
      " 7   type          73124 non-null  object        \n",
      " 8   suffix        73124 non-null  object        \n",
      " 9   offenses      73124 non-null  int64         \n",
      " 10  date_time     73124 non-null  datetime64[ns]\n",
      "dtypes: datetime64[ns](1), int64(2), object(8)\n",
      "memory usage: 6.1+ MB\n"
     ]
    }
   ],
   "source": [
    "df.info()"
   ]
  },
  {
   "cell_type": "markdown",
   "metadata": {},
   "source": [
    "# Create a year column\n",
    "- to identify orgin of data"
   ]
  },
  {
   "cell_type": "code",
   "execution_count": 27,
   "metadata": {},
   "outputs": [],
   "source": [
    "df['year'] = 2009"
   ]
  },
  {
   "cell_type": "code",
   "execution_count": 28,
   "metadata": {},
   "outputs": [
    {
     "data": {
      "text/html": [
       "<div>\n",
       "<style scoped>\n",
       "    .dataframe tbody tr th:only-of-type {\n",
       "        vertical-align: middle;\n",
       "    }\n",
       "\n",
       "    .dataframe tbody tr th {\n",
       "        vertical-align: top;\n",
       "    }\n",
       "\n",
       "    .dataframe thead th {\n",
       "        text-align: right;\n",
       "    }\n",
       "</style>\n",
       "<table border=\"1\" class=\"dataframe\">\n",
       "  <thead>\n",
       "    <tr style=\"text-align: right;\">\n",
       "      <th></th>\n",
       "      <th>date</th>\n",
       "      <th>hour</th>\n",
       "      <th>offense_type</th>\n",
       "      <th>beat</th>\n",
       "      <th>premise</th>\n",
       "      <th>block_range</th>\n",
       "      <th>street_name</th>\n",
       "      <th>type</th>\n",
       "      <th>suffix</th>\n",
       "      <th>offenses</th>\n",
       "      <th>date_time</th>\n",
       "      <th>year</th>\n",
       "    </tr>\n",
       "  </thead>\n",
       "  <tbody>\n",
       "    <tr>\n",
       "      <th>0</th>\n",
       "      <td>08/01/09 00:00:00</td>\n",
       "      <td>0</td>\n",
       "      <td>Robbery</td>\n",
       "      <td>3B30</td>\n",
       "      <td>210</td>\n",
       "      <td>3000-3099</td>\n",
       "      <td>DURHAM</td>\n",
       "      <td>DR</td>\n",
       "      <td>N</td>\n",
       "      <td>1</td>\n",
       "      <td>2009-08-01</td>\n",
       "      <td>2009</td>\n",
       "    </tr>\n",
       "    <tr>\n",
       "      <th>1</th>\n",
       "      <td>08/01/09 00:00:00</td>\n",
       "      <td>0</td>\n",
       "      <td>Robbery</td>\n",
       "      <td>6B60</td>\n",
       "      <td>20A</td>\n",
       "      <td>500-599</td>\n",
       "      <td>SEMINAR</td>\n",
       "      <td>DR</td>\n",
       "      <td>-</td>\n",
       "      <td>1</td>\n",
       "      <td>2009-08-01</td>\n",
       "      <td>2009</td>\n",
       "    </tr>\n",
       "    <tr>\n",
       "      <th>2</th>\n",
       "      <td>08/01/09 00:00:00</td>\n",
       "      <td>0</td>\n",
       "      <td>Robbery</td>\n",
       "      <td>6B30</td>\n",
       "      <td>18N</td>\n",
       "      <td>8300-8399</td>\n",
       "      <td>NORTH HOUSTON ROSSLYN</td>\n",
       "      <td>RD</td>\n",
       "      <td>-</td>\n",
       "      <td>1</td>\n",
       "      <td>2009-08-01</td>\n",
       "      <td>2009</td>\n",
       "    </tr>\n",
       "    <tr>\n",
       "      <th>3</th>\n",
       "      <td>08/01/09 00:00:00</td>\n",
       "      <td>0</td>\n",
       "      <td>Robbery</td>\n",
       "      <td>18F30</td>\n",
       "      <td>18A</td>\n",
       "      <td>6300-6399</td>\n",
       "      <td>SKYLINE</td>\n",
       "      <td>DR</td>\n",
       "      <td>-</td>\n",
       "      <td>1</td>\n",
       "      <td>2009-08-01</td>\n",
       "      <td>2009</td>\n",
       "    </tr>\n",
       "    <tr>\n",
       "      <th>4</th>\n",
       "      <td>08/01/09 00:00:00</td>\n",
       "      <td>0</td>\n",
       "      <td>Robbery</td>\n",
       "      <td>2A20</td>\n",
       "      <td>18N</td>\n",
       "      <td>5900-5999</td>\n",
       "      <td>FULTON</td>\n",
       "      <td>ST</td>\n",
       "      <td>-</td>\n",
       "      <td>1</td>\n",
       "      <td>2009-08-01</td>\n",
       "      <td>2009</td>\n",
       "    </tr>\n",
       "  </tbody>\n",
       "</table>\n",
       "</div>"
      ],
      "text/plain": [
       "                date  hour offense_type   beat premise block_range  \\\n",
       "0  08/01/09 00:00:00     0      Robbery   3B30     210   3000-3099   \n",
       "1  08/01/09 00:00:00     0      Robbery   6B60     20A     500-599   \n",
       "2  08/01/09 00:00:00     0      Robbery   6B30     18N   8300-8399   \n",
       "3  08/01/09 00:00:00     0      Robbery  18F30     18A   6300-6399   \n",
       "4  08/01/09 00:00:00     0      Robbery   2A20     18N   5900-5999   \n",
       "\n",
       "             street_name type suffix  offenses  date_time  year  \n",
       "0                 DURHAM   DR      N         1 2009-08-01  2009  \n",
       "1                SEMINAR   DR      -         1 2009-08-01  2009  \n",
       "2  NORTH HOUSTON ROSSLYN   RD      -         1 2009-08-01  2009  \n",
       "3                SKYLINE   DR      -         1 2009-08-01  2009  \n",
       "4                 FULTON   ST      -         1 2009-08-01  2009  "
      ]
     },
     "execution_count": 28,
     "metadata": {},
     "output_type": "execute_result"
    }
   ],
   "source": [
    "df.head()"
   ]
  },
  {
   "cell_type": "markdown",
   "metadata": {},
   "source": [
    "## change order of columns"
   ]
  },
  {
   "cell_type": "code",
   "execution_count": 29,
   "metadata": {},
   "outputs": [
    {
     "data": {
      "text/html": [
       "<div>\n",
       "<style scoped>\n",
       "    .dataframe tbody tr th:only-of-type {\n",
       "        vertical-align: middle;\n",
       "    }\n",
       "\n",
       "    .dataframe tbody tr th {\n",
       "        vertical-align: top;\n",
       "    }\n",
       "\n",
       "    .dataframe thead th {\n",
       "        text-align: right;\n",
       "    }\n",
       "</style>\n",
       "<table border=\"1\" class=\"dataframe\">\n",
       "  <thead>\n",
       "    <tr style=\"text-align: right;\">\n",
       "      <th></th>\n",
       "      <th>date_time</th>\n",
       "      <th>offenses</th>\n",
       "      <th>offense_type</th>\n",
       "      <th>block_range</th>\n",
       "      <th>street_name</th>\n",
       "      <th>type</th>\n",
       "      <th>suffix</th>\n",
       "      <th>beat</th>\n",
       "      <th>premise</th>\n",
       "      <th>date</th>\n",
       "      <th>hour</th>\n",
       "      <th>year</th>\n",
       "    </tr>\n",
       "  </thead>\n",
       "  <tbody>\n",
       "    <tr>\n",
       "      <th>0</th>\n",
       "      <td>2009-08-01</td>\n",
       "      <td>1</td>\n",
       "      <td>Robbery</td>\n",
       "      <td>3000-3099</td>\n",
       "      <td>DURHAM</td>\n",
       "      <td>DR</td>\n",
       "      <td>N</td>\n",
       "      <td>3B30</td>\n",
       "      <td>210</td>\n",
       "      <td>08/01/09 00:00:00</td>\n",
       "      <td>0</td>\n",
       "      <td>2009</td>\n",
       "    </tr>\n",
       "    <tr>\n",
       "      <th>1</th>\n",
       "      <td>2009-08-01</td>\n",
       "      <td>1</td>\n",
       "      <td>Robbery</td>\n",
       "      <td>500-599</td>\n",
       "      <td>SEMINAR</td>\n",
       "      <td>DR</td>\n",
       "      <td>-</td>\n",
       "      <td>6B60</td>\n",
       "      <td>20A</td>\n",
       "      <td>08/01/09 00:00:00</td>\n",
       "      <td>0</td>\n",
       "      <td>2009</td>\n",
       "    </tr>\n",
       "    <tr>\n",
       "      <th>2</th>\n",
       "      <td>2009-08-01</td>\n",
       "      <td>1</td>\n",
       "      <td>Robbery</td>\n",
       "      <td>8300-8399</td>\n",
       "      <td>NORTH HOUSTON ROSSLYN</td>\n",
       "      <td>RD</td>\n",
       "      <td>-</td>\n",
       "      <td>6B30</td>\n",
       "      <td>18N</td>\n",
       "      <td>08/01/09 00:00:00</td>\n",
       "      <td>0</td>\n",
       "      <td>2009</td>\n",
       "    </tr>\n",
       "    <tr>\n",
       "      <th>3</th>\n",
       "      <td>2009-08-01</td>\n",
       "      <td>1</td>\n",
       "      <td>Robbery</td>\n",
       "      <td>6300-6399</td>\n",
       "      <td>SKYLINE</td>\n",
       "      <td>DR</td>\n",
       "      <td>-</td>\n",
       "      <td>18F30</td>\n",
       "      <td>18A</td>\n",
       "      <td>08/01/09 00:00:00</td>\n",
       "      <td>0</td>\n",
       "      <td>2009</td>\n",
       "    </tr>\n",
       "    <tr>\n",
       "      <th>4</th>\n",
       "      <td>2009-08-01</td>\n",
       "      <td>1</td>\n",
       "      <td>Robbery</td>\n",
       "      <td>5900-5999</td>\n",
       "      <td>FULTON</td>\n",
       "      <td>ST</td>\n",
       "      <td>-</td>\n",
       "      <td>2A20</td>\n",
       "      <td>18N</td>\n",
       "      <td>08/01/09 00:00:00</td>\n",
       "      <td>0</td>\n",
       "      <td>2009</td>\n",
       "    </tr>\n",
       "  </tbody>\n",
       "</table>\n",
       "</div>"
      ],
      "text/plain": [
       "   date_time  offenses offense_type block_range            street_name type  \\\n",
       "0 2009-08-01         1      Robbery   3000-3099                 DURHAM   DR   \n",
       "1 2009-08-01         1      Robbery     500-599                SEMINAR   DR   \n",
       "2 2009-08-01         1      Robbery   8300-8399  NORTH HOUSTON ROSSLYN   RD   \n",
       "3 2009-08-01         1      Robbery   6300-6399                SKYLINE   DR   \n",
       "4 2009-08-01         1      Robbery   5900-5999                 FULTON   ST   \n",
       "\n",
       "  suffix   beat premise               date  hour  year  \n",
       "0      N   3B30     210  08/01/09 00:00:00     0  2009  \n",
       "1      -   6B60     20A  08/01/09 00:00:00     0  2009  \n",
       "2      -   6B30     18N  08/01/09 00:00:00     0  2009  \n",
       "3      -  18F30     18A  08/01/09 00:00:00     0  2009  \n",
       "4      -   2A20     18N  08/01/09 00:00:00     0  2009  "
      ]
     },
     "execution_count": 29,
     "metadata": {},
     "output_type": "execute_result"
    }
   ],
   "source": [
    "col_ord =['date_time','offenses','offense_type', 'block_range', 'street_name', 'type', 'suffix','beat', 'premise','date','hour','year']\n",
    "df = df[col_ord]\n",
    "df.head()"
   ]
  },
  {
   "cell_type": "code",
   "execution_count": 41,
   "metadata": {},
   "outputs": [
    {
     "data": {
      "text/plain": [
       "0     4456\n",
       "18    4422\n",
       "22    4405\n",
       "17    4132\n",
       "20    4107\n",
       "21    4038\n",
       "19    4030\n",
       "23    3821\n",
       "12    3794\n",
       "15    3506\n",
       "16    3471\n",
       "14    3263\n",
       "13    2988\n",
       "8     2779\n",
       "11    2769\n",
       "10    2708\n",
       "7     2534\n",
       "9     2373\n",
       "1     2215\n",
       "2     2084\n",
       "6     1596\n",
       "3     1449\n",
       "4     1109\n",
       "5     1075\n",
       "Name: hour, dtype: int64"
      ]
     },
     "execution_count": 41,
     "metadata": {},
     "output_type": "execute_result"
    }
   ],
   "source": []
  },
  {
   "cell_type": "code",
   "execution_count": 30,
   "metadata": {},
   "outputs": [
    {
     "data": {
      "text/plain": [
       "19G10    1701\n",
       "6B60     1609\n",
       "12D10    1559\n",
       "3B10     1471\n",
       "1A20     1355\n",
       "         ... \n",
       "21I20      38\n",
       "21I60      34\n",
       "21I70      10\n",
       "21I40       2\n",
       "23J40       1\n",
       "Name: beat, Length: 118, dtype: int64"
      ]
     },
     "execution_count": 30,
     "metadata": {},
     "output_type": "execute_result"
    }
   ],
   "source": [
    "df.beat.value_counts(dropna=False)"
   ]
  },
  {
   "cell_type": "code",
   "execution_count": 31,
   "metadata": {},
   "outputs": [
    {
     "data": {
      "text/plain": [
       "array(['3B30', '6B60', '6B30', '18F30', '2A20', '6B10', '3B50', '19G40',\n",
       "       '14D40', '14D20', '14D30', '1A50', '18F50', '18F20', '9C10',\n",
       "       '16E30', '1A20', '5F20', '5F30', '17E10', '17E40', '2A60', '12D70',\n",
       "       '20G50', '12D20', '8C50', '20G10', '10H60', '18F60', '18F40',\n",
       "       '5F10', '7C50', '20G30', '16E20', '11H10', '17E20', '9C40',\n",
       "       '20G60', '8C40', '11H30', '20G80', '6B50', '15E30', '1A30',\n",
       "       '10H30', '13D20', '1A10', '19G20', '10H70', '12D10', '19G10',\n",
       "       '3B10', '13D10', '7C30', '19G50', '5F40', 'UNK', '15E10', '16E40',\n",
       "       '7C20', '14D10', '19G30', '3B40', '7C40', '21I50', '20G20', '8C10',\n",
       "       '11H20', '20G40', '7C10', '12D50', '6B20', '9C20', '2A50', '2A10',\n",
       "       '2A30', '12D30', '15E40', '12D40', '4F20', '12D60', '14D50',\n",
       "       '6B40', '9C30', '10H20', '10H80', '17E30', '8C30', '13D40',\n",
       "       '10H40', '15E20', '21I30', '24C10', '16E10', '4F10', '24C40',\n",
       "       '2A40', '10H50', '8C60', '8C20', '11H50', '24C30', '10H10',\n",
       "       '11H40', '24C50', '23J50', '1A40', '20G70', '21I10', '21I20',\n",
       "       '4F30', '21I60', '24C20', '18F10', '21I70', '13D30', '23J40',\n",
       "       '21I40'], dtype=object)"
      ]
     },
     "execution_count": 31,
     "metadata": {},
     "output_type": "execute_result"
    }
   ],
   "source": [
    "df.beat.unique()"
   ]
  },
  {
   "cell_type": "code",
   "execution_count": 32,
   "metadata": {},
   "outputs": [
    {
     "name": "stdout",
     "output_type": "stream",
     "text": [
      "<class 'pandas.core.frame.DataFrame'>\n",
      "RangeIndex: 73124 entries, 0 to 73123\n",
      "Data columns (total 12 columns):\n",
      " #   Column        Non-Null Count  Dtype         \n",
      "---  ------        --------------  -----         \n",
      " 0   date_time     73124 non-null  datetime64[ns]\n",
      " 1   offenses      73124 non-null  int64         \n",
      " 2   offense_type  73124 non-null  object        \n",
      " 3   block_range   73124 non-null  object        \n",
      " 4   street_name   73124 non-null  object        \n",
      " 5   type          73124 non-null  object        \n",
      " 6   suffix        73124 non-null  object        \n",
      " 7   beat          73124 non-null  object        \n",
      " 8   premise       73124 non-null  object        \n",
      " 9   date          73124 non-null  object        \n",
      " 10  hour          73124 non-null  int64         \n",
      " 11  year          73124 non-null  int64         \n",
      "dtypes: datetime64[ns](1), int64(3), object(8)\n",
      "memory usage: 6.7+ MB\n"
     ]
    }
   ],
   "source": [
    "df.info()"
   ]
  },
  {
   "cell_type": "code",
   "execution_count": 42,
   "metadata": {},
   "outputs": [
    {
     "data": {
      "text/plain": [
       "array(['210', '20A', '18N', '18A', '20R', '040', '250', '070', '20D',\n",
       "       '13R', '140', '11P', '03B', '09D', '18M', '240', '120', '05O',\n",
       "       '02B', '05Z', '080', '18G', '18H', '01A', '20V', '18O', '18T',\n",
       "       '05G', '18P', '20G', '18R', '060', '23S', '20L', '20P', '18U',\n",
       "       '18C', '05R', '05L', '20C', '05T', '11R', '18L', '05W', '24J',\n",
       "       '18W', '190', '13H', '13B', '14V', '05C', '170', '03S', '05H',\n",
       "       '13S', '20W', '24E', '100', '22E', '20M', '01P', '22P', '24C',\n",
       "       '22U', '24F', '05D', '20N', '18B', '09H', '13A', '22D', '11G',\n",
       "       '05E', '01B', '24T', '05V', '05M', '05X', '05F', '11S', '24P',\n",
       "       '19V', '05P', '11F', '24B', '09P', '24A', '02C', '24S', '05B',\n",
       "       '18S', '05S', '22M', '05Q', '05N', '09R', '22H', '02S', '24V',\n",
       "       '25V', '24G', '150', '160', '13T', '18D', '05A', '11C', '22C',\n",
       "       '20H', '09V', '11L', '04V', '---', '05Y', '21V', '11V', '12V',\n",
       "       '01K', '05U', '23C', 'RES', '22V', '25R', '01R', '01T'],\n",
       "      dtype=object)"
      ]
     },
     "execution_count": 42,
     "metadata": {},
     "output_type": "execute_result"
    }
   ],
   "source": [
    "df.premise.unique()"
   ]
  },
  {
   "cell_type": "code",
   "execution_count": 46,
   "metadata": {},
   "outputs": [
    {
     "name": "stdout",
     "output_type": "stream",
     "text": [
      "<class 'pandas.core.frame.DataFrame'>\n",
      "RangeIndex: 73124 entries, 0 to 73123\n",
      "Data columns (total 12 columns):\n",
      " #   Column        Non-Null Count  Dtype         \n",
      "---  ------        --------------  -----         \n",
      " 0   date_time     73124 non-null  datetime64[ns]\n",
      " 1   offenses      73124 non-null  int64         \n",
      " 2   offense_type  73124 non-null  object        \n",
      " 3   block_range   73124 non-null  object        \n",
      " 4   street_name   73124 non-null  object        \n",
      " 5   type          73124 non-null  object        \n",
      " 6   suffix        73124 non-null  object        \n",
      " 7   beat          73124 non-null  object        \n",
      " 8   premise       73124 non-null  object        \n",
      " 9   date          73124 non-null  object        \n",
      " 10  hour          73124 non-null  int64         \n",
      " 11  year          73124 non-null  int64         \n",
      "dtypes: datetime64[ns](1), int64(3), object(8)\n",
      "memory usage: 6.7+ MB\n"
     ]
    }
   ],
   "source": [
    "df.info()"
   ]
  },
  {
   "cell_type": "code",
   "execution_count": 47,
   "metadata": {},
   "outputs": [
    {
     "data": {
      "text/html": [
       "<div>\n",
       "<style scoped>\n",
       "    .dataframe tbody tr th:only-of-type {\n",
       "        vertical-align: middle;\n",
       "    }\n",
       "\n",
       "    .dataframe tbody tr th {\n",
       "        vertical-align: top;\n",
       "    }\n",
       "\n",
       "    .dataframe thead th {\n",
       "        text-align: right;\n",
       "    }\n",
       "</style>\n",
       "<table border=\"1\" class=\"dataframe\">\n",
       "  <thead>\n",
       "    <tr style=\"text-align: right;\">\n",
       "      <th></th>\n",
       "      <th>date_time</th>\n",
       "      <th>offenses</th>\n",
       "      <th>offense_type</th>\n",
       "      <th>block_range</th>\n",
       "      <th>street_name</th>\n",
       "      <th>type</th>\n",
       "      <th>suffix</th>\n",
       "      <th>beat</th>\n",
       "      <th>premise</th>\n",
       "      <th>date</th>\n",
       "      <th>hour</th>\n",
       "      <th>year</th>\n",
       "    </tr>\n",
       "  </thead>\n",
       "  <tbody>\n",
       "    <tr>\n",
       "      <th>250</th>\n",
       "      <td>2009-08-01 15:00:00</td>\n",
       "      <td>1</td>\n",
       "      <td>Theft</td>\n",
       "      <td>3500-3599</td>\n",
       "      <td>TERMINAL</td>\n",
       "      <td>RD</td>\n",
       "      <td>N</td>\n",
       "      <td>21I30</td>\n",
       "      <td>01A</td>\n",
       "      <td>08/01/09 00:00:00</td>\n",
       "      <td>15</td>\n",
       "      <td>2009</td>\n",
       "    </tr>\n",
       "    <tr>\n",
       "      <th>498</th>\n",
       "      <td>2009-08-02 01:00:00</td>\n",
       "      <td>1</td>\n",
       "      <td>Theft</td>\n",
       "      <td>5200-5299</td>\n",
       "      <td>PAGEWICK</td>\n",
       "      <td>DR</td>\n",
       "      <td>E</td>\n",
       "      <td>4F20</td>\n",
       "      <td>20D</td>\n",
       "      <td>08/02/09 00:00:00</td>\n",
       "      <td>1</td>\n",
       "      <td>2009</td>\n",
       "    </tr>\n",
       "    <tr>\n",
       "      <th>515</th>\n",
       "      <td>2009-08-02 02:00:00</td>\n",
       "      <td>1</td>\n",
       "      <td>Theft</td>\n",
       "      <td>5600-5699</td>\n",
       "      <td>SANTA CHRISTI</td>\n",
       "      <td>DR</td>\n",
       "      <td>-</td>\n",
       "      <td>16E40</td>\n",
       "      <td>20D</td>\n",
       "      <td>08/02/09 00:00:00</td>\n",
       "      <td>2</td>\n",
       "      <td>2009</td>\n",
       "    </tr>\n",
       "    <tr>\n",
       "      <th>641</th>\n",
       "      <td>2009-08-02 14:00:00</td>\n",
       "      <td>1</td>\n",
       "      <td>Theft</td>\n",
       "      <td>900-999</td>\n",
       "      <td>GESSNER</td>\n",
       "      <td>DR</td>\n",
       "      <td>-</td>\n",
       "      <td>20G50</td>\n",
       "      <td>24J</td>\n",
       "      <td>08/02/09 00:00:00</td>\n",
       "      <td>14</td>\n",
       "      <td>2009</td>\n",
       "    </tr>\n",
       "    <tr>\n",
       "      <th>717</th>\n",
       "      <td>2009-08-02 18:00:00</td>\n",
       "      <td>1</td>\n",
       "      <td>Theft</td>\n",
       "      <td>3600-3699</td>\n",
       "      <td>WOODCHASE</td>\n",
       "      <td>-</td>\n",
       "      <td>-</td>\n",
       "      <td>20G10</td>\n",
       "      <td>18A</td>\n",
       "      <td>08/02/09 00:00:00</td>\n",
       "      <td>18</td>\n",
       "      <td>2009</td>\n",
       "    </tr>\n",
       "    <tr>\n",
       "      <th>...</th>\n",
       "      <td>...</td>\n",
       "      <td>...</td>\n",
       "      <td>...</td>\n",
       "      <td>...</td>\n",
       "      <td>...</td>\n",
       "      <td>...</td>\n",
       "      <td>...</td>\n",
       "      <td>...</td>\n",
       "      <td>...</td>\n",
       "      <td>...</td>\n",
       "      <td>...</td>\n",
       "      <td>...</td>\n",
       "    </tr>\n",
       "    <tr>\n",
       "      <th>72331</th>\n",
       "      <td>2009-09-27 13:00:00</td>\n",
       "      <td>1</td>\n",
       "      <td>Theft</td>\n",
       "      <td>9400-9499</td>\n",
       "      <td>WEST SAM HOUSTON</td>\n",
       "      <td>PKWY</td>\n",
       "      <td>S</td>\n",
       "      <td>19G10</td>\n",
       "      <td>080</td>\n",
       "      <td>09/27/09 00:00:00</td>\n",
       "      <td>13</td>\n",
       "      <td>2009</td>\n",
       "    </tr>\n",
       "    <tr>\n",
       "      <th>72357</th>\n",
       "      <td>2009-09-26 21:00:00</td>\n",
       "      <td>1</td>\n",
       "      <td>Theft</td>\n",
       "      <td>1800-1899</td>\n",
       "      <td>HOLLYOAK</td>\n",
       "      <td>DR</td>\n",
       "      <td>-</td>\n",
       "      <td>4F30</td>\n",
       "      <td>18A</td>\n",
       "      <td>09/26/09 00:00:00</td>\n",
       "      <td>21</td>\n",
       "      <td>2009</td>\n",
       "    </tr>\n",
       "    <tr>\n",
       "      <th>72799</th>\n",
       "      <td>2009-09-29 15:00:00</td>\n",
       "      <td>1</td>\n",
       "      <td>Theft</td>\n",
       "      <td>12100-12199</td>\n",
       "      <td>KATY</td>\n",
       "      <td>FWY</td>\n",
       "      <td>-</td>\n",
       "      <td>20G60</td>\n",
       "      <td>18T</td>\n",
       "      <td>09/29/09 00:00:00</td>\n",
       "      <td>15</td>\n",
       "      <td>2009</td>\n",
       "    </tr>\n",
       "    <tr>\n",
       "      <th>73043</th>\n",
       "      <td>2009-09-30 08:00:00</td>\n",
       "      <td>1</td>\n",
       "      <td>Theft</td>\n",
       "      <td>9300-9399</td>\n",
       "      <td>WESTHEIMER</td>\n",
       "      <td>RD</td>\n",
       "      <td>-</td>\n",
       "      <td>18F40</td>\n",
       "      <td>18R</td>\n",
       "      <td>09/30/09 00:00:00</td>\n",
       "      <td>8</td>\n",
       "      <td>2009</td>\n",
       "    </tr>\n",
       "    <tr>\n",
       "      <th>73050</th>\n",
       "      <td>2009-09-30 15:00:00</td>\n",
       "      <td>1</td>\n",
       "      <td>Theft</td>\n",
       "      <td>9500-9599</td>\n",
       "      <td>POST OAK</td>\n",
       "      <td>RD</td>\n",
       "      <td>S</td>\n",
       "      <td>15E10</td>\n",
       "      <td>080</td>\n",
       "      <td>09/30/09 00:00:00</td>\n",
       "      <td>15</td>\n",
       "      <td>2009</td>\n",
       "    </tr>\n",
       "  </tbody>\n",
       "</table>\n",
       "<p>524 rows × 12 columns</p>\n",
       "</div>"
      ],
      "text/plain": [
       "                date_time  offenses offense_type  block_range  \\\n",
       "250   2009-08-01 15:00:00         1        Theft    3500-3599   \n",
       "498   2009-08-02 01:00:00         1        Theft    5200-5299   \n",
       "515   2009-08-02 02:00:00         1        Theft    5600-5699   \n",
       "641   2009-08-02 14:00:00         1        Theft      900-999   \n",
       "717   2009-08-02 18:00:00         1        Theft    3600-3699   \n",
       "...                   ...       ...          ...          ...   \n",
       "72331 2009-09-27 13:00:00         1        Theft    9400-9499   \n",
       "72357 2009-09-26 21:00:00         1        Theft    1800-1899   \n",
       "72799 2009-09-29 15:00:00         1        Theft  12100-12199   \n",
       "73043 2009-09-30 08:00:00         1        Theft    9300-9399   \n",
       "73050 2009-09-30 15:00:00         1        Theft    9500-9599   \n",
       "\n",
       "            street_name  type suffix   beat premise               date  hour  \\\n",
       "250            TERMINAL    RD      N  21I30     01A  08/01/09 00:00:00    15   \n",
       "498            PAGEWICK    DR      E   4F20     20D  08/02/09 00:00:00     1   \n",
       "515       SANTA CHRISTI    DR      -  16E40     20D  08/02/09 00:00:00     2   \n",
       "641             GESSNER    DR      -  20G50     24J  08/02/09 00:00:00    14   \n",
       "717           WOODCHASE     -      -  20G10     18A  08/02/09 00:00:00    18   \n",
       "...                 ...   ...    ...    ...     ...                ...   ...   \n",
       "72331  WEST SAM HOUSTON  PKWY      S  19G10     080  09/27/09 00:00:00    13   \n",
       "72357          HOLLYOAK    DR      -   4F30     18A  09/26/09 00:00:00    21   \n",
       "72799              KATY   FWY      -  20G60     18T  09/29/09 00:00:00    15   \n",
       "73043        WESTHEIMER    RD      -  18F40     18R  09/30/09 00:00:00     8   \n",
       "73050          POST OAK    RD      S  15E10     080  09/30/09 00:00:00    15   \n",
       "\n",
       "       year  \n",
       "250    2009  \n",
       "498    2009  \n",
       "515    2009  \n",
       "641    2009  \n",
       "717    2009  \n",
       "...     ...  \n",
       "72331  2009  \n",
       "72357  2009  \n",
       "72799  2009  \n",
       "73043  2009  \n",
       "73050  2009  \n",
       "\n",
       "[524 rows x 12 columns]"
      ]
     },
     "execution_count": 47,
     "metadata": {},
     "output_type": "execute_result"
    }
   ],
   "source": [
    "df.loc[df.duplicated(keep='first'),:]"
   ]
  },
  {
   "cell_type": "code",
   "execution_count": 48,
   "metadata": {},
   "outputs": [],
   "source": [
    "df.drop_duplicates(keep='first',inplace=True)"
   ]
  },
  {
   "cell_type": "code",
   "execution_count": 49,
   "metadata": {},
   "outputs": [
    {
     "name": "stdout",
     "output_type": "stream",
     "text": [
      "<class 'pandas.core.frame.DataFrame'>\n",
      "Int64Index: 72600 entries, 0 to 73123\n",
      "Data columns (total 12 columns):\n",
      " #   Column        Non-Null Count  Dtype         \n",
      "---  ------        --------------  -----         \n",
      " 0   date_time     72600 non-null  datetime64[ns]\n",
      " 1   offenses      72600 non-null  int64         \n",
      " 2   offense_type  72600 non-null  object        \n",
      " 3   block_range   72600 non-null  object        \n",
      " 4   street_name   72600 non-null  object        \n",
      " 5   type          72600 non-null  object        \n",
      " 6   suffix        72600 non-null  object        \n",
      " 7   beat          72600 non-null  object        \n",
      " 8   premise       72600 non-null  object        \n",
      " 9   date          72600 non-null  object        \n",
      " 10  hour          72600 non-null  int64         \n",
      " 11  year          72600 non-null  int64         \n",
      "dtypes: datetime64[ns](1), int64(3), object(8)\n",
      "memory usage: 7.2+ MB\n"
     ]
    }
   ],
   "source": [
    "df.info()"
   ]
  },
  {
   "cell_type": "code",
   "execution_count": null,
   "metadata": {},
   "outputs": [],
   "source": []
  },
  {
   "cell_type": "code",
   "execution_count": null,
   "metadata": {},
   "outputs": [],
   "source": []
  },
  {
   "cell_type": "markdown",
   "metadata": {},
   "source": [
    "## Save to bucket"
   ]
  },
  {
   "cell_type": "code",
   "execution_count": 51,
   "metadata": {},
   "outputs": [
    {
     "data": {
      "text/plain": [
       "'s3://dend-data/capstone/inter-data/crime-data/crime_2009.csv'"
      ]
     },
     "execution_count": 51,
     "metadata": {},
     "output_type": "execute_result"
    }
   ],
   "source": [
    "bucket = 'dend-data'\n",
    "file_name = f'crime_{year}.csv'\n",
    "path_to_save = f\"s3://{bucket}/capstone/inter-data/crime-data/{file_name}\"\n",
    "path_to_save"
   ]
  },
  {
   "cell_type": "code",
   "execution_count": null,
   "metadata": {},
   "outputs": [],
   "source": []
  },
  {
   "cell_type": "code",
   "execution_count": 52,
   "metadata": {},
   "outputs": [
    {
     "name": "stdout",
     "output_type": "stream",
     "text": [
      "CPU times: user 529 ms, sys: 30.8 ms, total: 560 ms\n",
      "Wall time: 12.6 s\n"
     ]
    },
    {
     "data": {
      "text/plain": [
       "{'paths': ['s3://dend-data/capstone/inter-data/crime-data/crime_2009.csv'],\n",
       " 'partitions_values': {}}"
      ]
     },
     "execution_count": 52,
     "metadata": {},
     "output_type": "execute_result"
    }
   ],
   "source": [
    "%%time\n",
    "wr.s3.to_csv(df, path_to_save, index=False)"
   ]
  },
  {
   "cell_type": "markdown",
   "metadata": {},
   "source": [
    "# Save Sample\n",
    "- for testing\n",
    "- not to load all data\n",
    "- duh"
   ]
  },
  {
   "cell_type": "code",
   "execution_count": 53,
   "metadata": {},
   "outputs": [
    {
     "data": {
      "text/html": [
       "<div>\n",
       "<style scoped>\n",
       "    .dataframe tbody tr th:only-of-type {\n",
       "        vertical-align: middle;\n",
       "    }\n",
       "\n",
       "    .dataframe tbody tr th {\n",
       "        vertical-align: top;\n",
       "    }\n",
       "\n",
       "    .dataframe thead th {\n",
       "        text-align: right;\n",
       "    }\n",
       "</style>\n",
       "<table border=\"1\" class=\"dataframe\">\n",
       "  <thead>\n",
       "    <tr style=\"text-align: right;\">\n",
       "      <th></th>\n",
       "      <th>date_time</th>\n",
       "      <th>offenses</th>\n",
       "      <th>offense_type</th>\n",
       "      <th>block_range</th>\n",
       "      <th>street_name</th>\n",
       "      <th>type</th>\n",
       "      <th>suffix</th>\n",
       "      <th>beat</th>\n",
       "      <th>premise</th>\n",
       "      <th>date</th>\n",
       "      <th>hour</th>\n",
       "      <th>year</th>\n",
       "    </tr>\n",
       "  </thead>\n",
       "  <tbody>\n",
       "    <tr>\n",
       "      <th>64428</th>\n",
       "      <td>2009-09-18 18:00:00</td>\n",
       "      <td>1</td>\n",
       "      <td>Burglary</td>\n",
       "      <td>3400-3499</td>\n",
       "      <td>NOAH</td>\n",
       "      <td>-</td>\n",
       "      <td>-</td>\n",
       "      <td>14D20</td>\n",
       "      <td>20G</td>\n",
       "      <td>09/18/09 00:00:00</td>\n",
       "      <td>18</td>\n",
       "      <td>2009</td>\n",
       "    </tr>\n",
       "    <tr>\n",
       "      <th>60303</th>\n",
       "      <td>2009-10-30 14:00:00</td>\n",
       "      <td>1</td>\n",
       "      <td>Burglary</td>\n",
       "      <td>7700-7799</td>\n",
       "      <td>CORPORATE</td>\n",
       "      <td>DR</td>\n",
       "      <td>-</td>\n",
       "      <td>19G10</td>\n",
       "      <td>20A</td>\n",
       "      <td>10/30/09 00:00:00</td>\n",
       "      <td>14</td>\n",
       "      <td>2009</td>\n",
       "    </tr>\n",
       "    <tr>\n",
       "      <th>51740</th>\n",
       "      <td>2009-10-08 18:00:00</td>\n",
       "      <td>1</td>\n",
       "      <td>Burglary</td>\n",
       "      <td>1600-1699</td>\n",
       "      <td>KIPLING</td>\n",
       "      <td>-</td>\n",
       "      <td>-</td>\n",
       "      <td>1A30</td>\n",
       "      <td>250</td>\n",
       "      <td>10/08/09 00:00:00</td>\n",
       "      <td>18</td>\n",
       "      <td>2009</td>\n",
       "    </tr>\n",
       "    <tr>\n",
       "      <th>42004</th>\n",
       "      <td>2009-11-17 15:00:00</td>\n",
       "      <td>1</td>\n",
       "      <td>Auto Theft</td>\n",
       "      <td>6100-6199</td>\n",
       "      <td>WESTHEIMER</td>\n",
       "      <td>RD</td>\n",
       "      <td>-</td>\n",
       "      <td>18F30</td>\n",
       "      <td>18R</td>\n",
       "      <td>11/17/09 00:00:00</td>\n",
       "      <td>15</td>\n",
       "      <td>2009</td>\n",
       "    </tr>\n",
       "    <tr>\n",
       "      <th>10914</th>\n",
       "      <td>2009-08-28 11:00:00</td>\n",
       "      <td>1</td>\n",
       "      <td>Aggravated Assault</td>\n",
       "      <td>4000-4099</td>\n",
       "      <td>MAIN</td>\n",
       "      <td>ST</td>\n",
       "      <td>-</td>\n",
       "      <td>10H40</td>\n",
       "      <td>13R</td>\n",
       "      <td>08/28/09 00:00:00</td>\n",
       "      <td>11</td>\n",
       "      <td>2009</td>\n",
       "    </tr>\n",
       "  </tbody>\n",
       "</table>\n",
       "</div>"
      ],
      "text/plain": [
       "                date_time  offenses        offense_type block_range  \\\n",
       "64428 2009-09-18 18:00:00         1            Burglary   3400-3499   \n",
       "60303 2009-10-30 14:00:00         1            Burglary   7700-7799   \n",
       "51740 2009-10-08 18:00:00         1            Burglary   1600-1699   \n",
       "42004 2009-11-17 15:00:00         1          Auto Theft   6100-6199   \n",
       "10914 2009-08-28 11:00:00         1  Aggravated Assault   4000-4099   \n",
       "\n",
       "      street_name type suffix   beat premise               date  hour  year  \n",
       "64428        NOAH    -      -  14D20     20G  09/18/09 00:00:00    18  2009  \n",
       "60303   CORPORATE   DR      -  19G10     20A  10/30/09 00:00:00    14  2009  \n",
       "51740     KIPLING    -      -   1A30     250  10/08/09 00:00:00    18  2009  \n",
       "42004  WESTHEIMER   RD      -  18F30     18R  11/17/09 00:00:00    15  2009  \n",
       "10914        MAIN   ST      -  10H40     13R  08/28/09 00:00:00    11  2009  "
      ]
     },
     "execution_count": 53,
     "metadata": {},
     "output_type": "execute_result"
    }
   ],
   "source": [
    "sample_100 = df.sample(100)\n",
    "sample_100.head()"
   ]
  },
  {
   "cell_type": "markdown",
   "metadata": {},
   "source": [
    "# Save sample"
   ]
  },
  {
   "cell_type": "code",
   "execution_count": 54,
   "metadata": {},
   "outputs": [
    {
     "data": {
      "text/plain": [
       "'s3://dend-data/capstone/sample-data/crime-data/crime_2009.csv'"
      ]
     },
     "execution_count": 54,
     "metadata": {},
     "output_type": "execute_result"
    }
   ],
   "source": [
    "bucket = 'dend-data'\n",
    "file_name = f'crime_{year}.csv'\n",
    "path_to_save = f\"s3://{bucket}/capstone/sample-data/crime-data/{file_name}\"\n",
    "path_to_save"
   ]
  },
  {
   "cell_type": "code",
   "execution_count": 55,
   "metadata": {},
   "outputs": [
    {
     "name": "stdout",
     "output_type": "stream",
     "text": [
      "CPU times: user 24.9 ms, sys: 0 ns, total: 24.9 ms\n",
      "Wall time: 365 ms\n"
     ]
    },
    {
     "data": {
      "text/plain": [
       "{'paths': ['s3://dend-data/capstone/sample-data/crime-data/crime_2009.csv'],\n",
       " 'partitions_values': {}}"
      ]
     },
     "execution_count": 55,
     "metadata": {},
     "output_type": "execute_result"
    }
   ],
   "source": [
    "%%time\n",
    "wr.s3.to_csv(sample_100, path_to_save, index=False)"
   ]
  },
  {
   "cell_type": "code",
   "execution_count": null,
   "metadata": {},
   "outputs": [],
   "source": []
  }
 ],
 "metadata": {
  "kernelspec": {
   "display_name": "Python 3",
   "language": "python",
   "name": "python3"
  },
  "language_info": {
   "codemirror_mode": {
    "name": "ipython",
    "version": 3
   },
   "file_extension": ".py",
   "mimetype": "text/x-python",
   "name": "python",
   "nbconvert_exporter": "python",
   "pygments_lexer": "ipython3",
   "version": "3.9.6"
  }
 },
 "nbformat": 4,
 "nbformat_minor": 4
}
