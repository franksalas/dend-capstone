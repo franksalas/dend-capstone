{
 "cells": [
  {
   "cell_type": "markdown",
   "metadata": {},
   "source": [
    "# LOAD LIBRARIES\n",
    "- automatically import required libraries to notebook\n",
    "- `%run ../../src/start.py`\n"
   ]
  },
  {
   "cell_type": "code",
   "execution_count": 1,
   "metadata": {
    "ExecuteTime": {
     "end_time": "2019-09-30T20:44:32.527714Z",
     "start_time": "2019-09-30T20:44:28.166787Z"
    }
   },
   "outputs": [
    {
     "data": {
      "text/html": [
       "        <script type=\"text/javascript\">\n",
       "        window.PlotlyConfig = {MathJaxConfig: 'local'};\n",
       "        if (window.MathJax) {MathJax.Hub.Config({SVG: {font: \"STIX-Web\"}});}\n",
       "        if (typeof require !== 'undefined') {\n",
       "        require.undef(\"plotly\");\n",
       "        requirejs.config({\n",
       "            paths: {\n",
       "                'plotly': ['https://cdn.plot.ly/plotly-latest.min']\n",
       "            }\n",
       "        });\n",
       "        require(['plotly'], function(Plotly) {\n",
       "            window._Plotly = Plotly;\n",
       "        });\n",
       "        }\n",
       "        </script>\n",
       "        "
      ]
     },
     "metadata": {},
     "output_type": "display_data"
    },
    {
     "name": "stdout",
     "output_type": "stream",
     "text": [
      "\n",
      "python\t3.7.3 | packaged by conda-forge | (default, Jul  1 2019, 21:52:21) \n",
      "[GCC 7.3.0]\n",
      "---------------------\n",
      "Versions:\n",
      "----------------------\n",
      "pandas      0.25.3\n",
      "numpy       1.17.3\n",
      "matplotlib  3.1.1\n",
      "seaborn     0.9.0\n",
      "plotly      4.2.1\n",
      "----------------------\n",
      "\n",
      "\n",
      "Loaded Libraries\n",
      "-------------------\n",
      "import pandas as pd\n",
      "import numpy as np\n",
      "import sys,os\n",
      "import re\n",
      "import glob\n",
      "import pickle\n",
      "import seaborn as sns\n",
      "import matplotlib.pyplot as plt\n",
      "import plotly\n",
      "import plotly.graph_objs as go\n",
      "from plotly.offline import download_plotlyjs, init_notebook_mode, plot, iplot\n",
      "init_notebook_mode(connected=True)\n",
      "----------------\n",
      "source file: src/start.py\n",
      "\n"
     ]
    }
   ],
   "source": [
    "%run ../../src/start.py"
   ]
  },
  {
   "cell_type": "markdown",
   "metadata": {},
   "source": [
    "# LOAD files FROM `data` FOLDERS\n",
    "## Example 1\n",
    "\n",
    "- Notebook file is under `notebooks\\EXAMPLES.ipynb`\n",
    "- data file is under `data\\raw\\tix_data_file.csv`\n",
    "\n",
    "```bash \n",
    ".\n",
    "├── data\n",
    "│   ├── interim\n",
    "│   ├── processed\n",
    "│   └── raw\n",
    "│       └── tix_data_file.csv\n",
    "├── enviroment\n",
    "├── notebooks\n",
    "|   └── EXAMPLES.ipynb\n",
    "├── reports\n",
    "│   └── figures\n",
    "└── src\n",
    "\n",
    "```\n",
    "\n",
    "## create raw_data path\n",
    "\n",
    "- create variable with the name of the file you want to load to pandas\n",
    "- use `os.path.join` to combine the path from current directory to file directory\n",
    "```python\n",
    "file_name = 'tix_data_file.csv'\n",
    "raw_data = os.path.join('..','data','raw',f'{file_name}')\n",
    "```\n",
    "- the `raw_data` variable just creates a neat path to the file we want to load\n",
    "\n",
    "     - `'../data/raw/tix_data_file.csv'`\n",
    "## load `raw_data` file to pandas\n",
    "```python\n",
    "df = pd.read_csv(raw_data)\n",
    "```\n",
    "-----\n",
    "\n",
    "## Example 2\n",
    "Folder structure is a bit diffrent\n",
    "```bash \n",
    ".\n",
    "├── data\n",
    "│   ├── interim\n",
    "│   ├── processed\n",
    "│   └── raw\n",
    "│       └── tix_data_file.csv\n",
    "├── enviroment\n",
    "├── notebooks\n",
    "│   ├── 01_CLEAN\n",
    "│   └── 02_EDA\n",
    "│       └── EXAMPLES.ipynb\n",
    "├── reports\n",
    "│   └── figures\n",
    "└── src\n",
    "```\n",
    "- Notebook file is under `notebooks\\02_EDA\\EXAMPLES.ipynb`\n",
    "- data file is under `data\\raw\\tix_data_file.csv`\n",
    "\n",
    "\n",
    "## create raw_data path\n",
    "\n",
    "- create variable with the name of the file you want to load to pandas\n",
    "- use `os.path.join` to combine the path from current directory to file directory\n",
    "- since we are nested 1 folder down, we added an extra path to our `os.path.join` function\n",
    "```python\n",
    "file_name = 'tix_data_file.csv'\n",
    "raw_data = os.path.join('..', '..','data','raw',f'{file_name}')\n",
    "```\n",
    "- the `raw_data` variable just creates a neat path to the file we want to load\n",
    "\n",
    "     - `'../../data/raw/tix_data_file.csv'`\n",
    "## load `raw_data` file to pandas\n",
    "```python\n",
    "df = pd.read_csv(raw_data)\n",
    "```\n",
    "----------------------------\n",
    "\n",
    "## Example 3\n",
    "### loading a group of similar files\n",
    "\n",
    "```bash \n",
    ".\n",
    "├── data\n",
    "│   ├── interim\n",
    "│   ├── processed\n",
    "│   └── raw\n",
    "│       └── montly_data\n",
    "|               ├── apr.csv\n",
    "|               ├── may.csv\n",
    "|               ├── jun.csv\n",
    "|               ├── jul.csv\n",
    "|               ├── aug.csv\n",
    "|               └── sep.csv\n",
    "├── enviroment\n",
    "├── notebooks\n",
    "│   ├── 01_CLEAN\n",
    "│   └── 02_EDA\n",
    "│       └── EXAMPLE.ipynb\n",
    "├── reports\n",
    "│   └── figures\n",
    "└── src\n",
    "```\n",
    "\n",
    "- Notebook file is under `notebooks\\02_EDA\\EXAMPLES.ipynb`\n",
    "- data files are under `data\\raw\\monthly_data\\`\n",
    "\n",
    "\n",
    "## create raw_data path\n",
    "\n",
    "- create variable with the name of the folder containing the similar files\n",
    "- use `os.path.join` to combine the path from current directory to folder with similar files\n",
    "- since we are nested 1 folder down, we added an extra path to our `os.path.join` function\n",
    "\n",
    "```python\n",
    "path = 'monthly_data'\n",
    "raw_directory = os.path.join('..', '..','data','raw',f'{path}/')\n",
    "```\n",
    "- the `raw_directory` variable just creates a neat path to the folder we want.\n",
    "\n",
    "     - `'../../data/raw/monthly_data/'`\n",
    "  \n",
    "## load files\n",
    "- load all similar **csv** files from `raw_directory` path\n",
    "- create a list comprehension that loads each file into  a pandas dataframe\n",
    "- combine all dataframes into one.\n",
    "\n",
    "```python\n",
    "all_files = glob.glob(os.path.join(raw_directory, \"*.csv\")) # change \"*.xlsx\" for excel files\n",
    "df_from_each_file = (pd.read_csv(f) for f in all_files)    # change to `pd.read_excel(f)` for excel files\n",
    "df   = pd.concat(df_from_each_file, ignore_index=True)     # combine into one large dataframe\n",
    "```"
   ]
  },
  {
   "cell_type": "markdown",
   "metadata": {},
   "source": [
    "# IMPORT SRC FILES\n",
    "## Example\n",
    " - from the src file you want to load `eda.py` file from `visualization` folder\n",
    "\n",
    "```bash\n",
    "src\n",
    "├── data\n",
    "├── dscore\n",
    "├── features\n",
    "├── helpers\n",
    "├── models\n",
    "├── process_mining_core\n",
    "├── utils\n",
    "└── visualization\n",
    "    ├── SankeyBreak.py\n",
    "    ├── bubble_plot.py\n",
    "    ├── eda.py\n",
    "    ├── format_layout.py\n",
    "    ├── heatmap.py\n",
    "    ├── parsing.py\n",
    "    ├── to_html.py\n",
    "    └── visualize.py\n",
    "```\n",
    "- need to append src path\n",
    "    - `sys.path.append('../../src/')`\n",
    "- then you load `from visualization import eda as eda`\n"
   ]
  },
  {
   "cell_type": "code",
   "execution_count": 4,
   "metadata": {},
   "outputs": [],
   "source": [
    "sys.path.append('../../src/')"
   ]
  },
  {
   "cell_type": "code",
   "execution_count": 7,
   "metadata": {
    "ExecuteTime": {
     "end_time": "2019-09-30T19:13:38.593733Z",
     "start_time": "2019-09-30T19:13:38.589568Z"
    }
   },
   "outputs": [],
   "source": [
    "from visualization import eda as eda"
   ]
  },
  {
   "cell_type": "markdown",
   "metadata": {
    "ExecuteTime": {
     "end_time": "2019-09-30T19:12:45.525049Z",
     "start_time": "2019-09-30T19:12:45.519438Z"
    }
   },
   "source": [
    "## list functions inside `eda`"
   ]
  },
  {
   "cell_type": "code",
   "execution_count": 8,
   "metadata": {
    "ExecuteTime": {
     "end_time": "2019-09-30T19:13:42.947765Z",
     "start_time": "2019-09-30T19:13:42.941787Z"
    }
   },
   "outputs": [
    {
     "data": {
      "text/plain": [
       "['Bar',\n",
       " 'Figure',\n",
       " 'Histogram',\n",
       " 'Layout',\n",
       " 'SET1_COLORS',\n",
       " 'Scatter',\n",
       " '__builtins__',\n",
       " '__cached__',\n",
       " '__doc__',\n",
       " '__file__',\n",
       " '__loader__',\n",
       " '__name__',\n",
       " '__package__',\n",
       " '__spec__',\n",
       " 'consolidate_data',\n",
       " 'create_intro_div',\n",
       " 'create_intro_paragraph',\n",
       " 'format_layout',\n",
       " 'intro_stats_barplots',\n",
       " 'np',\n",
       " 'pd',\n",
       " 'plotly',\n",
       " 'plotly_bar_plot',\n",
       " 'resource_breakdown',\n",
       " 'ttr_histogram_sidebyside']"
      ]
     },
     "execution_count": 8,
     "metadata": {},
     "output_type": "execute_result"
    }
   ],
   "source": [
    "dir(eda)"
   ]
  },
  {
   "cell_type": "markdown",
   "metadata": {
    "ExecuteTime": {
     "end_time": "2019-09-30T19:15:46.084107Z",
     "start_time": "2019-09-30T19:15:46.026813Z"
    }
   },
   "source": [
    "### display docstring for `eda.consolidate_data`"
   ]
  },
  {
   "cell_type": "code",
   "execution_count": 9,
   "metadata": {
    "ExecuteTime": {
     "end_time": "2019-09-30T19:15:51.907155Z",
     "start_time": "2019-09-30T19:15:51.903014Z"
    }
   },
   "outputs": [
    {
     "name": "stdout",
     "output_type": "stream",
     "text": [
      "Help on function consolidate_data in module visualization.eda:\n",
      "\n",
      "consolidate_data(indata, top=8)\n",
      "    Takes in a dataframe with counts broken out by columns and consolidates\n",
      "    categories into 'Other' according to argument top\n",
      "    e.g. if there are 10 columns and top is 8, will wrap up 2 smallest\n",
      "    columns into 'Other'. Note: if the 'Other' category is the biggest after\n",
      "    consolidation, will list it first.\n",
      "    \n",
      "    Parameters\n",
      "    ----------\n",
      "    indata : pandas.DataFrame\n",
      "        Dataframe which is copied and consolidated.\n",
      "    top : int, default\n",
      "        Determines how many columns to include and categorizes smallest\n",
      "        remainders as other.\n",
      "    \n",
      "    Returns\n",
      "    -------\n",
      "    pandas.DataFrame\n",
      "        Returns a dataframe of original columns and smaller columns categorized\n",
      "        as other.\n",
      "\n"
     ]
    }
   ],
   "source": [
    "help(eda.consolidate_data)"
   ]
  },
  {
   "cell_type": "markdown",
   "metadata": {
    "ExecuteTime": {
     "end_time": "2019-09-30T19:43:55.701142Z",
     "start_time": "2019-09-30T19:43:55.685703Z"
    }
   },
   "source": [
    "\n",
    "# Need work\n"
   ]
  },
  {
   "cell_type": "markdown",
   "metadata": {},
   "source": [
    "# SAVE PLOTS"
   ]
  },
  {
   "cell_type": "code",
   "execution_count": null,
   "metadata": {},
   "outputs": [],
   "source": [
    "def save_plots(plt_figure,name):\n",
    "    # generate plot\n",
    "    iplot(plt_figure)\n",
    "    # save to html\n",
    "    html_name = '{}.html'.format(name)\n",
    "    plot(plt_figure,filename=plt_directory_saves + html_name)\n",
    "    # save to pkl format\n",
    "    filename = pkl_directory_saves+'{}'.format(name)\n",
    "    outfile = open(filename,'wb')\n",
    "    pickle.dump(plt_figure,outfile)\n",
    "    outfile.close()"
   ]
  },
  {
   "cell_type": "code",
   "execution_count": null,
   "metadata": {
    "ExecuteTime": {
     "end_time": "2019-09-30T20:20:26.695626Z",
     "start_time": "2019-09-30T20:20:26.690037Z"
    }
   },
   "outputs": [],
   "source": []
  },
  {
   "cell_type": "code",
   "execution_count": null,
   "metadata": {},
   "outputs": [],
   "source": []
  }
 ],
 "metadata": {
  "kernelspec": {
   "display_name": "Python 3",
   "language": "python",
   "name": "python3"
  },
  "language_info": {
   "codemirror_mode": {
    "name": "ipython",
    "version": 3
   },
   "file_extension": ".py",
   "mimetype": "text/x-python",
   "name": "python",
   "nbconvert_exporter": "python",
   "pygments_lexer": "ipython3",
   "version": "3.8.5"
  },
  "varInspector": {
   "cols": {
    "lenName": 16,
    "lenType": 16,
    "lenVar": 40
   },
   "kernels_config": {
    "python": {
     "delete_cmd_postfix": "",
     "delete_cmd_prefix": "del ",
     "library": "var_list.py",
     "varRefreshCmd": "print(var_dic_list())"
    },
    "r": {
     "delete_cmd_postfix": ") ",
     "delete_cmd_prefix": "rm(",
     "library": "var_list.r",
     "varRefreshCmd": "cat(var_dic_list()) "
    }
   },
   "types_to_exclude": [
    "module",
    "function",
    "builtin_function_or_method",
    "instance",
    "_Feature"
   ],
   "window_display": false
  }
 },
 "nbformat": 4,
 "nbformat_minor": 2
}
