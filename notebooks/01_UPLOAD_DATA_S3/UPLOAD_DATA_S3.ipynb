{
 "cells": [
  {
   "cell_type": "code",
   "execution_count": 1,
   "metadata": {},
   "outputs": [
    {
     "data": {
      "text/html": [
       "        <script type=\"text/javascript\">\n",
       "        window.PlotlyConfig = {MathJaxConfig: 'local'};\n",
       "        if (window.MathJax) {MathJax.Hub.Config({SVG: {font: \"STIX-Web\"}});}\n",
       "        if (typeof require !== 'undefined') {\n",
       "        require.undef(\"plotly\");\n",
       "        requirejs.config({\n",
       "            paths: {\n",
       "                'plotly': ['https://cdn.plot.ly/plotly-2.2.0.min']\n",
       "            }\n",
       "        });\n",
       "        require(['plotly'], function(Plotly) {\n",
       "            window._Plotly = Plotly;\n",
       "        });\n",
       "        }\n",
       "        </script>\n",
       "        "
      ]
     },
     "metadata": {},
     "output_type": "display_data"
    },
    {
     "name": "stdout",
     "output_type": "stream",
     "text": [
      "\n",
      "python\t3.9.5 (default, Jun  4 2021, 12:28:51) \n",
      "[GCC 7.5.0]\n",
      "---------------------\n",
      "Versions:\n",
      "----------------------\n",
      "pandas      1.3.0\n",
      "numpy       1.20.2\n",
      "matplotlib  3.3.4\n",
      "seaborn     0.11.1\n",
      "plotly      5.1.0\n",
      "boto3       1.17.109\n",
      "awswrangler 2.10.0\n",
      "----------------------\n",
      "\n",
      "\n",
      "Loaded Libraries\n",
      "-------------------\n",
      "import pandas as pd\n",
      "import numpy as np\n",
      "import sys,os\n",
      "import re\n",
      "import glob\n",
      "import pickle\n",
      "import seaborn as sns\n",
      "import matplotlib.pyplot as plt\n",
      "import plotly\n",
      "import plotly.graph_objs as go\n",
      "from plotly.offline import download_plotlyjs, init_notebook_mode, plot, iplot\n",
      "init_notebook_mode(connected=True)\n",
      "\n",
      "\n",
      "## AWS\n",
      "import boto3\n",
      "import awswrangler as wr\n",
      "----------------\n",
      "\n",
      "\n",
      "GLOBAL VARIABLES\n",
      "--------------------------\n",
      "# Creating the low level functional client\n",
      "client = boto3.client(\n",
      "    's3',\n",
      "    aws_access_key_id = AWS_KEY_ID,\n",
      "    aws_secret_access_key = AWS_SECRET,\n",
      ")\n",
      "    \n",
      "# Creating the high level object oriented interface\n",
      "resource = boto3.resource(\n",
      "    's3',\n",
      "    aws_access_key_id = AWS_KEY_ID,\n",
      "    aws_secret_access_key = AWS_SECRET,\n",
      ")\n",
      "\n",
      "HERE_DIR: list current directory path\n",
      "------------------------------\n",
      "\n",
      "# SAVE PLOTS\n",
      "To save a plot call\n",
      "`save_plots(fig_variable,'name_of_plot')`\n",
      "\n",
      "source file: src/start.py\n",
      "\n",
      "\n"
     ]
    }
   ],
   "source": [
    "%run ../../src/start.py"
   ]
  },
  {
   "cell_type": "markdown",
   "metadata": {},
   "source": [
    "## Helper functions"
   ]
  },
  {
   "cell_type": "code",
   "execution_count": 2,
   "metadata": {},
   "outputs": [],
   "source": [
    "from botocore.exceptions import ClientError\n",
    "\n",
    "def upload_file(file_name, bucket, object_name=None):\n",
    "    \"\"\"Upload a file to an S3 bucket\n",
    "\n",
    "    :param file_name: File to upload\n",
    "    :param bucket: Bucket to upload to\n",
    "    :param object_name: S3 object name. If not specified then file_name is used\n",
    "    :return: True if file was uploaded, else False\n",
    "    \"\"\"\n",
    "\n",
    "    # If S3 object_name was not specified, use file_name\n",
    "    if object_name is None:\n",
    "        object_name = file_name\n",
    "\n",
    "    # Upload the file\n",
    "    s3_client = boto3.client('s3')\n",
    "    try:\n",
    "        response = s3_client.upload_file(file_name, bucket, object_name)\n",
    "    except ClientError as e:\n",
    "        logging.error(e)\n",
    "        return False\n",
    "    return True\n",
    "\n",
    "\n",
    "def create_bucket(bucket_name, region=None):\n",
    "    \"\"\"Create an S3 bucket in a specified region\n",
    "\n",
    "    If a region is not specified, the bucket is created in the S3 default\n",
    "    region (us-east-1).\n",
    "\n",
    "    :param bucket_name: Bucket to create\n",
    "    :param region: String region to create bucket in, e.g., 'us-west-2'\n",
    "    :return: True if bucket created, else False\n",
    "    \"\"\"\n",
    "\n",
    "    # Create bucket\n",
    "    try:\n",
    "        if region is None:\n",
    "            s3_client = boto3.client('s3')\n",
    "            s3_client.create_bucket(Bucket=bucket_name)\n",
    "        else:\n",
    "            s3_client = boto3.client('s3', region_name=region)\n",
    "            location = {'LocationConstraint': region}\n",
    "            s3_client.create_bucket(Bucket=bucket_name,\n",
    "                                    CreateBucketConfiguration=location)\n",
    "    except ClientError as e:\n",
    "        logging.error(e)\n",
    "        return False\n",
    "    return True\n",
    "\n",
    "\n",
    "\n",
    "\n",
    "def return_path(path,year):\n",
    "    '''return path'''\n",
    "    return f'{path}{year}/'\n",
    "\n",
    "def list_files(path,):\n",
    "    '''list files in a given path'''\n",
    "    return list(glob.glob(f'{path}/*'))\n",
    "\n",
    "def list_files_match(path,file_type):\n",
    "    '''list the files in a given path given file type'''\n",
    "    return list(glob.glob(f'{path}/*{file_type}'))\n",
    "\n",
    "\n",
    "def upload_list_of_files_S3(file_list, bucket_name,subfolder_path):\n",
    "    '''function to upload multiple files in a path to S3\n",
    "    param file_list: list of paths where the files are located\n",
    "    param bucket_name: bucket to upload to\n",
    "    param: subfoder_path: where in the bucket the files will go to'''\n",
    "    try:\n",
    "        for file in file_list:\n",
    "            file_name = file.rsplit('/', 1)[1]  # name of file\n",
    "            upload_file(file,bucket_name, object_name=f\"{subfolder_path}/{file_name}\")\n",
    "    except ClientError as e:\n",
    "        logging.error(e)\n",
    "        return False\n",
    "    return True\n"
   ]
  },
  {
   "cell_type": "markdown",
   "metadata": {},
   "source": [
    "## Examples"
   ]
  },
  {
   "cell_type": "code",
   "execution_count": 3,
   "metadata": {},
   "outputs": [
    {
     "data": {
      "text/plain": [
       "'../../data/raw/crime_data/2005/'"
      ]
     },
     "execution_count": 3,
     "metadata": {},
     "output_type": "execute_result"
    }
   ],
   "source": [
    "# load simple path`\n",
    "\n",
    "path = '../../data/raw/crime_data/'\n",
    "return_path(path,'2005')"
   ]
  },
  {
   "cell_type": "code",
   "execution_count": 4,
   "metadata": {},
   "outputs": [
    {
     "data": {
      "text/plain": [
       "['../../data/raw/crime_data/2005/apr05.xls',\n",
       " '../../data/raw/crime_data/2005/aug05.xls',\n",
       " '../../data/raw/crime_data/2005/dec05.xls',\n",
       " '../../data/raw/crime_data/2005/feb05.xls',\n",
       " '../../data/raw/crime_data/2005/jan05.xls',\n",
       " '../../data/raw/crime_data/2005/jul05.xls',\n",
       " '../../data/raw/crime_data/2005/jun05.xls',\n",
       " '../../data/raw/crime_data/2005/mar05.xls',\n",
       " '../../data/raw/crime_data/2005/may05.xls',\n",
       " '../../data/raw/crime_data/2005/nov05.xls',\n",
       " '../../data/raw/crime_data/2005/oct05.xls',\n",
       " '../../data/raw/crime_data/2005/sep05.xls']"
      ]
     },
     "execution_count": 4,
     "metadata": {},
     "output_type": "execute_result"
    }
   ],
   "source": [
    "# print the files full path\n",
    "path = '../../data/raw/crime_data/2005'\n",
    "file_list = list_files(path)\n",
    "file_list"
   ]
  },
  {
   "cell_type": "code",
   "execution_count": 5,
   "metadata": {},
   "outputs": [
    {
     "data": {
      "text/plain": [
       "[]"
      ]
     },
     "execution_count": 5,
     "metadata": {},
     "output_type": "execute_result"
    }
   ],
   "source": [
    "# print the files full path with specific file type\n",
    "# No csv files in the path\n",
    "path = '../../data/raw/crime_data/2005'\n",
    "file_list = list_files_match(path,'csv')\n",
    "file_list"
   ]
  },
  {
   "cell_type": "markdown",
   "metadata": {},
   "source": [
    "## List"
   ]
  },
  {
   "cell_type": "code",
   "execution_count": 7,
   "metadata": {},
   "outputs": [
    {
     "name": "stdout",
     "output_type": "stream",
     "text": [
      "Existing buckets:\n",
      "  aws-logs-765441314938-us-east-1\n",
      "  cacabucket\n",
      "  dend-data\n",
      "  salas-blog\n",
      "  salas-bucket\n",
      "  salas-data\n"
     ]
    }
   ],
   "source": [
    "# Retrieve the list of existing buckets\n",
    "s3 = boto3.client('s3')\n",
    "response = s3.list_buckets()\n",
    "\n",
    "# Output the bucket names\n",
    "print('Existing buckets:')\n",
    "for bucket in response['Buckets']:\n",
    "    print(f'  {bucket[\"Name\"]}')"
   ]
  },
  {
   "cell_type": "markdown",
   "metadata": {},
   "source": [
    "# Load files into S3 Bucket"
   ]
  },
  {
   "cell_type": "code",
   "execution_count": 8,
   "metadata": {},
   "outputs": [
    {
     "data": {
      "text/plain": [
       "['../../data/raw/crime_data/2005/apr05.xls',\n",
       " '../../data/raw/crime_data/2005/aug05.xls',\n",
       " '../../data/raw/crime_data/2005/dec05.xls',\n",
       " '../../data/raw/crime_data/2005/feb05.xls',\n",
       " '../../data/raw/crime_data/2005/jan05.xls',\n",
       " '../../data/raw/crime_data/2005/jul05.xls',\n",
       " '../../data/raw/crime_data/2005/jun05.xls',\n",
       " '../../data/raw/crime_data/2005/mar05.xls',\n",
       " '../../data/raw/crime_data/2005/may05.xls',\n",
       " '../../data/raw/crime_data/2005/nov05.xls',\n",
       " '../../data/raw/crime_data/2005/oct05.xls',\n",
       " '../../data/raw/crime_data/2005/sep05.xls']"
      ]
     },
     "execution_count": 8,
     "metadata": {},
     "output_type": "execute_result"
    }
   ],
   "source": [
    "# 2005 crime files into bucket `salas-data` with subfolders as `capstone/raw-data/crime-data/2005\n",
    "bucket_name = 'dend-data'\n",
    "bucket_subfolders = 'capstone/raw-data/crime-data/2005'\n",
    "dir_path = '../../data/raw/crime_data/2005'\n",
    "file_list = list_files(path)\n",
    "file_list"
   ]
  },
  {
   "cell_type": "code",
   "execution_count": 9,
   "metadata": {},
   "outputs": [
    {
     "data": {
      "text/plain": [
       "True"
      ]
     },
     "execution_count": 9,
     "metadata": {},
     "output_type": "execute_result"
    }
   ],
   "source": [
    "%%time\n",
    "upload_list_of_files_S3(file_list,bucket_name, bucket_subfolders)"
   ]
  },
  {
   "cell_type": "code",
   "execution_count": 13,
   "metadata": {},
   "outputs": [
    {
     "data": {
      "text/plain": [
       "['../../data/raw/crime_data/2006/apr06.xls',\n",
       " '../../data/raw/crime_data/2006/aug06.xls',\n",
       " '../../data/raw/crime_data/2006/dec06.xls',\n",
       " '../../data/raw/crime_data/2006/feb06.xls',\n",
       " '../../data/raw/crime_data/2006/jan06.xls',\n",
       " '../../data/raw/crime_data/2006/jul06.xls',\n",
       " '../../data/raw/crime_data/2006/jun06.xls',\n",
       " '../../data/raw/crime_data/2006/mar06.xls',\n",
       " '../../data/raw/crime_data/2006/may06.xls',\n",
       " '../../data/raw/crime_data/2006/nov06.xls',\n",
       " '../../data/raw/crime_data/2006/oct06.xls',\n",
       " '../../data/raw/crime_data/2006/sep06.xls']"
      ]
     },
     "execution_count": 13,
     "metadata": {},
     "output_type": "execute_result"
    }
   ],
   "source": [
    "# 2006\n",
    "bucket_name = 'dend-data'\n",
    "bucket_subfolders = 'capstone/raw-data/crime-data/2006'\n",
    "path = '../../data/raw/crime_data/2006'\n",
    "file_list = list_files(path)\n",
    "file_list"
   ]
  },
  {
   "cell_type": "code",
   "execution_count": 14,
   "metadata": {},
   "outputs": [
    {
     "name": "stdout",
     "output_type": "stream",
     "text": [
      "CPU times: user 237 ms, sys: 52.2 ms, total: 289 ms\n",
      "Wall time: 16.4 s\n"
     ]
    },
    {
     "data": {
      "text/plain": [
       "True"
      ]
     },
     "execution_count": 14,
     "metadata": {},
     "output_type": "execute_result"
    }
   ],
   "source": [
    "%%time\n",
    "# 2006\n",
    "upload_list_of_files_S3(file_list,bucket_name, bucket_subfolders)"
   ]
  },
  {
   "cell_type": "code",
   "execution_count": 15,
   "metadata": {},
   "outputs": [
    {
     "data": {
      "text/plain": [
       "['../../data/raw/crime_data/2007/apr07.mdb',\n",
       " '../../data/raw/crime_data/2007/aug07.mdb',\n",
       " '../../data/raw/crime_data/2007/dec07.mdb',\n",
       " '../../data/raw/crime_data/2007/feb07.mdb',\n",
       " '../../data/raw/crime_data/2007/jan07.mdb',\n",
       " '../../data/raw/crime_data/2007/jul07.mdb',\n",
       " '../../data/raw/crime_data/2007/jun07.mdb',\n",
       " '../../data/raw/crime_data/2007/mar07.mdb',\n",
       " '../../data/raw/crime_data/2007/may07.mdb',\n",
       " '../../data/raw/crime_data/2007/nov07.mdb',\n",
       " '../../data/raw/crime_data/2007/oct07.mdb',\n",
       " '../../data/raw/crime_data/2007/sep07.mdb']"
      ]
     },
     "execution_count": 15,
     "metadata": {},
     "output_type": "execute_result"
    }
   ],
   "source": [
    "# 2007\n",
    "bucket_name = 'dend-data'\n",
    "bucket_subfolders = 'capstone/raw-data/crime-data/2007'\n",
    "path = '../../data/raw/crime_data/2007'\n",
    "file_list = list_files(path)\n",
    "file_list"
   ]
  },
  {
   "cell_type": "code",
   "execution_count": 16,
   "metadata": {},
   "outputs": [
    {
     "name": "stdout",
     "output_type": "stream",
     "text": [
      "CPU times: user 162 ms, sys: 11.8 ms, total: 174 ms\n",
      "Wall time: 10 s\n"
     ]
    },
    {
     "data": {
      "text/plain": [
       "True"
      ]
     },
     "execution_count": 16,
     "metadata": {},
     "output_type": "execute_result"
    }
   ],
   "source": [
    "%%time\n",
    "# 2007\n",
    "upload_list_of_files_S3(file_list,bucket_name, bucket_subfolders)"
   ]
  },
  {
   "cell_type": "code",
   "execution_count": 17,
   "metadata": {},
   "outputs": [
    {
     "data": {
      "text/plain": [
       "['../../data/raw/crime_data/2007/apr07.mdb',\n",
       " '../../data/raw/crime_data/2007/aug07.mdb',\n",
       " '../../data/raw/crime_data/2007/dec07.mdb',\n",
       " '../../data/raw/crime_data/2007/feb07.mdb',\n",
       " '../../data/raw/crime_data/2007/jan07.mdb',\n",
       " '../../data/raw/crime_data/2007/jul07.mdb',\n",
       " '../../data/raw/crime_data/2007/jun07.mdb',\n",
       " '../../data/raw/crime_data/2007/mar07.mdb',\n",
       " '../../data/raw/crime_data/2007/may07.mdb',\n",
       " '../../data/raw/crime_data/2007/nov07.mdb',\n",
       " '../../data/raw/crime_data/2007/oct07.mdb',\n",
       " '../../data/raw/crime_data/2007/sep07.mdb']"
      ]
     },
     "execution_count": 17,
     "metadata": {},
     "output_type": "execute_result"
    }
   ],
   "source": [
    "# 2008\n",
    "bucket_name = 'dend-data'\n",
    "bucket_subfolders = 'capstone/raw-data/crime-data/2007'\n",
    "path = '../../data/raw/crime_data/2007'\n",
    "file_list = list_files(path)\n",
    "file_list"
   ]
  },
  {
   "cell_type": "code",
   "execution_count": 18,
   "metadata": {},
   "outputs": [
    {
     "name": "stdout",
     "output_type": "stream",
     "text": [
      "CPU times: user 149 ms, sys: 21.1 ms, total: 171 ms\n",
      "Wall time: 9.82 s\n"
     ]
    },
    {
     "data": {
      "text/plain": [
       "True"
      ]
     },
     "execution_count": 18,
     "metadata": {},
     "output_type": "execute_result"
    }
   ],
   "source": [
    "%%time\n",
    "# 2008\n",
    "upload_list_of_files_S3(file_list,bucket_name, bucket_subfolders)"
   ]
  },
  {
   "cell_type": "code",
   "execution_count": 40,
   "metadata": {},
   "outputs": [
    {
     "data": {
      "text/plain": [
       "['../../data/raw/crime_data/2009/csv/aug09.xlsx',\n",
       " '../../data/raw/crime_data/2009/csv/dec09.xlsx',\n",
       " '../../data/raw/crime_data/2009/csv/jul09.xlsx',\n",
       " '../../data/raw/crime_data/2009/csv/nov09.xlsx',\n",
       " '../../data/raw/crime_data/2009/csv/oct09.xlsx',\n",
       " '../../data/raw/crime_data/2009/csv/sep09.xlsx']"
      ]
     },
     "execution_count": 40,
     "metadata": {},
     "output_type": "execute_result"
    }
   ],
   "source": [
    "# 2009\n",
    "bucket_name = 'dend-data'\n",
    "bucket_subfolders = 'capstone/raw-data/crime-data/2009'\n",
    "path = '../../data/raw/crime_data/2009/csv'\n",
    "file_list = list_files(path)\n",
    "file_list"
   ]
  },
  {
   "cell_type": "code",
   "execution_count": 41,
   "metadata": {},
   "outputs": [
    {
     "name": "stdout",
     "output_type": "stream",
     "text": [
      "CPU times: user 112 ms, sys: 0 ns, total: 112 ms\n",
      "Wall time: 6.46 s\n"
     ]
    },
    {
     "data": {
      "text/plain": [
       "True"
      ]
     },
     "execution_count": 41,
     "metadata": {},
     "output_type": "execute_result"
    }
   ],
   "source": [
    "%%time\n",
    "# 2009\n",
    "upload_list_of_files_S3(file_list,bucket_name, bucket_subfolders)"
   ]
  },
  {
   "cell_type": "code",
   "execution_count": 42,
   "metadata": {},
   "outputs": [
    {
     "data": {
      "text/plain": [
       "['../../data/raw/crime_data/2010/csv/apr10.xlsx',\n",
       " '../../data/raw/crime_data/2010/csv/aug10.xlsx',\n",
       " '../../data/raw/crime_data/2010/csv/dec10.xlsx',\n",
       " '../../data/raw/crime_data/2010/csv/feb10.xlsx',\n",
       " '../../data/raw/crime_data/2010/csv/jan10.xlsx',\n",
       " '../../data/raw/crime_data/2010/csv/jul10.xlsx',\n",
       " '../../data/raw/crime_data/2010/csv/jun10.xlsx',\n",
       " '../../data/raw/crime_data/2010/csv/mar10.xlsx',\n",
       " '../../data/raw/crime_data/2010/csv/may10.xlsx',\n",
       " '../../data/raw/crime_data/2010/csv/nov10.xlsx',\n",
       " '../../data/raw/crime_data/2010/csv/oct10.xlsx',\n",
       " '../../data/raw/crime_data/2010/csv/sep10.xlsx']"
      ]
     },
     "execution_count": 42,
     "metadata": {},
     "output_type": "execute_result"
    }
   ],
   "source": [
    "# 2010\n",
    "bucket_name = 'dend-data'\n",
    "bucket_subfolders = 'capstone/raw-data/crime-data/2010'\n",
    "path = '../../data/raw/crime_data/2010/csv'\n",
    "file_list = list_files(path)\n",
    "file_list"
   ]
  },
  {
   "cell_type": "code",
   "execution_count": 43,
   "metadata": {},
   "outputs": [
    {
     "name": "stdout",
     "output_type": "stream",
     "text": [
      "CPU times: user 193 ms, sys: 38.3 ms, total: 231 ms\n",
      "Wall time: 13.1 s\n"
     ]
    },
    {
     "data": {
      "text/plain": [
       "True"
      ]
     },
     "execution_count": 43,
     "metadata": {},
     "output_type": "execute_result"
    }
   ],
   "source": [
    "%%time\n",
    "# 2010\n",
    "upload_list_of_files_S3(file_list,bucket_name, bucket_subfolders)"
   ]
  },
  {
   "cell_type": "code",
   "execution_count": 44,
   "metadata": {},
   "outputs": [
    {
     "data": {
      "text/plain": [
       "['../../data/raw/crime_data/2011/csv/apr11.xlsx',\n",
       " '../../data/raw/crime_data/2011/csv/aug11.xlsx',\n",
       " '../../data/raw/crime_data/2011/csv/dec11.xlsx',\n",
       " '../../data/raw/crime_data/2011/csv/feb11.xlsx',\n",
       " '../../data/raw/crime_data/2011/csv/jan11.xlsx',\n",
       " '../../data/raw/crime_data/2011/csv/jul11.xlsx',\n",
       " '../../data/raw/crime_data/2011/csv/jun11.xlsx',\n",
       " '../../data/raw/crime_data/2011/csv/mar11.xlsx',\n",
       " '../../data/raw/crime_data/2011/csv/may11.xlsx',\n",
       " '../../data/raw/crime_data/2011/csv/nov11.xlsx',\n",
       " '../../data/raw/crime_data/2011/csv/oct11.xlsx',\n",
       " '../../data/raw/crime_data/2011/csv/sep11.xlsx']"
      ]
     },
     "execution_count": 44,
     "metadata": {},
     "output_type": "execute_result"
    }
   ],
   "source": [
    "# 2011\n",
    "bucket_name = 'dend-data'\n",
    "bucket_subfolders = 'capstone/raw-data/crime-data/2011'\n",
    "path = '../../data/raw/crime_data/2011/csv'\n",
    "file_list = list_files(path)\n",
    "file_list"
   ]
  },
  {
   "cell_type": "code",
   "execution_count": 45,
   "metadata": {},
   "outputs": [
    {
     "name": "stdout",
     "output_type": "stream",
     "text": [
      "CPU times: user 190 ms, sys: 38.9 ms, total: 229 ms\n",
      "Wall time: 12.9 s\n"
     ]
    },
    {
     "data": {
      "text/plain": [
       "True"
      ]
     },
     "execution_count": 45,
     "metadata": {},
     "output_type": "execute_result"
    }
   ],
   "source": [
    "%%time\n",
    "# 2011\n",
    "upload_list_of_files_S3(file_list,bucket_name, bucket_subfolders)"
   ]
  },
  {
   "cell_type": "code",
   "execution_count": 46,
   "metadata": {},
   "outputs": [
    {
     "data": {
      "text/plain": [
       "['../../data/raw/crime_data/2012/csv/apr12.xlsx',\n",
       " '../../data/raw/crime_data/2012/csv/aug12.xlsx',\n",
       " '../../data/raw/crime_data/2012/csv/dec12.xlsx',\n",
       " '../../data/raw/crime_data/2012/csv/feb12.xlsx',\n",
       " '../../data/raw/crime_data/2012/csv/jan12.xlsx',\n",
       " '../../data/raw/crime_data/2012/csv/jul12.xlsx',\n",
       " '../../data/raw/crime_data/2012/csv/jun12.xlsx',\n",
       " '../../data/raw/crime_data/2012/csv/mar12.xlsx',\n",
       " '../../data/raw/crime_data/2012/csv/may12.xlsx',\n",
       " '../../data/raw/crime_data/2012/csv/nov12.xlsx',\n",
       " '../../data/raw/crime_data/2012/csv/oct12.xlsx',\n",
       " '../../data/raw/crime_data/2012/csv/sep12.xlsx']"
      ]
     },
     "execution_count": 46,
     "metadata": {},
     "output_type": "execute_result"
    }
   ],
   "source": [
    "# 2012\n",
    "bucket_name = 'dend-data'\n",
    "bucket_subfolders = 'capstone/raw-data/crime-data/2012'\n",
    "path = '../../data/raw/crime_data/2012/csv'\n",
    "file_list = list_files(path)\n",
    "file_list"
   ]
  },
  {
   "cell_type": "code",
   "execution_count": 47,
   "metadata": {},
   "outputs": [
    {
     "name": "stdout",
     "output_type": "stream",
     "text": [
      "CPU times: user 255 ms, sys: 17 ms, total: 272 ms\n",
      "Wall time: 12.7 s\n"
     ]
    },
    {
     "data": {
      "text/plain": [
       "True"
      ]
     },
     "execution_count": 47,
     "metadata": {},
     "output_type": "execute_result"
    }
   ],
   "source": [
    "%%time\n",
    "# 2012\n",
    "upload_list_of_files_S3(file_list,bucket_name, bucket_subfolders)"
   ]
  },
  {
   "cell_type": "code",
   "execution_count": 48,
   "metadata": {},
   "outputs": [
    {
     "data": {
      "text/plain": [
       "['../../data/raw/crime_data/2013/csv/apr13.xlsx',\n",
       " '../../data/raw/crime_data/2013/csv/aug13.xlsx',\n",
       " '../../data/raw/crime_data/2013/csv/dec13.xlsx',\n",
       " '../../data/raw/crime_data/2013/csv/feb13.xlsx',\n",
       " '../../data/raw/crime_data/2013/csv/jan13.xlsx',\n",
       " '../../data/raw/crime_data/2013/csv/jul13.xlsx',\n",
       " '../../data/raw/crime_data/2013/csv/jun13.xlsx',\n",
       " '../../data/raw/crime_data/2013/csv/mar13.xlsx',\n",
       " '../../data/raw/crime_data/2013/csv/may13.xlsx',\n",
       " '../../data/raw/crime_data/2013/csv/nov13.xlsx',\n",
       " '../../data/raw/crime_data/2013/csv/oct13.xlsx',\n",
       " '../../data/raw/crime_data/2013/csv/sep13.xlsx']"
      ]
     },
     "execution_count": 48,
     "metadata": {},
     "output_type": "execute_result"
    }
   ],
   "source": [
    "# 2013\n",
    "bucket_name = 'dend-data'\n",
    "bucket_subfolders = 'capstone/raw-data/crime-data/2013'\n",
    "path = '../../data/raw/crime_data/2013/csv'\n",
    "file_list = list_files(path)\n",
    "file_list"
   ]
  },
  {
   "cell_type": "code",
   "execution_count": 49,
   "metadata": {},
   "outputs": [
    {
     "name": "stdout",
     "output_type": "stream",
     "text": [
      "CPU times: user 192 ms, sys: 35.8 ms, total: 227 ms\n",
      "Wall time: 12.9 s\n"
     ]
    },
    {
     "data": {
      "text/plain": [
       "True"
      ]
     },
     "execution_count": 49,
     "metadata": {},
     "output_type": "execute_result"
    }
   ],
   "source": [
    "%%time\n",
    "# 2013\n",
    "upload_list_of_files_S3(file_list,bucket_name, bucket_subfolders)"
   ]
  },
  {
   "cell_type": "code",
   "execution_count": 50,
   "metadata": {},
   "outputs": [
    {
     "data": {
      "text/plain": [
       "['../../data/raw/crime_data/2014/csv/apr14.xlsx',\n",
       " '../../data/raw/crime_data/2014/csv/aug14.xlsx',\n",
       " '../../data/raw/crime_data/2014/csv/dec14.xlsx',\n",
       " '../../data/raw/crime_data/2014/csv/feb14.xlsx',\n",
       " '../../data/raw/crime_data/2014/csv/jan14.xlsx',\n",
       " '../../data/raw/crime_data/2014/csv/jul14.xlsx',\n",
       " '../../data/raw/crime_data/2014/csv/jun14.xlsx',\n",
       " '../../data/raw/crime_data/2014/csv/mar14.xlsx',\n",
       " '../../data/raw/crime_data/2014/csv/may14.xlsx',\n",
       " '../../data/raw/crime_data/2014/csv/nov14.xlsx',\n",
       " '../../data/raw/crime_data/2014/csv/oct14.xlsx',\n",
       " '../../data/raw/crime_data/2014/csv/sep14.xlsx']"
      ]
     },
     "execution_count": 50,
     "metadata": {},
     "output_type": "execute_result"
    }
   ],
   "source": [
    "# 2014\n",
    "bucket_name = 'dend-data'\n",
    "bucket_subfolders = 'capstone/raw-data/crime-data/2014'\n",
    "path = '../../data/raw/crime_data/2014/csv'\n",
    "file_list = list_files(path)\n",
    "file_list"
   ]
  },
  {
   "cell_type": "code",
   "execution_count": 51,
   "metadata": {},
   "outputs": [
    {
     "name": "stdout",
     "output_type": "stream",
     "text": [
      "CPU times: user 205 ms, sys: 18.6 ms, total: 223 ms\n",
      "Wall time: 12.6 s\n"
     ]
    },
    {
     "data": {
      "text/plain": [
       "True"
      ]
     },
     "execution_count": 51,
     "metadata": {},
     "output_type": "execute_result"
    }
   ],
   "source": [
    "%%time\n",
    "# 2014\n",
    "upload_list_of_files_S3(file_list,bucket_name, bucket_subfolders)"
   ]
  },
  {
   "cell_type": "code",
   "execution_count": 52,
   "metadata": {},
   "outputs": [
    {
     "data": {
      "text/plain": [
       "['../../data/raw/crime_data/2015/csv/apr15.xlsx',\n",
       " '../../data/raw/crime_data/2015/csv/aug15.xlsx',\n",
       " '../../data/raw/crime_data/2015/csv/dec15.xlsx',\n",
       " '../../data/raw/crime_data/2015/csv/feb15.xlsx',\n",
       " '../../data/raw/crime_data/2015/csv/jan15.xlsx',\n",
       " '../../data/raw/crime_data/2015/csv/jul15.xlsx',\n",
       " '../../data/raw/crime_data/2015/csv/jun15.xlsx',\n",
       " '../../data/raw/crime_data/2015/csv/mar15.xlsx',\n",
       " '../../data/raw/crime_data/2015/csv/may15.xlsx',\n",
       " '../../data/raw/crime_data/2015/csv/nov15.xlsx',\n",
       " '../../data/raw/crime_data/2015/csv/oct15.xlsx',\n",
       " '../../data/raw/crime_data/2015/csv/sep15.xlsx']"
      ]
     },
     "execution_count": 52,
     "metadata": {},
     "output_type": "execute_result"
    }
   ],
   "source": [
    "# 2015\n",
    "bucket_name = 'dend-data'\n",
    "bucket_subfolders = 'capstone/raw-data/crime-data/2015'\n",
    "path = '../../data/raw/crime_data/2015/csv'\n",
    "file_list = list_files(path)\n",
    "file_list"
   ]
  },
  {
   "cell_type": "code",
   "execution_count": 53,
   "metadata": {},
   "outputs": [
    {
     "name": "stdout",
     "output_type": "stream",
     "text": [
      "CPU times: user 204 ms, sys: 18.7 ms, total: 222 ms\n",
      "Wall time: 12.7 s\n"
     ]
    },
    {
     "data": {
      "text/plain": [
       "True"
      ]
     },
     "execution_count": 53,
     "metadata": {},
     "output_type": "execute_result"
    }
   ],
   "source": [
    "%%time\n",
    "# 2015\n",
    "upload_list_of_files_S3(file_list,bucket_name, bucket_subfolders)"
   ]
  },
  {
   "cell_type": "code",
   "execution_count": 54,
   "metadata": {},
   "outputs": [
    {
     "data": {
      "text/plain": [
       "['../../data/raw/crime_data/2016/csv/apr16.xlsx',\n",
       " '../../data/raw/crime_data/2016/csv/aug16.xlsx',\n",
       " '../../data/raw/crime_data/2016/csv/dec16.xlsx',\n",
       " '../../data/raw/crime_data/2016/csv/feb16.xlsx',\n",
       " '../../data/raw/crime_data/2016/csv/jan16.xlsx',\n",
       " '../../data/raw/crime_data/2016/csv/jul16.xlsx',\n",
       " '../../data/raw/crime_data/2016/csv/jun16.xlsx',\n",
       " '../../data/raw/crime_data/2016/csv/mar16.xlsx',\n",
       " '../../data/raw/crime_data/2016/csv/may16.xlsx',\n",
       " '../../data/raw/crime_data/2016/csv/nov16.xlsx',\n",
       " '../../data/raw/crime_data/2016/csv/oct16.xlsx',\n",
       " '../../data/raw/crime_data/2016/csv/sep16.xlsx']"
      ]
     },
     "execution_count": 54,
     "metadata": {},
     "output_type": "execute_result"
    }
   ],
   "source": [
    "# 2016\n",
    "bucket_name = 'dend-data'\n",
    "bucket_subfolders = 'capstone/raw-data/crime-data/2016'\n",
    "path = '../../data/raw/crime_data/2016/csv'\n",
    "file_list = list_files(path)\n",
    "file_list"
   ]
  },
  {
   "cell_type": "code",
   "execution_count": 55,
   "metadata": {},
   "outputs": [
    {
     "name": "stdout",
     "output_type": "stream",
     "text": [
      "CPU times: user 211 ms, sys: 12.1 ms, total: 223 ms\n",
      "Wall time: 12.9 s\n"
     ]
    },
    {
     "data": {
      "text/plain": [
       "True"
      ]
     },
     "execution_count": 55,
     "metadata": {},
     "output_type": "execute_result"
    }
   ],
   "source": [
    "%%time\n",
    "# 2016\n",
    "upload_list_of_files_S3(file_list,bucket_name, bucket_subfolders)"
   ]
  },
  {
   "cell_type": "code",
   "execution_count": 56,
   "metadata": {},
   "outputs": [
    {
     "data": {
      "text/plain": [
       "['../../data/raw/crime_data/2017/csv/apr17.xlsx',\n",
       " '../../data/raw/crime_data/2017/csv/aug17.xlsx',\n",
       " '../../data/raw/crime_data/2017/csv/dec17.xlsx',\n",
       " '../../data/raw/crime_data/2017/csv/feb17.xlsx',\n",
       " '../../data/raw/crime_data/2017/csv/jan17.xlsx',\n",
       " '../../data/raw/crime_data/2017/csv/jul17.xlsx',\n",
       " '../../data/raw/crime_data/2017/csv/jun17.xlsx',\n",
       " '../../data/raw/crime_data/2017/csv/mar17.xlsx',\n",
       " '../../data/raw/crime_data/2017/csv/may17.xlsx',\n",
       " '../../data/raw/crime_data/2017/csv/nov17.xlsx',\n",
       " '../../data/raw/crime_data/2017/csv/oc17.xlsx',\n",
       " '../../data/raw/crime_data/2017/csv/sep17.xlsx']"
      ]
     },
     "execution_count": 56,
     "metadata": {},
     "output_type": "execute_result"
    }
   ],
   "source": [
    "# 2017\n",
    "bucket_name = 'dend-data'\n",
    "bucket_subfolders = 'capstone/raw-data/crime-data/2017'\n",
    "path = '../../data/raw/crime_data/2017/csv'\n",
    "file_list = list_files(path)\n",
    "file_list"
   ]
  },
  {
   "cell_type": "code",
   "execution_count": 57,
   "metadata": {},
   "outputs": [
    {
     "name": "stdout",
     "output_type": "stream",
     "text": [
      "CPU times: user 211 ms, sys: 10.4 ms, total: 221 ms\n",
      "Wall time: 12.7 s\n"
     ]
    },
    {
     "data": {
      "text/plain": [
       "True"
      ]
     },
     "execution_count": 57,
     "metadata": {},
     "output_type": "execute_result"
    }
   ],
   "source": [
    "%%time\n",
    "# 2017\n",
    "upload_list_of_files_S3(file_list,bucket_name, bucket_subfolders)"
   ]
  },
  {
   "cell_type": "code",
   "execution_count": 58,
   "metadata": {},
   "outputs": [
    {
     "data": {
      "text/plain": [
       "['../../data/raw/crime_data/2018/csv/apr18.xlsx',\n",
       " '../../data/raw/crime_data/2018/csv/feb18.xlsx',\n",
       " '../../data/raw/crime_data/2018/csv/jan18.xlsx',\n",
       " '../../data/raw/crime_data/2018/csv/mar 18.xlsx',\n",
       " '../../data/raw/crime_data/2018/csv/may18.xlsx']"
      ]
     },
     "execution_count": 58,
     "metadata": {},
     "output_type": "execute_result"
    }
   ],
   "source": [
    "# 2018\n",
    "bucket_name = 'dend-data'\n",
    "bucket_subfolders = 'capstone/raw-data/crime-data/2018'\n",
    "path = '../../data/raw/crime_data/2018/csv'\n",
    "file_list = list_files(path)\n",
    "file_list"
   ]
  },
  {
   "cell_type": "code",
   "execution_count": 59,
   "metadata": {},
   "outputs": [
    {
     "name": "stdout",
     "output_type": "stream",
     "text": [
      "CPU times: user 90.3 ms, sys: 1.57 ms, total: 91.9 ms\n",
      "Wall time: 5.13 s\n"
     ]
    },
    {
     "data": {
      "text/plain": [
       "True"
      ]
     },
     "execution_count": 59,
     "metadata": {},
     "output_type": "execute_result"
    }
   ],
   "source": [
    "%%time\n",
    "# 2018\n",
    "upload_list_of_files_S3(file_list,bucket_name, bucket_subfolders)"
   ]
  },
  {
   "cell_type": "markdown",
   "metadata": {},
   "source": [
    "# Upload Weather Data"
   ]
  },
  {
   "cell_type": "code",
   "execution_count": 3,
   "metadata": {},
   "outputs": [
    {
     "data": {
      "text/plain": [
       "['../../data/raw/weather_data/b5af47a41a784be4c6fca0b53302f0a1.csv']"
      ]
     },
     "execution_count": 3,
     "metadata": {},
     "output_type": "execute_result"
    }
   ],
   "source": [
    "# print the files full path\n",
    "path = '../../data/raw/weather_data'\n",
    "file_list = list_files(path)\n",
    "file_list"
   ]
  },
  {
   "cell_type": "code",
   "execution_count": 4,
   "metadata": {},
   "outputs": [
    {
     "data": {
      "text/plain": [
       "['../../data/raw/weather_data/b5af47a41a784be4c6fca0b53302f0a1.csv']"
      ]
     },
     "execution_count": 4,
     "metadata": {},
     "output_type": "execute_result"
    }
   ],
   "source": [
    "# weather\n",
    "bucket_name = 'dend-data'\n",
    "bucket_subfolders = 'capstone/raw-data/weather-data'\n",
    "path = '../../data/raw/weather_data'\n",
    "file_list = list_files(path)\n",
    "file_list"
   ]
  },
  {
   "cell_type": "code",
   "execution_count": 5,
   "metadata": {},
   "outputs": [
    {
     "data": {
      "text/plain": [
       "True"
      ]
     },
     "execution_count": 5,
     "metadata": {},
     "output_type": "execute_result"
    }
   ],
   "source": [
    "upload_list_of_files_S3(file_list,bucket_name, bucket_subfolders)"
   ]
  },
  {
   "cell_type": "code",
   "execution_count": null,
   "metadata": {},
   "outputs": [],
   "source": []
  }
 ],
 "metadata": {
  "kernelspec": {
   "display_name": "Python 3 (ipykernel)",
   "language": "python",
   "name": "python3"
  },
  "language_info": {
   "codemirror_mode": {
    "name": "ipython",
    "version": 3
   },
   "file_extension": ".py",
   "mimetype": "text/x-python",
   "name": "python",
   "nbconvert_exporter": "python",
   "pygments_lexer": "ipython3",
   "version": "3.9.5"
  }
 },
 "nbformat": 4,
 "nbformat_minor": 4
}
