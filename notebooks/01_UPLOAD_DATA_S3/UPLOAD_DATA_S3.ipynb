{
 "cells": [
  {
   "cell_type": "code",
   "execution_count": 6,
   "metadata": {},
   "outputs": [
    {
     "data": {
      "text/html": [
       "        <script type=\"text/javascript\">\n",
       "        window.PlotlyConfig = {MathJaxConfig: 'local'};\n",
       "        if (window.MathJax) {MathJax.Hub.Config({SVG: {font: \"STIX-Web\"}});}\n",
       "        if (typeof require !== 'undefined') {\n",
       "        require.undef(\"plotly\");\n",
       "        requirejs.config({\n",
       "            paths: {\n",
       "                'plotly': ['https://cdn.plot.ly/plotly-latest.min']\n",
       "            }\n",
       "        });\n",
       "        require(['plotly'], function(Plotly) {\n",
       "            window._Plotly = Plotly;\n",
       "        });\n",
       "        }\n",
       "        </script>\n",
       "        "
      ]
     },
     "metadata": {},
     "output_type": "display_data"
    },
    {
     "name": "stdout",
     "output_type": "stream",
     "text": [
      "\n",
      "python\t3.8.5 (default, Sep  4 2020, 07:30:14) \n",
      "[GCC 7.3.0]\n",
      "---------------------\n",
      "Versions:\n",
      "----------------------\n",
      "pandas      1.1.2\n",
      "numpy       1.19.1\n",
      "matplotlib  3.3.1\n",
      "seaborn     0.11.0\n",
      "plotly      4.11.0\n",
      "boto3       1.17.106\n",
      "awswrangler 2.9.0\n",
      "----------------------\n",
      "\n",
      "\n",
      "Loaded Libraries\n",
      "-------------------\n",
      "import pandas as pd\n",
      "import numpy as np\n",
      "import sys,os\n",
      "import re\n",
      "import glob\n",
      "import pickle\n",
      "import seaborn as sns\n",
      "import matplotlib.pyplot as plt\n",
      "import plotly\n",
      "import plotly.graph_objs as go\n",
      "from plotly.offline import download_plotlyjs, init_notebook_mode, plot, iplot\n",
      "init_notebook_mode(connected=True)\n",
      "\n",
      "\n",
      "## AWS\n",
      "import boto3\n",
      "import awswrangler as wr\n",
      "----------------\n",
      "\n",
      "\n",
      "GLOBAL VARIABLES\n",
      "--------------------------\n",
      "# Creating the low level functional client\n",
      "client = boto3.client(\n",
      "    's3',\n",
      "    aws_access_key_id = AWS_KEY_ID,\n",
      "    aws_secret_access_key = AWS_SECRET,\n",
      ")\n",
      "    \n",
      "# Creating the high level object oriented interface\n",
      "resource = boto3.resource(\n",
      "    's3',\n",
      "    aws_access_key_id = AWS_KEY_ID,\n",
      "    aws_secret_access_key = AWS_SECRET,\n",
      ")\n",
      "\n",
      "HERE_DIR: list current directory path\n",
      "------------------------------\n",
      "\n",
      "# SAVE PLOTS\n",
      "To save a plot call\n",
      "`save_plots(fig_variable,'name_of_plot')`\n",
      "\n",
      "source file: src/start.py\n",
      "\n",
      "\n"
     ]
    }
   ],
   "source": [
    "%run ../../src/start.py"
   ]
  },
  {
   "cell_type": "markdown",
   "metadata": {},
   "source": [
    "## Helper functions"
   ]
  },
  {
   "cell_type": "code",
   "execution_count": 13,
   "metadata": {},
   "outputs": [],
   "source": [
    "from botocore.exceptions import ClientError\n",
    "\n",
    "def upload_file(file_name, bucket, object_name=None):\n",
    "    \"\"\"Upload a file to an S3 bucket\n",
    "\n",
    "    :param file_name: File to upload\n",
    "    :param bucket: Bucket to upload to\n",
    "    :param object_name: S3 object name. If not specified then file_name is used\n",
    "    :return: True if file was uploaded, else False\n",
    "    \"\"\"\n",
    "\n",
    "    # If S3 object_name was not specified, use file_name\n",
    "    if object_name is None:\n",
    "        object_name = file_name\n",
    "\n",
    "    # Upload the file\n",
    "    s3_client = boto3.client('s3')\n",
    "    try:\n",
    "        response = s3_client.upload_file(file_name, bucket, object_name)\n",
    "    except ClientError as e:\n",
    "        logging.error(e)\n",
    "        return False\n",
    "    return True\n",
    "\n",
    "\n",
    "def create_bucket(bucket_name, region=None):\n",
    "    \"\"\"Create an S3 bucket in a specified region\n",
    "\n",
    "    If a region is not specified, the bucket is created in the S3 default\n",
    "    region (us-east-1).\n",
    "\n",
    "    :param bucket_name: Bucket to create\n",
    "    :param region: String region to create bucket in, e.g., 'us-west-2'\n",
    "    :return: True if bucket created, else False\n",
    "    \"\"\"\n",
    "\n",
    "    # Create bucket\n",
    "    try:\n",
    "        if region is None:\n",
    "            s3_client = boto3.client('s3')\n",
    "            s3_client.create_bucket(Bucket=bucket_name)\n",
    "        else:\n",
    "            s3_client = boto3.client('s3', region_name=region)\n",
    "            location = {'LocationConstraint': region}\n",
    "            s3_client.create_bucket(Bucket=bucket_name,\n",
    "                                    CreateBucketConfiguration=location)\n",
    "    except ClientError as e:\n",
    "        logging.error(e)\n",
    "        return False\n",
    "    return True\n",
    "\n",
    "\n",
    "\n",
    "\n",
    "def return_path(path,year):\n",
    "    '''return path'''\n",
    "    return f'{path}{year}/'\n",
    "\n",
    "def list_files(path,):\n",
    "    '''list files in a given path'''\n",
    "    return list(glob.glob(f'{path}/*'))\n",
    "\n",
    "def list_files_match(path,file_type):\n",
    "    '''list the files in a given path given file type'''\n",
    "    return list(glob.glob(f'{path}/*{file_type}'))\n",
    "\n",
    "\n",
    "def upload_list_of_files_S3(file_list, bucket_name,subfolder_path):\n",
    "    '''function to upload multiple files in a path to S3\n",
    "    param file_list: list of paths where the files are located\n",
    "    param bucket_name: bucket to upload to\n",
    "    param: subfoder_path: where in the bucket the files will go to'''\n",
    "    try:\n",
    "        for file in file_list:\n",
    "            file_name = file.rsplit('/', 1)[1]  # name of file\n",
    "            upload_file(file,bucket_name, object_name=f\"{subfolder_path}/{file_name}\")\n",
    "    except ClientError as e:\n",
    "        logging.error(e)\n",
    "        return False\n",
    "    return True\n"
   ]
  },
  {
   "cell_type": "markdown",
   "metadata": {},
   "source": [
    "## Examples"
   ]
  },
  {
   "cell_type": "code",
   "execution_count": 4,
   "metadata": {},
   "outputs": [
    {
     "data": {
      "text/plain": [
       "'../../data/raw/crime_data/2005/'"
      ]
     },
     "execution_count": 4,
     "metadata": {},
     "output_type": "execute_result"
    }
   ],
   "source": [
    "# load simple path`\n",
    "\n",
    "path = '../../data/raw/crime_data/'\n",
    "return_path(path,'2005')"
   ]
  },
  {
   "cell_type": "code",
   "execution_count": 8,
   "metadata": {},
   "outputs": [
    {
     "data": {
      "text/plain": [
       "['../../data/raw/crime_data/2005/apr05.xls',\n",
       " '../../data/raw/crime_data/2005/aug05.xls',\n",
       " '../../data/raw/crime_data/2005/dec05.xls',\n",
       " '../../data/raw/crime_data/2005/feb05.xls',\n",
       " '../../data/raw/crime_data/2005/jan05.xls',\n",
       " '../../data/raw/crime_data/2005/jul05.xls',\n",
       " '../../data/raw/crime_data/2005/jun05.xls',\n",
       " '../../data/raw/crime_data/2005/mar05.xls',\n",
       " '../../data/raw/crime_data/2005/may05.xls',\n",
       " '../../data/raw/crime_data/2005/nov05.xls',\n",
       " '../../data/raw/crime_data/2005/oct05.xls',\n",
       " '../../data/raw/crime_data/2005/sep05.xls']"
      ]
     },
     "execution_count": 8,
     "metadata": {},
     "output_type": "execute_result"
    }
   ],
   "source": [
    "# print the files full path\n",
    "path = '../../data/raw/crime_data/2005'\n",
    "file_list = list_files(path)\n",
    "file_list"
   ]
  },
  {
   "cell_type": "code",
   "execution_count": 11,
   "metadata": {},
   "outputs": [
    {
     "data": {
      "text/plain": [
       "[]"
      ]
     },
     "execution_count": 11,
     "metadata": {},
     "output_type": "execute_result"
    }
   ],
   "source": [
    "# print the files full path with specific file type\n",
    "# No csv files in the path\n",
    "path = '../../data/raw/crime_data/2005'\n",
    "file_list = list_files_match(path,'csv')\n",
    "file_list"
   ]
  },
  {
   "cell_type": "markdown",
   "metadata": {},
   "source": [
    "## List"
   ]
  },
  {
   "cell_type": "code",
   "execution_count": 14,
   "metadata": {},
   "outputs": [
    {
     "name": "stdout",
     "output_type": "stream",
     "text": [
      "Existing buckets:\n",
      "  aws-logs-765441314938-us-east-1\n",
      "  cacabucket\n",
      "  salas-bucket\n",
      "  salas-data\n"
     ]
    }
   ],
   "source": [
    "# Retrieve the list of existing buckets\n",
    "s3 = boto3.client('s3')\n",
    "response = s3.list_buckets()\n",
    "\n",
    "# Output the bucket names\n",
    "print('Existing buckets:')\n",
    "for bucket in response['Buckets']:\n",
    "    print(f'  {bucket[\"Name\"]}')"
   ]
  },
  {
   "cell_type": "markdown",
   "metadata": {},
   "source": [
    "# Load files into S3 Bucket"
   ]
  },
  {
   "cell_type": "code",
   "execution_count": 18,
   "metadata": {},
   "outputs": [
    {
     "data": {
      "text/plain": [
       "['../../data/raw/crime_data/2005/apr05.xls',\n",
       " '../../data/raw/crime_data/2005/aug05.xls',\n",
       " '../../data/raw/crime_data/2005/dec05.xls',\n",
       " '../../data/raw/crime_data/2005/feb05.xls',\n",
       " '../../data/raw/crime_data/2005/jan05.xls',\n",
       " '../../data/raw/crime_data/2005/jul05.xls',\n",
       " '../../data/raw/crime_data/2005/jun05.xls',\n",
       " '../../data/raw/crime_data/2005/mar05.xls',\n",
       " '../../data/raw/crime_data/2005/may05.xls',\n",
       " '../../data/raw/crime_data/2005/nov05.xls',\n",
       " '../../data/raw/crime_data/2005/oct05.xls',\n",
       " '../../data/raw/crime_data/2005/sep05.xls']"
      ]
     },
     "execution_count": 18,
     "metadata": {},
     "output_type": "execute_result"
    }
   ],
   "source": [
    "# 2005 crime files into bucket `salas-data` with subfolders as `capstone/raw-data/crime-data/2005\n",
    "bucket_name = 'salas-data'\n",
    "bucket_subfolders = 'capstone/raw-data/crime-data/2005'\n",
    "dir_path = '../../data/raw/crime_data/2005'\n",
    "file_list = list_files(path)\n",
    "file_list"
   ]
  },
  {
   "cell_type": "code",
   "execution_count": 19,
   "metadata": {},
   "outputs": [
    {
     "data": {
      "text/plain": [
       "True"
      ]
     },
     "execution_count": 19,
     "metadata": {},
     "output_type": "execute_result"
    }
   ],
   "source": [
    "upload_list_of_files_S3(file_list,bucket_name, bucket_subfolders)"
   ]
  },
  {
   "cell_type": "code",
   "execution_count": 27,
   "metadata": {},
   "outputs": [
    {
     "data": {
      "text/plain": [
       "['../../data/raw/crime_data/2006/apr06.xls',\n",
       " '../../data/raw/crime_data/2006/aug06.xls',\n",
       " '../../data/raw/crime_data/2006/dec06.xls',\n",
       " '../../data/raw/crime_data/2006/feb06.xls',\n",
       " '../../data/raw/crime_data/2006/jan06.xls',\n",
       " '../../data/raw/crime_data/2006/jul06.xls',\n",
       " '../../data/raw/crime_data/2006/jun06.xls',\n",
       " '../../data/raw/crime_data/2006/mar06.xls',\n",
       " '../../data/raw/crime_data/2006/may06.xls',\n",
       " '../../data/raw/crime_data/2006/nov06.xls',\n",
       " '../../data/raw/crime_data/2006/oct06.xls',\n",
       " '../../data/raw/crime_data/2006/sep06.xls']"
      ]
     },
     "execution_count": 27,
     "metadata": {},
     "output_type": "execute_result"
    }
   ],
   "source": [
    "# 2006\n",
    "bucket_name = 'salas-data'\n",
    "bucket_subfolders = 'capstone/raw-data/crime-data/2006'\n",
    "path = '../../data/raw/crime_data/2006'\n",
    "file_list = list_files(path)\n",
    "file_list"
   ]
  },
  {
   "cell_type": "code",
   "execution_count": 28,
   "metadata": {},
   "outputs": [
    {
     "data": {
      "text/plain": [
       "True"
      ]
     },
     "execution_count": 28,
     "metadata": {},
     "output_type": "execute_result"
    }
   ],
   "source": [
    "# 2006\n",
    "upload_list_of_files_S3(file_list,bucket_name, bucket_subfolders)"
   ]
  },
  {
   "cell_type": "code",
   "execution_count": null,
   "metadata": {},
   "outputs": [],
   "source": []
  },
  {
   "cell_type": "code",
   "execution_count": null,
   "metadata": {},
   "outputs": [],
   "source": []
  }
 ],
 "metadata": {
  "kernelspec": {
   "display_name": "Python 3",
   "language": "python",
   "name": "python3"
  },
  "language_info": {
   "codemirror_mode": {
    "name": "ipython",
    "version": 3
   },
   "file_extension": ".py",
   "mimetype": "text/x-python",
   "name": "python",
   "nbconvert_exporter": "python",
   "pygments_lexer": "ipython3",
   "version": "3.8.5"
  }
 },
 "nbformat": 4,
 "nbformat_minor": 4
}
