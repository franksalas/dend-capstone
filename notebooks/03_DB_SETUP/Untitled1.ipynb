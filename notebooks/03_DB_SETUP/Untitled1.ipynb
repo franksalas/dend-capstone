{
 "cells": [
  {
   "cell_type": "code",
   "execution_count": 1,
   "id": "05ad5250-e6cc-429c-a93f-c945a71a9747",
   "metadata": {},
   "outputs": [],
   "source": [
    "import os\n",
    "import glob\n",
    "import psycopg2\n",
    "import pandas as pd\n",
    "import numpy as np\n",
    "from sql_queries import *\n",
    "# AWS\n",
    "import boto3\n",
    "import awswrangler as wr\n",
    "\n",
    "# load secret keys\n",
    "db_host = os.environ.get('DB_HOST')\n",
    "db_name = os.environ.get('DB_NAME')\n",
    "db_user = os.environ.get('DB_USER')\n",
    "db_pass = os.environ.get('DB_PASS')\n",
    "db_port = os.environ.get('DB_PORT')"
   ]
  },
  {
   "cell_type": "code",
   "execution_count": 2,
   "id": "db5b7bb4-7fae-4062-8de3-55e57950b77b",
   "metadata": {},
   "outputs": [
    {
     "data": {
      "text/plain": [
       "'redshift-cluster-1.comunzlcrvnn.us-east-1.redshift.amazonaws.com'"
      ]
     },
     "execution_count": 2,
     "metadata": {},
     "output_type": "execute_result"
    }
   ],
   "source": [
    "db_host"
   ]
  },
  {
   "cell_type": "code",
   "execution_count": 7,
   "id": "c77563be-9f5b-484e-81f6-4f8787727002",
   "metadata": {},
   "outputs": [
    {
     "data": {
      "text/plain": [
       "'capstonedb'"
      ]
     },
     "execution_count": 7,
     "metadata": {},
     "output_type": "execute_result"
    }
   ],
   "source": [
    "db_name"
   ]
  },
  {
   "cell_type": "code",
   "execution_count": 4,
   "id": "4a39af5f-809e-4290-a647-57caee53f2ac",
   "metadata": {},
   "outputs": [
    {
     "data": {
      "text/plain": [
       "'frank'"
      ]
     },
     "execution_count": 4,
     "metadata": {},
     "output_type": "execute_result"
    }
   ],
   "source": [
    "db_user"
   ]
  },
  {
   "cell_type": "code",
   "execution_count": 5,
   "id": "3d080e19-0d5c-42b9-ae5b-2151b28fdbef",
   "metadata": {},
   "outputs": [
    {
     "data": {
      "text/plain": [
       "'Punkin99'"
      ]
     },
     "execution_count": 5,
     "metadata": {},
     "output_type": "execute_result"
    }
   ],
   "source": [
    "db_pass"
   ]
  },
  {
   "cell_type": "code",
   "execution_count": 6,
   "id": "35a6be5e-ff7c-44d2-bae5-aee635aba9fb",
   "metadata": {},
   "outputs": [
    {
     "data": {
      "text/plain": [
       "'5439'"
      ]
     },
     "execution_count": 6,
     "metadata": {},
     "output_type": "execute_result"
    }
   ],
   "source": [
    "db_port"
   ]
  },
  {
   "cell_type": "code",
   "execution_count": 9,
   "id": "fdf37387-cf13-4458-8915-2f8fd68ae8f9",
   "metadata": {},
   "outputs": [],
   "source": [
    "import psycopg2\n",
    "con=psycopg2.connect(dbname= db_name, host= 'redshift-cluster-1.ctkgati4b0qj.us-west-2.redshift.amazonaws.com', \n",
    "port= db_port, user= db_user, password= db_pass)"
   ]
  },
  {
   "cell_type": "code",
   "execution_count": null,
   "id": "88fdb1b5-9918-464d-84dc-a744d9191a6b",
   "metadata": {},
   "outputs": [],
   "source": []
  }
 ],
 "metadata": {
  "kernelspec": {
   "display_name": "Python 3",
   "language": "python",
   "name": "python3"
  },
  "language_info": {
   "codemirror_mode": {
    "name": "ipython",
    "version": 3
   },
   "file_extension": ".py",
   "mimetype": "text/x-python",
   "name": "python",
   "nbconvert_exporter": "python",
   "pygments_lexer": "ipython3",
   "version": "3.9.6"
  }
 },
 "nbformat": 4,
 "nbformat_minor": 5
}
