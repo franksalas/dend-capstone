{
 "cells": [
  {
   "cell_type": "code",
   "execution_count": 1,
   "id": "fc448e1e-75b0-4a4f-b9a6-cc02fb58d2ab",
   "metadata": {},
   "outputs": [],
   "source": [
    "import os\n",
    "import glob\n",
    "import psycopg2\n",
    "import pandas as pd\n",
    "import numpy as np\n",
    "from sql_queries import *\n",
    "## AWS\n",
    "import boto3\n",
    "import awswrangler as wr\n",
    "\n",
    "# load secret keys\n",
    "db_host = os.environ.get('DB_HOST')\n",
    "db_name = os.environ.get('DB_NAME')\n",
    "db_user = os.environ.get('DB_USER')\n",
    "db_pass = os.environ.get('DB_PASS')\n",
    "db_port = os.environ.get('DB_PORT')"
   ]
  },
  {
   "cell_type": "code",
   "execution_count": 2,
   "id": "c1728df9-7c8c-4773-9b20-8bcf69f0df6f",
   "metadata": {},
   "outputs": [],
   "source": [
    "conn = psycopg2.connect(database=db_name,\n",
    "user=db_user,\n",
    "password=db_pass,\n",
    "host=db_host,\n",
    "port=db_port)\n",
    "conn.set_session(autocommit=True)\n",
    "cur = conn.cursor()"
   ]
  },
  {
   "cell_type": "code",
   "execution_count": 3,
   "id": "8d7426a7-0a30-4bf2-a77f-b88f493c7da7",
   "metadata": {},
   "outputs": [],
   "source": [
    "# load data\n",
    "# helper function\n",
    "def bucket_raw_path(bucket_name,path_dir):\n",
    "    '''get raw path of bucket'''\n",
    "    raw_path = f's3://{bucket_name}/{path_dir}'\n",
    "    return raw_path\n",
    "\n",
    "\n",
    "def load_data(raw_s3):\n",
    "    # depends what file you are uploading\n",
    "    file = wr.s3.list_objects(raw_s3)[1]  # depends what file you are uploading\n",
    "    return wr.s3.read_csv(file)\n",
    "\n",
    "def create_table_from_df(dataframe,column_name,new_col_name,new_pk_name):\n",
    "    \"\"\"\n",
    "    \"\"\"\n",
    "    col_data_list = dataframe[column_name].unique().tolist()\n",
    "    total_rows = len(col_data_list)\n",
    "    df_table = pd.DataFrame(col_data_list,columns=[new_col_name])\n",
    "    df_table = df_table.reset_index()\n",
    "    df_table.rename(columns={'index':new_pk_name}, inplace=True)\n",
    "    df_table[new_pk_name] = df_table[new_pk_name] +1\n",
    "    return df_table\n",
    "\n",
    "\n",
    "\n",
    "\n",
    "def drop_add_pk(data,data_table,lo,ro):\n",
    "    data = data.merge(data_table, left_on=lo, right_on=ro,suffixes=(True,True))\n",
    "    data.drop([lo,ro], axis=1,inplace=True)\n",
    "    return data"
   ]
  },
  {
   "cell_type": "markdown",
   "id": "e9bd759f-b512-482a-969e-c98fb9193a89",
   "metadata": {},
   "source": [
    "# LOAD DATA"
   ]
  },
  {
   "cell_type": "code",
   "execution_count": 4,
   "id": "daef0b41-705e-4109-b68a-5eaa440d7b2c",
   "metadata": {},
   "outputs": [
    {
     "data": {
      "text/plain": [
       "['s3://dend-data/capstone/load-data/crime-weather-09-18.csv',\n",
       " 's3://dend-data/capstone/load-data/crime-weather-sample-100-09-18.csv',\n",
       " 's3://dend-data/capstone/load-data/crime-weather-sample-1000-09-18.csv']"
      ]
     },
     "execution_count": 4,
     "metadata": {},
     "output_type": "execute_result"
    }
   ],
   "source": [
    "raw = bucket_raw_path('dend-data',f'capstone/load-data/')\n",
    "wr.s3.list_objects(raw)"
   ]
  },
  {
   "cell_type": "code",
   "execution_count": 5,
   "id": "457fd9bb-a0a8-4170-a4c8-5b84a7c391d5",
   "metadata": {},
   "outputs": [
    {
     "data": {
      "text/plain": [
       "'s3://dend-data/capstone/load-data/crime-weather-sample-100-09-18.csv'"
      ]
     },
     "execution_count": 5,
     "metadata": {},
     "output_type": "execute_result"
    }
   ],
   "source": [
    "wr.s3.list_objects(raw)[1]"
   ]
  },
  {
   "cell_type": "code",
   "execution_count": 6,
   "id": "11ad19f7-8e5a-41b8-8f35-e7b7e7d1d543",
   "metadata": {},
   "outputs": [
    {
     "name": "stdout",
     "output_type": "stream",
     "text": [
      "CPU times: user 122 ms, sys: 40.5 ms, total: 163 ms\n",
      "Wall time: 1.17 s\n"
     ]
    }
   ],
   "source": [
    "%%time\n",
    "data = load_data(raw)"
   ]
  },
  {
   "cell_type": "code",
   "execution_count": 7,
   "id": "e812c219-222f-456d-b08d-9418c4e19f7b",
   "metadata": {},
   "outputs": [
    {
     "name": "stdout",
     "output_type": "stream",
     "text": [
      "<class 'pandas.core.frame.DataFrame'>\n",
      "RangeIndex: 100 entries, 0 to 99\n",
      "Data columns (total 24 columns):\n",
      " #   Column               Non-Null Count  Dtype  \n",
      "---  ------               --------------  -----  \n",
      " 0   date_time            100 non-null    object \n",
      " 1   offenses             100 non-null    int64  \n",
      " 2   offense_type         100 non-null    object \n",
      " 3   block_range          100 non-null    object \n",
      " 4   street_name          100 non-null    object \n",
      " 5   type                 100 non-null    object \n",
      " 6   suffix               100 non-null    object \n",
      " 7   beat                 100 non-null    object \n",
      " 8   premise              100 non-null    object \n",
      " 9   date                 100 non-null    object \n",
      " 10  hour                 100 non-null    int64  \n",
      " 11  year                 100 non-null    int64  \n",
      " 12  premise_description  100 non-null    object \n",
      " 13  temp                 100 non-null    float64\n",
      " 14  feels_like           100 non-null    float64\n",
      " 15  temp_min             100 non-null    float64\n",
      " 16  temp_max             100 non-null    float64\n",
      " 17  humidity_per         100 non-null    int64  \n",
      " 18  wind_speed           100 non-null    float64\n",
      " 19  rain_vol_1h_mm       100 non-null    float64\n",
      " 20  snow_vol_1h_mm       100 non-null    float64\n",
      " 21  clouds_all_per       100 non-null    int64  \n",
      " 22  weather_main         100 non-null    object \n",
      " 23  weather_description  100 non-null    object \n",
      "dtypes: float64(7), int64(5), object(12)\n",
      "memory usage: 18.9+ KB\n"
     ]
    }
   ],
   "source": [
    "data.info()"
   ]
  },
  {
   "cell_type": "code",
   "execution_count": 8,
   "id": "eec0c8d3-bdd4-4282-a0e3-e29f98dc77c6",
   "metadata": {},
   "outputs": [
    {
     "data": {
      "text/html": [
       "<div>\n",
       "<style scoped>\n",
       "    .dataframe tbody tr th:only-of-type {\n",
       "        vertical-align: middle;\n",
       "    }\n",
       "\n",
       "    .dataframe tbody tr th {\n",
       "        vertical-align: top;\n",
       "    }\n",
       "\n",
       "    .dataframe thead th {\n",
       "        text-align: right;\n",
       "    }\n",
       "</style>\n",
       "<table border=\"1\" class=\"dataframe\">\n",
       "  <thead>\n",
       "    <tr style=\"text-align: right;\">\n",
       "      <th></th>\n",
       "      <th>date_time</th>\n",
       "      <th>offenses</th>\n",
       "      <th>offense_type</th>\n",
       "      <th>block_range</th>\n",
       "      <th>street_name</th>\n",
       "      <th>type</th>\n",
       "      <th>suffix</th>\n",
       "      <th>beat</th>\n",
       "      <th>premise</th>\n",
       "      <th>date</th>\n",
       "      <th>...</th>\n",
       "      <th>feels_like</th>\n",
       "      <th>temp_min</th>\n",
       "      <th>temp_max</th>\n",
       "      <th>humidity_per</th>\n",
       "      <th>wind_speed</th>\n",
       "      <th>rain_vol_1h_mm</th>\n",
       "      <th>snow_vol_1h_mm</th>\n",
       "      <th>clouds_all_per</th>\n",
       "      <th>weather_main</th>\n",
       "      <th>weather_description</th>\n",
       "    </tr>\n",
       "  </thead>\n",
       "  <tbody>\n",
       "    <tr>\n",
       "      <th>0</th>\n",
       "      <td>2018-04-13 19:00:00</td>\n",
       "      <td>1</td>\n",
       "      <td>Theft</td>\n",
       "      <td>5100-5199</td>\n",
       "      <td>buffalo speedway</td>\n",
       "      <td>-</td>\n",
       "      <td>-</td>\n",
       "      <td>1A50</td>\n",
       "      <td>Restaurant or Cafeteria Parking Lot</td>\n",
       "      <td>04/13/2018</td>\n",
       "      <td>...</td>\n",
       "      <td>84.650</td>\n",
       "      <td>80.654</td>\n",
       "      <td>83.102</td>\n",
       "      <td>59</td>\n",
       "      <td>7.7</td>\n",
       "      <td>0.56</td>\n",
       "      <td>0.0</td>\n",
       "      <td>75</td>\n",
       "      <td>Rain</td>\n",
       "      <td>light rain</td>\n",
       "    </tr>\n",
       "    <tr>\n",
       "      <th>1</th>\n",
       "      <td>2009-11-10 10:00:00</td>\n",
       "      <td>1</td>\n",
       "      <td>Burglary</td>\n",
       "      <td>5400-5499</td>\n",
       "      <td>lymbar</td>\n",
       "      <td>dr</td>\n",
       "      <td>-</td>\n",
       "      <td>15E10</td>\n",
       "      <td>20R</td>\n",
       "      <td>11/10/09 00:00:00</td>\n",
       "      <td>...</td>\n",
       "      <td>63.500</td>\n",
       "      <td>62.654</td>\n",
       "      <td>64.418</td>\n",
       "      <td>92</td>\n",
       "      <td>4.1</td>\n",
       "      <td>0.00</td>\n",
       "      <td>0.0</td>\n",
       "      <td>1</td>\n",
       "      <td>Clear</td>\n",
       "      <td>sky is clear</td>\n",
       "    </tr>\n",
       "    <tr>\n",
       "      <th>2</th>\n",
       "      <td>2016-02-27 17:00:00</td>\n",
       "      <td>1</td>\n",
       "      <td>Burglary</td>\n",
       "      <td>6300-6399</td>\n",
       "      <td>bellfort</td>\n",
       "      <td>st</td>\n",
       "      <td>W</td>\n",
       "      <td>17E40</td>\n",
       "      <td>Apartment</td>\n",
       "      <td>2016-02-27 00:00:00</td>\n",
       "      <td>...</td>\n",
       "      <td>64.184</td>\n",
       "      <td>64.094</td>\n",
       "      <td>66.902</td>\n",
       "      <td>31</td>\n",
       "      <td>2.1</td>\n",
       "      <td>0.00</td>\n",
       "      <td>0.0</td>\n",
       "      <td>1</td>\n",
       "      <td>Clear</td>\n",
       "      <td>sky is clear</td>\n",
       "    </tr>\n",
       "    <tr>\n",
       "      <th>3</th>\n",
       "      <td>2013-10-26 17:00:00</td>\n",
       "      <td>1</td>\n",
       "      <td>Theft</td>\n",
       "      <td>7900-7999</td>\n",
       "      <td>wallisville</td>\n",
       "      <td>rd</td>\n",
       "      <td>-</td>\n",
       "      <td>9C20</td>\n",
       "      <td>250</td>\n",
       "      <td>2013-10-26 00:00:00</td>\n",
       "      <td>...</td>\n",
       "      <td>76.406</td>\n",
       "      <td>73.616</td>\n",
       "      <td>78.818</td>\n",
       "      <td>62</td>\n",
       "      <td>5.7</td>\n",
       "      <td>0.00</td>\n",
       "      <td>0.0</td>\n",
       "      <td>1</td>\n",
       "      <td>Clear</td>\n",
       "      <td>sky is clear</td>\n",
       "    </tr>\n",
       "    <tr>\n",
       "      <th>4</th>\n",
       "      <td>2018-03-10 00:00:00</td>\n",
       "      <td>1</td>\n",
       "      <td>Robbery</td>\n",
       "      <td>8900-8999</td>\n",
       "      <td>braesmont</td>\n",
       "      <td>dr</td>\n",
       "      <td>-</td>\n",
       "      <td>15E10</td>\n",
       "      <td>Apartment Parking Lot</td>\n",
       "      <td>03/10/2018</td>\n",
       "      <td>...</td>\n",
       "      <td>68.036</td>\n",
       "      <td>68.000</td>\n",
       "      <td>70.016</td>\n",
       "      <td>65</td>\n",
       "      <td>4.1</td>\n",
       "      <td>0.00</td>\n",
       "      <td>0.0</td>\n",
       "      <td>90</td>\n",
       "      <td>Clouds</td>\n",
       "      <td>overcast clouds</td>\n",
       "    </tr>\n",
       "  </tbody>\n",
       "</table>\n",
       "<p>5 rows × 24 columns</p>\n",
       "</div>"
      ],
      "text/plain": [
       "             date_time  offenses offense_type block_range       street_name  \\\n",
       "0  2018-04-13 19:00:00         1        Theft   5100-5199  buffalo speedway   \n",
       "1  2009-11-10 10:00:00         1     Burglary   5400-5499            lymbar   \n",
       "2  2016-02-27 17:00:00         1     Burglary   6300-6399          bellfort   \n",
       "3  2013-10-26 17:00:00         1        Theft   7900-7999       wallisville   \n",
       "4  2018-03-10 00:00:00         1      Robbery   8900-8999         braesmont   \n",
       "\n",
       "  type suffix   beat                              premise  \\\n",
       "0    -      -   1A50  Restaurant or Cafeteria Parking Lot   \n",
       "1   dr      -  15E10                                  20R   \n",
       "2   st      W  17E40                            Apartment   \n",
       "3   rd      -   9C20                                  250   \n",
       "4   dr      -  15E10                Apartment Parking Lot   \n",
       "\n",
       "                  date  ...  feels_like  temp_min temp_max  humidity_per  \\\n",
       "0           04/13/2018  ...      84.650    80.654   83.102            59   \n",
       "1    11/10/09 00:00:00  ...      63.500    62.654   64.418            92   \n",
       "2  2016-02-27 00:00:00  ...      64.184    64.094   66.902            31   \n",
       "3  2013-10-26 00:00:00  ...      76.406    73.616   78.818            62   \n",
       "4           03/10/2018  ...      68.036    68.000   70.016            65   \n",
       "\n",
       "   wind_speed  rain_vol_1h_mm  snow_vol_1h_mm  clouds_all_per  weather_main  \\\n",
       "0         7.7            0.56             0.0              75          Rain   \n",
       "1         4.1            0.00             0.0               1         Clear   \n",
       "2         2.1            0.00             0.0               1         Clear   \n",
       "3         5.7            0.00             0.0               1         Clear   \n",
       "4         4.1            0.00             0.0              90        Clouds   \n",
       "\n",
       "   weather_description  \n",
       "0           light rain  \n",
       "1         sky is clear  \n",
       "2         sky is clear  \n",
       "3         sky is clear  \n",
       "4      overcast clouds  \n",
       "\n",
       "[5 rows x 24 columns]"
      ]
     },
     "execution_count": 8,
     "metadata": {},
     "output_type": "execute_result"
    }
   ],
   "source": [
    "data.head()"
   ]
  },
  {
   "cell_type": "markdown",
   "id": "b31a742d-0741-4a19-85ed-2c81c8d50ec2",
   "metadata": {},
   "source": [
    "# CREATE TABLES FROM DF"
   ]
  },
  {
   "cell_type": "markdown",
   "id": "6ef7348e-57e9-436c-ab4e-5344427ab184",
   "metadata": {},
   "source": [
    "## CREATE offense_table"
   ]
  },
  {
   "cell_type": "code",
   "execution_count": null,
   "id": "7a284a42-c815-4cf0-a2e5-ad4ca597e300",
   "metadata": {},
   "outputs": [],
   "source": []
  },
  {
   "cell_type": "code",
   "execution_count": 9,
   "id": "ab576373-808d-4d9f-a1e4-f0ab4a14c0cd",
   "metadata": {},
   "outputs": [
    {
     "data": {
      "text/html": [
       "<div>\n",
       "<style scoped>\n",
       "    .dataframe tbody tr th:only-of-type {\n",
       "        vertical-align: middle;\n",
       "    }\n",
       "\n",
       "    .dataframe tbody tr th {\n",
       "        vertical-align: top;\n",
       "    }\n",
       "\n",
       "    .dataframe thead th {\n",
       "        text-align: right;\n",
       "    }\n",
       "</style>\n",
       "<table border=\"1\" class=\"dataframe\">\n",
       "  <thead>\n",
       "    <tr style=\"text-align: right;\">\n",
       "      <th></th>\n",
       "      <th>offense_pk</th>\n",
       "      <th>offense_name</th>\n",
       "    </tr>\n",
       "  </thead>\n",
       "  <tbody>\n",
       "    <tr>\n",
       "      <th>0</th>\n",
       "      <td>1</td>\n",
       "      <td>Theft</td>\n",
       "    </tr>\n",
       "    <tr>\n",
       "      <th>1</th>\n",
       "      <td>2</td>\n",
       "      <td>Burglary</td>\n",
       "    </tr>\n",
       "    <tr>\n",
       "      <th>2</th>\n",
       "      <td>3</td>\n",
       "      <td>Robbery</td>\n",
       "    </tr>\n",
       "    <tr>\n",
       "      <th>3</th>\n",
       "      <td>4</td>\n",
       "      <td>Aggravated Assault</td>\n",
       "    </tr>\n",
       "    <tr>\n",
       "      <th>4</th>\n",
       "      <td>5</td>\n",
       "      <td>Auto Theft</td>\n",
       "    </tr>\n",
       "  </tbody>\n",
       "</table>\n",
       "</div>"
      ],
      "text/plain": [
       "   offense_pk        offense_name\n",
       "0           1               Theft\n",
       "1           2            Burglary\n",
       "2           3             Robbery\n",
       "3           4  Aggravated Assault\n",
       "4           5          Auto Theft"
      ]
     },
     "execution_count": 9,
     "metadata": {},
     "output_type": "execute_result"
    }
   ],
   "source": [
    "offense_table = create_table_from_df(data,'offense_type','offense_name','offense_pk')\n",
    "offense_table.head()"
   ]
  },
  {
   "cell_type": "code",
   "execution_count": null,
   "id": "ca1fa5e9-b529-4a99-a86e-271ae45ee190",
   "metadata": {},
   "outputs": [],
   "source": []
  },
  {
   "cell_type": "code",
   "execution_count": null,
   "id": "ff664648-d7cb-447a-b22d-c60817fded89",
   "metadata": {},
   "outputs": [],
   "source": [
    "data.sample()"
   ]
  },
  {
   "cell_type": "code",
   "execution_count": null,
   "id": "1ff3a28a-6a3d-4952-8a6a-ba7d4b330ee0",
   "metadata": {},
   "outputs": [],
   "source": [
    "data = drop_add_pk(data,offense_table,'offense_type','offense_name')"
   ]
  },
  {
   "cell_type": "markdown",
   "id": "b6ae6d62-a3c0-4d38-8528-525fd57f6180",
   "metadata": {},
   "source": [
    "## CREATE police_beat_table"
   ]
  },
  {
   "cell_type": "code",
   "execution_count": null,
   "id": "2c1cfc0d-1c31-4389-a591-c2b8d7104b6b",
   "metadata": {},
   "outputs": [],
   "source": [
    "police_beat_table = create_table_from_df(data,'beat','beat_name','beat_pk')\n",
    "police_beat_table.head()"
   ]
  },
  {
   "cell_type": "markdown",
   "id": "b6c4f378-7fb8-4dc5-9218-5c1ece46650d",
   "metadata": {},
   "source": [
    "## remove columns & add pk col"
   ]
  },
  {
   "cell_type": "code",
   "execution_count": null,
   "id": "ec3eb266-a8a5-4256-9232-3ffc8db7e254",
   "metadata": {},
   "outputs": [],
   "source": [
    "data = drop_add_pk(data,police_beat_table,'beat','beat_name')\n",
    "data.sample()"
   ]
  },
  {
   "cell_type": "code",
   "execution_count": null,
   "id": "9599b101-0fbe-43f3-a32a-2396634d1f2d",
   "metadata": {},
   "outputs": [],
   "source": []
  },
  {
   "cell_type": "markdown",
   "id": "3233ae89-b7d2-42d3-8b12-746df073d06b",
   "metadata": {},
   "source": [
    "## CREATE premise_description_table"
   ]
  },
  {
   "cell_type": "code",
   "execution_count": null,
   "id": "e3e2dfb6-1246-4767-aa2b-3148b575c9f3",
   "metadata": {},
   "outputs": [],
   "source": [
    "premise_table = create_table_from_df(data,'premise_description','premise_name','premise_pk')\n",
    "premise_table.head()"
   ]
  },
  {
   "cell_type": "markdown",
   "id": "83b14a8f-e7c3-48f5-b11a-3a131ccce0fd",
   "metadata": {},
   "source": [
    "## remove col & add pk col"
   ]
  },
  {
   "cell_type": "code",
   "execution_count": null,
   "id": "3730b882-e636-44e1-a678-cb1c467ec956",
   "metadata": {},
   "outputs": [],
   "source": [
    "data = drop_add_pk(data,premise_table,'premise_description','premise_name')\n",
    "data.sample()"
   ]
  },
  {
   "cell_type": "code",
   "execution_count": null,
   "id": "e4bbb3db-3e96-4851-8c16-6261fed744ed",
   "metadata": {},
   "outputs": [],
   "source": []
  },
  {
   "cell_type": "markdown",
   "id": "4539727a-ef6b-4ba6-ac72-63c0da7fb772",
   "metadata": {},
   "source": [
    "# CREATE address_table"
   ]
  },
  {
   "cell_type": "code",
   "execution_count": null,
   "id": "fb697af0-0da9-4842-b58e-724b5c65ca71",
   "metadata": {},
   "outputs": [],
   "source": [
    "# clenup data\n",
    "data.block_range.replace('UNK','10-100',inplace=True)\n",
    "data.block_range.replace('1.1103e+006-1.1104e+006','10-100',inplace=True)\n",
    "\n",
    "def block_range_split(df):\n",
    "    '''split blockrange col values\n",
    "    then give median value as a string'''\n",
    "    first = df.block_range.str.split(pat='-',expand=True)[0].astype('int')\n",
    "    second = df.block_range.str.split(pat='-',expand=True)[1].astype('int')\n",
    "    med = np.ceil((second + first)/2).astype('int')\n",
    "    med = med.astype('str')\n",
    "    street = df.street_name\n",
    "    res = med + \" \" + street +\" Houston, TX\"\n",
    "    #res = f\"{med} {street} Houston, TX\"\n",
    "    return res\n",
    "\n",
    "\n",
    "data['og_address'] = block_range_split(data)"
   ]
  },
  {
   "cell_type": "code",
   "execution_count": null,
   "id": "f5de347f-c7f6-43a8-b791-2b8de37412cd",
   "metadata": {},
   "outputs": [],
   "source": [
    "data.head()"
   ]
  },
  {
   "cell_type": "code",
   "execution_count": null,
   "id": "bd34d1f8-b532-4ab7-99be-1dc393b0cc99",
   "metadata": {},
   "outputs": [],
   "source": [
    "address_table = create_table_from_df(data,'og_address','full_address','address_pk')\n",
    "address_table.head()"
   ]
  },
  {
   "cell_type": "code",
   "execution_count": null,
   "id": "9012f675-d898-4836-89a5-2db0ab33a33f",
   "metadata": {},
   "outputs": [],
   "source": [
    "## "
   ]
  },
  {
   "cell_type": "code",
   "execution_count": null,
   "id": "87d4840a-183d-4d83-8660-8cddd0a307f4",
   "metadata": {},
   "outputs": [],
   "source": [
    "data = drop_add_pk(data,address_table,'og_address','full_address')\n",
    "data.sample()"
   ]
  },
  {
   "cell_type": "code",
   "execution_count": null,
   "id": "bd975502-fd5b-4073-b819-1be8cc2847ee",
   "metadata": {},
   "outputs": [],
   "source": []
  },
  {
   "cell_type": "code",
   "execution_count": null,
   "id": "54c54e72-c59d-4dc7-b210-bf34769ab994",
   "metadata": {},
   "outputs": [],
   "source": []
  },
  {
   "cell_type": "markdown",
   "id": "704a01fb-b64b-4770-9827-5288c71621eb",
   "metadata": {},
   "source": [
    "# CREATE datetime_table"
   ]
  },
  {
   "cell_type": "code",
   "execution_count": null,
   "id": "dd28d964-a46d-40db-aa4e-eb8614a735ec",
   "metadata": {},
   "outputs": [],
   "source": [
    "dt_table = create_table_from_df(data,'date_time','date_time','date_time_pk')\n",
    "\n",
    "# inster time data records\n",
    "t = pd.to_datetime(dt_table['date_time'])\n",
    "\n",
    "time_data = (dt_table.date_time_pk,dt_table.date_time,t.dt.hour, t.dt.day, t.dt.week, t.dt.month, t.dt.year,t.dt.weekday)\n",
    "column_labels = ('date_time_pk','date_time', 'hour', 'day','week','month','year','weekday')\n",
    "date_time_table = pd.DataFrame.from_dict(dict(zip(column_labels, time_data)))\n",
    "date_time_table.head()"
   ]
  },
  {
   "cell_type": "code",
   "execution_count": null,
   "id": "f2114a30-9733-4935-84a2-ed1c61cd5feb",
   "metadata": {},
   "outputs": [],
   "source": [
    "data.sample()"
   ]
  },
  {
   "cell_type": "code",
   "execution_count": null,
   "id": "7f423bae-affc-4db5-957e-6a88628385dd",
   "metadata": {},
   "outputs": [],
   "source": [
    "data = data.merge(date_time_table, left_on='date_time', right_on='date_time', suffixes=(True,True))\n",
    "#data.drop(['date_time','hour','day','week','month','year','weekday'], axis=1,inplace=True)"
   ]
  },
  {
   "cell_type": "code",
   "execution_count": null,
   "id": "3900dbba-45ee-489d-83eb-302ca2bf9169",
   "metadata": {},
   "outputs": [],
   "source": [
    "data.head()"
   ]
  },
  {
   "cell_type": "code",
   "execution_count": null,
   "id": "2e34f9fc-82c9-4396-82ad-3950636e9dfe",
   "metadata": {},
   "outputs": [],
   "source": [
    "data.head()"
   ]
  },
  {
   "cell_type": "code",
   "execution_count": null,
   "id": "559a8f24-aab3-4c33-919e-fb9f8c8cb896",
   "metadata": {},
   "outputs": [],
   "source": []
  }
 ],
 "metadata": {
  "kernelspec": {
   "display_name": "Python 3",
   "language": "python",
   "name": "python3"
  },
  "language_info": {
   "codemirror_mode": {
    "name": "ipython",
    "version": 3
   },
   "file_extension": ".py",
   "mimetype": "text/x-python",
   "name": "python",
   "nbconvert_exporter": "python",
   "pygments_lexer": "ipython3",
   "version": "3.9.6"
  }
 },
 "nbformat": 4,
 "nbformat_minor": 5
}
