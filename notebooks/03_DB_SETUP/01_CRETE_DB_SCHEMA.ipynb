{
 "cells": [
  {
   "cell_type": "markdown",
   "id": "72cd53b4-80c2-488e-8f6e-82d26c1b8f89",
   "metadata": {},
   "source": [
    "\n",
    "# DATABASE SETUP\n",
    "# WROKING!!!!\n",
    "![](https://i.imgur.com/nnZkSj8.png)\n",
    "![](https://i.imgur.com/fSqozNf.png)\n"
   ]
  },
  {
   "cell_type": "markdown",
   "id": "360f2dac-a5e8-4890-a629-25fb8eccccc9",
   "metadata": {},
   "source": [
    "# Load dataset"
   ]
  },
  {
   "cell_type": "code",
   "execution_count": null,
   "id": "2d40efa9-e2d2-4eb1-b367-0aaf81e2a587",
   "metadata": {},
   "outputs": [],
   "source": [
    "%run ../../src/start.py"
   ]
  },
  {
   "cell_type": "code",
   "execution_count": null,
   "id": "6690d72b-187b-4a5a-b02e-a626ba83b537",
   "metadata": {},
   "outputs": [],
   "source": [
    "import os\n",
    "import glob\n",
    "import psycopg2\n",
    "import pandas as pd\n",
    "from sql_queries import *"
   ]
  },
  {
   "cell_type": "markdown",
   "id": "0880b184-4c37-47ef-99a1-5c2044407d50",
   "metadata": {},
   "source": [
    "# load data"
   ]
  },
  {
   "cell_type": "code",
   "execution_count": null,
   "id": "a14b4492-9937-4de6-8ab5-104b1b804c77",
   "metadata": {},
   "outputs": [],
   "source": [
    "# helper function\n",
    "def bucket_raw_path(bucket_name,path_dir):\n",
    "    ''''''\n",
    "    raw_path = f's3://{bucket_name}/{path_dir}'\n",
    "    return raw_path"
   ]
  },
  {
   "cell_type": "code",
   "execution_count": null,
   "id": "78703c2f-874a-4a97-9bef-96c7a6a45e42",
   "metadata": {},
   "outputs": [],
   "source": [
    "raw = bucket_raw_path('dend-data',f'capstone/load-data/')\n",
    "raw"
   ]
  },
  {
   "cell_type": "code",
   "execution_count": null,
   "id": "7b50896c-b47f-424f-a9bc-150c96e8a3db",
   "metadata": {},
   "outputs": [],
   "source": [
    "file = wr.s3.list_objects(raw)[0]\n",
    "file"
   ]
  },
  {
   "cell_type": "code",
   "execution_count": null,
   "id": "4a3af7b5-f6eb-425e-9409-d947024f1ea6",
   "metadata": {},
   "outputs": [],
   "source": [
    "df = wr.s3.read_csv(file)"
   ]
  },
  {
   "cell_type": "code",
   "execution_count": null,
   "id": "45985344-1e85-4ce1-a06d-b2a87533ae1c",
   "metadata": {},
   "outputs": [],
   "source": [
    "df.info()"
   ]
  },
  {
   "cell_type": "code",
   "execution_count": null,
   "id": "4b3a0b5d-e92d-455a-9cef-c0b3c8f2b08c",
   "metadata": {},
   "outputs": [],
   "source": [
    "df.head()"
   ]
  },
  {
   "cell_type": "markdown",
   "id": "758d75af-ac8e-45f9-92fb-c5e555f806fb",
   "metadata": {},
   "source": [
    "# TEST IMPORT"
   ]
  },
  {
   "cell_type": "code",
   "execution_count": null,
   "id": "1fa342f6-687f-4fcd-82eb-cfb87133061e",
   "metadata": {},
   "outputs": [],
   "source": []
  },
  {
   "cell_type": "markdown",
   "id": "99fe6da6-3bf0-4e54-898e-d98be8b97a8d",
   "metadata": {},
   "source": [
    "# Police Beat"
   ]
  },
  {
   "cell_type": "code",
   "execution_count": null,
   "id": "de6b4b86-039a-4ece-b462-69fd0d0b4e24",
   "metadata": {},
   "outputs": [],
   "source": []
  },
  {
   "cell_type": "markdown",
   "id": "32553f0f-37f1-4ef8-9666-0827696b7085",
   "metadata": {},
   "source": [
    "## insert record to policebeat table"
   ]
  },
  {
   "cell_type": "code",
   "execution_count": null,
   "id": "d57c91c1-d2e0-4748-be68-74d38da417d2",
   "metadata": {},
   "outputs": [],
   "source": []
  },
  {
   "cell_type": "code",
   "execution_count": null,
   "id": "2cfbf3ce-685e-44c4-8de0-d03563458363",
   "metadata": {},
   "outputs": [],
   "source": []
  },
  {
   "cell_type": "markdown",
   "id": "c4168d70-9660-4419-96d1-33ed26fa62dc",
   "metadata": {},
   "source": [
    "# Load all police beats"
   ]
  },
  {
   "cell_type": "code",
   "execution_count": null,
   "id": "8e4b9339-572f-43df-9262-e16930eb16d0",
   "metadata": {},
   "outputs": [],
   "source": [
    "df.head()"
   ]
  },
  {
   "cell_type": "code",
   "execution_count": null,
   "id": "5c4aa58f-7720-4e81-8709-62dde4ebd54f",
   "metadata": {},
   "outputs": [],
   "source": []
  },
  {
   "cell_type": "markdown",
   "id": "bea52a80-7bed-4710-a31b-0fbe50184eab",
   "metadata": {},
   "source": [
    "## OFFENSE_TABLE"
   ]
  },
  {
   "cell_type": "code",
   "execution_count": null,
   "id": "abcfc6f5-7b54-42e5-97b3-e5f87f8f4897",
   "metadata": {},
   "outputs": [],
   "source": [
    "offense_list = df.offense_type.unique().tolist()\n",
    "offense_list"
   ]
  },
  {
   "cell_type": "code",
   "execution_count": null,
   "id": "216a6dc1-959b-4893-9d25-33dca2543872",
   "metadata": {},
   "outputs": [],
   "source": [
    "df_offense = pd.DataFrame(offense_list,columns=['offense_name'])\n",
    "df_offense"
   ]
  },
  {
   "cell_type": "code",
   "execution_count": null,
   "id": "7e71c0a2-91d0-471f-a0ce-363ea3dc0d62",
   "metadata": {},
   "outputs": [],
   "source": [
    "df_offense = df_offense.reset_index()\n",
    "df_offense.rename(columns={'index': 'offense_pk'}, inplace=True)\n",
    "df_offense.offense_pk = df_offense.offense_pk +1\n",
    "df_offense"
   ]
  },
  {
   "cell_type": "code",
   "execution_count": null,
   "id": "4bd60289-246b-416f-a018-9e13dbd9d99c",
   "metadata": {},
   "outputs": [],
   "source": []
  },
  {
   "cell_type": "markdown",
   "id": "33b44bcd-7058-4de9-9f01-af8610e8243d",
   "metadata": {},
   "source": [
    "## BEAT_TABLE"
   ]
  },
  {
   "cell_type": "code",
   "execution_count": null,
   "id": "4fe7e4ac-9cda-41f9-ac2e-b7b237a9e692",
   "metadata": {},
   "outputs": [],
   "source": []
  },
  {
   "cell_type": "code",
   "execution_count": null,
   "id": "802eae25-f498-40ca-82af-7e9d4164ceba",
   "metadata": {},
   "outputs": [],
   "source": [
    "beat_list = df.beat.unique().tolist()\n",
    "df_beat = pd.DataFrame(beat_list,columns=['beat_name'])\n",
    "\n",
    "df_beat = df_beat.reset_index()\n",
    "df_beat.rename(columns={'index': 'beat_pk'}, inplace=True)\n",
    "df_beat.beat_pk = df_beat.beat_pk +1\n",
    "df_beat.info()"
   ]
  },
  {
   "cell_type": "code",
   "execution_count": null,
   "id": "2fbb33ec-92f9-483b-87e8-1de10355842b",
   "metadata": {},
   "outputs": [],
   "source": [
    "df_beat.head()"
   ]
  },
  {
   "cell_type": "code",
   "execution_count": null,
   "id": "4b2b2df0-9d99-441c-9c17-f5caf3447752",
   "metadata": {},
   "outputs": [],
   "source": [
    "df.head()"
   ]
  },
  {
   "cell_type": "markdown",
   "id": "b5a4d3de-71fa-4954-a35f-810a48b4f18a",
   "metadata": {},
   "source": [
    "## PREMISE_DESCRIPTION_TABLE"
   ]
  },
  {
   "cell_type": "code",
   "execution_count": null,
   "id": "17e0f129-9b9a-4469-8df0-2564176e17dd",
   "metadata": {},
   "outputs": [],
   "source": [
    "premise_list = df.premise_description.unique().tolist()\n",
    "df_premise = pd.DataFrame(premise_list,columns=['premise_name'])\n",
    "\n",
    "df_premise = df_premise.reset_index()\n",
    "df_premise.rename(columns={'index': 'premise_pk'}, inplace=True)\n",
    "df_premise.premise_pk = df_premise.premise_pk +1\n",
    "df_premise.info()"
   ]
  },
  {
   "cell_type": "code",
   "execution_count": null,
   "id": "16702944-241b-4c57-a3ed-6b3fd8106ae2",
   "metadata": {},
   "outputs": [],
   "source": [
    "df_premise.head()"
   ]
  },
  {
   "cell_type": "code",
   "execution_count": null,
   "id": "b4d15464-09db-4d96-acbd-771e566b2334",
   "metadata": {},
   "outputs": [],
   "source": [
    "df_premise.head()"
   ]
  },
  {
   "cell_type": "markdown",
   "id": "e205e828-73ac-4ebe-9713-72a9b5dce669",
   "metadata": {},
   "source": [
    "## Address_TABLE"
   ]
  },
  {
   "cell_type": "code",
   "execution_count": null,
   "id": "45f4ef2e-e41b-4b48-86dc-625f4ef1f2a2",
   "metadata": {},
   "outputs": [],
   "source": [
    "df.head()"
   ]
  },
  {
   "cell_type": "code",
   "execution_count": null,
   "id": "caf88382-00a6-4ef7-b968-3a151c261b09",
   "metadata": {},
   "outputs": [],
   "source": []
  },
  {
   "cell_type": "code",
   "execution_count": null,
   "id": "bf292d5c-4b73-4623-88fd-4c3a0ad998be",
   "metadata": {},
   "outputs": [],
   "source": []
  },
  {
   "cell_type": "code",
   "execution_count": null,
   "id": "0c0d2aeb-5b02-489f-85d3-718b895fb70b",
   "metadata": {},
   "outputs": [],
   "source": [
    "df.block_range.unique()"
   ]
  },
  {
   "cell_type": "code",
   "execution_count": null,
   "id": "484085be-ceb1-4faa-8691-a748461c2863",
   "metadata": {},
   "outputs": [],
   "source": [
    "df.block_range = df.block_range.str.strip()"
   ]
  },
  {
   "cell_type": "code",
   "execution_count": null,
   "id": "612c8f96-59f1-40cc-9c0f-d78e3b71e8e7",
   "metadata": {},
   "outputs": [],
   "source": [
    "df.block_range.replace('UNK','10-100',inplace=True)\n",
    "df.block_range.replace('1.1103e+006-1.1104e+006','10-100',inplace=True)"
   ]
  },
  {
   "cell_type": "code",
   "execution_count": null,
   "id": "2ba6d629-52ee-4321-a5fc-531a1412478e",
   "metadata": {},
   "outputs": [],
   "source": [
    "df.block_range.unique()"
   ]
  },
  {
   "cell_type": "code",
   "execution_count": null,
   "id": "dba05364-4cb1-4f2a-8475-a980151e8215",
   "metadata": {},
   "outputs": [],
   "source": []
  },
  {
   "cell_type": "code",
   "execution_count": null,
   "id": "36bd3862-0c9b-4853-82d3-69ab64140a4a",
   "metadata": {},
   "outputs": [],
   "source": []
  },
  {
   "cell_type": "code",
   "execution_count": null,
   "id": "5fcee5f9-4e4d-496d-93a7-f81f137c0a18",
   "metadata": {},
   "outputs": [],
   "source": []
  },
  {
   "cell_type": "code",
   "execution_count": null,
   "id": "fe5830c0-821d-43de-ba09-09bf3516f778",
   "metadata": {},
   "outputs": [],
   "source": []
  },
  {
   "cell_type": "code",
   "execution_count": null,
   "id": "eb8af985-5d70-4f78-9175-34a67cdf641b",
   "metadata": {},
   "outputs": [],
   "source": []
  },
  {
   "cell_type": "code",
   "execution_count": null,
   "id": "f9c0c560-195c-473e-bcb2-21d7b44d3365",
   "metadata": {},
   "outputs": [],
   "source": [
    "def block_range_split(df):\n",
    "    '''split blockrange col values\n",
    "    then give median value as a string'''\n",
    "    first = df.block_range.str.split(pat='-',expand=True)[0].astype('int')\n",
    "    second = df.block_range.str.split(pat='-',expand=True)[1].astype('int')\n",
    "    med = np.ceil((second + first)/2).astype('int')\n",
    "    med = med.astype('str')\n",
    "    street = df.street_name\n",
    "    res = med + \" \" + street\n",
    "    return res"
   ]
  },
  {
   "cell_type": "code",
   "execution_count": null,
   "id": "07c775d0-b6c0-4641-aef5-71d3d94337e7",
   "metadata": {},
   "outputs": [],
   "source": [
    "df['full_address'] = block_range_split(df)"
   ]
  },
  {
   "cell_type": "code",
   "execution_count": null,
   "id": "423e1c29-928a-4678-afe1-2a13bd317369",
   "metadata": {},
   "outputs": [],
   "source": [
    "df.head()"
   ]
  },
  {
   "cell_type": "code",
   "execution_count": null,
   "id": "8c86c406-717f-42e6-9027-0bacbe1a0231",
   "metadata": {},
   "outputs": [],
   "source": []
  },
  {
   "cell_type": "markdown",
   "id": "9d86149b-6d9e-467a-9874-aa3d86ab8a75",
   "metadata": {},
   "source": [
    "## FULL ADDRESS"
   ]
  },
  {
   "cell_type": "code",
   "execution_count": null,
   "id": "99247ab9-676f-4bb2-bd13-4dcc5dfc397c",
   "metadata": {},
   "outputs": [],
   "source": []
  },
  {
   "cell_type": "code",
   "execution_count": null,
   "id": "7e604cc8-ac6d-4dbf-b8ad-6aeb61f5a390",
   "metadata": {},
   "outputs": [],
   "source": [
    "add_list = df.full_address.unique().tolist()\n",
    "df_address = pd.DataFrame(add_list,columns=['full_address'])\n",
    "\n",
    "df_address = df_address.reset_index()\n",
    "df_address.rename(columns={'index': 'address_pk'}, inplace=True)\n",
    "df_address.address_pk = df_address.address_pk +1\n",
    "df_address.info()"
   ]
  },
  {
   "cell_type": "code",
   "execution_count": null,
   "id": "5e7fdf16-d981-4fbc-9ae3-fa0339cf8dfd",
   "metadata": {},
   "outputs": [],
   "source": [
    "df_address.head()"
   ]
  },
  {
   "cell_type": "markdown",
   "id": "3347d494-a2ec-4b01-816e-94857da2e23d",
   "metadata": {},
   "source": [
    "# DATE_TIME_TABLE"
   ]
  },
  {
   "cell_type": "code",
   "execution_count": null,
   "id": "188a5eef-ef02-45a5-a8e5-a856e65ef476",
   "metadata": {},
   "outputs": [],
   "source": [
    "df.head()"
   ]
  },
  {
   "cell_type": "code",
   "execution_count": null,
   "id": "7a7f7986-a413-4c4d-aa98-264ec82fe760",
   "metadata": {},
   "outputs": [],
   "source": []
  },
  {
   "cell_type": "code",
   "execution_count": null,
   "id": "9debd735-cb85-40b1-a91f-efff43dc9493",
   "metadata": {},
   "outputs": [],
   "source": [
    "time_list = df.date_time.unique().tolist()\n",
    "\n",
    "df_time = pd.DataFrame(time_list,columns=['date_time'])\n",
    "\n",
    "\n",
    "df_time = df_time.reset_index()\n",
    "df_time.rename(columns={'index': 'date_time_pk'}, inplace=True)\n",
    "df_time.date_time_pk = df_time.date_time_pk +1\n",
    "df_time.info()"
   ]
  },
  {
   "cell_type": "code",
   "execution_count": null,
   "id": "2cca1910-7d1c-4a9b-8400-10c7247d206b",
   "metadata": {},
   "outputs": [],
   "source": [
    "df_time.head()"
   ]
  },
  {
   "cell_type": "code",
   "execution_count": null,
   "id": "2c0f77b3-9944-4b8e-bdea-a02f16cfbb37",
   "metadata": {},
   "outputs": [],
   "source": [
    "# convert timestamp column to datetime\n",
    "t = pd.to_datetime(df_time['date_time'])\n",
    "# insert time data records\n",
    "time_data = (df_time.date_time_pk,df_time.date_time,t.dt.hour, t.dt.day, t.dt.week, t.dt.month, t.dt.year,t.dt.weekday)\n",
    "column_labels = ('date_time_pk','date_time', 'hour', 'day','week','month','year','weekday')\n",
    "date_time_df = pd.DataFrame.from_dict(dict(zip(column_labels, time_data)))\n",
    "date_time_df.head()"
   ]
  },
  {
   "cell_type": "code",
   "execution_count": null,
   "id": "147b53e5-a5a4-45a3-ade2-d11770b6ea57",
   "metadata": {},
   "outputs": [],
   "source": [
    "date_time_df.info()"
   ]
  },
  {
   "cell_type": "code",
   "execution_count": null,
   "id": "9a8426e6-60a2-4888-9324-610401e34421",
   "metadata": {},
   "outputs": [],
   "source": []
  },
  {
   "cell_type": "markdown",
   "id": "ff2d085f-db39-4564-9763-eab5c9529dde",
   "metadata": {},
   "source": [
    "# Crime_Fact_Table"
   ]
  },
  {
   "cell_type": "code",
   "execution_count": null,
   "id": "ff02225a-d166-41c5-89cc-274e48490f0c",
   "metadata": {},
   "outputs": [],
   "source": [
    "df.head()"
   ]
  },
  {
   "cell_type": "code",
   "execution_count": null,
   "id": "90f1b83d-0498-4b9c-b533-8e3f9bec6837",
   "metadata": {},
   "outputs": [],
   "source": [
    "df = df[['date_time',\n",
    " 'offenses',\n",
    " 'offense_type',\n",
    " 'beat',\n",
    " 'premise_description',\n",
    " 'temp',\n",
    " 'feels_like',\n",
    " 'humidity_per',\n",
    " 'rain_vol_1h_mm',\n",
    " 'snow_vol_1h_mm',\n",
    " 'full_address']]"
   ]
  },
  {
   "cell_type": "code",
   "execution_count": null,
   "id": "b47a3647-b22b-4f27-bfb6-27a3fc0fb45c",
   "metadata": {},
   "outputs": [],
   "source": [
    "df.columns.tolist()"
   ]
  },
  {
   "cell_type": "code",
   "execution_count": null,
   "id": "76169c37-51df-4831-a412-a323dca3c152",
   "metadata": {},
   "outputs": [],
   "source": []
  },
  {
   "cell_type": "code",
   "execution_count": null,
   "id": "d26bde9f-1443-4bf0-b40c-ed214d18f676",
   "metadata": {},
   "outputs": [],
   "source": [
    "crime_fact = df.copy()\n",
    "crime_fact.head()"
   ]
  },
  {
   "cell_type": "code",
   "execution_count": null,
   "id": "b4a94279-55f5-43c9-a202-3c4d45e6584f",
   "metadata": {},
   "outputs": [],
   "source": [
    "crime_fact.head()"
   ]
  },
  {
   "cell_type": "markdown",
   "id": "70ee653b-7e5a-4b30-8584-e39e74d8e043",
   "metadata": {},
   "source": [
    "# PREMISE_SPLIT"
   ]
  },
  {
   "cell_type": "code",
   "execution_count": null,
   "id": "541041b2-b4f9-4174-8591-2c012538e5f9",
   "metadata": {},
   "outputs": [],
   "source": [
    "crime_fact = crime_fact.merge(df_premise, left_on='premise_description', right_on='premise_name', suffixes=(True,True))\n",
    "crime_fact.drop(['premise_description', 'premise_name'], axis=1,inplace=True)"
   ]
  },
  {
   "cell_type": "code",
   "execution_count": null,
   "id": "fedb8b0d-7ca4-416a-8fd9-f287f9ab352d",
   "metadata": {},
   "outputs": [],
   "source": [
    "crime_fact.head()"
   ]
  },
  {
   "cell_type": "markdown",
   "id": "ffa795af-cfd9-41e2-9bc5-20cb78579505",
   "metadata": {},
   "source": [
    "# ADDRESS_SPLIT"
   ]
  },
  {
   "cell_type": "code",
   "execution_count": null,
   "id": "f496276d-f05b-433b-b39a-ee5818b00b1a",
   "metadata": {},
   "outputs": [],
   "source": [
    "crime_fact = crime_fact.merge(df_address, left_on='full_address', right_on='full_address', suffixes=(True,True))\n",
    "crime_fact.drop(['full_address'], axis=1,inplace=True)"
   ]
  },
  {
   "cell_type": "code",
   "execution_count": null,
   "id": "faf900fe-5c0a-4e6e-9d55-750161352d66",
   "metadata": {},
   "outputs": [],
   "source": [
    "crime_fact.head()"
   ]
  },
  {
   "cell_type": "markdown",
   "id": "3e05970e-867a-4e82-9692-e3a9e29c75b2",
   "metadata": {},
   "source": [
    "# BEAT SPLIT"
   ]
  },
  {
   "cell_type": "code",
   "execution_count": null,
   "id": "7fb2e8c5-d016-4383-869e-c5c253fbcd4c",
   "metadata": {},
   "outputs": [],
   "source": [
    "crime_fact =crime_fact.merge(df_beat, left_on='beat', right_on='beat_name', suffixes=(True,True))\n",
    "crime_fact.drop(['beat_name','beat'], axis=1,inplace=True)"
   ]
  },
  {
   "cell_type": "code",
   "execution_count": null,
   "id": "49f98b1c-43e0-4b01-a5e8-e495647c2bfd",
   "metadata": {},
   "outputs": [],
   "source": [
    "crime_fact.head()"
   ]
  },
  {
   "cell_type": "markdown",
   "id": "34230829-87e9-4def-a550-17f3682c786c",
   "metadata": {},
   "source": [
    "# OFFENSE_SPLIT"
   ]
  },
  {
   "cell_type": "code",
   "execution_count": null,
   "id": "e67d21ba-2102-4fa3-8491-c19d818a2caf",
   "metadata": {},
   "outputs": [],
   "source": [
    "crime_fact = crime_fact.merge(df_offense, left_on='offense_type', right_on='offense_name', suffixes=(True,True))\n",
    "crime_fact.drop(['offense_type','offense_name'], axis=1,inplace=True)"
   ]
  },
  {
   "cell_type": "code",
   "execution_count": null,
   "id": "277c876b-82b9-4d69-ba49-b928d69ce43a",
   "metadata": {},
   "outputs": [],
   "source": [
    "crime_fact.head()"
   ]
  },
  {
   "cell_type": "markdown",
   "id": "3a031a1c-40ca-4fa5-a1ad-7757a68950cc",
   "metadata": {},
   "source": [
    "# TIME SPLIT"
   ]
  },
  {
   "cell_type": "code",
   "execution_count": null,
   "id": "56d05e47-909e-4765-af8a-59d7ff89d11c",
   "metadata": {},
   "outputs": [],
   "source": [
    "crime_fact.head()"
   ]
  },
  {
   "cell_type": "code",
   "execution_count": null,
   "id": "bc666af3-4218-472b-91d8-5e93e909e33a",
   "metadata": {},
   "outputs": [],
   "source": [
    "crime_fact = crime_fact.merge(date_time_df, left_on='date_time', right_on='date_time', suffixes=(True,True))\n",
    "crime_fact.drop(['date_time','hour','day','week','month','year','weekday'], axis=1,inplace=True)"
   ]
  },
  {
   "cell_type": "code",
   "execution_count": null,
   "id": "d8732d8d-4e60-4ab8-a85a-995d461dd367",
   "metadata": {},
   "outputs": [],
   "source": [
    "crime_fact.head()"
   ]
  },
  {
   "cell_type": "code",
   "execution_count": null,
   "id": "5615ef11-4037-4f73-bdab-730cf5023b68",
   "metadata": {},
   "outputs": [],
   "source": [
    "crime_fact.head()"
   ]
  },
  {
   "cell_type": "code",
   "execution_count": null,
   "id": "81f14b26-1ebd-444e-b8bc-ff34f03401eb",
   "metadata": {},
   "outputs": [],
   "source": [
    "crime_fact.rename(columns={'offenses': 'numoffenses', 'rain_vol_1h_mm': 'rain','snow_vol_1h_mm':'snow','humidity_per':'humidity'}, inplace=True)"
   ]
  },
  {
   "cell_type": "code",
   "execution_count": null,
   "id": "e8d98d1a-82d9-4b7f-adbb-79ca84c23bc3",
   "metadata": {},
   "outputs": [],
   "source": [
    "crime_fact.head()"
   ]
  },
  {
   "cell_type": "code",
   "execution_count": null,
   "id": "7f30cb57-959f-4c52-863f-7ff24ba3fa92",
   "metadata": {},
   "outputs": [],
   "source": []
  },
  {
   "cell_type": "code",
   "execution_count": null,
   "id": "2148ac0f-80aa-4de6-927b-5227ac393464",
   "metadata": {},
   "outputs": [],
   "source": []
  },
  {
   "cell_type": "code",
   "execution_count": null,
   "id": "5815975c-7f3a-479e-87aa-b19d62db8cec",
   "metadata": {},
   "outputs": [],
   "source": [
    "crime_fact = crime_fact.reset_index()\n",
    "crime_fact.rename(columns={'index': 'pk'}, inplace=True)\n",
    "crime_fact.pk = crime_fact.pk +1\n",
    "crime_fact.info()"
   ]
  },
  {
   "cell_type": "code",
   "execution_count": null,
   "id": "bdff02a5-d33a-4e9d-b027-2c690d306b64",
   "metadata": {},
   "outputs": [],
   "source": [
    "crime_fact.head()"
   ]
  },
  {
   "cell_type": "code",
   "execution_count": null,
   "id": "ce85a495-272f-4a82-ae73-107f6618e487",
   "metadata": {},
   "outputs": [],
   "source": [
    "crime_fact.columns.tolist()"
   ]
  },
  {
   "cell_type": "code",
   "execution_count": null,
   "id": "f9fc12b5-2ff2-4131-a115-c768190a9590",
   "metadata": {},
   "outputs": [],
   "source": [
    "crime_fact = crime_fact[[ 'pk', 'numoffenses','temp', 'humidity', 'feels_like',\n",
    " 'rain',\n",
    " 'snow',\n",
    "'date_time_pk',\n",
    " 'address_pk',\n",
    " 'premise_pk',\n",
    "'offense_pk',\n",
    " 'beat_pk']]"
   ]
  },
  {
   "cell_type": "code",
   "execution_count": null,
   "id": "6e8d0c67-da79-42b5-b882-403338476fc8",
   "metadata": {},
   "outputs": [],
   "source": [
    "crime_fact.head()"
   ]
  },
  {
   "cell_type": "markdown",
   "id": "a9a8467c-684f-4aa9-9010-3a5449a163a8",
   "metadata": {},
   "source": [
    "# UPLOAD DTA"
   ]
  },
  {
   "cell_type": "code",
   "execution_count": null,
   "id": "3076a96e-d415-4de7-a48a-f7bb30d08998",
   "metadata": {},
   "outputs": [],
   "source": [
    "# load secret keys\n",
    "db_host = os.environ.get('DB_HOST')\n",
    "db_name = os.environ.get('DB_NAME')\n",
    "db_user = os.environ.get('DB_USER')\n",
    "db_pass = os.environ.get('DB_PASS')\n",
    "db_port = os.environ.get('DB_PORT')\n",
    "\n",
    "\n",
    "conn = psycopg2.connect(database=db_name,\n",
    "user=db_user,\n",
    "password=db_pass,\n",
    "host=db_host,\n",
    "port=db_port)\n",
    "conn.set_session(autocommit=True)\n",
    "cur = conn.cursor()\n"
   ]
  },
  {
   "cell_type": "code",
   "execution_count": null,
   "id": "cd1667a4-1eb4-4fd4-80f2-b23c2e79bd6a",
   "metadata": {},
   "outputs": [],
   "source": [
    "df_premise.head()"
   ]
  },
  {
   "cell_type": "code",
   "execution_count": null,
   "id": "f0f26a02-2098-444e-8318-d1d5afaf0efd",
   "metadata": {},
   "outputs": [],
   "source": []
  },
  {
   "cell_type": "markdown",
   "id": "6f064698-92b7-42dd-aea1-efeba170e21e",
   "metadata": {},
   "source": [
    "# premise upload"
   ]
  },
  {
   "cell_type": "code",
   "execution_count": null,
   "id": "6eadefb7-04a5-4077-b2d7-514238927aae",
   "metadata": {},
   "outputs": [],
   "source": [
    "for i in df_premise.values.tolist():\n",
    "    cur.execute(premise_table_insert, i)\n",
    "    conn.commit()"
   ]
  },
  {
   "cell_type": "markdown",
   "id": "1117dd07-132b-4836-8a95-9b5fcfb4462d",
   "metadata": {},
   "source": [
    "# Address upload"
   ]
  },
  {
   "cell_type": "code",
   "execution_count": null,
   "id": "72167aee-a14a-403a-92bb-17833fea52d4",
   "metadata": {},
   "outputs": [],
   "source": [
    "df_address.head()"
   ]
  },
  {
   "cell_type": "code",
   "execution_count": null,
   "id": "57350813-cb72-4440-887d-06db6b930f88",
   "metadata": {},
   "outputs": [],
   "source": [
    "for i in df_address.values.tolist():\n",
    "    cur.execute(address_table_insert, i)\n",
    "    conn.commit()"
   ]
  },
  {
   "cell_type": "code",
   "execution_count": null,
   "id": "772e4b75-3e23-4c17-9b7b-313236941942",
   "metadata": {},
   "outputs": [],
   "source": [
    "\n"
   ]
  },
  {
   "cell_type": "markdown",
   "id": "17b3cda1-3432-4ccc-96c7-d9dbcc96696b",
   "metadata": {},
   "source": [
    "# df_beat"
   ]
  },
  {
   "cell_type": "code",
   "execution_count": null,
   "id": "f00be4da-a799-4bdd-88f7-62ae9311ec3c",
   "metadata": {},
   "outputs": [],
   "source": [
    "df_beat.head()"
   ]
  },
  {
   "cell_type": "code",
   "execution_count": null,
   "id": "76f3756b-8f46-4b4c-9c10-6e67fcbb9b41",
   "metadata": {},
   "outputs": [],
   "source": [
    "for i in df_beat.values.tolist():\n",
    "    cur.execute(police_beat_table_insert, i)\n",
    "    conn.commit()"
   ]
  },
  {
   "cell_type": "markdown",
   "id": "d2559b4a-0b4f-4a4d-966a-3a6cdb9ce832",
   "metadata": {},
   "source": [
    "# df_offense load"
   ]
  },
  {
   "cell_type": "code",
   "execution_count": null,
   "id": "191cc6ce-a562-4245-a795-8bd585942f5b",
   "metadata": {},
   "outputs": [],
   "source": [
    "df_offense"
   ]
  },
  {
   "cell_type": "code",
   "execution_count": null,
   "id": "65eae063-fb5b-4a54-83f5-3d43ca631a42",
   "metadata": {},
   "outputs": [],
   "source": [
    "for i in df_offense.values.tolist():\n",
    "    cur.execute(offense_table_insert, i)\n",
    "    conn.commit()"
   ]
  },
  {
   "cell_type": "markdown",
   "id": "88f6f5ec-b9c6-4f17-aaf6-6322797c98db",
   "metadata": {},
   "source": [
    "## date_time_df"
   ]
  },
  {
   "cell_type": "code",
   "execution_count": null,
   "id": "1d938da0-0953-4caa-857a-b8a279f7f655",
   "metadata": {},
   "outputs": [],
   "source": [
    "date_time_df.head()"
   ]
  },
  {
   "cell_type": "code",
   "execution_count": null,
   "id": "a648b1bc-a8c8-4bbc-83a8-3deb9d25155c",
   "metadata": {},
   "outputs": [],
   "source": [
    "for i in date_time_df.values.tolist():\n",
    "    cur.execute(datetime_table_insert, i)\n",
    "    conn.commit()"
   ]
  },
  {
   "cell_type": "code",
   "execution_count": null,
   "id": "25e59622-557a-4389-a854-40834e11b7d1",
   "metadata": {},
   "outputs": [],
   "source": [
    "datetime_table_insert"
   ]
  },
  {
   "cell_type": "code",
   "execution_count": null,
   "id": "9eacdea1-61b3-4849-bbed-c2dd871f801a",
   "metadata": {},
   "outputs": [],
   "source": []
  },
  {
   "cell_type": "markdown",
   "id": "e52b61b5-b069-4998-ac27-35ec179aae27",
   "metadata": {},
   "source": [
    "# crime fact upload"
   ]
  },
  {
   "cell_type": "code",
   "execution_count": null,
   "id": "c0a6d500-5e11-4269-b40d-68bc51b7ae25",
   "metadata": {},
   "outputs": [],
   "source": [
    "crime_fact.head()"
   ]
  },
  {
   "cell_type": "code",
   "execution_count": null,
   "id": "436c8aff-cf3e-47a4-b069-6e1bd14bc015",
   "metadata": {},
   "outputs": [],
   "source": [
    "for i in crime_fact.values.tolist():\n",
    "    cur.execute(crime_fact_table_insert, i)\n",
    "    conn.commit()"
   ]
  },
  {
   "cell_type": "code",
   "execution_count": null,
   "id": "c1ddb45a-3adf-4650-9b48-96d74fb417e0",
   "metadata": {},
   "outputs": [],
   "source": []
  },
  {
   "cell_type": "code",
   "execution_count": null,
   "id": "62bd4486-229b-46bf-96e8-a68601108958",
   "metadata": {},
   "outputs": [],
   "source": []
  }
 ],
 "metadata": {
  "kernelspec": {
   "display_name": "Python 3",
   "language": "python",
   "name": "python3"
  },
  "language_info": {
   "codemirror_mode": {
    "name": "ipython",
    "version": 3
   },
   "file_extension": ".py",
   "mimetype": "text/x-python",
   "name": "python",
   "nbconvert_exporter": "python",
   "pygments_lexer": "ipython3",
   "version": "3.9.6"
  }
 },
 "nbformat": 4,
 "nbformat_minor": 5
}
