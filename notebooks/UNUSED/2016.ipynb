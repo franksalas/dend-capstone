{
 "cells": [
  {
   "cell_type": "code",
   "execution_count": 1,
   "metadata": {},
   "outputs": [
    {
     "data": {
      "text/html": [
       "        <script type=\"text/javascript\">\n",
       "        window.PlotlyConfig = {MathJaxConfig: 'local'};\n",
       "        if (window.MathJax) {MathJax.Hub.Config({SVG: {font: \"STIX-Web\"}});}\n",
       "        if (typeof require !== 'undefined') {\n",
       "        require.undef(\"plotly\");\n",
       "        requirejs.config({\n",
       "            paths: {\n",
       "                'plotly': ['https://cdn.plot.ly/plotly-latest.min']\n",
       "            }\n",
       "        });\n",
       "        require(['plotly'], function(Plotly) {\n",
       "            window._Plotly = Plotly;\n",
       "        });\n",
       "        }\n",
       "        </script>\n",
       "        "
      ]
     },
     "metadata": {},
     "output_type": "display_data"
    },
    {
     "name": "stdout",
     "output_type": "stream",
     "text": [
      "\n",
      "python\t3.8.5 (default, Sep  4 2020, 07:30:14) \n",
      "[GCC 7.3.0]\n",
      "---------------------\n",
      "Versions:\n",
      "----------------------\n",
      "pandas      1.1.2\n",
      "numpy       1.19.1\n",
      "matplotlib  3.3.1\n",
      "seaborn     0.11.0\n",
      "plotly      4.11.0\n",
      "----------------------\n",
      "\n",
      "\n",
      "Loaded Libraries\n",
      "-------------------\n",
      "import pandas as pd\n",
      "import numpy as np\n",
      "import sys,os\n",
      "import re\n",
      "import glob\n",
      "import pickle\n",
      "import seaborn as sns\n",
      "import matplotlib.pyplot as plt\n",
      "import plotly\n",
      "import plotly.graph_objs as go\n",
      "from plotly.offline import download_plotlyjs, init_notebook_mode, plot, iplot\n",
      "init_notebook_mode(connected=True)\n",
      "----------------\n",
      "\n",
      "\n",
      "GLOBAL VARIABLES\n",
      "--------------------------\n",
      "HERE_DIR: list current directory path\n",
      "RAW_DIR: list files in `data\\raw` directory\n",
      "INTER_DIR: list files in `data\\interim` directory\n",
      "FINAL_DIR: list files in `data\\final` directory\n",
      "SRC_DIR: list files in `src\\` directory\n",
      "------------------------------\n",
      "\n",
      "# SAVE PLOTS\n",
      "To save a plot call\n",
      "`save_plots(fig_variable,'name_of_plot')`\n",
      "\n",
      "source file: src/start.py\n",
      "\n",
      "\n"
     ]
    }
   ],
   "source": [
    "%run ../src/start.py"
   ]
  },
  {
   "cell_type": "code",
   "execution_count": 2,
   "metadata": {},
   "outputs": [
    {
     "name": "stdout",
     "output_type": "stream",
     "text": [
      "\u001b[0m\u001b[01;32mapr16.xlsx\u001b[0m*  \u001b[01;32mdec16.xlsx\u001b[0m*  \u001b[01;32mjan16.xlsx\u001b[0m*  \u001b[01;32mjun16.xlsx\u001b[0m*  \u001b[01;32mmay16.xlsx\u001b[0m*  \u001b[01;32moct16.xlsx\u001b[0m*\r\n",
      "\u001b[01;32maug16.xlsx\u001b[0m*  \u001b[01;32mfeb16.xlsx\u001b[0m*  \u001b[01;32mjul16.xlsx\u001b[0m*  \u001b[01;32mmar16.xlsx\u001b[0m*  \u001b[01;32mnov16.xlsx\u001b[0m*  \u001b[01;32msep16.xlsx\u001b[0m*\r\n"
     ]
    }
   ],
   "source": [
    "ls ../data/raw/crime_data/2016/csv"
   ]
  },
  {
   "cell_type": "code",
   "execution_count": null,
   "metadata": {},
   "outputs": [],
   "source": []
  },
  {
   "cell_type": "code",
   "execution_count": 3,
   "metadata": {},
   "outputs": [],
   "source": [
    "path = '2016/csv'\n",
    "raw_directory = os.path.join('..','data','raw','crime_data',f'{path}/')"
   ]
  },
  {
   "cell_type": "code",
   "execution_count": 4,
   "metadata": {},
   "outputs": [],
   "source": [
    "all_files = glob.glob(os.path.join(raw_directory, \"*.xlsx\")) # change \"*.xlsx\" for excel files\n",
    "df_from_each_file = (pd.read_excel(f, engine='openpyxl') for f in all_files)    # change to `pd.read_excel(f)` for excel files\n",
    "df   = pd.concat(df_from_each_file, ignore_index=True)     # combine into one large dataframe\n",
    "\n",
    "# cleanup columns\n",
    "df.columns = df.columns.str.lower().str.replace(' ','_').str.replace('\\n','_').str.strip()\n",
    "# df.columns = df.columns.str.strip().str.lower().str.replace('-', '_').str.replace(' ', '_').str.replace('(', '').str.replace(')', '')"
   ]
  },
  {
   "cell_type": "code",
   "execution_count": 5,
   "metadata": {},
   "outputs": [
    {
     "data": {
      "text/html": [
       "<div>\n",
       "<style scoped>\n",
       "    .dataframe tbody tr th:only-of-type {\n",
       "        vertical-align: middle;\n",
       "    }\n",
       "\n",
       "    .dataframe tbody tr th {\n",
       "        vertical-align: top;\n",
       "    }\n",
       "\n",
       "    .dataframe thead th {\n",
       "        text-align: right;\n",
       "    }\n",
       "</style>\n",
       "<table border=\"1\" class=\"dataframe\">\n",
       "  <thead>\n",
       "    <tr style=\"text-align: right;\">\n",
       "      <th></th>\n",
       "      <th>date</th>\n",
       "      <th>hour</th>\n",
       "      <th>offense_type</th>\n",
       "      <th>beat</th>\n",
       "      <th>premise</th>\n",
       "      <th>blockrange</th>\n",
       "      <th>streetname</th>\n",
       "      <th>type</th>\n",
       "      <th>suffix</th>\n",
       "      <th>._offenses</th>\n",
       "    </tr>\n",
       "  </thead>\n",
       "  <tbody>\n",
       "    <tr>\n",
       "      <th>0</th>\n",
       "      <td>2016-04-10</td>\n",
       "      <td>20</td>\n",
       "      <td>Robbery</td>\n",
       "      <td>10H10</td>\n",
       "      <td>Road, Street, or Sidewalk</td>\n",
       "      <td>4000-4099</td>\n",
       "      <td>MILBY</td>\n",
       "      <td>-</td>\n",
       "      <td>-</td>\n",
       "      <td>1</td>\n",
       "    </tr>\n",
       "    <tr>\n",
       "      <th>1</th>\n",
       "      <td>2016-04-11</td>\n",
       "      <td>19</td>\n",
       "      <td>Aggravated Assault</td>\n",
       "      <td>10H10</td>\n",
       "      <td>Road, Street, or Sidewalk</td>\n",
       "      <td>400-499</td>\n",
       "      <td>YORK</td>\n",
       "      <td>-</td>\n",
       "      <td>-</td>\n",
       "      <td>2</td>\n",
       "    </tr>\n",
       "    <tr>\n",
       "      <th>2</th>\n",
       "      <td>2016-04-12</td>\n",
       "      <td>20</td>\n",
       "      <td>Robbery</td>\n",
       "      <td>10H10</td>\n",
       "      <td>Apartment</td>\n",
       "      <td>1900-1999</td>\n",
       "      <td>RUNNELS</td>\n",
       "      <td>-</td>\n",
       "      <td>-</td>\n",
       "      <td>1</td>\n",
       "    </tr>\n",
       "    <tr>\n",
       "      <th>3</th>\n",
       "      <td>2016-04-13</td>\n",
       "      <td>2</td>\n",
       "      <td>Auto Theft</td>\n",
       "      <td>10H10</td>\n",
       "      <td>Driveway</td>\n",
       "      <td>100-199</td>\n",
       "      <td>SIDNEY</td>\n",
       "      <td>-</td>\n",
       "      <td>-</td>\n",
       "      <td>1</td>\n",
       "    </tr>\n",
       "    <tr>\n",
       "      <th>4</th>\n",
       "      <td>2016-04-14</td>\n",
       "      <td>3</td>\n",
       "      <td>Burglary</td>\n",
       "      <td>10H10</td>\n",
       "      <td>Service or Gas Station</td>\n",
       "      <td>3300-3399</td>\n",
       "      <td>CANAL</td>\n",
       "      <td>ST</td>\n",
       "      <td>-</td>\n",
       "      <td>1</td>\n",
       "    </tr>\n",
       "  </tbody>\n",
       "</table>\n",
       "</div>"
      ],
      "text/plain": [
       "        date  hour        offense_type   beat                    premise  \\\n",
       "0 2016-04-10    20             Robbery  10H10  Road, Street, or Sidewalk   \n",
       "1 2016-04-11    19  Aggravated Assault  10H10  Road, Street, or Sidewalk   \n",
       "2 2016-04-12    20             Robbery  10H10                  Apartment   \n",
       "3 2016-04-13     2          Auto Theft  10H10                   Driveway   \n",
       "4 2016-04-14     3            Burglary  10H10     Service or Gas Station   \n",
       "\n",
       "  blockrange streetname type suffix  ._offenses  \n",
       "0  4000-4099      MILBY    -      -           1  \n",
       "1    400-499       YORK    -      -           2  \n",
       "2  1900-1999    RUNNELS    -      -           1  \n",
       "3    100-199     SIDNEY    -      -           1  \n",
       "4  3300-3399      CANAL   ST      -           1  "
      ]
     },
     "execution_count": 5,
     "metadata": {},
     "output_type": "execute_result"
    }
   ],
   "source": [
    "df.head()"
   ]
  },
  {
   "cell_type": "code",
   "execution_count": 6,
   "metadata": {},
   "outputs": [
    {
     "name": "stdout",
     "output_type": "stream",
     "text": [
      "<class 'pandas.core.frame.DataFrame'>\n",
      "RangeIndex: 122693 entries, 0 to 122692\n",
      "Data columns (total 10 columns):\n",
      " #   Column        Non-Null Count   Dtype         \n",
      "---  ------        --------------   -----         \n",
      " 0   date          122693 non-null  datetime64[ns]\n",
      " 1   hour          122693 non-null  int64         \n",
      " 2   offense_type  122693 non-null  object        \n",
      " 3   beat          122693 non-null  object        \n",
      " 4   premise       121293 non-null  object        \n",
      " 5   blockrange    122693 non-null  object        \n",
      " 6   streetname    122693 non-null  object        \n",
      " 7   type          122693 non-null  object        \n",
      " 8   suffix        122693 non-null  object        \n",
      " 9   ._offenses    122693 non-null  int64         \n",
      "dtypes: datetime64[ns](1), int64(2), object(7)\n",
      "memory usage: 9.4+ MB\n"
     ]
    }
   ],
   "source": [
    "df.info()"
   ]
  },
  {
   "cell_type": "markdown",
   "metadata": {},
   "source": [
    "# Show null data"
   ]
  },
  {
   "cell_type": "code",
   "execution_count": 7,
   "metadata": {},
   "outputs": [
    {
     "data": {
      "text/plain": [
       "date               0\n",
       "hour               0\n",
       "offense_type       0\n",
       "beat               0\n",
       "premise         1400\n",
       "blockrange         0\n",
       "streetname         0\n",
       "type               0\n",
       "suffix             0\n",
       "._offenses         0\n",
       "dtype: int64"
      ]
     },
     "execution_count": 7,
     "metadata": {},
     "output_type": "execute_result"
    }
   ],
   "source": [
    "df.apply(lambda x: sum(x.isnull()))"
   ]
  },
  {
   "cell_type": "code",
   "execution_count": 8,
   "metadata": {},
   "outputs": [
    {
     "data": {
      "text/html": [
       "<div>\n",
       "<style scoped>\n",
       "    .dataframe tbody tr th:only-of-type {\n",
       "        vertical-align: middle;\n",
       "    }\n",
       "\n",
       "    .dataframe tbody tr th {\n",
       "        vertical-align: top;\n",
       "    }\n",
       "\n",
       "    .dataframe thead th {\n",
       "        text-align: right;\n",
       "    }\n",
       "</style>\n",
       "<table border=\"1\" class=\"dataframe\">\n",
       "  <thead>\n",
       "    <tr style=\"text-align: right;\">\n",
       "      <th></th>\n",
       "      <th>null_percent</th>\n",
       "    </tr>\n",
       "  </thead>\n",
       "  <tbody>\n",
       "    <tr>\n",
       "      <th>premise</th>\n",
       "      <td>1.14</td>\n",
       "    </tr>\n",
       "    <tr>\n",
       "      <th>date</th>\n",
       "      <td>0.00</td>\n",
       "    </tr>\n",
       "    <tr>\n",
       "      <th>hour</th>\n",
       "      <td>0.00</td>\n",
       "    </tr>\n",
       "    <tr>\n",
       "      <th>offense_type</th>\n",
       "      <td>0.00</td>\n",
       "    </tr>\n",
       "    <tr>\n",
       "      <th>beat</th>\n",
       "      <td>0.00</td>\n",
       "    </tr>\n",
       "    <tr>\n",
       "      <th>blockrange</th>\n",
       "      <td>0.00</td>\n",
       "    </tr>\n",
       "    <tr>\n",
       "      <th>streetname</th>\n",
       "      <td>0.00</td>\n",
       "    </tr>\n",
       "    <tr>\n",
       "      <th>type</th>\n",
       "      <td>0.00</td>\n",
       "    </tr>\n",
       "    <tr>\n",
       "      <th>suffix</th>\n",
       "      <td>0.00</td>\n",
       "    </tr>\n",
       "    <tr>\n",
       "      <th>._offenses</th>\n",
       "      <td>0.00</td>\n",
       "    </tr>\n",
       "  </tbody>\n",
       "</table>\n",
       "</div>"
      ],
      "text/plain": [
       "              null_percent\n",
       "premise               1.14\n",
       "date                  0.00\n",
       "hour                  0.00\n",
       "offense_type          0.00\n",
       "beat                  0.00\n",
       "blockrange            0.00\n",
       "streetname            0.00\n",
       "type                  0.00\n",
       "suffix                0.00\n",
       "._offenses            0.00"
      ]
     },
     "execution_count": 8,
     "metadata": {},
     "output_type": "execute_result"
    }
   ],
   "source": [
    "# create null percentage of column as dataframe\n",
    "null_per_df = pd.DataFrame(df.isna().mean().round(4) * 100)\n",
    "# rename columns\n",
    "null_per_df.rename(columns={'index': 'col_name', 0: 'null_percent'}, inplace=True)\n",
    "\n",
    "# filter data <20% null values\n",
    "per_filter = null_per_df.null_percent<=90\n",
    "null_per_df[per_filter].sort_values(by='null_percent',ascending=False)"
   ]
  },
  {
   "cell_type": "code",
   "execution_count": 9,
   "metadata": {},
   "outputs": [
    {
     "data": {
      "image/png": "[encoded data removed]",
      "text/plain": [
       "<Figure size 1080x288 with 1 Axes>"
      ]
     },
     "metadata": {},
     "output_type": "display_data"
    }
   ],
   "source": [
    "plt.figure(figsize=(15,4))\n",
    "sns.heatmap(df.isnull(),yticklabels=False,cbar=False,cmap='viridis')\n",
    "plt.title('Missing data')\n",
    "plt.show()"
   ]
  },
  {
   "cell_type": "code",
   "execution_count": 10,
   "metadata": {},
   "outputs": [
    {
     "data": {
      "text/plain": [
       "['date',\n",
       " 'hour',\n",
       " 'offense_type',\n",
       " 'beat',\n",
       " 'premise',\n",
       " 'blockrange',\n",
       " 'streetname',\n",
       " 'type',\n",
       " 'suffix',\n",
       " '._offenses']"
      ]
     },
     "execution_count": 10,
     "metadata": {},
     "output_type": "execute_result"
    }
   ],
   "source": [
    "df.columns.tolist()"
   ]
  },
  {
   "cell_type": "code",
   "execution_count": 11,
   "metadata": {},
   "outputs": [],
   "source": [
    "# # combine columns into a new one\n",
    "# df['offenses'] = pd.concat([df['. Of Offenses'].dropna(),\n",
    "#                               df['. of Offenses'].dropna()]).reindex_like(df)\n",
    "\n",
    "# # drop columns\n",
    "# df = df.drop(['. Of Offenses','. of Offenses', 'Field11',\n",
    "#  'Field12',\n",
    "#  'Field13'], axis = 1)"
   ]
  },
  {
   "cell_type": "code",
   "execution_count": null,
   "metadata": {},
   "outputs": [],
   "source": [
    "# df = df.drop([  'field11',\n",
    "#  'field2',\n",
    "#  'field12',\n",
    "#  'field13',\n",
    "#  'field14'], axis = 1)"
   ]
  },
  {
   "cell_type": "code",
   "execution_count": 12,
   "metadata": {},
   "outputs": [],
   "source": [
    "df.columns = df.columns.str.lower().str.replace(' ','_').str.replace('\\n','_').str.strip()"
   ]
  },
  {
   "cell_type": "code",
   "execution_count": 13,
   "metadata": {},
   "outputs": [
    {
     "data": {
      "text/plain": [
       "date               0\n",
       "hour               0\n",
       "offense_type       0\n",
       "beat               0\n",
       "premise         1400\n",
       "blockrange         0\n",
       "streetname         0\n",
       "type               0\n",
       "suffix             0\n",
       "._offenses         0\n",
       "dtype: int64"
      ]
     },
     "execution_count": 13,
     "metadata": {},
     "output_type": "execute_result"
    }
   ],
   "source": [
    "df.apply(lambda x: sum(x.isnull()))"
   ]
  },
  {
   "cell_type": "code",
   "execution_count": 14,
   "metadata": {},
   "outputs": [
    {
     "data": {
      "image/png": "[encoded data removed]",
      "text/plain": [
       "<Figure size 1080x288 with 1 Axes>"
      ]
     },
     "metadata": {},
     "output_type": "display_data"
    }
   ],
   "source": [
    "plt.figure(figsize=(15,4))\n",
    "sns.heatmap(df.isnull(),yticklabels=False,cbar=False,cmap='viridis')\n",
    "plt.title('Missing data')\n",
    "plt.show()"
   ]
  },
  {
   "cell_type": "code",
   "execution_count": null,
   "metadata": {},
   "outputs": [],
   "source": [
    "df.head()"
   ]
  },
  {
   "cell_type": "code",
   "execution_count": null,
   "metadata": {},
   "outputs": [],
   "source": [
    "df.info()"
   ]
  },
  {
   "cell_type": "markdown",
   "metadata": {},
   "source": [
    "## Combine date & hour to one column"
   ]
  },
  {
   "cell_type": "code",
   "execution_count": null,
   "metadata": {},
   "outputs": [],
   "source": [
    "df[['date','hour']]"
   ]
  },
  {
   "cell_type": "code",
   "execution_count": 15,
   "metadata": {},
   "outputs": [],
   "source": [
    "# convert two columns into one datetime\n",
    "df['date_time'] = pd.to_datetime(df['date']) + pd.to_timedelta(df['hour'], unit='h')\n",
    "\n",
    "# drop columns\n",
    "df = df.drop(['date','hour'], axis = 1)"
   ]
  },
  {
   "cell_type": "code",
   "execution_count": 16,
   "metadata": {},
   "outputs": [
    {
     "data": {
      "text/html": [
       "<div>\n",
       "<style scoped>\n",
       "    .dataframe tbody tr th:only-of-type {\n",
       "        vertical-align: middle;\n",
       "    }\n",
       "\n",
       "    .dataframe tbody tr th {\n",
       "        vertical-align: top;\n",
       "    }\n",
       "\n",
       "    .dataframe thead th {\n",
       "        text-align: right;\n",
       "    }\n",
       "</style>\n",
       "<table border=\"1\" class=\"dataframe\">\n",
       "  <thead>\n",
       "    <tr style=\"text-align: right;\">\n",
       "      <th></th>\n",
       "      <th>offense_type</th>\n",
       "      <th>beat</th>\n",
       "      <th>premise</th>\n",
       "      <th>blockrange</th>\n",
       "      <th>streetname</th>\n",
       "      <th>type</th>\n",
       "      <th>suffix</th>\n",
       "      <th>._offenses</th>\n",
       "      <th>date_time</th>\n",
       "    </tr>\n",
       "  </thead>\n",
       "  <tbody>\n",
       "    <tr>\n",
       "      <th>0</th>\n",
       "      <td>Robbery</td>\n",
       "      <td>10H10</td>\n",
       "      <td>Road, Street, or Sidewalk</td>\n",
       "      <td>4000-4099</td>\n",
       "      <td>MILBY</td>\n",
       "      <td>-</td>\n",
       "      <td>-</td>\n",
       "      <td>1</td>\n",
       "      <td>2016-04-10 20:00:00</td>\n",
       "    </tr>\n",
       "    <tr>\n",
       "      <th>1</th>\n",
       "      <td>Aggravated Assault</td>\n",
       "      <td>10H10</td>\n",
       "      <td>Road, Street, or Sidewalk</td>\n",
       "      <td>400-499</td>\n",
       "      <td>YORK</td>\n",
       "      <td>-</td>\n",
       "      <td>-</td>\n",
       "      <td>2</td>\n",
       "      <td>2016-04-11 19:00:00</td>\n",
       "    </tr>\n",
       "    <tr>\n",
       "      <th>2</th>\n",
       "      <td>Robbery</td>\n",
       "      <td>10H10</td>\n",
       "      <td>Apartment</td>\n",
       "      <td>1900-1999</td>\n",
       "      <td>RUNNELS</td>\n",
       "      <td>-</td>\n",
       "      <td>-</td>\n",
       "      <td>1</td>\n",
       "      <td>2016-04-12 20:00:00</td>\n",
       "    </tr>\n",
       "    <tr>\n",
       "      <th>3</th>\n",
       "      <td>Auto Theft</td>\n",
       "      <td>10H10</td>\n",
       "      <td>Driveway</td>\n",
       "      <td>100-199</td>\n",
       "      <td>SIDNEY</td>\n",
       "      <td>-</td>\n",
       "      <td>-</td>\n",
       "      <td>1</td>\n",
       "      <td>2016-04-13 02:00:00</td>\n",
       "    </tr>\n",
       "    <tr>\n",
       "      <th>4</th>\n",
       "      <td>Burglary</td>\n",
       "      <td>10H10</td>\n",
       "      <td>Service or Gas Station</td>\n",
       "      <td>3300-3399</td>\n",
       "      <td>CANAL</td>\n",
       "      <td>ST</td>\n",
       "      <td>-</td>\n",
       "      <td>1</td>\n",
       "      <td>2016-04-14 03:00:00</td>\n",
       "    </tr>\n",
       "  </tbody>\n",
       "</table>\n",
       "</div>"
      ],
      "text/plain": [
       "         offense_type   beat                    premise blockrange streetname  \\\n",
       "0             Robbery  10H10  Road, Street, or Sidewalk  4000-4099      MILBY   \n",
       "1  Aggravated Assault  10H10  Road, Street, or Sidewalk    400-499       YORK   \n",
       "2             Robbery  10H10                  Apartment  1900-1999    RUNNELS   \n",
       "3          Auto Theft  10H10                   Driveway    100-199     SIDNEY   \n",
       "4            Burglary  10H10     Service or Gas Station  3300-3399      CANAL   \n",
       "\n",
       "  type suffix  ._offenses           date_time  \n",
       "0    -      -           1 2016-04-10 20:00:00  \n",
       "1    -      -           2 2016-04-11 19:00:00  \n",
       "2    -      -           1 2016-04-12 20:00:00  \n",
       "3    -      -           1 2016-04-13 02:00:00  \n",
       "4   ST      -           1 2016-04-14 03:00:00  "
      ]
     },
     "execution_count": 16,
     "metadata": {},
     "output_type": "execute_result"
    }
   ],
   "source": [
    "df.head()"
   ]
  },
  {
   "cell_type": "code",
   "execution_count": 17,
   "metadata": {},
   "outputs": [
    {
     "name": "stdout",
     "output_type": "stream",
     "text": [
      "<class 'pandas.core.frame.DataFrame'>\n",
      "RangeIndex: 122693 entries, 0 to 122692\n",
      "Data columns (total 9 columns):\n",
      " #   Column        Non-Null Count   Dtype         \n",
      "---  ------        --------------   -----         \n",
      " 0   offense_type  122693 non-null  object        \n",
      " 1   beat          122693 non-null  object        \n",
      " 2   premise       121293 non-null  object        \n",
      " 3   blockrange    122693 non-null  object        \n",
      " 4   streetname    122693 non-null  object        \n",
      " 5   type          122693 non-null  object        \n",
      " 6   suffix        122693 non-null  object        \n",
      " 7   ._offenses    122693 non-null  int64         \n",
      " 8   date_time     122693 non-null  datetime64[ns]\n",
      "dtypes: datetime64[ns](1), int64(1), object(7)\n",
      "memory usage: 8.4+ MB\n"
     ]
    }
   ],
   "source": [
    "df.info()"
   ]
  },
  {
   "cell_type": "code",
   "execution_count": 18,
   "metadata": {},
   "outputs": [],
   "source": [
    "#change column name\n",
    "\n",
    "df.rename(columns={\n",
    "    '._offenses': 'offenses',\n",
    "}, inplace=True)\n",
    "\n",
    "# convert offenses to int\n",
    "\n",
    "df['offenses'] = df['offenses'].astype('int64')"
   ]
  },
  {
   "cell_type": "code",
   "execution_count": 19,
   "metadata": {},
   "outputs": [
    {
     "name": "stdout",
     "output_type": "stream",
     "text": [
      "<class 'pandas.core.frame.DataFrame'>\n",
      "RangeIndex: 122693 entries, 0 to 122692\n",
      "Data columns (total 9 columns):\n",
      " #   Column        Non-Null Count   Dtype         \n",
      "---  ------        --------------   -----         \n",
      " 0   offense_type  122693 non-null  object        \n",
      " 1   beat          122693 non-null  object        \n",
      " 2   premise       121293 non-null  object        \n",
      " 3   blockrange    122693 non-null  object        \n",
      " 4   streetname    122693 non-null  object        \n",
      " 5   type          122693 non-null  object        \n",
      " 6   suffix        122693 non-null  object        \n",
      " 7   offenses      122693 non-null  int64         \n",
      " 8   date_time     122693 non-null  datetime64[ns]\n",
      "dtypes: datetime64[ns](1), int64(1), object(7)\n",
      "memory usage: 8.4+ MB\n"
     ]
    }
   ],
   "source": [
    "df.info()"
   ]
  },
  {
   "cell_type": "code",
   "execution_count": null,
   "metadata": {},
   "outputs": [],
   "source": [
    "df.date_time"
   ]
  },
  {
   "cell_type": "code",
   "execution_count": null,
   "metadata": {},
   "outputs": [],
   "source": []
  },
  {
   "cell_type": "markdown",
   "metadata": {},
   "source": [
    "# Inspect evry column"
   ]
  },
  {
   "cell_type": "code",
   "execution_count": null,
   "metadata": {},
   "outputs": [],
   "source": [
    "def create_new_cell(contents):\n",
    "    '''created new jupyter cells by inputing a list of columns\n",
    "    outputs'''\n",
    "    from IPython.core.getipython import get_ipython\n",
    "    shell = get_ipython()\n",
    "    payload = dict(\n",
    "        source='set_next_input',\n",
    "        #text=f'#column:{contents}\\ndf.{contents}.value_counts(dropna=False)[:10]'.format(contents),\n",
    "        text=f'# column:{contents}\\ndf.{contents}.value_counts(dropna=False)[:10]',\n",
    "        replace=False,)\n",
    "    shell.payload_manager.write_payload(payload, single=False)\n",
    "\n",
    "    \n",
    "def strip_col(col):\n",
    "    print(f'column:{col}')\n",
    "    print('before:{}'.format(len(df[col].value_counts(dropna=False))))\n",
    "    df.col = df[col].str.strip()\n",
    "    print('before:{}'.format(len(df[col].value_counts(dropna=False))))    \n",
    "    \n",
    "def lower_col(col):\n",
    "    print(f'column:{col}')\n",
    "    print('before:{}'.format(len(df[col].value_counts(dropna=False))))\n",
    "    df.col = df[col].str.lower()\n",
    "    print('before:{}'.format(len(df[col].value_counts(dropna=False))))       \n",
    "    \n",
    "    \n",
    "    \n",
    "def capital_col(col):\n",
    "    print(f'column:{col}')\n",
    "    print('before:{}'.format(len(df[col].value_counts(dropna=False))))\n",
    "    df.col = df[col].str.capitalize()\n",
    "    print('before:{}'.format(len(df[col].value_counts(dropna=False))))      "
   ]
  },
  {
   "cell_type": "code",
   "execution_count": null,
   "metadata": {},
   "outputs": [],
   "source": [
    "col_list = df.columns.tolist()\n",
    "col_list"
   ]
  },
  {
   "cell_type": "code",
   "execution_count": null,
   "metadata": {},
   "outputs": [],
   "source": [
    "for col in col_list:\n",
    "    create_new_cell(col)"
   ]
  },
  {
   "cell_type": "code",
   "execution_count": null,
   "metadata": {},
   "outputs": [],
   "source": [
    "# column:date_time\n",
    "df.date_time.value_counts(dropna=False)[:10]"
   ]
  },
  {
   "cell_type": "code",
   "execution_count": null,
   "metadata": {},
   "outputs": [],
   "source": [
    "# column:offenses\n",
    "df.offenses.value_counts(dropna=False)[:10]"
   ]
  },
  {
   "cell_type": "code",
   "execution_count": null,
   "metadata": {},
   "outputs": [],
   "source": [
    "# column:suffix\n",
    "df.suffix.value_counts(dropna=False)[:10]"
   ]
  },
  {
   "cell_type": "code",
   "execution_count": null,
   "metadata": {},
   "outputs": [],
   "source": [
    "# column:type\n",
    "df.type.value_counts(dropna=False)[:10]"
   ]
  },
  {
   "cell_type": "code",
   "execution_count": null,
   "metadata": {},
   "outputs": [],
   "source": [
    "# column:streetname\n",
    "df.streetname.value_counts(dropna=False)[:10]"
   ]
  },
  {
   "cell_type": "code",
   "execution_count": null,
   "metadata": {},
   "outputs": [],
   "source": [
    "# column:blockrange\n",
    "df.blockrange.value_counts(dropna=False)[:10]"
   ]
  },
  {
   "cell_type": "code",
   "execution_count": null,
   "metadata": {},
   "outputs": [],
   "source": [
    "# column:premise\n",
    "df.premise.value_counts(dropna=False)[:10]"
   ]
  },
  {
   "cell_type": "code",
   "execution_count": null,
   "metadata": {},
   "outputs": [],
   "source": [
    "# column:beat\n",
    "df.beat.value_counts(dropna=False)[:10]"
   ]
  },
  {
   "cell_type": "code",
   "execution_count": null,
   "metadata": {},
   "outputs": [],
   "source": [
    "# column:offense_type\n",
    "df.offense_type.value_counts(dropna=False)[:10]"
   ]
  },
  {
   "cell_type": "code",
   "execution_count": null,
   "metadata": {},
   "outputs": [],
   "source": []
  },
  {
   "cell_type": "code",
   "execution_count": null,
   "metadata": {},
   "outputs": [],
   "source": []
  },
  {
   "cell_type": "code",
   "execution_count": null,
   "metadata": {},
   "outputs": [],
   "source": []
  },
  {
   "cell_type": "code",
   "execution_count": 21,
   "metadata": {},
   "outputs": [
    {
     "data": {
      "text/html": [
       "<div>\n",
       "<style scoped>\n",
       "    .dataframe tbody tr th:only-of-type {\n",
       "        vertical-align: middle;\n",
       "    }\n",
       "\n",
       "    .dataframe tbody tr th {\n",
       "        vertical-align: top;\n",
       "    }\n",
       "\n",
       "    .dataframe thead th {\n",
       "        text-align: right;\n",
       "    }\n",
       "</style>\n",
       "<table border=\"1\" class=\"dataframe\">\n",
       "  <thead>\n",
       "    <tr style=\"text-align: right;\">\n",
       "      <th></th>\n",
       "      <th>offense_type</th>\n",
       "      <th>beat</th>\n",
       "      <th>premise</th>\n",
       "      <th>blockrange</th>\n",
       "      <th>streetname</th>\n",
       "      <th>type</th>\n",
       "      <th>suffix</th>\n",
       "      <th>offenses</th>\n",
       "      <th>date_time</th>\n",
       "    </tr>\n",
       "  </thead>\n",
       "  <tbody>\n",
       "    <tr>\n",
       "      <th>0</th>\n",
       "      <td>Robbery</td>\n",
       "      <td>10H10</td>\n",
       "      <td>Road, Street, or Sidewalk</td>\n",
       "      <td>4000-4099</td>\n",
       "      <td>MILBY</td>\n",
       "      <td>-</td>\n",
       "      <td>-</td>\n",
       "      <td>1</td>\n",
       "      <td>2016-04-10 20:00:00</td>\n",
       "    </tr>\n",
       "    <tr>\n",
       "      <th>1</th>\n",
       "      <td>Aggravated Assault</td>\n",
       "      <td>10H10</td>\n",
       "      <td>Road, Street, or Sidewalk</td>\n",
       "      <td>400-499</td>\n",
       "      <td>YORK</td>\n",
       "      <td>-</td>\n",
       "      <td>-</td>\n",
       "      <td>2</td>\n",
       "      <td>2016-04-11 19:00:00</td>\n",
       "    </tr>\n",
       "    <tr>\n",
       "      <th>2</th>\n",
       "      <td>Robbery</td>\n",
       "      <td>10H10</td>\n",
       "      <td>Apartment</td>\n",
       "      <td>1900-1999</td>\n",
       "      <td>RUNNELS</td>\n",
       "      <td>-</td>\n",
       "      <td>-</td>\n",
       "      <td>1</td>\n",
       "      <td>2016-04-12 20:00:00</td>\n",
       "    </tr>\n",
       "    <tr>\n",
       "      <th>3</th>\n",
       "      <td>Auto Theft</td>\n",
       "      <td>10H10</td>\n",
       "      <td>Driveway</td>\n",
       "      <td>100-199</td>\n",
       "      <td>SIDNEY</td>\n",
       "      <td>-</td>\n",
       "      <td>-</td>\n",
       "      <td>1</td>\n",
       "      <td>2016-04-13 02:00:00</td>\n",
       "    </tr>\n",
       "    <tr>\n",
       "      <th>4</th>\n",
       "      <td>Burglary</td>\n",
       "      <td>10H10</td>\n",
       "      <td>Service or Gas Station</td>\n",
       "      <td>3300-3399</td>\n",
       "      <td>CANAL</td>\n",
       "      <td>ST</td>\n",
       "      <td>-</td>\n",
       "      <td>1</td>\n",
       "      <td>2016-04-14 03:00:00</td>\n",
       "    </tr>\n",
       "    <tr>\n",
       "      <th>...</th>\n",
       "      <td>...</td>\n",
       "      <td>...</td>\n",
       "      <td>...</td>\n",
       "      <td>...</td>\n",
       "      <td>...</td>\n",
       "      <td>...</td>\n",
       "      <td>...</td>\n",
       "      <td>...</td>\n",
       "      <td>...</td>\n",
       "    </tr>\n",
       "    <tr>\n",
       "      <th>122688</th>\n",
       "      <td>Theft</td>\n",
       "      <td>UNK</td>\n",
       "      <td>Other Parking Lot</td>\n",
       "      <td>7900-7999</td>\n",
       "      <td>FM 1960</td>\n",
       "      <td>RD</td>\n",
       "      <td>-</td>\n",
       "      <td>1</td>\n",
       "      <td>2016-09-14 14:00:00</td>\n",
       "    </tr>\n",
       "    <tr>\n",
       "      <th>122689</th>\n",
       "      <td>Auto Theft</td>\n",
       "      <td>UNK</td>\n",
       "      <td>Other, Unknown, or Not Listed</td>\n",
       "      <td>700-799</td>\n",
       "      <td>RICHCREST</td>\n",
       "      <td>DR</td>\n",
       "      <td>-</td>\n",
       "      <td>1</td>\n",
       "      <td>2016-09-14 16:00:00</td>\n",
       "    </tr>\n",
       "    <tr>\n",
       "      <th>122690</th>\n",
       "      <td>Theft</td>\n",
       "      <td>UNK</td>\n",
       "      <td>Hotel or Motel Parking Lot</td>\n",
       "      <td>8300-8399</td>\n",
       "      <td>FM 1960</td>\n",
       "      <td>RD</td>\n",
       "      <td>-</td>\n",
       "      <td>1</td>\n",
       "      <td>2016-09-13 20:00:00</td>\n",
       "    </tr>\n",
       "    <tr>\n",
       "      <th>122691</th>\n",
       "      <td>Theft</td>\n",
       "      <td>UNK</td>\n",
       "      <td>Construction Site</td>\n",
       "      <td>17100-17199</td>\n",
       "      <td>EASTEX</td>\n",
       "      <td>FWY</td>\n",
       "      <td>-</td>\n",
       "      <td>1</td>\n",
       "      <td>2016-09-13 07:00:00</td>\n",
       "    </tr>\n",
       "    <tr>\n",
       "      <th>122692</th>\n",
       "      <td>Auto Theft</td>\n",
       "      <td>UNK</td>\n",
       "      <td>Road, Street, or Sidewalk</td>\n",
       "      <td>11900-11999</td>\n",
       "      <td>GLEN BAY</td>\n",
       "      <td>CT</td>\n",
       "      <td>-</td>\n",
       "      <td>1</td>\n",
       "      <td>2016-09-30 15:00:00</td>\n",
       "    </tr>\n",
       "  </tbody>\n",
       "</table>\n",
       "<p>122693 rows × 9 columns</p>\n",
       "</div>"
      ],
      "text/plain": [
       "              offense_type   beat                        premise   blockrange  \\\n",
       "0                  Robbery  10H10      Road, Street, or Sidewalk    4000-4099   \n",
       "1       Aggravated Assault  10H10      Road, Street, or Sidewalk      400-499   \n",
       "2                  Robbery  10H10                      Apartment    1900-1999   \n",
       "3               Auto Theft  10H10                       Driveway      100-199   \n",
       "4                 Burglary  10H10         Service or Gas Station    3300-3399   \n",
       "...                    ...    ...                            ...          ...   \n",
       "122688               Theft    UNK              Other Parking Lot    7900-7999   \n",
       "122689          Auto Theft    UNK  Other, Unknown, or Not Listed      700-799   \n",
       "122690               Theft    UNK     Hotel or Motel Parking Lot    8300-8399   \n",
       "122691               Theft    UNK              Construction Site  17100-17199   \n",
       "122692          Auto Theft    UNK      Road, Street, or Sidewalk  11900-11999   \n",
       "\n",
       "       streetname type suffix  offenses           date_time  \n",
       "0           MILBY    -      -         1 2016-04-10 20:00:00  \n",
       "1            YORK    -      -         2 2016-04-11 19:00:00  \n",
       "2         RUNNELS    -      -         1 2016-04-12 20:00:00  \n",
       "3          SIDNEY    -      -         1 2016-04-13 02:00:00  \n",
       "4           CANAL   ST      -         1 2016-04-14 03:00:00  \n",
       "...           ...  ...    ...       ...                 ...  \n",
       "122688    FM 1960   RD      -         1 2016-09-14 14:00:00  \n",
       "122689  RICHCREST   DR      -         1 2016-09-14 16:00:00  \n",
       "122690    FM 1960   RD      -         1 2016-09-13 20:00:00  \n",
       "122691     EASTEX  FWY      -         1 2016-09-13 07:00:00  \n",
       "122692   GLEN BAY   CT      -         1 2016-09-30 15:00:00  \n",
       "\n",
       "[122693 rows x 9 columns]"
      ]
     },
     "execution_count": 21,
     "metadata": {},
     "output_type": "execute_result"
    }
   ],
   "source": [
    "df"
   ]
  },
  {
   "cell_type": "code",
   "execution_count": 24,
   "metadata": {},
   "outputs": [],
   "source": [
    "df.rename(columns={'blockrange': 'block_range', 'streetname': 'street_name'}, inplace=True)\n",
    "\n",
    "col_ord =['date_time','offenses','offense_type', 'block_range', 'street_name', 'type', 'suffix','beat', 'premise']\n",
    "df = df[col_ord]\n",
    "\n",
    "\n",
    "\n",
    "file = 'crime_2016.csv'\n",
    "directory_save = os.path.join('..','data','interim',f'{file}')\n",
    "df.to_csv(directory_save,index=False)"
   ]
  },
  {
   "cell_type": "code",
   "execution_count": 23,
   "metadata": {},
   "outputs": [
    {
     "data": {
      "text/html": [
       "<div>\n",
       "<style scoped>\n",
       "    .dataframe tbody tr th:only-of-type {\n",
       "        vertical-align: middle;\n",
       "    }\n",
       "\n",
       "    .dataframe tbody tr th {\n",
       "        vertical-align: top;\n",
       "    }\n",
       "\n",
       "    .dataframe thead th {\n",
       "        text-align: right;\n",
       "    }\n",
       "</style>\n",
       "<table border=\"1\" class=\"dataframe\">\n",
       "  <thead>\n",
       "    <tr style=\"text-align: right;\">\n",
       "      <th></th>\n",
       "      <th>date_time</th>\n",
       "      <th>offenses</th>\n",
       "      <th>offense_type</th>\n",
       "      <th>block_range</th>\n",
       "      <th>street_name</th>\n",
       "      <th>type</th>\n",
       "      <th>suffix</th>\n",
       "      <th>beat</th>\n",
       "      <th>premise</th>\n",
       "    </tr>\n",
       "  </thead>\n",
       "  <tbody>\n",
       "    <tr>\n",
       "      <th>0</th>\n",
       "      <td>2016-04-10 20:00:00</td>\n",
       "      <td>1</td>\n",
       "      <td>Robbery</td>\n",
       "      <td>4000-4099</td>\n",
       "      <td>MILBY</td>\n",
       "      <td>-</td>\n",
       "      <td>-</td>\n",
       "      <td>10H10</td>\n",
       "      <td>Road, Street, or Sidewalk</td>\n",
       "    </tr>\n",
       "    <tr>\n",
       "      <th>1</th>\n",
       "      <td>2016-04-11 19:00:00</td>\n",
       "      <td>2</td>\n",
       "      <td>Aggravated Assault</td>\n",
       "      <td>400-499</td>\n",
       "      <td>YORK</td>\n",
       "      <td>-</td>\n",
       "      <td>-</td>\n",
       "      <td>10H10</td>\n",
       "      <td>Road, Street, or Sidewalk</td>\n",
       "    </tr>\n",
       "    <tr>\n",
       "      <th>2</th>\n",
       "      <td>2016-04-12 20:00:00</td>\n",
       "      <td>1</td>\n",
       "      <td>Robbery</td>\n",
       "      <td>1900-1999</td>\n",
       "      <td>RUNNELS</td>\n",
       "      <td>-</td>\n",
       "      <td>-</td>\n",
       "      <td>10H10</td>\n",
       "      <td>Apartment</td>\n",
       "    </tr>\n",
       "    <tr>\n",
       "      <th>3</th>\n",
       "      <td>2016-04-13 02:00:00</td>\n",
       "      <td>1</td>\n",
       "      <td>Auto Theft</td>\n",
       "      <td>100-199</td>\n",
       "      <td>SIDNEY</td>\n",
       "      <td>-</td>\n",
       "      <td>-</td>\n",
       "      <td>10H10</td>\n",
       "      <td>Driveway</td>\n",
       "    </tr>\n",
       "    <tr>\n",
       "      <th>4</th>\n",
       "      <td>2016-04-14 03:00:00</td>\n",
       "      <td>1</td>\n",
       "      <td>Burglary</td>\n",
       "      <td>3300-3399</td>\n",
       "      <td>CANAL</td>\n",
       "      <td>ST</td>\n",
       "      <td>-</td>\n",
       "      <td>10H10</td>\n",
       "      <td>Service or Gas Station</td>\n",
       "    </tr>\n",
       "    <tr>\n",
       "      <th>...</th>\n",
       "      <td>...</td>\n",
       "      <td>...</td>\n",
       "      <td>...</td>\n",
       "      <td>...</td>\n",
       "      <td>...</td>\n",
       "      <td>...</td>\n",
       "      <td>...</td>\n",
       "      <td>...</td>\n",
       "      <td>...</td>\n",
       "    </tr>\n",
       "    <tr>\n",
       "      <th>122688</th>\n",
       "      <td>2016-09-14 14:00:00</td>\n",
       "      <td>1</td>\n",
       "      <td>Theft</td>\n",
       "      <td>7900-7999</td>\n",
       "      <td>FM 1960</td>\n",
       "      <td>RD</td>\n",
       "      <td>-</td>\n",
       "      <td>UNK</td>\n",
       "      <td>Other Parking Lot</td>\n",
       "    </tr>\n",
       "    <tr>\n",
       "      <th>122689</th>\n",
       "      <td>2016-09-14 16:00:00</td>\n",
       "      <td>1</td>\n",
       "      <td>Auto Theft</td>\n",
       "      <td>700-799</td>\n",
       "      <td>RICHCREST</td>\n",
       "      <td>DR</td>\n",
       "      <td>-</td>\n",
       "      <td>UNK</td>\n",
       "      <td>Other, Unknown, or Not Listed</td>\n",
       "    </tr>\n",
       "    <tr>\n",
       "      <th>122690</th>\n",
       "      <td>2016-09-13 20:00:00</td>\n",
       "      <td>1</td>\n",
       "      <td>Theft</td>\n",
       "      <td>8300-8399</td>\n",
       "      <td>FM 1960</td>\n",
       "      <td>RD</td>\n",
       "      <td>-</td>\n",
       "      <td>UNK</td>\n",
       "      <td>Hotel or Motel Parking Lot</td>\n",
       "    </tr>\n",
       "    <tr>\n",
       "      <th>122691</th>\n",
       "      <td>2016-09-13 07:00:00</td>\n",
       "      <td>1</td>\n",
       "      <td>Theft</td>\n",
       "      <td>17100-17199</td>\n",
       "      <td>EASTEX</td>\n",
       "      <td>FWY</td>\n",
       "      <td>-</td>\n",
       "      <td>UNK</td>\n",
       "      <td>Construction Site</td>\n",
       "    </tr>\n",
       "    <tr>\n",
       "      <th>122692</th>\n",
       "      <td>2016-09-30 15:00:00</td>\n",
       "      <td>1</td>\n",
       "      <td>Auto Theft</td>\n",
       "      <td>11900-11999</td>\n",
       "      <td>GLEN BAY</td>\n",
       "      <td>CT</td>\n",
       "      <td>-</td>\n",
       "      <td>UNK</td>\n",
       "      <td>Road, Street, or Sidewalk</td>\n",
       "    </tr>\n",
       "  </tbody>\n",
       "</table>\n",
       "<p>122693 rows × 9 columns</p>\n",
       "</div>"
      ],
      "text/plain": [
       "                 date_time  offenses        offense_type  block_range  \\\n",
       "0      2016-04-10 20:00:00         1             Robbery    4000-4099   \n",
       "1      2016-04-11 19:00:00         2  Aggravated Assault      400-499   \n",
       "2      2016-04-12 20:00:00         1             Robbery    1900-1999   \n",
       "3      2016-04-13 02:00:00         1          Auto Theft      100-199   \n",
       "4      2016-04-14 03:00:00         1            Burglary    3300-3399   \n",
       "...                    ...       ...                 ...          ...   \n",
       "122688 2016-09-14 14:00:00         1               Theft    7900-7999   \n",
       "122689 2016-09-14 16:00:00         1          Auto Theft      700-799   \n",
       "122690 2016-09-13 20:00:00         1               Theft    8300-8399   \n",
       "122691 2016-09-13 07:00:00         1               Theft  17100-17199   \n",
       "122692 2016-09-30 15:00:00         1          Auto Theft  11900-11999   \n",
       "\n",
       "       street_name type suffix   beat                        premise  \n",
       "0            MILBY    -      -  10H10      Road, Street, or Sidewalk  \n",
       "1             YORK    -      -  10H10      Road, Street, or Sidewalk  \n",
       "2          RUNNELS    -      -  10H10                      Apartment  \n",
       "3           SIDNEY    -      -  10H10                       Driveway  \n",
       "4            CANAL   ST      -  10H10         Service or Gas Station  \n",
       "...            ...  ...    ...    ...                            ...  \n",
       "122688     FM 1960   RD      -    UNK              Other Parking Lot  \n",
       "122689   RICHCREST   DR      -    UNK  Other, Unknown, or Not Listed  \n",
       "122690     FM 1960   RD      -    UNK     Hotel or Motel Parking Lot  \n",
       "122691      EASTEX  FWY      -    UNK              Construction Site  \n",
       "122692    GLEN BAY   CT      -    UNK      Road, Street, or Sidewalk  \n",
       "\n",
       "[122693 rows x 9 columns]"
      ]
     },
     "execution_count": 23,
     "metadata": {},
     "output_type": "execute_result"
    }
   ],
   "source": [
    "df"
   ]
  },
  {
   "cell_type": "code",
   "execution_count": null,
   "metadata": {},
   "outputs": [],
   "source": []
  }
 ],
 "metadata": {
  "kernelspec": {
   "display_name": "Python 3",
   "language": "python",
   "name": "python3"
  },
  "language_info": {
   "codemirror_mode": {
    "name": "ipython",
    "version": 3
   },
   "file_extension": ".py",
   "mimetype": "text/x-python",
   "name": "python",
   "nbconvert_exporter": "python",
   "pygments_lexer": "ipython3",
   "version": "3.8.5"
  }
 },
 "nbformat": 4,
 "nbformat_minor": 4
}
