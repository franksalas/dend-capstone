{
 "cells": [
  {
   "cell_type": "code",
   "execution_count": 1,
   "metadata": {},
   "outputs": [
    {
     "data": {
      "text/html": [
       "        <script type=\"text/javascript\">\n",
       "        window.PlotlyConfig = {MathJaxConfig: 'local'};\n",
       "        if (window.MathJax) {MathJax.Hub.Config({SVG: {font: \"STIX-Web\"}});}\n",
       "        if (typeof require !== 'undefined') {\n",
       "        require.undef(\"plotly\");\n",
       "        requirejs.config({\n",
       "            paths: {\n",
       "                'plotly': ['https://cdn.plot.ly/plotly-latest.min']\n",
       "            }\n",
       "        });\n",
       "        require(['plotly'], function(Plotly) {\n",
       "            window._Plotly = Plotly;\n",
       "        });\n",
       "        }\n",
       "        </script>\n",
       "        "
      ]
     },
     "metadata": {},
     "output_type": "display_data"
    },
    {
     "name": "stdout",
     "output_type": "stream",
     "text": [
      "\n",
      "python\t3.8.5 (default, Sep  4 2020, 07:30:14) \n",
      "[GCC 7.3.0]\n",
      "---------------------\n",
      "Versions:\n",
      "----------------------\n",
      "pandas      1.1.2\n",
      "numpy       1.19.1\n",
      "matplotlib  3.3.1\n",
      "seaborn     0.11.0\n",
      "plotly      4.11.0\n",
      "----------------------\n",
      "\n",
      "\n",
      "Loaded Libraries\n",
      "-------------------\n",
      "import pandas as pd\n",
      "import numpy as np\n",
      "import sys,os\n",
      "import re\n",
      "import glob\n",
      "import pickle\n",
      "import seaborn as sns\n",
      "import matplotlib.pyplot as plt\n",
      "import plotly\n",
      "import plotly.graph_objs as go\n",
      "from plotly.offline import download_plotlyjs, init_notebook_mode, plot, iplot\n",
      "init_notebook_mode(connected=True)\n",
      "----------------\n",
      "\n",
      "\n",
      "GLOBAL VARIABLES\n",
      "--------------------------\n",
      "HERE_DIR: list current directory path\n",
      "RAW_DIR: list files in `data\\raw` directory\n",
      "INTER_DIR: list files in `data\\interim` directory\n",
      "FINAL_DIR: list files in `data\\final` directory\n",
      "SRC_DIR: list files in `src\\` directory\n",
      "------------------------------\n",
      "\n",
      "# SAVE PLOTS\n",
      "To save a plot call\n",
      "`save_plots(fig_variable,'name_of_plot')`\n",
      "\n",
      "source file: src/start.py\n",
      "\n",
      "\n"
     ]
    }
   ],
   "source": [
    "%run ../src/start.py"
   ]
  },
  {
   "cell_type": "code",
   "execution_count": 2,
   "metadata": {},
   "outputs": [
    {
     "name": "stdout",
     "output_type": "stream",
     "text": [
      " \u001b[0m\u001b[01;32mapr18.xlsx\u001b[0m*   \u001b[01;32mfeb18.xlsx\u001b[0m*   \u001b[01;32mjan18.xlsx\u001b[0m*  \u001b[01;32m'mar 18.xlsx'\u001b[0m*   \u001b[01;32mmay18.xlsx\u001b[0m*\r\n"
     ]
    }
   ],
   "source": [
    "ls ../data/raw/crime_data/2018/csv"
   ]
  },
  {
   "cell_type": "code",
   "execution_count": null,
   "metadata": {},
   "outputs": [],
   "source": []
  },
  {
   "cell_type": "code",
   "execution_count": 3,
   "metadata": {},
   "outputs": [],
   "source": [
    "path = '2018/csv'\n",
    "raw_directory = os.path.join('..','data','raw','crime_data',f'{path}/')"
   ]
  },
  {
   "cell_type": "code",
   "execution_count": 4,
   "metadata": {},
   "outputs": [],
   "source": [
    "all_files = glob.glob(os.path.join(raw_directory, \"*.xlsx\")) # change \"*.xlsx\" for excel files\n",
    "df_from_each_file = (pd.read_excel(f, engine='openpyxl') for f in all_files)    # change to `pd.read_excel(f)` for excel files\n",
    "df   = pd.concat(df_from_each_file, ignore_index=True)     # combine into one large dataframe\n",
    "\n",
    "# cleanup columns\n",
    "#df.columns = df.columns.str.lower().str.replace(' ','_').str.replace('\\n','_').str.strip()\n",
    "# df.columns = df.columns.str.strip().str.lower().str.replace('-', '_').str.replace(' ', '_').str.replace('(', '').str.replace(')', '')"
   ]
  },
  {
   "cell_type": "code",
   "execution_count": 5,
   "metadata": {},
   "outputs": [
    {
     "data": {
      "text/html": [
       "<div>\n",
       "<style scoped>\n",
       "    .dataframe tbody tr th:only-of-type {\n",
       "        vertical-align: middle;\n",
       "    }\n",
       "\n",
       "    .dataframe tbody tr th {\n",
       "        vertical-align: top;\n",
       "    }\n",
       "\n",
       "    .dataframe thead th {\n",
       "        text-align: right;\n",
       "    }\n",
       "</style>\n",
       "<table border=\"1\" class=\"dataframe\">\n",
       "  <thead>\n",
       "    <tr style=\"text-align: right;\">\n",
       "      <th></th>\n",
       "      <th>Date</th>\n",
       "      <th>Hour</th>\n",
       "      <th>Offense Type</th>\n",
       "      <th>Beat</th>\n",
       "      <th>Premise</th>\n",
       "      <th>Block Range</th>\n",
       "      <th>Street Name</th>\n",
       "      <th>Type</th>\n",
       "      <th>Suffix</th>\n",
       "      <th>Offenses</th>\n",
       "    </tr>\n",
       "  </thead>\n",
       "  <tbody>\n",
       "    <tr>\n",
       "      <th>0</th>\n",
       "      <td>04/03/2018</td>\n",
       "      <td>14</td>\n",
       "      <td>Theft</td>\n",
       "      <td>10H10</td>\n",
       "      <td>Commercial Building</td>\n",
       "      <td>5900-5999</td>\n",
       "      <td>HARRISBURG</td>\n",
       "      <td>-</td>\n",
       "      <td>-</td>\n",
       "      <td>1</td>\n",
       "    </tr>\n",
       "    <tr>\n",
       "      <th>1</th>\n",
       "      <td>04/05/2018</td>\n",
       "      <td>7</td>\n",
       "      <td>Theft</td>\n",
       "      <td>10H10</td>\n",
       "      <td>Road, Street, or Sidewalk</td>\n",
       "      <td>300-399</td>\n",
       "      <td>DELMAR</td>\n",
       "      <td>ST</td>\n",
       "      <td>-</td>\n",
       "      <td>1</td>\n",
       "    </tr>\n",
       "    <tr>\n",
       "      <th>2</th>\n",
       "      <td>04/05/2018</td>\n",
       "      <td>17</td>\n",
       "      <td>Theft</td>\n",
       "      <td>10H10</td>\n",
       "      <td>Apartment</td>\n",
       "      <td>2100-2199</td>\n",
       "      <td>RUNNELS</td>\n",
       "      <td>-</td>\n",
       "      <td>-</td>\n",
       "      <td>1</td>\n",
       "    </tr>\n",
       "    <tr>\n",
       "      <th>3</th>\n",
       "      <td>04/05/2018</td>\n",
       "      <td>17</td>\n",
       "      <td>Theft</td>\n",
       "      <td>10H10</td>\n",
       "      <td>Bar or Night Club Parking Lot</td>\n",
       "      <td>2400-2499</td>\n",
       "      <td>NAVIGATION</td>\n",
       "      <td>BLVD</td>\n",
       "      <td>-</td>\n",
       "      <td>1</td>\n",
       "    </tr>\n",
       "    <tr>\n",
       "      <th>4</th>\n",
       "      <td>04/07/2018</td>\n",
       "      <td>4</td>\n",
       "      <td>Aggravated Assault</td>\n",
       "      <td>10H10</td>\n",
       "      <td>Residence or House</td>\n",
       "      <td>3300-3399</td>\n",
       "      <td>NAVIGATION</td>\n",
       "      <td>BLVD</td>\n",
       "      <td>-</td>\n",
       "      <td>1</td>\n",
       "    </tr>\n",
       "  </tbody>\n",
       "</table>\n",
       "</div>"
      ],
      "text/plain": [
       "         Date  Hour        Offense Type   Beat                        Premise  \\\n",
       "0  04/03/2018    14               Theft  10H10            Commercial Building   \n",
       "1  04/05/2018     7               Theft  10H10      Road, Street, or Sidewalk   \n",
       "2  04/05/2018    17               Theft  10H10                      Apartment   \n",
       "3  04/05/2018    17               Theft  10H10  Bar or Night Club Parking Lot   \n",
       "4  04/07/2018     4  Aggravated Assault  10H10             Residence or House   \n",
       "\n",
       "  Block Range Street Name  Type Suffix  Offenses  \n",
       "0   5900-5999  HARRISBURG     -      -         1  \n",
       "1     300-399      DELMAR    ST      -         1  \n",
       "2   2100-2199     RUNNELS     -      -         1  \n",
       "3   2400-2499  NAVIGATION  BLVD      -         1  \n",
       "4   3300-3399  NAVIGATION  BLVD      -         1  "
      ]
     },
     "execution_count": 5,
     "metadata": {},
     "output_type": "execute_result"
    }
   ],
   "source": [
    "df.head()"
   ]
  },
  {
   "cell_type": "code",
   "execution_count": 6,
   "metadata": {},
   "outputs": [
    {
     "name": "stdout",
     "output_type": "stream",
     "text": [
      "<class 'pandas.core.frame.DataFrame'>\n",
      "RangeIndex: 47015 entries, 0 to 47014\n",
      "Data columns (total 10 columns):\n",
      " #   Column        Non-Null Count  Dtype \n",
      "---  ------        --------------  ----- \n",
      " 0   Date          47015 non-null  object\n",
      " 1   Hour          47015 non-null  int64 \n",
      " 2   Offense Type  47015 non-null  object\n",
      " 3   Beat          47015 non-null  object\n",
      " 4   Premise       47015 non-null  object\n",
      " 5   Block Range   47015 non-null  object\n",
      " 6   Street Name   47014 non-null  object\n",
      " 7   Type          47015 non-null  object\n",
      " 8   Suffix        47015 non-null  object\n",
      " 9   Offenses      47015 non-null  int64 \n",
      "dtypes: int64(2), object(8)\n",
      "memory usage: 3.6+ MB\n"
     ]
    }
   ],
   "source": [
    "df.info()"
   ]
  },
  {
   "cell_type": "markdown",
   "metadata": {},
   "source": [
    "# Show null data"
   ]
  },
  {
   "cell_type": "code",
   "execution_count": 7,
   "metadata": {},
   "outputs": [
    {
     "data": {
      "text/plain": [
       "Date            0\n",
       "Hour            0\n",
       "Offense Type    0\n",
       "Beat            0\n",
       "Premise         0\n",
       "Block Range     0\n",
       "Street Name     1\n",
       "Type            0\n",
       "Suffix          0\n",
       "Offenses        0\n",
       "dtype: int64"
      ]
     },
     "execution_count": 7,
     "metadata": {},
     "output_type": "execute_result"
    }
   ],
   "source": [
    "df.apply(lambda x: sum(x.isnull()))"
   ]
  },
  {
   "cell_type": "code",
   "execution_count": 8,
   "metadata": {},
   "outputs": [
    {
     "data": {
      "text/html": [
       "<div>\n",
       "<style scoped>\n",
       "    .dataframe tbody tr th:only-of-type {\n",
       "        vertical-align: middle;\n",
       "    }\n",
       "\n",
       "    .dataframe tbody tr th {\n",
       "        vertical-align: top;\n",
       "    }\n",
       "\n",
       "    .dataframe thead th {\n",
       "        text-align: right;\n",
       "    }\n",
       "</style>\n",
       "<table border=\"1\" class=\"dataframe\">\n",
       "  <thead>\n",
       "    <tr style=\"text-align: right;\">\n",
       "      <th></th>\n",
       "      <th>null_percent</th>\n",
       "    </tr>\n",
       "  </thead>\n",
       "  <tbody>\n",
       "    <tr>\n",
       "      <th>Date</th>\n",
       "      <td>0.0</td>\n",
       "    </tr>\n",
       "    <tr>\n",
       "      <th>Hour</th>\n",
       "      <td>0.0</td>\n",
       "    </tr>\n",
       "    <tr>\n",
       "      <th>Offense Type</th>\n",
       "      <td>0.0</td>\n",
       "    </tr>\n",
       "    <tr>\n",
       "      <th>Beat</th>\n",
       "      <td>0.0</td>\n",
       "    </tr>\n",
       "    <tr>\n",
       "      <th>Premise</th>\n",
       "      <td>0.0</td>\n",
       "    </tr>\n",
       "    <tr>\n",
       "      <th>Block Range</th>\n",
       "      <td>0.0</td>\n",
       "    </tr>\n",
       "    <tr>\n",
       "      <th>Street Name</th>\n",
       "      <td>0.0</td>\n",
       "    </tr>\n",
       "    <tr>\n",
       "      <th>Type</th>\n",
       "      <td>0.0</td>\n",
       "    </tr>\n",
       "    <tr>\n",
       "      <th>Suffix</th>\n",
       "      <td>0.0</td>\n",
       "    </tr>\n",
       "    <tr>\n",
       "      <th>Offenses</th>\n",
       "      <td>0.0</td>\n",
       "    </tr>\n",
       "  </tbody>\n",
       "</table>\n",
       "</div>"
      ],
      "text/plain": [
       "              null_percent\n",
       "Date                   0.0\n",
       "Hour                   0.0\n",
       "Offense Type           0.0\n",
       "Beat                   0.0\n",
       "Premise                0.0\n",
       "Block Range            0.0\n",
       "Street Name            0.0\n",
       "Type                   0.0\n",
       "Suffix                 0.0\n",
       "Offenses               0.0"
      ]
     },
     "execution_count": 8,
     "metadata": {},
     "output_type": "execute_result"
    }
   ],
   "source": [
    "# create null percentage of column as dataframe\n",
    "null_per_df = pd.DataFrame(df.isna().mean().round(4) * 100)\n",
    "# rename columns\n",
    "null_per_df.rename(columns={'index': 'col_name', 0: 'null_percent'}, inplace=True)\n",
    "\n",
    "# filter data <20% null values\n",
    "per_filter = null_per_df.null_percent<=90\n",
    "null_per_df[per_filter].sort_values(by='null_percent',ascending=False)"
   ]
  },
  {
   "cell_type": "code",
   "execution_count": 9,
   "metadata": {},
   "outputs": [
    {
     "data": {
      "image/png": "[encoded data removed]",
      "text/plain": [
       "<Figure size 1080x288 with 1 Axes>"
      ]
     },
     "metadata": {},
     "output_type": "display_data"
    }
   ],
   "source": [
    "plt.figure(figsize=(15,4))\n",
    "sns.heatmap(df.isnull(),yticklabels=False,cbar=False,cmap='viridis')\n",
    "plt.title('Missing data')\n",
    "plt.show()"
   ]
  },
  {
   "cell_type": "code",
   "execution_count": 10,
   "metadata": {},
   "outputs": [
    {
     "data": {
      "text/plain": [
       "['Date',\n",
       " 'Hour',\n",
       " 'Offense Type',\n",
       " 'Beat',\n",
       " 'Premise',\n",
       " 'Block Range',\n",
       " 'Street Name',\n",
       " 'Type',\n",
       " 'Suffix',\n",
       " 'Offenses']"
      ]
     },
     "execution_count": 10,
     "metadata": {},
     "output_type": "execute_result"
    }
   ],
   "source": [
    "df.columns.tolist()"
   ]
  },
  {
   "cell_type": "code",
   "execution_count": 12,
   "metadata": {},
   "outputs": [],
   "source": [
    "# df['block_range'] = pd.concat([df['Block Range'].dropna(),\n",
    "#                               df['BlockRange'].dropna()]).reindex_like(df)\n",
    "\n",
    "# df['street_name'] = pd.concat([df['Street Name'].dropna(),\n",
    "#                               df['StreetName'].dropna()]).reindex_like(df)\n",
    "\n",
    "# df['offenses'] = pd.concat([df['. offenses'].dropna(),\n",
    "#                               df['Offenses'].dropna()]).reindex_like(df)"
   ]
  },
  {
   "cell_type": "code",
   "execution_count": 13,
   "metadata": {},
   "outputs": [],
   "source": [
    "# # combine columns into a new one\n",
    "# df['offenses'] = pd.concat([df['. Of Offenses'].dropna(),\n",
    "#                               df['. of Offenses'].dropna()]).reindex_like(df)\n",
    "\n",
    "# # drop columns\n",
    "# df = df.drop(['. Of Offenses','. of Offenses', 'Field11',\n",
    "#  'Field12',\n",
    "#  'Field13'], axis = 1)"
   ]
  },
  {
   "cell_type": "code",
   "execution_count": null,
   "metadata": {},
   "outputs": [],
   "source": [
    "df = df.drop([  'Block Range',\n",
    " 'BlockRange','Street Name','StreetName','. offenses','Offenses'], axis = 1)"
   ]
  },
  {
   "cell_type": "code",
   "execution_count": 14,
   "metadata": {},
   "outputs": [],
   "source": [
    "df.columns = df.columns.str.lower().str.replace(' ','_').str.replace('\\n','_').str.strip()"
   ]
  },
  {
   "cell_type": "code",
   "execution_count": 15,
   "metadata": {},
   "outputs": [
    {
     "data": {
      "text/plain": [
       "date            0\n",
       "hour            0\n",
       "offense_type    0\n",
       "beat            0\n",
       "premise         0\n",
       "block_range     0\n",
       "street_name     1\n",
       "type            0\n",
       "suffix          0\n",
       "offenses        0\n",
       "dtype: int64"
      ]
     },
     "execution_count": 15,
     "metadata": {},
     "output_type": "execute_result"
    }
   ],
   "source": [
    "df.apply(lambda x: sum(x.isnull()))"
   ]
  },
  {
   "cell_type": "code",
   "execution_count": 16,
   "metadata": {},
   "outputs": [
    {
     "data": {
      "image/png": "[encoded data removed]",
      "text/plain": [
       "<Figure size 1080x288 with 1 Axes>"
      ]
     },
     "metadata": {},
     "output_type": "display_data"
    }
   ],
   "source": [
    "plt.figure(figsize=(15,4))\n",
    "sns.heatmap(df.isnull(),yticklabels=False,cbar=False,cmap='viridis')\n",
    "plt.title('Missing data')\n",
    "plt.show()"
   ]
  },
  {
   "cell_type": "code",
   "execution_count": null,
   "metadata": {},
   "outputs": [],
   "source": [
    "df.head()"
   ]
  },
  {
   "cell_type": "code",
   "execution_count": null,
   "metadata": {},
   "outputs": [],
   "source": [
    "df.info()"
   ]
  },
  {
   "cell_type": "markdown",
   "metadata": {},
   "source": [
    "## Combine date & hour to one column"
   ]
  },
  {
   "cell_type": "code",
   "execution_count": null,
   "metadata": {},
   "outputs": [],
   "source": [
    "df[['date','hour']]"
   ]
  },
  {
   "cell_type": "code",
   "execution_count": 17,
   "metadata": {},
   "outputs": [],
   "source": [
    "# convert two columns into one datetime\n",
    "df['date_time'] = pd.to_datetime(df['date']) + pd.to_timedelta(df['hour'], unit='h')\n",
    "\n",
    "# drop columns\n",
    "df = df.drop(['date','hour'], axis = 1)"
   ]
  },
  {
   "cell_type": "code",
   "execution_count": 18,
   "metadata": {},
   "outputs": [
    {
     "data": {
      "text/html": [
       "<div>\n",
       "<style scoped>\n",
       "    .dataframe tbody tr th:only-of-type {\n",
       "        vertical-align: middle;\n",
       "    }\n",
       "\n",
       "    .dataframe tbody tr th {\n",
       "        vertical-align: top;\n",
       "    }\n",
       "\n",
       "    .dataframe thead th {\n",
       "        text-align: right;\n",
       "    }\n",
       "</style>\n",
       "<table border=\"1\" class=\"dataframe\">\n",
       "  <thead>\n",
       "    <tr style=\"text-align: right;\">\n",
       "      <th></th>\n",
       "      <th>offense_type</th>\n",
       "      <th>beat</th>\n",
       "      <th>premise</th>\n",
       "      <th>block_range</th>\n",
       "      <th>street_name</th>\n",
       "      <th>type</th>\n",
       "      <th>suffix</th>\n",
       "      <th>offenses</th>\n",
       "      <th>date_time</th>\n",
       "    </tr>\n",
       "  </thead>\n",
       "  <tbody>\n",
       "    <tr>\n",
       "      <th>0</th>\n",
       "      <td>Theft</td>\n",
       "      <td>10H10</td>\n",
       "      <td>Commercial Building</td>\n",
       "      <td>5900-5999</td>\n",
       "      <td>HARRISBURG</td>\n",
       "      <td>-</td>\n",
       "      <td>-</td>\n",
       "      <td>1</td>\n",
       "      <td>2018-04-03 14:00:00</td>\n",
       "    </tr>\n",
       "    <tr>\n",
       "      <th>1</th>\n",
       "      <td>Theft</td>\n",
       "      <td>10H10</td>\n",
       "      <td>Road, Street, or Sidewalk</td>\n",
       "      <td>300-399</td>\n",
       "      <td>DELMAR</td>\n",
       "      <td>ST</td>\n",
       "      <td>-</td>\n",
       "      <td>1</td>\n",
       "      <td>2018-04-05 07:00:00</td>\n",
       "    </tr>\n",
       "    <tr>\n",
       "      <th>2</th>\n",
       "      <td>Theft</td>\n",
       "      <td>10H10</td>\n",
       "      <td>Apartment</td>\n",
       "      <td>2100-2199</td>\n",
       "      <td>RUNNELS</td>\n",
       "      <td>-</td>\n",
       "      <td>-</td>\n",
       "      <td>1</td>\n",
       "      <td>2018-04-05 17:00:00</td>\n",
       "    </tr>\n",
       "    <tr>\n",
       "      <th>3</th>\n",
       "      <td>Theft</td>\n",
       "      <td>10H10</td>\n",
       "      <td>Bar or Night Club Parking Lot</td>\n",
       "      <td>2400-2499</td>\n",
       "      <td>NAVIGATION</td>\n",
       "      <td>BLVD</td>\n",
       "      <td>-</td>\n",
       "      <td>1</td>\n",
       "      <td>2018-04-05 17:00:00</td>\n",
       "    </tr>\n",
       "    <tr>\n",
       "      <th>4</th>\n",
       "      <td>Aggravated Assault</td>\n",
       "      <td>10H10</td>\n",
       "      <td>Residence or House</td>\n",
       "      <td>3300-3399</td>\n",
       "      <td>NAVIGATION</td>\n",
       "      <td>BLVD</td>\n",
       "      <td>-</td>\n",
       "      <td>1</td>\n",
       "      <td>2018-04-07 04:00:00</td>\n",
       "    </tr>\n",
       "  </tbody>\n",
       "</table>\n",
       "</div>"
      ],
      "text/plain": [
       "         offense_type   beat                        premise block_range  \\\n",
       "0               Theft  10H10            Commercial Building   5900-5999   \n",
       "1               Theft  10H10      Road, Street, or Sidewalk     300-399   \n",
       "2               Theft  10H10                      Apartment   2100-2199   \n",
       "3               Theft  10H10  Bar or Night Club Parking Lot   2400-2499   \n",
       "4  Aggravated Assault  10H10             Residence or House   3300-3399   \n",
       "\n",
       "  street_name  type suffix  offenses           date_time  \n",
       "0  HARRISBURG     -      -         1 2018-04-03 14:00:00  \n",
       "1      DELMAR    ST      -         1 2018-04-05 07:00:00  \n",
       "2     RUNNELS     -      -         1 2018-04-05 17:00:00  \n",
       "3  NAVIGATION  BLVD      -         1 2018-04-05 17:00:00  \n",
       "4  NAVIGATION  BLVD      -         1 2018-04-07 04:00:00  "
      ]
     },
     "execution_count": 18,
     "metadata": {},
     "output_type": "execute_result"
    }
   ],
   "source": [
    "df.head()"
   ]
  },
  {
   "cell_type": "code",
   "execution_count": 19,
   "metadata": {},
   "outputs": [
    {
     "name": "stdout",
     "output_type": "stream",
     "text": [
      "<class 'pandas.core.frame.DataFrame'>\n",
      "RangeIndex: 47015 entries, 0 to 47014\n",
      "Data columns (total 9 columns):\n",
      " #   Column        Non-Null Count  Dtype         \n",
      "---  ------        --------------  -----         \n",
      " 0   offense_type  47015 non-null  object        \n",
      " 1   beat          47015 non-null  object        \n",
      " 2   premise       47015 non-null  object        \n",
      " 3   block_range   47015 non-null  object        \n",
      " 4   street_name   47014 non-null  object        \n",
      " 5   type          47015 non-null  object        \n",
      " 6   suffix        47015 non-null  object        \n",
      " 7   offenses      47015 non-null  int64         \n",
      " 8   date_time     47015 non-null  datetime64[ns]\n",
      "dtypes: datetime64[ns](1), int64(1), object(7)\n",
      "memory usage: 3.2+ MB\n"
     ]
    }
   ],
   "source": [
    "df.info()"
   ]
  },
  {
   "cell_type": "code",
   "execution_count": 20,
   "metadata": {},
   "outputs": [],
   "source": [
    "#change column name\n",
    "\n",
    "# df.rename(columns={\n",
    "#     '._offenses': 'offenses',\n",
    "# }, inplace=True)\n",
    "\n",
    "# convert offenses to int\n",
    "\n",
    "df['offenses'] = df['offenses'].astype('int64')"
   ]
  },
  {
   "cell_type": "code",
   "execution_count": 21,
   "metadata": {},
   "outputs": [
    {
     "name": "stdout",
     "output_type": "stream",
     "text": [
      "<class 'pandas.core.frame.DataFrame'>\n",
      "RangeIndex: 47015 entries, 0 to 47014\n",
      "Data columns (total 9 columns):\n",
      " #   Column        Non-Null Count  Dtype         \n",
      "---  ------        --------------  -----         \n",
      " 0   offense_type  47015 non-null  object        \n",
      " 1   beat          47015 non-null  object        \n",
      " 2   premise       47015 non-null  object        \n",
      " 3   block_range   47015 non-null  object        \n",
      " 4   street_name   47014 non-null  object        \n",
      " 5   type          47015 non-null  object        \n",
      " 6   suffix        47015 non-null  object        \n",
      " 7   offenses      47015 non-null  int64         \n",
      " 8   date_time     47015 non-null  datetime64[ns]\n",
      "dtypes: datetime64[ns](1), int64(1), object(7)\n",
      "memory usage: 3.2+ MB\n"
     ]
    }
   ],
   "source": [
    "df.info()"
   ]
  },
  {
   "cell_type": "code",
   "execution_count": 22,
   "metadata": {},
   "outputs": [
    {
     "data": {
      "text/html": [
       "<div>\n",
       "<style scoped>\n",
       "    .dataframe tbody tr th:only-of-type {\n",
       "        vertical-align: middle;\n",
       "    }\n",
       "\n",
       "    .dataframe tbody tr th {\n",
       "        vertical-align: top;\n",
       "    }\n",
       "\n",
       "    .dataframe thead th {\n",
       "        text-align: right;\n",
       "    }\n",
       "</style>\n",
       "<table border=\"1\" class=\"dataframe\">\n",
       "  <thead>\n",
       "    <tr style=\"text-align: right;\">\n",
       "      <th></th>\n",
       "      <th>offense_type</th>\n",
       "      <th>beat</th>\n",
       "      <th>premise</th>\n",
       "      <th>block_range</th>\n",
       "      <th>street_name</th>\n",
       "      <th>type</th>\n",
       "      <th>suffix</th>\n",
       "      <th>offenses</th>\n",
       "      <th>date_time</th>\n",
       "    </tr>\n",
       "  </thead>\n",
       "  <tbody>\n",
       "    <tr>\n",
       "      <th>0</th>\n",
       "      <td>Theft</td>\n",
       "      <td>10H10</td>\n",
       "      <td>Commercial Building</td>\n",
       "      <td>5900-5999</td>\n",
       "      <td>HARRISBURG</td>\n",
       "      <td>-</td>\n",
       "      <td>-</td>\n",
       "      <td>1</td>\n",
       "      <td>2018-04-03 14:00:00</td>\n",
       "    </tr>\n",
       "    <tr>\n",
       "      <th>1</th>\n",
       "      <td>Theft</td>\n",
       "      <td>10H10</td>\n",
       "      <td>Road, Street, or Sidewalk</td>\n",
       "      <td>300-399</td>\n",
       "      <td>DELMAR</td>\n",
       "      <td>ST</td>\n",
       "      <td>-</td>\n",
       "      <td>1</td>\n",
       "      <td>2018-04-05 07:00:00</td>\n",
       "    </tr>\n",
       "    <tr>\n",
       "      <th>2</th>\n",
       "      <td>Theft</td>\n",
       "      <td>10H10</td>\n",
       "      <td>Apartment</td>\n",
       "      <td>2100-2199</td>\n",
       "      <td>RUNNELS</td>\n",
       "      <td>-</td>\n",
       "      <td>-</td>\n",
       "      <td>1</td>\n",
       "      <td>2018-04-05 17:00:00</td>\n",
       "    </tr>\n",
       "    <tr>\n",
       "      <th>3</th>\n",
       "      <td>Theft</td>\n",
       "      <td>10H10</td>\n",
       "      <td>Bar or Night Club Parking Lot</td>\n",
       "      <td>2400-2499</td>\n",
       "      <td>NAVIGATION</td>\n",
       "      <td>BLVD</td>\n",
       "      <td>-</td>\n",
       "      <td>1</td>\n",
       "      <td>2018-04-05 17:00:00</td>\n",
       "    </tr>\n",
       "    <tr>\n",
       "      <th>4</th>\n",
       "      <td>Aggravated Assault</td>\n",
       "      <td>10H10</td>\n",
       "      <td>Residence or House</td>\n",
       "      <td>3300-3399</td>\n",
       "      <td>NAVIGATION</td>\n",
       "      <td>BLVD</td>\n",
       "      <td>-</td>\n",
       "      <td>1</td>\n",
       "      <td>2018-04-07 04:00:00</td>\n",
       "    </tr>\n",
       "  </tbody>\n",
       "</table>\n",
       "</div>"
      ],
      "text/plain": [
       "         offense_type   beat                        premise block_range  \\\n",
       "0               Theft  10H10            Commercial Building   5900-5999   \n",
       "1               Theft  10H10      Road, Street, or Sidewalk     300-399   \n",
       "2               Theft  10H10                      Apartment   2100-2199   \n",
       "3               Theft  10H10  Bar or Night Club Parking Lot   2400-2499   \n",
       "4  Aggravated Assault  10H10             Residence or House   3300-3399   \n",
       "\n",
       "  street_name  type suffix  offenses           date_time  \n",
       "0  HARRISBURG     -      -         1 2018-04-03 14:00:00  \n",
       "1      DELMAR    ST      -         1 2018-04-05 07:00:00  \n",
       "2     RUNNELS     -      -         1 2018-04-05 17:00:00  \n",
       "3  NAVIGATION  BLVD      -         1 2018-04-05 17:00:00  \n",
       "4  NAVIGATION  BLVD      -         1 2018-04-07 04:00:00  "
      ]
     },
     "execution_count": 22,
     "metadata": {},
     "output_type": "execute_result"
    }
   ],
   "source": [
    "df.head()"
   ]
  },
  {
   "cell_type": "code",
   "execution_count": null,
   "metadata": {},
   "outputs": [],
   "source": []
  },
  {
   "cell_type": "markdown",
   "metadata": {},
   "source": [
    "# Inspect evry column"
   ]
  },
  {
   "cell_type": "code",
   "execution_count": null,
   "metadata": {},
   "outputs": [],
   "source": [
    "def create_new_cell(contents):\n",
    "    '''created new jupyter cells by inputing a list of columns\n",
    "    outputs'''\n",
    "    from IPython.core.getipython import get_ipython\n",
    "    shell = get_ipython()\n",
    "    payload = dict(\n",
    "        source='set_next_input',\n",
    "        #text=f'#column:{contents}\\ndf.{contents}.value_counts(dropna=False)[:10]'.format(contents),\n",
    "        text=f'# column:{contents}\\ndf.{contents}.value_counts(dropna=False)[:10]',\n",
    "        replace=False,)\n",
    "    shell.payload_manager.write_payload(payload, single=False)\n",
    "\n",
    "    \n",
    "def strip_col(col):\n",
    "    print(f'column:{col}')\n",
    "    print('before:{}'.format(len(df[col].value_counts(dropna=False))))\n",
    "    df.col = df[col].str.strip()\n",
    "    print('before:{}'.format(len(df[col].value_counts(dropna=False))))    \n",
    "    \n",
    "def lower_col(col):\n",
    "    print(f'column:{col}')\n",
    "    print('before:{}'.format(len(df[col].value_counts(dropna=False))))\n",
    "    df.col = df[col].str.lower()\n",
    "    print('before:{}'.format(len(df[col].value_counts(dropna=False))))       \n",
    "    \n",
    "    \n",
    "    \n",
    "def capital_col(col):\n",
    "    print(f'column:{col}')\n",
    "    print('before:{}'.format(len(df[col].value_counts(dropna=False))))\n",
    "    df.col = df[col].str.capitalize()\n",
    "    print('before:{}'.format(len(df[col].value_counts(dropna=False))))      "
   ]
  },
  {
   "cell_type": "code",
   "execution_count": null,
   "metadata": {},
   "outputs": [],
   "source": [
    "col_list = df.columns.tolist()\n",
    "col_list"
   ]
  },
  {
   "cell_type": "code",
   "execution_count": null,
   "metadata": {},
   "outputs": [],
   "source": [
    "for col in col_list:\n",
    "    create_new_cell(col)"
   ]
  },
  {
   "cell_type": "code",
   "execution_count": null,
   "metadata": {},
   "outputs": [],
   "source": [
    "# column:date_time\n",
    "df.date_time.value_counts(dropna=False)[:10]"
   ]
  },
  {
   "cell_type": "code",
   "execution_count": null,
   "metadata": {},
   "outputs": [],
   "source": [
    "# column:offenses\n",
    "df.offenses.value_counts(dropna=False)[:10]"
   ]
  },
  {
   "cell_type": "code",
   "execution_count": null,
   "metadata": {},
   "outputs": [],
   "source": [
    "# column:suffix\n",
    "df.suffix.value_counts(dropna=False)[:10]"
   ]
  },
  {
   "cell_type": "code",
   "execution_count": null,
   "metadata": {},
   "outputs": [],
   "source": [
    "# column:type\n",
    "df.type.value_counts(dropna=False)[:10]"
   ]
  },
  {
   "cell_type": "code",
   "execution_count": null,
   "metadata": {},
   "outputs": [],
   "source": [
    "# column:street_name\n",
    "df.street_name.value_counts(dropna=False)[:10]"
   ]
  },
  {
   "cell_type": "code",
   "execution_count": null,
   "metadata": {},
   "outputs": [],
   "source": [
    "# column:block_range\n",
    "df.block_range.value_counts(dropna=False)[:10]"
   ]
  },
  {
   "cell_type": "code",
   "execution_count": null,
   "metadata": {},
   "outputs": [],
   "source": [
    "# column:premise\n",
    "df.premise.value_counts(dropna=False)[:10]"
   ]
  },
  {
   "cell_type": "code",
   "execution_count": null,
   "metadata": {},
   "outputs": [],
   "source": [
    "# column:beat\n",
    "df.beat.value_counts(dropna=False)[:10]"
   ]
  },
  {
   "cell_type": "code",
   "execution_count": null,
   "metadata": {},
   "outputs": [],
   "source": [
    "# column:offense_type\n",
    "df.offense_type.value_counts(dropna=False)[:10]"
   ]
  },
  {
   "cell_type": "code",
   "execution_count": null,
   "metadata": {},
   "outputs": [],
   "source": []
  },
  {
   "cell_type": "code",
   "execution_count": 23,
   "metadata": {},
   "outputs": [],
   "source": [
    "df.rename(columns={'blockrange': 'block_range', 'streetname': 'street_name'}, inplace=True)\n",
    "\n",
    "col_ord =['date_time','offenses','offense_type', 'block_range', 'street_name', 'type', 'suffix','beat', 'premise']\n",
    "df = df[col_ord]\n",
    "\n",
    "\n",
    "\n",
    "file = 'crime_2018.csv'\n",
    "directory_save = os.path.join('..','data','interim',f'{file}')\n",
    "df.to_csv(directory_save,index=False)"
   ]
  },
  {
   "cell_type": "code",
   "execution_count": 24,
   "metadata": {},
   "outputs": [
    {
     "data": {
      "text/html": [
       "<div>\n",
       "<style scoped>\n",
       "    .dataframe tbody tr th:only-of-type {\n",
       "        vertical-align: middle;\n",
       "    }\n",
       "\n",
       "    .dataframe tbody tr th {\n",
       "        vertical-align: top;\n",
       "    }\n",
       "\n",
       "    .dataframe thead th {\n",
       "        text-align: right;\n",
       "    }\n",
       "</style>\n",
       "<table border=\"1\" class=\"dataframe\">\n",
       "  <thead>\n",
       "    <tr style=\"text-align: right;\">\n",
       "      <th></th>\n",
       "      <th>date_time</th>\n",
       "      <th>offenses</th>\n",
       "      <th>offense_type</th>\n",
       "      <th>block_range</th>\n",
       "      <th>street_name</th>\n",
       "      <th>type</th>\n",
       "      <th>suffix</th>\n",
       "      <th>beat</th>\n",
       "      <th>premise</th>\n",
       "    </tr>\n",
       "  </thead>\n",
       "  <tbody>\n",
       "    <tr>\n",
       "      <th>0</th>\n",
       "      <td>2018-04-03 14:00:00</td>\n",
       "      <td>1</td>\n",
       "      <td>Theft</td>\n",
       "      <td>5900-5999</td>\n",
       "      <td>HARRISBURG</td>\n",
       "      <td>-</td>\n",
       "      <td>-</td>\n",
       "      <td>10H10</td>\n",
       "      <td>Commercial Building</td>\n",
       "    </tr>\n",
       "    <tr>\n",
       "      <th>1</th>\n",
       "      <td>2018-04-05 07:00:00</td>\n",
       "      <td>1</td>\n",
       "      <td>Theft</td>\n",
       "      <td>300-399</td>\n",
       "      <td>DELMAR</td>\n",
       "      <td>ST</td>\n",
       "      <td>-</td>\n",
       "      <td>10H10</td>\n",
       "      <td>Road, Street, or Sidewalk</td>\n",
       "    </tr>\n",
       "    <tr>\n",
       "      <th>2</th>\n",
       "      <td>2018-04-05 17:00:00</td>\n",
       "      <td>1</td>\n",
       "      <td>Theft</td>\n",
       "      <td>2100-2199</td>\n",
       "      <td>RUNNELS</td>\n",
       "      <td>-</td>\n",
       "      <td>-</td>\n",
       "      <td>10H10</td>\n",
       "      <td>Apartment</td>\n",
       "    </tr>\n",
       "    <tr>\n",
       "      <th>3</th>\n",
       "      <td>2018-04-05 17:00:00</td>\n",
       "      <td>1</td>\n",
       "      <td>Theft</td>\n",
       "      <td>2400-2499</td>\n",
       "      <td>NAVIGATION</td>\n",
       "      <td>BLVD</td>\n",
       "      <td>-</td>\n",
       "      <td>10H10</td>\n",
       "      <td>Bar or Night Club Parking Lot</td>\n",
       "    </tr>\n",
       "    <tr>\n",
       "      <th>4</th>\n",
       "      <td>2018-04-07 04:00:00</td>\n",
       "      <td>1</td>\n",
       "      <td>Aggravated Assault</td>\n",
       "      <td>3300-3399</td>\n",
       "      <td>NAVIGATION</td>\n",
       "      <td>BLVD</td>\n",
       "      <td>-</td>\n",
       "      <td>10H10</td>\n",
       "      <td>Residence or House</td>\n",
       "    </tr>\n",
       "    <tr>\n",
       "      <th>...</th>\n",
       "      <td>...</td>\n",
       "      <td>...</td>\n",
       "      <td>...</td>\n",
       "      <td>...</td>\n",
       "      <td>...</td>\n",
       "      <td>...</td>\n",
       "      <td>...</td>\n",
       "      <td>...</td>\n",
       "      <td>...</td>\n",
       "    </tr>\n",
       "    <tr>\n",
       "      <th>47010</th>\n",
       "      <td>2018-05-27 03:00:00</td>\n",
       "      <td>1</td>\n",
       "      <td>Robbery</td>\n",
       "      <td>4100-4199</td>\n",
       "      <td>DARWIN</td>\n",
       "      <td>-</td>\n",
       "      <td>-</td>\n",
       "      <td>UNK</td>\n",
       "      <td>Road, Street, or Sidewalk</td>\n",
       "    </tr>\n",
       "    <tr>\n",
       "      <th>47011</th>\n",
       "      <td>2018-05-28 22:00:00</td>\n",
       "      <td>1</td>\n",
       "      <td>Theft</td>\n",
       "      <td>17700-17799</td>\n",
       "      <td>EASTEX</td>\n",
       "      <td>FWY</td>\n",
       "      <td>-</td>\n",
       "      <td>UNK</td>\n",
       "      <td>Apartment Parking Lot</td>\n",
       "    </tr>\n",
       "    <tr>\n",
       "      <th>47012</th>\n",
       "      <td>2018-05-28 22:00:00</td>\n",
       "      <td>1</td>\n",
       "      <td>Theft</td>\n",
       "      <td>900-999</td>\n",
       "      <td>ST EMANUEL</td>\n",
       "      <td>-</td>\n",
       "      <td>-</td>\n",
       "      <td>UNK</td>\n",
       "      <td>Other Parking Lot</td>\n",
       "    </tr>\n",
       "    <tr>\n",
       "      <th>47013</th>\n",
       "      <td>2018-05-30 23:00:00</td>\n",
       "      <td>1</td>\n",
       "      <td>AutoTheft</td>\n",
       "      <td>10800-10899</td>\n",
       "      <td>SHADY</td>\n",
       "      <td>LN</td>\n",
       "      <td>-</td>\n",
       "      <td>UNK</td>\n",
       "      <td>Service or Gas Station</td>\n",
       "    </tr>\n",
       "    <tr>\n",
       "      <th>47014</th>\n",
       "      <td>2018-05-30 05:00:00</td>\n",
       "      <td>1</td>\n",
       "      <td>Theft</td>\n",
       "      <td>600-699</td>\n",
       "      <td>VICTORY</td>\n",
       "      <td>DR</td>\n",
       "      <td>-</td>\n",
       "      <td>UNK</td>\n",
       "      <td>Grocery Store or Supermarket</td>\n",
       "    </tr>\n",
       "  </tbody>\n",
       "</table>\n",
       "<p>47015 rows × 9 columns</p>\n",
       "</div>"
      ],
      "text/plain": [
       "                date_time  offenses        offense_type  block_range  \\\n",
       "0     2018-04-03 14:00:00         1               Theft    5900-5999   \n",
       "1     2018-04-05 07:00:00         1               Theft      300-399   \n",
       "2     2018-04-05 17:00:00         1               Theft    2100-2199   \n",
       "3     2018-04-05 17:00:00         1               Theft    2400-2499   \n",
       "4     2018-04-07 04:00:00         1  Aggravated Assault    3300-3399   \n",
       "...                   ...       ...                 ...          ...   \n",
       "47010 2018-05-27 03:00:00         1             Robbery    4100-4199   \n",
       "47011 2018-05-28 22:00:00         1               Theft  17700-17799   \n",
       "47012 2018-05-28 22:00:00         1               Theft      900-999   \n",
       "47013 2018-05-30 23:00:00         1           AutoTheft  10800-10899   \n",
       "47014 2018-05-30 05:00:00         1               Theft      600-699   \n",
       "\n",
       "      street_name  type suffix   beat                        premise  \n",
       "0      HARRISBURG     -      -  10H10            Commercial Building  \n",
       "1          DELMAR    ST      -  10H10      Road, Street, or Sidewalk  \n",
       "2         RUNNELS     -      -  10H10                      Apartment  \n",
       "3      NAVIGATION  BLVD      -  10H10  Bar or Night Club Parking Lot  \n",
       "4      NAVIGATION  BLVD      -  10H10             Residence or House  \n",
       "...           ...   ...    ...    ...                            ...  \n",
       "47010      DARWIN     -      -    UNK      Road, Street, or Sidewalk  \n",
       "47011      EASTEX   FWY      -    UNK          Apartment Parking Lot  \n",
       "47012  ST EMANUEL     -      -    UNK              Other Parking Lot  \n",
       "47013       SHADY    LN      -    UNK         Service or Gas Station  \n",
       "47014     VICTORY    DR      -    UNK   Grocery Store or Supermarket  \n",
       "\n",
       "[47015 rows x 9 columns]"
      ]
     },
     "execution_count": 24,
     "metadata": {},
     "output_type": "execute_result"
    }
   ],
   "source": [
    "df"
   ]
  },
  {
   "cell_type": "code",
   "execution_count": null,
   "metadata": {},
   "outputs": [],
   "source": []
  }
 ],
 "metadata": {
  "kernelspec": {
   "display_name": "Python 3",
   "language": "python",
   "name": "python3"
  },
  "language_info": {
   "codemirror_mode": {
    "name": "ipython",
    "version": 3
   },
   "file_extension": ".py",
   "mimetype": "text/x-python",
   "name": "python",
   "nbconvert_exporter": "python",
   "pygments_lexer": "ipython3",
   "version": "3.8.5"
  }
 },
 "nbformat": 4,
 "nbformat_minor": 4
}
