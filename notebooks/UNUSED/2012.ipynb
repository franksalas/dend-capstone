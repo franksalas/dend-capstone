{
 "cells": [
  {
   "cell_type": "code",
   "execution_count": 1,
   "metadata": {},
   "outputs": [
    {
     "data": {
      "text/html": [
       "        <script type=\"text/javascript\">\n",
       "        window.PlotlyConfig = {MathJaxConfig: 'local'};\n",
       "        if (window.MathJax) {MathJax.Hub.Config({SVG: {font: \"STIX-Web\"}});}\n",
       "        if (typeof require !== 'undefined') {\n",
       "        require.undef(\"plotly\");\n",
       "        requirejs.config({\n",
       "            paths: {\n",
       "                'plotly': ['https://cdn.plot.ly/plotly-latest.min']\n",
       "            }\n",
       "        });\n",
       "        require(['plotly'], function(Plotly) {\n",
       "            window._Plotly = Plotly;\n",
       "        });\n",
       "        }\n",
       "        </script>\n",
       "        "
      ]
     },
     "metadata": {},
     "output_type": "display_data"
    },
    {
     "name": "stdout",
     "output_type": "stream",
     "text": [
      "\n",
      "python\t3.8.5 (default, Sep  4 2020, 07:30:14) \n",
      "[GCC 7.3.0]\n",
      "---------------------\n",
      "Versions:\n",
      "----------------------\n",
      "pandas      1.1.2\n",
      "numpy       1.19.1\n",
      "matplotlib  3.3.1\n",
      "seaborn     0.11.0\n",
      "plotly      4.11.0\n",
      "----------------------\n",
      "\n",
      "\n",
      "Loaded Libraries\n",
      "-------------------\n",
      "import pandas as pd\n",
      "import numpy as np\n",
      "import sys,os\n",
      "import re\n",
      "import glob\n",
      "import pickle\n",
      "import seaborn as sns\n",
      "import matplotlib.pyplot as plt\n",
      "import plotly\n",
      "import plotly.graph_objs as go\n",
      "from plotly.offline import download_plotlyjs, init_notebook_mode, plot, iplot\n",
      "init_notebook_mode(connected=True)\n",
      "----------------\n",
      "\n",
      "\n",
      "GLOBAL VARIABLES\n",
      "--------------------------\n",
      "HERE_DIR: list current directory path\n",
      "RAW_DIR: list files in `data\\raw` directory\n",
      "INTER_DIR: list files in `data\\interim` directory\n",
      "FINAL_DIR: list files in `data\\final` directory\n",
      "SRC_DIR: list files in `src\\` directory\n",
      "------------------------------\n",
      "\n",
      "# SAVE PLOTS\n",
      "To save a plot call\n",
      "`save_plots(fig_variable,'name_of_plot')`\n",
      "\n",
      "source file: src/start.py\n",
      "\n",
      "\n"
     ]
    }
   ],
   "source": [
    "%run ../src/start.py"
   ]
  },
  {
   "cell_type": "code",
   "execution_count": 2,
   "metadata": {},
   "outputs": [
    {
     "name": "stdout",
     "output_type": "stream",
     "text": [
      "\u001b[0m\u001b[01;32mapr12.xlsx\u001b[0m*  \u001b[01;32mdec12.xlsx\u001b[0m*  \u001b[01;32mjan12.xlsx\u001b[0m*  \u001b[01;32mjun12.xlsx\u001b[0m*  \u001b[01;32mmay12.xlsx\u001b[0m*  \u001b[01;32moct12.xlsx\u001b[0m*\r\n",
      "\u001b[01;32maug12.xlsx\u001b[0m*  \u001b[01;32mfeb12.xlsx\u001b[0m*  \u001b[01;32mjul12.xlsx\u001b[0m*  \u001b[01;32mmar12.xlsx\u001b[0m*  \u001b[01;32mnov12.xlsx\u001b[0m*  \u001b[01;32msep12.xlsx\u001b[0m*\r\n"
     ]
    }
   ],
   "source": [
    "ls ../data/raw/crime_data/2012/csv"
   ]
  },
  {
   "cell_type": "code",
   "execution_count": null,
   "metadata": {},
   "outputs": [],
   "source": []
  },
  {
   "cell_type": "code",
   "execution_count": 3,
   "metadata": {},
   "outputs": [],
   "source": [
    "path = '2012/csv'\n",
    "raw_directory = os.path.join('..','data','raw','crime_data',f'{path}/')"
   ]
  },
  {
   "cell_type": "code",
   "execution_count": 4,
   "metadata": {},
   "outputs": [],
   "source": [
    "all_files = glob.glob(os.path.join(raw_directory, \"*.xlsx\")) # change \"*.xlsx\" for excel files\n",
    "df_from_each_file = (pd.read_excel(f, engine='openpyxl') for f in all_files)    # change to `pd.read_excel(f)` for excel files\n",
    "df   = pd.concat(df_from_each_file, ignore_index=True)     # combine into one large dataframe\n",
    "\n",
    "# cleanup columns\n",
    "df.columns = df.columns.str.lower().str.replace(' ','_').str.replace('\\n','_').str.strip()\n",
    "# df.columns = df.columns.str.strip().str.lower().str.replace('-', '_').str.replace(' ', '_').str.replace('(', '').str.replace(')', '')"
   ]
  },
  {
   "cell_type": "code",
   "execution_count": null,
   "metadata": {},
   "outputs": [],
   "source": []
  },
  {
   "cell_type": "code",
   "execution_count": 5,
   "metadata": {},
   "outputs": [
    {
     "name": "stdout",
     "output_type": "stream",
     "text": [
      "<class 'pandas.core.frame.DataFrame'>\n",
      "RangeIndex: 127771 entries, 0 to 127770\n",
      "Data columns (total 11 columns):\n",
      " #   Column         Non-Null Count   Dtype         \n",
      "---  ------         --------------   -----         \n",
      " 0   date           127771 non-null  datetime64[ns]\n",
      " 1   hour           127771 non-null  int64         \n",
      " 2   offense_type   127771 non-null  object        \n",
      " 3   beat           127771 non-null  object        \n",
      " 4   premise        127771 non-null  object        \n",
      " 5   block_range    127771 non-null  object        \n",
      " 6   street_name    127771 non-null  object        \n",
      " 7   type           127771 non-null  object        \n",
      " 8   suffix         127771 non-null  object        \n",
      " 9   ._of_offenses  127771 non-null  int64         \n",
      " 10  field11        0 non-null       float64       \n",
      "dtypes: datetime64[ns](1), float64(1), int64(2), object(7)\n",
      "memory usage: 10.7+ MB\n"
     ]
    }
   ],
   "source": [
    "df.info()"
   ]
  },
  {
   "cell_type": "markdown",
   "metadata": {},
   "source": [
    "# Show null data"
   ]
  },
  {
   "cell_type": "code",
   "execution_count": 6,
   "metadata": {},
   "outputs": [
    {
     "data": {
      "text/plain": [
       "date                  0\n",
       "hour                  0\n",
       "offense_type          0\n",
       "beat                  0\n",
       "premise               0\n",
       "block_range           0\n",
       "street_name           0\n",
       "type                  0\n",
       "suffix                0\n",
       "._of_offenses         0\n",
       "field11          127771\n",
       "dtype: int64"
      ]
     },
     "execution_count": 6,
     "metadata": {},
     "output_type": "execute_result"
    }
   ],
   "source": [
    "df.apply(lambda x: sum(x.isnull()))"
   ]
  },
  {
   "cell_type": "code",
   "execution_count": 7,
   "metadata": {},
   "outputs": [
    {
     "data": {
      "text/html": [
       "<div>\n",
       "<style scoped>\n",
       "    .dataframe tbody tr th:only-of-type {\n",
       "        vertical-align: middle;\n",
       "    }\n",
       "\n",
       "    .dataframe tbody tr th {\n",
       "        vertical-align: top;\n",
       "    }\n",
       "\n",
       "    .dataframe thead th {\n",
       "        text-align: right;\n",
       "    }\n",
       "</style>\n",
       "<table border=\"1\" class=\"dataframe\">\n",
       "  <thead>\n",
       "    <tr style=\"text-align: right;\">\n",
       "      <th></th>\n",
       "      <th>null_percent</th>\n",
       "    </tr>\n",
       "  </thead>\n",
       "  <tbody>\n",
       "    <tr>\n",
       "      <th>date</th>\n",
       "      <td>0.0</td>\n",
       "    </tr>\n",
       "    <tr>\n",
       "      <th>hour</th>\n",
       "      <td>0.0</td>\n",
       "    </tr>\n",
       "    <tr>\n",
       "      <th>offense_type</th>\n",
       "      <td>0.0</td>\n",
       "    </tr>\n",
       "    <tr>\n",
       "      <th>beat</th>\n",
       "      <td>0.0</td>\n",
       "    </tr>\n",
       "    <tr>\n",
       "      <th>premise</th>\n",
       "      <td>0.0</td>\n",
       "    </tr>\n",
       "    <tr>\n",
       "      <th>block_range</th>\n",
       "      <td>0.0</td>\n",
       "    </tr>\n",
       "    <tr>\n",
       "      <th>street_name</th>\n",
       "      <td>0.0</td>\n",
       "    </tr>\n",
       "    <tr>\n",
       "      <th>type</th>\n",
       "      <td>0.0</td>\n",
       "    </tr>\n",
       "    <tr>\n",
       "      <th>suffix</th>\n",
       "      <td>0.0</td>\n",
       "    </tr>\n",
       "    <tr>\n",
       "      <th>._of_offenses</th>\n",
       "      <td>0.0</td>\n",
       "    </tr>\n",
       "  </tbody>\n",
       "</table>\n",
       "</div>"
      ],
      "text/plain": [
       "               null_percent\n",
       "date                    0.0\n",
       "hour                    0.0\n",
       "offense_type            0.0\n",
       "beat                    0.0\n",
       "premise                 0.0\n",
       "block_range             0.0\n",
       "street_name             0.0\n",
       "type                    0.0\n",
       "suffix                  0.0\n",
       "._of_offenses           0.0"
      ]
     },
     "execution_count": 7,
     "metadata": {},
     "output_type": "execute_result"
    }
   ],
   "source": [
    "# create null percentage of column as dataframe\n",
    "null_per_df = pd.DataFrame(df.isna().mean().round(4) * 100)\n",
    "# rename columns\n",
    "null_per_df.rename(columns={'index': 'col_name', 0: 'null_percent'}, inplace=True)\n",
    "\n",
    "# filter data <20% null values\n",
    "per_filter = null_per_df.null_percent<=90\n",
    "null_per_df[per_filter].sort_values(by='null_percent',ascending=False)"
   ]
  },
  {
   "cell_type": "code",
   "execution_count": 8,
   "metadata": {},
   "outputs": [
    {
     "data": {
      "image/png": "[encoded data removed]",
      "text/plain": [
       "<Figure size 1080x288 with 1 Axes>"
      ]
     },
     "metadata": {},
     "output_type": "display_data"
    }
   ],
   "source": [
    "plt.figure(figsize=(15,4))\n",
    "sns.heatmap(df.isnull(),yticklabels=False,cbar=False,cmap='viridis')\n",
    "plt.title('Missing data')\n",
    "plt.show()"
   ]
  },
  {
   "cell_type": "code",
   "execution_count": 9,
   "metadata": {},
   "outputs": [
    {
     "data": {
      "text/plain": [
       "['date',\n",
       " 'hour',\n",
       " 'offense_type',\n",
       " 'beat',\n",
       " 'premise',\n",
       " 'block_range',\n",
       " 'street_name',\n",
       " 'type',\n",
       " 'suffix',\n",
       " '._of_offenses',\n",
       " 'field11']"
      ]
     },
     "execution_count": 9,
     "metadata": {},
     "output_type": "execute_result"
    }
   ],
   "source": [
    "df.columns.tolist()"
   ]
  },
  {
   "cell_type": "code",
   "execution_count": null,
   "metadata": {},
   "outputs": [],
   "source": [
    "# # combine columns into a new one\n",
    "# df['offenses'] = pd.concat([df['. Of Offenses'].dropna(),\n",
    "#                               df['. of Offenses'].dropna()]).reindex_like(df)\n",
    "\n",
    "# # drop columns\n",
    "# df = df.drop(['. Of Offenses','. of Offenses', 'Field11',\n",
    "#  'Field12',\n",
    "#  'Field13'], axis = 1)"
   ]
  },
  {
   "cell_type": "code",
   "execution_count": 10,
   "metadata": {},
   "outputs": [],
   "source": [
    "df = df.drop([ 'field11'], axis = 1)"
   ]
  },
  {
   "cell_type": "code",
   "execution_count": 11,
   "metadata": {},
   "outputs": [],
   "source": [
    "df.columns = df.columns.str.lower().str.replace(' ','_').str.replace('\\n','_').str.strip()"
   ]
  },
  {
   "cell_type": "code",
   "execution_count": 12,
   "metadata": {},
   "outputs": [
    {
     "data": {
      "text/plain": [
       "date             0\n",
       "hour             0\n",
       "offense_type     0\n",
       "beat             0\n",
       "premise          0\n",
       "block_range      0\n",
       "street_name      0\n",
       "type             0\n",
       "suffix           0\n",
       "._of_offenses    0\n",
       "dtype: int64"
      ]
     },
     "execution_count": 12,
     "metadata": {},
     "output_type": "execute_result"
    }
   ],
   "source": [
    "df.apply(lambda x: sum(x.isnull()))"
   ]
  },
  {
   "cell_type": "code",
   "execution_count": 13,
   "metadata": {},
   "outputs": [
    {
     "data": {
      "image/png": "[encoded data removed]",
      "text/plain": [
       "<Figure size 1080x288 with 1 Axes>"
      ]
     },
     "metadata": {},
     "output_type": "display_data"
    }
   ],
   "source": [
    "plt.figure(figsize=(15,4))\n",
    "sns.heatmap(df.isnull(),yticklabels=False,cbar=False,cmap='viridis')\n",
    "plt.title('Missing data')\n",
    "plt.show()"
   ]
  },
  {
   "cell_type": "code",
   "execution_count": 14,
   "metadata": {},
   "outputs": [
    {
     "data": {
      "text/html": [
       "<div>\n",
       "<style scoped>\n",
       "    .dataframe tbody tr th:only-of-type {\n",
       "        vertical-align: middle;\n",
       "    }\n",
       "\n",
       "    .dataframe tbody tr th {\n",
       "        vertical-align: top;\n",
       "    }\n",
       "\n",
       "    .dataframe thead th {\n",
       "        text-align: right;\n",
       "    }\n",
       "</style>\n",
       "<table border=\"1\" class=\"dataframe\">\n",
       "  <thead>\n",
       "    <tr style=\"text-align: right;\">\n",
       "      <th></th>\n",
       "      <th>date</th>\n",
       "      <th>hour</th>\n",
       "      <th>offense_type</th>\n",
       "      <th>beat</th>\n",
       "      <th>premise</th>\n",
       "      <th>block_range</th>\n",
       "      <th>street_name</th>\n",
       "      <th>type</th>\n",
       "      <th>suffix</th>\n",
       "      <th>._of_offenses</th>\n",
       "    </tr>\n",
       "  </thead>\n",
       "  <tbody>\n",
       "    <tr>\n",
       "      <th>0</th>\n",
       "      <td>2012-04-05</td>\n",
       "      <td>2</td>\n",
       "      <td>Murder</td>\n",
       "      <td>17E40</td>\n",
       "      <td>20R</td>\n",
       "      <td>6100-6199</td>\n",
       "      <td>CLARIDGE</td>\n",
       "      <td>DR</td>\n",
       "      <td>-</td>\n",
       "      <td>1</td>\n",
       "    </tr>\n",
       "    <tr>\n",
       "      <th>1</th>\n",
       "      <td>2012-04-04</td>\n",
       "      <td>22</td>\n",
       "      <td>Murder</td>\n",
       "      <td>3B10</td>\n",
       "      <td>18A</td>\n",
       "      <td>11700-11799</td>\n",
       "      <td>HEMPSTEAD</td>\n",
       "      <td>HWY</td>\n",
       "      <td>-</td>\n",
       "      <td>1</td>\n",
       "    </tr>\n",
       "    <tr>\n",
       "      <th>2</th>\n",
       "      <td>2012-04-01</td>\n",
       "      <td>23</td>\n",
       "      <td>Murder</td>\n",
       "      <td>19G10</td>\n",
       "      <td>20A</td>\n",
       "      <td>7500-7599</td>\n",
       "      <td>CORPORATE</td>\n",
       "      <td>DR</td>\n",
       "      <td>-</td>\n",
       "      <td>1</td>\n",
       "    </tr>\n",
       "    <tr>\n",
       "      <th>3</th>\n",
       "      <td>2012-04-21</td>\n",
       "      <td>23</td>\n",
       "      <td>Murder</td>\n",
       "      <td>8C10</td>\n",
       "      <td>20R</td>\n",
       "      <td>6200-6299</td>\n",
       "      <td>RIETTA</td>\n",
       "      <td>-</td>\n",
       "      <td>-</td>\n",
       "      <td>1</td>\n",
       "    </tr>\n",
       "    <tr>\n",
       "      <th>4</th>\n",
       "      <td>2012-04-01</td>\n",
       "      <td>6</td>\n",
       "      <td>Murder</td>\n",
       "      <td>3B10</td>\n",
       "      <td>20A</td>\n",
       "      <td>4200-4299</td>\n",
       "      <td>34TH</td>\n",
       "      <td>ST</td>\n",
       "      <td>W</td>\n",
       "      <td>1</td>\n",
       "    </tr>\n",
       "  </tbody>\n",
       "</table>\n",
       "</div>"
      ],
      "text/plain": [
       "        date  hour offense_type   beat premise  block_range street_name type  \\\n",
       "0 2012-04-05     2       Murder  17E40     20R    6100-6199    CLARIDGE   DR   \n",
       "1 2012-04-04    22       Murder   3B10     18A  11700-11799   HEMPSTEAD  HWY   \n",
       "2 2012-04-01    23       Murder  19G10     20A    7500-7599   CORPORATE   DR   \n",
       "3 2012-04-21    23       Murder   8C10     20R    6200-6299      RIETTA    -   \n",
       "4 2012-04-01     6       Murder   3B10     20A    4200-4299        34TH   ST   \n",
       "\n",
       "  suffix  ._of_offenses  \n",
       "0      -              1  \n",
       "1      -              1  \n",
       "2      -              1  \n",
       "3      -              1  \n",
       "4      W              1  "
      ]
     },
     "execution_count": 14,
     "metadata": {},
     "output_type": "execute_result"
    }
   ],
   "source": [
    "df.head()"
   ]
  },
  {
   "cell_type": "code",
   "execution_count": 15,
   "metadata": {},
   "outputs": [
    {
     "name": "stdout",
     "output_type": "stream",
     "text": [
      "<class 'pandas.core.frame.DataFrame'>\n",
      "RangeIndex: 127771 entries, 0 to 127770\n",
      "Data columns (total 10 columns):\n",
      " #   Column         Non-Null Count   Dtype         \n",
      "---  ------         --------------   -----         \n",
      " 0   date           127771 non-null  datetime64[ns]\n",
      " 1   hour           127771 non-null  int64         \n",
      " 2   offense_type   127771 non-null  object        \n",
      " 3   beat           127771 non-null  object        \n",
      " 4   premise        127771 non-null  object        \n",
      " 5   block_range    127771 non-null  object        \n",
      " 6   street_name    127771 non-null  object        \n",
      " 7   type           127771 non-null  object        \n",
      " 8   suffix         127771 non-null  object        \n",
      " 9   ._of_offenses  127771 non-null  int64         \n",
      "dtypes: datetime64[ns](1), int64(2), object(7)\n",
      "memory usage: 9.7+ MB\n"
     ]
    }
   ],
   "source": [
    "df.info()"
   ]
  },
  {
   "cell_type": "markdown",
   "metadata": {},
   "source": [
    "## Combine date & hour to one column"
   ]
  },
  {
   "cell_type": "code",
   "execution_count": 16,
   "metadata": {},
   "outputs": [
    {
     "data": {
      "text/html": [
       "<div>\n",
       "<style scoped>\n",
       "    .dataframe tbody tr th:only-of-type {\n",
       "        vertical-align: middle;\n",
       "    }\n",
       "\n",
       "    .dataframe tbody tr th {\n",
       "        vertical-align: top;\n",
       "    }\n",
       "\n",
       "    .dataframe thead th {\n",
       "        text-align: right;\n",
       "    }\n",
       "</style>\n",
       "<table border=\"1\" class=\"dataframe\">\n",
       "  <thead>\n",
       "    <tr style=\"text-align: right;\">\n",
       "      <th></th>\n",
       "      <th>date</th>\n",
       "      <th>hour</th>\n",
       "    </tr>\n",
       "  </thead>\n",
       "  <tbody>\n",
       "    <tr>\n",
       "      <th>0</th>\n",
       "      <td>2012-04-05</td>\n",
       "      <td>2</td>\n",
       "    </tr>\n",
       "    <tr>\n",
       "      <th>1</th>\n",
       "      <td>2012-04-04</td>\n",
       "      <td>22</td>\n",
       "    </tr>\n",
       "    <tr>\n",
       "      <th>2</th>\n",
       "      <td>2012-04-01</td>\n",
       "      <td>23</td>\n",
       "    </tr>\n",
       "    <tr>\n",
       "      <th>3</th>\n",
       "      <td>2012-04-21</td>\n",
       "      <td>23</td>\n",
       "    </tr>\n",
       "    <tr>\n",
       "      <th>4</th>\n",
       "      <td>2012-04-01</td>\n",
       "      <td>6</td>\n",
       "    </tr>\n",
       "    <tr>\n",
       "      <th>...</th>\n",
       "      <td>...</td>\n",
       "      <td>...</td>\n",
       "    </tr>\n",
       "    <tr>\n",
       "      <th>127766</th>\n",
       "      <td>2012-09-30</td>\n",
       "      <td>23</td>\n",
       "    </tr>\n",
       "    <tr>\n",
       "      <th>127767</th>\n",
       "      <td>2012-09-30</td>\n",
       "      <td>22</td>\n",
       "    </tr>\n",
       "    <tr>\n",
       "      <th>127768</th>\n",
       "      <td>2012-09-30</td>\n",
       "      <td>21</td>\n",
       "    </tr>\n",
       "    <tr>\n",
       "      <th>127769</th>\n",
       "      <td>2012-09-30</td>\n",
       "      <td>23</td>\n",
       "    </tr>\n",
       "    <tr>\n",
       "      <th>127770</th>\n",
       "      <td>2012-09-30</td>\n",
       "      <td>19</td>\n",
       "    </tr>\n",
       "  </tbody>\n",
       "</table>\n",
       "<p>127771 rows × 2 columns</p>\n",
       "</div>"
      ],
      "text/plain": [
       "             date  hour\n",
       "0      2012-04-05     2\n",
       "1      2012-04-04    22\n",
       "2      2012-04-01    23\n",
       "3      2012-04-21    23\n",
       "4      2012-04-01     6\n",
       "...           ...   ...\n",
       "127766 2012-09-30    23\n",
       "127767 2012-09-30    22\n",
       "127768 2012-09-30    21\n",
       "127769 2012-09-30    23\n",
       "127770 2012-09-30    19\n",
       "\n",
       "[127771 rows x 2 columns]"
      ]
     },
     "execution_count": 16,
     "metadata": {},
     "output_type": "execute_result"
    }
   ],
   "source": [
    "df[['date','hour']]"
   ]
  },
  {
   "cell_type": "code",
   "execution_count": 17,
   "metadata": {},
   "outputs": [],
   "source": [
    "# convert two columns into one datetime\n",
    "df['date_time'] = pd.to_datetime(df['date']) + pd.to_timedelta(df['hour'], unit='h')\n",
    "\n",
    "# drop columns\n",
    "df = df.drop(['date','hour'], axis = 1)"
   ]
  },
  {
   "cell_type": "code",
   "execution_count": 18,
   "metadata": {},
   "outputs": [
    {
     "data": {
      "text/html": [
       "<div>\n",
       "<style scoped>\n",
       "    .dataframe tbody tr th:only-of-type {\n",
       "        vertical-align: middle;\n",
       "    }\n",
       "\n",
       "    .dataframe tbody tr th {\n",
       "        vertical-align: top;\n",
       "    }\n",
       "\n",
       "    .dataframe thead th {\n",
       "        text-align: right;\n",
       "    }\n",
       "</style>\n",
       "<table border=\"1\" class=\"dataframe\">\n",
       "  <thead>\n",
       "    <tr style=\"text-align: right;\">\n",
       "      <th></th>\n",
       "      <th>offense_type</th>\n",
       "      <th>beat</th>\n",
       "      <th>premise</th>\n",
       "      <th>block_range</th>\n",
       "      <th>street_name</th>\n",
       "      <th>type</th>\n",
       "      <th>suffix</th>\n",
       "      <th>._of_offenses</th>\n",
       "      <th>date_time</th>\n",
       "    </tr>\n",
       "  </thead>\n",
       "  <tbody>\n",
       "    <tr>\n",
       "      <th>0</th>\n",
       "      <td>Murder</td>\n",
       "      <td>17E40</td>\n",
       "      <td>20R</td>\n",
       "      <td>6100-6199</td>\n",
       "      <td>CLARIDGE</td>\n",
       "      <td>DR</td>\n",
       "      <td>-</td>\n",
       "      <td>1</td>\n",
       "      <td>2012-04-05 02:00:00</td>\n",
       "    </tr>\n",
       "    <tr>\n",
       "      <th>1</th>\n",
       "      <td>Murder</td>\n",
       "      <td>3B10</td>\n",
       "      <td>18A</td>\n",
       "      <td>11700-11799</td>\n",
       "      <td>HEMPSTEAD</td>\n",
       "      <td>HWY</td>\n",
       "      <td>-</td>\n",
       "      <td>1</td>\n",
       "      <td>2012-04-04 22:00:00</td>\n",
       "    </tr>\n",
       "    <tr>\n",
       "      <th>2</th>\n",
       "      <td>Murder</td>\n",
       "      <td>19G10</td>\n",
       "      <td>20A</td>\n",
       "      <td>7500-7599</td>\n",
       "      <td>CORPORATE</td>\n",
       "      <td>DR</td>\n",
       "      <td>-</td>\n",
       "      <td>1</td>\n",
       "      <td>2012-04-01 23:00:00</td>\n",
       "    </tr>\n",
       "    <tr>\n",
       "      <th>3</th>\n",
       "      <td>Murder</td>\n",
       "      <td>8C10</td>\n",
       "      <td>20R</td>\n",
       "      <td>6200-6299</td>\n",
       "      <td>RIETTA</td>\n",
       "      <td>-</td>\n",
       "      <td>-</td>\n",
       "      <td>1</td>\n",
       "      <td>2012-04-21 23:00:00</td>\n",
       "    </tr>\n",
       "    <tr>\n",
       "      <th>4</th>\n",
       "      <td>Murder</td>\n",
       "      <td>3B10</td>\n",
       "      <td>20A</td>\n",
       "      <td>4200-4299</td>\n",
       "      <td>34TH</td>\n",
       "      <td>ST</td>\n",
       "      <td>W</td>\n",
       "      <td>1</td>\n",
       "      <td>2012-04-01 06:00:00</td>\n",
       "    </tr>\n",
       "  </tbody>\n",
       "</table>\n",
       "</div>"
      ],
      "text/plain": [
       "  offense_type   beat premise  block_range street_name type suffix  \\\n",
       "0       Murder  17E40     20R    6100-6199    CLARIDGE   DR      -   \n",
       "1       Murder   3B10     18A  11700-11799   HEMPSTEAD  HWY      -   \n",
       "2       Murder  19G10     20A    7500-7599   CORPORATE   DR      -   \n",
       "3       Murder   8C10     20R    6200-6299      RIETTA    -      -   \n",
       "4       Murder   3B10     20A    4200-4299        34TH   ST      W   \n",
       "\n",
       "   ._of_offenses           date_time  \n",
       "0              1 2012-04-05 02:00:00  \n",
       "1              1 2012-04-04 22:00:00  \n",
       "2              1 2012-04-01 23:00:00  \n",
       "3              1 2012-04-21 23:00:00  \n",
       "4              1 2012-04-01 06:00:00  "
      ]
     },
     "execution_count": 18,
     "metadata": {},
     "output_type": "execute_result"
    }
   ],
   "source": [
    "df.head()"
   ]
  },
  {
   "cell_type": "code",
   "execution_count": 19,
   "metadata": {},
   "outputs": [
    {
     "name": "stdout",
     "output_type": "stream",
     "text": [
      "<class 'pandas.core.frame.DataFrame'>\n",
      "RangeIndex: 127771 entries, 0 to 127770\n",
      "Data columns (total 9 columns):\n",
      " #   Column         Non-Null Count   Dtype         \n",
      "---  ------         --------------   -----         \n",
      " 0   offense_type   127771 non-null  object        \n",
      " 1   beat           127771 non-null  object        \n",
      " 2   premise        127771 non-null  object        \n",
      " 3   block_range    127771 non-null  object        \n",
      " 4   street_name    127771 non-null  object        \n",
      " 5   type           127771 non-null  object        \n",
      " 6   suffix         127771 non-null  object        \n",
      " 7   ._of_offenses  127771 non-null  int64         \n",
      " 8   date_time      127771 non-null  datetime64[ns]\n",
      "dtypes: datetime64[ns](1), int64(1), object(7)\n",
      "memory usage: 8.8+ MB\n"
     ]
    }
   ],
   "source": [
    "df.info()"
   ]
  },
  {
   "cell_type": "code",
   "execution_count": 20,
   "metadata": {},
   "outputs": [],
   "source": [
    "#change column name\n",
    "\n",
    "df.rename(columns={\n",
    "    '._of_offenses': 'offenses',\n",
    "}, inplace=True)\n",
    "\n",
    "# convert offenses to int\n",
    "\n",
    "df['offenses'] = df['offenses'].astype('int64')"
   ]
  },
  {
   "cell_type": "code",
   "execution_count": 21,
   "metadata": {},
   "outputs": [
    {
     "name": "stdout",
     "output_type": "stream",
     "text": [
      "<class 'pandas.core.frame.DataFrame'>\n",
      "RangeIndex: 127771 entries, 0 to 127770\n",
      "Data columns (total 9 columns):\n",
      " #   Column        Non-Null Count   Dtype         \n",
      "---  ------        --------------   -----         \n",
      " 0   offense_type  127771 non-null  object        \n",
      " 1   beat          127771 non-null  object        \n",
      " 2   premise       127771 non-null  object        \n",
      " 3   block_range   127771 non-null  object        \n",
      " 4   street_name   127771 non-null  object        \n",
      " 5   type          127771 non-null  object        \n",
      " 6   suffix        127771 non-null  object        \n",
      " 7   offenses      127771 non-null  int64         \n",
      " 8   date_time     127771 non-null  datetime64[ns]\n",
      "dtypes: datetime64[ns](1), int64(1), object(7)\n",
      "memory usage: 8.8+ MB\n"
     ]
    }
   ],
   "source": [
    "df.info()"
   ]
  },
  {
   "cell_type": "code",
   "execution_count": 22,
   "metadata": {},
   "outputs": [
    {
     "data": {
      "text/plain": [
       "0        2012-04-05 02:00:00\n",
       "1        2012-04-04 22:00:00\n",
       "2        2012-04-01 23:00:00\n",
       "3        2012-04-21 23:00:00\n",
       "4        2012-04-01 06:00:00\n",
       "                 ...        \n",
       "127766   2012-09-30 23:00:00\n",
       "127767   2012-09-30 22:00:00\n",
       "127768   2012-09-30 21:00:00\n",
       "127769   2012-09-30 23:00:00\n",
       "127770   2012-09-30 19:00:00\n",
       "Name: date_time, Length: 127771, dtype: datetime64[ns]"
      ]
     },
     "execution_count": 22,
     "metadata": {},
     "output_type": "execute_result"
    }
   ],
   "source": [
    "df.date_time"
   ]
  },
  {
   "cell_type": "code",
   "execution_count": null,
   "metadata": {},
   "outputs": [],
   "source": []
  },
  {
   "cell_type": "markdown",
   "metadata": {},
   "source": [
    "# Inspect evry column"
   ]
  },
  {
   "cell_type": "code",
   "execution_count": null,
   "metadata": {},
   "outputs": [],
   "source": [
    "def create_new_cell(contents):\n",
    "    '''created new jupyter cells by inputing a list of columns\n",
    "    outputs'''\n",
    "    from IPython.core.getipython import get_ipython\n",
    "    shell = get_ipython()\n",
    "    payload = dict(\n",
    "        source='set_next_input',\n",
    "        #text=f'#column:{contents}\\ndf.{contents}.value_counts(dropna=False)[:10]'.format(contents),\n",
    "        text=f'# column:{contents}\\ndf.{contents}.value_counts(dropna=False)[:10]',\n",
    "        replace=False,)\n",
    "    shell.payload_manager.write_payload(payload, single=False)\n",
    "\n",
    "    \n",
    "def strip_col(col):\n",
    "    print(f'column:{col}')\n",
    "    print('before:{}'.format(len(df[col].value_counts(dropna=False))))\n",
    "    df.col = df[col].str.strip()\n",
    "    print('before:{}'.format(len(df[col].value_counts(dropna=False))))    \n",
    "    \n",
    "def lower_col(col):\n",
    "    print(f'column:{col}')\n",
    "    print('before:{}'.format(len(df[col].value_counts(dropna=False))))\n",
    "    df.col = df[col].str.lower()\n",
    "    print('before:{}'.format(len(df[col].value_counts(dropna=False))))       \n",
    "    \n",
    "    \n",
    "    \n",
    "def capital_col(col):\n",
    "    print(f'column:{col}')\n",
    "    print('before:{}'.format(len(df[col].value_counts(dropna=False))))\n",
    "    df.col = df[col].str.capitalize()\n",
    "    print('before:{}'.format(len(df[col].value_counts(dropna=False))))      "
   ]
  },
  {
   "cell_type": "code",
   "execution_count": null,
   "metadata": {},
   "outputs": [],
   "source": [
    "col_list = df.columns.tolist()\n",
    "col_list"
   ]
  },
  {
   "cell_type": "code",
   "execution_count": null,
   "metadata": {},
   "outputs": [],
   "source": [
    "for col in col_list:\n",
    "    create_new_cell(col)"
   ]
  },
  {
   "cell_type": "code",
   "execution_count": null,
   "metadata": {},
   "outputs": [],
   "source": [
    "# column:date_time\n",
    "df.date_time.value_counts(dropna=False)[:10]"
   ]
  },
  {
   "cell_type": "code",
   "execution_count": null,
   "metadata": {},
   "outputs": [],
   "source": [
    "# column:offenses\n",
    "df.offenses.value_counts(dropna=False)[:10]"
   ]
  },
  {
   "cell_type": "code",
   "execution_count": null,
   "metadata": {},
   "outputs": [],
   "source": [
    "# column:suffix\n",
    "df.suffix.value_counts(dropna=False)[:10]"
   ]
  },
  {
   "cell_type": "code",
   "execution_count": null,
   "metadata": {},
   "outputs": [],
   "source": [
    "# column:type\n",
    "df.type.value_counts(dropna=False)[:10]"
   ]
  },
  {
   "cell_type": "code",
   "execution_count": null,
   "metadata": {},
   "outputs": [],
   "source": [
    "# column:street_name\n",
    "df.street_name.value_counts(dropna=False)[:10]"
   ]
  },
  {
   "cell_type": "code",
   "execution_count": null,
   "metadata": {},
   "outputs": [],
   "source": [
    "# column:block_range\n",
    "df.block_range.value_counts(dropna=False)[:10]"
   ]
  },
  {
   "cell_type": "code",
   "execution_count": null,
   "metadata": {},
   "outputs": [],
   "source": [
    "# column:premise\n",
    "df.premise.value_counts(dropna=False)[:10]"
   ]
  },
  {
   "cell_type": "code",
   "execution_count": null,
   "metadata": {},
   "outputs": [],
   "source": [
    "# column:beat\n",
    "df.beat.value_counts(dropna=False)[:10]"
   ]
  },
  {
   "cell_type": "code",
   "execution_count": null,
   "metadata": {},
   "outputs": [],
   "source": [
    "# column:offense_type\n",
    "df.offense_type.value_counts(dropna=False)[:10]"
   ]
  },
  {
   "cell_type": "markdown",
   "metadata": {},
   "source": [
    "# Save"
   ]
  },
  {
   "cell_type": "code",
   "execution_count": 23,
   "metadata": {},
   "outputs": [],
   "source": [
    "col_ord =['date_time','offenses','offense_type', 'block_range', 'street_name', 'type', 'suffix','beat', 'premise']\n",
    "df = df[col_ord]\n",
    "\n",
    "\n",
    "\n",
    "file = 'crime_2012.csv'\n",
    "directory_save = os.path.join('..','data','interim',f'{file}')\n",
    "df.to_csv(directory_save,index=False)"
   ]
  },
  {
   "cell_type": "code",
   "execution_count": 24,
   "metadata": {},
   "outputs": [
    {
     "data": {
      "text/html": [
       "<div>\n",
       "<style scoped>\n",
       "    .dataframe tbody tr th:only-of-type {\n",
       "        vertical-align: middle;\n",
       "    }\n",
       "\n",
       "    .dataframe tbody tr th {\n",
       "        vertical-align: top;\n",
       "    }\n",
       "\n",
       "    .dataframe thead th {\n",
       "        text-align: right;\n",
       "    }\n",
       "</style>\n",
       "<table border=\"1\" class=\"dataframe\">\n",
       "  <thead>\n",
       "    <tr style=\"text-align: right;\">\n",
       "      <th></th>\n",
       "      <th>date_time</th>\n",
       "      <th>offenses</th>\n",
       "      <th>offense_type</th>\n",
       "      <th>block_range</th>\n",
       "      <th>street_name</th>\n",
       "      <th>type</th>\n",
       "      <th>suffix</th>\n",
       "      <th>beat</th>\n",
       "      <th>premise</th>\n",
       "    </tr>\n",
       "  </thead>\n",
       "  <tbody>\n",
       "    <tr>\n",
       "      <th>0</th>\n",
       "      <td>2012-04-05 02:00:00</td>\n",
       "      <td>1</td>\n",
       "      <td>Murder</td>\n",
       "      <td>6100-6199</td>\n",
       "      <td>CLARIDGE</td>\n",
       "      <td>DR</td>\n",
       "      <td>-</td>\n",
       "      <td>17E40</td>\n",
       "      <td>20R</td>\n",
       "    </tr>\n",
       "    <tr>\n",
       "      <th>1</th>\n",
       "      <td>2012-04-04 22:00:00</td>\n",
       "      <td>1</td>\n",
       "      <td>Murder</td>\n",
       "      <td>11700-11799</td>\n",
       "      <td>HEMPSTEAD</td>\n",
       "      <td>HWY</td>\n",
       "      <td>-</td>\n",
       "      <td>3B10</td>\n",
       "      <td>18A</td>\n",
       "    </tr>\n",
       "    <tr>\n",
       "      <th>2</th>\n",
       "      <td>2012-04-01 23:00:00</td>\n",
       "      <td>1</td>\n",
       "      <td>Murder</td>\n",
       "      <td>7500-7599</td>\n",
       "      <td>CORPORATE</td>\n",
       "      <td>DR</td>\n",
       "      <td>-</td>\n",
       "      <td>19G10</td>\n",
       "      <td>20A</td>\n",
       "    </tr>\n",
       "    <tr>\n",
       "      <th>3</th>\n",
       "      <td>2012-04-21 23:00:00</td>\n",
       "      <td>1</td>\n",
       "      <td>Murder</td>\n",
       "      <td>6200-6299</td>\n",
       "      <td>RIETTA</td>\n",
       "      <td>-</td>\n",
       "      <td>-</td>\n",
       "      <td>8C10</td>\n",
       "      <td>20R</td>\n",
       "    </tr>\n",
       "    <tr>\n",
       "      <th>4</th>\n",
       "      <td>2012-04-01 06:00:00</td>\n",
       "      <td>1</td>\n",
       "      <td>Murder</td>\n",
       "      <td>4200-4299</td>\n",
       "      <td>34TH</td>\n",
       "      <td>ST</td>\n",
       "      <td>W</td>\n",
       "      <td>3B10</td>\n",
       "      <td>20A</td>\n",
       "    </tr>\n",
       "    <tr>\n",
       "      <th>...</th>\n",
       "      <td>...</td>\n",
       "      <td>...</td>\n",
       "      <td>...</td>\n",
       "      <td>...</td>\n",
       "      <td>...</td>\n",
       "      <td>...</td>\n",
       "      <td>...</td>\n",
       "      <td>...</td>\n",
       "      <td>...</td>\n",
       "    </tr>\n",
       "    <tr>\n",
       "      <th>127766</th>\n",
       "      <td>2012-09-30 23:00:00</td>\n",
       "      <td>1</td>\n",
       "      <td>Theft</td>\n",
       "      <td>2300-2399</td>\n",
       "      <td>GESSNER</td>\n",
       "      <td>DR</td>\n",
       "      <td>-</td>\n",
       "      <td>4F20</td>\n",
       "      <td>18G</td>\n",
       "    </tr>\n",
       "    <tr>\n",
       "      <th>127767</th>\n",
       "      <td>2012-09-30 22:00:00</td>\n",
       "      <td>1</td>\n",
       "      <td>Theft</td>\n",
       "      <td>2000-2099</td>\n",
       "      <td>ARLINGTON</td>\n",
       "      <td>ST</td>\n",
       "      <td>-</td>\n",
       "      <td>2A30</td>\n",
       "      <td>13R</td>\n",
       "    </tr>\n",
       "    <tr>\n",
       "      <th>127768</th>\n",
       "      <td>2012-09-30 21:00:00</td>\n",
       "      <td>1</td>\n",
       "      <td>Theft</td>\n",
       "      <td>400-499</td>\n",
       "      <td>21ST</td>\n",
       "      <td>ST</td>\n",
       "      <td>W</td>\n",
       "      <td>2A30</td>\n",
       "      <td>13R</td>\n",
       "    </tr>\n",
       "    <tr>\n",
       "      <th>127769</th>\n",
       "      <td>2012-09-30 23:00:00</td>\n",
       "      <td>1</td>\n",
       "      <td>Theft</td>\n",
       "      <td>3000-3099</td>\n",
       "      <td>HILLCROFT</td>\n",
       "      <td>-</td>\n",
       "      <td>-</td>\n",
       "      <td>18F30</td>\n",
       "      <td>18A</td>\n",
       "    </tr>\n",
       "    <tr>\n",
       "      <th>127770</th>\n",
       "      <td>2012-09-30 19:00:00</td>\n",
       "      <td>1</td>\n",
       "      <td>Theft</td>\n",
       "      <td>600-699</td>\n",
       "      <td>THORNTON</td>\n",
       "      <td>-</td>\n",
       "      <td>-</td>\n",
       "      <td>3B40</td>\n",
       "      <td>20A</td>\n",
       "    </tr>\n",
       "  </tbody>\n",
       "</table>\n",
       "<p>127771 rows × 9 columns</p>\n",
       "</div>"
      ],
      "text/plain": [
       "                 date_time  offenses offense_type  block_range street_name  \\\n",
       "0      2012-04-05 02:00:00         1       Murder    6100-6199    CLARIDGE   \n",
       "1      2012-04-04 22:00:00         1       Murder  11700-11799   HEMPSTEAD   \n",
       "2      2012-04-01 23:00:00         1       Murder    7500-7599   CORPORATE   \n",
       "3      2012-04-21 23:00:00         1       Murder    6200-6299      RIETTA   \n",
       "4      2012-04-01 06:00:00         1       Murder    4200-4299        34TH   \n",
       "...                    ...       ...          ...          ...         ...   \n",
       "127766 2012-09-30 23:00:00         1        Theft    2300-2399     GESSNER   \n",
       "127767 2012-09-30 22:00:00         1        Theft    2000-2099   ARLINGTON   \n",
       "127768 2012-09-30 21:00:00         1        Theft      400-499        21ST   \n",
       "127769 2012-09-30 23:00:00         1        Theft    3000-3099   HILLCROFT   \n",
       "127770 2012-09-30 19:00:00         1        Theft      600-699    THORNTON   \n",
       "\n",
       "       type suffix   beat premise  \n",
       "0        DR      -  17E40     20R  \n",
       "1       HWY      -   3B10     18A  \n",
       "2        DR      -  19G10     20A  \n",
       "3         -      -   8C10     20R  \n",
       "4        ST      W   3B10     20A  \n",
       "...     ...    ...    ...     ...  \n",
       "127766   DR      -   4F20     18G  \n",
       "127767   ST      -   2A30     13R  \n",
       "127768   ST      W   2A30     13R  \n",
       "127769    -      -  18F30     18A  \n",
       "127770    -      -   3B40     20A  \n",
       "\n",
       "[127771 rows x 9 columns]"
      ]
     },
     "execution_count": 24,
     "metadata": {},
     "output_type": "execute_result"
    }
   ],
   "source": [
    "df"
   ]
  },
  {
   "cell_type": "code",
   "execution_count": null,
   "metadata": {},
   "outputs": [],
   "source": []
  }
 ],
 "metadata": {
  "kernelspec": {
   "display_name": "Python 3",
   "language": "python",
   "name": "python3"
  },
  "language_info": {
   "codemirror_mode": {
    "name": "ipython",
    "version": 3
   },
   "file_extension": ".py",
   "mimetype": "text/x-python",
   "name": "python",
   "nbconvert_exporter": "python",
   "pygments_lexer": "ipython3",
   "version": "3.8.5"
  }
 },
 "nbformat": 4,
 "nbformat_minor": 4
}
