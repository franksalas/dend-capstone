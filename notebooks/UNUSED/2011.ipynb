{
 "cells": [
  {
   "cell_type": "code",
   "execution_count": 1,
   "metadata": {},
   "outputs": [
    {
     "data": {
      "text/html": [
       "        <script type=\"text/javascript\">\n",
       "        window.PlotlyConfig = {MathJaxConfig: 'local'};\n",
       "        if (window.MathJax) {MathJax.Hub.Config({SVG: {font: \"STIX-Web\"}});}\n",
       "        if (typeof require !== 'undefined') {\n",
       "        require.undef(\"plotly\");\n",
       "        requirejs.config({\n",
       "            paths: {\n",
       "                'plotly': ['https://cdn.plot.ly/plotly-latest.min']\n",
       "            }\n",
       "        });\n",
       "        require(['plotly'], function(Plotly) {\n",
       "            window._Plotly = Plotly;\n",
       "        });\n",
       "        }\n",
       "        </script>\n",
       "        "
      ]
     },
     "metadata": {},
     "output_type": "display_data"
    },
    {
     "name": "stdout",
     "output_type": "stream",
     "text": [
      "\n",
      "python\t3.8.5 (default, Sep  4 2020, 07:30:14) \n",
      "[GCC 7.3.0]\n",
      "---------------------\n",
      "Versions:\n",
      "----------------------\n",
      "pandas      1.1.2\n",
      "numpy       1.19.1\n",
      "matplotlib  3.3.1\n",
      "seaborn     0.11.0\n",
      "plotly      4.11.0\n",
      "----------------------\n",
      "\n",
      "\n",
      "Loaded Libraries\n",
      "-------------------\n",
      "import pandas as pd\n",
      "import numpy as np\n",
      "import sys,os\n",
      "import re\n",
      "import glob\n",
      "import pickle\n",
      "import seaborn as sns\n",
      "import matplotlib.pyplot as plt\n",
      "import plotly\n",
      "import plotly.graph_objs as go\n",
      "from plotly.offline import download_plotlyjs, init_notebook_mode, plot, iplot\n",
      "init_notebook_mode(connected=True)\n",
      "----------------\n",
      "\n",
      "\n",
      "GLOBAL VARIABLES\n",
      "--------------------------\n",
      "HERE_DIR: list current directory path\n",
      "RAW_DIR: list files in `data\\raw` directory\n",
      "INTER_DIR: list files in `data\\interim` directory\n",
      "FINAL_DIR: list files in `data\\final` directory\n",
      "SRC_DIR: list files in `src\\` directory\n",
      "------------------------------\n",
      "\n",
      "# SAVE PLOTS\n",
      "To save a plot call\n",
      "`save_plots(fig_variable,'name_of_plot')`\n",
      "\n",
      "source file: src/start.py\n",
      "\n",
      "\n"
     ]
    }
   ],
   "source": [
    "%run ../src/start.py"
   ]
  },
  {
   "cell_type": "code",
   "execution_count": 2,
   "metadata": {},
   "outputs": [
    {
     "name": "stdout",
     "output_type": "stream",
     "text": [
      "\u001b[0m\u001b[01;32mapr11.xlsx\u001b[0m*  \u001b[01;32mdec11.xlsx\u001b[0m*  \u001b[01;32mjan11.xlsx\u001b[0m*  \u001b[01;32mjun11.xlsx\u001b[0m*  \u001b[01;32mmay11.xlsx\u001b[0m*  \u001b[01;32moct11.xlsx\u001b[0m*\r\n",
      "\u001b[01;32maug11.xlsx\u001b[0m*  \u001b[01;32mfeb11.xlsx\u001b[0m*  \u001b[01;32mjul11.xlsx\u001b[0m*  \u001b[01;32mmar11.xlsx\u001b[0m*  \u001b[01;32mnov11.xlsx\u001b[0m*  \u001b[01;32msep11.xlsx\u001b[0m*\r\n"
     ]
    }
   ],
   "source": [
    "ls ../data/raw/crime_data/2011/csv"
   ]
  },
  {
   "cell_type": "code",
   "execution_count": null,
   "metadata": {},
   "outputs": [],
   "source": []
  },
  {
   "cell_type": "code",
   "execution_count": 3,
   "metadata": {},
   "outputs": [],
   "source": [
    "path = '2011/csv'\n",
    "raw_directory = os.path.join('..','data','raw','crime_data',f'{path}/')"
   ]
  },
  {
   "cell_type": "code",
   "execution_count": 4,
   "metadata": {},
   "outputs": [],
   "source": [
    "all_files = glob.glob(os.path.join(raw_directory, \"*.xlsx\")) # change \"*.xlsx\" for excel files\n",
    "df_from_each_file = (pd.read_excel(f, engine='openpyxl') for f in all_files)    # change to `pd.read_excel(f)` for excel files\n",
    "df   = pd.concat(df_from_each_file, ignore_index=True)     # combine into one large dataframe\n",
    "\n",
    "# cleanup columns\n",
    "df.columns = df.columns.str.lower().str.replace(' ','_').str.replace('\\n','_').str.strip()\n",
    "# df.columns = df.columns.str.strip().str.lower().str.replace('-', '_').str.replace(' ', '_').str.replace('(', '').str.replace(')', '')"
   ]
  },
  {
   "cell_type": "code",
   "execution_count": null,
   "metadata": {},
   "outputs": [],
   "source": []
  },
  {
   "cell_type": "code",
   "execution_count": 5,
   "metadata": {},
   "outputs": [
    {
     "name": "stdout",
     "output_type": "stream",
     "text": [
      "<class 'pandas.core.frame.DataFrame'>\n",
      "RangeIndex: 127659 entries, 0 to 127658\n",
      "Data columns (total 12 columns):\n",
      " #   Column         Non-Null Count   Dtype         \n",
      "---  ------         --------------   -----         \n",
      " 0   date           127659 non-null  datetime64[ns]\n",
      " 1   hour           127659 non-null  int64         \n",
      " 2   offense_type   127659 non-null  object        \n",
      " 3   beat           127659 non-null  object        \n",
      " 4   premise        127659 non-null  object        \n",
      " 5   block_range    127659 non-null  object        \n",
      " 6   street_name    127659 non-null  object        \n",
      " 7   type           127659 non-null  object        \n",
      " 8   suffix         127659 non-null  object        \n",
      " 9   ._of_offenses  127659 non-null  int64         \n",
      " 10  field11        0 non-null       float64       \n",
      " 11  field12        0 non-null       float64       \n",
      "dtypes: datetime64[ns](1), float64(2), int64(2), object(7)\n",
      "memory usage: 11.7+ MB\n"
     ]
    }
   ],
   "source": [
    "df.info()"
   ]
  },
  {
   "cell_type": "markdown",
   "metadata": {},
   "source": [
    "# Show null data"
   ]
  },
  {
   "cell_type": "code",
   "execution_count": 6,
   "metadata": {},
   "outputs": [
    {
     "data": {
      "text/plain": [
       "date                  0\n",
       "hour                  0\n",
       "offense_type          0\n",
       "beat                  0\n",
       "premise               0\n",
       "block_range           0\n",
       "street_name           0\n",
       "type                  0\n",
       "suffix                0\n",
       "._of_offenses         0\n",
       "field11          127659\n",
       "field12          127659\n",
       "dtype: int64"
      ]
     },
     "execution_count": 6,
     "metadata": {},
     "output_type": "execute_result"
    }
   ],
   "source": [
    "df.apply(lambda x: sum(x.isnull()))"
   ]
  },
  {
   "cell_type": "code",
   "execution_count": 7,
   "metadata": {},
   "outputs": [
    {
     "data": {
      "text/html": [
       "<div>\n",
       "<style scoped>\n",
       "    .dataframe tbody tr th:only-of-type {\n",
       "        vertical-align: middle;\n",
       "    }\n",
       "\n",
       "    .dataframe tbody tr th {\n",
       "        vertical-align: top;\n",
       "    }\n",
       "\n",
       "    .dataframe thead th {\n",
       "        text-align: right;\n",
       "    }\n",
       "</style>\n",
       "<table border=\"1\" class=\"dataframe\">\n",
       "  <thead>\n",
       "    <tr style=\"text-align: right;\">\n",
       "      <th></th>\n",
       "      <th>null_percent</th>\n",
       "    </tr>\n",
       "  </thead>\n",
       "  <tbody>\n",
       "    <tr>\n",
       "      <th>date</th>\n",
       "      <td>0.0</td>\n",
       "    </tr>\n",
       "    <tr>\n",
       "      <th>hour</th>\n",
       "      <td>0.0</td>\n",
       "    </tr>\n",
       "    <tr>\n",
       "      <th>offense_type</th>\n",
       "      <td>0.0</td>\n",
       "    </tr>\n",
       "    <tr>\n",
       "      <th>beat</th>\n",
       "      <td>0.0</td>\n",
       "    </tr>\n",
       "    <tr>\n",
       "      <th>premise</th>\n",
       "      <td>0.0</td>\n",
       "    </tr>\n",
       "    <tr>\n",
       "      <th>block_range</th>\n",
       "      <td>0.0</td>\n",
       "    </tr>\n",
       "    <tr>\n",
       "      <th>street_name</th>\n",
       "      <td>0.0</td>\n",
       "    </tr>\n",
       "    <tr>\n",
       "      <th>type</th>\n",
       "      <td>0.0</td>\n",
       "    </tr>\n",
       "    <tr>\n",
       "      <th>suffix</th>\n",
       "      <td>0.0</td>\n",
       "    </tr>\n",
       "    <tr>\n",
       "      <th>._of_offenses</th>\n",
       "      <td>0.0</td>\n",
       "    </tr>\n",
       "  </tbody>\n",
       "</table>\n",
       "</div>"
      ],
      "text/plain": [
       "               null_percent\n",
       "date                    0.0\n",
       "hour                    0.0\n",
       "offense_type            0.0\n",
       "beat                    0.0\n",
       "premise                 0.0\n",
       "block_range             0.0\n",
       "street_name             0.0\n",
       "type                    0.0\n",
       "suffix                  0.0\n",
       "._of_offenses           0.0"
      ]
     },
     "execution_count": 7,
     "metadata": {},
     "output_type": "execute_result"
    }
   ],
   "source": [
    "# create null percentage of column as dataframe\n",
    "null_per_df = pd.DataFrame(df.isna().mean().round(4) * 100)\n",
    "# rename columns\n",
    "null_per_df.rename(columns={'index': 'col_name', 0: 'null_percent'}, inplace=True)\n",
    "\n",
    "# filter data <20% null values\n",
    "per_filter = null_per_df.null_percent<=90\n",
    "null_per_df[per_filter].sort_values(by='null_percent',ascending=False)"
   ]
  },
  {
   "cell_type": "code",
   "execution_count": 8,
   "metadata": {},
   "outputs": [
    {
     "data": {
      "image/png": "[encoded data removed]",
      "text/plain": [
       "<Figure size 1080x288 with 1 Axes>"
      ]
     },
     "metadata": {},
     "output_type": "display_data"
    }
   ],
   "source": [
    "plt.figure(figsize=(15,4))\n",
    "sns.heatmap(df.isnull(),yticklabels=False,cbar=False,cmap='viridis')\n",
    "plt.title('Missing data')\n",
    "plt.show()"
   ]
  },
  {
   "cell_type": "code",
   "execution_count": 9,
   "metadata": {},
   "outputs": [
    {
     "data": {
      "text/plain": [
       "['date',\n",
       " 'hour',\n",
       " 'offense_type',\n",
       " 'beat',\n",
       " 'premise',\n",
       " 'block_range',\n",
       " 'street_name',\n",
       " 'type',\n",
       " 'suffix',\n",
       " '._of_offenses',\n",
       " 'field11',\n",
       " 'field12']"
      ]
     },
     "execution_count": 9,
     "metadata": {},
     "output_type": "execute_result"
    }
   ],
   "source": [
    "df.columns.tolist()"
   ]
  },
  {
   "cell_type": "code",
   "execution_count": 10,
   "metadata": {},
   "outputs": [],
   "source": [
    "# # combine columns into a new one\n",
    "# df['offenses'] = pd.concat([df['. Of Offenses'].dropna(),\n",
    "#                               df['. of Offenses'].dropna()]).reindex_like(df)\n",
    "\n",
    "# # drop columns\n",
    "# df = df.drop(['. Of Offenses','. of Offenses', 'Field11',\n",
    "#  'Field12',\n",
    "#  'Field13'], axis = 1)"
   ]
  },
  {
   "cell_type": "code",
   "execution_count": 11,
   "metadata": {},
   "outputs": [],
   "source": [
    "df = df.drop([ 'field11','field12'], axis = 1)"
   ]
  },
  {
   "cell_type": "code",
   "execution_count": 12,
   "metadata": {},
   "outputs": [],
   "source": [
    "df.columns = df.columns.str.lower().str.replace(' ','_').str.replace('\\n','_').str.strip()"
   ]
  },
  {
   "cell_type": "code",
   "execution_count": 13,
   "metadata": {},
   "outputs": [
    {
     "data": {
      "text/plain": [
       "date             0\n",
       "hour             0\n",
       "offense_type     0\n",
       "beat             0\n",
       "premise          0\n",
       "block_range      0\n",
       "street_name      0\n",
       "type             0\n",
       "suffix           0\n",
       "._of_offenses    0\n",
       "dtype: int64"
      ]
     },
     "execution_count": 13,
     "metadata": {},
     "output_type": "execute_result"
    }
   ],
   "source": [
    "df.apply(lambda x: sum(x.isnull()))"
   ]
  },
  {
   "cell_type": "code",
   "execution_count": 14,
   "metadata": {},
   "outputs": [
    {
     "data": {
      "image/png": "[encoded data removed]",
      "text/plain": [
       "<Figure size 1080x288 with 1 Axes>"
      ]
     },
     "metadata": {},
     "output_type": "display_data"
    }
   ],
   "source": [
    "plt.figure(figsize=(15,4))\n",
    "sns.heatmap(df.isnull(),yticklabels=False,cbar=False,cmap='viridis')\n",
    "plt.title('Missing data')\n",
    "plt.show()"
   ]
  },
  {
   "cell_type": "code",
   "execution_count": 15,
   "metadata": {},
   "outputs": [
    {
     "data": {
      "text/html": [
       "<div>\n",
       "<style scoped>\n",
       "    .dataframe tbody tr th:only-of-type {\n",
       "        vertical-align: middle;\n",
       "    }\n",
       "\n",
       "    .dataframe tbody tr th {\n",
       "        vertical-align: top;\n",
       "    }\n",
       "\n",
       "    .dataframe thead th {\n",
       "        text-align: right;\n",
       "    }\n",
       "</style>\n",
       "<table border=\"1\" class=\"dataframe\">\n",
       "  <thead>\n",
       "    <tr style=\"text-align: right;\">\n",
       "      <th></th>\n",
       "      <th>date</th>\n",
       "      <th>hour</th>\n",
       "      <th>offense_type</th>\n",
       "      <th>beat</th>\n",
       "      <th>premise</th>\n",
       "      <th>block_range</th>\n",
       "      <th>street_name</th>\n",
       "      <th>type</th>\n",
       "      <th>suffix</th>\n",
       "      <th>._of_offenses</th>\n",
       "    </tr>\n",
       "  </thead>\n",
       "  <tbody>\n",
       "    <tr>\n",
       "      <th>0</th>\n",
       "      <td>2011-04-13</td>\n",
       "      <td>1</td>\n",
       "      <td>Murder</td>\n",
       "      <td>17E40</td>\n",
       "      <td>20A</td>\n",
       "      <td>6400-6499</td>\n",
       "      <td>BANKSIDE</td>\n",
       "      <td>DR</td>\n",
       "      <td>-</td>\n",
       "      <td>1</td>\n",
       "    </tr>\n",
       "    <tr>\n",
       "      <th>1</th>\n",
       "      <td>2011-04-06</td>\n",
       "      <td>14</td>\n",
       "      <td>Murder</td>\n",
       "      <td>20G30</td>\n",
       "      <td>20A</td>\n",
       "      <td>2900-2999</td>\n",
       "      <td>HAYES</td>\n",
       "      <td>RD</td>\n",
       "      <td>-</td>\n",
       "      <td>1</td>\n",
       "    </tr>\n",
       "    <tr>\n",
       "      <th>2</th>\n",
       "      <td>2011-01-10</td>\n",
       "      <td>19</td>\n",
       "      <td>Murder</td>\n",
       "      <td>13D20</td>\n",
       "      <td>20R</td>\n",
       "      <td>8400-8499</td>\n",
       "      <td>GLENSCOT</td>\n",
       "      <td>-</td>\n",
       "      <td>-</td>\n",
       "      <td>1</td>\n",
       "    </tr>\n",
       "    <tr>\n",
       "      <th>3</th>\n",
       "      <td>2011-04-03</td>\n",
       "      <td>23</td>\n",
       "      <td>Murder</td>\n",
       "      <td>19G50</td>\n",
       "      <td>18N</td>\n",
       "      <td>10700-10799</td>\n",
       "      <td>BELLFORT</td>\n",
       "      <td>ST</td>\n",
       "      <td>W</td>\n",
       "      <td>1</td>\n",
       "    </tr>\n",
       "    <tr>\n",
       "      <th>4</th>\n",
       "      <td>2011-04-17</td>\n",
       "      <td>23</td>\n",
       "      <td>Murder</td>\n",
       "      <td>11H20</td>\n",
       "      <td>20A</td>\n",
       "      <td>2500-2599</td>\n",
       "      <td>BROADWAY</td>\n",
       "      <td>ST</td>\n",
       "      <td>-</td>\n",
       "      <td>1</td>\n",
       "    </tr>\n",
       "  </tbody>\n",
       "</table>\n",
       "</div>"
      ],
      "text/plain": [
       "        date  hour offense_type   beat premise  block_range street_name type  \\\n",
       "0 2011-04-13     1       Murder  17E40     20A    6400-6499    BANKSIDE   DR   \n",
       "1 2011-04-06    14       Murder  20G30     20A    2900-2999       HAYES   RD   \n",
       "2 2011-01-10    19       Murder  13D20     20R    8400-8499    GLENSCOT    -   \n",
       "3 2011-04-03    23       Murder  19G50     18N  10700-10799    BELLFORT   ST   \n",
       "4 2011-04-17    23       Murder  11H20     20A    2500-2599    BROADWAY   ST   \n",
       "\n",
       "  suffix  ._of_offenses  \n",
       "0      -              1  \n",
       "1      -              1  \n",
       "2      -              1  \n",
       "3      W              1  \n",
       "4      -              1  "
      ]
     },
     "execution_count": 15,
     "metadata": {},
     "output_type": "execute_result"
    }
   ],
   "source": [
    "df.head()"
   ]
  },
  {
   "cell_type": "code",
   "execution_count": 16,
   "metadata": {},
   "outputs": [
    {
     "name": "stdout",
     "output_type": "stream",
     "text": [
      "<class 'pandas.core.frame.DataFrame'>\n",
      "RangeIndex: 127659 entries, 0 to 127658\n",
      "Data columns (total 10 columns):\n",
      " #   Column         Non-Null Count   Dtype         \n",
      "---  ------         --------------   -----         \n",
      " 0   date           127659 non-null  datetime64[ns]\n",
      " 1   hour           127659 non-null  int64         \n",
      " 2   offense_type   127659 non-null  object        \n",
      " 3   beat           127659 non-null  object        \n",
      " 4   premise        127659 non-null  object        \n",
      " 5   block_range    127659 non-null  object        \n",
      " 6   street_name    127659 non-null  object        \n",
      " 7   type           127659 non-null  object        \n",
      " 8   suffix         127659 non-null  object        \n",
      " 9   ._of_offenses  127659 non-null  int64         \n",
      "dtypes: datetime64[ns](1), int64(2), object(7)\n",
      "memory usage: 9.7+ MB\n"
     ]
    }
   ],
   "source": [
    "df.info()"
   ]
  },
  {
   "cell_type": "markdown",
   "metadata": {},
   "source": [
    "## Combine date & hour to one column"
   ]
  },
  {
   "cell_type": "code",
   "execution_count": 17,
   "metadata": {},
   "outputs": [
    {
     "data": {
      "text/html": [
       "<div>\n",
       "<style scoped>\n",
       "    .dataframe tbody tr th:only-of-type {\n",
       "        vertical-align: middle;\n",
       "    }\n",
       "\n",
       "    .dataframe tbody tr th {\n",
       "        vertical-align: top;\n",
       "    }\n",
       "\n",
       "    .dataframe thead th {\n",
       "        text-align: right;\n",
       "    }\n",
       "</style>\n",
       "<table border=\"1\" class=\"dataframe\">\n",
       "  <thead>\n",
       "    <tr style=\"text-align: right;\">\n",
       "      <th></th>\n",
       "      <th>date</th>\n",
       "      <th>hour</th>\n",
       "    </tr>\n",
       "  </thead>\n",
       "  <tbody>\n",
       "    <tr>\n",
       "      <th>0</th>\n",
       "      <td>2011-04-13</td>\n",
       "      <td>1</td>\n",
       "    </tr>\n",
       "    <tr>\n",
       "      <th>1</th>\n",
       "      <td>2011-04-06</td>\n",
       "      <td>14</td>\n",
       "    </tr>\n",
       "    <tr>\n",
       "      <th>2</th>\n",
       "      <td>2011-01-10</td>\n",
       "      <td>19</td>\n",
       "    </tr>\n",
       "    <tr>\n",
       "      <th>3</th>\n",
       "      <td>2011-04-03</td>\n",
       "      <td>23</td>\n",
       "    </tr>\n",
       "    <tr>\n",
       "      <th>4</th>\n",
       "      <td>2011-04-17</td>\n",
       "      <td>23</td>\n",
       "    </tr>\n",
       "    <tr>\n",
       "      <th>...</th>\n",
       "      <td>...</td>\n",
       "      <td>...</td>\n",
       "    </tr>\n",
       "    <tr>\n",
       "      <th>127654</th>\n",
       "      <td>2011-09-30</td>\n",
       "      <td>17</td>\n",
       "    </tr>\n",
       "    <tr>\n",
       "      <th>127655</th>\n",
       "      <td>2011-09-30</td>\n",
       "      <td>22</td>\n",
       "    </tr>\n",
       "    <tr>\n",
       "      <th>127656</th>\n",
       "      <td>2011-09-30</td>\n",
       "      <td>23</td>\n",
       "    </tr>\n",
       "    <tr>\n",
       "      <th>127657</th>\n",
       "      <td>2011-09-30</td>\n",
       "      <td>23</td>\n",
       "    </tr>\n",
       "    <tr>\n",
       "      <th>127658</th>\n",
       "      <td>2011-09-30</td>\n",
       "      <td>21</td>\n",
       "    </tr>\n",
       "  </tbody>\n",
       "</table>\n",
       "<p>127659 rows × 2 columns</p>\n",
       "</div>"
      ],
      "text/plain": [
       "             date  hour\n",
       "0      2011-04-13     1\n",
       "1      2011-04-06    14\n",
       "2      2011-01-10    19\n",
       "3      2011-04-03    23\n",
       "4      2011-04-17    23\n",
       "...           ...   ...\n",
       "127654 2011-09-30    17\n",
       "127655 2011-09-30    22\n",
       "127656 2011-09-30    23\n",
       "127657 2011-09-30    23\n",
       "127658 2011-09-30    21\n",
       "\n",
       "[127659 rows x 2 columns]"
      ]
     },
     "execution_count": 17,
     "metadata": {},
     "output_type": "execute_result"
    }
   ],
   "source": [
    "df[['date','hour']]"
   ]
  },
  {
   "cell_type": "code",
   "execution_count": 18,
   "metadata": {},
   "outputs": [],
   "source": [
    "# convert two columns into one datetime\n",
    "df['date_time'] = pd.to_datetime(df['date']) + pd.to_timedelta(df['hour'], unit='h')\n",
    "\n",
    "# drop columns\n",
    "df = df.drop(['date','hour'], axis = 1)"
   ]
  },
  {
   "cell_type": "code",
   "execution_count": 19,
   "metadata": {},
   "outputs": [
    {
     "data": {
      "text/html": [
       "<div>\n",
       "<style scoped>\n",
       "    .dataframe tbody tr th:only-of-type {\n",
       "        vertical-align: middle;\n",
       "    }\n",
       "\n",
       "    .dataframe tbody tr th {\n",
       "        vertical-align: top;\n",
       "    }\n",
       "\n",
       "    .dataframe thead th {\n",
       "        text-align: right;\n",
       "    }\n",
       "</style>\n",
       "<table border=\"1\" class=\"dataframe\">\n",
       "  <thead>\n",
       "    <tr style=\"text-align: right;\">\n",
       "      <th></th>\n",
       "      <th>offense_type</th>\n",
       "      <th>beat</th>\n",
       "      <th>premise</th>\n",
       "      <th>block_range</th>\n",
       "      <th>street_name</th>\n",
       "      <th>type</th>\n",
       "      <th>suffix</th>\n",
       "      <th>._of_offenses</th>\n",
       "      <th>date_time</th>\n",
       "    </tr>\n",
       "  </thead>\n",
       "  <tbody>\n",
       "    <tr>\n",
       "      <th>0</th>\n",
       "      <td>Murder</td>\n",
       "      <td>17E40</td>\n",
       "      <td>20A</td>\n",
       "      <td>6400-6499</td>\n",
       "      <td>BANKSIDE</td>\n",
       "      <td>DR</td>\n",
       "      <td>-</td>\n",
       "      <td>1</td>\n",
       "      <td>2011-04-13 01:00:00</td>\n",
       "    </tr>\n",
       "    <tr>\n",
       "      <th>1</th>\n",
       "      <td>Murder</td>\n",
       "      <td>20G30</td>\n",
       "      <td>20A</td>\n",
       "      <td>2900-2999</td>\n",
       "      <td>HAYES</td>\n",
       "      <td>RD</td>\n",
       "      <td>-</td>\n",
       "      <td>1</td>\n",
       "      <td>2011-04-06 14:00:00</td>\n",
       "    </tr>\n",
       "    <tr>\n",
       "      <th>2</th>\n",
       "      <td>Murder</td>\n",
       "      <td>13D20</td>\n",
       "      <td>20R</td>\n",
       "      <td>8400-8499</td>\n",
       "      <td>GLENSCOT</td>\n",
       "      <td>-</td>\n",
       "      <td>-</td>\n",
       "      <td>1</td>\n",
       "      <td>2011-01-10 19:00:00</td>\n",
       "    </tr>\n",
       "    <tr>\n",
       "      <th>3</th>\n",
       "      <td>Murder</td>\n",
       "      <td>19G50</td>\n",
       "      <td>18N</td>\n",
       "      <td>10700-10799</td>\n",
       "      <td>BELLFORT</td>\n",
       "      <td>ST</td>\n",
       "      <td>W</td>\n",
       "      <td>1</td>\n",
       "      <td>2011-04-03 23:00:00</td>\n",
       "    </tr>\n",
       "    <tr>\n",
       "      <th>4</th>\n",
       "      <td>Murder</td>\n",
       "      <td>11H20</td>\n",
       "      <td>20A</td>\n",
       "      <td>2500-2599</td>\n",
       "      <td>BROADWAY</td>\n",
       "      <td>ST</td>\n",
       "      <td>-</td>\n",
       "      <td>1</td>\n",
       "      <td>2011-04-17 23:00:00</td>\n",
       "    </tr>\n",
       "  </tbody>\n",
       "</table>\n",
       "</div>"
      ],
      "text/plain": [
       "  offense_type   beat premise  block_range street_name type suffix  \\\n",
       "0       Murder  17E40     20A    6400-6499    BANKSIDE   DR      -   \n",
       "1       Murder  20G30     20A    2900-2999       HAYES   RD      -   \n",
       "2       Murder  13D20     20R    8400-8499    GLENSCOT    -      -   \n",
       "3       Murder  19G50     18N  10700-10799    BELLFORT   ST      W   \n",
       "4       Murder  11H20     20A    2500-2599    BROADWAY   ST      -   \n",
       "\n",
       "   ._of_offenses           date_time  \n",
       "0              1 2011-04-13 01:00:00  \n",
       "1              1 2011-04-06 14:00:00  \n",
       "2              1 2011-01-10 19:00:00  \n",
       "3              1 2011-04-03 23:00:00  \n",
       "4              1 2011-04-17 23:00:00  "
      ]
     },
     "execution_count": 19,
     "metadata": {},
     "output_type": "execute_result"
    }
   ],
   "source": [
    "df.head()"
   ]
  },
  {
   "cell_type": "code",
   "execution_count": 20,
   "metadata": {},
   "outputs": [
    {
     "name": "stdout",
     "output_type": "stream",
     "text": [
      "<class 'pandas.core.frame.DataFrame'>\n",
      "RangeIndex: 127659 entries, 0 to 127658\n",
      "Data columns (total 9 columns):\n",
      " #   Column         Non-Null Count   Dtype         \n",
      "---  ------         --------------   -----         \n",
      " 0   offense_type   127659 non-null  object        \n",
      " 1   beat           127659 non-null  object        \n",
      " 2   premise        127659 non-null  object        \n",
      " 3   block_range    127659 non-null  object        \n",
      " 4   street_name    127659 non-null  object        \n",
      " 5   type           127659 non-null  object        \n",
      " 6   suffix         127659 non-null  object        \n",
      " 7   ._of_offenses  127659 non-null  int64         \n",
      " 8   date_time      127659 non-null  datetime64[ns]\n",
      "dtypes: datetime64[ns](1), int64(1), object(7)\n",
      "memory usage: 8.8+ MB\n"
     ]
    }
   ],
   "source": [
    "df.info()"
   ]
  },
  {
   "cell_type": "code",
   "execution_count": 21,
   "metadata": {},
   "outputs": [],
   "source": [
    "#change column name\n",
    "\n",
    "df.rename(columns={\n",
    "    '._of_offenses': 'offenses',\n",
    "}, inplace=True)\n",
    "\n",
    "# convert offenses to int\n",
    "\n",
    "df['offenses'] = df['offenses'].astype('int64')"
   ]
  },
  {
   "cell_type": "code",
   "execution_count": 22,
   "metadata": {},
   "outputs": [
    {
     "name": "stdout",
     "output_type": "stream",
     "text": [
      "<class 'pandas.core.frame.DataFrame'>\n",
      "RangeIndex: 127659 entries, 0 to 127658\n",
      "Data columns (total 9 columns):\n",
      " #   Column        Non-Null Count   Dtype         \n",
      "---  ------        --------------   -----         \n",
      " 0   offense_type  127659 non-null  object        \n",
      " 1   beat          127659 non-null  object        \n",
      " 2   premise       127659 non-null  object        \n",
      " 3   block_range   127659 non-null  object        \n",
      " 4   street_name   127659 non-null  object        \n",
      " 5   type          127659 non-null  object        \n",
      " 6   suffix        127659 non-null  object        \n",
      " 7   offenses      127659 non-null  int64         \n",
      " 8   date_time     127659 non-null  datetime64[ns]\n",
      "dtypes: datetime64[ns](1), int64(1), object(7)\n",
      "memory usage: 8.8+ MB\n"
     ]
    }
   ],
   "source": [
    "df.info()"
   ]
  },
  {
   "cell_type": "code",
   "execution_count": 23,
   "metadata": {},
   "outputs": [
    {
     "data": {
      "text/plain": [
       "0        2011-04-13 01:00:00\n",
       "1        2011-04-06 14:00:00\n",
       "2        2011-01-10 19:00:00\n",
       "3        2011-04-03 23:00:00\n",
       "4        2011-04-17 23:00:00\n",
       "                 ...        \n",
       "127654   2011-09-30 17:00:00\n",
       "127655   2011-09-30 22:00:00\n",
       "127656   2011-09-30 23:00:00\n",
       "127657   2011-09-30 23:00:00\n",
       "127658   2011-09-30 21:00:00\n",
       "Name: date_time, Length: 127659, dtype: datetime64[ns]"
      ]
     },
     "execution_count": 23,
     "metadata": {},
     "output_type": "execute_result"
    }
   ],
   "source": [
    "df.date_time"
   ]
  },
  {
   "cell_type": "code",
   "execution_count": null,
   "metadata": {},
   "outputs": [],
   "source": []
  },
  {
   "cell_type": "markdown",
   "metadata": {},
   "source": [
    "# Inspect evry column"
   ]
  },
  {
   "cell_type": "code",
   "execution_count": null,
   "metadata": {},
   "outputs": [],
   "source": [
    "def create_new_cell(contents):\n",
    "    '''created new jupyter cells by inputing a list of columns\n",
    "    outputs'''\n",
    "    from IPython.core.getipython import get_ipython\n",
    "    shell = get_ipython()\n",
    "    payload = dict(\n",
    "        source='set_next_input',\n",
    "        #text=f'#column:{contents}\\ndf.{contents}.value_counts(dropna=False)[:10]'.format(contents),\n",
    "        text=f'# column:{contents}\\ndf.{contents}.value_counts(dropna=False)[:10]',\n",
    "        replace=False,)\n",
    "    shell.payload_manager.write_payload(payload, single=False)\n",
    "\n",
    "    \n",
    "def strip_col(col):\n",
    "    print(f'column:{col}')\n",
    "    print('before:{}'.format(len(df[col].value_counts(dropna=False))))\n",
    "    df.col = df[col].str.strip()\n",
    "    print('before:{}'.format(len(df[col].value_counts(dropna=False))))    \n",
    "    \n",
    "def lower_col(col):\n",
    "    print(f'column:{col}')\n",
    "    print('before:{}'.format(len(df[col].value_counts(dropna=False))))\n",
    "    df.col = df[col].str.lower()\n",
    "    print('before:{}'.format(len(df[col].value_counts(dropna=False))))       \n",
    "    \n",
    "    \n",
    "    \n",
    "def capital_col(col):\n",
    "    print(f'column:{col}')\n",
    "    print('before:{}'.format(len(df[col].value_counts(dropna=False))))\n",
    "    df.col = df[col].str.capitalize()\n",
    "    print('before:{}'.format(len(df[col].value_counts(dropna=False))))      "
   ]
  },
  {
   "cell_type": "code",
   "execution_count": null,
   "metadata": {},
   "outputs": [],
   "source": [
    "col_list = df.columns.tolist()\n",
    "col_list"
   ]
  },
  {
   "cell_type": "code",
   "execution_count": null,
   "metadata": {},
   "outputs": [],
   "source": [
    "for col in col_list:\n",
    "    create_new_cell(col)"
   ]
  },
  {
   "cell_type": "code",
   "execution_count": null,
   "metadata": {},
   "outputs": [],
   "source": [
    "# column:date_time\n",
    "df.date_time.value_counts(dropna=False)[:10]"
   ]
  },
  {
   "cell_type": "code",
   "execution_count": null,
   "metadata": {},
   "outputs": [],
   "source": [
    "# column:offenses\n",
    "df.offenses.value_counts(dropna=False)[:10]"
   ]
  },
  {
   "cell_type": "code",
   "execution_count": null,
   "metadata": {},
   "outputs": [],
   "source": [
    "# column:suffix\n",
    "df.suffix.value_counts(dropna=False)[:10]"
   ]
  },
  {
   "cell_type": "code",
   "execution_count": null,
   "metadata": {},
   "outputs": [],
   "source": [
    "# column:type\n",
    "df.type.value_counts(dropna=False)[:10]"
   ]
  },
  {
   "cell_type": "code",
   "execution_count": null,
   "metadata": {},
   "outputs": [],
   "source": [
    "# column:street_name\n",
    "df.street_name.value_counts(dropna=False)[:10]"
   ]
  },
  {
   "cell_type": "code",
   "execution_count": null,
   "metadata": {},
   "outputs": [],
   "source": [
    "# column:block_range\n",
    "df.block_range.value_counts(dropna=False)[:10]"
   ]
  },
  {
   "cell_type": "code",
   "execution_count": null,
   "metadata": {},
   "outputs": [],
   "source": [
    "# column:premise\n",
    "df.premise.value_counts(dropna=False)[:10]"
   ]
  },
  {
   "cell_type": "code",
   "execution_count": null,
   "metadata": {},
   "outputs": [],
   "source": [
    "# column:beat\n",
    "df.beat.value_counts(dropna=False)[:10]"
   ]
  },
  {
   "cell_type": "code",
   "execution_count": null,
   "metadata": {},
   "outputs": [],
   "source": [
    "# column:offense_type\n",
    "df.offense_type.value_counts(dropna=False)[:10]"
   ]
  },
  {
   "cell_type": "code",
   "execution_count": null,
   "metadata": {},
   "outputs": [],
   "source": [
    "df.head()"
   ]
  },
  {
   "cell_type": "code",
   "execution_count": null,
   "metadata": {},
   "outputs": [],
   "source": [
    "df.info()"
   ]
  },
  {
   "cell_type": "code",
   "execution_count": 24,
   "metadata": {},
   "outputs": [],
   "source": [
    "col_ord =['date_time','offenses','offense_type', 'block_range', 'street_name', 'type', 'suffix','beat', 'premise']\n",
    "df = df[col_ord]\n",
    "\n",
    "\n",
    "\n",
    "file = 'crime_2011.csv'\n",
    "directory_save = os.path.join('..','data','interim',f'{file}')\n",
    "df.to_csv(directory_save,index=False)"
   ]
  },
  {
   "cell_type": "code",
   "execution_count": 25,
   "metadata": {},
   "outputs": [
    {
     "data": {
      "text/html": [
       "<div>\n",
       "<style scoped>\n",
       "    .dataframe tbody tr th:only-of-type {\n",
       "        vertical-align: middle;\n",
       "    }\n",
       "\n",
       "    .dataframe tbody tr th {\n",
       "        vertical-align: top;\n",
       "    }\n",
       "\n",
       "    .dataframe thead th {\n",
       "        text-align: right;\n",
       "    }\n",
       "</style>\n",
       "<table border=\"1\" class=\"dataframe\">\n",
       "  <thead>\n",
       "    <tr style=\"text-align: right;\">\n",
       "      <th></th>\n",
       "      <th>date_time</th>\n",
       "      <th>offenses</th>\n",
       "      <th>offense_type</th>\n",
       "      <th>block_range</th>\n",
       "      <th>street_name</th>\n",
       "      <th>type</th>\n",
       "      <th>suffix</th>\n",
       "      <th>beat</th>\n",
       "      <th>premise</th>\n",
       "    </tr>\n",
       "  </thead>\n",
       "  <tbody>\n",
       "    <tr>\n",
       "      <th>0</th>\n",
       "      <td>2011-04-13 01:00:00</td>\n",
       "      <td>1</td>\n",
       "      <td>Murder</td>\n",
       "      <td>6400-6499</td>\n",
       "      <td>BANKSIDE</td>\n",
       "      <td>DR</td>\n",
       "      <td>-</td>\n",
       "      <td>17E40</td>\n",
       "      <td>20A</td>\n",
       "    </tr>\n",
       "    <tr>\n",
       "      <th>1</th>\n",
       "      <td>2011-04-06 14:00:00</td>\n",
       "      <td>1</td>\n",
       "      <td>Murder</td>\n",
       "      <td>2900-2999</td>\n",
       "      <td>HAYES</td>\n",
       "      <td>RD</td>\n",
       "      <td>-</td>\n",
       "      <td>20G30</td>\n",
       "      <td>20A</td>\n",
       "    </tr>\n",
       "    <tr>\n",
       "      <th>2</th>\n",
       "      <td>2011-01-10 19:00:00</td>\n",
       "      <td>1</td>\n",
       "      <td>Murder</td>\n",
       "      <td>8400-8499</td>\n",
       "      <td>GLENSCOT</td>\n",
       "      <td>-</td>\n",
       "      <td>-</td>\n",
       "      <td>13D20</td>\n",
       "      <td>20R</td>\n",
       "    </tr>\n",
       "    <tr>\n",
       "      <th>3</th>\n",
       "      <td>2011-04-03 23:00:00</td>\n",
       "      <td>1</td>\n",
       "      <td>Murder</td>\n",
       "      <td>10700-10799</td>\n",
       "      <td>BELLFORT</td>\n",
       "      <td>ST</td>\n",
       "      <td>W</td>\n",
       "      <td>19G50</td>\n",
       "      <td>18N</td>\n",
       "    </tr>\n",
       "    <tr>\n",
       "      <th>4</th>\n",
       "      <td>2011-04-17 23:00:00</td>\n",
       "      <td>1</td>\n",
       "      <td>Murder</td>\n",
       "      <td>2500-2599</td>\n",
       "      <td>BROADWAY</td>\n",
       "      <td>ST</td>\n",
       "      <td>-</td>\n",
       "      <td>11H20</td>\n",
       "      <td>20A</td>\n",
       "    </tr>\n",
       "    <tr>\n",
       "      <th>...</th>\n",
       "      <td>...</td>\n",
       "      <td>...</td>\n",
       "      <td>...</td>\n",
       "      <td>...</td>\n",
       "      <td>...</td>\n",
       "      <td>...</td>\n",
       "      <td>...</td>\n",
       "      <td>...</td>\n",
       "      <td>...</td>\n",
       "    </tr>\n",
       "    <tr>\n",
       "      <th>127654</th>\n",
       "      <td>2011-09-30 17:00:00</td>\n",
       "      <td>1</td>\n",
       "      <td>Theft</td>\n",
       "      <td>11300-11399</td>\n",
       "      <td>KATY</td>\n",
       "      <td>FWY</td>\n",
       "      <td>-</td>\n",
       "      <td>20G50</td>\n",
       "      <td>18R</td>\n",
       "    </tr>\n",
       "    <tr>\n",
       "      <th>127655</th>\n",
       "      <td>2011-09-30 22:00:00</td>\n",
       "      <td>1</td>\n",
       "      <td>Theft</td>\n",
       "      <td>18100-18199</td>\n",
       "      <td>GULF</td>\n",
       "      <td>FWY SER</td>\n",
       "      <td>E</td>\n",
       "      <td>12D70</td>\n",
       "      <td>18T</td>\n",
       "    </tr>\n",
       "    <tr>\n",
       "      <th>127656</th>\n",
       "      <td>2011-09-30 23:00:00</td>\n",
       "      <td>1</td>\n",
       "      <td>Theft</td>\n",
       "      <td>1500-1599</td>\n",
       "      <td>NORTH LP W</td>\n",
       "      <td>-</td>\n",
       "      <td>-</td>\n",
       "      <td>2A60</td>\n",
       "      <td>070</td>\n",
       "    </tr>\n",
       "    <tr>\n",
       "      <th>127657</th>\n",
       "      <td>2011-09-30 23:00:00</td>\n",
       "      <td>1</td>\n",
       "      <td>Theft</td>\n",
       "      <td>900-999</td>\n",
       "      <td>CORDELL</td>\n",
       "      <td>ST</td>\n",
       "      <td>-</td>\n",
       "      <td>2A20</td>\n",
       "      <td>070</td>\n",
       "    </tr>\n",
       "    <tr>\n",
       "      <th>127658</th>\n",
       "      <td>2011-09-30 21:00:00</td>\n",
       "      <td>1</td>\n",
       "      <td>Theft</td>\n",
       "      <td>5000-5099</td>\n",
       "      <td>WESTHEIMER</td>\n",
       "      <td>RD</td>\n",
       "      <td>-</td>\n",
       "      <td>18F20</td>\n",
       "      <td>18A</td>\n",
       "    </tr>\n",
       "  </tbody>\n",
       "</table>\n",
       "<p>127659 rows × 9 columns</p>\n",
       "</div>"
      ],
      "text/plain": [
       "                 date_time  offenses offense_type  block_range street_name  \\\n",
       "0      2011-04-13 01:00:00         1       Murder    6400-6499    BANKSIDE   \n",
       "1      2011-04-06 14:00:00         1       Murder    2900-2999       HAYES   \n",
       "2      2011-01-10 19:00:00         1       Murder    8400-8499    GLENSCOT   \n",
       "3      2011-04-03 23:00:00         1       Murder  10700-10799    BELLFORT   \n",
       "4      2011-04-17 23:00:00         1       Murder    2500-2599    BROADWAY   \n",
       "...                    ...       ...          ...          ...         ...   \n",
       "127654 2011-09-30 17:00:00         1        Theft  11300-11399        KATY   \n",
       "127655 2011-09-30 22:00:00         1        Theft  18100-18199        GULF   \n",
       "127656 2011-09-30 23:00:00         1        Theft    1500-1599  NORTH LP W   \n",
       "127657 2011-09-30 23:00:00         1        Theft      900-999     CORDELL   \n",
       "127658 2011-09-30 21:00:00         1        Theft    5000-5099  WESTHEIMER   \n",
       "\n",
       "           type suffix   beat premise  \n",
       "0            DR      -  17E40     20A  \n",
       "1            RD      -  20G30     20A  \n",
       "2             -      -  13D20     20R  \n",
       "3            ST      W  19G50     18N  \n",
       "4            ST      -  11H20     20A  \n",
       "...         ...    ...    ...     ...  \n",
       "127654      FWY      -  20G50     18R  \n",
       "127655  FWY SER      E  12D70     18T  \n",
       "127656        -      -   2A60     070  \n",
       "127657       ST      -   2A20     070  \n",
       "127658       RD      -  18F20     18A  \n",
       "\n",
       "[127659 rows x 9 columns]"
      ]
     },
     "execution_count": 25,
     "metadata": {},
     "output_type": "execute_result"
    }
   ],
   "source": [
    "df"
   ]
  },
  {
   "cell_type": "code",
   "execution_count": null,
   "metadata": {},
   "outputs": [],
   "source": []
  }
 ],
 "metadata": {
  "kernelspec": {
   "display_name": "Python 3",
   "language": "python",
   "name": "python3"
  },
  "language_info": {
   "codemirror_mode": {
    "name": "ipython",
    "version": 3
   },
   "file_extension": ".py",
   "mimetype": "text/x-python",
   "name": "python",
   "nbconvert_exporter": "python",
   "pygments_lexer": "ipython3",
   "version": "3.8.5"
  }
 },
 "nbformat": 4,
 "nbformat_minor": 4
}
