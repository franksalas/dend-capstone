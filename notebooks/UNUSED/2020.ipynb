{
 "cells": [
  {
   "cell_type": "code",
   "execution_count": 1,
   "metadata": {},
   "outputs": [
    {
     "data": {
      "text/html": [
       "        <script type=\"text/javascript\">\n",
       "        window.PlotlyConfig = {MathJaxConfig: 'local'};\n",
       "        if (window.MathJax) {MathJax.Hub.Config({SVG: {font: \"STIX-Web\"}});}\n",
       "        if (typeof require !== 'undefined') {\n",
       "        require.undef(\"plotly\");\n",
       "        requirejs.config({\n",
       "            paths: {\n",
       "                'plotly': ['https://cdn.plot.ly/plotly-latest.min']\n",
       "            }\n",
       "        });\n",
       "        require(['plotly'], function(Plotly) {\n",
       "            window._Plotly = Plotly;\n",
       "        });\n",
       "        }\n",
       "        </script>\n",
       "        "
      ]
     },
     "metadata": {},
     "output_type": "display_data"
    },
    {
     "name": "stdout",
     "output_type": "stream",
     "text": [
      "\n",
      "python\t3.8.5 (default, Sep  4 2020, 07:30:14) \n",
      "[GCC 7.3.0]\n",
      "---------------------\n",
      "Versions:\n",
      "----------------------\n",
      "pandas      1.1.2\n",
      "numpy       1.19.1\n",
      "matplotlib  3.3.1\n",
      "seaborn     0.11.0\n",
      "plotly      4.11.0\n",
      "----------------------\n",
      "\n",
      "\n",
      "Loaded Libraries\n",
      "-------------------\n",
      "import pandas as pd\n",
      "import numpy as np\n",
      "import sys,os\n",
      "import re\n",
      "import glob\n",
      "import pickle\n",
      "import seaborn as sns\n",
      "import matplotlib.pyplot as plt\n",
      "import plotly\n",
      "import plotly.graph_objs as go\n",
      "from plotly.offline import download_plotlyjs, init_notebook_mode, plot, iplot\n",
      "init_notebook_mode(connected=True)\n",
      "----------------\n",
      "\n",
      "\n",
      "GLOBAL VARIABLES\n",
      "--------------------------\n",
      "HERE_DIR: list current directory path\n",
      "RAW_DIR: list files in `data\\raw` directory\n",
      "INTER_DIR: list files in `data\\interim` directory\n",
      "FINAL_DIR: list files in `data\\final` directory\n",
      "SRC_DIR: list files in `src\\` directory\n",
      "------------------------------\n",
      "\n",
      "# SAVE PLOTS\n",
      "To save a plot call\n",
      "`save_plots(fig_variable,'name_of_plot')`\n",
      "\n",
      "source file: src/start.py\n",
      "\n",
      "\n"
     ]
    }
   ],
   "source": [
    "%run ../src/start.py"
   ]
  },
  {
   "cell_type": "markdown",
   "metadata": {},
   "source": [
    "# Explore Crime data"
   ]
  },
  {
   "cell_type": "code",
   "execution_count": 5,
   "metadata": {},
   "outputs": [
    {
     "name": "stdout",
     "output_type": "stream",
     "text": [
      "\u001b[0m\u001b[01;32m'~$NIBRSPublicView.Jan1-Dec31-2020.xlsx'\u001b[0m*\r\n",
      " \u001b[01;32mNIBRSPublicView.Jan1-Dec31-2020.csv\u001b[0m*\r\n",
      " \u001b[01;32mNIBRSPublicView.Jan1-Dec31-2020.xlsx\u001b[0m*\r\n"
     ]
    }
   ],
   "source": [
    "ls ../data/raw/crime_data/2020"
   ]
  },
  {
   "cell_type": "code",
   "execution_count": 7,
   "metadata": {},
   "outputs": [],
   "source": [
    "file_name = 'NIBRSPublicView.Jan1-Dec31-2020.csv'\n",
    "raw_data = os.path.join('..', 'data','raw','crime_data','2020',f'{file_name}')"
   ]
  },
  {
   "cell_type": "code",
   "execution_count": 46,
   "metadata": {},
   "outputs": [
    {
     "name": "stdout",
     "output_type": "stream",
     "text": [
      "<class 'pandas.core.frame.DataFrame'>\n",
      "RangeIndex: 247911 entries, 0 to 247910\n",
      "Data columns (total 14 columns):\n",
      " #   Column            Non-Null Count   Dtype \n",
      "---  ------            --------------   ----- \n",
      " 0   incident          247911 non-null  int64 \n",
      " 1   occurrence_date   247911 non-null  object\n",
      " 2   occurrence_hour   247911 non-null  int64 \n",
      " 3   nibrs_class       247911 non-null  object\n",
      " 4   nibrsdescription  247911 non-null  object\n",
      " 5   offense_count     247911 non-null  int64 \n",
      " 6   beat              247705 non-null  object\n",
      " 7   premise           247910 non-null  object\n",
      " 8   block_range       247339 non-null  object\n",
      " 9   streetname        247911 non-null  object\n",
      " 10  street_type       228497 non-null  object\n",
      " 11  suffix            36290 non-null   object\n",
      " 12  city              247911 non-null  object\n",
      " 13  zip_code          245155 non-null  object\n",
      "dtypes: int64(3), object(11)\n",
      "memory usage: 26.5+ MB\n"
     ]
    }
   ],
   "source": [
    "df = pd.read_csv(raw_data)\n",
    "df.columns = df.columns.str.lower().str.replace(' ','_').str.replace('\\n','_').str.strip()\n",
    "df.info()"
   ]
  },
  {
   "cell_type": "code",
   "execution_count": 32,
   "metadata": {},
   "outputs": [],
   "source": [
    "# clean columns\n",
    "df.columns = df.columns.str.lower().str.replace(' ','_').str.replace('\\n','_').str.strip()"
   ]
  },
  {
   "cell_type": "code",
   "execution_count": 33,
   "metadata": {},
   "outputs": [
    {
     "data": {
      "text/plain": [
       "['incident',\n",
       " 'occurrence_date',\n",
       " 'occurrence_hour',\n",
       " 'nibrs_class',\n",
       " 'nibrsdescription',\n",
       " 'offense_count',\n",
       " 'beat',\n",
       " 'premise',\n",
       " 'block_range',\n",
       " 'streetname',\n",
       " 'street_type',\n",
       " 'suffix',\n",
       " 'city',\n",
       " 'zip_code']"
      ]
     },
     "execution_count": 33,
     "metadata": {},
     "output_type": "execute_result"
    }
   ],
   "source": [
    "df.columns.tolist()"
   ]
  },
  {
   "cell_type": "code",
   "execution_count": 36,
   "metadata": {},
   "outputs": [
    {
     "data": {
      "text/html": [
       "<div>\n",
       "<style scoped>\n",
       "    .dataframe tbody tr th:only-of-type {\n",
       "        vertical-align: middle;\n",
       "    }\n",
       "\n",
       "    .dataframe tbody tr th {\n",
       "        vertical-align: top;\n",
       "    }\n",
       "\n",
       "    .dataframe thead th {\n",
       "        text-align: right;\n",
       "    }\n",
       "</style>\n",
       "<table border=\"1\" class=\"dataframe\">\n",
       "  <thead>\n",
       "    <tr style=\"text-align: right;\">\n",
       "      <th></th>\n",
       "      <th>0</th>\n",
       "      <th>1</th>\n",
       "      <th>2</th>\n",
       "      <th>3</th>\n",
       "      <th>4</th>\n",
       "    </tr>\n",
       "  </thead>\n",
       "  <tbody>\n",
       "    <tr>\n",
       "      <th>incident</th>\n",
       "      <td>79220</td>\n",
       "      <td>59342520</td>\n",
       "      <td>123324720</td>\n",
       "      <td>233120</td>\n",
       "      <td>240920</td>\n",
       "    </tr>\n",
       "    <tr>\n",
       "      <th>occurrence_date</th>\n",
       "      <td>1/1/2020</td>\n",
       "      <td>1/1/2020</td>\n",
       "      <td>1/1/2020</td>\n",
       "      <td>1/1/2020</td>\n",
       "      <td>1/1/2020</td>\n",
       "    </tr>\n",
       "    <tr>\n",
       "      <th>occurrence_hour</th>\n",
       "      <td>0</td>\n",
       "      <td>0</td>\n",
       "      <td>0</td>\n",
       "      <td>0</td>\n",
       "      <td>0</td>\n",
       "    </tr>\n",
       "    <tr>\n",
       "      <th>nibrs_class</th>\n",
       "      <td>120</td>\n",
       "      <td>220</td>\n",
       "      <td>220</td>\n",
       "      <td>240</td>\n",
       "      <td>240</td>\n",
       "    </tr>\n",
       "    <tr>\n",
       "      <th>nibrsdescription</th>\n",
       "      <td>Robbery</td>\n",
       "      <td>Burglary, Breaking and Entering</td>\n",
       "      <td>Burglary, Breaking and Entering</td>\n",
       "      <td>Motor vehicle theft</td>\n",
       "      <td>Motor vehicle theft</td>\n",
       "    </tr>\n",
       "    <tr>\n",
       "      <th>offense_count</th>\n",
       "      <td>1</td>\n",
       "      <td>1</td>\n",
       "      <td>1</td>\n",
       "      <td>1</td>\n",
       "      <td>1</td>\n",
       "    </tr>\n",
       "    <tr>\n",
       "      <th>beat</th>\n",
       "      <td>12D60</td>\n",
       "      <td>14D40</td>\n",
       "      <td>4F10</td>\n",
       "      <td>16E30</td>\n",
       "      <td>20G30</td>\n",
       "    </tr>\n",
       "    <tr>\n",
       "      <th>premise</th>\n",
       "      <td>Residence, Home (Includes Apartment)</td>\n",
       "      <td>Residence, Home (Includes Apartment)</td>\n",
       "      <td>Restaurant</td>\n",
       "      <td>Parking Lot, Garage</td>\n",
       "      <td>Residence, Home (Includes Apartment)</td>\n",
       "    </tr>\n",
       "    <tr>\n",
       "      <th>block_range</th>\n",
       "      <td>16302</td>\n",
       "      <td>12000</td>\n",
       "      <td>9440</td>\n",
       "      <td>14711</td>\n",
       "      <td>3030</td>\n",
       "    </tr>\n",
       "    <tr>\n",
       "      <th>streetname</th>\n",
       "      <td>EL CAMINO REAL</td>\n",
       "      <td>MARTIN LUTHER KING</td>\n",
       "      <td>KATY</td>\n",
       "      <td>MAIN</td>\n",
       "      <td>SHADOWBRIAR</td>\n",
       "    </tr>\n",
       "    <tr>\n",
       "      <th>street_type</th>\n",
       "      <td>NaN</td>\n",
       "      <td>BLVD</td>\n",
       "      <td>FWY</td>\n",
       "      <td>ST</td>\n",
       "      <td>DR</td>\n",
       "    </tr>\n",
       "    <tr>\n",
       "      <th>suffix</th>\n",
       "      <td>NaN</td>\n",
       "      <td>NaN</td>\n",
       "      <td>NaN</td>\n",
       "      <td>NaN</td>\n",
       "      <td>NaN</td>\n",
       "    </tr>\n",
       "    <tr>\n",
       "      <th>city</th>\n",
       "      <td>HOUSTON</td>\n",
       "      <td>HOUSTON</td>\n",
       "      <td>HOUSTON</td>\n",
       "      <td>HOUSTON</td>\n",
       "      <td>HOUSTON</td>\n",
       "    </tr>\n",
       "    <tr>\n",
       "      <th>zip_code</th>\n",
       "      <td>77062</td>\n",
       "      <td>77048</td>\n",
       "      <td>77055</td>\n",
       "      <td>77085</td>\n",
       "      <td>77082</td>\n",
       "    </tr>\n",
       "  </tbody>\n",
       "</table>\n",
       "</div>"
      ],
      "text/plain": [
       "                                                     0  \\\n",
       "incident                                         79220   \n",
       "occurrence_date                               1/1/2020   \n",
       "occurrence_hour                                      0   \n",
       "nibrs_class                                        120   \n",
       "nibrsdescription                               Robbery   \n",
       "offense_count                                        1   \n",
       "beat                                             12D60   \n",
       "premise           Residence, Home (Includes Apartment)   \n",
       "block_range                                      16302   \n",
       "streetname                              EL CAMINO REAL   \n",
       "street_type                                        NaN   \n",
       "suffix                                             NaN   \n",
       "city                                           HOUSTON   \n",
       "zip_code                                         77062   \n",
       "\n",
       "                                                     1  \\\n",
       "incident                                      59342520   \n",
       "occurrence_date                               1/1/2020   \n",
       "occurrence_hour                                      0   \n",
       "nibrs_class                                        220   \n",
       "nibrsdescription       Burglary, Breaking and Entering   \n",
       "offense_count                                        1   \n",
       "beat                                             14D40   \n",
       "premise           Residence, Home (Includes Apartment)   \n",
       "block_range                                      12000   \n",
       "streetname                          MARTIN LUTHER KING   \n",
       "street_type                                       BLVD   \n",
       "suffix                                             NaN   \n",
       "city                                           HOUSTON   \n",
       "zip_code                                         77048   \n",
       "\n",
       "                                                2                    3  \\\n",
       "incident                                123324720               233120   \n",
       "occurrence_date                          1/1/2020             1/1/2020   \n",
       "occurrence_hour                                 0                    0   \n",
       "nibrs_class                                   220                  240   \n",
       "nibrsdescription  Burglary, Breaking and Entering  Motor vehicle theft   \n",
       "offense_count                                   1                    1   \n",
       "beat                                         4F10                16E30   \n",
       "premise                                Restaurant  Parking Lot, Garage   \n",
       "block_range                                  9440                14711   \n",
       "streetname                                   KATY                 MAIN   \n",
       "street_type                                   FWY                   ST   \n",
       "suffix                                        NaN                  NaN   \n",
       "city                                      HOUSTON              HOUSTON   \n",
       "zip_code                                    77055                77085   \n",
       "\n",
       "                                                     4  \n",
       "incident                                        240920  \n",
       "occurrence_date                               1/1/2020  \n",
       "occurrence_hour                                      0  \n",
       "nibrs_class                                        240  \n",
       "nibrsdescription                   Motor vehicle theft  \n",
       "offense_count                                        1  \n",
       "beat                                             20G30  \n",
       "premise           Residence, Home (Includes Apartment)  \n",
       "block_range                                       3030  \n",
       "streetname                                 SHADOWBRIAR  \n",
       "street_type                                         DR  \n",
       "suffix                                             NaN  \n",
       "city                                           HOUSTON  \n",
       "zip_code                                         77082  "
      ]
     },
     "execution_count": 36,
     "metadata": {},
     "output_type": "execute_result"
    }
   ],
   "source": [
    "df.head().T"
   ]
  },
  {
   "cell_type": "markdown",
   "metadata": {},
   "source": [
    "## Show null dat"
   ]
  },
  {
   "cell_type": "code",
   "execution_count": 38,
   "metadata": {},
   "outputs": [
    {
     "data": {
      "text/plain": [
       "incident                 0\n",
       "occurrence_date          0\n",
       "occurrence_hour          0\n",
       "nibrs_class              0\n",
       "nibrsdescription         0\n",
       "offense_count            0\n",
       "beat                   206\n",
       "premise                  1\n",
       "block_range            572\n",
       "streetname               0\n",
       "street_type          19414\n",
       "suffix              211621\n",
       "city                     0\n",
       "zip_code              2756\n",
       "dtype: int64"
      ]
     },
     "execution_count": 38,
     "metadata": {},
     "output_type": "execute_result"
    }
   ],
   "source": [
    "df.apply(lambda x: sum(x.isnull()))"
   ]
  },
  {
   "cell_type": "code",
   "execution_count": 37,
   "metadata": {},
   "outputs": [
    {
     "data": {
      "image/png": "[encoded data removed]",
      "text/plain": [
       "<Figure size 1080x288 with 1 Axes>"
      ]
     },
     "metadata": {},
     "output_type": "display_data"
    }
   ],
   "source": [
    "plt.figure(figsize=(15,4))\n",
    "sns.heatmap(df.isnull(),yticklabels=False,cbar=False,cmap='viridis')\n",
    "plt.title('Missing data')\n",
    "plt.show()"
   ]
  },
  {
   "cell_type": "markdown",
   "metadata": {},
   "source": [
    "## Explore columns"
   ]
  },
  {
   "cell_type": "code",
   "execution_count": 39,
   "metadata": {},
   "outputs": [
    {
     "data": {
      "text/plain": [
       "Index(['incident', 'occurrence_date', 'occurrence_hour', 'nibrs_class',\n",
       "       'nibrsdescription', 'offense_count', 'beat', 'premise', 'block_range',\n",
       "       'streetname', 'street_type', 'suffix', 'city', 'zip_code'],\n",
       "      dtype='object')"
      ]
     },
     "execution_count": 39,
     "metadata": {},
     "output_type": "execute_result"
    }
   ],
   "source": [
    "df.columns\n"
   ]
  },
  {
   "cell_type": "code",
   "execution_count": 44,
   "metadata": {},
   "outputs": [
    {
     "data": {
      "text/plain": [
       "23F    27720\n",
       "13B    25532\n",
       "290    23315\n",
       "13C    18352\n",
       "23H    17834\n",
       "13A    16415\n",
       "220    15373\n",
       "240    14669\n",
       "90Z    13686\n",
       "23C    11841\n",
       "120     8816\n",
       "35A     7759\n",
       "90D     7508\n",
       "23G     7353\n",
       "90J     5418\n",
       "520     2930\n",
       "23D     2869\n",
       "26F     2543\n",
       "26B     2343\n",
       "26A     2225\n",
       "250     2093\n",
       "90C     2050\n",
       "35B     1205\n",
       "90E      880\n",
       "11A      691\n",
       "90F      565\n",
       "200      532\n",
       "11D      487\n",
       "11B      415\n",
       "370      414\n",
       "09A      385\n",
       "40A      363\n",
       "23B      348\n",
       "280      336\n",
       "270      325\n",
       "720      310\n",
       "40C      252\n",
       "100      236\n",
       "23A      232\n",
       "23E      226\n",
       "210      194\n",
       "26G      100\n",
       "90A      100\n",
       "64A       98\n",
       "26C       94\n",
       "36B       83\n",
       "11C       75\n",
       "90G       64\n",
       "40B       53\n",
       "90B       46\n",
       "26E       37\n",
       "90H       29\n",
       "26D       20\n",
       "510       16\n",
       "39C       15\n",
       "90I       13\n",
       "09B       12\n",
       "39A        5\n",
       "39B        4\n",
       "64B        3\n",
       "36A        3\n",
       "09C        1\n",
       "Name: nibrs_class, dtype: int64"
      ]
     },
     "execution_count": 44,
     "metadata": {},
     "output_type": "execute_result"
    }
   ],
   "source": [
    "df.nibrs_class.value_counts()"
   ]
  },
  {
   "cell_type": "code",
   "execution_count": 43,
   "metadata": {},
   "outputs": [
    {
     "data": {
      "text/plain": [
       "Theft from motor vehicle                     27720\n",
       "Simple assault                               25532\n",
       "Destruction, damage, vandalism               23315\n",
       "Intimidation                                 18352\n",
       "All other larceny                            17834\n",
       "Aggravated Assault                           16415\n",
       "Burglary, Breaking and Entering              15373\n",
       "Motor vehicle theft                          14669\n",
       "All other offenses                           13686\n",
       "Shoplifting                                  11841\n",
       "Robbery                                       8816\n",
       "Drug, narcotic violations                     7759\n",
       "Driving under the influence                   7508\n",
       "Theft of motor vehicle parts or accessory     7353\n",
       "Trespass of real property                     5418\n",
       "Weapon law violations                         2930\n",
       "Theft from building                           2869\n",
       "Identify theft                                2543\n",
       "Credit card, ATM fraud                        2343\n",
       "False pretenses, swindle                      2225\n",
       "Counterfeiting, forgery                       2093\n",
       "Disorderly conduct                            2050\n",
       "Drug equipment violations                     1205\n",
       "Drunkenness                                    880\n",
       "Forcible rape                                  691\n",
       "Family offenses, no violence                   565\n",
       "Arson                                          532\n",
       "Forcible fondling                              487\n",
       "Forcible sodomy                                415\n",
       "Pornographs, obscene material                  414\n",
       "Murder, non-negligent                          385\n",
       "Prostitution                                   363\n",
       "Purse-snatching                                348\n",
       "Stolen property offenses                       336\n",
       "Embezzlement                                   325\n",
       "Animal Cruelty                                 310\n",
       "Purchasing prostitution                        252\n",
       "Kidnapping, abduction                          236\n",
       "Pocket-picking                                 232\n",
       "From coin-operated machine or device           226\n",
       "Extortion, Blackmail                           194\n",
       "Hacking/Computer Invasion                      100\n",
       "Bad checks                                     100\n",
       "Human Trafficking/Commercial Sex Act            98\n",
       "Impersonation                                   94\n",
       "Statutory rape                                  83\n",
       "Sexual assault with an object                   75\n",
       "Liquor law violations                           64\n",
       "Assisting or promoting prostitution             53\n",
       "Curfew, loitering, vagrancy violations          46\n",
       "Wire fraud                                      37\n",
       "Peeping tom                                     29\n",
       "Welfare fraud                                   20\n",
       "Bribery                                         16\n",
       "Gambling equipment violations                   15\n",
       "Runaway                                         13\n",
       "Negligent manslaughter                          12\n",
       "Betting/wagering                                 5\n",
       "Promoting gambling                               4\n",
       "Incest                                           3\n",
       "Human Trafficking/Involuntary Servitude          3\n",
       "Justifiable homicide                             1\n",
       "Name: nibrsdescription, dtype: int64"
      ]
     },
     "execution_count": 43,
     "metadata": {},
     "output_type": "execute_result"
    }
   ],
   "source": [
    "df.nibrsdescription.value_counts()"
   ]
  },
  {
   "cell_type": "code",
   "execution_count": null,
   "metadata": {},
   "outputs": [],
   "source": []
  }
 ],
 "metadata": {
  "kernelspec": {
   "display_name": "Python 3",
   "language": "python",
   "name": "python3"
  },
  "language_info": {
   "codemirror_mode": {
    "name": "ipython",
    "version": 3
   },
   "file_extension": ".py",
   "mimetype": "text/x-python",
   "name": "python",
   "nbconvert_exporter": "python",
   "pygments_lexer": "ipython3",
   "version": "3.8.5"
  }
 },
 "nbformat": 4,
 "nbformat_minor": 4
}
