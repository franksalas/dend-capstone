{
 "cells": [
  {
   "cell_type": "markdown",
   "id": "a43a1aac-37b9-4ff6-a8a2-e325602d2d87",
   "metadata": {},
   "source": [
    "# Explore Data"
   ]
  },
  {
   "cell_type": "code",
   "execution_count": 3,
   "id": "31b9c687-ae10-41e7-b1d5-2720e166986c",
   "metadata": {},
   "outputs": [],
   "source": [
    "import psycopg2\n",
    "import pandas as pd\n",
    "import redshift_connector\n",
    "from config_loader import *\n",
    "\n",
    "import seaborn as sns\n",
    "sns.set(rc={'figure.figsize':(10,5)})\n",
    "import matplotlib.pyplot as plt\n",
    "import matplotlib\n",
    "# increase size of standar plots\n",
    "plt.rcParams[\"figure.figsize\"] = [10, 5]"
   ]
  },
  {
   "cell_type": "markdown",
   "id": "fae68f22-9ee7-4f50-9491-be055a3ef80f",
   "metadata": {},
   "source": [
    "## Helper functions"
   ]
  },
  {
   "cell_type": "code",
   "execution_count": 4,
   "id": "b9900e9f-fa75-462f-aa7c-69c1e60f15e0",
   "metadata": {},
   "outputs": [],
   "source": [
    "def get_data_redshift(query):\n",
    "    '''function to return data from table in tuple form'''\n",
    "    with redshift_connector.connect(\n",
    "        host=db_host,\n",
    "        database=db_name,\n",
    "        user=db_user,\n",
    "        password=db_pass\n",
    "    )as conn:\n",
    "        with conn.cursor() as cursor:\n",
    "            cursor.execute(query)\n",
    "            result = cursor.fetchall()\n",
    "    return result\n",
    "\n",
    "\n",
    "def get_cols_redshift(table):\n",
    "    '''function to get column names from given table name'''\n",
    "    query = f\"\"\"\n",
    "            select ordinal_position as position,\n",
    "                   column_name,\n",
    "                   data_type,\n",
    "                   case when character_maximum_length is not null\n",
    "                        then character_maximum_length\n",
    "                        else numeric_precision end as max_length,\n",
    "                   is_nullable,\n",
    "                   column_default as default_value\n",
    "            from information_schema.columns\n",
    "            where table_name = '{table}' -- enter table name here\n",
    "                  -- and table_schema = 'Schema name'\n",
    "            order by ordinal_position;\n",
    "            \"\"\"\n",
    "    with redshift_connector.connect(\n",
    "        host=db_host,\n",
    "        database=db_name,\n",
    "        user=db_user,\n",
    "        password=db_pass\n",
    "    )as conn:\n",
    "        with conn.cursor() as cursor:\n",
    "            cursor.execute(query)\n",
    "            result = cursor.fetchall()\n",
    "            columns = [lis[1] for lis in result]\n",
    "    return columns\n",
    "\n",
    "\n",
    "def create_df(table_cols, table_data):\n",
    "    '''returnd dataframe from table cols & table data'''\n",
    "    df = pd.DataFrame(table_data, columns=table_cols)\n",
    "    return df\n",
    "\n",
    "\n",
    "\n",
    "def barplot(frame,col,title,nums=True,save=False):    \n",
    "    fig,ax = plt.subplots(figsize=(10,5))\n",
    "    ax = sns.countplot(x=col,data=frame,alpha=0.65, order=frame['{}'.format(col)].value_counts().index)\n",
    "    max_value = frame['{}'.format(col)].value_counts().max()\n",
    "\n",
    "    plt.ylim(0,max_value+(max_value/8))\n",
    "    ax.set_xticklabels(ax.get_xticklabels(), rotation=20, ha=\"right\")\n",
    "    ax.set_title(title)\n",
    "\n",
    "    height_factor=1.05\n",
    "    if nums == True:\n",
    "        for i in ax.patches:\n",
    "            height = i.get_height()\n",
    "            ax.text(i.get_x() + i.get_width()/2., height_factor*height,'%d' % int(height), ha='center', va='bottom')\n",
    "\n",
    "    if save==True:\n",
    "        plt.savefig('{}.png'.format(title))"
   ]
  },
  {
   "cell_type": "markdown",
   "id": "26930f2c-006e-4e31-b3db-459aac7b42c8",
   "metadata": {},
   "source": [
    "# Get table names"
   ]
  },
  {
   "cell_type": "code",
   "execution_count": 5,
   "id": "c27f8ae2-8f87-4772-af1e-8ca7cdaa3f9d",
   "metadata": {},
   "outputs": [
    {
     "data": {
      "text/plain": [
       "(['offense_dim'],\n",
       " ['police_beat_dim'],\n",
       " ['premise_dim'],\n",
       " ['address_dim'],\n",
       " ['datetime_dim'],\n",
       " ['crime_fact'])"
      ]
     },
     "execution_count": 5,
     "metadata": {},
     "output_type": "execute_result"
    }
   ],
   "source": [
    "query = \"\"\"\n",
    "SELECT \n",
    "    table_name\n",
    "FROM \n",
    "    information_schema.tables\n",
    "WHERE \n",
    "    table_type='BASE TABLE'\n",
    "AND \n",
    "    table_schema='public';\n",
    "\"\"\"\n",
    "get_data_redshift(query)"
   ]
  },
  {
   "cell_type": "code",
   "execution_count": null,
   "id": "5caba678-2d71-4521-8f3e-fd1e24140757",
   "metadata": {},
   "outputs": [],
   "source": []
  },
  {
   "cell_type": "markdown",
   "id": "d16552c3-0e8d-4201-9b42-40ed2f1efe79",
   "metadata": {},
   "source": [
    "# Count rows in `crime_fact` table"
   ]
  },
  {
   "cell_type": "code",
   "execution_count": 6,
   "id": "ac0dab15-62da-47cc-b66c-f0de1bd56079",
   "metadata": {},
   "outputs": [
    {
     "data": {
      "text/plain": [
       "([1125101],)"
      ]
     },
     "execution_count": 6,
     "metadata": {},
     "output_type": "execute_result"
    }
   ],
   "source": [
    "query = \"\"\"\n",
    "SELECT \n",
    "    COUNT(crime_fact_id)\n",
    "FROM\n",
    "    crime_fact\n",
    "    \n",
    "\"\"\"\n",
    "get_data_redshift(query)"
   ]
  },
  {
   "cell_type": "markdown",
   "id": "eea823b9-c586-4441-af91-5039fa7e8125",
   "metadata": {},
   "source": [
    "### we have total of 1,125,101 rows"
   ]
  },
  {
   "cell_type": "markdown",
   "id": "f338db24-b5b0-4acc-87ef-59ff16b5f926",
   "metadata": {},
   "source": [
    "# get `premise_dim` table"
   ]
  },
  {
   "cell_type": "code",
   "execution_count": null,
   "id": "35160345-07f6-4334-905f-bc35ff56165b",
   "metadata": {},
   "outputs": [],
   "source": [
    "premise_cols = get_cols_redshift(\"premise_dim\")\n",
    "premise_cols"
   ]
  },
  {
   "cell_type": "code",
   "execution_count": null,
   "id": "2e7473c2-64c4-410c-96d9-f4f6c2a516cb",
   "metadata": {},
   "outputs": [],
   "source": [
    "# premise data\n",
    "query = \"\"\"\n",
    "SELECT \n",
    "    *\n",
    "FROM \n",
    "    premise_dim\n",
    "\"\"\"\n",
    "premise_data = get_data_redshift(query)"
   ]
  },
  {
   "cell_type": "code",
   "execution_count": null,
   "id": "7d4eae19-6f71-4254-8036-ab0b9fa72ebc",
   "metadata": {},
   "outputs": [],
   "source": [
    "# create dataframe from table\n",
    "df_premise = create_df(premise_cols,premise_data)\n",
    "df_premise.head()"
   ]
  },
  {
   "cell_type": "markdown",
   "id": "8e24e25b-0b78-44ce-9de0-1010f508f74a",
   "metadata": {},
   "source": [
    "# Join tables\n",
    "- get temperature, month, year  and offense type\n",
    "- create a dataframe"
   ]
  },
  {
   "cell_type": "code",
   "execution_count": 7,
   "id": "5a43f94f-5af4-49a3-929a-fba9308092e3",
   "metadata": {},
   "outputs": [
    {
     "name": "stdout",
     "output_type": "stream",
     "text": [
      "CPU times: user 4.61 s, sys: 166 ms, total: 4.78 s\n",
      "Wall time: 6.16 s\n"
     ]
    }
   ],
   "source": [
    "%%time\n",
    "query = \"\"\"\n",
    "SELECT \n",
    "     dd.date_time,dd.month,dd.year, cf.temp, od.offense_type\n",
    "FROM \n",
    "    crime_fact as cf\n",
    "INNER JOIN\n",
    "    datetime_dim as dd\n",
    "ON\n",
    "    cf.datetime_id = dd.datetime_id\n",
    "INNER JOIN\n",
    "    offense_dim as od\n",
    "ON\n",
    "    cf.offense_dim_id = od.offense_id\n",
    "--limit 10\n",
    "\"\"\"\n",
    "\n",
    "query_data = data = get_data_redshift(query)\n",
    "df = create_df([\"datetime\",\"month\",\"year\",\"temp\",\"offense_type\"],query_data)"
   ]
  },
  {
   "cell_type": "code",
   "execution_count": 8,
   "id": "a6c5b058-bcbf-42c2-8a8b-16dd2c2f35d2",
   "metadata": {},
   "outputs": [
    {
     "name": "stdout",
     "output_type": "stream",
     "text": [
      "<class 'pandas.core.frame.DataFrame'>\n",
      "RangeIndex: 1125101 entries, 0 to 1125100\n",
      "Data columns (total 5 columns):\n",
      " #   Column        Non-Null Count    Dtype \n",
      "---  ------        --------------    ----- \n",
      " 0   datetime      1125101 non-null  object\n",
      " 1   month         1125101 non-null  int64 \n",
      " 2   year          1125101 non-null  int64 \n",
      " 3   temp          1125101 non-null  int64 \n",
      " 4   offense_type  1125101 non-null  object\n",
      "dtypes: int64(3), object(2)\n",
      "memory usage: 42.9+ MB\n"
     ]
    }
   ],
   "source": [
    "df.info()"
   ]
  },
  {
   "cell_type": "code",
   "execution_count": 9,
   "id": "35e8b77e-662d-4e72-9bef-b52316135b12",
   "metadata": {},
   "outputs": [
    {
     "data": {
      "text/html": [
       "<div>\n",
       "<style scoped>\n",
       "    .dataframe tbody tr th:only-of-type {\n",
       "        vertical-align: middle;\n",
       "    }\n",
       "\n",
       "    .dataframe tbody tr th {\n",
       "        vertical-align: top;\n",
       "    }\n",
       "\n",
       "    .dataframe thead th {\n",
       "        text-align: right;\n",
       "    }\n",
       "</style>\n",
       "<table border=\"1\" class=\"dataframe\">\n",
       "  <thead>\n",
       "    <tr style=\"text-align: right;\">\n",
       "      <th></th>\n",
       "      <th>datetime</th>\n",
       "      <th>month</th>\n",
       "      <th>year</th>\n",
       "      <th>temp</th>\n",
       "      <th>offense_type</th>\n",
       "    </tr>\n",
       "  </thead>\n",
       "  <tbody>\n",
       "    <tr>\n",
       "      <th>0</th>\n",
       "      <td>2009-08-01 00:00:00</td>\n",
       "      <td>8</td>\n",
       "      <td>2009</td>\n",
       "      <td>86</td>\n",
       "      <td>Robbery</td>\n",
       "    </tr>\n",
       "    <tr>\n",
       "      <th>1</th>\n",
       "      <td>2009-08-01 00:00:00</td>\n",
       "      <td>8</td>\n",
       "      <td>2009</td>\n",
       "      <td>86</td>\n",
       "      <td>Robbery</td>\n",
       "    </tr>\n",
       "    <tr>\n",
       "      <th>2</th>\n",
       "      <td>2009-08-01 00:00:00</td>\n",
       "      <td>8</td>\n",
       "      <td>2009</td>\n",
       "      <td>86</td>\n",
       "      <td>Robbery</td>\n",
       "    </tr>\n",
       "    <tr>\n",
       "      <th>3</th>\n",
       "      <td>2009-08-01 00:00:00</td>\n",
       "      <td>8</td>\n",
       "      <td>2009</td>\n",
       "      <td>86</td>\n",
       "      <td>Theft</td>\n",
       "    </tr>\n",
       "    <tr>\n",
       "      <th>4</th>\n",
       "      <td>2009-08-01 00:00:00</td>\n",
       "      <td>8</td>\n",
       "      <td>2009</td>\n",
       "      <td>86</td>\n",
       "      <td>Theft</td>\n",
       "    </tr>\n",
       "  </tbody>\n",
       "</table>\n",
       "</div>"
      ],
      "text/plain": [
       "              datetime  month  year  temp offense_type\n",
       "0  2009-08-01 00:00:00      8  2009    86      Robbery\n",
       "1  2009-08-01 00:00:00      8  2009    86      Robbery\n",
       "2  2009-08-01 00:00:00      8  2009    86      Robbery\n",
       "3  2009-08-01 00:00:00      8  2009    86        Theft\n",
       "4  2009-08-01 00:00:00      8  2009    86        Theft"
      ]
     },
     "execution_count": 9,
     "metadata": {},
     "output_type": "execute_result"
    }
   ],
   "source": [
    "df.head()"
   ]
  },
  {
   "cell_type": "code",
   "execution_count": null,
   "id": "e3007a01-abef-4bb6-ac69-cf7d5c315588",
   "metadata": {},
   "outputs": [],
   "source": []
  },
  {
   "cell_type": "code",
   "execution_count": null,
   "id": "68473cac-2056-4470-89a5-d2b01f7fea11",
   "metadata": {},
   "outputs": [],
   "source": [
    "df.datetime = pd.to_datetime(df.datetime)"
   ]
  },
  {
   "cell_type": "code",
   "execution_count": null,
   "id": "bf02ca3b-f60c-46a3-8638-9962eb3f8a16",
   "metadata": {},
   "outputs": [],
   "source": [
    "# convert to string \n",
    "df['month'] = pd.to_datetime(df['month'], format='%m').dt.month_name().str.slice(stop=3)"
   ]
  },
  {
   "cell_type": "code",
   "execution_count": null,
   "id": "d5401574-cfa1-4b39-a253-88d9f36aa1ea",
   "metadata": {},
   "outputs": [],
   "source": [
    "df.head()"
   ]
  },
  {
   "cell_type": "code",
   "execution_count": null,
   "id": "272f43d5-c609-4f3c-8ac5-1625d89308e9",
   "metadata": {},
   "outputs": [],
   "source": [
    "df.sort_values('datetime',inplace=True)"
   ]
  },
  {
   "cell_type": "code",
   "execution_count": null,
   "id": "68df457e-3b7c-4089-9a52-3feedd4af4c1",
   "metadata": {},
   "outputs": [],
   "source": [
    "sns.lineplot(data=df, x=\"month\", y=\"temp\")"
   ]
  },
  {
   "cell_type": "code",
   "execution_count": null,
   "id": "ca92ab30-884b-4d00-b19e-40a6a1bd41f4",
   "metadata": {},
   "outputs": [],
   "source": []
  },
  {
   "cell_type": "code",
   "execution_count": null,
   "id": "f94b9995-f9b4-4b4b-a48a-71f3f35c6989",
   "metadata": {},
   "outputs": [],
   "source": [
    "sns.countplot(x = 'offense_type', hue = 'month', data = df, palette = 'magma')\n",
    "plt.title('Crimes')\n",
    "plt.show()"
   ]
  },
  {
   "cell_type": "code",
   "execution_count": null,
   "id": "b1b730f9-f97f-4f5c-9d6b-b3029dc6c3bf",
   "metadata": {},
   "outputs": [],
   "source": [
    "df.loc[(df.offense_type == 'Rape') & (df.offense_type == 'Murder')]\n"
   ]
  },
  {
   "cell_type": "code",
   "execution_count": null,
   "id": "183fc5f7-9c34-4283-b326-9e92a7efb65f",
   "metadata": {},
   "outputs": [],
   "source": [
    "df.offense_type.value_counts()"
   ]
  },
  {
   "cell_type": "code",
   "execution_count": null,
   "id": "cd6f7b7e-5c0e-4c60-b2ea-b7dba1b451f9",
   "metadata": {},
   "outputs": [],
   "source": [
    "rm = df[df.offense_type.isin(['Rape','Murder'])]\n",
    "rm.head()"
   ]
  },
  {
   "cell_type": "code",
   "execution_count": null,
   "id": "6a2713a7-70f8-4108-9213-6a05163a55aa",
   "metadata": {},
   "outputs": [],
   "source": []
  },
  {
   "cell_type": "code",
   "execution_count": null,
   "id": "827714eb-9c59-4b78-b952-314530af5f04",
   "metadata": {},
   "outputs": [],
   "source": [
    "sns.countplot(x = 'offense_type', hue = 'month', data = rm, palette = 'magma')\n",
    "plt.title('Crimes')\n",
    "plt.show()"
   ]
  },
  {
   "cell_type": "code",
   "execution_count": null,
   "id": "b38ec283-1307-40cb-aa12-36b66a67e385",
   "metadata": {},
   "outputs": [],
   "source": []
  },
  {
   "cell_type": "code",
   "execution_count": null,
   "id": "a87f0b4a-ebc8-4a4e-b970-7c8ba9683ef8",
   "metadata": {},
   "outputs": [],
   "source": [
    "barplot(df,'offense_type',\"Crimes 2009-2018\",save=False)"
   ]
  },
  {
   "cell_type": "code",
   "execution_count": null,
   "id": "723d79aa-3a32-4122-b74d-0b22522c54b7",
   "metadata": {},
   "outputs": [],
   "source": [
    "t='Total Offenses :Month'\n",
    "xlab = ''\n",
    "ylab = ''\n",
    "\n",
    "barplot(df,'month',t,save=False)"
   ]
  },
  {
   "cell_type": "code",
   "execution_count": null,
   "id": "3aeca89e-7234-4bd7-85db-e99d80edb018",
   "metadata": {},
   "outputs": [],
   "source": [
    "t='Total Offenses :Year'\n",
    "\n",
    "barplot(df,'year',t,save=False)"
   ]
  },
  {
   "cell_type": "code",
   "execution_count": null,
   "id": "0d35eaf9-1a5f-4889-9c33-d94a2bd6a6d8",
   "metadata": {},
   "outputs": [],
   "source": []
  }
 ],
 "metadata": {
  "kernelspec": {
   "display_name": "Python 3 (ipykernel)",
   "language": "python",
   "name": "python3"
  },
  "language_info": {
   "codemirror_mode": {
    "name": "ipython",
    "version": 3
   },
   "file_extension": ".py",
   "mimetype": "text/x-python",
   "name": "python",
   "nbconvert_exporter": "python",
   "pygments_lexer": "ipython3",
   "version": "3.9.5"
  }
 },
 "nbformat": 4,
 "nbformat_minor": 5
}
